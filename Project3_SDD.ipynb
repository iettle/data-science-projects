{
 "cells": [
  {
   "cell_type": "markdown",
   "metadata": {},
   "source": [
    "<div style=\"border:solid green 2px; padding: 20px\"> <h1 style=\"color:green; margin-bottom:20px\">Reviewer's comment v1</h1>\n",
    "\n",
    "Hello Juliette, my name is Dmitrii Pyshnenko. Happy to review your project! 🙌\n",
    "\n",
    "As usual you can find my comments under the heading **«Review»**. I will categorize my comments in green, blue or red boxes like this:\n",
    "\n",
    "<div class=\"alert alert-success\">\n",
    "    <b>Success:</b> if everything is done successfully\n",
    "</div>\n",
    "<div class=\"alert alert-warning\">\n",
    "    <b>Remarks:</b> if I can give some recommendations or ways to improve the project\n",
    "</div>\n",
    "<div class=\"alert alert-danger\">\n",
    "    <b>Needs fixing:</b> if the block requires some corrections. Work can't be accepted with the red comments\n",
    "</div>\n",
    "\n",
    "Please don't remove my comments :) If you have any questions don't hesitate to respond to my comments in a different section. \n",
    "\n"
   ]
  },
  {
   "cell_type": "markdown",
   "metadata": {},
   "source": [
    "<div style=\"border:solid green 2px; padding: 20px\">\n",
    "<b>Reviewer's comment v1</b>\n",
    "    \n",
    "<b>Overall Feedback</b> \n",
    "    \n",
    "Overall well done! I can see that a lot of effort has been made! Your project already looks really good, and you accomplished impressive results.\n",
    "\n",
    "However, there are some comments/areas left to fix that will help you to make your project even better:\n",
    "\n",
    "- Add data rounding (calls/internet).\n",
    "  \n",
    "And of course, if you have any questions along the way, remember that you can always reach out to your tutor for any clarification.\n",
    "</div>"
   ]
  },
  {
   "cell_type": "markdown",
   "metadata": {},
   "source": [
    "<div class=\"alert alert-block alert-info\">\n",
    "<b>Student's response</b>\n",
    " \n",
    "Thank you for the feedback! I have gone through the project and updated my code."
   ]
  },
  {
   "cell_type": "markdown",
   "metadata": {},
   "source": [
    "<div style=\"border:solid green 2px; padding: 20px\">\n",
    "<b>Reviewer's comment v2:</b>\n",
    "    \n",
    "<b>Overall Feedback</b> \n",
    "    \n",
    "Hi Juliette, thank you for submitting your project with all corrections! \n",
    "- Now everything is perfect. No critial issues left, so your project has been accepted! \n",
    "- Wish you cool projects in the next sprints! ☘️\n",
    "    \n",
    "PS: As a last thing, I can recommend cool lectures on stat analysis here: https://www.youtube.com/playlist?list=PL2SOU6wwxB0uwwH80KTQ6ht66KWxbzTIo  🙌\n",
    "\n",
    "</div>"
   ]
  },
  {
   "cell_type": "markdown",
   "metadata": {},
   "source": [
    "# Which one is a better plan?\n",
    "\n",
    "You work as an analyst for the telecom operator Megaline. The company offers its clients two prepaid plans, Surf and Ultimate. The commercial department wants to know which of the plans brings in more revenue in order to adjust the advertising budget.\n",
    "\n",
    "You are going to carry out a preliminary analysis of the plans based on a relatively small client selection. You'll have the data on 500 Megaline clients: who the clients are, where they're from, which plan they use, and the number of calls they made and text messages they sent in 2018. Your job is to analyze the clients' behavior and determine which prepaid plan brings in more revenue."
   ]
  },
  {
   "cell_type": "markdown",
   "metadata": {},
   "source": [
    "The purpose of this project is to compare the two prepaid calling plans, Surf and Ultimate, to determine which brings in a greater amount of revenue. To conduct this analysis, I will first study the five individual datasets that were provided to me and clean/preprocess the data. Then, I will aggregate the data into a new dataframe, which will be used to study the differences in messaging, calling, and internet usage between the two plans.\n",
    "\n",
    "I will also conduct hypothesis testing to determine if the revenue obtained between the two plans is significantly different and if the revenue obtained tends to vary by region."
   ]
  },
  {
   "cell_type": "markdown",
   "metadata": {},
   "source": [
    "<div class=\"alert alert-block alert-success\">\n",
    "<b>Reviewer's comment v1</b>\n",
    " \n",
    "Great that you added additional information about the project goal and tasks."
   ]
  },
  {
   "cell_type": "markdown",
   "metadata": {},
   "source": [
    "# Initialization"
   ]
  },
  {
   "cell_type": "code",
   "execution_count": 1,
   "metadata": {},
   "outputs": [],
   "source": [
    "# Loading all the libraries\n",
    "\n",
    "import pandas as pd\n",
    "import numpy as np\n",
    "import math\n",
    "import matplotlib.pyplot as plt\n",
    "from scipy import stats as st"
   ]
  },
  {
   "cell_type": "markdown",
   "metadata": {},
   "source": [
    "## Load data"
   ]
  },
  {
   "cell_type": "code",
   "execution_count": 2,
   "metadata": {},
   "outputs": [],
   "source": [
    "# Load the data files into different DataFrames\n",
    "\n",
    "try:\n",
    "    calls = pd.read_csv('/datasets/megaline_calls.csv')\n",
    "    internet = pd.read_csv('/datasets/megaline_internet.csv')\n",
    "    msgs = pd.read_csv('/datasets/megaline_messages.csv')\n",
    "    plans = pd.read_csv('/datasets/megaline_plans.csv')\n",
    "    users = pd.read_csv('/datasets/megaline_users.csv')\n",
    "except:\n",
    "    print(\"One or more of the data files could not be read.\")"
   ]
  },
  {
   "cell_type": "markdown",
   "metadata": {},
   "source": [
    "# Prepare the data"
   ]
  },
  {
   "cell_type": "markdown",
   "metadata": {},
   "source": [
    "There are five different dataframes to work with, so I will begin by taking a look at each of them. I will do preliminary corrections for each dataframe if needed."
   ]
  },
  {
   "cell_type": "markdown",
   "metadata": {},
   "source": [
    "## Plans"
   ]
  },
  {
   "cell_type": "code",
   "execution_count": 3,
   "metadata": {},
   "outputs": [
    {
     "name": "stdout",
     "output_type": "stream",
     "text": [
      "<class 'pandas.core.frame.DataFrame'>\n",
      "RangeIndex: 2 entries, 0 to 1\n",
      "Data columns (total 8 columns):\n",
      " #   Column                 Non-Null Count  Dtype  \n",
      "---  ------                 --------------  -----  \n",
      " 0   messages_included      2 non-null      int64  \n",
      " 1   mb_per_month_included  2 non-null      int64  \n",
      " 2   minutes_included       2 non-null      int64  \n",
      " 3   usd_monthly_pay        2 non-null      int64  \n",
      " 4   usd_per_gb             2 non-null      int64  \n",
      " 5   usd_per_message        2 non-null      float64\n",
      " 6   usd_per_minute         2 non-null      float64\n",
      " 7   plan_name              2 non-null      object \n",
      "dtypes: float64(2), int64(5), object(1)\n",
      "memory usage: 256.0+ bytes\n"
     ]
    }
   ],
   "source": [
    "# Print the general/summary information about the plans' DataFrame\n",
    "plans.info()"
   ]
  },
  {
   "cell_type": "code",
   "execution_count": 4,
   "metadata": {},
   "outputs": [
    {
     "data": {
      "text/html": [
       "<div>\n",
       "<style scoped>\n",
       "    .dataframe tbody tr th:only-of-type {\n",
       "        vertical-align: middle;\n",
       "    }\n",
       "\n",
       "    .dataframe tbody tr th {\n",
       "        vertical-align: top;\n",
       "    }\n",
       "\n",
       "    .dataframe thead th {\n",
       "        text-align: right;\n",
       "    }\n",
       "</style>\n",
       "<table border=\"1\" class=\"dataframe\">\n",
       "  <thead>\n",
       "    <tr style=\"text-align: right;\">\n",
       "      <th></th>\n",
       "      <th>messages_included</th>\n",
       "      <th>mb_per_month_included</th>\n",
       "      <th>minutes_included</th>\n",
       "      <th>usd_monthly_pay</th>\n",
       "      <th>usd_per_gb</th>\n",
       "      <th>usd_per_message</th>\n",
       "      <th>usd_per_minute</th>\n",
       "      <th>plan_name</th>\n",
       "    </tr>\n",
       "  </thead>\n",
       "  <tbody>\n",
       "    <tr>\n",
       "      <th>0</th>\n",
       "      <td>50</td>\n",
       "      <td>15360</td>\n",
       "      <td>500</td>\n",
       "      <td>20</td>\n",
       "      <td>10</td>\n",
       "      <td>0.03</td>\n",
       "      <td>0.03</td>\n",
       "      <td>surf</td>\n",
       "    </tr>\n",
       "    <tr>\n",
       "      <th>1</th>\n",
       "      <td>1000</td>\n",
       "      <td>30720</td>\n",
       "      <td>3000</td>\n",
       "      <td>70</td>\n",
       "      <td>7</td>\n",
       "      <td>0.01</td>\n",
       "      <td>0.01</td>\n",
       "      <td>ultimate</td>\n",
       "    </tr>\n",
       "  </tbody>\n",
       "</table>\n",
       "</div>"
      ],
      "text/plain": [
       "   messages_included  mb_per_month_included  minutes_included  \\\n",
       "0                 50                  15360               500   \n",
       "1               1000                  30720              3000   \n",
       "\n",
       "   usd_monthly_pay  usd_per_gb  usd_per_message  usd_per_minute plan_name  \n",
       "0               20          10             0.03            0.03      surf  \n",
       "1               70           7             0.01            0.01  ultimate  "
      ]
     },
     "execution_count": 4,
     "metadata": {},
     "output_type": "execute_result"
    }
   ],
   "source": [
    "# Print a sample of data for plans\n",
    "plans.head(10)"
   ]
  },
  {
   "cell_type": "markdown",
   "metadata": {},
   "source": [
    "The **plans** dataframe only has two rows and seems very straight forward. The columns `usd_per_gb` and `mb_per_month_included` reference two different values, megabytes (MB) and gigabytes (GB), where 1 GB = 1024 MB. I will add a `gb_per_month_included` column for easy reference and rename `plan_name` to `plan` to be used in the future when this dataframe is joined with others."
   ]
  },
  {
   "cell_type": "markdown",
   "metadata": {},
   "source": [
    " "
   ]
  },
  {
   "cell_type": "markdown",
   "metadata": {},
   "source": [
    "### Add `gb_per_month_included` column"
   ]
  },
  {
   "cell_type": "code",
   "execution_count": 5,
   "metadata": {
    "scrolled": true
   },
   "outputs": [
    {
     "data": {
      "text/html": [
       "<div>\n",
       "<style scoped>\n",
       "    .dataframe tbody tr th:only-of-type {\n",
       "        vertical-align: middle;\n",
       "    }\n",
       "\n",
       "    .dataframe tbody tr th {\n",
       "        vertical-align: top;\n",
       "    }\n",
       "\n",
       "    .dataframe thead th {\n",
       "        text-align: right;\n",
       "    }\n",
       "</style>\n",
       "<table border=\"1\" class=\"dataframe\">\n",
       "  <thead>\n",
       "    <tr style=\"text-align: right;\">\n",
       "      <th></th>\n",
       "      <th>messages_included</th>\n",
       "      <th>mb_per_month_included</th>\n",
       "      <th>minutes_included</th>\n",
       "      <th>usd_monthly_pay</th>\n",
       "      <th>usd_per_gb</th>\n",
       "      <th>usd_per_message</th>\n",
       "      <th>usd_per_minute</th>\n",
       "      <th>plan_name</th>\n",
       "      <th>gb_per_month_included</th>\n",
       "    </tr>\n",
       "  </thead>\n",
       "  <tbody>\n",
       "    <tr>\n",
       "      <th>0</th>\n",
       "      <td>50</td>\n",
       "      <td>15360</td>\n",
       "      <td>500</td>\n",
       "      <td>20</td>\n",
       "      <td>10</td>\n",
       "      <td>0.03</td>\n",
       "      <td>0.03</td>\n",
       "      <td>surf</td>\n",
       "      <td>15.0</td>\n",
       "    </tr>\n",
       "    <tr>\n",
       "      <th>1</th>\n",
       "      <td>1000</td>\n",
       "      <td>30720</td>\n",
       "      <td>3000</td>\n",
       "      <td>70</td>\n",
       "      <td>7</td>\n",
       "      <td>0.01</td>\n",
       "      <td>0.01</td>\n",
       "      <td>ultimate</td>\n",
       "      <td>30.0</td>\n",
       "    </tr>\n",
       "  </tbody>\n",
       "</table>\n",
       "</div>"
      ],
      "text/plain": [
       "   messages_included  mb_per_month_included  minutes_included  \\\n",
       "0                 50                  15360               500   \n",
       "1               1000                  30720              3000   \n",
       "\n",
       "   usd_monthly_pay  usd_per_gb  usd_per_message  usd_per_minute plan_name  \\\n",
       "0               20          10             0.03            0.03      surf   \n",
       "1               70           7             0.01            0.01  ultimate   \n",
       "\n",
       "   gb_per_month_included  \n",
       "0                   15.0  \n",
       "1                   30.0  "
      ]
     },
     "execution_count": 5,
     "metadata": {},
     "output_type": "execute_result"
    }
   ],
   "source": [
    "# Creates a new column that converts MB included in a month to the GB equivalent\n",
    "plans['gb_per_month_included'] = plans['mb_per_month_included'] / 1024.0\n",
    "\n",
    "# Show new dataframe\n",
    "plans.head()"
   ]
  },
  {
   "cell_type": "markdown",
   "metadata": {},
   "source": [
    "Every month, users of the _Surf_ plan have a data allowance of 15 GB whereas users of the _Ultimate_ plan have a data allowance of 30 GB. We can more clearly see that the data allowance doubles for users of the _Ultimate_ plan.\n",
    "\n",
    "In addition, we see that the _Ultimate_ man allows double the messages per month and 6x the amount of minutes. If a user exceeds the number of messages, minutes, or gb available in their plan, they have lower charges than a _Surf_ user. "
   ]
  },
  {
   "cell_type": "markdown",
   "metadata": {},
   "source": [
    "### Rename `plan_name` column"
   ]
  },
  {
   "cell_type": "code",
   "execution_count": 6,
   "metadata": {},
   "outputs": [
    {
     "data": {
      "text/plain": [
       "Index(['messages_included', 'mb_per_month_included', 'minutes_included',\n",
       "       'usd_monthly_pay', 'usd_per_gb', 'usd_per_message', 'usd_per_minute',\n",
       "       'plan', 'gb_per_month_included'],\n",
       "      dtype='object')"
      ]
     },
     "execution_count": 6,
     "metadata": {},
     "output_type": "execute_result"
    }
   ],
   "source": [
    "# Rename column\n",
    "plans = plans.rename(columns = {\"plan_name\": \"plan\"})\n",
    "\n",
    "# Show columns\n",
    "plans.columns"
   ]
  },
  {
   "cell_type": "markdown",
   "metadata": {},
   "source": [
    "## Users"
   ]
  },
  {
   "cell_type": "code",
   "execution_count": 7,
   "metadata": {},
   "outputs": [
    {
     "name": "stdout",
     "output_type": "stream",
     "text": [
      "<class 'pandas.core.frame.DataFrame'>\n",
      "RangeIndex: 500 entries, 0 to 499\n",
      "Data columns (total 8 columns):\n",
      " #   Column      Non-Null Count  Dtype \n",
      "---  ------      --------------  ----- \n",
      " 0   user_id     500 non-null    int64 \n",
      " 1   first_name  500 non-null    object\n",
      " 2   last_name   500 non-null    object\n",
      " 3   age         500 non-null    int64 \n",
      " 4   city        500 non-null    object\n",
      " 5   reg_date    500 non-null    object\n",
      " 6   plan        500 non-null    object\n",
      " 7   churn_date  34 non-null     object\n",
      "dtypes: int64(2), object(6)\n",
      "memory usage: 31.4+ KB\n"
     ]
    }
   ],
   "source": [
    "# Print the general/summary information about the users' DataFrame\n",
    "users.info()"
   ]
  },
  {
   "cell_type": "code",
   "execution_count": 8,
   "metadata": {
    "scrolled": true
   },
   "outputs": [
    {
     "data": {
      "text/html": [
       "<div>\n",
       "<style scoped>\n",
       "    .dataframe tbody tr th:only-of-type {\n",
       "        vertical-align: middle;\n",
       "    }\n",
       "\n",
       "    .dataframe tbody tr th {\n",
       "        vertical-align: top;\n",
       "    }\n",
       "\n",
       "    .dataframe thead th {\n",
       "        text-align: right;\n",
       "    }\n",
       "</style>\n",
       "<table border=\"1\" class=\"dataframe\">\n",
       "  <thead>\n",
       "    <tr style=\"text-align: right;\">\n",
       "      <th></th>\n",
       "      <th>user_id</th>\n",
       "      <th>first_name</th>\n",
       "      <th>last_name</th>\n",
       "      <th>age</th>\n",
       "      <th>city</th>\n",
       "      <th>reg_date</th>\n",
       "      <th>plan</th>\n",
       "      <th>churn_date</th>\n",
       "    </tr>\n",
       "  </thead>\n",
       "  <tbody>\n",
       "    <tr>\n",
       "      <th>0</th>\n",
       "      <td>1000</td>\n",
       "      <td>Anamaria</td>\n",
       "      <td>Bauer</td>\n",
       "      <td>45</td>\n",
       "      <td>Atlanta-Sandy Springs-Roswell, GA MSA</td>\n",
       "      <td>2018-12-24</td>\n",
       "      <td>ultimate</td>\n",
       "      <td>NaN</td>\n",
       "    </tr>\n",
       "    <tr>\n",
       "      <th>1</th>\n",
       "      <td>1001</td>\n",
       "      <td>Mickey</td>\n",
       "      <td>Wilkerson</td>\n",
       "      <td>28</td>\n",
       "      <td>Seattle-Tacoma-Bellevue, WA MSA</td>\n",
       "      <td>2018-08-13</td>\n",
       "      <td>surf</td>\n",
       "      <td>NaN</td>\n",
       "    </tr>\n",
       "    <tr>\n",
       "      <th>2</th>\n",
       "      <td>1002</td>\n",
       "      <td>Carlee</td>\n",
       "      <td>Hoffman</td>\n",
       "      <td>36</td>\n",
       "      <td>Las Vegas-Henderson-Paradise, NV MSA</td>\n",
       "      <td>2018-10-21</td>\n",
       "      <td>surf</td>\n",
       "      <td>NaN</td>\n",
       "    </tr>\n",
       "    <tr>\n",
       "      <th>3</th>\n",
       "      <td>1003</td>\n",
       "      <td>Reynaldo</td>\n",
       "      <td>Jenkins</td>\n",
       "      <td>52</td>\n",
       "      <td>Tulsa, OK MSA</td>\n",
       "      <td>2018-01-28</td>\n",
       "      <td>surf</td>\n",
       "      <td>NaN</td>\n",
       "    </tr>\n",
       "    <tr>\n",
       "      <th>4</th>\n",
       "      <td>1004</td>\n",
       "      <td>Leonila</td>\n",
       "      <td>Thompson</td>\n",
       "      <td>40</td>\n",
       "      <td>Seattle-Tacoma-Bellevue, WA MSA</td>\n",
       "      <td>2018-05-23</td>\n",
       "      <td>surf</td>\n",
       "      <td>NaN</td>\n",
       "    </tr>\n",
       "    <tr>\n",
       "      <th>5</th>\n",
       "      <td>1005</td>\n",
       "      <td>Livia</td>\n",
       "      <td>Shields</td>\n",
       "      <td>31</td>\n",
       "      <td>Dallas-Fort Worth-Arlington, TX MSA</td>\n",
       "      <td>2018-11-29</td>\n",
       "      <td>surf</td>\n",
       "      <td>NaN</td>\n",
       "    </tr>\n",
       "    <tr>\n",
       "      <th>6</th>\n",
       "      <td>1006</td>\n",
       "      <td>Jesusa</td>\n",
       "      <td>Bradford</td>\n",
       "      <td>73</td>\n",
       "      <td>San Francisco-Oakland-Berkeley, CA MSA</td>\n",
       "      <td>2018-11-27</td>\n",
       "      <td>ultimate</td>\n",
       "      <td>2018-12-18</td>\n",
       "    </tr>\n",
       "    <tr>\n",
       "      <th>7</th>\n",
       "      <td>1007</td>\n",
       "      <td>Eusebio</td>\n",
       "      <td>Welch</td>\n",
       "      <td>42</td>\n",
       "      <td>Grand Rapids-Kentwood, MI MSA</td>\n",
       "      <td>2018-07-11</td>\n",
       "      <td>surf</td>\n",
       "      <td>NaN</td>\n",
       "    </tr>\n",
       "    <tr>\n",
       "      <th>8</th>\n",
       "      <td>1008</td>\n",
       "      <td>Emely</td>\n",
       "      <td>Hoffman</td>\n",
       "      <td>53</td>\n",
       "      <td>Orlando-Kissimmee-Sanford, FL MSA</td>\n",
       "      <td>2018-08-03</td>\n",
       "      <td>ultimate</td>\n",
       "      <td>NaN</td>\n",
       "    </tr>\n",
       "    <tr>\n",
       "      <th>9</th>\n",
       "      <td>1009</td>\n",
       "      <td>Gerry</td>\n",
       "      <td>Little</td>\n",
       "      <td>19</td>\n",
       "      <td>San Jose-Sunnyvale-Santa Clara, CA MSA</td>\n",
       "      <td>2018-04-22</td>\n",
       "      <td>surf</td>\n",
       "      <td>NaN</td>\n",
       "    </tr>\n",
       "  </tbody>\n",
       "</table>\n",
       "</div>"
      ],
      "text/plain": [
       "   user_id first_name  last_name  age                                    city  \\\n",
       "0     1000   Anamaria      Bauer   45   Atlanta-Sandy Springs-Roswell, GA MSA   \n",
       "1     1001     Mickey  Wilkerson   28         Seattle-Tacoma-Bellevue, WA MSA   \n",
       "2     1002     Carlee    Hoffman   36    Las Vegas-Henderson-Paradise, NV MSA   \n",
       "3     1003   Reynaldo    Jenkins   52                           Tulsa, OK MSA   \n",
       "4     1004    Leonila   Thompson   40         Seattle-Tacoma-Bellevue, WA MSA   \n",
       "5     1005      Livia    Shields   31     Dallas-Fort Worth-Arlington, TX MSA   \n",
       "6     1006     Jesusa   Bradford   73  San Francisco-Oakland-Berkeley, CA MSA   \n",
       "7     1007    Eusebio      Welch   42           Grand Rapids-Kentwood, MI MSA   \n",
       "8     1008      Emely    Hoffman   53       Orlando-Kissimmee-Sanford, FL MSA   \n",
       "9     1009      Gerry     Little   19  San Jose-Sunnyvale-Santa Clara, CA MSA   \n",
       "\n",
       "     reg_date      plan  churn_date  \n",
       "0  2018-12-24  ultimate         NaN  \n",
       "1  2018-08-13      surf         NaN  \n",
       "2  2018-10-21      surf         NaN  \n",
       "3  2018-01-28      surf         NaN  \n",
       "4  2018-05-23      surf         NaN  \n",
       "5  2018-11-29      surf         NaN  \n",
       "6  2018-11-27  ultimate  2018-12-18  \n",
       "7  2018-07-11      surf         NaN  \n",
       "8  2018-08-03  ultimate         NaN  \n",
       "9  2018-04-22      surf         NaN  "
      ]
     },
     "execution_count": 8,
     "metadata": {},
     "output_type": "execute_result"
    }
   ],
   "source": [
    "# Print a sample of data for users\n",
    "users.head(10)"
   ]
  },
  {
   "cell_type": "markdown",
   "metadata": {},
   "source": [
    "In the **users** dataframe, there are 500 unique users, and we have access to their ID, first name, last name, age, city, registration date, their plan, and in some cases, the `churn_date`, which is the day their services were terminated. In the future, it could be beneficial to look at the proportion of _surf_ users who terminated service versus the proportion of _ultimate_ users.\n",
    "\n",
    "The missing values for `churn_date` makes sense, but I will create a binary column, `has_terminated_service`, that has a value of 1 if the service was terminated (non-null value in `churn_date`) or a 0 otherwise (meaning the service is still in use).\n",
    "\n",
    "It will be difficult to make use of the information in the `city` column, so I will split the values in that column. I will also convert the date object values into the datetime format."
   ]
  },
  {
   "cell_type": "markdown",
   "metadata": {},
   "source": [
    " "
   ]
  },
  {
   "cell_type": "markdown",
   "metadata": {},
   "source": [
    "### Convert date columns"
   ]
  },
  {
   "cell_type": "code",
   "execution_count": 9,
   "metadata": {},
   "outputs": [
    {
     "name": "stdout",
     "output_type": "stream",
     "text": [
      "<class 'pandas.core.frame.DataFrame'>\n",
      "RangeIndex: 500 entries, 0 to 499\n",
      "Data columns (total 8 columns):\n",
      " #   Column      Non-Null Count  Dtype         \n",
      "---  ------      --------------  -----         \n",
      " 0   user_id     500 non-null    int64         \n",
      " 1   first_name  500 non-null    object        \n",
      " 2   last_name   500 non-null    object        \n",
      " 3   age         500 non-null    int64         \n",
      " 4   city        500 non-null    object        \n",
      " 5   reg_date    500 non-null    datetime64[ns]\n",
      " 6   plan        500 non-null    object        \n",
      " 7   churn_date  34 non-null     datetime64[ns]\n",
      "dtypes: datetime64[ns](2), int64(2), object(4)\n",
      "memory usage: 31.4+ KB\n"
     ]
    }
   ],
   "source": [
    "# Turn churn_date and reg_date columns into a date column\n",
    "users['churn_date'] = pd.to_datetime(users['churn_date'])\n",
    "users['reg_date'] = pd.to_datetime(users['reg_date'])\n",
    "\n",
    "# Confirm datatype has been changed\n",
    "users.info()"
   ]
  },
  {
   "cell_type": "markdown",
   "metadata": {},
   "source": [
    "### Add `has_terminated_service` column"
   ]
  },
  {
   "cell_type": "code",
   "execution_count": 10,
   "metadata": {},
   "outputs": [],
   "source": [
    "# Add binary column based on if there is a value in churn_date\n",
    "users['has_terminated_service'] = users['churn_date'].where(users['churn_date'].isnull(), '1')\n",
    "users['has_terminated_service'] = users['has_terminated_service'].fillna('0')"
   ]
  },
  {
   "cell_type": "markdown",
   "metadata": {},
   "source": [
    "### Split values in `city`"
   ]
  },
  {
   "cell_type": "code",
   "execution_count": 11,
   "metadata": {},
   "outputs": [
    {
     "data": {
      "text/plain": [
       "500"
      ]
     },
     "execution_count": 11,
     "metadata": {},
     "output_type": "execute_result"
    }
   ],
   "source": [
    "# Check all values\n",
    "users['city'].str.contains('MSA').sum()"
   ]
  },
  {
   "cell_type": "markdown",
   "metadata": {},
   "source": [
    "All values in `city` contains MSA which likely represents the country. Since this is the same among all columns, we can remove it from the `city` column and split city into `city` and `state`, separated by a comma."
   ]
  },
  {
   "cell_type": "code",
   "execution_count": 12,
   "metadata": {},
   "outputs": [],
   "source": [
    "# Remove country\n",
    "users['city'] = users['city'].str[:-4]\n",
    "\n",
    "# Extract state\n",
    "users['state'] = users['city'].str.split(\",\").str[1]\n",
    "users['city'] = users['city'].str.split(\",\").str[0]"
   ]
  },
  {
   "cell_type": "code",
   "execution_count": 13,
   "metadata": {},
   "outputs": [
    {
     "data": {
      "text/html": [
       "<div>\n",
       "<style scoped>\n",
       "    .dataframe tbody tr th:only-of-type {\n",
       "        vertical-align: middle;\n",
       "    }\n",
       "\n",
       "    .dataframe tbody tr th {\n",
       "        vertical-align: top;\n",
       "    }\n",
       "\n",
       "    .dataframe thead th {\n",
       "        text-align: right;\n",
       "    }\n",
       "</style>\n",
       "<table border=\"1\" class=\"dataframe\">\n",
       "  <thead>\n",
       "    <tr style=\"text-align: right;\">\n",
       "      <th></th>\n",
       "      <th>user_id</th>\n",
       "      <th>first_name</th>\n",
       "      <th>last_name</th>\n",
       "      <th>age</th>\n",
       "      <th>city</th>\n",
       "      <th>reg_date</th>\n",
       "      <th>plan</th>\n",
       "      <th>churn_date</th>\n",
       "      <th>has_terminated_service</th>\n",
       "      <th>state</th>\n",
       "    </tr>\n",
       "  </thead>\n",
       "  <tbody>\n",
       "    <tr>\n",
       "      <th>0</th>\n",
       "      <td>1000</td>\n",
       "      <td>Anamaria</td>\n",
       "      <td>Bauer</td>\n",
       "      <td>45</td>\n",
       "      <td>Atlanta-Sandy Springs-Roswell</td>\n",
       "      <td>2018-12-24</td>\n",
       "      <td>ultimate</td>\n",
       "      <td>NaT</td>\n",
       "      <td>0</td>\n",
       "      <td>GA</td>\n",
       "    </tr>\n",
       "    <tr>\n",
       "      <th>1</th>\n",
       "      <td>1001</td>\n",
       "      <td>Mickey</td>\n",
       "      <td>Wilkerson</td>\n",
       "      <td>28</td>\n",
       "      <td>Seattle-Tacoma-Bellevue</td>\n",
       "      <td>2018-08-13</td>\n",
       "      <td>surf</td>\n",
       "      <td>NaT</td>\n",
       "      <td>0</td>\n",
       "      <td>WA</td>\n",
       "    </tr>\n",
       "    <tr>\n",
       "      <th>2</th>\n",
       "      <td>1002</td>\n",
       "      <td>Carlee</td>\n",
       "      <td>Hoffman</td>\n",
       "      <td>36</td>\n",
       "      <td>Las Vegas-Henderson-Paradise</td>\n",
       "      <td>2018-10-21</td>\n",
       "      <td>surf</td>\n",
       "      <td>NaT</td>\n",
       "      <td>0</td>\n",
       "      <td>NV</td>\n",
       "    </tr>\n",
       "    <tr>\n",
       "      <th>3</th>\n",
       "      <td>1003</td>\n",
       "      <td>Reynaldo</td>\n",
       "      <td>Jenkins</td>\n",
       "      <td>52</td>\n",
       "      <td>Tulsa</td>\n",
       "      <td>2018-01-28</td>\n",
       "      <td>surf</td>\n",
       "      <td>NaT</td>\n",
       "      <td>0</td>\n",
       "      <td>OK</td>\n",
       "    </tr>\n",
       "    <tr>\n",
       "      <th>4</th>\n",
       "      <td>1004</td>\n",
       "      <td>Leonila</td>\n",
       "      <td>Thompson</td>\n",
       "      <td>40</td>\n",
       "      <td>Seattle-Tacoma-Bellevue</td>\n",
       "      <td>2018-05-23</td>\n",
       "      <td>surf</td>\n",
       "      <td>NaT</td>\n",
       "      <td>0</td>\n",
       "      <td>WA</td>\n",
       "    </tr>\n",
       "    <tr>\n",
       "      <th>5</th>\n",
       "      <td>1005</td>\n",
       "      <td>Livia</td>\n",
       "      <td>Shields</td>\n",
       "      <td>31</td>\n",
       "      <td>Dallas-Fort Worth-Arlington</td>\n",
       "      <td>2018-11-29</td>\n",
       "      <td>surf</td>\n",
       "      <td>NaT</td>\n",
       "      <td>0</td>\n",
       "      <td>TX</td>\n",
       "    </tr>\n",
       "    <tr>\n",
       "      <th>6</th>\n",
       "      <td>1006</td>\n",
       "      <td>Jesusa</td>\n",
       "      <td>Bradford</td>\n",
       "      <td>73</td>\n",
       "      <td>San Francisco-Oakland-Berkeley</td>\n",
       "      <td>2018-11-27</td>\n",
       "      <td>ultimate</td>\n",
       "      <td>2018-12-18</td>\n",
       "      <td>1</td>\n",
       "      <td>CA</td>\n",
       "    </tr>\n",
       "    <tr>\n",
       "      <th>7</th>\n",
       "      <td>1007</td>\n",
       "      <td>Eusebio</td>\n",
       "      <td>Welch</td>\n",
       "      <td>42</td>\n",
       "      <td>Grand Rapids-Kentwood</td>\n",
       "      <td>2018-07-11</td>\n",
       "      <td>surf</td>\n",
       "      <td>NaT</td>\n",
       "      <td>0</td>\n",
       "      <td>MI</td>\n",
       "    </tr>\n",
       "    <tr>\n",
       "      <th>8</th>\n",
       "      <td>1008</td>\n",
       "      <td>Emely</td>\n",
       "      <td>Hoffman</td>\n",
       "      <td>53</td>\n",
       "      <td>Orlando-Kissimmee-Sanford</td>\n",
       "      <td>2018-08-03</td>\n",
       "      <td>ultimate</td>\n",
       "      <td>NaT</td>\n",
       "      <td>0</td>\n",
       "      <td>FL</td>\n",
       "    </tr>\n",
       "    <tr>\n",
       "      <th>9</th>\n",
       "      <td>1009</td>\n",
       "      <td>Gerry</td>\n",
       "      <td>Little</td>\n",
       "      <td>19</td>\n",
       "      <td>San Jose-Sunnyvale-Santa Clara</td>\n",
       "      <td>2018-04-22</td>\n",
       "      <td>surf</td>\n",
       "      <td>NaT</td>\n",
       "      <td>0</td>\n",
       "      <td>CA</td>\n",
       "    </tr>\n",
       "  </tbody>\n",
       "</table>\n",
       "</div>"
      ],
      "text/plain": [
       "   user_id first_name  last_name  age                            city  \\\n",
       "0     1000   Anamaria      Bauer   45   Atlanta-Sandy Springs-Roswell   \n",
       "1     1001     Mickey  Wilkerson   28         Seattle-Tacoma-Bellevue   \n",
       "2     1002     Carlee    Hoffman   36    Las Vegas-Henderson-Paradise   \n",
       "3     1003   Reynaldo    Jenkins   52                           Tulsa   \n",
       "4     1004    Leonila   Thompson   40         Seattle-Tacoma-Bellevue   \n",
       "5     1005      Livia    Shields   31     Dallas-Fort Worth-Arlington   \n",
       "6     1006     Jesusa   Bradford   73  San Francisco-Oakland-Berkeley   \n",
       "7     1007    Eusebio      Welch   42           Grand Rapids-Kentwood   \n",
       "8     1008      Emely    Hoffman   53       Orlando-Kissimmee-Sanford   \n",
       "9     1009      Gerry     Little   19  San Jose-Sunnyvale-Santa Clara   \n",
       "\n",
       "    reg_date      plan churn_date has_terminated_service state  \n",
       "0 2018-12-24  ultimate        NaT                      0    GA  \n",
       "1 2018-08-13      surf        NaT                      0    WA  \n",
       "2 2018-10-21      surf        NaT                      0    NV  \n",
       "3 2018-01-28      surf        NaT                      0    OK  \n",
       "4 2018-05-23      surf        NaT                      0    WA  \n",
       "5 2018-11-29      surf        NaT                      0    TX  \n",
       "6 2018-11-27  ultimate 2018-12-18                      1    CA  \n",
       "7 2018-07-11      surf        NaT                      0    MI  \n",
       "8 2018-08-03  ultimate        NaT                      0    FL  \n",
       "9 2018-04-22      surf        NaT                      0    CA  "
      ]
     },
     "execution_count": 13,
     "metadata": {},
     "output_type": "execute_result"
    }
   ],
   "source": [
    "# Check new dataframe\n",
    "users.head(10)"
   ]
  },
  {
   "cell_type": "markdown",
   "metadata": {},
   "source": [
    "## Calls"
   ]
  },
  {
   "cell_type": "code",
   "execution_count": 14,
   "metadata": {},
   "outputs": [
    {
     "name": "stdout",
     "output_type": "stream",
     "text": [
      "<class 'pandas.core.frame.DataFrame'>\n",
      "RangeIndex: 137735 entries, 0 to 137734\n",
      "Data columns (total 4 columns):\n",
      " #   Column     Non-Null Count   Dtype  \n",
      "---  ------     --------------   -----  \n",
      " 0   id         137735 non-null  object \n",
      " 1   user_id    137735 non-null  int64  \n",
      " 2   call_date  137735 non-null  object \n",
      " 3   duration   137735 non-null  float64\n",
      "dtypes: float64(1), int64(1), object(2)\n",
      "memory usage: 4.2+ MB\n"
     ]
    }
   ],
   "source": [
    "# Print the general/summary information about the calls' DataFrame\n",
    "calls.info()"
   ]
  },
  {
   "cell_type": "code",
   "execution_count": 15,
   "metadata": {},
   "outputs": [
    {
     "data": {
      "text/html": [
       "<div>\n",
       "<style scoped>\n",
       "    .dataframe tbody tr th:only-of-type {\n",
       "        vertical-align: middle;\n",
       "    }\n",
       "\n",
       "    .dataframe tbody tr th {\n",
       "        vertical-align: top;\n",
       "    }\n",
       "\n",
       "    .dataframe thead th {\n",
       "        text-align: right;\n",
       "    }\n",
       "</style>\n",
       "<table border=\"1\" class=\"dataframe\">\n",
       "  <thead>\n",
       "    <tr style=\"text-align: right;\">\n",
       "      <th></th>\n",
       "      <th>id</th>\n",
       "      <th>user_id</th>\n",
       "      <th>call_date</th>\n",
       "      <th>duration</th>\n",
       "    </tr>\n",
       "  </thead>\n",
       "  <tbody>\n",
       "    <tr>\n",
       "      <th>0</th>\n",
       "      <td>1000_93</td>\n",
       "      <td>1000</td>\n",
       "      <td>2018-12-27</td>\n",
       "      <td>8.52</td>\n",
       "    </tr>\n",
       "    <tr>\n",
       "      <th>1</th>\n",
       "      <td>1000_145</td>\n",
       "      <td>1000</td>\n",
       "      <td>2018-12-27</td>\n",
       "      <td>13.66</td>\n",
       "    </tr>\n",
       "    <tr>\n",
       "      <th>2</th>\n",
       "      <td>1000_247</td>\n",
       "      <td>1000</td>\n",
       "      <td>2018-12-27</td>\n",
       "      <td>14.48</td>\n",
       "    </tr>\n",
       "    <tr>\n",
       "      <th>3</th>\n",
       "      <td>1000_309</td>\n",
       "      <td>1000</td>\n",
       "      <td>2018-12-28</td>\n",
       "      <td>5.76</td>\n",
       "    </tr>\n",
       "    <tr>\n",
       "      <th>4</th>\n",
       "      <td>1000_380</td>\n",
       "      <td>1000</td>\n",
       "      <td>2018-12-30</td>\n",
       "      <td>4.22</td>\n",
       "    </tr>\n",
       "    <tr>\n",
       "      <th>5</th>\n",
       "      <td>1000_388</td>\n",
       "      <td>1000</td>\n",
       "      <td>2018-12-31</td>\n",
       "      <td>2.20</td>\n",
       "    </tr>\n",
       "    <tr>\n",
       "      <th>6</th>\n",
       "      <td>1000_510</td>\n",
       "      <td>1000</td>\n",
       "      <td>2018-12-27</td>\n",
       "      <td>5.75</td>\n",
       "    </tr>\n",
       "    <tr>\n",
       "      <th>7</th>\n",
       "      <td>1000_521</td>\n",
       "      <td>1000</td>\n",
       "      <td>2018-12-28</td>\n",
       "      <td>14.18</td>\n",
       "    </tr>\n",
       "    <tr>\n",
       "      <th>8</th>\n",
       "      <td>1000_530</td>\n",
       "      <td>1000</td>\n",
       "      <td>2018-12-28</td>\n",
       "      <td>5.77</td>\n",
       "    </tr>\n",
       "    <tr>\n",
       "      <th>9</th>\n",
       "      <td>1000_544</td>\n",
       "      <td>1000</td>\n",
       "      <td>2018-12-26</td>\n",
       "      <td>4.40</td>\n",
       "    </tr>\n",
       "  </tbody>\n",
       "</table>\n",
       "</div>"
      ],
      "text/plain": [
       "         id  user_id   call_date  duration\n",
       "0   1000_93     1000  2018-12-27      8.52\n",
       "1  1000_145     1000  2018-12-27     13.66\n",
       "2  1000_247     1000  2018-12-27     14.48\n",
       "3  1000_309     1000  2018-12-28      5.76\n",
       "4  1000_380     1000  2018-12-30      4.22\n",
       "5  1000_388     1000  2018-12-31      2.20\n",
       "6  1000_510     1000  2018-12-27      5.75\n",
       "7  1000_521     1000  2018-12-28     14.18\n",
       "8  1000_530     1000  2018-12-28      5.77\n",
       "9  1000_544     1000  2018-12-26      4.40"
      ]
     },
     "execution_count": 15,
     "metadata": {},
     "output_type": "execute_result"
    }
   ],
   "source": [
    "# Print a sample of data for calls\n",
    "calls.head(10)"
   ]
  },
  {
   "cell_type": "markdown",
   "metadata": {},
   "source": [
    "The **calls** dataframe looks good. It has no null values. The only changes I will make will be converting `call_date` into the datetime format and then renaming `duration` to `minutes` to make that column clearer. I will also create a `month` column and round up the `duration` column since seconds are rounded to minutes."
   ]
  },
  {
   "cell_type": "markdown",
   "metadata": {},
   "source": [
    "<div class=\"alert alert-success\">\n",
    "<b>Reviewer's comment v1:</b>\n",
    "    \n",
    "Good start and first view on data! "
   ]
  },
  {
   "cell_type": "markdown",
   "metadata": {},
   "source": [
    " "
   ]
  },
  {
   "cell_type": "markdown",
   "metadata": {},
   "source": [
    "### Date column updates"
   ]
  },
  {
   "cell_type": "code",
   "execution_count": 16,
   "metadata": {
    "scrolled": true
   },
   "outputs": [],
   "source": [
    "# Turn call_date column into a date column\n",
    "calls['call_date'] = pd.to_datetime(calls['call_date'])\n",
    "\n",
    "# Create a year column\n",
    "calls['year'] = calls['call_date'].dt.year\n",
    "\n",
    "# Create a month column\n",
    "calls['month'] = calls['call_date'].dt.month"
   ]
  },
  {
   "cell_type": "markdown",
   "metadata": {},
   "source": [
    "<div class=\"alert alert-block alert-warning\">\n",
    "<b>Reviewer's comment v1:</b>\n",
    "    \n",
    "Everything is correct here but usually, it is always helpful to double-check whether we indeed have data within one year/time period. If not then selecting and aggregating data by the month number will cause an issue. So here it is safer to use datetime64[M] which provides a complete date. "
   ]
  },
  {
   "cell_type": "markdown",
   "metadata": {},
   "source": [
    "<div class=\"alert alert-info\">\n",
    "<b>Student Response:</b> \n",
    "    \n",
    "Thank you for this advice! I saw in the description that we only had one year but this is helpful, I will use datetime64[M] in the future to aggregate by a complete date.\n",
    "</div>\n"
   ]
  },
  {
   "cell_type": "markdown",
   "metadata": {},
   "source": [
    "<div class=\"alert alert-block alert-success\">\n",
    "<b>Reviewer's comment v2</b>\n",
    " \n",
    "🙌"
   ]
  },
  {
   "cell_type": "markdown",
   "metadata": {},
   "source": [
    "### Rename and round up `duration`"
   ]
  },
  {
   "cell_type": "code",
   "execution_count": 17,
   "metadata": {},
   "outputs": [
    {
     "data": {
      "text/html": [
       "<div>\n",
       "<style scoped>\n",
       "    .dataframe tbody tr th:only-of-type {\n",
       "        vertical-align: middle;\n",
       "    }\n",
       "\n",
       "    .dataframe tbody tr th {\n",
       "        vertical-align: top;\n",
       "    }\n",
       "\n",
       "    .dataframe thead th {\n",
       "        text-align: right;\n",
       "    }\n",
       "</style>\n",
       "<table border=\"1\" class=\"dataframe\">\n",
       "  <thead>\n",
       "    <tr style=\"text-align: right;\">\n",
       "      <th></th>\n",
       "      <th>id</th>\n",
       "      <th>user_id</th>\n",
       "      <th>call_date</th>\n",
       "      <th>call_minutes</th>\n",
       "      <th>year</th>\n",
       "      <th>month</th>\n",
       "    </tr>\n",
       "  </thead>\n",
       "  <tbody>\n",
       "    <tr>\n",
       "      <th>0</th>\n",
       "      <td>1000_93</td>\n",
       "      <td>1000</td>\n",
       "      <td>2018-12-27</td>\n",
       "      <td>9.0</td>\n",
       "      <td>2018</td>\n",
       "      <td>12</td>\n",
       "    </tr>\n",
       "    <tr>\n",
       "      <th>1</th>\n",
       "      <td>1000_145</td>\n",
       "      <td>1000</td>\n",
       "      <td>2018-12-27</td>\n",
       "      <td>14.0</td>\n",
       "      <td>2018</td>\n",
       "      <td>12</td>\n",
       "    </tr>\n",
       "    <tr>\n",
       "      <th>2</th>\n",
       "      <td>1000_247</td>\n",
       "      <td>1000</td>\n",
       "      <td>2018-12-27</td>\n",
       "      <td>15.0</td>\n",
       "      <td>2018</td>\n",
       "      <td>12</td>\n",
       "    </tr>\n",
       "    <tr>\n",
       "      <th>3</th>\n",
       "      <td>1000_309</td>\n",
       "      <td>1000</td>\n",
       "      <td>2018-12-28</td>\n",
       "      <td>6.0</td>\n",
       "      <td>2018</td>\n",
       "      <td>12</td>\n",
       "    </tr>\n",
       "    <tr>\n",
       "      <th>4</th>\n",
       "      <td>1000_380</td>\n",
       "      <td>1000</td>\n",
       "      <td>2018-12-30</td>\n",
       "      <td>5.0</td>\n",
       "      <td>2018</td>\n",
       "      <td>12</td>\n",
       "    </tr>\n",
       "  </tbody>\n",
       "</table>\n",
       "</div>"
      ],
      "text/plain": [
       "         id  user_id  call_date  call_minutes  year  month\n",
       "0   1000_93     1000 2018-12-27           9.0  2018     12\n",
       "1  1000_145     1000 2018-12-27          14.0  2018     12\n",
       "2  1000_247     1000 2018-12-27          15.0  2018     12\n",
       "3  1000_309     1000 2018-12-28           6.0  2018     12\n",
       "4  1000_380     1000 2018-12-30           5.0  2018     12"
      ]
     },
     "execution_count": 17,
     "metadata": {},
     "output_type": "execute_result"
    }
   ],
   "source": [
    "# Rename duration to minutes\n",
    "calls = calls.rename(columns = {\"duration\": \"call_minutes\"})\n",
    "\n",
    "# Round up duration\n",
    "calls['call_minutes'] = calls['call_minutes'].apply(np.ceil)\n",
    "\n",
    "# Check data\n",
    "calls.head()"
   ]
  },
  {
   "cell_type": "markdown",
   "metadata": {},
   "source": [
    "<div class=\"alert alert-info\">\n",
    "<b>Student Response:</b> \n",
    "    \n",
    "I have rounded up call_minutes here.\n",
    "</div>"
   ]
  },
  {
   "cell_type": "markdown",
   "metadata": {},
   "source": [
    "<div class=\"alert alert-block alert-success\">\n",
    "<b>Reviewer's comment v2:</b>\n",
    "    \n",
    "Ok, great job! Also, great choice of np.ceil () method\n",
    "\n",
    "You can apply this method directly to the column in your data in the following way:\n",
    "\n",
    "```\n",
    "calls['duration'] = np.ceil(calls['duration'])\n",
    "```"
   ]
  },
  {
   "cell_type": "markdown",
   "metadata": {},
   "source": [
    "## Messages"
   ]
  },
  {
   "cell_type": "code",
   "execution_count": 18,
   "metadata": {},
   "outputs": [
    {
     "name": "stdout",
     "output_type": "stream",
     "text": [
      "<class 'pandas.core.frame.DataFrame'>\n",
      "RangeIndex: 76051 entries, 0 to 76050\n",
      "Data columns (total 3 columns):\n",
      " #   Column        Non-Null Count  Dtype \n",
      "---  ------        --------------  ----- \n",
      " 0   id            76051 non-null  object\n",
      " 1   user_id       76051 non-null  int64 \n",
      " 2   message_date  76051 non-null  object\n",
      "dtypes: int64(1), object(2)\n",
      "memory usage: 1.7+ MB\n"
     ]
    }
   ],
   "source": [
    "# Print the general/summary information about the messages' DataFrame\n",
    "msgs.info()"
   ]
  },
  {
   "cell_type": "code",
   "execution_count": 19,
   "metadata": {},
   "outputs": [
    {
     "data": {
      "text/html": [
       "<div>\n",
       "<style scoped>\n",
       "    .dataframe tbody tr th:only-of-type {\n",
       "        vertical-align: middle;\n",
       "    }\n",
       "\n",
       "    .dataframe tbody tr th {\n",
       "        vertical-align: top;\n",
       "    }\n",
       "\n",
       "    .dataframe thead th {\n",
       "        text-align: right;\n",
       "    }\n",
       "</style>\n",
       "<table border=\"1\" class=\"dataframe\">\n",
       "  <thead>\n",
       "    <tr style=\"text-align: right;\">\n",
       "      <th></th>\n",
       "      <th>id</th>\n",
       "      <th>user_id</th>\n",
       "      <th>message_date</th>\n",
       "    </tr>\n",
       "  </thead>\n",
       "  <tbody>\n",
       "    <tr>\n",
       "      <th>0</th>\n",
       "      <td>1000_125</td>\n",
       "      <td>1000</td>\n",
       "      <td>2018-12-27</td>\n",
       "    </tr>\n",
       "    <tr>\n",
       "      <th>1</th>\n",
       "      <td>1000_160</td>\n",
       "      <td>1000</td>\n",
       "      <td>2018-12-31</td>\n",
       "    </tr>\n",
       "    <tr>\n",
       "      <th>2</th>\n",
       "      <td>1000_223</td>\n",
       "      <td>1000</td>\n",
       "      <td>2018-12-31</td>\n",
       "    </tr>\n",
       "    <tr>\n",
       "      <th>3</th>\n",
       "      <td>1000_251</td>\n",
       "      <td>1000</td>\n",
       "      <td>2018-12-27</td>\n",
       "    </tr>\n",
       "    <tr>\n",
       "      <th>4</th>\n",
       "      <td>1000_255</td>\n",
       "      <td>1000</td>\n",
       "      <td>2018-12-26</td>\n",
       "    </tr>\n",
       "    <tr>\n",
       "      <th>5</th>\n",
       "      <td>1000_346</td>\n",
       "      <td>1000</td>\n",
       "      <td>2018-12-29</td>\n",
       "    </tr>\n",
       "    <tr>\n",
       "      <th>6</th>\n",
       "      <td>1000_386</td>\n",
       "      <td>1000</td>\n",
       "      <td>2018-12-30</td>\n",
       "    </tr>\n",
       "    <tr>\n",
       "      <th>7</th>\n",
       "      <td>1000_413</td>\n",
       "      <td>1000</td>\n",
       "      <td>2018-12-31</td>\n",
       "    </tr>\n",
       "    <tr>\n",
       "      <th>8</th>\n",
       "      <td>1000_502</td>\n",
       "      <td>1000</td>\n",
       "      <td>2018-12-27</td>\n",
       "    </tr>\n",
       "    <tr>\n",
       "      <th>9</th>\n",
       "      <td>1000_525</td>\n",
       "      <td>1000</td>\n",
       "      <td>2018-12-28</td>\n",
       "    </tr>\n",
       "  </tbody>\n",
       "</table>\n",
       "</div>"
      ],
      "text/plain": [
       "         id  user_id message_date\n",
       "0  1000_125     1000   2018-12-27\n",
       "1  1000_160     1000   2018-12-31\n",
       "2  1000_223     1000   2018-12-31\n",
       "3  1000_251     1000   2018-12-27\n",
       "4  1000_255     1000   2018-12-26\n",
       "5  1000_346     1000   2018-12-29\n",
       "6  1000_386     1000   2018-12-30\n",
       "7  1000_413     1000   2018-12-31\n",
       "8  1000_502     1000   2018-12-27\n",
       "9  1000_525     1000   2018-12-28"
      ]
     },
     "execution_count": 19,
     "metadata": {},
     "output_type": "execute_result"
    }
   ],
   "source": [
    "# Print a sample of data for messages\n",
    "msgs.head(10)"
   ]
  },
  {
   "cell_type": "markdown",
   "metadata": {},
   "source": [
    "Like the **calls** dataframe, I will convert `message_date` into the datetime format and create a `month` column."
   ]
  },
  {
   "cell_type": "markdown",
   "metadata": {},
   "source": [
    " "
   ]
  },
  {
   "cell_type": "markdown",
   "metadata": {},
   "source": [
    "### Date column updates"
   ]
  },
  {
   "cell_type": "code",
   "execution_count": 20,
   "metadata": {},
   "outputs": [
    {
     "name": "stdout",
     "output_type": "stream",
     "text": [
      "<class 'pandas.core.frame.DataFrame'>\n",
      "RangeIndex: 76051 entries, 0 to 76050\n",
      "Data columns (total 4 columns):\n",
      " #   Column        Non-Null Count  Dtype         \n",
      "---  ------        --------------  -----         \n",
      " 0   id            76051 non-null  object        \n",
      " 1   user_id       76051 non-null  int64         \n",
      " 2   message_date  76051 non-null  datetime64[ns]\n",
      " 3   month         76051 non-null  int64         \n",
      "dtypes: datetime64[ns](1), int64(2), object(1)\n",
      "memory usage: 2.3+ MB\n"
     ]
    }
   ],
   "source": [
    "# Turn message_date column into a date column\n",
    "msgs['message_date'] = pd.to_datetime(msgs['message_date'])\n",
    "\n",
    "# Create month column\n",
    "msgs['month'] = msgs['message_date'].dt.month\n",
    "\n",
    "# Confirm datatype has been changed\n",
    "msgs.info()"
   ]
  },
  {
   "cell_type": "markdown",
   "metadata": {},
   "source": [
    "## Internet"
   ]
  },
  {
   "cell_type": "code",
   "execution_count": 21,
   "metadata": {},
   "outputs": [
    {
     "name": "stdout",
     "output_type": "stream",
     "text": [
      "<class 'pandas.core.frame.DataFrame'>\n",
      "RangeIndex: 104825 entries, 0 to 104824\n",
      "Data columns (total 4 columns):\n",
      " #   Column        Non-Null Count   Dtype  \n",
      "---  ------        --------------   -----  \n",
      " 0   id            104825 non-null  object \n",
      " 1   user_id       104825 non-null  int64  \n",
      " 2   session_date  104825 non-null  object \n",
      " 3   mb_used       104825 non-null  float64\n",
      "dtypes: float64(1), int64(1), object(2)\n",
      "memory usage: 3.2+ MB\n"
     ]
    }
   ],
   "source": [
    "# Print the general/summary information about the internet DataFrame\n",
    "internet.info()"
   ]
  },
  {
   "cell_type": "code",
   "execution_count": 22,
   "metadata": {},
   "outputs": [
    {
     "data": {
      "text/html": [
       "<div>\n",
       "<style scoped>\n",
       "    .dataframe tbody tr th:only-of-type {\n",
       "        vertical-align: middle;\n",
       "    }\n",
       "\n",
       "    .dataframe tbody tr th {\n",
       "        vertical-align: top;\n",
       "    }\n",
       "\n",
       "    .dataframe thead th {\n",
       "        text-align: right;\n",
       "    }\n",
       "</style>\n",
       "<table border=\"1\" class=\"dataframe\">\n",
       "  <thead>\n",
       "    <tr style=\"text-align: right;\">\n",
       "      <th></th>\n",
       "      <th>id</th>\n",
       "      <th>user_id</th>\n",
       "      <th>session_date</th>\n",
       "      <th>mb_used</th>\n",
       "    </tr>\n",
       "  </thead>\n",
       "  <tbody>\n",
       "    <tr>\n",
       "      <th>0</th>\n",
       "      <td>1000_13</td>\n",
       "      <td>1000</td>\n",
       "      <td>2018-12-29</td>\n",
       "      <td>89.86</td>\n",
       "    </tr>\n",
       "    <tr>\n",
       "      <th>1</th>\n",
       "      <td>1000_204</td>\n",
       "      <td>1000</td>\n",
       "      <td>2018-12-31</td>\n",
       "      <td>0.00</td>\n",
       "    </tr>\n",
       "    <tr>\n",
       "      <th>2</th>\n",
       "      <td>1000_379</td>\n",
       "      <td>1000</td>\n",
       "      <td>2018-12-28</td>\n",
       "      <td>660.40</td>\n",
       "    </tr>\n",
       "    <tr>\n",
       "      <th>3</th>\n",
       "      <td>1000_413</td>\n",
       "      <td>1000</td>\n",
       "      <td>2018-12-26</td>\n",
       "      <td>270.99</td>\n",
       "    </tr>\n",
       "    <tr>\n",
       "      <th>4</th>\n",
       "      <td>1000_442</td>\n",
       "      <td>1000</td>\n",
       "      <td>2018-12-27</td>\n",
       "      <td>880.22</td>\n",
       "    </tr>\n",
       "    <tr>\n",
       "      <th>5</th>\n",
       "      <td>1001_0</td>\n",
       "      <td>1001</td>\n",
       "      <td>2018-08-24</td>\n",
       "      <td>284.68</td>\n",
       "    </tr>\n",
       "    <tr>\n",
       "      <th>6</th>\n",
       "      <td>1001_3</td>\n",
       "      <td>1001</td>\n",
       "      <td>2018-12-09</td>\n",
       "      <td>656.04</td>\n",
       "    </tr>\n",
       "    <tr>\n",
       "      <th>7</th>\n",
       "      <td>1001_4</td>\n",
       "      <td>1001</td>\n",
       "      <td>2018-11-04</td>\n",
       "      <td>16.97</td>\n",
       "    </tr>\n",
       "    <tr>\n",
       "      <th>8</th>\n",
       "      <td>1001_10</td>\n",
       "      <td>1001</td>\n",
       "      <td>2018-11-27</td>\n",
       "      <td>135.18</td>\n",
       "    </tr>\n",
       "    <tr>\n",
       "      <th>9</th>\n",
       "      <td>1001_15</td>\n",
       "      <td>1001</td>\n",
       "      <td>2018-12-13</td>\n",
       "      <td>761.92</td>\n",
       "    </tr>\n",
       "  </tbody>\n",
       "</table>\n",
       "</div>"
      ],
      "text/plain": [
       "         id  user_id session_date  mb_used\n",
       "0   1000_13     1000   2018-12-29    89.86\n",
       "1  1000_204     1000   2018-12-31     0.00\n",
       "2  1000_379     1000   2018-12-28   660.40\n",
       "3  1000_413     1000   2018-12-26   270.99\n",
       "4  1000_442     1000   2018-12-27   880.22\n",
       "5    1001_0     1001   2018-08-24   284.68\n",
       "6    1001_3     1001   2018-12-09   656.04\n",
       "7    1001_4     1001   2018-11-04    16.97\n",
       "8   1001_10     1001   2018-11-27   135.18\n",
       "9   1001_15     1001   2018-12-13   761.92"
      ]
     },
     "execution_count": 22,
     "metadata": {},
     "output_type": "execute_result"
    }
   ],
   "source": [
    "# Print a sample of data for the internet traffic\n",
    "internet.head(10)"
   ]
  },
  {
   "cell_type": "markdown",
   "metadata": {},
   "source": [
    "`session_date` will be converted to a datetime format. Additionally, I will create a `gb_used` column based on the `mb_used` column for reference."
   ]
  },
  {
   "cell_type": "markdown",
   "metadata": {},
   "source": [
    " "
   ]
  },
  {
   "cell_type": "markdown",
   "metadata": {},
   "source": [
    "### Date column updates"
   ]
  },
  {
   "cell_type": "code",
   "execution_count": 23,
   "metadata": {},
   "outputs": [
    {
     "name": "stdout",
     "output_type": "stream",
     "text": [
      "<class 'pandas.core.frame.DataFrame'>\n",
      "RangeIndex: 104825 entries, 0 to 104824\n",
      "Data columns (total 5 columns):\n",
      " #   Column        Non-Null Count   Dtype         \n",
      "---  ------        --------------   -----         \n",
      " 0   id            104825 non-null  object        \n",
      " 1   user_id       104825 non-null  int64         \n",
      " 2   session_date  104825 non-null  datetime64[ns]\n",
      " 3   mb_used       104825 non-null  float64       \n",
      " 4   month         104825 non-null  int64         \n",
      "dtypes: datetime64[ns](1), float64(1), int64(2), object(1)\n",
      "memory usage: 4.0+ MB\n"
     ]
    }
   ],
   "source": [
    "# Turn session_date column into a date column\n",
    "internet['session_date'] = pd.to_datetime(internet['session_date'])\n",
    "\n",
    "# Creating month column\n",
    "internet['month'] = internet['session_date'].dt.month\n",
    "\n",
    "# Confirm update\n",
    "internet.info()"
   ]
  },
  {
   "cell_type": "markdown",
   "metadata": {},
   "source": [
    "### Created `gb_used` column"
   ]
  },
  {
   "cell_type": "code",
   "execution_count": 24,
   "metadata": {},
   "outputs": [
    {
     "data": {
      "text/html": [
       "<div>\n",
       "<style scoped>\n",
       "    .dataframe tbody tr th:only-of-type {\n",
       "        vertical-align: middle;\n",
       "    }\n",
       "\n",
       "    .dataframe tbody tr th {\n",
       "        vertical-align: top;\n",
       "    }\n",
       "\n",
       "    .dataframe thead th {\n",
       "        text-align: right;\n",
       "    }\n",
       "</style>\n",
       "<table border=\"1\" class=\"dataframe\">\n",
       "  <thead>\n",
       "    <tr style=\"text-align: right;\">\n",
       "      <th></th>\n",
       "      <th>id</th>\n",
       "      <th>user_id</th>\n",
       "      <th>session_date</th>\n",
       "      <th>mb_used</th>\n",
       "      <th>month</th>\n",
       "      <th>gb_used</th>\n",
       "    </tr>\n",
       "  </thead>\n",
       "  <tbody>\n",
       "    <tr>\n",
       "      <th>0</th>\n",
       "      <td>1000_13</td>\n",
       "      <td>1000</td>\n",
       "      <td>2018-12-29</td>\n",
       "      <td>89.86</td>\n",
       "      <td>12</td>\n",
       "      <td>0.087754</td>\n",
       "    </tr>\n",
       "    <tr>\n",
       "      <th>1</th>\n",
       "      <td>1000_204</td>\n",
       "      <td>1000</td>\n",
       "      <td>2018-12-31</td>\n",
       "      <td>0.00</td>\n",
       "      <td>12</td>\n",
       "      <td>0.000000</td>\n",
       "    </tr>\n",
       "    <tr>\n",
       "      <th>2</th>\n",
       "      <td>1000_379</td>\n",
       "      <td>1000</td>\n",
       "      <td>2018-12-28</td>\n",
       "      <td>660.40</td>\n",
       "      <td>12</td>\n",
       "      <td>0.644922</td>\n",
       "    </tr>\n",
       "    <tr>\n",
       "      <th>3</th>\n",
       "      <td>1000_413</td>\n",
       "      <td>1000</td>\n",
       "      <td>2018-12-26</td>\n",
       "      <td>270.99</td>\n",
       "      <td>12</td>\n",
       "      <td>0.264639</td>\n",
       "    </tr>\n",
       "    <tr>\n",
       "      <th>4</th>\n",
       "      <td>1000_442</td>\n",
       "      <td>1000</td>\n",
       "      <td>2018-12-27</td>\n",
       "      <td>880.22</td>\n",
       "      <td>12</td>\n",
       "      <td>0.859590</td>\n",
       "    </tr>\n",
       "  </tbody>\n",
       "</table>\n",
       "</div>"
      ],
      "text/plain": [
       "         id  user_id session_date  mb_used  month   gb_used\n",
       "0   1000_13     1000   2018-12-29    89.86     12  0.087754\n",
       "1  1000_204     1000   2018-12-31     0.00     12  0.000000\n",
       "2  1000_379     1000   2018-12-28   660.40     12  0.644922\n",
       "3  1000_413     1000   2018-12-26   270.99     12  0.264639\n",
       "4  1000_442     1000   2018-12-27   880.22     12  0.859590"
      ]
     },
     "execution_count": 24,
     "metadata": {},
     "output_type": "execute_result"
    }
   ],
   "source": [
    "# Create gb_used column\n",
    "internet['gb_used'] = internet['mb_used'] / 1024\n",
    "\n",
    "# Check data\n",
    "internet.head()"
   ]
  },
  {
   "cell_type": "markdown",
   "metadata": {},
   "source": [
    "# Aggregate data per user\n",
    "\n",
    "The data is now clean. Because there are five dataframes, it would be beneficial to aggregate this data to be used later in our analysis. \n",
    "\n",
    "All of the dates are from the year 2018. I will group the data by each user and month so that it's possible to see calls, minutes, messages, and gb used by each user during each month. This dataframe can be used to analyze the _Surf_ and _Ultimate_ plans."
   ]
  },
  {
   "cell_type": "code",
   "execution_count": 25,
   "metadata": {},
   "outputs": [
    {
     "data": {
      "text/html": [
       "<div>\n",
       "<style scoped>\n",
       "    .dataframe tbody tr th:only-of-type {\n",
       "        vertical-align: middle;\n",
       "    }\n",
       "\n",
       "    .dataframe tbody tr th {\n",
       "        vertical-align: top;\n",
       "    }\n",
       "\n",
       "    .dataframe thead th {\n",
       "        text-align: right;\n",
       "    }\n",
       "</style>\n",
       "<table border=\"1\" class=\"dataframe\">\n",
       "  <thead>\n",
       "    <tr style=\"text-align: right;\">\n",
       "      <th></th>\n",
       "      <th>user_id</th>\n",
       "      <th>month</th>\n",
       "      <th>total_calls</th>\n",
       "    </tr>\n",
       "  </thead>\n",
       "  <tbody>\n",
       "    <tr>\n",
       "      <th>0</th>\n",
       "      <td>1000</td>\n",
       "      <td>12</td>\n",
       "      <td>16</td>\n",
       "    </tr>\n",
       "    <tr>\n",
       "      <th>1</th>\n",
       "      <td>1001</td>\n",
       "      <td>8</td>\n",
       "      <td>27</td>\n",
       "    </tr>\n",
       "    <tr>\n",
       "      <th>2</th>\n",
       "      <td>1001</td>\n",
       "      <td>9</td>\n",
       "      <td>49</td>\n",
       "    </tr>\n",
       "    <tr>\n",
       "      <th>3</th>\n",
       "      <td>1001</td>\n",
       "      <td>10</td>\n",
       "      <td>65</td>\n",
       "    </tr>\n",
       "    <tr>\n",
       "      <th>4</th>\n",
       "      <td>1001</td>\n",
       "      <td>11</td>\n",
       "      <td>64</td>\n",
       "    </tr>\n",
       "    <tr>\n",
       "      <th>...</th>\n",
       "      <td>...</td>\n",
       "      <td>...</td>\n",
       "      <td>...</td>\n",
       "    </tr>\n",
       "    <tr>\n",
       "      <th>2253</th>\n",
       "      <td>1498</td>\n",
       "      <td>12</td>\n",
       "      <td>39</td>\n",
       "    </tr>\n",
       "    <tr>\n",
       "      <th>2254</th>\n",
       "      <td>1499</td>\n",
       "      <td>9</td>\n",
       "      <td>41</td>\n",
       "    </tr>\n",
       "    <tr>\n",
       "      <th>2255</th>\n",
       "      <td>1499</td>\n",
       "      <td>10</td>\n",
       "      <td>53</td>\n",
       "    </tr>\n",
       "    <tr>\n",
       "      <th>2256</th>\n",
       "      <td>1499</td>\n",
       "      <td>11</td>\n",
       "      <td>45</td>\n",
       "    </tr>\n",
       "    <tr>\n",
       "      <th>2257</th>\n",
       "      <td>1499</td>\n",
       "      <td>12</td>\n",
       "      <td>65</td>\n",
       "    </tr>\n",
       "  </tbody>\n",
       "</table>\n",
       "<p>2258 rows × 3 columns</p>\n",
       "</div>"
      ],
      "text/plain": [
       "      user_id  month  total_calls\n",
       "0        1000     12           16\n",
       "1        1001      8           27\n",
       "2        1001      9           49\n",
       "3        1001     10           65\n",
       "4        1001     11           64\n",
       "...       ...    ...          ...\n",
       "2253     1498     12           39\n",
       "2254     1499      9           41\n",
       "2255     1499     10           53\n",
       "2256     1499     11           45\n",
       "2257     1499     12           65\n",
       "\n",
       "[2258 rows x 3 columns]"
      ]
     },
     "execution_count": 25,
     "metadata": {},
     "output_type": "execute_result"
    }
   ],
   "source": [
    "# Pivot table showing number of calls per month that each user made\n",
    "calls_per_month = pd.pivot_table(calls, index = ['user_id', 'month'], \n",
    "                                 values = 'id', \n",
    "                                 aggfunc = 'count').reset_index()\n",
    "\n",
    "# Renaming column for clarity\n",
    "calls_per_month = calls_per_month.rename(columns = {\"id\": \"total_calls\"})\n",
    "\n",
    "# Showing table\n",
    "calls_per_month"
   ]
  },
  {
   "cell_type": "code",
   "execution_count": 26,
   "metadata": {},
   "outputs": [
    {
     "data": {
      "text/html": [
       "<div>\n",
       "<style scoped>\n",
       "    .dataframe tbody tr th:only-of-type {\n",
       "        vertical-align: middle;\n",
       "    }\n",
       "\n",
       "    .dataframe tbody tr th {\n",
       "        vertical-align: top;\n",
       "    }\n",
       "\n",
       "    .dataframe thead th {\n",
       "        text-align: right;\n",
       "    }\n",
       "</style>\n",
       "<table border=\"1\" class=\"dataframe\">\n",
       "  <thead>\n",
       "    <tr style=\"text-align: right;\">\n",
       "      <th></th>\n",
       "      <th>user_id</th>\n",
       "      <th>month</th>\n",
       "      <th>total_minutes</th>\n",
       "    </tr>\n",
       "  </thead>\n",
       "  <tbody>\n",
       "    <tr>\n",
       "      <th>0</th>\n",
       "      <td>1000</td>\n",
       "      <td>12</td>\n",
       "      <td>124.0</td>\n",
       "    </tr>\n",
       "    <tr>\n",
       "      <th>1</th>\n",
       "      <td>1001</td>\n",
       "      <td>8</td>\n",
       "      <td>182.0</td>\n",
       "    </tr>\n",
       "    <tr>\n",
       "      <th>2</th>\n",
       "      <td>1001</td>\n",
       "      <td>9</td>\n",
       "      <td>315.0</td>\n",
       "    </tr>\n",
       "    <tr>\n",
       "      <th>3</th>\n",
       "      <td>1001</td>\n",
       "      <td>10</td>\n",
       "      <td>393.0</td>\n",
       "    </tr>\n",
       "    <tr>\n",
       "      <th>4</th>\n",
       "      <td>1001</td>\n",
       "      <td>11</td>\n",
       "      <td>426.0</td>\n",
       "    </tr>\n",
       "    <tr>\n",
       "      <th>...</th>\n",
       "      <td>...</td>\n",
       "      <td>...</td>\n",
       "      <td>...</td>\n",
       "    </tr>\n",
       "    <tr>\n",
       "      <th>2253</th>\n",
       "      <td>1498</td>\n",
       "      <td>12</td>\n",
       "      <td>339.0</td>\n",
       "    </tr>\n",
       "    <tr>\n",
       "      <th>2254</th>\n",
       "      <td>1499</td>\n",
       "      <td>9</td>\n",
       "      <td>346.0</td>\n",
       "    </tr>\n",
       "    <tr>\n",
       "      <th>2255</th>\n",
       "      <td>1499</td>\n",
       "      <td>10</td>\n",
       "      <td>385.0</td>\n",
       "    </tr>\n",
       "    <tr>\n",
       "      <th>2256</th>\n",
       "      <td>1499</td>\n",
       "      <td>11</td>\n",
       "      <td>308.0</td>\n",
       "    </tr>\n",
       "    <tr>\n",
       "      <th>2257</th>\n",
       "      <td>1499</td>\n",
       "      <td>12</td>\n",
       "      <td>496.0</td>\n",
       "    </tr>\n",
       "  </tbody>\n",
       "</table>\n",
       "<p>2258 rows × 3 columns</p>\n",
       "</div>"
      ],
      "text/plain": [
       "      user_id  month  total_minutes\n",
       "0        1000     12          124.0\n",
       "1        1001      8          182.0\n",
       "2        1001      9          315.0\n",
       "3        1001     10          393.0\n",
       "4        1001     11          426.0\n",
       "...       ...    ...            ...\n",
       "2253     1498     12          339.0\n",
       "2254     1499      9          346.0\n",
       "2255     1499     10          385.0\n",
       "2256     1499     11          308.0\n",
       "2257     1499     12          496.0\n",
       "\n",
       "[2258 rows x 3 columns]"
      ]
     },
     "execution_count": 26,
     "metadata": {},
     "output_type": "execute_result"
    }
   ],
   "source": [
    "# Pivot table showing amount of minutes per month that each user made (for calls)\n",
    "minutes_per_month = pd.pivot_table(calls, index = ['user_id', 'month'], \n",
    "                                 values = 'call_minutes', \n",
    "                                 aggfunc = 'sum').reset_index()\n",
    "\n",
    "minutes_per_month = minutes_per_month.rename(columns = {\"call_minutes\": \"total_minutes\"})\n",
    "\n",
    "# Showing table\n",
    "minutes_per_month"
   ]
  },
  {
   "cell_type": "markdown",
   "metadata": {},
   "source": [
    "<div class=\"alert alert-block alert-danger\">\n",
    "<b>Reviewer's comment v1:</b>\n",
    "    \n",
    "Please note that the telecom operator rounds up all minutes and traffic values.\n",
    "\n",
    "`Note: Megaline rounds seconds up to minutes, and megabytes to gigabytes. For calls, each individual call is rounded up: even if the call lasted just one second, it will be counted as one minute. For web traffic, individual web sessions are not rounded up. Instead, the total for the month is rounded up. If someone uses 1025 megabytes this month, they will be charged for 2 gigabytes.`\n",
    "\n",
    "Can you please add data rounding?"
   ]
  },
  {
   "cell_type": "markdown",
   "metadata": {},
   "source": [
    "<div class=\"alert alert-info\">\n",
    "<b>Student Response:</b> \n",
    "    \n",
    "I have rounded up the seconds -> minutes in section 4.3.2 now.\n",
    "</div>"
   ]
  },
  {
   "cell_type": "markdown",
   "metadata": {},
   "source": [
    "<div class=\"alert alert-block alert-warning\">\n",
    "<b>Reviewer's comment v1:</b>\n",
    "    \n",
    "In pivot_table or groupby it is possible to pass multiple arguments, so here, you can create an aggregated table in one go like this:\n",
    "    \n",
    "data_calls.groupby(['user_id','month']).agg({'duration' : ('count','sum')}).reset_index()\n",
    "    \n",
    "or\n",
    "    \n",
    "data_calls.pivot_table(index = ('user_id','month'), values = 'duration', aggfunc = ('count','sum')).reset_index()"
   ]
  },
  {
   "cell_type": "markdown",
   "metadata": {},
   "source": [
    "<div class=\"alert alert-info\">\n",
    "<b>Student Response:</b> \n",
    "    \n",
    "Thank you for this advice!\n",
    "</div>"
   ]
  },
  {
   "cell_type": "code",
   "execution_count": 27,
   "metadata": {},
   "outputs": [
    {
     "data": {
      "text/html": [
       "<div>\n",
       "<style scoped>\n",
       "    .dataframe tbody tr th:only-of-type {\n",
       "        vertical-align: middle;\n",
       "    }\n",
       "\n",
       "    .dataframe tbody tr th {\n",
       "        vertical-align: top;\n",
       "    }\n",
       "\n",
       "    .dataframe thead th {\n",
       "        text-align: right;\n",
       "    }\n",
       "</style>\n",
       "<table border=\"1\" class=\"dataframe\">\n",
       "  <thead>\n",
       "    <tr style=\"text-align: right;\">\n",
       "      <th></th>\n",
       "      <th>user_id</th>\n",
       "      <th>month</th>\n",
       "      <th>avg_minutes</th>\n",
       "    </tr>\n",
       "  </thead>\n",
       "  <tbody>\n",
       "    <tr>\n",
       "      <th>0</th>\n",
       "      <td>1000</td>\n",
       "      <td>12</td>\n",
       "      <td>7.750000</td>\n",
       "    </tr>\n",
       "    <tr>\n",
       "      <th>1</th>\n",
       "      <td>1001</td>\n",
       "      <td>8</td>\n",
       "      <td>6.740741</td>\n",
       "    </tr>\n",
       "    <tr>\n",
       "      <th>2</th>\n",
       "      <td>1001</td>\n",
       "      <td>9</td>\n",
       "      <td>6.428571</td>\n",
       "    </tr>\n",
       "    <tr>\n",
       "      <th>3</th>\n",
       "      <td>1001</td>\n",
       "      <td>10</td>\n",
       "      <td>6.046154</td>\n",
       "    </tr>\n",
       "    <tr>\n",
       "      <th>4</th>\n",
       "      <td>1001</td>\n",
       "      <td>11</td>\n",
       "      <td>6.656250</td>\n",
       "    </tr>\n",
       "    <tr>\n",
       "      <th>...</th>\n",
       "      <td>...</td>\n",
       "      <td>...</td>\n",
       "      <td>...</td>\n",
       "    </tr>\n",
       "    <tr>\n",
       "      <th>2253</th>\n",
       "      <td>1498</td>\n",
       "      <td>12</td>\n",
       "      <td>8.692308</td>\n",
       "    </tr>\n",
       "    <tr>\n",
       "      <th>2254</th>\n",
       "      <td>1499</td>\n",
       "      <td>9</td>\n",
       "      <td>8.439024</td>\n",
       "    </tr>\n",
       "    <tr>\n",
       "      <th>2255</th>\n",
       "      <td>1499</td>\n",
       "      <td>10</td>\n",
       "      <td>7.264151</td>\n",
       "    </tr>\n",
       "    <tr>\n",
       "      <th>2256</th>\n",
       "      <td>1499</td>\n",
       "      <td>11</td>\n",
       "      <td>6.844444</td>\n",
       "    </tr>\n",
       "    <tr>\n",
       "      <th>2257</th>\n",
       "      <td>1499</td>\n",
       "      <td>12</td>\n",
       "      <td>7.630769</td>\n",
       "    </tr>\n",
       "  </tbody>\n",
       "</table>\n",
       "<p>2258 rows × 3 columns</p>\n",
       "</div>"
      ],
      "text/plain": [
       "      user_id  month  avg_minutes\n",
       "0        1000     12     7.750000\n",
       "1        1001      8     6.740741\n",
       "2        1001      9     6.428571\n",
       "3        1001     10     6.046154\n",
       "4        1001     11     6.656250\n",
       "...       ...    ...          ...\n",
       "2253     1498     12     8.692308\n",
       "2254     1499      9     8.439024\n",
       "2255     1499     10     7.264151\n",
       "2256     1499     11     6.844444\n",
       "2257     1499     12     7.630769\n",
       "\n",
       "[2258 rows x 3 columns]"
      ]
     },
     "execution_count": 27,
     "metadata": {},
     "output_type": "execute_result"
    }
   ],
   "source": [
    "# Pivot table showing average duration of calls of each user (for calls)\n",
    "avg_minutes_per_month = pd.pivot_table(calls, index = ['user_id', 'month'], \n",
    "                                 values = 'call_minutes', \n",
    "                                 aggfunc = 'mean').reset_index()\n",
    "# Renaming column\n",
    "avg_minutes_per_month = avg_minutes_per_month.rename(columns = {\"call_minutes\": \"avg_minutes\"})\n",
    "\n",
    "# Showing table\n",
    "avg_minutes_per_month"
   ]
  },
  {
   "cell_type": "markdown",
   "metadata": {},
   "source": [
    "<div class=\"alert alert-block alert-success\">\n",
    "<b>Reviewer's comment v2:</b>\n",
    "    \n",
    "Now, everything is correct. Thank you for fixing that! "
   ]
  },
  {
   "cell_type": "code",
   "execution_count": 28,
   "metadata": {},
   "outputs": [
    {
     "data": {
      "text/html": [
       "<div>\n",
       "<style scoped>\n",
       "    .dataframe tbody tr th:only-of-type {\n",
       "        vertical-align: middle;\n",
       "    }\n",
       "\n",
       "    .dataframe tbody tr th {\n",
       "        vertical-align: top;\n",
       "    }\n",
       "\n",
       "    .dataframe thead th {\n",
       "        text-align: right;\n",
       "    }\n",
       "</style>\n",
       "<table border=\"1\" class=\"dataframe\">\n",
       "  <thead>\n",
       "    <tr style=\"text-align: right;\">\n",
       "      <th></th>\n",
       "      <th>user_id</th>\n",
       "      <th>month</th>\n",
       "      <th>total_messages</th>\n",
       "    </tr>\n",
       "  </thead>\n",
       "  <tbody>\n",
       "    <tr>\n",
       "      <th>0</th>\n",
       "      <td>1000</td>\n",
       "      <td>12</td>\n",
       "      <td>11</td>\n",
       "    </tr>\n",
       "    <tr>\n",
       "      <th>1</th>\n",
       "      <td>1001</td>\n",
       "      <td>8</td>\n",
       "      <td>30</td>\n",
       "    </tr>\n",
       "    <tr>\n",
       "      <th>2</th>\n",
       "      <td>1001</td>\n",
       "      <td>9</td>\n",
       "      <td>44</td>\n",
       "    </tr>\n",
       "    <tr>\n",
       "      <th>3</th>\n",
       "      <td>1001</td>\n",
       "      <td>10</td>\n",
       "      <td>53</td>\n",
       "    </tr>\n",
       "    <tr>\n",
       "      <th>4</th>\n",
       "      <td>1001</td>\n",
       "      <td>11</td>\n",
       "      <td>36</td>\n",
       "    </tr>\n",
       "    <tr>\n",
       "      <th>...</th>\n",
       "      <td>...</td>\n",
       "      <td>...</td>\n",
       "      <td>...</td>\n",
       "    </tr>\n",
       "    <tr>\n",
       "      <th>1801</th>\n",
       "      <td>1496</td>\n",
       "      <td>9</td>\n",
       "      <td>21</td>\n",
       "    </tr>\n",
       "    <tr>\n",
       "      <th>1802</th>\n",
       "      <td>1496</td>\n",
       "      <td>10</td>\n",
       "      <td>18</td>\n",
       "    </tr>\n",
       "    <tr>\n",
       "      <th>1803</th>\n",
       "      <td>1496</td>\n",
       "      <td>11</td>\n",
       "      <td>13</td>\n",
       "    </tr>\n",
       "    <tr>\n",
       "      <th>1804</th>\n",
       "      <td>1496</td>\n",
       "      <td>12</td>\n",
       "      <td>11</td>\n",
       "    </tr>\n",
       "    <tr>\n",
       "      <th>1805</th>\n",
       "      <td>1497</td>\n",
       "      <td>12</td>\n",
       "      <td>50</td>\n",
       "    </tr>\n",
       "  </tbody>\n",
       "</table>\n",
       "<p>1806 rows × 3 columns</p>\n",
       "</div>"
      ],
      "text/plain": [
       "      user_id  month  total_messages\n",
       "0        1000     12              11\n",
       "1        1001      8              30\n",
       "2        1001      9              44\n",
       "3        1001     10              53\n",
       "4        1001     11              36\n",
       "...       ...    ...             ...\n",
       "1801     1496      9              21\n",
       "1802     1496     10              18\n",
       "1803     1496     11              13\n",
       "1804     1496     12              11\n",
       "1805     1497     12              50\n",
       "\n",
       "[1806 rows x 3 columns]"
      ]
     },
     "execution_count": 28,
     "metadata": {},
     "output_type": "execute_result"
    }
   ],
   "source": [
    "# Pivot table showing number of messages sent by each user per month\n",
    "msgs_per_month = pd.pivot_table(msgs, index = ['user_id', 'month'], \n",
    "                                 values = 'id', \n",
    "                                 aggfunc = 'count').reset_index()\n",
    "\n",
    "# Renaming id column for clarity\n",
    "msgs_per_month = msgs_per_month.rename(columns = {\"id\": \"total_messages\"})\n",
    "\n",
    "# Showing table\n",
    "msgs_per_month"
   ]
  },
  {
   "cell_type": "code",
   "execution_count": 29,
   "metadata": {},
   "outputs": [
    {
     "data": {
      "text/html": [
       "<div>\n",
       "<style scoped>\n",
       "    .dataframe tbody tr th:only-of-type {\n",
       "        vertical-align: middle;\n",
       "    }\n",
       "\n",
       "    .dataframe tbody tr th {\n",
       "        vertical-align: top;\n",
       "    }\n",
       "\n",
       "    .dataframe thead th {\n",
       "        text-align: right;\n",
       "    }\n",
       "</style>\n",
       "<table border=\"1\" class=\"dataframe\">\n",
       "  <thead>\n",
       "    <tr style=\"text-align: right;\">\n",
       "      <th></th>\n",
       "      <th>user_id</th>\n",
       "      <th>month</th>\n",
       "      <th>gb_used</th>\n",
       "    </tr>\n",
       "  </thead>\n",
       "  <tbody>\n",
       "    <tr>\n",
       "      <th>0</th>\n",
       "      <td>1000</td>\n",
       "      <td>12</td>\n",
       "      <td>2.0</td>\n",
       "    </tr>\n",
       "    <tr>\n",
       "      <th>1</th>\n",
       "      <td>1001</td>\n",
       "      <td>8</td>\n",
       "      <td>7.0</td>\n",
       "    </tr>\n",
       "    <tr>\n",
       "      <th>2</th>\n",
       "      <td>1001</td>\n",
       "      <td>9</td>\n",
       "      <td>14.0</td>\n",
       "    </tr>\n",
       "    <tr>\n",
       "      <th>3</th>\n",
       "      <td>1001</td>\n",
       "      <td>10</td>\n",
       "      <td>22.0</td>\n",
       "    </tr>\n",
       "    <tr>\n",
       "      <th>4</th>\n",
       "      <td>1001</td>\n",
       "      <td>11</td>\n",
       "      <td>19.0</td>\n",
       "    </tr>\n",
       "    <tr>\n",
       "      <th>...</th>\n",
       "      <td>...</td>\n",
       "      <td>...</td>\n",
       "      <td>...</td>\n",
       "    </tr>\n",
       "    <tr>\n",
       "      <th>2272</th>\n",
       "      <td>1498</td>\n",
       "      <td>12</td>\n",
       "      <td>23.0</td>\n",
       "    </tr>\n",
       "    <tr>\n",
       "      <th>2273</th>\n",
       "      <td>1499</td>\n",
       "      <td>9</td>\n",
       "      <td>13.0</td>\n",
       "    </tr>\n",
       "    <tr>\n",
       "      <th>2274</th>\n",
       "      <td>1499</td>\n",
       "      <td>10</td>\n",
       "      <td>20.0</td>\n",
       "    </tr>\n",
       "    <tr>\n",
       "      <th>2275</th>\n",
       "      <td>1499</td>\n",
       "      <td>11</td>\n",
       "      <td>17.0</td>\n",
       "    </tr>\n",
       "    <tr>\n",
       "      <th>2276</th>\n",
       "      <td>1499</td>\n",
       "      <td>12</td>\n",
       "      <td>22.0</td>\n",
       "    </tr>\n",
       "  </tbody>\n",
       "</table>\n",
       "<p>2277 rows × 3 columns</p>\n",
       "</div>"
      ],
      "text/plain": [
       "      user_id  month  gb_used\n",
       "0        1000     12      2.0\n",
       "1        1001      8      7.0\n",
       "2        1001      9     14.0\n",
       "3        1001     10     22.0\n",
       "4        1001     11     19.0\n",
       "...       ...    ...      ...\n",
       "2272     1498     12     23.0\n",
       "2273     1499      9     13.0\n",
       "2274     1499     10     20.0\n",
       "2275     1499     11     17.0\n",
       "2276     1499     12     22.0\n",
       "\n",
       "[2277 rows x 3 columns]"
      ]
     },
     "execution_count": 29,
     "metadata": {},
     "output_type": "execute_result"
    }
   ],
   "source": [
    "# Calculate the volume of internet traffic used by each user per month\n",
    "traffic_per_month = pd.pivot_table(internet, index = ['user_id', 'month'], \n",
    "                                 values = 'gb_used', \n",
    "                                 aggfunc = 'sum').reset_index()\n",
    "\n",
    "# Round up gb_used\n",
    "traffic_per_month['gb_used'] = traffic_per_month['gb_used'].apply(np.ceil)\n",
    "\n",
    "# Showing table\n",
    "traffic_per_month"
   ]
  },
  {
   "cell_type": "markdown",
   "metadata": {},
   "source": [
    "<div class=\"alert alert-info\">\n",
    "<b>Student Response:</b> \n",
    "    \n",
    "I have rounded up gb_used here.\n",
    "</div>"
   ]
  },
  {
   "cell_type": "markdown",
   "metadata": {},
   "source": [
    "Next, I will aggregate these pivot tables into one dataframe."
   ]
  },
  {
   "cell_type": "code",
   "execution_count": 30,
   "metadata": {},
   "outputs": [
    {
     "data": {
      "text/html": [
       "<div>\n",
       "<style scoped>\n",
       "    .dataframe tbody tr th:only-of-type {\n",
       "        vertical-align: middle;\n",
       "    }\n",
       "\n",
       "    .dataframe tbody tr th {\n",
       "        vertical-align: top;\n",
       "    }\n",
       "\n",
       "    .dataframe thead th {\n",
       "        text-align: right;\n",
       "    }\n",
       "</style>\n",
       "<table border=\"1\" class=\"dataframe\">\n",
       "  <thead>\n",
       "    <tr style=\"text-align: right;\">\n",
       "      <th></th>\n",
       "      <th>user_id</th>\n",
       "      <th>month</th>\n",
       "      <th>total_calls</th>\n",
       "      <th>total_minutes</th>\n",
       "      <th>avg_minutes</th>\n",
       "      <th>total_messages</th>\n",
       "      <th>gb_used</th>\n",
       "    </tr>\n",
       "  </thead>\n",
       "  <tbody>\n",
       "    <tr>\n",
       "      <th>0</th>\n",
       "      <td>1000</td>\n",
       "      <td>12</td>\n",
       "      <td>16.0</td>\n",
       "      <td>124.0</td>\n",
       "      <td>7.750000</td>\n",
       "      <td>11.0</td>\n",
       "      <td>2.0</td>\n",
       "    </tr>\n",
       "    <tr>\n",
       "      <th>1</th>\n",
       "      <td>1001</td>\n",
       "      <td>8</td>\n",
       "      <td>27.0</td>\n",
       "      <td>182.0</td>\n",
       "      <td>6.740741</td>\n",
       "      <td>30.0</td>\n",
       "      <td>7.0</td>\n",
       "    </tr>\n",
       "    <tr>\n",
       "      <th>2</th>\n",
       "      <td>1001</td>\n",
       "      <td>9</td>\n",
       "      <td>49.0</td>\n",
       "      <td>315.0</td>\n",
       "      <td>6.428571</td>\n",
       "      <td>44.0</td>\n",
       "      <td>14.0</td>\n",
       "    </tr>\n",
       "    <tr>\n",
       "      <th>3</th>\n",
       "      <td>1001</td>\n",
       "      <td>10</td>\n",
       "      <td>65.0</td>\n",
       "      <td>393.0</td>\n",
       "      <td>6.046154</td>\n",
       "      <td>53.0</td>\n",
       "      <td>22.0</td>\n",
       "    </tr>\n",
       "    <tr>\n",
       "      <th>4</th>\n",
       "      <td>1001</td>\n",
       "      <td>11</td>\n",
       "      <td>64.0</td>\n",
       "      <td>426.0</td>\n",
       "      <td>6.656250</td>\n",
       "      <td>36.0</td>\n",
       "      <td>19.0</td>\n",
       "    </tr>\n",
       "    <tr>\n",
       "      <th>5</th>\n",
       "      <td>1001</td>\n",
       "      <td>12</td>\n",
       "      <td>56.0</td>\n",
       "      <td>412.0</td>\n",
       "      <td>7.357143</td>\n",
       "      <td>44.0</td>\n",
       "      <td>19.0</td>\n",
       "    </tr>\n",
       "    <tr>\n",
       "      <th>6</th>\n",
       "      <td>1002</td>\n",
       "      <td>10</td>\n",
       "      <td>11.0</td>\n",
       "      <td>59.0</td>\n",
       "      <td>5.363636</td>\n",
       "      <td>15.0</td>\n",
       "      <td>7.0</td>\n",
       "    </tr>\n",
       "    <tr>\n",
       "      <th>7</th>\n",
       "      <td>1002</td>\n",
       "      <td>11</td>\n",
       "      <td>55.0</td>\n",
       "      <td>386.0</td>\n",
       "      <td>7.018182</td>\n",
       "      <td>32.0</td>\n",
       "      <td>19.0</td>\n",
       "    </tr>\n",
       "    <tr>\n",
       "      <th>8</th>\n",
       "      <td>1002</td>\n",
       "      <td>12</td>\n",
       "      <td>47.0</td>\n",
       "      <td>384.0</td>\n",
       "      <td>8.170213</td>\n",
       "      <td>41.0</td>\n",
       "      <td>15.0</td>\n",
       "    </tr>\n",
       "    <tr>\n",
       "      <th>9</th>\n",
       "      <td>1003</td>\n",
       "      <td>12</td>\n",
       "      <td>149.0</td>\n",
       "      <td>1104.0</td>\n",
       "      <td>7.409396</td>\n",
       "      <td>50.0</td>\n",
       "      <td>27.0</td>\n",
       "    </tr>\n",
       "  </tbody>\n",
       "</table>\n",
       "</div>"
      ],
      "text/plain": [
       "   user_id  month  total_calls  total_minutes  avg_minutes  total_messages  \\\n",
       "0     1000     12         16.0          124.0     7.750000            11.0   \n",
       "1     1001      8         27.0          182.0     6.740741            30.0   \n",
       "2     1001      9         49.0          315.0     6.428571            44.0   \n",
       "3     1001     10         65.0          393.0     6.046154            53.0   \n",
       "4     1001     11         64.0          426.0     6.656250            36.0   \n",
       "5     1001     12         56.0          412.0     7.357143            44.0   \n",
       "6     1002     10         11.0           59.0     5.363636            15.0   \n",
       "7     1002     11         55.0          386.0     7.018182            32.0   \n",
       "8     1002     12         47.0          384.0     8.170213            41.0   \n",
       "9     1003     12        149.0         1104.0     7.409396            50.0   \n",
       "\n",
       "   gb_used  \n",
       "0      2.0  \n",
       "1      7.0  \n",
       "2     14.0  \n",
       "3     22.0  \n",
       "4     19.0  \n",
       "5     19.0  \n",
       "6      7.0  \n",
       "7     19.0  \n",
       "8     15.0  \n",
       "9     27.0  "
      ]
     },
     "execution_count": 30,
     "metadata": {},
     "output_type": "execute_result"
    }
   ],
   "source": [
    "# Merging data for calls, minutes, messages, internet for each user_id and month combination\n",
    "user_usage = calls_per_month.merge(\n",
    "    minutes_per_month, on=['user_id', 'month'], how='outer').merge(\n",
    "    avg_minutes_per_month, on=['user_id', 'month'], how='outer').merge(\n",
    "    msgs_per_month, on=['user_id', 'month'], how='outer').merge(\n",
    "    traffic_per_month, on=['user_id', 'month'], how='outer'\n",
    ").sort_values(by=['user_id', 'month'])\n",
    "\n",
    "# Checking values\n",
    "user_usage.head(10)"
   ]
  },
  {
   "cell_type": "markdown",
   "metadata": {},
   "source": [
    "<div class=\"alert alert-block alert-success\">\n",
    "<b>Reviewer's comment v1:</b>\n",
    "    \n",
    "Indeed `how = 'outer' can be used here to prevent data loss.\n",
    "    \n",
    "By the way, it is also possible to group 3 tables at once using reduce. You can read about it here: https://www.codegrepper.com/code-examples/python/merge+more+than+2+dataframes+in+pandas"
   ]
  },
  {
   "cell_type": "code",
   "execution_count": 31,
   "metadata": {
    "scrolled": false
   },
   "outputs": [],
   "source": [
    "# Add the plan of each user\n",
    "user_usage = user_usage.merge(users[['user_id', 'plan']], on = 'user_id', how = 'left')"
   ]
  },
  {
   "cell_type": "code",
   "execution_count": 32,
   "metadata": {},
   "outputs": [
    {
     "name": "stdout",
     "output_type": "stream",
     "text": [
      "<class 'pandas.core.frame.DataFrame'>\n",
      "Int64Index: 2293 entries, 0 to 2292\n",
      "Data columns (total 8 columns):\n",
      " #   Column          Non-Null Count  Dtype  \n",
      "---  ------          --------------  -----  \n",
      " 0   user_id         2293 non-null   int64  \n",
      " 1   month           2293 non-null   int64  \n",
      " 2   total_calls     2293 non-null   float64\n",
      " 3   total_minutes   2293 non-null   float64\n",
      " 4   avg_minutes     2293 non-null   float64\n",
      " 5   total_messages  2293 non-null   float64\n",
      " 6   gb_used         2293 non-null   float64\n",
      " 7   plan            2293 non-null   object \n",
      "dtypes: float64(5), int64(2), object(1)\n",
      "memory usage: 161.2+ KB\n"
     ]
    }
   ],
   "source": [
    "# Filling null values \n",
    "user_usage['total_calls'] = user_usage['total_calls'].fillna(0)\n",
    "user_usage['total_minutes'] = user_usage['total_minutes'].fillna(0)\n",
    "user_usage['avg_minutes'] = user_usage['avg_minutes'].fillna(0)\n",
    "user_usage['total_messages'] = user_usage['total_messages'].fillna(0)\n",
    "user_usage['gb_used'] = user_usage['gb_used'].fillna(0)\n",
    "\n",
    "# Checking they were filled\n",
    "user_usage.info()"
   ]
  },
  {
   "cell_type": "code",
   "execution_count": 33,
   "metadata": {},
   "outputs": [
    {
     "data": {
      "text/html": [
       "<div>\n",
       "<style scoped>\n",
       "    .dataframe tbody tr th:only-of-type {\n",
       "        vertical-align: middle;\n",
       "    }\n",
       "\n",
       "    .dataframe tbody tr th {\n",
       "        vertical-align: top;\n",
       "    }\n",
       "\n",
       "    .dataframe thead th {\n",
       "        text-align: right;\n",
       "    }\n",
       "</style>\n",
       "<table border=\"1\" class=\"dataframe\">\n",
       "  <thead>\n",
       "    <tr style=\"text-align: right;\">\n",
       "      <th></th>\n",
       "      <th>user_id</th>\n",
       "      <th>month</th>\n",
       "      <th>total_calls</th>\n",
       "      <th>total_minutes</th>\n",
       "      <th>avg_minutes</th>\n",
       "      <th>total_messages</th>\n",
       "      <th>gb_used</th>\n",
       "      <th>plan</th>\n",
       "    </tr>\n",
       "  </thead>\n",
       "  <tbody>\n",
       "    <tr>\n",
       "      <th>0</th>\n",
       "      <td>1000</td>\n",
       "      <td>12</td>\n",
       "      <td>16.0</td>\n",
       "      <td>124.0</td>\n",
       "      <td>7.750000</td>\n",
       "      <td>11.0</td>\n",
       "      <td>2.0</td>\n",
       "      <td>ultimate</td>\n",
       "    </tr>\n",
       "    <tr>\n",
       "      <th>1</th>\n",
       "      <td>1001</td>\n",
       "      <td>8</td>\n",
       "      <td>27.0</td>\n",
       "      <td>182.0</td>\n",
       "      <td>6.740741</td>\n",
       "      <td>30.0</td>\n",
       "      <td>7.0</td>\n",
       "      <td>surf</td>\n",
       "    </tr>\n",
       "    <tr>\n",
       "      <th>2</th>\n",
       "      <td>1001</td>\n",
       "      <td>9</td>\n",
       "      <td>49.0</td>\n",
       "      <td>315.0</td>\n",
       "      <td>6.428571</td>\n",
       "      <td>44.0</td>\n",
       "      <td>14.0</td>\n",
       "      <td>surf</td>\n",
       "    </tr>\n",
       "    <tr>\n",
       "      <th>3</th>\n",
       "      <td>1001</td>\n",
       "      <td>10</td>\n",
       "      <td>65.0</td>\n",
       "      <td>393.0</td>\n",
       "      <td>6.046154</td>\n",
       "      <td>53.0</td>\n",
       "      <td>22.0</td>\n",
       "      <td>surf</td>\n",
       "    </tr>\n",
       "    <tr>\n",
       "      <th>4</th>\n",
       "      <td>1001</td>\n",
       "      <td>11</td>\n",
       "      <td>64.0</td>\n",
       "      <td>426.0</td>\n",
       "      <td>6.656250</td>\n",
       "      <td>36.0</td>\n",
       "      <td>19.0</td>\n",
       "      <td>surf</td>\n",
       "    </tr>\n",
       "    <tr>\n",
       "      <th>...</th>\n",
       "      <td>...</td>\n",
       "      <td>...</td>\n",
       "      <td>...</td>\n",
       "      <td>...</td>\n",
       "      <td>...</td>\n",
       "      <td>...</td>\n",
       "      <td>...</td>\n",
       "      <td>...</td>\n",
       "    </tr>\n",
       "    <tr>\n",
       "      <th>2288</th>\n",
       "      <td>1498</td>\n",
       "      <td>12</td>\n",
       "      <td>39.0</td>\n",
       "      <td>339.0</td>\n",
       "      <td>8.692308</td>\n",
       "      <td>0.0</td>\n",
       "      <td>23.0</td>\n",
       "      <td>surf</td>\n",
       "    </tr>\n",
       "    <tr>\n",
       "      <th>2289</th>\n",
       "      <td>1499</td>\n",
       "      <td>9</td>\n",
       "      <td>41.0</td>\n",
       "      <td>346.0</td>\n",
       "      <td>8.439024</td>\n",
       "      <td>0.0</td>\n",
       "      <td>13.0</td>\n",
       "      <td>surf</td>\n",
       "    </tr>\n",
       "    <tr>\n",
       "      <th>2290</th>\n",
       "      <td>1499</td>\n",
       "      <td>10</td>\n",
       "      <td>53.0</td>\n",
       "      <td>385.0</td>\n",
       "      <td>7.264151</td>\n",
       "      <td>0.0</td>\n",
       "      <td>20.0</td>\n",
       "      <td>surf</td>\n",
       "    </tr>\n",
       "    <tr>\n",
       "      <th>2291</th>\n",
       "      <td>1499</td>\n",
       "      <td>11</td>\n",
       "      <td>45.0</td>\n",
       "      <td>308.0</td>\n",
       "      <td>6.844444</td>\n",
       "      <td>0.0</td>\n",
       "      <td>17.0</td>\n",
       "      <td>surf</td>\n",
       "    </tr>\n",
       "    <tr>\n",
       "      <th>2292</th>\n",
       "      <td>1499</td>\n",
       "      <td>12</td>\n",
       "      <td>65.0</td>\n",
       "      <td>496.0</td>\n",
       "      <td>7.630769</td>\n",
       "      <td>0.0</td>\n",
       "      <td>22.0</td>\n",
       "      <td>surf</td>\n",
       "    </tr>\n",
       "  </tbody>\n",
       "</table>\n",
       "<p>2293 rows × 8 columns</p>\n",
       "</div>"
      ],
      "text/plain": [
       "      user_id  month  total_calls  total_minutes  avg_minutes  total_messages  \\\n",
       "0        1000     12         16.0          124.0     7.750000            11.0   \n",
       "1        1001      8         27.0          182.0     6.740741            30.0   \n",
       "2        1001      9         49.0          315.0     6.428571            44.0   \n",
       "3        1001     10         65.0          393.0     6.046154            53.0   \n",
       "4        1001     11         64.0          426.0     6.656250            36.0   \n",
       "...       ...    ...          ...            ...          ...             ...   \n",
       "2288     1498     12         39.0          339.0     8.692308             0.0   \n",
       "2289     1499      9         41.0          346.0     8.439024             0.0   \n",
       "2290     1499     10         53.0          385.0     7.264151             0.0   \n",
       "2291     1499     11         45.0          308.0     6.844444             0.0   \n",
       "2292     1499     12         65.0          496.0     7.630769             0.0   \n",
       "\n",
       "      gb_used      plan  \n",
       "0         2.0  ultimate  \n",
       "1         7.0      surf  \n",
       "2        14.0      surf  \n",
       "3        22.0      surf  \n",
       "4        19.0      surf  \n",
       "...       ...       ...  \n",
       "2288     23.0      surf  \n",
       "2289     13.0      surf  \n",
       "2290     20.0      surf  \n",
       "2291     17.0      surf  \n",
       "2292     22.0      surf  \n",
       "\n",
       "[2293 rows x 8 columns]"
      ]
     },
     "execution_count": 33,
     "metadata": {},
     "output_type": "execute_result"
    }
   ],
   "source": [
    "# Viewing aggregated dataframe\n",
    "user_usage"
   ]
  },
  {
   "cell_type": "markdown",
   "metadata": {},
   "source": [
    "## Monthly revenue per user"
   ]
  },
  {
   "cell_type": "markdown",
   "metadata": {},
   "source": [
    "Next, I will calculate the revenue obtained from each user.\n",
    "\n",
    "If a user was within the limits for their plan (sent fewer messages than their plan offers, used fewer minutes than their plan offers, and used fewer gb than their plan offers), then the revenue made from that user would be \\$20 if they have the _Surf_ plan or \\$70 if they have the _Ultimate_ plan.\n",
    "\n",
    "If a user exceeded the limits in their plan, then they were charged for each extra message, minute, or GB used, with lower charges in the _Ultimate_ plan than the _Surf_ plan."
   ]
  },
  {
   "cell_type": "code",
   "execution_count": 34,
   "metadata": {},
   "outputs": [
    {
     "data": {
      "text/plain": [
       "{'messages_included': 1000,\n",
       " 'mb_per_month_included': 30720,\n",
       " 'minutes_included': 3000,\n",
       " 'usd_monthly_pay': 70,\n",
       " 'usd_per_gb': 7,\n",
       " 'usd_per_message': 0.01,\n",
       " 'usd_per_minute': 0.01,\n",
       " 'plan': 'ultimate',\n",
       " 'gb_per_month_included': 30.0}"
      ]
     },
     "execution_count": 34,
     "metadata": {},
     "output_type": "execute_result"
    }
   ],
   "source": [
    "# creating dictionaries that show what is included in each plan\n",
    "surf_included = plans.loc[0].to_dict()\n",
    "ultimate_included = plans.loc[1].to_dict()\n",
    "\n",
    "# print example\n",
    "ultimate_included"
   ]
  },
  {
   "cell_type": "code",
   "execution_count": 35,
   "metadata": {},
   "outputs": [],
   "source": [
    "# subtract the minutes/messages/gb used by what was included in the plan\n",
    "# if negative, then user was within limits, so no extra profit obtained.\n",
    "# the \"used\" column is rounded up \n",
    "def get_extra_charges(used, included):\n",
    "    overflow = math.ceil(used) - included\n",
    "    return max(0, overflow)\n",
    "\n",
    "# get revenue obtained \n",
    "def get_revenue(plan, total_minutes, total_messages, gb_used):\n",
    "    \n",
    "    # set plan\n",
    "    plan_included = surf_included if plan == \"surf\" else ultimate_included\n",
    "    \n",
    "    # set values included in plan\n",
    "    minutes_included = plan_included['minutes_included']\n",
    "    messages_included = plan_included['messages_included']\n",
    "    gb_included = plan_included['gb_per_month_included']\n",
    "    \n",
    "    # set charges\n",
    "    monthly_price = plan_included['usd_monthly_pay']\n",
    "    extra_gb_charge = plan_included['usd_per_gb']\n",
    "    extra_message_charge = plan_included['usd_per_message']\n",
    "    extra_minute_charge = plan_included['usd_per_minute']\n",
    "    \n",
    "    # subtract total value minus what's provided in the plan - overflow that profit was earned on\n",
    "    extra_minutes = get_extra_charges(total_minutes, minutes_included)\n",
    "    extra_messages = get_extra_charges(total_messages, messages_included)\n",
    "    extra_gb = get_extra_charges(gb_used, gb_included)\n",
    "    \n",
    "    # multiply to determine profit\n",
    "    minutes_profit = extra_minutes * extra_minute_charge\n",
    "    message_profit = extra_messages * extra_message_charge\n",
    "    gb_profit = extra_gb * extra_gb_charge\n",
    "    \n",
    "    # sum for total profit\n",
    "    revenue = (minutes_profit + message_profit + gb_profit + monthly_price).round(2)\n",
    "    \n",
    "    return revenue"
   ]
  },
  {
   "cell_type": "code",
   "execution_count": 36,
   "metadata": {
    "scrolled": false
   },
   "outputs": [
    {
     "data": {
      "text/html": [
       "<div>\n",
       "<style scoped>\n",
       "    .dataframe tbody tr th:only-of-type {\n",
       "        vertical-align: middle;\n",
       "    }\n",
       "\n",
       "    .dataframe tbody tr th {\n",
       "        vertical-align: top;\n",
       "    }\n",
       "\n",
       "    .dataframe thead th {\n",
       "        text-align: right;\n",
       "    }\n",
       "</style>\n",
       "<table border=\"1\" class=\"dataframe\">\n",
       "  <thead>\n",
       "    <tr style=\"text-align: right;\">\n",
       "      <th></th>\n",
       "      <th>user_id</th>\n",
       "      <th>month</th>\n",
       "      <th>total_calls</th>\n",
       "      <th>total_minutes</th>\n",
       "      <th>avg_minutes</th>\n",
       "      <th>total_messages</th>\n",
       "      <th>gb_used</th>\n",
       "      <th>plan</th>\n",
       "      <th>monthly_revenue</th>\n",
       "    </tr>\n",
       "  </thead>\n",
       "  <tbody>\n",
       "    <tr>\n",
       "      <th>0</th>\n",
       "      <td>1000</td>\n",
       "      <td>12</td>\n",
       "      <td>16.0</td>\n",
       "      <td>124.0</td>\n",
       "      <td>7.750000</td>\n",
       "      <td>11.0</td>\n",
       "      <td>2.0</td>\n",
       "      <td>ultimate</td>\n",
       "      <td>70.00</td>\n",
       "    </tr>\n",
       "    <tr>\n",
       "      <th>1</th>\n",
       "      <td>1001</td>\n",
       "      <td>8</td>\n",
       "      <td>27.0</td>\n",
       "      <td>182.0</td>\n",
       "      <td>6.740741</td>\n",
       "      <td>30.0</td>\n",
       "      <td>7.0</td>\n",
       "      <td>surf</td>\n",
       "      <td>20.00</td>\n",
       "    </tr>\n",
       "    <tr>\n",
       "      <th>2</th>\n",
       "      <td>1001</td>\n",
       "      <td>9</td>\n",
       "      <td>49.0</td>\n",
       "      <td>315.0</td>\n",
       "      <td>6.428571</td>\n",
       "      <td>44.0</td>\n",
       "      <td>14.0</td>\n",
       "      <td>surf</td>\n",
       "      <td>20.00</td>\n",
       "    </tr>\n",
       "    <tr>\n",
       "      <th>3</th>\n",
       "      <td>1001</td>\n",
       "      <td>10</td>\n",
       "      <td>65.0</td>\n",
       "      <td>393.0</td>\n",
       "      <td>6.046154</td>\n",
       "      <td>53.0</td>\n",
       "      <td>22.0</td>\n",
       "      <td>surf</td>\n",
       "      <td>90.09</td>\n",
       "    </tr>\n",
       "    <tr>\n",
       "      <th>4</th>\n",
       "      <td>1001</td>\n",
       "      <td>11</td>\n",
       "      <td>64.0</td>\n",
       "      <td>426.0</td>\n",
       "      <td>6.656250</td>\n",
       "      <td>36.0</td>\n",
       "      <td>19.0</td>\n",
       "      <td>surf</td>\n",
       "      <td>60.00</td>\n",
       "    </tr>\n",
       "  </tbody>\n",
       "</table>\n",
       "</div>"
      ],
      "text/plain": [
       "   user_id  month  total_calls  total_minutes  avg_minutes  total_messages  \\\n",
       "0     1000     12         16.0          124.0     7.750000            11.0   \n",
       "1     1001      8         27.0          182.0     6.740741            30.0   \n",
       "2     1001      9         49.0          315.0     6.428571            44.0   \n",
       "3     1001     10         65.0          393.0     6.046154            53.0   \n",
       "4     1001     11         64.0          426.0     6.656250            36.0   \n",
       "\n",
       "   gb_used      plan  monthly_revenue  \n",
       "0      2.0  ultimate            70.00  \n",
       "1      7.0      surf            20.00  \n",
       "2     14.0      surf            20.00  \n",
       "3     22.0      surf            90.09  \n",
       "4     19.0      surf            60.00  "
      ]
     },
     "execution_count": 36,
     "metadata": {},
     "output_type": "execute_result"
    }
   ],
   "source": [
    "# apply function and show\n",
    "user_usage['monthly_revenue'] = user_usage.apply(lambda x: get_revenue(x.plan, x.total_minutes, x.total_messages, x.gb_used), axis = 1)\n",
    "user_usage.head()"
   ]
  },
  {
   "cell_type": "markdown",
   "metadata": {},
   "source": [
    "<div class=\"alert alert-success\">\n",
    "<b>Reviewer's comment v1:</b>\n",
    "    \n",
    "Everything is correct here, but results will be slightly different because of the data rounding. \n",
    "    \n",
    "Btw it is also possible to make the calculation of revenue a little bit differently using np.where - [https://numpy.org/doc/stable/reference/generated/numpy.where.html](https://numpy.org/doc/stable/reference/generated/numpy.where.html)\n",
    "\n",
    "```\n",
    "  np.where ('condition: if exceeding the package limit', 'multiply the difference by the price of additional services', '0')\n",
    "```\n",
    "    \n",
    "Great thing about python is that there are so many libraries and ready-to-use functions. For example, this task can also be solved using `.clip()` (a useful method in many tasks). You can read about it here: [https://www.pythonpool.com/numpy-clip/](https://www.pythonpool.com/numpy-clip/)\n",
    "\n",
    "    total5['gb_surcharge'] = (total5['gb_used'] - total5['gb_per_month_included']).clip(0) * total5['usd_per_gb']"
   ]
  },
  {
   "cell_type": "markdown",
   "metadata": {},
   "source": [
    "<div class=\"alert alert-info\">\n",
    "<b>Student Response:</b> \n",
    "    \n",
    "These are extremely helpful! Thank you for the resources/alternative solutions.\n",
    "</div>"
   ]
  },
  {
   "cell_type": "markdown",
   "metadata": {},
   "source": [
    "# Study user behaviour"
   ]
  },
  {
   "cell_type": "markdown",
   "metadata": {},
   "source": [
    "Now that we have a dataframe with the aggregated information, we can split it into dataframes for users of each plan.\n",
    "\n",
    "Using these dataframes, I will perform analysis on the dataset. I will look at the behavior of users in each plan when it comes to calling, messaging, and internet usage by plotting graphs. I will also compare the revenue obtained from each plan and observe how it differs."
   ]
  },
  {
   "cell_type": "code",
   "execution_count": 37,
   "metadata": {},
   "outputs": [],
   "source": [
    "# creating separate dataframes for surf and ultimate plans\n",
    "surf_users = user_usage.query('plan == \"surf\"')\n",
    "ultimate_users = user_usage.query('plan == \"ultimate\"')"
   ]
  },
  {
   "cell_type": "markdown",
   "metadata": {},
   "source": [
    "### Calls"
   ]
  },
  {
   "cell_type": "markdown",
   "metadata": {},
   "source": [
    "First, I will look at the behavior of users in both plans when it comes to calling."
   ]
  },
  {
   "cell_type": "code",
   "execution_count": 38,
   "metadata": {},
   "outputs": [
    {
     "data": {
      "text/plain": [
       "<AxesSubplot:title={'center':'Ultimate Users - Average Call Duration Per Month'}, xlabel='Month', ylabel='Average Number of Minutes'>"
      ]
     },
     "execution_count": 38,
     "metadata": {},
     "output_type": "execute_result"
    },
    {
     "data": {
      "image/png": "[encoded data removed]",
      "text/plain": [
       "<Figure size 1008x432 with 2 Axes>"
      ]
     },
     "metadata": {
      "needs_background": "light"
     },
     "output_type": "display_data"
    }
   ],
   "source": [
    "# comparing average duration of calls per each plan per each distinct month\n",
    "fig, ax = plt.subplots(ncols=2, figsize=(14,6))\n",
    "\n",
    "# surf plan bar plot\n",
    "surf_users.pivot_table(index='month', values='avg_minutes', aggfunc='mean').plot(\n",
    "    kind = 'bar',\n",
    "    xlabel = 'Month',\n",
    "    ylabel = 'Average Number of Minutes',\n",
    "    title = 'Surf Users - Average Call Duration Per Month',\n",
    "    color = 'olive',\n",
    "    legend = False,\n",
    "    ax = ax[0])\n",
    "\n",
    "# ultimate plan bar plot\n",
    "ultimate_users.pivot_table(index='month', values='avg_minutes', aggfunc='mean').plot(\n",
    "    kind = 'bar',\n",
    "    xlabel = 'Month',\n",
    "    ylabel = 'Average Number of Minutes',\n",
    "    title = 'Ultimate Users - Average Call Duration Per Month',\n",
    "    color = 'orange',\n",
    "    legend = False,\n",
    "    ax = ax[1])"
   ]
  },
  {
   "cell_type": "markdown",
   "metadata": {},
   "source": [
    "From the bar plots above, we can see that users with the _Surf_ plan have on average a more consistent call durarion through the year than users with the _Ultimate_ plan. There is a noticeable dip in _Ultimate_ call duration activity during the first three months of the year."
   ]
  },
  {
   "cell_type": "code",
   "execution_count": 39,
   "metadata": {
    "scrolled": true
   },
   "outputs": [
    {
     "data": {
      "text/plain": [
       "Text(0.5, 0, 'Average Minutes Used')"
      ]
     },
     "execution_count": 39,
     "metadata": {},
     "output_type": "execute_result"
    },
    {
     "data": {
      "image/png": "[encoded data removed]",
      "text/plain": [
       "<Figure size 864x288 with 2 Axes>"
      ]
     },
     "metadata": {
      "needs_background": "light"
     },
     "output_type": "display_data"
    }
   ],
   "source": [
    "# comparing the number of minutes users of each plan require each month using a histogram\n",
    "fig, ax = plt.subplots(ncols=2, figsize=(12,4))\n",
    "\n",
    "# surf plan histogram\n",
    "surf_users['total_minutes'].plot(kind = 'hist',\n",
    "                                 bins = 10,\n",
    "                                 xlabel = 'Average Total Duration (Minutes)',\n",
    "                                 ylabel = 'Months',\n",
    "                                 color = 'olive',\n",
    "                                 ax = ax[0])\n",
    "\n",
    "# ultimate plan histogram\n",
    "ultimate_users['total_minutes'].plot(kind = 'hist',\n",
    "                                 bins = 10,\n",
    "                                 xlabel = 'Average Total Duration (Minutes)',\n",
    "                                 ylabel = 'Months',\n",
    "                                 color = 'orange',\n",
    "                                 ax = ax[1])\n",
    "\n",
    "# set labels\n",
    "ax[0].title.set_text(\"Surf Plan - Average Minutes Used\")\n",
    "ax[1].title.set_text(\"Ultimate Plan - Average Minutes Used\")\n",
    "ax[0].set_xlabel(\"Average Minutes Used\")\n",
    "ax[1].set_xlabel(\"Average Minutes Used\")"
   ]
  },
  {
   "cell_type": "code",
   "execution_count": 40,
   "metadata": {},
   "outputs": [
    {
     "name": "stdout",
     "output_type": "stream",
     "text": [
      "Surf Plan:\n",
      "Average call duration: 7.031 minutes\n",
      "Variance of call duration: 2.102 minutes\n",
      "Average total call duration: 428.75 minutes\n",
      "Median total call duration: 425.0 minutes\n",
      "Variance of total call duration: 54968.279 minutes\n",
      "\n",
      "Ultimate Plan:\n",
      "Average call duration: 7.01 minutes\n",
      "Variance of call duration: 1.39 minutes\n",
      "Average total call duration: 430.45 minutes\n",
      "Median total call duration: 424.0 minutes\n",
      "Variance of total call duration: 57844.465 minutes\n"
     ]
    }
   ],
   "source": [
    "# Calculate the mean and the variance of the monthly call duration\n",
    "\n",
    "print('Surf Plan:')\n",
    "print(f'Average call duration: {surf_users.avg_minutes.mean().round(3)} minutes')\n",
    "print(f'Variance of call duration: {surf_users.avg_minutes.var().round(3)} minutes')\n",
    "print(f'Average total call duration: {surf_users.total_minutes.mean().round(3)} minutes')\n",
    "print(f'Median total call duration: {surf_users.total_minutes.median().round(3)} minutes')\n",
    "print(f'Variance of total call duration: {surf_users.total_minutes.var().round(3)} minutes\\n')\n",
    "\n",
    "print('Ultimate Plan:')\n",
    "print(f'Average call duration: {ultimate_users.avg_minutes.mean().round(3)} minutes')\n",
    "print(f'Variance of call duration: {ultimate_users.avg_minutes.var().round(3)} minutes')\n",
    "print(f'Average total call duration: {ultimate_users.total_minutes.mean().round(3)} minutes')\n",
    "print(f'Median total call duration: {ultimate_users.total_minutes.median().round(3)} minutes')\n",
    "print(f'Variance of total call duration: {ultimate_users.total_minutes.var().round(3)} minutes')"
   ]
  },
  {
   "cell_type": "markdown",
   "metadata": {},
   "source": [
    "<div class=\"alert alert-block alert-success\">\n",
    "<b>Reviewer's comment v1</b>\n",
    " \n",
    "It's great that you managed to calculate all the necessary metrics and display them in the table.\n",
    "\n",
    "There is also a way to display all statistical metrics in one table (you can pass all metrics to aggfunc at once.), using, for example, pivot_table:\n",
    "\n",
    "`data.pivot_table(index= 'tariff', values= '...', aggfunc= ['mean', 'var','std', 'median'])`"
   ]
  },
  {
   "cell_type": "markdown",
   "metadata": {},
   "source": [
    "<div class=\"alert alert-block alert-info\">\n",
    "<b>Student's response</b>\n",
    " \n",
    "This is significantly cleaner, thank you!"
   ]
  },
  {
   "cell_type": "markdown",
   "metadata": {},
   "source": [
    "There are more users in the Surf Plan than the Ultimate Plan which is why the distribution in the Ultimate Plan has a more limited yaxis - however, both distributions are similar. Each is right skewed. The Surf Plan peaks around 300 minutes whereas the Ultimate Plan peaks around 400 minutes a month - therefore, there are proportionally more Ultimate users using a greater amount of minutes each month. However, the Ultimate plan offers double the amount of minutes (1000 vs 500) than the Surf plan.\n",
    "\n",
    "Though the average call durations doesn't vary much between the plans (with Surf pkan users having slightly longer calls on average), users of the Ultimate plan on average use 2 more minutes more than Surf users. However, the median total minutes used is higher for Surf plan users."
   ]
  },
  {
   "cell_type": "code",
   "execution_count": 41,
   "metadata": {},
   "outputs": [
    {
     "data": {
      "image/png": "[encoded data removed]",
      "text/plain": [
       "<Figure size 1008x576 with 2 Axes>"
      ]
     },
     "metadata": {
      "needs_background": "light"
     },
     "output_type": "display_data"
    }
   ],
   "source": [
    "# Plot a boxplot to visualize the distribution of the monthly call duration\n",
    "\n",
    "# comparing average duration of calls per each plan per each distinct month\n",
    "fig, ax = plt.subplots(ncols=2, figsize=(14,8))\n",
    "\n",
    "# surf plan box plot\n",
    "surf_users['total_minutes'].plot(kind = 'box',\n",
    "                                 title = 'Surf Users - Average Call Duration Per Month',\n",
    "                                 color = 'olive',\n",
    "                                 ax = ax[0]);\n",
    "\n",
    "# ultimate plan box plot\n",
    "ultimate_users['total_minutes'].plot(kind = 'box',\n",
    "                                 title = 'Ultimate Users - Average Call Duration Per Month',\n",
    "                                 color = 'orange',\n",
    "                                 ax = ax[1],\n",
    "                                 yticks = np.arange(0, 1401, 200));"
   ]
  },
  {
   "cell_type": "markdown",
   "metadata": {},
   "source": [
    "<div class=\"alert alert-block alert-warning\">\n",
    "<b>Reviewer's comment v1:</b>\n",
    "    \n",
    "In order not to show auxiliary python outputs like \"matplotlib.axes._subplots.AxesSubplot at 0x7f5feaf7fc90 ', you can add a semicolon or plt.show () at the end of the line."
   ]
  },
  {
   "cell_type": "markdown",
   "metadata": {},
   "source": [
    "<div class=\"alert alert-info\">\n",
    "<b>Student Response:</b> \n",
    "    \n",
    "I was wondering how to do this - thank you, it's been updated.\n",
    "</div>"
   ]
  },
  {
   "cell_type": "markdown",
   "metadata": {},
   "source": [
    "<div class=\"alert alert-block alert-success\">\n",
    "<b>Reviewer's comment v2:</b>\n",
    "    \n",
    "That looks very neat and clean."
   ]
  },
  {
   "cell_type": "markdown",
   "metadata": {},
   "source": [
    "In all, there is little difference between how users of the two different plans use their minutes. The Surf plan offers a base 500 minutes whereas the Ultimate plan offers a base 3000 minutes - both averages are below these margins, around 400 minutes. You would expect users of the Ultimate plan to use significantly more minutes than those on the Surf plan, but that is not the case. "
   ]
  },
  {
   "cell_type": "markdown",
   "metadata": {},
   "source": [
    " "
   ]
  },
  {
   "cell_type": "markdown",
   "metadata": {},
   "source": [
    "### Messages"
   ]
  },
  {
   "cell_type": "markdown",
   "metadata": {},
   "source": [
    "Next, I will observe the behavior of users when it comes to sending messages."
   ]
  },
  {
   "cell_type": "code",
   "execution_count": 42,
   "metadata": {},
   "outputs": [
    {
     "data": {
      "image/png": "[encoded data removed]",
      "text/plain": [
       "<Figure size 1008x432 with 2 Axes>"
      ]
     },
     "metadata": {
      "needs_background": "light"
     },
     "output_type": "display_data"
    }
   ],
   "source": [
    "# comparing the number of messages users of each plan tend to send each month\n",
    "fig, ax = plt.subplots(ncols=2, figsize=(14,6))\n",
    "\n",
    "# plot users of surf plan\n",
    "surf_users['total_messages'].plot(kind = 'hist',\n",
    "                                  title = 'Surf Plan - Number of Messages Sent Each Month',\n",
    "                                  xlabel = 'Number of Messages',\n",
    "                                  color = 'olive', \n",
    "                                  ax = ax[0]\n",
    "                                 );\n",
    "\n",
    "# plot users of ultimate plan\n",
    "ultimate_users['total_messages'].plot(kind = 'hist',\n",
    "                                  title = 'Ultimate Plan - Number of Messages Sent Each Month',\n",
    "                                  xlabel = 'Number of Messages',\n",
    "                                  color = 'orange', \n",
    "                                  ax = ax[1]\n",
    "                                 );"
   ]
  },
  {
   "cell_type": "code",
   "execution_count": 43,
   "metadata": {
    "scrolled": false
   },
   "outputs": [
    {
     "data": {
      "image/png": "[encoded data removed]",
      "text/plain": [
       "<Figure size 1008x432 with 2 Axes>"
      ]
     },
     "metadata": {
      "needs_background": "light"
     },
     "output_type": "display_data"
    }
   ],
   "source": [
    "# comparing the number of messages users of each plan tend to send each month\n",
    "fig, ax = plt.subplots(ncols=2, figsize=(14,6))\n",
    "\n",
    "# plot users of surf plan\n",
    "surf_users['total_messages'].plot(kind = 'box',\n",
    "                                  title = 'Surf Plan - Number of Messages Sent Each Month',\n",
    "                                  xlabel = 'Number of Messages',\n",
    "                                  color = 'olive', \n",
    "                                  ax = ax[0]\n",
    "                                 );\n",
    "\n",
    "# plot users of ultimate plan\n",
    "ultimate_users['total_messages'].plot(kind = 'box',\n",
    "                                  title = 'Ultimate Plan - Number of Messages Sent Each Month',\n",
    "                                  xlabel = 'Number of Messages',\n",
    "                                  color = 'orange', \n",
    "                                  ax = ax[1],\n",
    "                                  yticks = np.arange(0, 251, 50)\n",
    "                                 );"
   ]
  },
  {
   "cell_type": "code",
   "execution_count": 44,
   "metadata": {
    "scrolled": true
   },
   "outputs": [
    {
     "data": {
      "text/plain": [
       "count    720.000000\n",
       "mean      37.551389\n",
       "std       34.767179\n",
       "min        0.000000\n",
       "25%        7.000000\n",
       "50%       30.000000\n",
       "75%       61.000000\n",
       "max      166.000000\n",
       "Name: total_messages, dtype: float64"
      ]
     },
     "execution_count": 44,
     "metadata": {},
     "output_type": "execute_result"
    }
   ],
   "source": [
    "# information about messaging for users in the ultimate plan\n",
    "ultimate_users['total_messages'].describe()"
   ]
  },
  {
   "cell_type": "code",
   "execution_count": 45,
   "metadata": {},
   "outputs": [
    {
     "data": {
      "text/plain": [
       "count    1573.000000\n",
       "mean       31.159568\n",
       "std        33.566717\n",
       "min         0.000000\n",
       "25%         3.000000\n",
       "50%        24.000000\n",
       "75%        47.000000\n",
       "max       266.000000\n",
       "Name: total_messages, dtype: float64"
      ]
     },
     "execution_count": 45,
     "metadata": {},
     "output_type": "execute_result"
    }
   ],
   "source": [
    "# information about messaging for users in the surf plan\n",
    "surf_users['total_messages'].describe()"
   ]
  },
  {
   "cell_type": "markdown",
   "metadata": {},
   "source": [
    "In terms of messaging, users in the ultimate plan tend to send more messages on average. There are a few outliers in the surf plan that drive up the average amount sent per month.\n",
    "\n",
    "Despite this, both plans are, on average, under the limit for their respective plans (50 for Surf, 1000 for Ultimate). Like calling minutes, the average for Surf users is proportionally very close to the limit."
   ]
  },
  {
   "cell_type": "markdown",
   "metadata": {},
   "source": [
    " "
   ]
  },
  {
   "cell_type": "markdown",
   "metadata": {},
   "source": [
    "### Internet"
   ]
  },
  {
   "cell_type": "code",
   "execution_count": 46,
   "metadata": {
    "scrolled": false
   },
   "outputs": [
    {
     "data": {
      "image/png": "[encoded data removed]",
      "text/plain": [
       "<Figure size 1008x432 with 2 Axes>"
      ]
     },
     "metadata": {
      "needs_background": "light"
     },
     "output_type": "display_data"
    }
   ],
   "source": [
    "# Compare the amount of internet traffic consumed by users per plan\n",
    "fig, ax = plt.subplots(ncols=2, figsize=(14,6))\n",
    "\n",
    "# plot users of surf plan\n",
    "surf_users['gb_used'].plot(kind = 'hist',\n",
    "                                  title = 'Surf Plan - GB Used Each Month',\n",
    "                                  xlabel = 'GB',\n",
    "                                  color = 'olive', \n",
    "                                  ax = ax[0]\n",
    "                                 );\n",
    "\n",
    "# plot users of ultimate plan\n",
    "ultimate_users['gb_used'].plot(kind = 'hist',\n",
    "                                  title = 'Ultimate Plan - GB Used Each Month',\n",
    "                                  xlabel = 'GB',\n",
    "                                  color = 'orange', \n",
    "                                  ax = ax[1]\n",
    "                                 );"
   ]
  },
  {
   "cell_type": "code",
   "execution_count": 47,
   "metadata": {},
   "outputs": [
    {
     "data": {
      "image/png": "[encoded data removed]",
      "text/plain": [
       "<Figure size 1008x432 with 2 Axes>"
      ]
     },
     "metadata": {
      "needs_background": "light"
     },
     "output_type": "display_data"
    }
   ],
   "source": [
    "# Compare the amount of internet traffic consumed by users per plan\n",
    "fig, ax = plt.subplots(ncols=2, figsize=(14,6))\n",
    "\n",
    "# plot users of surf plan\n",
    "surf_users['gb_used'].plot(kind = 'box',\n",
    "                                  title = 'Surf Plan - GB Used Each Month',\n",
    "                                  xlabel = 'GB',\n",
    "                                  color = 'olive', \n",
    "                                  ax = ax[0]\n",
    "                                 );\n",
    "\n",
    "# plot users of ultimate plan\n",
    "ultimate_users['gb_used'].plot(kind = 'box',\n",
    "                                  title = 'Ultimate Plan - GB Used Each Month',\n",
    "                                  xlabel = 'GB',\n",
    "                                  color = 'orange', \n",
    "                                  ax = ax[1]\n",
    "                                 );"
   ]
  },
  {
   "cell_type": "code",
   "execution_count": 48,
   "metadata": {},
   "outputs": [
    {
     "data": {
      "text/plain": [
       "count    1573.000000\n",
       "mean       16.670693\n",
       "std         7.847522\n",
       "min         0.000000\n",
       "25%        12.000000\n",
       "50%        17.000000\n",
       "75%        21.000000\n",
       "max        70.000000\n",
       "Name: gb_used, dtype: float64"
      ]
     },
     "execution_count": 48,
     "metadata": {},
     "output_type": "execute_result"
    }
   ],
   "source": [
    "# describe gb used for surf plan\n",
    "surf_users['gb_used'].describe()"
   ]
  },
  {
   "cell_type": "code",
   "execution_count": 49,
   "metadata": {},
   "outputs": [
    {
     "data": {
      "text/plain": [
       "count    720.000000\n",
       "mean      17.306944\n",
       "std        7.670108\n",
       "min        0.000000\n",
       "25%       13.000000\n",
       "50%       17.000000\n",
       "75%       21.000000\n",
       "max       46.000000\n",
       "Name: gb_used, dtype: float64"
      ]
     },
     "execution_count": 49,
     "metadata": {},
     "output_type": "execute_result"
    }
   ],
   "source": [
    "# describe gb used for ultimate plan\n",
    "ultimate_users['gb_used'].describe()"
   ]
  },
  {
   "cell_type": "markdown",
   "metadata": {},
   "source": [
    "Users with the Ultimate plan tend to use more GB on average. While users of both plans tend to peak under 20 GB, there's a larger proportion of users on the Ultimate plan who use upwards of 20, 30, or 40 GB. Users of the Surf plan using this much data are, in proportion, significantly smaller. See below:"
   ]
  },
  {
   "cell_type": "code",
   "execution_count": 50,
   "metadata": {},
   "outputs": [
    {
     "data": {
      "image/png": "[encoded data removed]",
      "text/plain": [
       "<Figure size 1008x432 with 2 Axes>"
      ]
     },
     "metadata": {
      "needs_background": "light"
     },
     "output_type": "display_data"
    }
   ],
   "source": [
    "# Compare the amount of internet traffic consumed by users per plan\n",
    "fig, ax = plt.subplots(ncols=2, figsize=(14,6))\n",
    "\n",
    "# plot users of surf plan\n",
    "surf_users.query('gb_used > 25')['gb_used'].plot(kind = 'hist',\n",
    "                                  title = 'Surf Plan - GB Used Each Month',\n",
    "                                  xlabel = 'GB',\n",
    "                                  color = 'olive', \n",
    "                                  ax = ax[0]\n",
    "                                 );\n",
    "\n",
    "# plot users of ultimate plan\n",
    "ultimate_users.query('gb_used > 25')['gb_used'].plot(kind = 'hist',\n",
    "                                  title = 'Ultimate Plan - GB Used Each Month',\n",
    "                                  xlabel = 'GB',\n",
    "                                  color = 'orange', \n",
    "                                  ax = ax[1]\n",
    "                                 );"
   ]
  },
  {
   "cell_type": "markdown",
   "metadata": {},
   "source": [
    "When we only compare users that use 25 GB+, there is a higher proportion of Ultimate users. Note, however, that there are more Surf users overall, and the Surf plan also contains the highest amount of GB usage in the entire dataset. These outliers are important, as extra GB usage can be expensive - an additional $7-10 for Ultimate and Surf plans."
   ]
  },
  {
   "cell_type": "markdown",
   "metadata": {},
   "source": [
    " "
   ]
  },
  {
   "cell_type": "markdown",
   "metadata": {},
   "source": [
    "# Revenue"
   ]
  },
  {
   "cell_type": "code",
   "execution_count": 51,
   "metadata": {},
   "outputs": [
    {
     "data": {
      "image/png": "[encoded data removed]",
      "text/plain": [
       "<Figure size 1008x432 with 2 Axes>"
      ]
     },
     "metadata": {
      "needs_background": "light"
     },
     "output_type": "display_data"
    }
   ],
   "source": [
    "# Compare the amount of internet traffic consumed by users per plan\n",
    "fig, ax = plt.subplots(ncols=2, figsize=(14,6))\n",
    "\n",
    "# plot users of surf plan\n",
    "surf_users['monthly_revenue'].plot(kind = 'box',\n",
    "                                  title = 'Surf Plan - Revenue',\n",
    "                                  xlabel = 'Revenue',\n",
    "                                  color = 'olive', \n",
    "                                  ax = ax[0]\n",
    "                                 );\n",
    "\n",
    "# plot users of ultimate plan\n",
    "ultimate_users['monthly_revenue'].plot(kind = 'box',\n",
    "                                  title = 'Ultimate Plan - Revenue',\n",
    "                                  xlabel = 'Revenue',\n",
    "                                  color = 'orange', \n",
    "                                  ax = ax[1]\n",
    "                                 );"
   ]
  },
  {
   "cell_type": "code",
   "execution_count": 52,
   "metadata": {},
   "outputs": [
    {
     "data": {
      "text/plain": [
       "count    1573.000000\n",
       "mean       60.706408\n",
       "std        55.388042\n",
       "min        20.000000\n",
       "25%        20.000000\n",
       "50%        40.360000\n",
       "75%        80.360000\n",
       "max       590.370000\n",
       "Name: monthly_revenue, dtype: float64"
      ]
     },
     "execution_count": 52,
     "metadata": {},
     "output_type": "execute_result"
    }
   ],
   "source": [
    "# see revenue info about surf users\n",
    "surf_users['monthly_revenue'].describe()"
   ]
  },
  {
   "cell_type": "code",
   "execution_count": 53,
   "metadata": {},
   "outputs": [
    {
     "data": {
      "text/plain": [
       "count    720.000000\n",
       "mean      72.313889\n",
       "std       11.395108\n",
       "min       70.000000\n",
       "25%       70.000000\n",
       "50%       70.000000\n",
       "75%       70.000000\n",
       "max      182.000000\n",
       "Name: monthly_revenue, dtype: float64"
      ]
     },
     "execution_count": 53,
     "metadata": {},
     "output_type": "execute_result"
    }
   ],
   "source": [
    "# see revenue info about ultimate users\n",
    "ultimate_users['monthly_revenue'].describe()"
   ]
  },
  {
   "cell_type": "markdown",
   "metadata": {},
   "source": [
    "The outliers in the dataset are even more apparent when it comes to comparing the revenue generated each month. Notably, Q1-Q3 are all the same value for users of the Ultimate plan. I will conduct this analysis on both the outliers and data points that fall within the normal range."
   ]
  },
  {
   "cell_type": "code",
   "execution_count": 54,
   "metadata": {},
   "outputs": [],
   "source": [
    "# method to get upper limit (to exclude outliers)\n",
    "def get_upper_limit(df):\n",
    "    Q1 = df.monthly_revenue.quantile(0.25)\n",
    "    Q3 = df.monthly_revenue.quantile(0.75)\n",
    "    IQR = Q3 - Q1\n",
    "    return Q3 + 1.5 * IQR\n",
    "\n",
    "# get upper limits\n",
    "surf_limit = get_upper_limit(surf_users)\n",
    "ultimate_limit = get_upper_limit(ultimate_users)"
   ]
  },
  {
   "cell_type": "code",
   "execution_count": 55,
   "metadata": {
    "scrolled": true
   },
   "outputs": [
    {
     "name": "stdout",
     "output_type": "stream",
     "text": [
      "Surf Upper Limit: 170.89999999999998\n",
      "Ultimate Upper Limit: 70.0\n"
     ]
    }
   ],
   "source": [
    "print(f'Surf Upper Limit: {surf_limit}')\n",
    "print(f'Ultimate Upper Limit: {ultimate_limit}')"
   ]
  },
  {
   "cell_type": "code",
   "execution_count": 56,
   "metadata": {},
   "outputs": [],
   "source": [
    "surf_outliers = surf_users.query('monthly_revenue > @surf_limit').reset_index(drop=True)\n",
    "surf_normal = surf_users.query('monthly_revenue <= @surf_limit').reset_index(drop=True)\n",
    "\n",
    "ultimate_outliers = ultimate_users.query('monthly_revenue > @ultimate_limit').reset_index(drop=True)\n",
    "ultimate_normal = ultimate_users.query('monthly_revenue <= @ultimate_limit').reset_index(drop=True)"
   ]
  },
  {
   "cell_type": "markdown",
   "metadata": {},
   "source": [
    "First, I will look at the revenue generated of the datasets without the outliers."
   ]
  },
  {
   "cell_type": "code",
   "execution_count": 57,
   "metadata": {},
   "outputs": [
    {
     "data": {
      "image/png": "[encoded data removed]",
      "text/plain": [
       "<Figure size 1008x432 with 2 Axes>"
      ]
     },
     "metadata": {
      "needs_background": "light"
     },
     "output_type": "display_data"
    }
   ],
   "source": [
    "# Compare the amount of internet traffic consumed by users per plan\n",
    "fig, ax = plt.subplots(ncols=2, figsize=(14,6))\n",
    "\n",
    "# plot users of surf plan\n",
    "surf_normal['monthly_revenue'].plot(kind = 'hist',\n",
    "                                  title = 'Surf Plan - Revenue (No outliers)',\n",
    "                                  xlabel = 'Revenue',\n",
    "                                  color = 'olive', \n",
    "                                  ax = ax[0]\n",
    "                                 );\n",
    "\n",
    "# plot users of ultimate plan\n",
    "ultimate_normal['monthly_revenue'].plot(kind = 'hist',\n",
    "                                  title = 'Ultimate Plan - Revenue (No outliers)',\n",
    "                                  xlabel = 'Revenue',\n",
    "                                  color = 'orange', \n",
    "                                  ax = ax[1]\n",
    "                                 );"
   ]
  },
  {
   "cell_type": "markdown",
   "metadata": {},
   "source": [
    "The upper limit of `monthly_revenue` was 70 GB, so it is no surprise that monthly_revenue has a single value. We can see that for non-outliers, there's a significantly greater amount of variation for the Surf plan than the Ultimate plan. "
   ]
  },
  {
   "cell_type": "code",
   "execution_count": 58,
   "metadata": {
    "scrolled": false
   },
   "outputs": [
    {
     "data": {
      "image/png": "[encoded data removed]",
      "text/plain": [
       "<Figure size 1008x432 with 2 Axes>"
      ]
     },
     "metadata": {
      "needs_background": "light"
     },
     "output_type": "display_data"
    }
   ],
   "source": [
    "# Compare the revenue\n",
    "fig, ax = plt.subplots(ncols=2, figsize=(14,6))\n",
    "\n",
    "# plot users of surf plan\n",
    "surf_outliers['monthly_revenue'].plot(kind = 'hist',\n",
    "                                  title = 'Surf Plan - Revenue (Outliers)',\n",
    "                                  xlabel = 'Revenue',\n",
    "                                  color = 'olive', \n",
    "                                  ax = ax[0],\n",
    "                                      xticks = np.arange(0, 601, 100),\n",
    "                                      yticks = np.arange(0, 36, 5)\n",
    "                                 );\n",
    "\n",
    "# plot users of ultimate plan\n",
    "ultimate_outliers['monthly_revenue'].plot(kind = 'hist',\n",
    "                                  title = 'Ultimate Plan - Revenue (Outliers)',\n",
    "                                  xlabel = 'Revenue',\n",
    "                                  color = 'orange', \n",
    "                                  ax = ax[1],\n",
    "                                          xticks = np.arange(0, 601, 100),\n",
    "                                          yticks = np.arange(0, 36, 5)\n",
    "                                 );"
   ]
  },
  {
   "cell_type": "code",
   "execution_count": 59,
   "metadata": {},
   "outputs": [
    {
     "data": {
      "text/plain": [
       "count     71.000000\n",
       "mean     236.926197\n",
       "std       73.265982\n",
       "min      170.900000\n",
       "25%      194.885000\n",
       "50%      220.000000\n",
       "75%      244.845000\n",
       "max      590.370000\n",
       "Name: monthly_revenue, dtype: float64"
      ]
     },
     "execution_count": 59,
     "metadata": {},
     "output_type": "execute_result"
    }
   ],
   "source": [
    "# outlier information\n",
    "surf_outliers['monthly_revenue'].describe()"
   ]
  },
  {
   "cell_type": "code",
   "execution_count": 60,
   "metadata": {},
   "outputs": [
    {
     "data": {
      "text/plain": [
       "count     41.000000\n",
       "mean     110.634146\n",
       "std       27.165931\n",
       "min       77.000000\n",
       "25%       91.000000\n",
       "50%      112.000000\n",
       "75%      126.000000\n",
       "max      182.000000\n",
       "Name: monthly_revenue, dtype: float64"
      ]
     },
     "execution_count": 60,
     "metadata": {},
     "output_type": "execute_result"
    }
   ],
   "source": [
    "# outlier information\n",
    "ultimate_outliers['monthly_revenue'].describe()"
   ]
  },
  {
   "cell_type": "markdown",
   "metadata": {},
   "source": [
    "The histograms showing the revenue generated from the outlier data shows these two plans on the same scale. There are not only more users who have the surf plan, but there are also more users who are outliers that generate more revenue for the company. Some of these outliers are generating upwards of $300 per month, which is never generated by the Ultimate plan. Likely, this is due to exceeding the amount of GB used. "
   ]
  },
  {
   "cell_type": "markdown",
   "metadata": {},
   "source": [
    "## Total generated by each plan"
   ]
  },
  {
   "cell_type": "code",
   "execution_count": 61,
   "metadata": {},
   "outputs": [
    {
     "data": {
      "image/png": "[encoded data removed]",
      "text/plain": [
       "<Figure size 1008x432 with 2 Axes>"
      ]
     },
     "metadata": {
      "needs_background": "light"
     },
     "output_type": "display_data"
    }
   ],
   "source": [
    "# Compare the revenue generated per month\n",
    "fig, ax = plt.subplots(ncols=2, figsize=(14,6))\n",
    "\n",
    "# plot users of surf plan\n",
    "surf_users.pivot_table(index = 'month', values = 'monthly_revenue', aggfunc = 'sum').plot(kind = 'bar',\n",
    "                                  title = 'Surf Plan - Monthly Revenue',\n",
    "                                  xlabel = 'Revenue',\n",
    "                                  color = 'olive', \n",
    "                                  ax = ax[0],\n",
    "                                 );\n",
    "\n",
    "# plot users of ultimate plan\n",
    "ultimate_users.pivot_table(index = 'month', values = 'monthly_revenue', aggfunc = 'sum').plot(kind = 'bar',\n",
    "                                  title = 'Ultimate Plan - Monthly Revenue',\n",
    "                                  xlabel = 'Revenue',\n",
    "                                  color = 'orange', \n",
    "                                  ax = ax[1],\n",
    "                                  yticks = np.arange(0, 20001, 5000)\n",
    "                                 );"
   ]
  },
  {
   "cell_type": "code",
   "execution_count": 62,
   "metadata": {},
   "outputs": [
    {
     "name": "stdout",
     "output_type": "stream",
     "text": [
      "Total amount generated by the surf plan: $95491.18\n",
      "Total amount generated by the ultimate plan: $52066.0\n"
     ]
    }
   ],
   "source": [
    "# print total amount generated over the year for each plan\n",
    "print(f'Total amount generated by the surf plan: ${surf_users.monthly_revenue.sum()}')\n",
    "print(f'Total amount generated by the ultimate plan: ${ultimate_users.monthly_revenue.sum()}')"
   ]
  },
  {
   "cell_type": "markdown",
   "metadata": {},
   "source": [
    "There are significantly more users apart of the surf plan than the ultimate plan, and consequently there are more users who exceed the base limits who are apart of the surf plan. The ultimate plan offers consistency in how much revenue it will generate per month per user - $70, with users very rarely exceeding those limits. But the revenue generated per month per user for the surf plan is alternatively highly variable. It's extremely common for users to send more messages, call more minutes, or use more GB than the base plan has to offer. For these users, the extra money they spend quickly adds up on a month to month basis and ultimately creates more revenue."
   ]
  },
  {
   "cell_type": "markdown",
   "metadata": {},
   "source": [
    " "
   ]
  },
  {
   "cell_type": "markdown",
   "metadata": {},
   "source": [
    "<div class=\"alert alert-success\">\n",
    "<b>Reviewer's comment v1:</b>\n",
    "    \n",
    "- I will write overall thoughts about the data analysis section:\n",
    "- Very nice visualization of the data. Great that you used different graph types to check available data.\n",
    "- Additionally could be nice to add both plans on one graph.\n",
    "- If you have time and willing to practice, you can display two charts (histogram and a box plot) using a two-column subplot.\n",
    "\n",
    "```\n",
    "    # Create one row with 2 columns\n",
    "\t  fig, axes = plt.subplots(1, 2, figsize=(16, 5))\n",
    "\n",
    "\t  # Create a histogram for the surf plan\n",
    "\t  sns.distplot(... ax=axes[0])\n",
    "\t  # Create a histogram for the second plan\n",
    "\t  sns.distplot(... ax=axes[0])\n",
    "\t\n",
    "\t  # Create a boxplot for both plans\n",
    "\t  sns.boxplot(... ax=axes[1])\n",
    "```"
   ]
  },
  {
   "cell_type": "markdown",
   "metadata": {},
   "source": [
    "<div class=\"alert alert-info\">\n",
    "<b>Student's response</b>\n",
    "\n",
    "Thank you so much, I was wondering how to do this! Going forward I will do this to make the graphs easier to read."
   ]
  },
  {
   "cell_type": "markdown",
   "metadata": {},
   "source": [
    " # Test statistical hypotheses"
   ]
  },
  {
   "cell_type": "markdown",
   "metadata": {},
   "source": [
    "## Test if average revenue is equal between plans"
   ]
  },
  {
   "cell_type": "markdown",
   "metadata": {},
   "source": [
    "Next I will test statistical hypotheses. First, I will test if the average revenue from users of the Ultimate and Surf calling plans differ.\n",
    "\n",
    "The null hypothesis is that the average revenue obtained from users of the Ultimate and Surf calling plans are the same. The alternative hypothesis is that the average revenues are different.\n",
    "\n",
    "An alpha value of 0.5 will be used."
   ]
  },
  {
   "cell_type": "code",
   "execution_count": 64,
   "metadata": {},
   "outputs": [
    {
     "name": "stdout",
     "output_type": "stream",
     "text": [
      "Surf - Monthly Revenue Variance: 3067.835152293878\n",
      "Ultimate - Monthly Revenue Variance: 129.8484855509195\n"
     ]
    }
   ],
   "source": [
    "print(f'Surf - Monthly Revenue Variance: {surf_users.monthly_revenue.var()}')\n",
    "print(f'Ultimate - Monthly Revenue Variance: {ultimate_users.monthly_revenue.var()}')"
   ]
  },
  {
   "cell_type": "code",
   "execution_count": 65,
   "metadata": {
    "scrolled": true
   },
   "outputs": [
    {
     "name": "stdout",
     "output_type": "stream",
     "text": [
      "p-value: 3.17039054811355e-15\n"
     ]
    }
   ],
   "source": [
    "# test the hypotheses\n",
    "results = st.ttest_ind(surf_users['monthly_revenue'], ultimate_users['monthly_revenue'], equal_var = False)\n",
    "print(f'p-value: {results.pvalue}')"
   ]
  },
  {
   "cell_type": "markdown",
   "metadata": {},
   "source": [
    "The p-value is significantly smaller than our alpha of 0.05, so our p-value is statistically significant. We can reject our null hypothesis and say that it is likely that the surf calling plan and the ultimate calling plan bring in different amounts of revenue."
   ]
  },
  {
   "cell_type": "markdown",
   "metadata": {},
   "source": [
    "## Test if average revenue is equal between the NY-NJ area and others"
   ]
  },
  {
   "cell_type": "markdown",
   "metadata": {},
   "source": [
    "\n",
    "Next, I will test the hypothesis that the average revenue obtained from users in the NY-NJ area is difference from the average revenue obtained from all other regions. The null hypothesis will be that these average revenues are the same, whereas the alternative hypothesis is that these average revenues are different. Like before, the alpha value will be 0.05."
   ]
  },
  {
   "cell_type": "code",
   "execution_count": 66,
   "metadata": {},
   "outputs": [],
   "source": [
    "# Creating dataframe with state information\n",
    "state_df = user_usage.merge(users[['user_id', 'state']], on = 'user_id', how = 'left')\n",
    "\n",
    "# Splitting dataframes\n",
    "nynj_df = state_df[state_df['state'].str.contains('NY') | state_df['state'].str.contains('NJ')].reset_index(drop = True)\n",
    "other_df = state_df[~state_df['state'].str.contains('NY') & ~state_df['state'].str.contains('NJ')].reset_index(drop = True)"
   ]
  },
  {
   "cell_type": "code",
   "execution_count": 67,
   "metadata": {},
   "outputs": [
    {
     "name": "stdout",
     "output_type": "stream",
     "text": [
      "NY-NJ - Monthly Revenue Variance: 2110.198705113273\n",
      "Other - Monthly Revenue Variance: 2189.2072547670614\n"
     ]
    }
   ],
   "source": [
    "# Printing variances\n",
    "print(f'NY-NJ - Monthly Revenue Variance: {nynj_df.monthly_revenue.var()}')\n",
    "print(f'Other - Monthly Revenue Variance: {other_df.monthly_revenue.var()}')"
   ]
  },
  {
   "cell_type": "code",
   "execution_count": 68,
   "metadata": {
    "scrolled": false
   },
   "outputs": [
    {
     "name": "stdout",
     "output_type": "stream",
     "text": [
      "p-value: 0.11013307329186486\n"
     ]
    }
   ],
   "source": [
    "# Test the hypotheses - variances similar\n",
    "results = st.ttest_ind(nynj_df['monthly_revenue'], other_df['monthly_revenue'])\n",
    "print(f'p-value: {results.pvalue}')"
   ]
  },
  {
   "cell_type": "markdown",
   "metadata": {},
   "source": [
    "Our p-value is 0.108. Because our alpha value is 0.05, our p-value is greater. As such, we cannot reject the null hypothesis, which means we cannot say that the monthly revenue obtained from the NY-NJ regions are difference from the revenue obtained from other regions."
   ]
  },
  {
   "cell_type": "markdown",
   "metadata": {},
   "source": [
    "<div class=\"alert alert-success\">\n",
    "<b>Reviewer's comment v1:</b>\n",
    "    \n",
    "- Overall great job! Hypotheses have been formulated and tested correctly. Great that you additionally checked data that has been used for the test. \n",
    "- Your conclusions based on the results are also correct.\n",
    "- Great that you additionally correctly compared the variances using tests. It is also possible to compare data sample variances using Levene test (https://docs.scipy.org/doc/scipy/reference/generated/scipy.stats.levene.html) or Bartlett’s test (https://docs.scipy.org/doc/scipy/reference/generated/scipy.stats.bartlett.html)"
   ]
  },
  {
   "cell_type": "markdown",
   "metadata": {},
   "source": [
    "# General conclusion\n",
    "\n",
    "Comparing both plans, it appears that the **surf plan** is the better plan in terms of generating revenue for the company. To reach this point, the data was cleaned, preprocessed, and aggregated together. Various factors, such as user behavior when it comes to calling, messaging, and surfing the internet, were calculated and compared against each plan. The revenue generated, in total and on a monthly basis, of both plans were also compared. Finally, hypothesis testing was conducted - one hypothesis test confirmed that the revenue gathered from both plans was different.\n",
    "\n",
    "The surf plan likely has more users due to it's significantly lower base price ($20), but the extra charges quickly add up for users who exceed what is offered in the plan at a base level. On average, regardless of the plan, users tend to call or message the same amount on a monthly basis, with more variations in internet usage. This means that users who have the surf plan are more likely to exceed the base limits offered by their plan, and those charges add up.\n",
    "\n",
    "Going forward, Megaline should continue to advertise the surf plan more heavily."
   ]
  },
  {
   "cell_type": "markdown",
   "metadata": {},
   "source": [
    "<div class=\"alert alert-success\" role=\"alert\">\n",
    "<b>Reviewer's comment v1:</b>\n",
    "    \n",
    "- You conducted an outstanding research with correct interim findings, clean code and nice visualisation.\n",
    "- I also like your overall conclusion. It is very structured and provides insights and recommendations to the business."
   ]
  },
  {
   "cell_type": "markdown",
   "metadata": {},
   "source": [
    " "
   ]
  }
 ],
 "metadata": {
  "ExecuteTimeLog": [
   {
    "duration": 828,
    "start_time": "2021-11-16T09:21:11.304Z"
   },
   {
    "duration": 893,
    "start_time": "2021-11-16T09:21:17.728Z"
   },
   {
    "duration": 1150,
    "start_time": "2021-11-16T09:21:29.568Z"
   },
   {
    "duration": 3,
    "start_time": "2021-11-16T09:24:14.495Z"
   },
   {
    "duration": 120,
    "start_time": "2021-11-16T09:24:46.630Z"
   },
   {
    "duration": 3,
    "start_time": "2021-11-16T09:28:27.882Z"
   },
   {
    "duration": 4,
    "start_time": "2021-11-16T09:29:54.281Z"
   },
   {
    "duration": 3,
    "start_time": "2021-11-16T09:30:45.936Z"
   },
   {
    "duration": 4,
    "start_time": "2021-11-16T09:31:06.300Z"
   },
   {
    "duration": 113,
    "start_time": "2021-11-16T09:31:37.208Z"
   },
   {
    "duration": 143,
    "start_time": "2021-11-16T09:31:48.656Z"
   },
   {
    "duration": 98,
    "start_time": "2021-11-16T09:31:55.678Z"
   },
   {
    "duration": 3,
    "start_time": "2021-11-16T09:32:08.535Z"
   },
   {
    "duration": 111,
    "start_time": "2021-11-16T09:32:10.120Z"
   },
   {
    "duration": 3,
    "start_time": "2021-11-16T09:32:15.732Z"
   },
   {
    "duration": 4,
    "start_time": "2021-11-16T09:32:29.423Z"
   },
   {
    "duration": 3,
    "start_time": "2021-11-16T10:03:03.074Z"
   },
   {
    "duration": 3,
    "start_time": "2021-11-16T10:10:01.288Z"
   },
   {
    "duration": 3,
    "start_time": "2021-11-16T10:10:46.923Z"
   },
   {
    "duration": 121,
    "start_time": "2021-11-16T10:37:46.494Z"
   },
   {
    "duration": 125,
    "start_time": "2021-11-16T10:38:20.632Z"
   },
   {
    "duration": 112,
    "start_time": "2021-11-16T10:46:53.001Z"
   },
   {
    "duration": 110,
    "start_time": "2021-11-16T10:48:25.775Z"
   },
   {
    "duration": 3,
    "start_time": "2021-11-16T10:50:18.720Z"
   },
   {
    "duration": 4,
    "start_time": "2021-11-16T10:50:37.649Z"
   },
   {
    "duration": 2,
    "start_time": "2021-11-16T10:50:51.884Z"
   },
   {
    "duration": 3,
    "start_time": "2021-11-16T10:51:56.237Z"
   },
   {
    "duration": 101,
    "start_time": "2021-11-16T10:53:13.791Z"
   },
   {
    "duration": 3,
    "start_time": "2021-11-16T10:55:59.186Z"
   },
   {
    "duration": 3,
    "start_time": "2021-11-16T10:56:10.751Z"
   },
   {
    "duration": 3,
    "start_time": "2021-11-16T10:56:49.038Z"
   },
   {
    "duration": 3,
    "start_time": "2021-11-16T10:56:49.174Z"
   },
   {
    "duration": 4,
    "start_time": "2021-11-16T10:56:49.414Z"
   },
   {
    "duration": 3,
    "start_time": "2021-11-16T10:56:49.680Z"
   },
   {
    "duration": 3,
    "start_time": "2021-11-16T10:56:50.370Z"
   },
   {
    "duration": 114,
    "start_time": "2021-11-16T10:59:34.518Z"
   },
   {
    "duration": 3,
    "start_time": "2021-11-16T11:01:41.201Z"
   },
   {
    "duration": 116,
    "start_time": "2021-11-16T11:01:48.754Z"
   },
   {
    "duration": 3,
    "start_time": "2021-11-16T11:02:16.685Z"
   },
   {
    "duration": 3,
    "start_time": "2021-11-16T11:02:19.479Z"
   },
   {
    "duration": 3,
    "start_time": "2021-11-16T11:02:47.067Z"
   },
   {
    "duration": 3,
    "start_time": "2021-11-16T11:02:49.353Z"
   },
   {
    "duration": 3,
    "start_time": "2021-11-16T11:03:07.835Z"
   },
   {
    "duration": 3,
    "start_time": "2021-11-16T11:03:07.953Z"
   },
   {
    "duration": 112,
    "start_time": "2021-11-16T11:07:52.072Z"
   },
   {
    "duration": 187,
    "start_time": "2021-11-16T11:09:23.468Z"
   },
   {
    "duration": 4,
    "start_time": "2021-11-16T11:10:01.455Z"
   },
   {
    "duration": 3,
    "start_time": "2021-11-16T11:10:05.069Z"
   },
   {
    "duration": 4,
    "start_time": "2021-11-16T11:10:13.376Z"
   },
   {
    "duration": 3,
    "start_time": "2021-11-16T11:10:14.434Z"
   },
   {
    "duration": 3,
    "start_time": "2021-11-16T11:10:22.853Z"
   },
   {
    "duration": 4,
    "start_time": "2021-11-16T11:27:29.279Z"
   },
   {
    "duration": 4,
    "start_time": "2021-11-16T11:29:08.919Z"
   },
   {
    "duration": 118,
    "start_time": "2021-11-16T11:29:46.703Z"
   },
   {
    "duration": 437,
    "start_time": "2021-11-16T11:36:02.181Z"
   },
   {
    "duration": 157,
    "start_time": "2021-11-16T11:36:14.388Z"
   },
   {
    "duration": 207,
    "start_time": "2021-11-16T11:47:15.898Z"
   },
   {
    "duration": 3,
    "start_time": "2021-11-16T11:53:52.092Z"
   },
   {
    "duration": 3,
    "start_time": "2021-11-16T11:53:52.236Z"
   },
   {
    "duration": 3,
    "start_time": "2021-11-16T11:59:12.005Z"
   },
   {
    "duration": 112,
    "start_time": "2021-11-16T12:00:33.446Z"
   },
   {
    "duration": 3,
    "start_time": "2021-11-16T12:02:14.453Z"
   },
   {
    "duration": 3,
    "start_time": "2021-11-16T12:02:39.512Z"
   },
   {
    "duration": 106,
    "start_time": "2021-11-16T12:03:03.460Z"
   },
   {
    "duration": 3,
    "start_time": "2021-11-17T20:37:21.139Z"
   },
   {
    "duration": 3,
    "start_time": "2021-11-17T20:37:22.229Z"
   },
   {
    "duration": 3,
    "start_time": "2021-11-17T20:38:38.806Z"
   },
   {
    "duration": 3,
    "start_time": "2021-11-17T20:38:41.958Z"
   },
   {
    "duration": 3,
    "start_time": "2021-11-17T20:43:46.551Z"
   },
   {
    "duration": 4,
    "start_time": "2021-11-17T20:58:21.835Z"
   },
   {
    "duration": 3,
    "start_time": "2021-11-17T20:59:21.872Z"
   },
   {
    "duration": 4,
    "start_time": "2021-11-17T20:59:45.352Z"
   },
   {
    "duration": 4,
    "start_time": "2021-11-17T20:59:49.646Z"
   },
   {
    "duration": 159,
    "start_time": "2021-11-17T21:02:26.949Z"
   },
   {
    "duration": 3,
    "start_time": "2021-11-17T21:03:53.461Z"
   },
   {
    "duration": 3,
    "start_time": "2021-11-17T21:03:53.694Z"
   },
   {
    "duration": 3,
    "start_time": "2021-11-17T21:05:28.145Z"
   },
   {
    "duration": 116,
    "start_time": "2021-11-17T21:05:57.787Z"
   },
   {
    "duration": 3,
    "start_time": "2021-11-17T21:06:37.993Z"
   },
   {
    "duration": 3,
    "start_time": "2021-11-17T21:06:38.261Z"
   },
   {
    "duration": 3,
    "start_time": "2021-11-17T21:11:54.358Z"
   },
   {
    "duration": 3,
    "start_time": "2021-11-17T21:12:43.846Z"
   },
   {
    "duration": 4,
    "start_time": "2021-11-17T21:13:08.773Z"
   },
   {
    "duration": 3,
    "start_time": "2021-11-17T21:14:44.441Z"
   },
   {
    "duration": 3,
    "start_time": "2021-11-17T21:15:42.059Z"
   },
   {
    "duration": 4,
    "start_time": "2021-11-17T21:15:51.995Z"
   },
   {
    "duration": 3,
    "start_time": "2021-11-17T21:15:53.923Z"
   },
   {
    "duration": 3,
    "start_time": "2021-11-17T21:15:55.282Z"
   },
   {
    "duration": 3,
    "start_time": "2021-11-17T21:16:28.492Z"
   },
   {
    "duration": 3,
    "start_time": "2021-11-17T21:16:32.603Z"
   },
   {
    "duration": 3,
    "start_time": "2021-11-17T21:17:06.941Z"
   },
   {
    "duration": 98,
    "start_time": "2021-11-17T21:18:05.733Z"
   },
   {
    "duration": 4,
    "start_time": "2021-11-17T21:21:35.255Z"
   },
   {
    "duration": 3,
    "start_time": "2021-11-17T21:21:37.804Z"
   },
   {
    "duration": 4,
    "start_time": "2021-11-17T21:23:06.071Z"
   },
   {
    "duration": 3,
    "start_time": "2021-11-17T21:23:24.799Z"
   },
   {
    "duration": 3,
    "start_time": "2021-11-17T21:23:32.591Z"
   },
   {
    "duration": 98,
    "start_time": "2021-11-17T21:28:31.559Z"
   },
   {
    "duration": 3,
    "start_time": "2021-11-17T21:28:45.448Z"
   },
   {
    "duration": 3,
    "start_time": "2021-11-17T21:29:17.303Z"
   },
   {
    "duration": 3,
    "start_time": "2021-11-17T21:29:29.617Z"
   },
   {
    "duration": 3,
    "start_time": "2021-11-17T21:29:32.681Z"
   },
   {
    "duration": 3,
    "start_time": "2021-11-17T21:36:11.474Z"
   },
   {
    "duration": 3,
    "start_time": "2021-11-17T21:36:14.791Z"
   },
   {
    "duration": 3,
    "start_time": "2021-11-17T21:36:53.943Z"
   },
   {
    "duration": 3,
    "start_time": "2021-11-17T21:36:56.165Z"
   },
   {
    "duration": 4,
    "start_time": "2021-11-17T21:37:16.590Z"
   },
   {
    "duration": 3,
    "start_time": "2021-11-17T21:37:22.702Z"
   },
   {
    "duration": 4,
    "start_time": "2021-11-17T21:38:03.479Z"
   },
   {
    "duration": 3,
    "start_time": "2021-11-17T21:38:08.601Z"
   },
   {
    "duration": 3,
    "start_time": "2021-11-17T21:38:12.928Z"
   },
   {
    "duration": 3,
    "start_time": "2021-11-17T21:38:48.896Z"
   },
   {
    "duration": 2,
    "start_time": "2021-11-17T21:38:49.171Z"
   },
   {
    "duration": 4,
    "start_time": "2021-11-17T21:39:57.889Z"
   },
   {
    "duration": 3,
    "start_time": "2021-11-17T21:39:58.057Z"
   },
   {
    "duration": 3,
    "start_time": "2021-11-17T21:41:20.108Z"
   },
   {
    "duration": 3,
    "start_time": "2021-11-17T21:41:20.629Z"
   },
   {
    "duration": 3,
    "start_time": "2021-11-17T21:42:49.136Z"
   },
   {
    "duration": 3,
    "start_time": "2021-11-17T21:43:15.137Z"
   },
   {
    "duration": 4,
    "start_time": "2021-11-17T21:43:16.766Z"
   },
   {
    "duration": 4,
    "start_time": "2021-11-17T21:43:31.711Z"
   },
   {
    "duration": 3,
    "start_time": "2021-11-17T21:43:36.312Z"
   },
   {
    "duration": 4,
    "start_time": "2021-11-17T21:45:08.825Z"
   },
   {
    "duration": 4,
    "start_time": "2021-11-17T21:45:10.119Z"
   },
   {
    "duration": 4,
    "start_time": "2021-11-17T21:45:13.748Z"
   },
   {
    "duration": 3,
    "start_time": "2021-11-17T21:45:22.219Z"
   },
   {
    "duration": 3,
    "start_time": "2021-11-17T21:45:33.412Z"
   },
   {
    "duration": 2,
    "start_time": "2021-11-17T21:46:01.885Z"
   },
   {
    "duration": 3,
    "start_time": "2021-11-17T21:46:03.628Z"
   },
   {
    "duration": 107,
    "start_time": "2021-11-17T21:47:32.512Z"
   },
   {
    "duration": 103,
    "start_time": "2021-11-17T21:50:36.243Z"
   },
   {
    "duration": 3,
    "start_time": "2021-11-18T06:28:31.440Z"
   },
   {
    "duration": 3,
    "start_time": "2021-11-18T06:29:00.168Z"
   },
   {
    "duration": 3,
    "start_time": "2021-11-18T06:31:27.008Z"
   },
   {
    "duration": 2,
    "start_time": "2021-11-18T06:35:34.288Z"
   },
   {
    "duration": 2,
    "start_time": "2021-11-18T06:38:04.527Z"
   },
   {
    "duration": 397,
    "start_time": "2022-04-22T16:44:17.790Z"
   },
   {
    "duration": 25,
    "start_time": "2022-04-22T16:44:39.600Z"
   },
   {
    "duration": 23,
    "start_time": "2022-04-22T16:44:48.817Z"
   },
   {
    "duration": 10,
    "start_time": "2022-04-22T16:44:54.351Z"
   },
   {
    "duration": 102,
    "start_time": "2022-04-22T17:38:51.370Z"
   },
   {
    "duration": 9,
    "start_time": "2022-04-22T17:38:56.069Z"
   },
   {
    "duration": 17,
    "start_time": "2022-04-22T17:38:59.406Z"
   },
   {
    "duration": 9,
    "start_time": "2022-04-22T17:40:09.454Z"
   },
   {
    "duration": 8,
    "start_time": "2022-04-22T17:40:13.463Z"
   },
   {
    "duration": 18,
    "start_time": "2022-04-22T17:40:41.879Z"
   },
   {
    "duration": 10,
    "start_time": "2022-04-22T17:40:53.455Z"
   },
   {
    "duration": 35,
    "start_time": "2022-04-22T17:41:05.192Z"
   },
   {
    "duration": 24,
    "start_time": "2022-04-22T17:42:25.089Z"
   },
   {
    "duration": 17,
    "start_time": "2022-04-22T17:42:52.586Z"
   },
   {
    "duration": 17,
    "start_time": "2022-04-22T17:42:53.178Z"
   },
   {
    "duration": 23,
    "start_time": "2022-04-22T17:43:01.097Z"
   },
   {
    "duration": 17,
    "start_time": "2022-04-22T17:43:05.352Z"
   },
   {
    "duration": 30,
    "start_time": "2022-04-22T17:45:18.231Z"
   },
   {
    "duration": 27,
    "start_time": "2022-04-22T17:45:30.565Z"
   },
   {
    "duration": 32,
    "start_time": "2022-04-22T18:00:40.877Z"
   },
   {
    "duration": 31,
    "start_time": "2022-04-22T18:00:53.203Z"
   },
   {
    "duration": 44,
    "start_time": "2022-04-22T18:01:18.511Z"
   },
   {
    "duration": 26,
    "start_time": "2022-04-22T18:01:44.503Z"
   },
   {
    "duration": 26,
    "start_time": "2022-04-22T18:02:04.221Z"
   },
   {
    "duration": 26,
    "start_time": "2022-04-22T18:03:12.619Z"
   },
   {
    "duration": 15,
    "start_time": "2022-04-22T20:48:47.539Z"
   },
   {
    "duration": 12,
    "start_time": "2022-04-22T20:48:51.459Z"
   },
   {
    "duration": 12,
    "start_time": "2022-04-22T20:48:59.385Z"
   },
   {
    "duration": 12,
    "start_time": "2022-04-22T20:49:04.576Z"
   },
   {
    "duration": 17,
    "start_time": "2022-04-22T20:49:12.690Z"
   },
   {
    "duration": 13,
    "start_time": "2022-04-22T20:49:14.025Z"
   },
   {
    "duration": 19,
    "start_time": "2022-04-22T20:49:19.611Z"
   },
   {
    "duration": 11,
    "start_time": "2022-04-22T20:49:25.021Z"
   },
   {
    "duration": 32,
    "start_time": "2022-04-22T20:49:54.062Z"
   },
   {
    "duration": 42,
    "start_time": "2022-04-22T20:50:07.429Z"
   },
   {
    "duration": 15,
    "start_time": "2022-04-22T20:50:36.898Z"
   },
   {
    "duration": 13,
    "start_time": "2022-04-22T20:51:03.941Z"
   },
   {
    "duration": 9,
    "start_time": "2022-04-22T20:51:06.823Z"
   },
   {
    "duration": 3,
    "start_time": "2022-04-22T20:51:20.960Z"
   },
   {
    "duration": 418,
    "start_time": "2022-04-22T20:52:45.750Z"
   },
   {
    "duration": 347,
    "start_time": "2022-04-22T20:52:48.316Z"
   },
   {
    "duration": 12,
    "start_time": "2022-04-22T20:53:14.950Z"
   },
   {
    "duration": 24,
    "start_time": "2022-04-22T20:53:17.197Z"
   },
   {
    "duration": 16,
    "start_time": "2022-04-22T20:54:24.912Z"
   },
   {
    "duration": 86,
    "start_time": "2022-04-22T20:55:14.282Z"
   },
   {
    "duration": 6,
    "start_time": "2022-04-22T20:55:19.078Z"
   },
   {
    "duration": 377,
    "start_time": "2022-04-23T23:01:25.740Z"
   },
   {
    "duration": 482,
    "start_time": "2022-04-23T23:01:27.739Z"
   },
   {
    "duration": 12,
    "start_time": "2022-04-23T23:02:47.470Z"
   },
   {
    "duration": 16,
    "start_time": "2022-04-23T23:02:48.877Z"
   },
   {
    "duration": 15,
    "start_time": "2022-04-23T23:10:59.931Z"
   },
   {
    "duration": 10,
    "start_time": "2022-04-23T23:11:38.638Z"
   },
   {
    "duration": 4,
    "start_time": "2022-04-23T23:11:54.012Z"
   },
   {
    "duration": 4,
    "start_time": "2022-04-23T23:12:04.059Z"
   },
   {
    "duration": 4,
    "start_time": "2022-04-23T23:12:08.537Z"
   },
   {
    "duration": 11,
    "start_time": "2022-04-23T23:13:59.774Z"
   },
   {
    "duration": 11,
    "start_time": "2022-04-23T23:14:01.024Z"
   },
   {
    "duration": 28,
    "start_time": "2022-04-23T23:18:57.825Z"
   },
   {
    "duration": 60,
    "start_time": "2022-04-23T23:20:21.836Z"
   },
   {
    "duration": 551,
    "start_time": "2022-04-23T23:26:00.846Z"
   },
   {
    "duration": 7,
    "start_time": "2022-04-23T23:26:32.896Z"
   },
   {
    "duration": 9,
    "start_time": "2022-04-23T23:26:54.422Z"
   },
   {
    "duration": 15,
    "start_time": "2022-04-23T23:27:03.416Z"
   },
   {
    "duration": 2,
    "start_time": "2022-04-23T23:27:12.876Z"
   },
   {
    "duration": 257,
    "start_time": "2022-04-23T23:27:13.737Z"
   },
   {
    "duration": 662,
    "start_time": "2022-04-23T23:27:43.163Z"
   },
   {
    "duration": 567,
    "start_time": "2022-04-23T23:28:06.281Z"
   },
   {
    "duration": 3,
    "start_time": "2022-04-23T23:29:10.482Z"
   },
   {
    "duration": 542,
    "start_time": "2022-04-23T23:29:17.812Z"
   },
   {
    "duration": 4,
    "start_time": "2022-04-23T23:31:28.353Z"
   },
   {
    "duration": 16,
    "start_time": "2022-04-23T23:31:34.830Z"
   },
   {
    "duration": 11,
    "start_time": "2022-04-23T23:31:40.074Z"
   },
   {
    "duration": 2621,
    "start_time": "2022-04-23T23:32:35.295Z"
   },
   {
    "duration": 0,
    "start_time": "2022-04-23T23:32:37.918Z"
   },
   {
    "duration": 7,
    "start_time": "2022-04-23T23:32:45.088Z"
   },
   {
    "duration": 5,
    "start_time": "2022-04-23T23:32:54.611Z"
   },
   {
    "duration": 18,
    "start_time": "2022-04-23T23:32:55.834Z"
   },
   {
    "duration": 3,
    "start_time": "2022-04-23T23:33:33.037Z"
   },
   {
    "duration": 259,
    "start_time": "2022-04-23T23:33:33.792Z"
   },
   {
    "duration": 20,
    "start_time": "2022-04-23T23:33:42.735Z"
   },
   {
    "duration": 8,
    "start_time": "2022-04-23T23:33:43.983Z"
   },
   {
    "duration": 6,
    "start_time": "2022-04-23T23:34:32.110Z"
   },
   {
    "duration": 5,
    "start_time": "2022-04-23T23:35:37.518Z"
   },
   {
    "duration": 6,
    "start_time": "2022-04-23T23:35:43.341Z"
   },
   {
    "duration": 9,
    "start_time": "2022-04-23T23:36:22.728Z"
   },
   {
    "duration": 4,
    "start_time": "2022-04-23T23:36:25.787Z"
   },
   {
    "duration": 6,
    "start_time": "2022-04-23T23:40:09.197Z"
   },
   {
    "duration": 10,
    "start_time": "2022-04-23T23:40:15.252Z"
   },
   {
    "duration": 9,
    "start_time": "2022-04-23T23:40:20.354Z"
   },
   {
    "duration": 257,
    "start_time": "2022-04-23T23:40:34.918Z"
   },
   {
    "duration": 5,
    "start_time": "2022-04-23T23:40:40.218Z"
   },
   {
    "duration": 6,
    "start_time": "2022-04-23T23:40:44.956Z"
   },
   {
    "duration": 6,
    "start_time": "2022-04-23T23:40:52.753Z"
   },
   {
    "duration": 5,
    "start_time": "2022-04-23T23:40:58.769Z"
   },
   {
    "duration": 5,
    "start_time": "2022-04-23T23:41:04.898Z"
   },
   {
    "duration": 7,
    "start_time": "2022-04-23T23:41:17.983Z"
   },
   {
    "duration": 7,
    "start_time": "2022-04-23T23:41:21.677Z"
   },
   {
    "duration": 11,
    "start_time": "2022-04-23T23:41:57.237Z"
   },
   {
    "duration": 7,
    "start_time": "2022-04-23T23:42:02.737Z"
   },
   {
    "duration": 6,
    "start_time": "2022-04-23T23:42:11.470Z"
   },
   {
    "duration": 7,
    "start_time": "2022-04-23T23:42:17.453Z"
   },
   {
    "duration": 246,
    "start_time": "2022-04-23T23:43:09.983Z"
   },
   {
    "duration": 19,
    "start_time": "2022-04-23T23:43:14.745Z"
   },
   {
    "duration": 6,
    "start_time": "2022-04-23T23:43:16.094Z"
   },
   {
    "duration": 4,
    "start_time": "2022-04-23T23:43:18.104Z"
   },
   {
    "duration": 7,
    "start_time": "2022-04-23T23:43:19.899Z"
   },
   {
    "duration": 12,
    "start_time": "2022-04-23T23:43:28.712Z"
   },
   {
    "duration": 13,
    "start_time": "2022-04-23T23:43:33.438Z"
   },
   {
    "duration": 328,
    "start_time": "2022-04-23T23:44:06.018Z"
   },
   {
    "duration": 21,
    "start_time": "2022-04-23T23:44:11.645Z"
   },
   {
    "duration": 8,
    "start_time": "2022-04-23T23:44:14.778Z"
   },
   {
    "duration": 11,
    "start_time": "2022-04-23T23:44:16.818Z"
   },
   {
    "duration": 7,
    "start_time": "2022-04-23T23:44:18.404Z"
   },
   {
    "duration": 13,
    "start_time": "2022-04-23T23:44:21.037Z"
   },
   {
    "duration": 18,
    "start_time": "2022-04-23T23:44:38.102Z"
   },
   {
    "duration": 9,
    "start_time": "2022-04-23T23:44:39.943Z"
   },
   {
    "duration": 29,
    "start_time": "2022-04-23T23:47:30.104Z"
   },
   {
    "duration": 14,
    "start_time": "2022-04-23T23:47:45.161Z"
   },
   {
    "duration": 7,
    "start_time": "2022-04-23T23:47:46.417Z"
   },
   {
    "duration": 20,
    "start_time": "2022-04-23T23:48:25.487Z"
   },
   {
    "duration": 21,
    "start_time": "2022-04-23T23:48:54.221Z"
   },
   {
    "duration": 8,
    "start_time": "2022-04-23T23:49:00.263Z"
   },
   {
    "duration": 24,
    "start_time": "2022-04-23T23:51:23.988Z"
   },
   {
    "duration": 13,
    "start_time": "2022-04-23T23:51:31.324Z"
   },
   {
    "duration": 9,
    "start_time": "2022-04-23T23:51:40.801Z"
   },
   {
    "duration": 13,
    "start_time": "2022-04-24T00:04:38.542Z"
   },
   {
    "duration": 11,
    "start_time": "2022-04-24T00:04:44.701Z"
   },
   {
    "duration": 168,
    "start_time": "2022-04-24T01:30:01.573Z"
   },
   {
    "duration": 117,
    "start_time": "2022-04-24T01:30:10.725Z"
   },
   {
    "duration": 96,
    "start_time": "2022-04-24T01:30:25.951Z"
   },
   {
    "duration": 40,
    "start_time": "2022-04-24T01:31:19.357Z"
   },
   {
    "duration": 78,
    "start_time": "2022-04-24T01:31:29.352Z"
   },
   {
    "duration": 7,
    "start_time": "2022-04-24T01:31:40.112Z"
   },
   {
    "duration": 34,
    "start_time": "2022-04-24T01:33:38.833Z"
   },
   {
    "duration": 72,
    "start_time": "2022-04-24T01:33:45.489Z"
   },
   {
    "duration": 87,
    "start_time": "2022-04-24T01:34:06.357Z"
   },
   {
    "duration": 87,
    "start_time": "2022-04-24T01:34:10.820Z"
   },
   {
    "duration": 73,
    "start_time": "2022-04-24T01:34:13.799Z"
   },
   {
    "duration": 23,
    "start_time": "2022-04-24T01:34:38.813Z"
   },
   {
    "duration": 90,
    "start_time": "2022-04-24T01:34:58.671Z"
   },
   {
    "duration": 79,
    "start_time": "2022-04-24T01:35:20.331Z"
   },
   {
    "duration": 76,
    "start_time": "2022-04-24T01:35:27.640Z"
   },
   {
    "duration": 50,
    "start_time": "2022-04-24T01:36:34.598Z"
   },
   {
    "duration": 78,
    "start_time": "2022-04-24T01:36:42.481Z"
   },
   {
    "duration": 78,
    "start_time": "2022-04-24T01:37:27.149Z"
   },
   {
    "duration": 55,
    "start_time": "2022-04-24T01:38:47.723Z"
   },
   {
    "duration": 55,
    "start_time": "2022-04-24T01:38:52.358Z"
   },
   {
    "duration": 19,
    "start_time": "2022-04-24T01:39:50.049Z"
   },
   {
    "duration": 28,
    "start_time": "2022-04-24T01:39:58.888Z"
   },
   {
    "duration": 35,
    "start_time": "2022-04-24T01:40:43.857Z"
   },
   {
    "duration": 32,
    "start_time": "2022-04-24T01:41:56.008Z"
   },
   {
    "duration": 21,
    "start_time": "2022-04-24T01:43:17.821Z"
   },
   {
    "duration": 27,
    "start_time": "2022-04-24T01:43:22.140Z"
   },
   {
    "duration": 22,
    "start_time": "2022-04-24T01:44:52.585Z"
   },
   {
    "duration": 22,
    "start_time": "2022-04-24T01:45:21.487Z"
   },
   {
    "duration": 22,
    "start_time": "2022-04-24T01:45:27.338Z"
   },
   {
    "duration": 33,
    "start_time": "2022-04-24T01:46:11.620Z"
   },
   {
    "duration": 35,
    "start_time": "2022-04-24T01:46:47.762Z"
   },
   {
    "duration": 27,
    "start_time": "2022-04-24T01:47:42.205Z"
   },
   {
    "duration": 34,
    "start_time": "2022-04-24T01:48:15.807Z"
   },
   {
    "duration": 9,
    "start_time": "2022-04-24T01:48:36.238Z"
   },
   {
    "duration": 22,
    "start_time": "2022-04-24T01:48:59.750Z"
   },
   {
    "duration": 31,
    "start_time": "2022-04-24T01:49:46.869Z"
   },
   {
    "duration": 23,
    "start_time": "2022-04-24T01:50:27.566Z"
   },
   {
    "duration": 22,
    "start_time": "2022-04-24T01:50:45.632Z"
   },
   {
    "duration": 31,
    "start_time": "2022-04-24T01:54:15.796Z"
   },
   {
    "duration": 24,
    "start_time": "2022-04-24T01:54:53.944Z"
   },
   {
    "duration": 23,
    "start_time": "2022-04-24T01:55:05.187Z"
   },
   {
    "duration": 13,
    "start_time": "2022-04-24T01:56:23.708Z"
   },
   {
    "duration": 10,
    "start_time": "2022-04-24T01:57:09.300Z"
   },
   {
    "duration": 211,
    "start_time": "2022-04-24T01:57:42.080Z"
   },
   {
    "duration": 19,
    "start_time": "2022-04-24T01:57:53.997Z"
   },
   {
    "duration": 16,
    "start_time": "2022-04-24T01:58:30.308Z"
   },
   {
    "duration": 24,
    "start_time": "2022-04-24T01:58:35.976Z"
   },
   {
    "duration": 21,
    "start_time": "2022-04-24T01:59:00.515Z"
   },
   {
    "duration": 20,
    "start_time": "2022-04-24T01:59:08.534Z"
   },
   {
    "duration": 24,
    "start_time": "2022-04-24T01:59:30.973Z"
   },
   {
    "duration": 20,
    "start_time": "2022-04-24T01:59:34.602Z"
   },
   {
    "duration": 22,
    "start_time": "2022-04-24T01:59:37.098Z"
   },
   {
    "duration": 22,
    "start_time": "2022-04-24T01:59:48.526Z"
   },
   {
    "duration": 25,
    "start_time": "2022-04-24T01:59:54.661Z"
   },
   {
    "duration": 23,
    "start_time": "2022-04-24T02:00:54.254Z"
   },
   {
    "duration": 21,
    "start_time": "2022-04-24T02:04:22.715Z"
   },
   {
    "duration": 15,
    "start_time": "2022-04-24T02:12:11.770Z"
   },
   {
    "duration": 15,
    "start_time": "2022-04-24T02:12:23.873Z"
   },
   {
    "duration": 11,
    "start_time": "2022-04-24T02:12:55.234Z"
   },
   {
    "duration": 11,
    "start_time": "2022-04-24T02:13:05.342Z"
   },
   {
    "duration": 17,
    "start_time": "2022-04-24T02:13:15.427Z"
   },
   {
    "duration": 11,
    "start_time": "2022-04-24T02:14:21.198Z"
   },
   {
    "duration": 137,
    "start_time": "2022-04-24T02:16:23.713Z"
   },
   {
    "duration": 10,
    "start_time": "2022-04-24T02:16:27.075Z"
   },
   {
    "duration": 6,
    "start_time": "2022-04-24T02:16:43.879Z"
   },
   {
    "duration": 17,
    "start_time": "2022-04-24T02:16:47.501Z"
   },
   {
    "duration": 18,
    "start_time": "2022-04-24T02:17:09.893Z"
   },
   {
    "duration": 22,
    "start_time": "2022-04-24T02:17:16.681Z"
   },
   {
    "duration": 16,
    "start_time": "2022-04-24T02:17:20.817Z"
   },
   {
    "duration": 15,
    "start_time": "2022-04-24T02:17:22.810Z"
   },
   {
    "duration": 12,
    "start_time": "2022-04-24T02:17:36.635Z"
   },
   {
    "duration": 23,
    "start_time": "2022-04-24T02:17:51.984Z"
   },
   {
    "duration": 6,
    "start_time": "2022-04-24T02:17:53.435Z"
   },
   {
    "duration": 13,
    "start_time": "2022-04-24T02:17:55.435Z"
   },
   {
    "duration": 24,
    "start_time": "2022-04-24T02:18:08.657Z"
   },
   {
    "duration": 14,
    "start_time": "2022-04-24T02:18:44.103Z"
   },
   {
    "duration": 15,
    "start_time": "2022-04-24T02:18:52.988Z"
   },
   {
    "duration": 21,
    "start_time": "2022-04-24T02:18:57.794Z"
   },
   {
    "duration": 11,
    "start_time": "2022-04-24T02:19:22.612Z"
   },
   {
    "duration": 12,
    "start_time": "2022-04-24T02:20:04.500Z"
   },
   {
    "duration": 4,
    "start_time": "2022-04-24T02:20:12.655Z"
   },
   {
    "duration": 11,
    "start_time": "2022-04-24T02:20:39.068Z"
   },
   {
    "duration": 12,
    "start_time": "2022-04-24T02:20:41.309Z"
   },
   {
    "duration": 31,
    "start_time": "2022-04-24T02:21:17.770Z"
   },
   {
    "duration": 24,
    "start_time": "2022-04-24T02:21:27.986Z"
   },
   {
    "duration": 12,
    "start_time": "2022-04-24T02:21:30.379Z"
   },
   {
    "duration": 12,
    "start_time": "2022-04-24T02:22:07.380Z"
   },
   {
    "duration": 23,
    "start_time": "2022-04-24T02:22:30.772Z"
   },
   {
    "duration": 6,
    "start_time": "2022-04-24T02:22:32.909Z"
   },
   {
    "duration": 22,
    "start_time": "2022-04-24T02:22:34.972Z"
   },
   {
    "duration": 21,
    "start_time": "2022-04-24T02:32:11.802Z"
   },
   {
    "duration": 10,
    "start_time": "2022-04-24T04:08:08.506Z"
   },
   {
    "duration": 23,
    "start_time": "2022-04-24T04:08:56.953Z"
   },
   {
    "duration": 533,
    "start_time": "2022-04-24T04:10:06.857Z"
   },
   {
    "duration": 348,
    "start_time": "2022-04-24T04:10:07.506Z"
   },
   {
    "duration": 17,
    "start_time": "2022-04-24T04:10:10.168Z"
   },
   {
    "duration": 24,
    "start_time": "2022-04-24T04:10:10.703Z"
   },
   {
    "duration": 19,
    "start_time": "2022-04-24T04:10:11.916Z"
   },
   {
    "duration": 15,
    "start_time": "2022-04-24T04:10:12.053Z"
   },
   {
    "duration": 15,
    "start_time": "2022-04-24T04:10:12.092Z"
   },
   {
    "duration": 14,
    "start_time": "2022-04-24T04:10:12.268Z"
   },
   {
    "duration": 6,
    "start_time": "2022-04-24T04:10:12.400Z"
   },
   {
    "duration": 5,
    "start_time": "2022-04-24T04:10:12.495Z"
   },
   {
    "duration": 7,
    "start_time": "2022-04-24T04:10:12.578Z"
   },
   {
    "duration": 12,
    "start_time": "2022-04-24T04:10:12.622Z"
   },
   {
    "duration": 17,
    "start_time": "2022-04-24T04:10:12.687Z"
   },
   {
    "duration": 11,
    "start_time": "2022-04-24T04:10:12.728Z"
   },
   {
    "duration": 59,
    "start_time": "2022-04-24T04:10:15.014Z"
   },
   {
    "duration": 5,
    "start_time": "2022-04-24T04:10:15.607Z"
   },
   {
    "duration": 13,
    "start_time": "2022-04-24T04:10:16.719Z"
   },
   {
    "duration": 8,
    "start_time": "2022-04-24T04:10:17.060Z"
   },
   {
    "duration": 28,
    "start_time": "2022-04-24T04:10:17.631Z"
   },
   {
    "duration": 15,
    "start_time": "2022-04-24T04:10:18.102Z"
   },
   {
    "duration": 9,
    "start_time": "2022-04-24T04:10:18.140Z"
   },
   {
    "duration": 38,
    "start_time": "2022-04-24T04:10:19.601Z"
   },
   {
    "duration": 10,
    "start_time": "2022-04-24T04:10:20.290Z"
   },
   {
    "duration": 40,
    "start_time": "2022-04-24T04:10:21.303Z"
   },
   {
    "duration": 27,
    "start_time": "2022-04-24T04:10:21.494Z"
   },
   {
    "duration": 24,
    "start_time": "2022-04-24T04:10:24.071Z"
   },
   {
    "duration": 26,
    "start_time": "2022-04-24T04:10:25.348Z"
   },
   {
    "duration": 25,
    "start_time": "2022-04-24T04:10:27.352Z"
   },
   {
    "duration": 7,
    "start_time": "2022-04-24T04:10:32.408Z"
   },
   {
    "duration": 13,
    "start_time": "2022-04-24T04:10:39.706Z"
   },
   {
    "duration": 23,
    "start_time": "2022-04-24T04:10:44.131Z"
   },
   {
    "duration": 2,
    "start_time": "2022-04-24T04:24:20.621Z"
   },
   {
    "duration": 69,
    "start_time": "2022-04-24T04:26:34.275Z"
   },
   {
    "duration": 1617,
    "start_time": "2022-04-24T04:26:52.512Z"
   },
   {
    "duration": 135,
    "start_time": "2022-04-24T04:27:26.107Z"
   },
   {
    "duration": 14,
    "start_time": "2022-04-24T04:29:26.588Z"
   },
   {
    "duration": 7,
    "start_time": "2022-04-24T04:29:46.766Z"
   },
   {
    "duration": 23,
    "start_time": "2022-04-24T04:30:04.377Z"
   },
   {
    "duration": 14,
    "start_time": "2022-04-24T04:30:13.541Z"
   },
   {
    "duration": 23,
    "start_time": "2022-04-24T04:30:50.361Z"
   },
   {
    "duration": 12,
    "start_time": "2022-04-24T04:31:00.153Z"
   },
   {
    "duration": 13,
    "start_time": "2022-04-24T04:31:29.445Z"
   },
   {
    "duration": 133,
    "start_time": "2022-04-24T04:31:44.738Z"
   },
   {
    "duration": 134,
    "start_time": "2022-04-24T04:31:55.736Z"
   },
   {
    "duration": 130,
    "start_time": "2022-04-24T04:32:07.150Z"
   },
   {
    "duration": 12,
    "start_time": "2022-04-24T04:36:14.539Z"
   },
   {
    "duration": 586,
    "start_time": "2022-04-24T04:36:26.541Z"
   },
   {
    "duration": 35,
    "start_time": "2022-04-24T04:37:44.495Z"
   },
   {
    "duration": 16,
    "start_time": "2022-04-24T04:37:56.505Z"
   },
   {
    "duration": 141,
    "start_time": "2022-04-24T04:38:15.694Z"
   },
   {
    "duration": 264,
    "start_time": "2022-04-24T04:38:33.579Z"
   },
   {
    "duration": 314,
    "start_time": "2022-04-24T04:39:14.152Z"
   },
   {
    "duration": 262,
    "start_time": "2022-04-24T04:39:39.787Z"
   },
   {
    "duration": 261,
    "start_time": "2022-04-24T04:39:47.035Z"
   },
   {
    "duration": 284,
    "start_time": "2022-04-24T04:40:01.525Z"
   },
   {
    "duration": 257,
    "start_time": "2022-04-24T04:40:16.352Z"
   },
   {
    "duration": 422,
    "start_time": "2022-04-24T04:40:25.365Z"
   },
   {
    "duration": 282,
    "start_time": "2022-04-24T04:40:29.847Z"
   },
   {
    "duration": 270,
    "start_time": "2022-04-24T04:40:36.293Z"
   },
   {
    "duration": 278,
    "start_time": "2022-04-24T04:40:40.354Z"
   },
   {
    "duration": 268,
    "start_time": "2022-04-24T04:40:46.740Z"
   },
   {
    "duration": 5,
    "start_time": "2022-04-24T04:42:19.566Z"
   },
   {
    "duration": 4,
    "start_time": "2022-04-24T04:42:24.322Z"
   },
   {
    "duration": 8,
    "start_time": "2022-04-24T04:42:56.159Z"
   },
   {
    "duration": 13,
    "start_time": "2022-04-24T04:43:01.622Z"
   },
   {
    "duration": 41,
    "start_time": "2022-04-24T04:44:11.615Z"
   },
   {
    "duration": 8,
    "start_time": "2022-04-24T04:44:47.792Z"
   },
   {
    "duration": 29,
    "start_time": "2022-04-24T04:44:53.095Z"
   },
   {
    "duration": 28,
    "start_time": "2022-04-24T04:45:07.106Z"
   },
   {
    "duration": 28,
    "start_time": "2022-04-24T04:45:13.081Z"
   },
   {
    "duration": 239,
    "start_time": "2022-04-24T04:45:42.559Z"
   },
   {
    "duration": 28,
    "start_time": "2022-04-24T04:45:58.435Z"
   },
   {
    "duration": 502,
    "start_time": "2022-04-24T15:50:16.636Z"
   },
   {
    "duration": 359,
    "start_time": "2022-04-24T15:50:19.372Z"
   },
   {
    "duration": 15,
    "start_time": "2022-04-24T15:50:24.903Z"
   },
   {
    "duration": 20,
    "start_time": "2022-04-24T15:50:26.778Z"
   },
   {
    "duration": 14,
    "start_time": "2022-04-24T15:50:30.631Z"
   },
   {
    "duration": 10,
    "start_time": "2022-04-24T15:51:56.311Z"
   },
   {
    "duration": 15,
    "start_time": "2022-04-24T15:51:58.544Z"
   },
   {
    "duration": 18,
    "start_time": "2022-04-24T15:52:04.002Z"
   },
   {
    "duration": 9,
    "start_time": "2022-04-24T15:52:07.148Z"
   },
   {
    "duration": 7,
    "start_time": "2022-04-24T15:52:13.972Z"
   },
   {
    "duration": 10,
    "start_time": "2022-04-24T15:52:16.906Z"
   },
   {
    "duration": 16,
    "start_time": "2022-04-24T15:52:18.169Z"
   },
   {
    "duration": 20,
    "start_time": "2022-04-24T15:52:55.529Z"
   },
   {
    "duration": 11,
    "start_time": "2022-04-24T15:52:55.969Z"
   },
   {
    "duration": 50,
    "start_time": "2022-04-24T15:53:43.608Z"
   },
   {
    "duration": 21,
    "start_time": "2022-04-24T15:54:11.012Z"
   },
   {
    "duration": 14,
    "start_time": "2022-04-24T15:54:26.326Z"
   },
   {
    "duration": 13,
    "start_time": "2022-04-24T15:54:41.248Z"
   },
   {
    "duration": 62,
    "start_time": "2022-04-24T15:54:47.784Z"
   },
   {
    "duration": 8,
    "start_time": "2022-04-24T15:54:48.036Z"
   },
   {
    "duration": 507,
    "start_time": "2022-04-24T15:54:50.750Z"
   },
   {
    "duration": 282,
    "start_time": "2022-04-24T15:54:51.454Z"
   },
   {
    "duration": 12,
    "start_time": "2022-04-24T15:54:53.286Z"
   },
   {
    "duration": 15,
    "start_time": "2022-04-24T15:54:53.628Z"
   },
   {
    "duration": 5,
    "start_time": "2022-04-24T15:56:21.028Z"
   },
   {
    "duration": 10,
    "start_time": "2022-04-24T15:56:27.485Z"
   },
   {
    "duration": 11,
    "start_time": "2022-04-24T15:56:29.814Z"
   },
   {
    "duration": 12,
    "start_time": "2022-04-24T15:56:35.725Z"
   },
   {
    "duration": 7,
    "start_time": "2022-04-24T15:56:37.863Z"
   },
   {
    "duration": 5,
    "start_time": "2022-04-24T15:56:39.105Z"
   },
   {
    "duration": 8,
    "start_time": "2022-04-24T15:56:39.883Z"
   },
   {
    "duration": 13,
    "start_time": "2022-04-24T15:56:40.885Z"
   },
   {
    "duration": 33,
    "start_time": "2022-04-24T15:56:48.554Z"
   },
   {
    "duration": 12,
    "start_time": "2022-04-24T15:56:49.604Z"
   },
   {
    "duration": 47,
    "start_time": "2022-04-24T15:56:54.382Z"
   },
   {
    "duration": 15,
    "start_time": "2022-04-24T15:56:55.593Z"
   },
   {
    "duration": 15,
    "start_time": "2022-04-24T15:57:00.104Z"
   },
   {
    "duration": 7,
    "start_time": "2022-04-24T15:57:03.037Z"
   },
   {
    "duration": 30,
    "start_time": "2022-04-24T15:57:27.703Z"
   },
   {
    "duration": 17,
    "start_time": "2022-04-24T15:57:32.267Z"
   },
   {
    "duration": 12,
    "start_time": "2022-04-24T15:57:36.292Z"
   },
   {
    "duration": 42,
    "start_time": "2022-04-24T15:57:49.031Z"
   },
   {
    "duration": 11,
    "start_time": "2022-04-24T15:58:20.528Z"
   },
   {
    "duration": 47,
    "start_time": "2022-04-24T15:59:22.820Z"
   },
   {
    "duration": 45,
    "start_time": "2022-04-24T16:02:58.830Z"
   },
   {
    "duration": 14,
    "start_time": "2022-04-24T16:03:12.099Z"
   },
   {
    "duration": 28,
    "start_time": "2022-04-24T16:03:20.162Z"
   },
   {
    "duration": 30,
    "start_time": "2022-04-24T16:04:16.409Z"
   },
   {
    "duration": 29,
    "start_time": "2022-04-24T16:04:36.213Z"
   },
   {
    "duration": 26,
    "start_time": "2022-04-24T16:04:43.897Z"
   },
   {
    "duration": 14,
    "start_time": "2022-04-24T16:05:39.354Z"
   },
   {
    "duration": 44,
    "start_time": "2022-04-24T16:05:48.438Z"
   },
   {
    "duration": 27,
    "start_time": "2022-04-24T16:06:36.608Z"
   },
   {
    "duration": 32,
    "start_time": "2022-04-24T16:06:50.537Z"
   },
   {
    "duration": 40,
    "start_time": "2022-04-24T16:07:13.620Z"
   },
   {
    "duration": 9,
    "start_time": "2022-04-24T16:07:18.632Z"
   },
   {
    "duration": 42,
    "start_time": "2022-04-24T16:07:48.618Z"
   },
   {
    "duration": 28,
    "start_time": "2022-04-24T16:07:53.873Z"
   },
   {
    "duration": 25,
    "start_time": "2022-04-24T16:07:56.706Z"
   },
   {
    "duration": 22,
    "start_time": "2022-04-24T16:08:00.409Z"
   },
   {
    "duration": 27,
    "start_time": "2022-04-24T16:08:02.390Z"
   },
   {
    "duration": 18,
    "start_time": "2022-04-24T16:08:21.835Z"
   },
   {
    "duration": 24,
    "start_time": "2022-04-24T16:08:31.332Z"
   },
   {
    "duration": 27,
    "start_time": "2022-04-24T16:08:37.099Z"
   },
   {
    "duration": 20,
    "start_time": "2022-04-24T16:08:42.439Z"
   },
   {
    "duration": 16,
    "start_time": "2022-04-24T16:10:28.725Z"
   },
   {
    "duration": 2109,
    "start_time": "2022-04-24T16:10:37.683Z"
   },
   {
    "duration": 1965,
    "start_time": "2022-04-24T16:11:13.844Z"
   },
   {
    "duration": 25,
    "start_time": "2022-04-24T16:11:37.420Z"
   },
   {
    "duration": 22,
    "start_time": "2022-04-24T16:11:39.271Z"
   },
   {
    "duration": 27,
    "start_time": "2022-04-24T16:11:42.111Z"
   },
   {
    "duration": 17,
    "start_time": "2022-04-24T16:11:45.287Z"
   },
   {
    "duration": 15,
    "start_time": "2022-04-24T16:11:48.484Z"
   },
   {
    "duration": 15,
    "start_time": "2022-04-24T16:11:52.777Z"
   },
   {
    "duration": 2,
    "start_time": "2022-04-24T16:13:57.343Z"
   },
   {
    "duration": 31,
    "start_time": "2022-04-24T16:13:59.991Z"
   },
   {
    "duration": 7,
    "start_time": "2022-04-24T16:26:42.785Z"
   },
   {
    "duration": 12,
    "start_time": "2022-04-24T16:26:46.856Z"
   },
   {
    "duration": 12,
    "start_time": "2022-04-24T16:27:05.551Z"
   },
   {
    "duration": 11,
    "start_time": "2022-04-24T16:27:08.665Z"
   },
   {
    "duration": 17,
    "start_time": "2022-04-24T16:27:20.793Z"
   },
   {
    "duration": 8,
    "start_time": "2022-04-24T16:28:32.113Z"
   },
   {
    "duration": 17,
    "start_time": "2022-04-24T16:28:43.182Z"
   },
   {
    "duration": 9,
    "start_time": "2022-04-24T16:28:56.781Z"
   },
   {
    "duration": 14,
    "start_time": "2022-04-24T16:29:22.319Z"
   },
   {
    "duration": 10,
    "start_time": "2022-04-24T16:29:27.990Z"
   },
   {
    "duration": 1885,
    "start_time": "2022-04-24T16:29:34.320Z"
   },
   {
    "duration": 1772,
    "start_time": "2022-04-24T16:29:41.723Z"
   },
   {
    "duration": 13,
    "start_time": "2022-04-24T16:29:46.778Z"
   },
   {
    "duration": 13,
    "start_time": "2022-04-24T16:29:51.221Z"
   },
   {
    "duration": 11,
    "start_time": "2022-04-24T16:30:07.574Z"
   },
   {
    "duration": 10,
    "start_time": "2022-04-24T16:30:15.276Z"
   },
   {
    "duration": 8,
    "start_time": "2022-04-24T16:31:14.286Z"
   },
   {
    "duration": 4,
    "start_time": "2022-04-24T16:32:41.125Z"
   },
   {
    "duration": 3,
    "start_time": "2022-04-24T16:32:44.189Z"
   },
   {
    "duration": 4,
    "start_time": "2022-04-24T16:32:49.239Z"
   },
   {
    "duration": 4,
    "start_time": "2022-04-24T16:35:06.473Z"
   },
   {
    "duration": 5,
    "start_time": "2022-04-24T16:35:18.478Z"
   },
   {
    "duration": 11,
    "start_time": "2022-04-24T16:36:18.732Z"
   },
   {
    "duration": 5,
    "start_time": "2022-04-24T16:36:28.640Z"
   },
   {
    "duration": 26,
    "start_time": "2022-04-24T16:48:08.781Z"
   },
   {
    "duration": 36,
    "start_time": "2022-04-24T16:48:21.346Z"
   },
   {
    "duration": 129,
    "start_time": "2022-04-24T16:48:44.975Z"
   },
   {
    "duration": 36,
    "start_time": "2022-04-24T16:49:51.082Z"
   },
   {
    "duration": 31,
    "start_time": "2022-04-24T16:49:52.513Z"
   },
   {
    "duration": 41,
    "start_time": "2022-04-24T16:49:52.968Z"
   },
   {
    "duration": 40,
    "start_time": "2022-04-24T16:49:53.956Z"
   },
   {
    "duration": 25,
    "start_time": "2022-04-24T16:49:54.576Z"
   },
   {
    "duration": 31,
    "start_time": "2022-04-24T16:49:56.075Z"
   },
   {
    "duration": 17,
    "start_time": "2022-04-24T16:49:57.208Z"
   },
   {
    "duration": 4,
    "start_time": "2022-04-24T16:49:58.783Z"
   },
   {
    "duration": 15,
    "start_time": "2022-04-24T16:50:00.893Z"
   },
   {
    "duration": 28,
    "start_time": "2022-04-24T16:50:02.417Z"
   },
   {
    "duration": 31,
    "start_time": "2022-04-24T16:50:17.581Z"
   },
   {
    "duration": 431,
    "start_time": "2022-04-24T16:50:45.596Z"
   },
   {
    "duration": 357,
    "start_time": "2022-04-24T16:50:46.329Z"
   },
   {
    "duration": 11,
    "start_time": "2022-04-24T16:50:48.517Z"
   },
   {
    "duration": 14,
    "start_time": "2022-04-24T16:50:48.807Z"
   },
   {
    "duration": 12,
    "start_time": "2022-04-24T16:50:51.113Z"
   },
   {
    "duration": 5,
    "start_time": "2022-04-24T16:50:53.502Z"
   },
   {
    "duration": 13,
    "start_time": "2022-04-24T16:50:54.892Z"
   },
   {
    "duration": 14,
    "start_time": "2022-04-24T16:50:55.172Z"
   },
   {
    "duration": 19,
    "start_time": "2022-04-24T16:50:57.368Z"
   },
   {
    "duration": 10,
    "start_time": "2022-04-24T16:51:00.131Z"
   },
   {
    "duration": 7,
    "start_time": "2022-04-24T16:51:00.721Z"
   },
   {
    "duration": 9,
    "start_time": "2022-04-24T16:51:01.497Z"
   },
   {
    "duration": 19,
    "start_time": "2022-04-24T16:51:03.172Z"
   },
   {
    "duration": 20,
    "start_time": "2022-04-24T16:51:04.021Z"
   },
   {
    "duration": 8,
    "start_time": "2022-04-24T16:51:04.229Z"
   },
   {
    "duration": 54,
    "start_time": "2022-04-24T16:51:07.372Z"
   },
   {
    "duration": 17,
    "start_time": "2022-04-24T16:51:08.803Z"
   },
   {
    "duration": 16,
    "start_time": "2022-04-24T16:51:10.393Z"
   },
   {
    "duration": 7,
    "start_time": "2022-04-24T16:51:10.641Z"
   },
   {
    "duration": 45,
    "start_time": "2022-04-24T16:51:12.122Z"
   },
   {
    "duration": 18,
    "start_time": "2022-04-24T16:51:13.484Z"
   },
   {
    "duration": 9,
    "start_time": "2022-04-24T16:51:13.689Z"
   },
   {
    "duration": 45,
    "start_time": "2022-04-24T16:51:16.379Z"
   },
   {
    "duration": 14,
    "start_time": "2022-04-24T16:51:17.972Z"
   },
   {
    "duration": 50,
    "start_time": "2022-04-24T16:51:20.572Z"
   },
   {
    "duration": 31,
    "start_time": "2022-04-24T16:51:20.988Z"
   },
   {
    "duration": 40,
    "start_time": "2022-04-24T16:51:22.426Z"
   },
   {
    "duration": 34,
    "start_time": "2022-04-24T16:51:23.155Z"
   },
   {
    "duration": 41,
    "start_time": "2022-04-24T16:51:25.176Z"
   },
   {
    "duration": 39,
    "start_time": "2022-04-24T16:51:27.572Z"
   },
   {
    "duration": 25,
    "start_time": "2022-04-24T16:51:37.668Z"
   },
   {
    "duration": 11,
    "start_time": "2022-04-24T16:51:53.175Z"
   },
   {
    "duration": 12,
    "start_time": "2022-04-24T16:52:19.339Z"
   },
   {
    "duration": 17,
    "start_time": "2022-04-24T16:52:21.972Z"
   },
   {
    "duration": 22,
    "start_time": "2022-04-24T16:52:24.464Z"
   },
   {
    "duration": 36,
    "start_time": "2022-04-24T16:52:28.991Z"
   },
   {
    "duration": 9,
    "start_time": "2022-04-24T16:52:31.076Z"
   },
   {
    "duration": 13,
    "start_time": "2022-04-24T16:52:31.818Z"
   },
   {
    "duration": 18,
    "start_time": "2022-04-24T16:52:33.280Z"
   },
   {
    "duration": 7,
    "start_time": "2022-04-24T16:52:40.600Z"
   },
   {
    "duration": 66,
    "start_time": "2022-04-24T16:52:57.868Z"
   },
   {
    "duration": 15,
    "start_time": "2022-04-24T16:53:12.797Z"
   },
   {
    "duration": 6,
    "start_time": "2022-04-24T16:53:17.999Z"
   },
   {
    "duration": 167,
    "start_time": "2022-04-24T16:53:20.347Z"
   },
   {
    "duration": 6,
    "start_time": "2022-04-24T16:53:45.820Z"
   },
   {
    "duration": 168,
    "start_time": "2022-04-24T16:57:53.263Z"
   },
   {
    "duration": 129,
    "start_time": "2022-04-24T16:58:02.708Z"
   },
   {
    "duration": 16,
    "start_time": "2022-04-24T17:02:26.097Z"
   },
   {
    "duration": 13,
    "start_time": "2022-04-24T17:06:09.900Z"
   },
   {
    "duration": 18,
    "start_time": "2022-04-24T17:06:31.386Z"
   },
   {
    "duration": 10,
    "start_time": "2022-04-24T17:08:28.545Z"
   },
   {
    "duration": 12,
    "start_time": "2022-04-24T17:08:58.784Z"
   },
   {
    "duration": 753,
    "start_time": "2022-04-24T17:09:27.364Z"
   },
   {
    "duration": 161,
    "start_time": "2022-04-24T17:10:34.712Z"
   },
   {
    "duration": 17,
    "start_time": "2022-04-24T17:10:40.914Z"
   },
   {
    "duration": 3,
    "start_time": "2022-04-24T17:10:57.107Z"
   },
   {
    "duration": 511,
    "start_time": "2022-04-24T17:11:01.033Z"
   },
   {
    "duration": 401,
    "start_time": "2022-04-24T17:11:38.003Z"
   },
   {
    "duration": 315,
    "start_time": "2022-04-24T17:11:45.179Z"
   },
   {
    "duration": 411,
    "start_time": "2022-04-24T17:12:25.180Z"
   },
   {
    "duration": 372,
    "start_time": "2022-04-24T17:12:29.535Z"
   },
   {
    "duration": 131,
    "start_time": "2022-04-24T17:12:34.513Z"
   },
   {
    "duration": 370,
    "start_time": "2022-04-24T17:12:42.447Z"
   },
   {
    "duration": 432,
    "start_time": "2022-04-24T17:13:10.280Z"
   },
   {
    "duration": 152,
    "start_time": "2022-04-24T17:14:38.644Z"
   },
   {
    "duration": 542,
    "start_time": "2022-04-24T17:14:40.857Z"
   },
   {
    "duration": 406,
    "start_time": "2022-04-24T17:14:59.530Z"
   },
   {
    "duration": 10,
    "start_time": "2022-04-24T17:15:50.395Z"
   },
   {
    "duration": 347,
    "start_time": "2022-04-24T17:15:50.972Z"
   },
   {
    "duration": 6,
    "start_time": "2022-04-24T17:18:17.389Z"
   },
   {
    "duration": 110,
    "start_time": "2022-04-24T17:18:58.006Z"
   },
   {
    "duration": 116,
    "start_time": "2022-04-24T17:19:20.182Z"
   },
   {
    "duration": 108,
    "start_time": "2022-04-24T17:19:38.499Z"
   },
   {
    "duration": 4,
    "start_time": "2022-04-24T17:19:46.661Z"
   },
   {
    "duration": 259,
    "start_time": "2022-04-24T17:22:04.660Z"
   },
   {
    "duration": 271,
    "start_time": "2022-04-24T17:22:23.261Z"
   },
   {
    "duration": 320,
    "start_time": "2022-04-24T17:25:00.386Z"
   },
   {
    "duration": 281,
    "start_time": "2022-04-24T17:27:27.342Z"
   },
   {
    "duration": 612,
    "start_time": "2022-04-24T17:28:09.561Z"
   },
   {
    "duration": 175,
    "start_time": "2022-04-24T18:26:15.527Z"
   },
   {
    "duration": 182,
    "start_time": "2022-04-24T18:26:32.543Z"
   },
   {
    "duration": 104,
    "start_time": "2022-04-24T18:27:51.984Z"
   },
   {
    "duration": 369,
    "start_time": "2022-04-24T18:28:08.214Z"
   },
   {
    "duration": 289,
    "start_time": "2022-04-24T18:28:20.248Z"
   },
   {
    "duration": 401,
    "start_time": "2022-04-24T18:28:31.540Z"
   },
   {
    "duration": 307,
    "start_time": "2022-04-24T18:29:05.709Z"
   },
   {
    "duration": 354,
    "start_time": "2022-04-24T18:29:16.022Z"
   },
   {
    "duration": 300,
    "start_time": "2022-04-24T20:14:46.534Z"
   },
   {
    "duration": 275,
    "start_time": "2022-04-24T20:15:15.983Z"
   },
   {
    "duration": 295,
    "start_time": "2022-04-24T20:15:27.031Z"
   },
   {
    "duration": 334,
    "start_time": "2022-04-24T20:15:35.391Z"
   },
   {
    "duration": 390,
    "start_time": "2022-04-24T20:19:22.817Z"
   },
   {
    "duration": 617,
    "start_time": "2022-04-24T20:19:33.320Z"
   },
   {
    "duration": 511,
    "start_time": "2022-04-24T20:20:13.593Z"
   },
   {
    "duration": 137,
    "start_time": "2022-04-24T20:20:28.972Z"
   },
   {
    "duration": 198,
    "start_time": "2022-04-24T20:20:32.167Z"
   },
   {
    "duration": 304,
    "start_time": "2022-04-24T20:20:37.696Z"
   },
   {
    "duration": 144,
    "start_time": "2022-04-24T20:21:17.829Z"
   },
   {
    "duration": 332,
    "start_time": "2022-04-24T20:21:21.372Z"
   },
   {
    "duration": 309,
    "start_time": "2022-04-24T20:22:47.275Z"
   },
   {
    "duration": 298,
    "start_time": "2022-04-24T20:23:24.044Z"
   },
   {
    "duration": 246,
    "start_time": "2022-04-24T20:23:28.582Z"
   },
   {
    "duration": 219,
    "start_time": "2022-04-24T20:23:47.487Z"
   },
   {
    "duration": 218,
    "start_time": "2022-04-24T20:24:02.140Z"
   },
   {
    "duration": 223,
    "start_time": "2022-04-24T20:24:13.579Z"
   },
   {
    "duration": 387,
    "start_time": "2022-04-24T20:24:25.339Z"
   },
   {
    "duration": 357,
    "start_time": "2022-04-24T20:24:39.305Z"
   },
   {
    "duration": 249,
    "start_time": "2022-04-24T20:24:47.872Z"
   },
   {
    "duration": 308,
    "start_time": "2022-04-24T20:24:52.072Z"
   },
   {
    "duration": 253,
    "start_time": "2022-04-24T20:25:05.230Z"
   },
   {
    "duration": 251,
    "start_time": "2022-04-24T20:25:09.171Z"
   },
   {
    "duration": 263,
    "start_time": "2022-04-24T20:25:21.160Z"
   },
   {
    "duration": 388,
    "start_time": "2022-04-24T20:26:14.003Z"
   },
   {
    "duration": 386,
    "start_time": "2022-04-24T20:26:22.299Z"
   },
   {
    "duration": 238,
    "start_time": "2022-04-24T20:26:26.579Z"
   },
   {
    "duration": 244,
    "start_time": "2022-04-24T20:26:32.374Z"
   },
   {
    "duration": 237,
    "start_time": "2022-04-24T20:26:35.704Z"
   },
   {
    "duration": 458,
    "start_time": "2022-04-24T20:28:15.772Z"
   },
   {
    "duration": 324,
    "start_time": "2022-04-24T20:28:44.481Z"
   },
   {
    "duration": 287,
    "start_time": "2022-04-24T20:28:59.336Z"
   },
   {
    "duration": 283,
    "start_time": "2022-04-24T20:29:27.535Z"
   },
   {
    "duration": 359,
    "start_time": "2022-04-24T20:29:32.746Z"
   },
   {
    "duration": 350,
    "start_time": "2022-04-24T20:30:13.041Z"
   },
   {
    "duration": 331,
    "start_time": "2022-04-24T20:30:28.693Z"
   },
   {
    "duration": 263,
    "start_time": "2022-04-24T20:33:49.430Z"
   },
   {
    "duration": 267,
    "start_time": "2022-04-24T20:35:23.577Z"
   },
   {
    "duration": 311,
    "start_time": "2022-04-24T20:35:33.630Z"
   },
   {
    "duration": 165,
    "start_time": "2022-04-24T20:35:42.112Z"
   },
   {
    "duration": 282,
    "start_time": "2022-04-24T20:35:49.005Z"
   },
   {
    "duration": 464,
    "start_time": "2022-04-24T20:36:00.743Z"
   },
   {
    "duration": 272,
    "start_time": "2022-04-24T20:36:09.563Z"
   },
   {
    "duration": 306,
    "start_time": "2022-04-24T20:36:49.895Z"
   },
   {
    "duration": 367,
    "start_time": "2022-04-24T20:36:57.494Z"
   },
   {
    "duration": 456,
    "start_time": "2022-04-24T20:37:01.214Z"
   },
   {
    "duration": 319,
    "start_time": "2022-04-24T20:37:19.438Z"
   },
   {
    "duration": 5,
    "start_time": "2022-04-24T20:41:40.984Z"
   },
   {
    "duration": 5,
    "start_time": "2022-04-24T20:41:45.920Z"
   },
   {
    "duration": 6,
    "start_time": "2022-04-24T20:41:52.928Z"
   },
   {
    "duration": 6,
    "start_time": "2022-04-24T20:42:19.071Z"
   },
   {
    "duration": 6,
    "start_time": "2022-04-24T20:42:40.189Z"
   },
   {
    "duration": 303,
    "start_time": "2022-04-24T20:43:29.893Z"
   },
   {
    "duration": 266,
    "start_time": "2022-04-24T20:43:34.833Z"
   },
   {
    "duration": 261,
    "start_time": "2022-04-24T20:43:59.229Z"
   },
   {
    "duration": 251,
    "start_time": "2022-04-24T20:44:33.046Z"
   },
   {
    "duration": 6,
    "start_time": "2022-04-24T20:46:14.279Z"
   },
   {
    "duration": 235,
    "start_time": "2022-04-24T20:48:17.881Z"
   },
   {
    "duration": 9,
    "start_time": "2022-04-24T20:50:33.681Z"
   },
   {
    "duration": 5,
    "start_time": "2022-04-24T20:50:44.212Z"
   },
   {
    "duration": 224,
    "start_time": "2022-04-24T20:51:54.668Z"
   },
   {
    "duration": 122,
    "start_time": "2022-04-24T20:54:16.984Z"
   },
   {
    "duration": 294,
    "start_time": "2022-04-24T20:54:21.066Z"
   },
   {
    "duration": 7,
    "start_time": "2022-04-24T20:55:10.773Z"
   },
   {
    "duration": 17,
    "start_time": "2022-04-24T20:55:17.442Z"
   },
   {
    "duration": 512,
    "start_time": "2022-04-24T20:56:28.913Z"
   },
   {
    "duration": 209,
    "start_time": "2022-04-24T20:57:14.081Z"
   },
   {
    "duration": 213,
    "start_time": "2022-04-24T20:57:23.989Z"
   },
   {
    "duration": 222,
    "start_time": "2022-04-24T20:57:48.604Z"
   },
   {
    "duration": 223,
    "start_time": "2022-04-24T20:58:05.474Z"
   },
   {
    "duration": 206,
    "start_time": "2022-04-24T20:58:29.220Z"
   },
   {
    "duration": 120,
    "start_time": "2022-04-24T20:58:40.665Z"
   },
   {
    "duration": 215,
    "start_time": "2022-04-24T20:59:42.863Z"
   },
   {
    "duration": 223,
    "start_time": "2022-04-24T20:59:53.569Z"
   },
   {
    "duration": 239,
    "start_time": "2022-04-24T21:01:22.680Z"
   },
   {
    "duration": 268,
    "start_time": "2022-04-24T21:01:31.087Z"
   },
   {
    "duration": 343,
    "start_time": "2022-04-24T21:01:56.474Z"
   },
   {
    "duration": 269,
    "start_time": "2022-04-24T21:02:01.091Z"
   },
   {
    "duration": 302,
    "start_time": "2022-04-24T21:02:08.573Z"
   },
   {
    "duration": 300,
    "start_time": "2022-04-24T21:02:58.731Z"
   },
   {
    "duration": 499,
    "start_time": "2022-04-24T21:03:25.315Z"
   },
   {
    "duration": 248,
    "start_time": "2022-04-24T21:03:31.691Z"
   },
   {
    "duration": 256,
    "start_time": "2022-04-24T21:04:42.967Z"
   },
   {
    "duration": 278,
    "start_time": "2022-04-24T21:04:55.617Z"
   },
   {
    "duration": 288,
    "start_time": "2022-04-24T21:05:02.487Z"
   },
   {
    "duration": 10,
    "start_time": "2022-04-24T21:05:43.743Z"
   },
   {
    "duration": 10,
    "start_time": "2022-04-24T21:05:56.628Z"
   },
   {
    "duration": 284,
    "start_time": "2022-04-24T21:06:50.218Z"
   },
   {
    "duration": 389,
    "start_time": "2022-04-24T21:07:16.891Z"
   },
   {
    "duration": 348,
    "start_time": "2022-04-24T21:07:19.735Z"
   },
   {
    "duration": 291,
    "start_time": "2022-04-24T21:17:40.323Z"
   },
   {
    "duration": 188,
    "start_time": "2022-04-24T21:18:03.529Z"
   },
   {
    "duration": 15,
    "start_time": "2022-04-24T21:18:20.967Z"
   },
   {
    "duration": 326,
    "start_time": "2022-04-24T21:19:19.935Z"
   },
   {
    "duration": 276,
    "start_time": "2022-04-24T21:19:21.758Z"
   },
   {
    "duration": 16,
    "start_time": "2022-04-24T21:21:39.394Z"
   },
   {
    "duration": 4,
    "start_time": "2022-04-24T21:21:53.088Z"
   },
   {
    "duration": 104,
    "start_time": "2022-04-24T21:22:02.120Z"
   },
   {
    "duration": 9,
    "start_time": "2022-04-24T21:22:40.896Z"
   },
   {
    "duration": 8,
    "start_time": "2022-04-24T21:22:46.315Z"
   },
   {
    "duration": 177,
    "start_time": "2022-04-24T21:22:54.024Z"
   },
   {
    "duration": 159,
    "start_time": "2022-04-24T21:23:11.119Z"
   },
   {
    "duration": 128,
    "start_time": "2022-04-24T21:23:12.868Z"
   },
   {
    "duration": 123,
    "start_time": "2022-04-24T21:23:21.791Z"
   },
   {
    "duration": 130,
    "start_time": "2022-04-24T21:25:03.380Z"
   },
   {
    "duration": 268,
    "start_time": "2022-04-24T21:25:10.247Z"
   },
   {
    "duration": 14,
    "start_time": "2022-04-24T21:26:22.268Z"
   },
   {
    "duration": 14,
    "start_time": "2022-04-24T21:26:28.081Z"
   },
   {
    "duration": 13,
    "start_time": "2022-04-24T21:26:31.776Z"
   },
   {
    "duration": 11,
    "start_time": "2022-04-24T21:35:53.131Z"
   },
   {
    "duration": 18,
    "start_time": "2022-04-24T21:36:09.571Z"
   },
   {
    "duration": 128,
    "start_time": "2022-04-24T21:40:46.866Z"
   },
   {
    "duration": 128,
    "start_time": "2022-04-24T21:40:52.477Z"
   },
   {
    "duration": 407,
    "start_time": "2022-04-24T21:43:56.820Z"
   },
   {
    "duration": 4,
    "start_time": "2022-04-24T21:45:39.739Z"
   },
   {
    "duration": 5,
    "start_time": "2022-04-24T21:46:31.967Z"
   },
   {
    "duration": 130,
    "start_time": "2022-04-24T21:46:54.693Z"
   },
   {
    "duration": 7,
    "start_time": "2022-04-24T21:47:13.643Z"
   },
   {
    "duration": 4,
    "start_time": "2022-04-24T21:47:37.130Z"
   },
   {
    "duration": 5,
    "start_time": "2022-04-24T21:48:00.335Z"
   },
   {
    "duration": 39,
    "start_time": "2022-04-24T21:53:50.265Z"
   },
   {
    "duration": 17,
    "start_time": "2022-04-24T21:54:00.080Z"
   },
   {
    "duration": 22,
    "start_time": "2022-04-24T21:54:13.593Z"
   },
   {
    "duration": 9,
    "start_time": "2022-04-24T21:54:33.292Z"
   },
   {
    "duration": 10,
    "start_time": "2022-04-24T21:56:34.702Z"
   },
   {
    "duration": 14,
    "start_time": "2022-04-24T21:56:38.675Z"
   },
   {
    "duration": 9,
    "start_time": "2022-04-24T21:56:51.494Z"
   },
   {
    "duration": 11,
    "start_time": "2022-04-24T21:56:55.477Z"
   },
   {
    "duration": 35,
    "start_time": "2022-04-24T21:58:12.472Z"
   },
   {
    "duration": 38,
    "start_time": "2022-04-24T21:58:36.539Z"
   },
   {
    "duration": 16,
    "start_time": "2022-04-24T21:59:30.667Z"
   },
   {
    "duration": 29,
    "start_time": "2022-04-24T21:59:37.006Z"
   },
   {
    "duration": 15,
    "start_time": "2022-04-24T21:59:49.872Z"
   },
   {
    "duration": 2,
    "start_time": "2022-04-24T22:00:34.143Z"
   },
   {
    "duration": 3,
    "start_time": "2022-04-24T22:00:58.770Z"
   },
   {
    "duration": 10,
    "start_time": "2022-04-24T22:01:59.345Z"
   },
   {
    "duration": 4,
    "start_time": "2022-04-24T22:02:12.163Z"
   },
   {
    "duration": 1309,
    "start_time": "2022-04-24T23:04:55.081Z"
   },
   {
    "duration": 368,
    "start_time": "2022-04-24T23:05:05.055Z"
   },
   {
    "duration": 13,
    "start_time": "2022-04-24T23:05:13.097Z"
   },
   {
    "duration": 20,
    "start_time": "2022-04-24T23:05:13.963Z"
   },
   {
    "duration": 11,
    "start_time": "2022-04-24T23:05:21.611Z"
   },
   {
    "duration": 5,
    "start_time": "2022-04-24T23:05:24.312Z"
   },
   {
    "duration": 14,
    "start_time": "2022-04-24T23:05:26.555Z"
   },
   {
    "duration": 10,
    "start_time": "2022-04-24T23:05:27.133Z"
   },
   {
    "duration": 14,
    "start_time": "2022-04-24T23:05:36.971Z"
   },
   {
    "duration": 6,
    "start_time": "2022-04-24T23:05:38.409Z"
   },
   {
    "duration": 5,
    "start_time": "2022-04-24T23:05:39.795Z"
   },
   {
    "duration": 8,
    "start_time": "2022-04-24T23:05:41.510Z"
   },
   {
    "duration": 12,
    "start_time": "2022-04-24T23:05:42.786Z"
   },
   {
    "duration": 21,
    "start_time": "2022-04-24T23:05:45.589Z"
   },
   {
    "duration": 12,
    "start_time": "2022-04-24T23:05:47.244Z"
   },
   {
    "duration": 72,
    "start_time": "2022-04-24T23:05:50.792Z"
   },
   {
    "duration": 21,
    "start_time": "2022-04-24T23:05:52.245Z"
   },
   {
    "duration": 15,
    "start_time": "2022-04-24T23:05:54.225Z"
   },
   {
    "duration": 7,
    "start_time": "2022-04-24T23:05:54.625Z"
   },
   {
    "duration": 40,
    "start_time": "2022-04-24T23:05:57.940Z"
   },
   {
    "duration": 17,
    "start_time": "2022-04-24T23:05:59.676Z"
   },
   {
    "duration": 13,
    "start_time": "2022-04-24T23:06:00.068Z"
   },
   {
    "duration": 38,
    "start_time": "2022-04-24T23:06:02.388Z"
   },
   {
    "duration": 10,
    "start_time": "2022-04-24T23:06:04.077Z"
   },
   {
    "duration": 61,
    "start_time": "2022-04-24T23:06:06.218Z"
   },
   {
    "duration": 34,
    "start_time": "2022-04-24T23:06:08.570Z"
   },
   {
    "duration": 29,
    "start_time": "2022-04-24T23:06:10.590Z"
   },
   {
    "duration": 26,
    "start_time": "2022-04-24T23:06:13.206Z"
   },
   {
    "duration": 26,
    "start_time": "2022-04-24T23:06:21.307Z"
   },
   {
    "duration": 30,
    "start_time": "2022-04-24T23:06:31.625Z"
   },
   {
    "duration": 9,
    "start_time": "2022-04-24T23:06:38.290Z"
   },
   {
    "duration": 13,
    "start_time": "2022-04-24T23:06:39.895Z"
   },
   {
    "duration": 18,
    "start_time": "2022-04-24T23:06:41.835Z"
   },
   {
    "duration": 7,
    "start_time": "2022-04-24T23:07:14.417Z"
   },
   {
    "duration": 10,
    "start_time": "2022-04-24T23:07:16.643Z"
   },
   {
    "duration": 101,
    "start_time": "2022-04-24T23:07:18.693Z"
   },
   {
    "duration": 9,
    "start_time": "2022-04-24T23:14:19.785Z"
   },
   {
    "duration": 301,
    "start_time": "2022-04-24T23:14:24.953Z"
   },
   {
    "duration": 253,
    "start_time": "2022-04-24T23:14:42.678Z"
   },
   {
    "duration": 7,
    "start_time": "2022-04-24T23:14:57.540Z"
   },
   {
    "duration": 269,
    "start_time": "2022-04-24T23:15:03.425Z"
   },
   {
    "duration": 13,
    "start_time": "2022-04-24T23:16:18.143Z"
   },
   {
    "duration": 11,
    "start_time": "2022-04-24T23:17:35.598Z"
   },
   {
    "duration": 7,
    "start_time": "2022-04-24T23:17:42.430Z"
   },
   {
    "duration": 8,
    "start_time": "2022-04-24T23:18:01.482Z"
   },
   {
    "duration": 8,
    "start_time": "2022-04-24T23:18:27.425Z"
   },
   {
    "duration": 11,
    "start_time": "2022-04-24T23:18:41.906Z"
   },
   {
    "duration": 119,
    "start_time": "2022-04-24T23:19:59.603Z"
   },
   {
    "duration": 15,
    "start_time": "2022-04-24T23:20:40.920Z"
   },
   {
    "duration": 8,
    "start_time": "2022-04-24T23:20:52.837Z"
   },
   {
    "duration": 9,
    "start_time": "2022-04-24T23:21:19.974Z"
   },
   {
    "duration": 29,
    "start_time": "2022-04-24T23:21:23.536Z"
   },
   {
    "duration": 24,
    "start_time": "2022-04-24T23:21:49.679Z"
   },
   {
    "duration": 5,
    "start_time": "2022-04-24T23:21:53.146Z"
   },
   {
    "duration": 26,
    "start_time": "2022-04-24T23:21:59.180Z"
   },
   {
    "duration": 14,
    "start_time": "2022-04-24T23:22:14.483Z"
   },
   {
    "duration": 206,
    "start_time": "2022-04-24T23:24:48.514Z"
   },
   {
    "duration": 12,
    "start_time": "2022-04-24T23:26:44.076Z"
   },
   {
    "duration": 244,
    "start_time": "2022-04-24T23:27:32.287Z"
   },
   {
    "duration": 196,
    "start_time": "2022-04-24T23:27:51.214Z"
   },
   {
    "duration": 247,
    "start_time": "2022-04-24T23:28:14.779Z"
   },
   {
    "duration": 275,
    "start_time": "2022-04-24T23:28:34.363Z"
   },
   {
    "duration": 10,
    "start_time": "2022-04-24T23:28:54.499Z"
   },
   {
    "duration": 264,
    "start_time": "2022-04-24T23:30:04.896Z"
   },
   {
    "duration": 24,
    "start_time": "2022-04-24T23:30:40.540Z"
   },
   {
    "duration": 9,
    "start_time": "2022-04-24T23:30:46.991Z"
   },
   {
    "duration": 9,
    "start_time": "2022-04-24T23:30:52.175Z"
   },
   {
    "duration": 9,
    "start_time": "2022-04-24T23:33:02.692Z"
   },
   {
    "duration": 16,
    "start_time": "2022-04-24T23:33:55.217Z"
   },
   {
    "duration": 244,
    "start_time": "2022-04-24T23:34:40.113Z"
   },
   {
    "duration": 222,
    "start_time": "2022-04-24T23:35:06.173Z"
   },
   {
    "duration": 8,
    "start_time": "2022-04-24T23:35:40.200Z"
   },
   {
    "duration": 10,
    "start_time": "2022-04-24T23:35:40.857Z"
   },
   {
    "duration": 26,
    "start_time": "2022-04-24T23:39:09.040Z"
   },
   {
    "duration": 197,
    "start_time": "2022-04-24T23:39:35.395Z"
   },
   {
    "duration": 266,
    "start_time": "2022-04-24T23:39:42.938Z"
   },
   {
    "duration": 271,
    "start_time": "2022-04-24T23:39:55.514Z"
   },
   {
    "duration": 252,
    "start_time": "2022-04-24T23:45:51.224Z"
   },
   {
    "duration": 196,
    "start_time": "2022-04-24T23:46:06.820Z"
   },
   {
    "duration": 9,
    "start_time": "2022-04-24T23:46:57.772Z"
   },
   {
    "duration": 9,
    "start_time": "2022-04-24T23:46:59.878Z"
   },
   {
    "duration": 17,
    "start_time": "2022-04-24T23:51:25.441Z"
   },
   {
    "duration": 7,
    "start_time": "2022-04-24T23:51:34.525Z"
   },
   {
    "duration": 10,
    "start_time": "2022-04-24T23:52:47.332Z"
   },
   {
    "duration": 305,
    "start_time": "2022-04-24T23:53:46.190Z"
   },
   {
    "duration": 19,
    "start_time": "2022-04-24T23:54:19.575Z"
   },
   {
    "duration": 21,
    "start_time": "2022-04-24T23:54:28.186Z"
   },
   {
    "duration": 8,
    "start_time": "2022-04-24T23:54:34.106Z"
   },
   {
    "duration": 22,
    "start_time": "2022-04-24T23:54:36.065Z"
   },
   {
    "duration": 10,
    "start_time": "2022-04-24T23:55:05.144Z"
   },
   {
    "duration": 5,
    "start_time": "2022-04-24T23:55:17.769Z"
   },
   {
    "duration": 7,
    "start_time": "2022-04-24T23:55:51.582Z"
   },
   {
    "duration": 3,
    "start_time": "2022-04-24T23:56:00.280Z"
   },
   {
    "duration": 12,
    "start_time": "2022-04-24T23:57:04.577Z"
   },
   {
    "duration": 21,
    "start_time": "2022-04-24T23:57:07.671Z"
   },
   {
    "duration": 15,
    "start_time": "2022-04-24T23:57:15.323Z"
   },
   {
    "duration": 199,
    "start_time": "2022-04-24T23:57:23.501Z"
   },
   {
    "duration": 356,
    "start_time": "2022-04-24T23:58:11.211Z"
   },
   {
    "duration": 242,
    "start_time": "2022-04-24T23:59:04.977Z"
   },
   {
    "duration": 186,
    "start_time": "2022-04-24T23:59:30.493Z"
   },
   {
    "duration": 242,
    "start_time": "2022-04-24T23:59:44.802Z"
   },
   {
    "duration": 287,
    "start_time": "2022-04-24T23:59:58.102Z"
   },
   {
    "duration": 252,
    "start_time": "2022-04-25T00:00:03.964Z"
   },
   {
    "duration": 250,
    "start_time": "2022-04-25T00:00:33.943Z"
   },
   {
    "duration": 228,
    "start_time": "2022-04-25T00:00:40.304Z"
   },
   {
    "duration": 365,
    "start_time": "2022-04-25T00:00:51.533Z"
   },
   {
    "duration": 233,
    "start_time": "2022-04-25T00:01:03.273Z"
   },
   {
    "duration": 180,
    "start_time": "2022-04-25T00:01:44.614Z"
   },
   {
    "duration": 236,
    "start_time": "2022-04-25T00:01:51.316Z"
   },
   {
    "duration": 8,
    "start_time": "2022-04-25T00:04:06.227Z"
   },
   {
    "duration": 7,
    "start_time": "2022-04-25T00:04:16.028Z"
   },
   {
    "duration": 4,
    "start_time": "2022-04-25T00:05:11.028Z"
   },
   {
    "duration": 145,
    "start_time": "2022-04-25T00:05:16.117Z"
   },
   {
    "duration": 13,
    "start_time": "2022-04-25T00:06:05.655Z"
   },
   {
    "duration": 14,
    "start_time": "2022-04-25T00:06:08.714Z"
   },
   {
    "duration": 132,
    "start_time": "2022-04-25T00:06:15.272Z"
   },
   {
    "duration": 141,
    "start_time": "2022-04-25T00:06:28.341Z"
   },
   {
    "duration": 17,
    "start_time": "2022-04-25T00:06:34.576Z"
   },
   {
    "duration": 142,
    "start_time": "2022-04-25T00:06:42.696Z"
   },
   {
    "duration": 296,
    "start_time": "2022-04-25T00:08:10.750Z"
   },
   {
    "duration": 306,
    "start_time": "2022-04-25T00:08:19.328Z"
   },
   {
    "duration": 294,
    "start_time": "2022-04-25T00:09:18.040Z"
   },
   {
    "duration": 143,
    "start_time": "2022-04-25T00:10:21.708Z"
   },
   {
    "duration": 5,
    "start_time": "2022-04-25T00:10:31.875Z"
   },
   {
    "duration": 4,
    "start_time": "2022-04-25T00:10:38.326Z"
   },
   {
    "duration": 1711,
    "start_time": "2022-04-25T17:08:26.089Z"
   },
   {
    "duration": 1814,
    "start_time": "2022-04-25T17:08:27.803Z"
   },
   {
    "duration": 19,
    "start_time": "2022-04-25T17:08:29.619Z"
   },
   {
    "duration": 22,
    "start_time": "2022-04-25T17:08:29.641Z"
   },
   {
    "duration": 26,
    "start_time": "2022-04-25T17:08:29.666Z"
   },
   {
    "duration": 8,
    "start_time": "2022-04-25T17:08:29.694Z"
   },
   {
    "duration": 29,
    "start_time": "2022-04-25T17:08:29.704Z"
   },
   {
    "duration": 22,
    "start_time": "2022-04-25T17:08:29.736Z"
   },
   {
    "duration": 46,
    "start_time": "2022-04-25T17:08:29.760Z"
   },
   {
    "duration": 15,
    "start_time": "2022-04-25T17:08:29.810Z"
   },
   {
    "duration": 11,
    "start_time": "2022-04-25T17:08:29.827Z"
   },
   {
    "duration": 22,
    "start_time": "2022-04-25T17:08:29.840Z"
   },
   {
    "duration": 40,
    "start_time": "2022-04-25T17:08:29.864Z"
   },
   {
    "duration": 37,
    "start_time": "2022-04-25T17:08:29.906Z"
   },
   {
    "duration": 13,
    "start_time": "2022-04-25T17:08:29.945Z"
   },
   {
    "duration": 99,
    "start_time": "2022-04-25T17:08:29.960Z"
   },
   {
    "duration": 36,
    "start_time": "2022-04-25T17:08:30.061Z"
   },
   {
    "duration": 26,
    "start_time": "2022-04-25T17:08:30.100Z"
   },
   {
    "duration": 11,
    "start_time": "2022-04-25T17:08:30.128Z"
   },
   {
    "duration": 99,
    "start_time": "2022-04-25T17:08:30.142Z"
   },
   {
    "duration": 51,
    "start_time": "2022-04-25T17:08:30.244Z"
   },
   {
    "duration": 17,
    "start_time": "2022-04-25T17:08:30.298Z"
   },
   {
    "duration": 80,
    "start_time": "2022-04-25T17:08:30.318Z"
   },
   {
    "duration": 16,
    "start_time": "2022-04-25T17:08:30.400Z"
   },
   {
    "duration": 87,
    "start_time": "2022-04-25T17:08:30.419Z"
   },
   {
    "duration": 44,
    "start_time": "2022-04-25T17:08:30.508Z"
   },
   {
    "duration": 70,
    "start_time": "2022-04-25T17:08:30.554Z"
   },
   {
    "duration": 39,
    "start_time": "2022-04-25T17:08:30.631Z"
   },
   {
    "duration": 55,
    "start_time": "2022-04-25T17:08:30.673Z"
   },
   {
    "duration": 70,
    "start_time": "2022-04-25T17:08:30.731Z"
   },
   {
    "duration": 11,
    "start_time": "2022-04-25T17:08:30.804Z"
   },
   {
    "duration": 52,
    "start_time": "2022-04-25T17:08:30.818Z"
   },
   {
    "duration": 27,
    "start_time": "2022-04-25T17:08:30.872Z"
   },
   {
    "duration": 16,
    "start_time": "2022-04-25T17:08:30.901Z"
   },
   {
    "duration": 19,
    "start_time": "2022-04-25T17:08:30.919Z"
   },
   {
    "duration": 294,
    "start_time": "2022-04-25T17:08:30.941Z"
   },
   {
    "duration": 16,
    "start_time": "2022-04-25T17:08:31.237Z"
   },
   {
    "duration": 750,
    "start_time": "2022-04-25T17:08:31.256Z"
   },
   {
    "duration": 750,
    "start_time": "2022-04-25T17:08:32.008Z"
   },
   {
    "duration": 35,
    "start_time": "2022-04-25T17:08:32.760Z"
   },
   {
    "duration": 396,
    "start_time": "2022-04-25T17:08:32.797Z"
   },
   {
    "duration": 492,
    "start_time": "2022-04-25T17:08:33.195Z"
   },
   {
    "duration": 349,
    "start_time": "2022-04-25T17:08:33.692Z"
   },
   {
    "duration": 14,
    "start_time": "2022-04-25T17:08:34.043Z"
   },
   {
    "duration": 33,
    "start_time": "2022-04-25T17:08:34.060Z"
   },
   {
    "duration": 487,
    "start_time": "2022-04-25T17:08:34.096Z"
   },
   {
    "duration": 420,
    "start_time": "2022-04-25T17:08:34.585Z"
   },
   {
    "duration": 11,
    "start_time": "2022-04-25T17:08:35.007Z"
   },
   {
    "duration": 15,
    "start_time": "2022-04-25T17:08:35.021Z"
   },
   {
    "duration": 476,
    "start_time": "2022-04-25T17:08:35.039Z"
   },
   {
    "duration": 363,
    "start_time": "2022-04-25T17:08:35.517Z"
   },
   {
    "duration": 19,
    "start_time": "2022-04-25T17:08:35.883Z"
   },
   {
    "duration": 13,
    "start_time": "2022-04-25T17:08:35.905Z"
   },
   {
    "duration": 14,
    "start_time": "2022-04-25T17:08:35.920Z"
   },
   {
    "duration": 11,
    "start_time": "2022-04-25T17:08:35.936Z"
   },
   {
    "duration": 55,
    "start_time": "2022-04-25T17:08:35.950Z"
   },
   {
    "duration": 449,
    "start_time": "2022-04-25T17:08:36.008Z"
   },
   {
    "duration": 417,
    "start_time": "2022-04-25T17:08:36.459Z"
   },
   {
    "duration": 21,
    "start_time": "2022-04-25T17:08:36.878Z"
   },
   {
    "duration": 12,
    "start_time": "2022-04-25T17:08:36.902Z"
   },
   {
    "duration": 487,
    "start_time": "2022-04-25T17:08:36.916Z"
   },
   {
    "duration": 5,
    "start_time": "2022-04-25T17:08:37.405Z"
   },
   {
    "duration": 11,
    "start_time": "2022-04-25T17:08:37.413Z"
   },
   {
    "duration": 7,
    "start_time": "2022-04-25T17:08:37.427Z"
   },
   {
    "duration": 21,
    "start_time": "2022-04-25T17:08:37.436Z"
   },
   {
    "duration": 39,
    "start_time": "2022-04-25T17:08:37.459Z"
   },
   {
    "duration": 12,
    "start_time": "2022-04-25T17:08:37.500Z"
   },
   {
    "duration": 23,
    "start_time": "2022-04-25T17:13:17.160Z"
   },
   {
    "duration": 1272,
    "start_time": "2022-04-25T22:03:28.116Z"
   },
   {
    "duration": 279,
    "start_time": "2022-04-25T22:03:30.931Z"
   },
   {
    "duration": 15,
    "start_time": "2022-04-25T22:03:36.809Z"
   },
   {
    "duration": 13,
    "start_time": "2022-04-25T22:03:38.420Z"
   },
   {
    "duration": 12,
    "start_time": "2022-04-25T22:03:41.170Z"
   },
   {
    "duration": 5,
    "start_time": "2022-04-25T22:03:43.048Z"
   },
   {
    "duration": 10,
    "start_time": "2022-04-25T22:03:44.260Z"
   },
   {
    "duration": 10,
    "start_time": "2022-04-25T22:03:45.339Z"
   },
   {
    "duration": 14,
    "start_time": "2022-04-25T22:03:48.360Z"
   },
   {
    "duration": 6,
    "start_time": "2022-04-25T22:03:50.225Z"
   },
   {
    "duration": 5,
    "start_time": "2022-04-25T22:03:52.202Z"
   },
   {
    "duration": 8,
    "start_time": "2022-04-25T22:03:54.033Z"
   },
   {
    "duration": 12,
    "start_time": "2022-04-25T22:03:54.638Z"
   },
   {
    "duration": 63,
    "start_time": "2022-04-25T22:05:38.887Z"
   },
   {
    "duration": 16,
    "start_time": "2022-04-25T22:06:41.252Z"
   },
   {
    "duration": 16,
    "start_time": "2022-04-25T22:06:43.530Z"
   },
   {
    "duration": 8,
    "start_time": "2022-04-25T22:06:44.532Z"
   },
   {
    "duration": 34,
    "start_time": "2022-04-25T22:06:48.512Z"
   },
   {
    "duration": 18,
    "start_time": "2022-04-25T22:06:50.426Z"
   },
   {
    "duration": 13,
    "start_time": "2022-04-25T22:06:51.499Z"
   },
   {
    "duration": 42,
    "start_time": "2022-04-25T22:06:54.095Z"
   },
   {
    "duration": 11,
    "start_time": "2022-04-25T22:06:55.408Z"
   },
   {
    "duration": 115,
    "start_time": "2022-04-25T22:06:59.393Z"
   },
   {
    "duration": 1116,
    "start_time": "2022-04-25T22:07:18.271Z"
   },
   {
    "duration": 290,
    "start_time": "2022-04-25T22:07:19.389Z"
   },
   {
    "duration": 13,
    "start_time": "2022-04-25T22:07:20.521Z"
   },
   {
    "duration": 14,
    "start_time": "2022-04-25T22:07:20.762Z"
   },
   {
    "duration": 13,
    "start_time": "2022-04-25T22:07:22.011Z"
   },
   {
    "duration": 4,
    "start_time": "2022-04-25T22:07:22.153Z"
   },
   {
    "duration": 13,
    "start_time": "2022-04-25T22:07:22.244Z"
   },
   {
    "duration": 11,
    "start_time": "2022-04-25T22:07:22.290Z"
   },
   {
    "duration": 23,
    "start_time": "2022-04-25T22:07:22.461Z"
   },
   {
    "duration": 6,
    "start_time": "2022-04-25T22:07:22.579Z"
   },
   {
    "duration": 5,
    "start_time": "2022-04-25T22:07:24.341Z"
   },
   {
    "duration": 9,
    "start_time": "2022-04-25T22:07:24.686Z"
   },
   {
    "duration": 13,
    "start_time": "2022-04-25T22:07:24.854Z"
   },
   {
    "duration": 21,
    "start_time": "2022-04-25T22:07:25.231Z"
   },
   {
    "duration": 10,
    "start_time": "2022-04-25T22:07:25.636Z"
   },
   {
    "duration": 52,
    "start_time": "2022-04-25T22:07:33.569Z"
   },
   {
    "duration": 18,
    "start_time": "2022-04-25T22:07:35.591Z"
   },
   {
    "duration": 16,
    "start_time": "2022-04-25T22:07:36.759Z"
   },
   {
    "duration": 7,
    "start_time": "2022-04-25T22:07:36.956Z"
   },
   {
    "duration": 34,
    "start_time": "2022-04-25T22:07:38.761Z"
   },
   {
    "duration": 20,
    "start_time": "2022-04-25T22:07:40.285Z"
   },
   {
    "duration": 10,
    "start_time": "2022-04-25T22:07:40.534Z"
   },
   {
    "duration": 41,
    "start_time": "2022-04-25T22:07:43.695Z"
   },
   {
    "duration": 11,
    "start_time": "2022-04-25T22:07:44.549Z"
   },
   {
    "duration": 46,
    "start_time": "2022-04-25T22:07:46.365Z"
   },
   {
    "duration": 31,
    "start_time": "2022-04-25T22:07:47.485Z"
   },
   {
    "duration": 2,
    "start_time": "2022-04-25T22:08:27.510Z"
   },
   {
    "duration": 1036,
    "start_time": "2022-04-25T22:08:37.427Z"
   },
   {
    "duration": 273,
    "start_time": "2022-04-25T22:08:38.564Z"
   },
   {
    "duration": 11,
    "start_time": "2022-04-25T22:08:40.408Z"
   },
   {
    "duration": 13,
    "start_time": "2022-04-25T22:08:40.853Z"
   },
   {
    "duration": 12,
    "start_time": "2022-04-25T22:08:44.572Z"
   },
   {
    "duration": 5,
    "start_time": "2022-04-25T22:08:48.012Z"
   },
   {
    "duration": 12,
    "start_time": "2022-04-25T22:08:49.399Z"
   },
   {
    "duration": 11,
    "start_time": "2022-04-25T22:08:49.850Z"
   },
   {
    "duration": 13,
    "start_time": "2022-04-25T22:08:52.094Z"
   },
   {
    "duration": 6,
    "start_time": "2022-04-25T22:08:53.879Z"
   },
   {
    "duration": 5,
    "start_time": "2022-04-25T22:08:54.949Z"
   },
   {
    "duration": 8,
    "start_time": "2022-04-25T22:08:55.542Z"
   },
   {
    "duration": 12,
    "start_time": "2022-04-25T22:08:55.816Z"
   },
   {
    "duration": 22,
    "start_time": "2022-04-25T22:08:58.103Z"
   },
   {
    "duration": 10,
    "start_time": "2022-04-25T22:08:58.664Z"
   },
   {
    "duration": 1145,
    "start_time": "2022-04-25T22:11:06.160Z"
   },
   {
    "duration": 19,
    "start_time": "2022-04-25T22:11:19.153Z"
   },
   {
    "duration": 23,
    "start_time": "2022-04-25T22:12:16.071Z"
   },
   {
    "duration": 50,
    "start_time": "2022-04-25T22:12:55.530Z"
   },
   {
    "duration": 17,
    "start_time": "2022-04-25T22:12:59.400Z"
   },
   {
    "duration": 8,
    "start_time": "2022-04-25T22:12:59.761Z"
   },
   {
    "duration": 36,
    "start_time": "2022-04-25T22:13:06.052Z"
   },
   {
    "duration": 20,
    "start_time": "2022-04-25T22:13:07.268Z"
   },
   {
    "duration": 10,
    "start_time": "2022-04-25T22:13:07.652Z"
   },
   {
    "duration": 43,
    "start_time": "2022-04-25T22:13:11.282Z"
   },
   {
    "duration": 13,
    "start_time": "2022-04-25T22:13:12.900Z"
   },
   {
    "duration": 48,
    "start_time": "2022-04-25T22:13:15.837Z"
   },
   {
    "duration": 34,
    "start_time": "2022-04-25T22:13:20.410Z"
   },
   {
    "duration": 32,
    "start_time": "2022-04-25T22:15:35.972Z"
   },
   {
    "duration": 28,
    "start_time": "2022-04-25T22:16:00.533Z"
   },
   {
    "duration": 29,
    "start_time": "2022-04-25T22:16:03.211Z"
   },
   {
    "duration": 23,
    "start_time": "2022-04-25T22:16:40.393Z"
   },
   {
    "duration": 24,
    "start_time": "2022-04-25T22:16:45.042Z"
   },
   {
    "duration": 31,
    "start_time": "2022-04-25T22:17:01.624Z"
   },
   {
    "duration": 7,
    "start_time": "2022-04-25T22:17:06.894Z"
   },
   {
    "duration": 14,
    "start_time": "2022-04-25T22:17:07.409Z"
   },
   {
    "duration": 16,
    "start_time": "2022-04-25T22:17:08.640Z"
   },
   {
    "duration": 5,
    "start_time": "2022-04-25T22:17:41.250Z"
   },
   {
    "duration": 20,
    "start_time": "2022-04-25T22:17:42.931Z"
   },
   {
    "duration": 5,
    "start_time": "2022-04-25T22:17:50.621Z"
   },
   {
    "duration": 5,
    "start_time": "2022-04-25T22:17:51.620Z"
   },
   {
    "duration": 99,
    "start_time": "2022-04-25T22:17:53.087Z"
   },
   {
    "duration": 8,
    "start_time": "2022-04-25T22:18:42.849Z"
   },
   {
    "duration": 312,
    "start_time": "2022-04-25T22:18:44.269Z"
   },
   {
    "duration": 283,
    "start_time": "2022-04-25T22:18:46.623Z"
   },
   {
    "duration": 11,
    "start_time": "2022-04-25T22:18:48.539Z"
   },
   {
    "duration": 269,
    "start_time": "2022-04-25T22:19:10.541Z"
   },
   {
    "duration": 222,
    "start_time": "2022-04-25T22:19:15.538Z"
   },
   {
    "duration": 271,
    "start_time": "2022-04-25T22:19:42.910Z"
   },
   {
    "duration": 193,
    "start_time": "2022-04-25T22:19:49.027Z"
   },
   {
    "duration": 199,
    "start_time": "2022-04-25T22:19:51.652Z"
   },
   {
    "duration": 8,
    "start_time": "2022-04-25T22:19:54.658Z"
   },
   {
    "duration": 8,
    "start_time": "2022-04-25T22:19:55.234Z"
   },
   {
    "duration": 348,
    "start_time": "2022-04-25T22:19:59.811Z"
   },
   {
    "duration": 206,
    "start_time": "2022-04-25T22:20:04.969Z"
   },
   {
    "duration": 8,
    "start_time": "2022-04-25T22:20:07.685Z"
   },
   {
    "duration": 8,
    "start_time": "2022-04-25T22:20:08.033Z"
   },
   {
    "duration": 290,
    "start_time": "2022-04-25T22:20:13.163Z"
   },
   {
    "duration": 212,
    "start_time": "2022-04-25T22:20:18.016Z"
   },
   {
    "duration": 8,
    "start_time": "2022-04-25T22:20:19.859Z"
   },
   {
    "duration": 8,
    "start_time": "2022-04-25T22:20:20.232Z"
   },
   {
    "duration": 8,
    "start_time": "2022-04-25T22:20:22.478Z"
   },
   {
    "duration": 3,
    "start_time": "2022-04-25T22:20:23.533Z"
   },
   {
    "duration": 12,
    "start_time": "2022-04-25T22:20:24.092Z"
   },
   {
    "duration": 281,
    "start_time": "2022-04-25T22:20:27.914Z"
   },
   {
    "duration": 244,
    "start_time": "2022-04-25T22:20:35.630Z"
   },
   {
    "duration": 8,
    "start_time": "2022-04-25T22:20:37.684Z"
   },
   {
    "duration": 8,
    "start_time": "2022-04-25T22:20:38.119Z"
   },
   {
    "duration": 314,
    "start_time": "2022-04-25T22:20:44.009Z"
   },
   {
    "duration": 4,
    "start_time": "2022-04-25T22:20:47.990Z"
   },
   {
    "duration": 1232,
    "start_time": "2022-04-27T03:46:15.969Z"
   },
   {
    "duration": 599,
    "start_time": "2022-04-27T03:46:17.642Z"
   },
   {
    "duration": 11,
    "start_time": "2022-04-27T03:46:19.527Z"
   },
   {
    "duration": 11,
    "start_time": "2022-04-27T03:46:19.836Z"
   },
   {
    "duration": 11,
    "start_time": "2022-04-27T03:46:21.782Z"
   },
   {
    "duration": 5,
    "start_time": "2022-04-27T03:46:23.389Z"
   },
   {
    "duration": 11,
    "start_time": "2022-04-27T03:46:44.656Z"
   },
   {
    "duration": 10,
    "start_time": "2022-04-27T03:46:44.985Z"
   },
   {
    "duration": 13,
    "start_time": "2022-04-27T03:46:46.955Z"
   },
   {
    "duration": 6,
    "start_time": "2022-04-27T03:46:48.156Z"
   },
   {
    "duration": 5,
    "start_time": "2022-04-27T03:46:48.847Z"
   },
   {
    "duration": 9,
    "start_time": "2022-04-27T03:46:50.158Z"
   },
   {
    "duration": 12,
    "start_time": "2022-04-27T03:46:50.370Z"
   },
   {
    "duration": 19,
    "start_time": "2022-04-27T03:46:51.645Z"
   },
   {
    "duration": 9,
    "start_time": "2022-04-27T03:46:51.950Z"
   },
   {
    "duration": 49,
    "start_time": "2022-04-27T03:47:00.219Z"
   },
   {
    "duration": 18,
    "start_time": "2022-04-27T03:47:01.882Z"
   },
   {
    "duration": 15,
    "start_time": "2022-04-27T03:47:06.210Z"
   },
   {
    "duration": 8,
    "start_time": "2022-04-27T03:47:06.511Z"
   },
   {
    "duration": 28,
    "start_time": "2022-04-27T03:47:08.244Z"
   },
   {
    "duration": 16,
    "start_time": "2022-04-27T03:47:09.630Z"
   },
   {
    "duration": 8,
    "start_time": "2022-04-27T03:47:09.799Z"
   },
   {
    "duration": 37,
    "start_time": "2022-04-27T03:47:11.603Z"
   },
   {
    "duration": 9,
    "start_time": "2022-04-27T03:47:13.037Z"
   },
   {
    "duration": 45,
    "start_time": "2022-04-27T03:47:14.247Z"
   },
   {
    "duration": 30,
    "start_time": "2022-04-27T03:47:14.450Z"
   },
   {
    "duration": 29,
    "start_time": "2022-04-27T03:47:31.506Z"
   },
   {
    "duration": 25,
    "start_time": "2022-04-27T03:47:31.921Z"
   },
   {
    "duration": 25,
    "start_time": "2022-04-27T03:47:32.903Z"
   },
   {
    "duration": 27,
    "start_time": "2022-04-27T03:47:35.402Z"
   },
   {
    "duration": 7,
    "start_time": "2022-04-27T03:47:41.308Z"
   },
   {
    "duration": 12,
    "start_time": "2022-04-27T03:47:41.665Z"
   },
   {
    "duration": 13,
    "start_time": "2022-04-27T03:47:42.561Z"
   },
   {
    "duration": 4,
    "start_time": "2022-04-27T03:47:44.376Z"
   },
   {
    "duration": 5,
    "start_time": "2022-04-27T03:47:45.281Z"
   },
   {
    "duration": 83,
    "start_time": "2022-04-27T03:47:46.406Z"
   },
   {
    "duration": 7,
    "start_time": "2022-04-27T03:47:48.859Z"
   },
   {
    "duration": 272,
    "start_time": "2022-04-27T03:47:50.987Z"
   },
   {
    "duration": 235,
    "start_time": "2022-04-27T03:47:52.165Z"
   },
   {
    "duration": 9,
    "start_time": "2022-04-27T03:47:53.101Z"
   },
   {
    "duration": 180,
    "start_time": "2022-04-27T03:48:23.733Z"
   },
   {
    "duration": 223,
    "start_time": "2022-04-27T03:48:31.857Z"
   },
   {
    "duration": 158,
    "start_time": "2022-04-27T03:48:32.826Z"
   },
   {
    "duration": 8,
    "start_time": "2022-04-27T03:48:34.600Z"
   },
   {
    "duration": 7,
    "start_time": "2022-04-27T03:48:34.918Z"
   },
   {
    "duration": 213,
    "start_time": "2022-04-27T03:48:37.155Z"
   },
   {
    "duration": 249,
    "start_time": "2022-04-27T03:48:38.171Z"
   },
   {
    "duration": 7,
    "start_time": "2022-04-27T03:48:38.535Z"
   },
   {
    "duration": 9,
    "start_time": "2022-04-27T03:48:38.842Z"
   },
   {
    "duration": 228,
    "start_time": "2022-04-27T03:48:40.279Z"
   },
   {
    "duration": 170,
    "start_time": "2022-04-27T03:48:50.801Z"
   },
   {
    "duration": 6,
    "start_time": "2022-04-27T03:48:51.960Z"
   },
   {
    "duration": 7,
    "start_time": "2022-04-27T03:48:53.027Z"
   },
   {
    "duration": 7,
    "start_time": "2022-04-27T03:48:54.289Z"
   },
   {
    "duration": 3,
    "start_time": "2022-04-27T03:48:54.732Z"
   },
   {
    "duration": 10,
    "start_time": "2022-04-27T03:48:55.883Z"
   },
   {
    "duration": 225,
    "start_time": "2022-04-27T03:48:57.297Z"
   },
   {
    "duration": 211,
    "start_time": "2022-04-27T03:49:00.078Z"
   },
   {
    "duration": 7,
    "start_time": "2022-04-27T03:49:01.076Z"
   },
   {
    "duration": 7,
    "start_time": "2022-04-27T03:49:02.024Z"
   },
   {
    "duration": 339,
    "start_time": "2022-04-27T03:49:03.326Z"
   },
   {
    "duration": 4,
    "start_time": "2022-04-27T03:49:06.391Z"
   },
   {
    "duration": 286,
    "start_time": "2022-04-27T03:51:49.302Z"
   },
   {
    "duration": 4,
    "start_time": "2022-04-27T03:53:04.512Z"
   },
   {
    "duration": 4,
    "start_time": "2022-04-27T03:53:04.845Z"
   },
   {
    "duration": 14,
    "start_time": "2022-04-27T03:53:06.702Z"
   },
   {
    "duration": 5,
    "start_time": "2022-04-27T03:53:07.578Z"
   },
   {
    "duration": 4,
    "start_time": "2022-04-27T03:53:07.916Z"
   }
  ],
  "kernelspec": {
   "display_name": "Python 3 (ipykernel)",
   "language": "python",
   "name": "python3"
  },
  "language_info": {
   "codemirror_mode": {
    "name": "ipython",
    "version": 3
   },
   "file_extension": ".py",
   "mimetype": "text/x-python",
   "name": "python",
   "nbconvert_exporter": "python",
   "pygments_lexer": "ipython3",
   "version": "3.9.5"
  },
  "toc": {
   "base_numbering": 1,
   "nav_menu": {},
   "number_sections": true,
   "sideBar": true,
   "skip_h1_title": false,
   "title_cell": "Table of Contents",
   "title_sidebar": "Contents",
   "toc_cell": false,
   "toc_position": {
    "height": "calc(100% - 180px)",
    "left": "10px",
    "top": "150px",
    "width": "238.396px"
   },
   "toc_section_display": true,
   "toc_window_display": false
  }
 },
 "nbformat": 4,
 "nbformat_minor": 2
}
