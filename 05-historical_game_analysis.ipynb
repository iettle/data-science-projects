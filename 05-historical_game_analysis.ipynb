{
 "cells": [
  {
   "cell_type": "markdown",
   "metadata": {},
   "source": [
    "# What makes a game succeed?"
   ]
  },
  {
   "cell_type": "markdown",
   "metadata": {},
   "source": [
    "In this project, I will observe numerous factors, including user reviews, expert reviews, genres, platforms, and historical game sales, to identify patterns that historically cause games to succeed or fail after their launch. \n",
    "\n",
    "To accomplish this, I will first observe and preprocess/clean the data. Once the data has been cleaned, I can begin to analyze the data. I will check the number of games released in a year and across platforms, figure out which platforms and years of release are relevant for our analysis, and look at global and regional sales across a multitude of factors, including user reviews and genres. Finally, I will conduct hypothesis testing to observe how average user ratings change across genres and platforms."
   ]
  },
  {
   "cell_type": "markdown",
   "metadata": {},
   "source": [
    "## Initialization"
   ]
  },
  {
   "cell_type": "markdown",
   "metadata": {},
   "source": [
    "I will start by loading in the required libraries and loading in the data from the csv file."
   ]
  },
  {
   "cell_type": "code",
   "execution_count": 1,
   "metadata": {},
   "outputs": [],
   "source": [
    "# loading required libraries\n",
    "import pandas as pd\n",
    "import numpy as np\n",
    "import matplotlib.pyplot as plt\n",
    "from scipy import stats as st"
   ]
  },
  {
   "cell_type": "code",
   "execution_count": 2,
   "metadata": {},
   "outputs": [],
   "source": [
    "# load data\n",
    "try:\n",
    "    df = pd.read_csv('/datasets/games.csv')\n",
    "except:\n",
    "    print(\"Invalid file path.\")"
   ]
  },
  {
   "cell_type": "markdown",
   "metadata": {},
   "source": [
    "## View Data"
   ]
  },
  {
   "cell_type": "markdown",
   "metadata": {},
   "source": [
    "First, I will begin by looking at the size of the data, non-null column counts, and object types. I will also peek at the first few rows of data to get a feel for what the values look like."
   ]
  },
  {
   "cell_type": "code",
   "execution_count": 3,
   "metadata": {},
   "outputs": [
    {
     "data": {
      "text/plain": [
       "(16715, 11)"
      ]
     },
     "execution_count": 3,
     "metadata": {},
     "output_type": "execute_result"
    }
   ],
   "source": [
    "# View number of columns and rows\n",
    "df.shape"
   ]
  },
  {
   "cell_type": "code",
   "execution_count": 4,
   "metadata": {},
   "outputs": [
    {
     "name": "stdout",
     "output_type": "stream",
     "text": [
      "<class 'pandas.core.frame.DataFrame'>\n",
      "RangeIndex: 16715 entries, 0 to 16714\n",
      "Data columns (total 11 columns):\n",
      " #   Column           Non-Null Count  Dtype  \n",
      "---  ------           --------------  -----  \n",
      " 0   Name             16713 non-null  object \n",
      " 1   Platform         16715 non-null  object \n",
      " 2   Year_of_Release  16446 non-null  float64\n",
      " 3   Genre            16713 non-null  object \n",
      " 4   NA_sales         16715 non-null  float64\n",
      " 5   EU_sales         16715 non-null  float64\n",
      " 6   JP_sales         16715 non-null  float64\n",
      " 7   Other_sales      16715 non-null  float64\n",
      " 8   Critic_Score     8137 non-null   float64\n",
      " 9   User_Score       10014 non-null  object \n",
      " 10  Rating           9949 non-null   object \n",
      "dtypes: float64(6), object(5)\n",
      "memory usage: 1.4+ MB\n"
     ]
    }
   ],
   "source": [
    "# Check basic info in data\n",
    "df.info()"
   ]
  },
  {
   "cell_type": "code",
   "execution_count": 5,
   "metadata": {
    "scrolled": true
   },
   "outputs": [
    {
     "data": {
      "text/html": [
       "<div>\n",
       "<style scoped>\n",
       "    .dataframe tbody tr th:only-of-type {\n",
       "        vertical-align: middle;\n",
       "    }\n",
       "\n",
       "    .dataframe tbody tr th {\n",
       "        vertical-align: top;\n",
       "    }\n",
       "\n",
       "    .dataframe thead th {\n",
       "        text-align: right;\n",
       "    }\n",
       "</style>\n",
       "<table border=\"1\" class=\"dataframe\">\n",
       "  <thead>\n",
       "    <tr style=\"text-align: right;\">\n",
       "      <th></th>\n",
       "      <th>Name</th>\n",
       "      <th>Platform</th>\n",
       "      <th>Year_of_Release</th>\n",
       "      <th>Genre</th>\n",
       "      <th>NA_sales</th>\n",
       "      <th>EU_sales</th>\n",
       "      <th>JP_sales</th>\n",
       "      <th>Other_sales</th>\n",
       "      <th>Critic_Score</th>\n",
       "      <th>User_Score</th>\n",
       "      <th>Rating</th>\n",
       "    </tr>\n",
       "  </thead>\n",
       "  <tbody>\n",
       "    <tr>\n",
       "      <th>0</th>\n",
       "      <td>Wii Sports</td>\n",
       "      <td>Wii</td>\n",
       "      <td>2006.0</td>\n",
       "      <td>Sports</td>\n",
       "      <td>41.36</td>\n",
       "      <td>28.96</td>\n",
       "      <td>3.77</td>\n",
       "      <td>8.45</td>\n",
       "      <td>76.0</td>\n",
       "      <td>8</td>\n",
       "      <td>E</td>\n",
       "    </tr>\n",
       "    <tr>\n",
       "      <th>1</th>\n",
       "      <td>Super Mario Bros.</td>\n",
       "      <td>NES</td>\n",
       "      <td>1985.0</td>\n",
       "      <td>Platform</td>\n",
       "      <td>29.08</td>\n",
       "      <td>3.58</td>\n",
       "      <td>6.81</td>\n",
       "      <td>0.77</td>\n",
       "      <td>NaN</td>\n",
       "      <td>NaN</td>\n",
       "      <td>NaN</td>\n",
       "    </tr>\n",
       "    <tr>\n",
       "      <th>2</th>\n",
       "      <td>Mario Kart Wii</td>\n",
       "      <td>Wii</td>\n",
       "      <td>2008.0</td>\n",
       "      <td>Racing</td>\n",
       "      <td>15.68</td>\n",
       "      <td>12.76</td>\n",
       "      <td>3.79</td>\n",
       "      <td>3.29</td>\n",
       "      <td>82.0</td>\n",
       "      <td>8.3</td>\n",
       "      <td>E</td>\n",
       "    </tr>\n",
       "    <tr>\n",
       "      <th>3</th>\n",
       "      <td>Wii Sports Resort</td>\n",
       "      <td>Wii</td>\n",
       "      <td>2009.0</td>\n",
       "      <td>Sports</td>\n",
       "      <td>15.61</td>\n",
       "      <td>10.93</td>\n",
       "      <td>3.28</td>\n",
       "      <td>2.95</td>\n",
       "      <td>80.0</td>\n",
       "      <td>8</td>\n",
       "      <td>E</td>\n",
       "    </tr>\n",
       "    <tr>\n",
       "      <th>4</th>\n",
       "      <td>Pokemon Red/Pokemon Blue</td>\n",
       "      <td>GB</td>\n",
       "      <td>1996.0</td>\n",
       "      <td>Role-Playing</td>\n",
       "      <td>11.27</td>\n",
       "      <td>8.89</td>\n",
       "      <td>10.22</td>\n",
       "      <td>1.00</td>\n",
       "      <td>NaN</td>\n",
       "      <td>NaN</td>\n",
       "      <td>NaN</td>\n",
       "    </tr>\n",
       "  </tbody>\n",
       "</table>\n",
       "</div>"
      ],
      "text/plain": [
       "                       Name Platform  Year_of_Release         Genre  NA_sales  \\\n",
       "0                Wii Sports      Wii           2006.0        Sports     41.36   \n",
       "1         Super Mario Bros.      NES           1985.0      Platform     29.08   \n",
       "2            Mario Kart Wii      Wii           2008.0        Racing     15.68   \n",
       "3         Wii Sports Resort      Wii           2009.0        Sports     15.61   \n",
       "4  Pokemon Red/Pokemon Blue       GB           1996.0  Role-Playing     11.27   \n",
       "\n",
       "   EU_sales  JP_sales  Other_sales  Critic_Score User_Score Rating  \n",
       "0     28.96      3.77         8.45          76.0          8      E  \n",
       "1      3.58      6.81         0.77           NaN        NaN    NaN  \n",
       "2     12.76      3.79         3.29          82.0        8.3      E  \n",
       "3     10.93      3.28         2.95          80.0          8      E  \n",
       "4      8.89     10.22         1.00           NaN        NaN    NaN  "
      ]
     },
     "execution_count": 5,
     "metadata": {},
     "output_type": "execute_result"
    }
   ],
   "source": [
    "# View the first few rows of data\n",
    "df.head(5)"
   ]
  },
  {
   "cell_type": "markdown",
   "metadata": {},
   "source": [
    "This data sample shows that I will need to spend some time cleaning the data.\n",
    "\n",
    "There are null values in every column except for `Platform`, `NA_sales`, `EU_sales`, and `Other_sales`. These will need to be addressed on a case by case basis.\n",
    "\n",
    "`Year_of_Release` and potentially `Critic_Score` will need to be cast to integer types. `User_Score` will need to be converted to a float type, as it is currently an object.\n",
    "\n",
    "It would also be beneficial to make all the column names lower to make the casing consistent."
   ]
  },
  {
   "cell_type": "markdown",
   "metadata": {},
   "source": [
    "## Preprocess Data"
   ]
  },
  {
   "cell_type": "markdown",
   "metadata": {},
   "source": [
    "I will preprocess the data by altering the columns, filling in missing values, and changing data types of columns."
   ]
  },
  {
   "cell_type": "markdown",
   "metadata": {},
   "source": [
    "### Rename Columns"
   ]
  },
  {
   "cell_type": "markdown",
   "metadata": {},
   "source": [
    "For consistency among capitalization, I will make all the column names lowercase."
   ]
  },
  {
   "cell_type": "code",
   "execution_count": 6,
   "metadata": {
    "scrolled": true
   },
   "outputs": [
    {
     "data": {
      "text/plain": [
       "Index(['name', 'platform', 'year_of_release', 'genre', 'na_sales', 'eu_sales',\n",
       "       'jp_sales', 'other_sales', 'critic_score', 'user_score', 'rating'],\n",
       "      dtype='object')"
      ]
     },
     "execution_count": 6,
     "metadata": {},
     "output_type": "execute_result"
    }
   ],
   "source": [
    "# make all columns lower\n",
    "df.columns = df.columns.str.lower()\n",
    "\n",
    "# check columns have been updated\n",
    "df.columns"
   ]
  },
  {
   "cell_type": "markdown",
   "metadata": {},
   "source": [
    "### Missing Values"
   ]
  },
  {
   "cell_type": "markdown",
   "metadata": {},
   "source": [
    "There are many missing values within our dataset, most notably among scores and ratings. I will observe each of these columns to determine how to fill the missing values."
   ]
  },
  {
   "cell_type": "code",
   "execution_count": 7,
   "metadata": {},
   "outputs": [
    {
     "data": {
      "text/plain": [
       "name                  2\n",
       "platform              0\n",
       "year_of_release     269\n",
       "genre                 2\n",
       "na_sales              0\n",
       "eu_sales              0\n",
       "jp_sales              0\n",
       "other_sales           0\n",
       "critic_score       8578\n",
       "user_score         6701\n",
       "rating             6766\n",
       "dtype: int64"
      ]
     },
     "execution_count": 7,
     "metadata": {},
     "output_type": "execute_result"
    }
   ],
   "source": [
    "# check number of null values in each column\n",
    "df.isna().sum()"
   ]
  },
  {
   "cell_type": "markdown",
   "metadata": {},
   "source": [
    "#### Name + Genre\n",
    "\n",
    "Name only is missing two values, likely a technical error. As seen below, these columns are missing a lot of information and would not be useful for us to conduct any analysis on. As such, these rows will be dropped. The two rows missing the name are also the 2 rows missing the genre."
   ]
  },
  {
   "cell_type": "code",
   "execution_count": 8,
   "metadata": {},
   "outputs": [
    {
     "data": {
      "text/html": [
       "<div>\n",
       "<style scoped>\n",
       "    .dataframe tbody tr th:only-of-type {\n",
       "        vertical-align: middle;\n",
       "    }\n",
       "\n",
       "    .dataframe tbody tr th {\n",
       "        vertical-align: top;\n",
       "    }\n",
       "\n",
       "    .dataframe thead th {\n",
       "        text-align: right;\n",
       "    }\n",
       "</style>\n",
       "<table border=\"1\" class=\"dataframe\">\n",
       "  <thead>\n",
       "    <tr style=\"text-align: right;\">\n",
       "      <th></th>\n",
       "      <th>name</th>\n",
       "      <th>platform</th>\n",
       "      <th>year_of_release</th>\n",
       "      <th>genre</th>\n",
       "      <th>na_sales</th>\n",
       "      <th>eu_sales</th>\n",
       "      <th>jp_sales</th>\n",
       "      <th>other_sales</th>\n",
       "      <th>critic_score</th>\n",
       "      <th>user_score</th>\n",
       "      <th>rating</th>\n",
       "    </tr>\n",
       "  </thead>\n",
       "  <tbody>\n",
       "    <tr>\n",
       "      <th>659</th>\n",
       "      <td>NaN</td>\n",
       "      <td>GEN</td>\n",
       "      <td>1993.0</td>\n",
       "      <td>NaN</td>\n",
       "      <td>1.78</td>\n",
       "      <td>0.53</td>\n",
       "      <td>0.00</td>\n",
       "      <td>0.08</td>\n",
       "      <td>NaN</td>\n",
       "      <td>NaN</td>\n",
       "      <td>NaN</td>\n",
       "    </tr>\n",
       "    <tr>\n",
       "      <th>14244</th>\n",
       "      <td>NaN</td>\n",
       "      <td>GEN</td>\n",
       "      <td>1993.0</td>\n",
       "      <td>NaN</td>\n",
       "      <td>0.00</td>\n",
       "      <td>0.00</td>\n",
       "      <td>0.03</td>\n",
       "      <td>0.00</td>\n",
       "      <td>NaN</td>\n",
       "      <td>NaN</td>\n",
       "      <td>NaN</td>\n",
       "    </tr>\n",
       "  </tbody>\n",
       "</table>\n",
       "</div>"
      ],
      "text/plain": [
       "      name platform  year_of_release genre  na_sales  eu_sales  jp_sales  \\\n",
       "659    NaN      GEN           1993.0   NaN      1.78      0.53      0.00   \n",
       "14244  NaN      GEN           1993.0   NaN      0.00      0.00      0.03   \n",
       "\n",
       "       other_sales  critic_score user_score rating  \n",
       "659           0.08           NaN        NaN    NaN  \n",
       "14244         0.00           NaN        NaN    NaN  "
      ]
     },
     "execution_count": 8,
     "metadata": {},
     "output_type": "execute_result"
    }
   ],
   "source": [
    "# check name columns with null values\n",
    "df[df['name'].isna()]"
   ]
  },
  {
   "cell_type": "code",
   "execution_count": 9,
   "metadata": {},
   "outputs": [
    {
     "data": {
      "text/plain": [
       "(16713, 11)"
      ]
     },
     "execution_count": 9,
     "metadata": {},
     "output_type": "execute_result"
    }
   ],
   "source": [
    "# drop rows\n",
    "df = df.query('name.notnull()').reset_index(drop=True)\n",
    "\n",
    "# check columns have been dropped\n",
    "df.shape"
   ]
  },
  {
   "cell_type": "markdown",
   "metadata": {},
   "source": [
    "#### Year of Release"
   ]
  },
  {
   "cell_type": "markdown",
   "metadata": {},
   "source": [
    "There's a very small percent of values in `year_of_release` that are missing, likely also due to a technical error or missing information (ie in older games)."
   ]
  },
  {
   "cell_type": "code",
   "execution_count": 10,
   "metadata": {},
   "outputs": [
    {
     "name": "stdout",
     "output_type": "stream",
     "text": [
      "Percentage of missing year_of_release values: 1.64%\n"
     ]
    }
   ],
   "source": [
    "null_years = df['year_of_release'].isnull().sum()\n",
    "total_years = df['year_of_release'].count()\n",
    "\n",
    "print(f'Percentage of missing year_of_release values: {null_years / total_years:.2%}')"
   ]
  },
  {
   "cell_type": "code",
   "execution_count": 11,
   "metadata": {},
   "outputs": [
    {
     "data": {
      "text/html": [
       "<div>\n",
       "<style scoped>\n",
       "    .dataframe tbody tr th:only-of-type {\n",
       "        vertical-align: middle;\n",
       "    }\n",
       "\n",
       "    .dataframe tbody tr th {\n",
       "        vertical-align: top;\n",
       "    }\n",
       "\n",
       "    .dataframe thead th {\n",
       "        text-align: right;\n",
       "    }\n",
       "</style>\n",
       "<table border=\"1\" class=\"dataframe\">\n",
       "  <thead>\n",
       "    <tr style=\"text-align: right;\">\n",
       "      <th></th>\n",
       "      <th>name</th>\n",
       "      <th>platform</th>\n",
       "      <th>year_of_release</th>\n",
       "      <th>genre</th>\n",
       "      <th>na_sales</th>\n",
       "      <th>eu_sales</th>\n",
       "      <th>jp_sales</th>\n",
       "      <th>other_sales</th>\n",
       "      <th>critic_score</th>\n",
       "      <th>user_score</th>\n",
       "      <th>rating</th>\n",
       "    </tr>\n",
       "  </thead>\n",
       "  <tbody>\n",
       "    <tr>\n",
       "      <th>183</th>\n",
       "      <td>Madden NFL 2004</td>\n",
       "      <td>PS2</td>\n",
       "      <td>NaN</td>\n",
       "      <td>Sports</td>\n",
       "      <td>4.26</td>\n",
       "      <td>0.26</td>\n",
       "      <td>0.01</td>\n",
       "      <td>0.71</td>\n",
       "      <td>94.0</td>\n",
       "      <td>8.5</td>\n",
       "      <td>E</td>\n",
       "    </tr>\n",
       "    <tr>\n",
       "      <th>377</th>\n",
       "      <td>FIFA Soccer 2004</td>\n",
       "      <td>PS2</td>\n",
       "      <td>NaN</td>\n",
       "      <td>Sports</td>\n",
       "      <td>0.59</td>\n",
       "      <td>2.36</td>\n",
       "      <td>0.04</td>\n",
       "      <td>0.51</td>\n",
       "      <td>84.0</td>\n",
       "      <td>6.4</td>\n",
       "      <td>E</td>\n",
       "    </tr>\n",
       "    <tr>\n",
       "      <th>456</th>\n",
       "      <td>LEGO Batman: The Videogame</td>\n",
       "      <td>Wii</td>\n",
       "      <td>NaN</td>\n",
       "      <td>Action</td>\n",
       "      <td>1.80</td>\n",
       "      <td>0.97</td>\n",
       "      <td>0.00</td>\n",
       "      <td>0.29</td>\n",
       "      <td>74.0</td>\n",
       "      <td>7.9</td>\n",
       "      <td>E10+</td>\n",
       "    </tr>\n",
       "    <tr>\n",
       "      <th>475</th>\n",
       "      <td>wwe Smackdown vs. Raw 2006</td>\n",
       "      <td>PS2</td>\n",
       "      <td>NaN</td>\n",
       "      <td>Fighting</td>\n",
       "      <td>1.57</td>\n",
       "      <td>1.02</td>\n",
       "      <td>0.00</td>\n",
       "      <td>0.41</td>\n",
       "      <td>NaN</td>\n",
       "      <td>NaN</td>\n",
       "      <td>NaN</td>\n",
       "    </tr>\n",
       "    <tr>\n",
       "      <th>609</th>\n",
       "      <td>Space Invaders</td>\n",
       "      <td>2600</td>\n",
       "      <td>NaN</td>\n",
       "      <td>Shooter</td>\n",
       "      <td>2.36</td>\n",
       "      <td>0.14</td>\n",
       "      <td>0.00</td>\n",
       "      <td>0.03</td>\n",
       "      <td>NaN</td>\n",
       "      <td>NaN</td>\n",
       "      <td>NaN</td>\n",
       "    </tr>\n",
       "  </tbody>\n",
       "</table>\n",
       "</div>"
      ],
      "text/plain": [
       "                           name platform  year_of_release     genre  na_sales  \\\n",
       "183             Madden NFL 2004      PS2              NaN    Sports      4.26   \n",
       "377            FIFA Soccer 2004      PS2              NaN    Sports      0.59   \n",
       "456  LEGO Batman: The Videogame      Wii              NaN    Action      1.80   \n",
       "475  wwe Smackdown vs. Raw 2006      PS2              NaN  Fighting      1.57   \n",
       "609              Space Invaders     2600              NaN   Shooter      2.36   \n",
       "\n",
       "     eu_sales  jp_sales  other_sales  critic_score user_score rating  \n",
       "183      0.26      0.01         0.71          94.0        8.5      E  \n",
       "377      2.36      0.04         0.51          84.0        6.4      E  \n",
       "456      0.97      0.00         0.29          74.0        7.9   E10+  \n",
       "475      1.02      0.00         0.41           NaN        NaN    NaN  \n",
       "609      0.14      0.00         0.03           NaN        NaN    NaN  "
      ]
     },
     "execution_count": 11,
     "metadata": {},
     "output_type": "execute_result"
    }
   ],
   "source": [
    "# check year of release null columns\n",
    "df[df['year_of_release'].isna()].head()"
   ]
  },
  {
   "cell_type": "markdown",
   "metadata": {},
   "source": [
    "Looking at the data with missing release years, something interesting is that some game names have a year within their title.  \n",
    "\n",
    "For the rows missing `year_of_release`, I will write a function to fill in that value based on the year present in `name`, if available. I will drop rows where I cannot fill in this data since there are only 1.64% rows missing a year in total."
   ]
  },
  {
   "cell_type": "code",
   "execution_count": 12,
   "metadata": {},
   "outputs": [
    {
     "data": {
      "text/plain": [
       "(269, 11)"
      ]
     },
     "execution_count": 12,
     "metadata": {},
     "output_type": "execute_result"
    }
   ],
   "source": [
    "# check number of rows missing years_of_release\n",
    "df[df['year_of_release'].isnull()].shape"
   ]
  },
  {
   "cell_type": "code",
   "execution_count": 13,
   "metadata": {},
   "outputs": [],
   "source": [
    "# get current min and max of years\n",
    "year_min = df['year_of_release'].min()\n",
    "year_max = df['year_of_release'].max()\n",
    "\n",
    "# function to fill year with year in game name\n",
    "def fill_year(row):\n",
    "    game_name = row['name']\n",
    "    game_year = row['year_of_release']\n",
    "    \n",
    "    # only applies if game_year is null\n",
    "    if np.isnan(game_year):\n",
    "        \n",
    "        # check all words in title to find year\n",
    "        game_name_words = game_name.split(\" \")\n",
    "        \n",
    "        # if word is an integer that falls between the min and max years, set that to the year_of_release\n",
    "        for word in game_name_words:\n",
    "            if word.isdigit() and int(word) <= year_max and int(word) >= year_min:\n",
    "                return int(word)\n",
    "            \n",
    "        # if there is not a year, keep as NaN value\n",
    "        return game_year\n",
    "    \n",
    "    # if already filled, no need to fill it again\n",
    "    else:\n",
    "        return game_year\n",
    "                \n",
    "# apply function\n",
    "df['year_of_release'] = df.apply(fill_year, axis=1)"
   ]
  },
  {
   "cell_type": "code",
   "execution_count": 14,
   "metadata": {},
   "outputs": [
    {
     "data": {
      "text/plain": [
       "(254, 11)"
      ]
     },
     "execution_count": 14,
     "metadata": {},
     "output_type": "execute_result"
    }
   ],
   "source": [
    "# check rows leftover missing years_of_release\n",
    "df[df['year_of_release'].isnull()].shape"
   ]
  },
  {
   "cell_type": "markdown",
   "metadata": {},
   "source": [
    "There were originally 269 rows with missing values, and now there are 254. I will drop the remainder of rows with missing values."
   ]
  },
  {
   "cell_type": "code",
   "execution_count": 15,
   "metadata": {},
   "outputs": [
    {
     "name": "stdout",
     "output_type": "stream",
     "text": [
      "Percentage of missing year_of_release values: 1.54%\n",
      "Number of null year rows: 0\n"
     ]
    }
   ],
   "source": [
    "# calculate percentage of missing years\n",
    "null_years = df['year_of_release'].isnull().sum()\n",
    "total_years = df['year_of_release'].count()\n",
    "print(f'Percentage of missing year_of_release values: {null_years / total_years:.2%}')\n",
    "\n",
    "# drop null years\n",
    "df = df[df['year_of_release'].notnull()].reset_index(drop=True)\n",
    "\n",
    "# check that null year rows were dropped\n",
    "print(f'Number of null year rows: {df.year_of_release.isna().sum()}')"
   ]
  },
  {
   "cell_type": "markdown",
   "metadata": {},
   "source": [
    "1.54% of the data was dropped from this operation."
   ]
  },
  {
   "cell_type": "markdown",
   "metadata": {},
   "source": [
    "#### Critic Score, User Score, Rating"
   ]
  },
  {
   "cell_type": "code",
   "execution_count": 16,
   "metadata": {},
   "outputs": [
    {
     "name": "stdout",
     "output_type": "stream",
     "text": [
      "Percentage of missing critic_score values: 51.43%\n"
     ]
    }
   ],
   "source": [
    "# observing the percentage of critic scores missing\n",
    "null_critic_scores = df['critic_score'].isnull().sum()\n",
    "total_critic_scores = df.shape[0]\n",
    "\n",
    "print(f'Percentage of missing critic_score values: {null_critic_scores / total_critic_scores:.2%}')"
   ]
  },
  {
   "cell_type": "markdown",
   "metadata": {},
   "source": [
    "Over half the values are missing from `critic_score`, so I cannot simply drop the rows or fill them in with arbitrary values. I will take a closer look at how the data looks when this column is missing versus when it is present."
   ]
  },
  {
   "cell_type": "code",
   "execution_count": 17,
   "metadata": {},
   "outputs": [],
   "source": [
    "# query data into two dataframes\n",
    "not_null_critic_df = df[df['critic_score'].notnull()]\n",
    "is_null_critic_df = df[df['critic_score'].isnull()]"
   ]
  },
  {
   "cell_type": "code",
   "execution_count": 18,
   "metadata": {},
   "outputs": [
    {
     "data": {
      "text/html": [
       "<div>\n",
       "<style scoped>\n",
       "    .dataframe tbody tr th:only-of-type {\n",
       "        vertical-align: middle;\n",
       "    }\n",
       "\n",
       "    .dataframe tbody tr th {\n",
       "        vertical-align: top;\n",
       "    }\n",
       "\n",
       "    .dataframe thead th {\n",
       "        text-align: right;\n",
       "    }\n",
       "</style>\n",
       "<table border=\"1\" class=\"dataframe\">\n",
       "  <thead>\n",
       "    <tr style=\"text-align: right;\">\n",
       "      <th></th>\n",
       "      <th>name</th>\n",
       "      <th>platform</th>\n",
       "      <th>year_of_release</th>\n",
       "      <th>genre</th>\n",
       "      <th>na_sales</th>\n",
       "      <th>eu_sales</th>\n",
       "      <th>jp_sales</th>\n",
       "      <th>other_sales</th>\n",
       "      <th>critic_score</th>\n",
       "      <th>user_score</th>\n",
       "      <th>rating</th>\n",
       "    </tr>\n",
       "  </thead>\n",
       "  <tbody>\n",
       "    <tr>\n",
       "      <th>1</th>\n",
       "      <td>Super Mario Bros.</td>\n",
       "      <td>NES</td>\n",
       "      <td>1985.0</td>\n",
       "      <td>Platform</td>\n",
       "      <td>29.08</td>\n",
       "      <td>3.58</td>\n",
       "      <td>6.81</td>\n",
       "      <td>0.77</td>\n",
       "      <td>NaN</td>\n",
       "      <td>NaN</td>\n",
       "      <td>NaN</td>\n",
       "    </tr>\n",
       "    <tr>\n",
       "      <th>4</th>\n",
       "      <td>Pokemon Red/Pokemon Blue</td>\n",
       "      <td>GB</td>\n",
       "      <td>1996.0</td>\n",
       "      <td>Role-Playing</td>\n",
       "      <td>11.27</td>\n",
       "      <td>8.89</td>\n",
       "      <td>10.22</td>\n",
       "      <td>1.00</td>\n",
       "      <td>NaN</td>\n",
       "      <td>NaN</td>\n",
       "      <td>NaN</td>\n",
       "    </tr>\n",
       "    <tr>\n",
       "      <th>5</th>\n",
       "      <td>Tetris</td>\n",
       "      <td>GB</td>\n",
       "      <td>1989.0</td>\n",
       "      <td>Puzzle</td>\n",
       "      <td>23.20</td>\n",
       "      <td>2.26</td>\n",
       "      <td>4.22</td>\n",
       "      <td>0.58</td>\n",
       "      <td>NaN</td>\n",
       "      <td>NaN</td>\n",
       "      <td>NaN</td>\n",
       "    </tr>\n",
       "    <tr>\n",
       "      <th>9</th>\n",
       "      <td>Duck Hunt</td>\n",
       "      <td>NES</td>\n",
       "      <td>1984.0</td>\n",
       "      <td>Shooter</td>\n",
       "      <td>26.93</td>\n",
       "      <td>0.63</td>\n",
       "      <td>0.28</td>\n",
       "      <td>0.47</td>\n",
       "      <td>NaN</td>\n",
       "      <td>NaN</td>\n",
       "      <td>NaN</td>\n",
       "    </tr>\n",
       "    <tr>\n",
       "      <th>10</th>\n",
       "      <td>Nintendogs</td>\n",
       "      <td>DS</td>\n",
       "      <td>2005.0</td>\n",
       "      <td>Simulation</td>\n",
       "      <td>9.05</td>\n",
       "      <td>10.95</td>\n",
       "      <td>1.93</td>\n",
       "      <td>2.74</td>\n",
       "      <td>NaN</td>\n",
       "      <td>NaN</td>\n",
       "      <td>NaN</td>\n",
       "    </tr>\n",
       "    <tr>\n",
       "      <th>12</th>\n",
       "      <td>Pokemon Gold/Pokemon Silver</td>\n",
       "      <td>GB</td>\n",
       "      <td>1999.0</td>\n",
       "      <td>Role-Playing</td>\n",
       "      <td>9.00</td>\n",
       "      <td>6.18</td>\n",
       "      <td>7.20</td>\n",
       "      <td>0.71</td>\n",
       "      <td>NaN</td>\n",
       "      <td>NaN</td>\n",
       "      <td>NaN</td>\n",
       "    </tr>\n",
       "    <tr>\n",
       "      <th>18</th>\n",
       "      <td>Super Mario World</td>\n",
       "      <td>SNES</td>\n",
       "      <td>1990.0</td>\n",
       "      <td>Platform</td>\n",
       "      <td>12.78</td>\n",
       "      <td>3.75</td>\n",
       "      <td>3.54</td>\n",
       "      <td>0.55</td>\n",
       "      <td>NaN</td>\n",
       "      <td>NaN</td>\n",
       "      <td>NaN</td>\n",
       "    </tr>\n",
       "    <tr>\n",
       "      <th>20</th>\n",
       "      <td>Pokemon Diamond/Pokemon Pearl</td>\n",
       "      <td>DS</td>\n",
       "      <td>2006.0</td>\n",
       "      <td>Role-Playing</td>\n",
       "      <td>6.38</td>\n",
       "      <td>4.46</td>\n",
       "      <td>6.04</td>\n",
       "      <td>1.36</td>\n",
       "      <td>NaN</td>\n",
       "      <td>NaN</td>\n",
       "      <td>NaN</td>\n",
       "    </tr>\n",
       "    <tr>\n",
       "      <th>21</th>\n",
       "      <td>Super Mario Land</td>\n",
       "      <td>GB</td>\n",
       "      <td>1989.0</td>\n",
       "      <td>Platform</td>\n",
       "      <td>10.83</td>\n",
       "      <td>2.71</td>\n",
       "      <td>4.18</td>\n",
       "      <td>0.42</td>\n",
       "      <td>NaN</td>\n",
       "      <td>NaN</td>\n",
       "      <td>NaN</td>\n",
       "    </tr>\n",
       "    <tr>\n",
       "      <th>22</th>\n",
       "      <td>Super Mario Bros. 3</td>\n",
       "      <td>NES</td>\n",
       "      <td>1988.0</td>\n",
       "      <td>Platform</td>\n",
       "      <td>9.54</td>\n",
       "      <td>3.44</td>\n",
       "      <td>3.84</td>\n",
       "      <td>0.46</td>\n",
       "      <td>NaN</td>\n",
       "      <td>NaN</td>\n",
       "      <td>NaN</td>\n",
       "    </tr>\n",
       "  </tbody>\n",
       "</table>\n",
       "</div>"
      ],
      "text/plain": [
       "                             name platform  year_of_release         genre  \\\n",
       "1               Super Mario Bros.      NES           1985.0      Platform   \n",
       "4        Pokemon Red/Pokemon Blue       GB           1996.0  Role-Playing   \n",
       "5                          Tetris       GB           1989.0        Puzzle   \n",
       "9                       Duck Hunt      NES           1984.0       Shooter   \n",
       "10                     Nintendogs       DS           2005.0    Simulation   \n",
       "12    Pokemon Gold/Pokemon Silver       GB           1999.0  Role-Playing   \n",
       "18              Super Mario World     SNES           1990.0      Platform   \n",
       "20  Pokemon Diamond/Pokemon Pearl       DS           2006.0  Role-Playing   \n",
       "21               Super Mario Land       GB           1989.0      Platform   \n",
       "22            Super Mario Bros. 3      NES           1988.0      Platform   \n",
       "\n",
       "    na_sales  eu_sales  jp_sales  other_sales  critic_score user_score rating  \n",
       "1      29.08      3.58      6.81         0.77           NaN        NaN    NaN  \n",
       "4      11.27      8.89     10.22         1.00           NaN        NaN    NaN  \n",
       "5      23.20      2.26      4.22         0.58           NaN        NaN    NaN  \n",
       "9      26.93      0.63      0.28         0.47           NaN        NaN    NaN  \n",
       "10      9.05     10.95      1.93         2.74           NaN        NaN    NaN  \n",
       "12      9.00      6.18      7.20         0.71           NaN        NaN    NaN  \n",
       "18     12.78      3.75      3.54         0.55           NaN        NaN    NaN  \n",
       "20      6.38      4.46      6.04         1.36           NaN        NaN    NaN  \n",
       "21     10.83      2.71      4.18         0.42           NaN        NaN    NaN  \n",
       "22      9.54      3.44      3.84         0.46           NaN        NaN    NaN  "
      ]
     },
     "execution_count": 18,
     "metadata": {},
     "output_type": "execute_result"
    }
   ],
   "source": [
    "# view df when critic_score is null\n",
    "is_null_critic_df.head(10)"
   ]
  },
  {
   "cell_type": "markdown",
   "metadata": {},
   "source": [
    "It seems that missing `critic_score`, `user_score`, and `rating` is common."
   ]
  },
  {
   "cell_type": "code",
   "execution_count": 19,
   "metadata": {
    "scrolled": false
   },
   "outputs": [
    {
     "data": {
      "text/html": [
       "<div>\n",
       "<style scoped>\n",
       "    .dataframe tbody tr th:only-of-type {\n",
       "        vertical-align: middle;\n",
       "    }\n",
       "\n",
       "    .dataframe tbody tr th {\n",
       "        vertical-align: top;\n",
       "    }\n",
       "\n",
       "    .dataframe thead th {\n",
       "        text-align: right;\n",
       "    }\n",
       "</style>\n",
       "<table border=\"1\" class=\"dataframe\">\n",
       "  <thead>\n",
       "    <tr style=\"text-align: right;\">\n",
       "      <th></th>\n",
       "      <th>name</th>\n",
       "      <th>platform</th>\n",
       "      <th>year_of_release</th>\n",
       "      <th>genre</th>\n",
       "      <th>na_sales</th>\n",
       "      <th>eu_sales</th>\n",
       "      <th>jp_sales</th>\n",
       "      <th>other_sales</th>\n",
       "      <th>critic_score</th>\n",
       "      <th>user_score</th>\n",
       "      <th>rating</th>\n",
       "    </tr>\n",
       "  </thead>\n",
       "  <tbody>\n",
       "    <tr>\n",
       "      <th>0</th>\n",
       "      <td>Wii Sports</td>\n",
       "      <td>Wii</td>\n",
       "      <td>2006.0</td>\n",
       "      <td>Sports</td>\n",
       "      <td>41.36</td>\n",
       "      <td>28.96</td>\n",
       "      <td>3.77</td>\n",
       "      <td>8.45</td>\n",
       "      <td>76.0</td>\n",
       "      <td>8</td>\n",
       "      <td>E</td>\n",
       "    </tr>\n",
       "    <tr>\n",
       "      <th>2</th>\n",
       "      <td>Mario Kart Wii</td>\n",
       "      <td>Wii</td>\n",
       "      <td>2008.0</td>\n",
       "      <td>Racing</td>\n",
       "      <td>15.68</td>\n",
       "      <td>12.76</td>\n",
       "      <td>3.79</td>\n",
       "      <td>3.29</td>\n",
       "      <td>82.0</td>\n",
       "      <td>8.3</td>\n",
       "      <td>E</td>\n",
       "    </tr>\n",
       "    <tr>\n",
       "      <th>3</th>\n",
       "      <td>Wii Sports Resort</td>\n",
       "      <td>Wii</td>\n",
       "      <td>2009.0</td>\n",
       "      <td>Sports</td>\n",
       "      <td>15.61</td>\n",
       "      <td>10.93</td>\n",
       "      <td>3.28</td>\n",
       "      <td>2.95</td>\n",
       "      <td>80.0</td>\n",
       "      <td>8</td>\n",
       "      <td>E</td>\n",
       "    </tr>\n",
       "    <tr>\n",
       "      <th>6</th>\n",
       "      <td>New Super Mario Bros.</td>\n",
       "      <td>DS</td>\n",
       "      <td>2006.0</td>\n",
       "      <td>Platform</td>\n",
       "      <td>11.28</td>\n",
       "      <td>9.14</td>\n",
       "      <td>6.50</td>\n",
       "      <td>2.88</td>\n",
       "      <td>89.0</td>\n",
       "      <td>8.5</td>\n",
       "      <td>E</td>\n",
       "    </tr>\n",
       "    <tr>\n",
       "      <th>7</th>\n",
       "      <td>Wii Play</td>\n",
       "      <td>Wii</td>\n",
       "      <td>2006.0</td>\n",
       "      <td>Misc</td>\n",
       "      <td>13.96</td>\n",
       "      <td>9.18</td>\n",
       "      <td>2.93</td>\n",
       "      <td>2.84</td>\n",
       "      <td>58.0</td>\n",
       "      <td>6.6</td>\n",
       "      <td>E</td>\n",
       "    </tr>\n",
       "    <tr>\n",
       "      <th>8</th>\n",
       "      <td>New Super Mario Bros. Wii</td>\n",
       "      <td>Wii</td>\n",
       "      <td>2009.0</td>\n",
       "      <td>Platform</td>\n",
       "      <td>14.44</td>\n",
       "      <td>6.94</td>\n",
       "      <td>4.70</td>\n",
       "      <td>2.24</td>\n",
       "      <td>87.0</td>\n",
       "      <td>8.4</td>\n",
       "      <td>E</td>\n",
       "    </tr>\n",
       "    <tr>\n",
       "      <th>11</th>\n",
       "      <td>Mario Kart DS</td>\n",
       "      <td>DS</td>\n",
       "      <td>2005.0</td>\n",
       "      <td>Racing</td>\n",
       "      <td>9.71</td>\n",
       "      <td>7.47</td>\n",
       "      <td>4.13</td>\n",
       "      <td>1.90</td>\n",
       "      <td>91.0</td>\n",
       "      <td>8.6</td>\n",
       "      <td>E</td>\n",
       "    </tr>\n",
       "    <tr>\n",
       "      <th>13</th>\n",
       "      <td>Wii Fit</td>\n",
       "      <td>Wii</td>\n",
       "      <td>2007.0</td>\n",
       "      <td>Sports</td>\n",
       "      <td>8.92</td>\n",
       "      <td>8.03</td>\n",
       "      <td>3.60</td>\n",
       "      <td>2.15</td>\n",
       "      <td>80.0</td>\n",
       "      <td>7.7</td>\n",
       "      <td>E</td>\n",
       "    </tr>\n",
       "    <tr>\n",
       "      <th>14</th>\n",
       "      <td>Kinect Adventures!</td>\n",
       "      <td>X360</td>\n",
       "      <td>2010.0</td>\n",
       "      <td>Misc</td>\n",
       "      <td>15.00</td>\n",
       "      <td>4.89</td>\n",
       "      <td>0.24</td>\n",
       "      <td>1.69</td>\n",
       "      <td>61.0</td>\n",
       "      <td>6.3</td>\n",
       "      <td>E</td>\n",
       "    </tr>\n",
       "    <tr>\n",
       "      <th>15</th>\n",
       "      <td>Wii Fit Plus</td>\n",
       "      <td>Wii</td>\n",
       "      <td>2009.0</td>\n",
       "      <td>Sports</td>\n",
       "      <td>9.01</td>\n",
       "      <td>8.49</td>\n",
       "      <td>2.53</td>\n",
       "      <td>1.77</td>\n",
       "      <td>80.0</td>\n",
       "      <td>7.4</td>\n",
       "      <td>E</td>\n",
       "    </tr>\n",
       "  </tbody>\n",
       "</table>\n",
       "</div>"
      ],
      "text/plain": [
       "                         name platform  year_of_release     genre  na_sales  \\\n",
       "0                  Wii Sports      Wii           2006.0    Sports     41.36   \n",
       "2              Mario Kart Wii      Wii           2008.0    Racing     15.68   \n",
       "3           Wii Sports Resort      Wii           2009.0    Sports     15.61   \n",
       "6       New Super Mario Bros.       DS           2006.0  Platform     11.28   \n",
       "7                    Wii Play      Wii           2006.0      Misc     13.96   \n",
       "8   New Super Mario Bros. Wii      Wii           2009.0  Platform     14.44   \n",
       "11              Mario Kart DS       DS           2005.0    Racing      9.71   \n",
       "13                    Wii Fit      Wii           2007.0    Sports      8.92   \n",
       "14         Kinect Adventures!     X360           2010.0      Misc     15.00   \n",
       "15               Wii Fit Plus      Wii           2009.0    Sports      9.01   \n",
       "\n",
       "    eu_sales  jp_sales  other_sales  critic_score user_score rating  \n",
       "0      28.96      3.77         8.45          76.0          8      E  \n",
       "2      12.76      3.79         3.29          82.0        8.3      E  \n",
       "3      10.93      3.28         2.95          80.0          8      E  \n",
       "6       9.14      6.50         2.88          89.0        8.5      E  \n",
       "7       9.18      2.93         2.84          58.0        6.6      E  \n",
       "8       6.94      4.70         2.24          87.0        8.4      E  \n",
       "11      7.47      4.13         1.90          91.0        8.6      E  \n",
       "13      8.03      3.60         2.15          80.0        7.7      E  \n",
       "14      4.89      0.24         1.69          61.0        6.3      E  \n",
       "15      8.49      2.53         1.77          80.0        7.4      E  "
      ]
     },
     "execution_count": 19,
     "metadata": {},
     "output_type": "execute_result"
    }
   ],
   "source": [
    "# view df when critic_score is not null\n",
    "not_null_critic_df.head(10)"
   ]
  },
  {
   "cell_type": "code",
   "execution_count": 20,
   "metadata": {},
   "outputs": [
    {
     "data": {
      "text/plain": [
       "year_of_release    2008.00\n",
       "na_sales              0.02\n",
       "eu_sales              0.00\n",
       "jp_sales              0.00\n",
       "other_sales           0.00\n",
       "critic_score           NaN\n",
       "dtype: float64"
      ]
     },
     "execution_count": 20,
     "metadata": {},
     "output_type": "execute_result"
    }
   ],
   "source": [
    "# viewing averages of dataset where critic scores are null\n",
    "is_null_critic_df.median()"
   ]
  },
  {
   "cell_type": "code",
   "execution_count": 21,
   "metadata": {},
   "outputs": [
    {
     "data": {
      "text/plain": [
       "year_of_release    2007.00\n",
       "na_sales              0.13\n",
       "eu_sales              0.05\n",
       "jp_sales              0.00\n",
       "other_sales           0.02\n",
       "critic_score         71.00\n",
       "dtype: float64"
      ]
     },
     "execution_count": 21,
     "metadata": {},
     "output_type": "execute_result"
    }
   ],
   "source": [
    "# viewing averages of dataset where critic scores are not null\n",
    "not_null_critic_df.median()"
   ]
  },
  {
   "cell_type": "markdown",
   "metadata": {},
   "source": [
    "Above, I observed the differences in medians between the filtered datasets. Excluding sales in Japan, there is a significant difference in sales across regions between the datasets - the dataset that filtered out null values has a larger median number of sales across regions.\n",
    "\n",
    "Instead of dropping these rows or filling their values, I will fill them with a temporary variable. When I analyze games based on sales, I will only look at the dataframe that has the null values filtered out.\n",
    "\n",
    "I will be filling `critic_score` and `user_score` with a value of -1 so that the columns can be casted to a numeric type. I will fill `rating` with a value of NA."
   ]
  },
  {
   "cell_type": "code",
   "execution_count": 22,
   "metadata": {
    "scrolled": true
   },
   "outputs": [
    {
     "data": {
      "text/html": [
       "<div>\n",
       "<style scoped>\n",
       "    .dataframe tbody tr th:only-of-type {\n",
       "        vertical-align: middle;\n",
       "    }\n",
       "\n",
       "    .dataframe tbody tr th {\n",
       "        vertical-align: top;\n",
       "    }\n",
       "\n",
       "    .dataframe thead th {\n",
       "        text-align: right;\n",
       "    }\n",
       "</style>\n",
       "<table border=\"1\" class=\"dataframe\">\n",
       "  <thead>\n",
       "    <tr style=\"text-align: right;\">\n",
       "      <th></th>\n",
       "      <th>name</th>\n",
       "      <th>platform</th>\n",
       "      <th>year_of_release</th>\n",
       "      <th>genre</th>\n",
       "      <th>na_sales</th>\n",
       "      <th>eu_sales</th>\n",
       "      <th>jp_sales</th>\n",
       "      <th>other_sales</th>\n",
       "      <th>critic_score</th>\n",
       "      <th>user_score</th>\n",
       "      <th>rating</th>\n",
       "    </tr>\n",
       "  </thead>\n",
       "  <tbody>\n",
       "    <tr>\n",
       "      <th>0</th>\n",
       "      <td>Wii Sports</td>\n",
       "      <td>Wii</td>\n",
       "      <td>2006.0</td>\n",
       "      <td>Sports</td>\n",
       "      <td>41.36</td>\n",
       "      <td>28.96</td>\n",
       "      <td>3.77</td>\n",
       "      <td>8.45</td>\n",
       "      <td>76.0</td>\n",
       "      <td>8</td>\n",
       "      <td>E</td>\n",
       "    </tr>\n",
       "    <tr>\n",
       "      <th>1</th>\n",
       "      <td>Super Mario Bros.</td>\n",
       "      <td>NES</td>\n",
       "      <td>1985.0</td>\n",
       "      <td>Platform</td>\n",
       "      <td>29.08</td>\n",
       "      <td>3.58</td>\n",
       "      <td>6.81</td>\n",
       "      <td>0.77</td>\n",
       "      <td>-1.0</td>\n",
       "      <td>-1</td>\n",
       "      <td>NA</td>\n",
       "    </tr>\n",
       "    <tr>\n",
       "      <th>2</th>\n",
       "      <td>Mario Kart Wii</td>\n",
       "      <td>Wii</td>\n",
       "      <td>2008.0</td>\n",
       "      <td>Racing</td>\n",
       "      <td>15.68</td>\n",
       "      <td>12.76</td>\n",
       "      <td>3.79</td>\n",
       "      <td>3.29</td>\n",
       "      <td>82.0</td>\n",
       "      <td>8.3</td>\n",
       "      <td>E</td>\n",
       "    </tr>\n",
       "    <tr>\n",
       "      <th>3</th>\n",
       "      <td>Wii Sports Resort</td>\n",
       "      <td>Wii</td>\n",
       "      <td>2009.0</td>\n",
       "      <td>Sports</td>\n",
       "      <td>15.61</td>\n",
       "      <td>10.93</td>\n",
       "      <td>3.28</td>\n",
       "      <td>2.95</td>\n",
       "      <td>80.0</td>\n",
       "      <td>8</td>\n",
       "      <td>E</td>\n",
       "    </tr>\n",
       "    <tr>\n",
       "      <th>4</th>\n",
       "      <td>Pokemon Red/Pokemon Blue</td>\n",
       "      <td>GB</td>\n",
       "      <td>1996.0</td>\n",
       "      <td>Role-Playing</td>\n",
       "      <td>11.27</td>\n",
       "      <td>8.89</td>\n",
       "      <td>10.22</td>\n",
       "      <td>1.00</td>\n",
       "      <td>-1.0</td>\n",
       "      <td>-1</td>\n",
       "      <td>NA</td>\n",
       "    </tr>\n",
       "  </tbody>\n",
       "</table>\n",
       "</div>"
      ],
      "text/plain": [
       "                       name platform  year_of_release         genre  na_sales  \\\n",
       "0                Wii Sports      Wii           2006.0        Sports     41.36   \n",
       "1         Super Mario Bros.      NES           1985.0      Platform     29.08   \n",
       "2            Mario Kart Wii      Wii           2008.0        Racing     15.68   \n",
       "3         Wii Sports Resort      Wii           2009.0        Sports     15.61   \n",
       "4  Pokemon Red/Pokemon Blue       GB           1996.0  Role-Playing     11.27   \n",
       "\n",
       "   eu_sales  jp_sales  other_sales  critic_score user_score rating  \n",
       "0     28.96      3.77         8.45          76.0          8      E  \n",
       "1      3.58      6.81         0.77          -1.0         -1     NA  \n",
       "2     12.76      3.79         3.29          82.0        8.3      E  \n",
       "3     10.93      3.28         2.95          80.0          8      E  \n",
       "4      8.89     10.22         1.00          -1.0         -1     NA  "
      ]
     },
     "execution_count": 22,
     "metadata": {},
     "output_type": "execute_result"
    }
   ],
   "source": [
    "# filling null values\n",
    "df['critic_score'] = df['critic_score'].fillna(-1)\n",
    "df['user_score'] = df['user_score'].fillna(-1)\n",
    "df['rating'] = df['rating'].fillna('NA')\n",
    "\n",
    "# checking new data\n",
    "df.head(5)"
   ]
  },
  {
   "cell_type": "code",
   "execution_count": 23,
   "metadata": {},
   "outputs": [
    {
     "data": {
      "text/plain": [
       "array(['8', -1, '8.3', '8.5', '6.6', '8.4', '8.6', '7.7', '6.3', '7.4',\n",
       "       '8.2', '9', '7.9', '8.1', '8.7', '7.1', '3.4', '5.3', '4.8', '3.2',\n",
       "       '8.9', '6.4', '7.8', '7.5', '2.6', '7.2', '9.2', '7', '7.3', '4.3',\n",
       "       '7.6', '5.7', '5', '9.1', '6.5', 'tbd', '8.8', '6.9', '9.4', '6.8',\n",
       "       '6.1', '6.7', '5.4', '4', '4.9', '4.5', '9.3', '6.2', '4.2', '6',\n",
       "       '3.7', '4.1', '5.8', '5.6', '5.5', '4.4', '4.6', '5.9', '3.9',\n",
       "       '3.1', '2.9', '5.2', '3.3', '4.7', '5.1', '3.5', '2.5', '1.9', '3',\n",
       "       '2.7', '2.2', '2', '9.5', '2.1', '3.6', '2.8', '1.8', '3.8', '0',\n",
       "       '1.6', '9.6', '2.4', '1.7', '1.1', '0.3', '1.5', '0.7', '1.2',\n",
       "       '2.3', '0.5', '1.3', '0.2', '0.6', '1.4', '0.9', '1', '9.7'],\n",
       "      dtype=object)"
      ]
     },
     "execution_count": 23,
     "metadata": {},
     "output_type": "execute_result"
    }
   ],
   "source": [
    "# check columns in user+score\n",
    "df.user_score.unique()"
   ]
  },
  {
   "cell_type": "markdown",
   "metadata": {},
   "source": [
    "In `user_score`, there is a value \"TBD\" that needs to be updated so that the column can be casted. This value likely exists if there have not been enough reviews on a game for there to be a set user_score, or if the game is too new to have a score yet."
   ]
  },
  {
   "cell_type": "code",
   "execution_count": 24,
   "metadata": {},
   "outputs": [
    {
     "data": {
      "text/html": [
       "<div>\n",
       "<style scoped>\n",
       "    .dataframe tbody tr th:only-of-type {\n",
       "        vertical-align: middle;\n",
       "    }\n",
       "\n",
       "    .dataframe tbody tr th {\n",
       "        vertical-align: top;\n",
       "    }\n",
       "\n",
       "    .dataframe thead th {\n",
       "        text-align: right;\n",
       "    }\n",
       "</style>\n",
       "<table border=\"1\" class=\"dataframe\">\n",
       "  <thead>\n",
       "    <tr style=\"text-align: right;\">\n",
       "      <th></th>\n",
       "      <th>name</th>\n",
       "      <th>platform</th>\n",
       "      <th>year_of_release</th>\n",
       "      <th>genre</th>\n",
       "      <th>na_sales</th>\n",
       "      <th>eu_sales</th>\n",
       "      <th>jp_sales</th>\n",
       "      <th>other_sales</th>\n",
       "      <th>critic_score</th>\n",
       "      <th>user_score</th>\n",
       "      <th>rating</th>\n",
       "    </tr>\n",
       "  </thead>\n",
       "  <tbody>\n",
       "    <tr>\n",
       "      <th>119</th>\n",
       "      <td>Zumba Fitness</td>\n",
       "      <td>Wii</td>\n",
       "      <td>2010.0</td>\n",
       "      <td>Sports</td>\n",
       "      <td>3.45</td>\n",
       "      <td>2.59</td>\n",
       "      <td>0.00</td>\n",
       "      <td>0.66</td>\n",
       "      <td>-1.0</td>\n",
       "      <td>tbd</td>\n",
       "      <td>E</td>\n",
       "    </tr>\n",
       "    <tr>\n",
       "      <th>301</th>\n",
       "      <td>Namco Museum: 50th Anniversary</td>\n",
       "      <td>PS2</td>\n",
       "      <td>2005.0</td>\n",
       "      <td>Misc</td>\n",
       "      <td>2.08</td>\n",
       "      <td>1.35</td>\n",
       "      <td>0.00</td>\n",
       "      <td>0.54</td>\n",
       "      <td>61.0</td>\n",
       "      <td>tbd</td>\n",
       "      <td>E10+</td>\n",
       "    </tr>\n",
       "    <tr>\n",
       "      <th>519</th>\n",
       "      <td>Zumba Fitness 2</td>\n",
       "      <td>Wii</td>\n",
       "      <td>2011.0</td>\n",
       "      <td>Sports</td>\n",
       "      <td>1.51</td>\n",
       "      <td>1.03</td>\n",
       "      <td>0.00</td>\n",
       "      <td>0.27</td>\n",
       "      <td>-1.0</td>\n",
       "      <td>tbd</td>\n",
       "      <td>T</td>\n",
       "    </tr>\n",
       "    <tr>\n",
       "      <th>642</th>\n",
       "      <td>uDraw Studio</td>\n",
       "      <td>Wii</td>\n",
       "      <td>2010.0</td>\n",
       "      <td>Misc</td>\n",
       "      <td>1.65</td>\n",
       "      <td>0.57</td>\n",
       "      <td>0.00</td>\n",
       "      <td>0.20</td>\n",
       "      <td>71.0</td>\n",
       "      <td>tbd</td>\n",
       "      <td>E</td>\n",
       "    </tr>\n",
       "    <tr>\n",
       "      <th>712</th>\n",
       "      <td>Just Dance Kids</td>\n",
       "      <td>Wii</td>\n",
       "      <td>2010.0</td>\n",
       "      <td>Misc</td>\n",
       "      <td>1.52</td>\n",
       "      <td>0.54</td>\n",
       "      <td>0.00</td>\n",
       "      <td>0.18</td>\n",
       "      <td>-1.0</td>\n",
       "      <td>tbd</td>\n",
       "      <td>E</td>\n",
       "    </tr>\n",
       "    <tr>\n",
       "      <th>719</th>\n",
       "      <td>Dance Dance Revolution X2</td>\n",
       "      <td>PS2</td>\n",
       "      <td>2009.0</td>\n",
       "      <td>Simulation</td>\n",
       "      <td>1.09</td>\n",
       "      <td>0.85</td>\n",
       "      <td>0.00</td>\n",
       "      <td>0.28</td>\n",
       "      <td>-1.0</td>\n",
       "      <td>tbd</td>\n",
       "      <td>E10+</td>\n",
       "    </tr>\n",
       "    <tr>\n",
       "      <th>813</th>\n",
       "      <td>The Incredibles</td>\n",
       "      <td>GBA</td>\n",
       "      <td>2004.0</td>\n",
       "      <td>Action</td>\n",
       "      <td>1.15</td>\n",
       "      <td>0.77</td>\n",
       "      <td>0.04</td>\n",
       "      <td>0.10</td>\n",
       "      <td>55.0</td>\n",
       "      <td>tbd</td>\n",
       "      <td>E</td>\n",
       "    </tr>\n",
       "    <tr>\n",
       "      <th>873</th>\n",
       "      <td>Who wants to be a millionaire</td>\n",
       "      <td>PC</td>\n",
       "      <td>1999.0</td>\n",
       "      <td>Misc</td>\n",
       "      <td>1.94</td>\n",
       "      <td>0.00</td>\n",
       "      <td>0.00</td>\n",
       "      <td>0.00</td>\n",
       "      <td>-1.0</td>\n",
       "      <td>tbd</td>\n",
       "      <td>E</td>\n",
       "    </tr>\n",
       "    <tr>\n",
       "      <th>1039</th>\n",
       "      <td>Tetris Worlds</td>\n",
       "      <td>GBA</td>\n",
       "      <td>2001.0</td>\n",
       "      <td>Puzzle</td>\n",
       "      <td>1.25</td>\n",
       "      <td>0.39</td>\n",
       "      <td>0.00</td>\n",
       "      <td>0.06</td>\n",
       "      <td>65.0</td>\n",
       "      <td>tbd</td>\n",
       "      <td>E</td>\n",
       "    </tr>\n",
       "    <tr>\n",
       "      <th>1040</th>\n",
       "      <td>Imagine: Teacher</td>\n",
       "      <td>DS</td>\n",
       "      <td>2008.0</td>\n",
       "      <td>Simulation</td>\n",
       "      <td>0.70</td>\n",
       "      <td>0.82</td>\n",
       "      <td>0.00</td>\n",
       "      <td>0.19</td>\n",
       "      <td>-1.0</td>\n",
       "      <td>tbd</td>\n",
       "      <td>E</td>\n",
       "    </tr>\n",
       "  </tbody>\n",
       "</table>\n",
       "</div>"
      ],
      "text/plain": [
       "                                name platform  year_of_release       genre  \\\n",
       "119                    Zumba Fitness      Wii           2010.0      Sports   \n",
       "301   Namco Museum: 50th Anniversary      PS2           2005.0        Misc   \n",
       "519                  Zumba Fitness 2      Wii           2011.0      Sports   \n",
       "642                     uDraw Studio      Wii           2010.0        Misc   \n",
       "712                  Just Dance Kids      Wii           2010.0        Misc   \n",
       "719        Dance Dance Revolution X2      PS2           2009.0  Simulation   \n",
       "813                  The Incredibles      GBA           2004.0      Action   \n",
       "873    Who wants to be a millionaire       PC           1999.0        Misc   \n",
       "1039                   Tetris Worlds      GBA           2001.0      Puzzle   \n",
       "1040                Imagine: Teacher       DS           2008.0  Simulation   \n",
       "\n",
       "      na_sales  eu_sales  jp_sales  other_sales  critic_score user_score  \\\n",
       "119       3.45      2.59      0.00         0.66          -1.0        tbd   \n",
       "301       2.08      1.35      0.00         0.54          61.0        tbd   \n",
       "519       1.51      1.03      0.00         0.27          -1.0        tbd   \n",
       "642       1.65      0.57      0.00         0.20          71.0        tbd   \n",
       "712       1.52      0.54      0.00         0.18          -1.0        tbd   \n",
       "719       1.09      0.85      0.00         0.28          -1.0        tbd   \n",
       "813       1.15      0.77      0.04         0.10          55.0        tbd   \n",
       "873       1.94      0.00      0.00         0.00          -1.0        tbd   \n",
       "1039      1.25      0.39      0.00         0.06          65.0        tbd   \n",
       "1040      0.70      0.82      0.00         0.19          -1.0        tbd   \n",
       "\n",
       "     rating  \n",
       "119       E  \n",
       "301    E10+  \n",
       "519       T  \n",
       "642       E  \n",
       "712       E  \n",
       "719    E10+  \n",
       "813       E  \n",
       "873       E  \n",
       "1039      E  \n",
       "1040      E  "
      ]
     },
     "execution_count": 24,
     "metadata": {},
     "output_type": "execute_result"
    }
   ],
   "source": [
    "# viewing rows that have a TBD user score\n",
    "df.query('user_score == \"tbd\"').head(10)"
   ]
  },
  {
   "cell_type": "markdown",
   "metadata": {},
   "source": [
    "These games have low regional sales, so there simply may not be enough data to generate a user_score. Some of these rows are also missing a `critic_score` value, and it appears random regardless of year, platform, or genre. Like the NaN values, I will fill these values with a temporary variable."
   ]
  },
  {
   "cell_type": "code",
   "execution_count": 25,
   "metadata": {},
   "outputs": [
    {
     "data": {
      "text/plain": [
       "array(['8', -1, '8.3', '8.5', '6.6', '8.4', '8.6', '7.7', '6.3', '7.4',\n",
       "       '8.2', '9', '7.9', '8.1', '8.7', '7.1', '3.4', '5.3', '4.8', '3.2',\n",
       "       '8.9', '6.4', '7.8', '7.5', '2.6', '7.2', '9.2', '7', '7.3', '4.3',\n",
       "       '7.6', '5.7', '5', '9.1', '6.5', '8.8', '6.9', '9.4', '6.8', '6.1',\n",
       "       '6.7', '5.4', '4', '4.9', '4.5', '9.3', '6.2', '4.2', '6', '3.7',\n",
       "       '4.1', '5.8', '5.6', '5.5', '4.4', '4.6', '5.9', '3.9', '3.1',\n",
       "       '2.9', '5.2', '3.3', '4.7', '5.1', '3.5', '2.5', '1.9', '3', '2.7',\n",
       "       '2.2', '2', '9.5', '2.1', '3.6', '2.8', '1.8', '3.8', '0', '1.6',\n",
       "       '9.6', '2.4', '1.7', '1.1', '0.3', '1.5', '0.7', '1.2', '2.3',\n",
       "       '0.5', '1.3', '0.2', '0.6', '1.4', '0.9', '1', '9.7'], dtype=object)"
      ]
     },
     "execution_count": 25,
     "metadata": {},
     "output_type": "execute_result"
    }
   ],
   "source": [
    "# change all values that are 'tbd' to -1\n",
    "df['user_score'] = df['user_score'].where(df['user_score'] != 'tbd', -1)\n",
    "\n",
    "# check user score values\n",
    "df['user_score'].unique()"
   ]
  },
  {
   "cell_type": "markdown",
   "metadata": {},
   "source": [
    "### Convert Data Types"
   ]
  },
  {
   "cell_type": "markdown",
   "metadata": {},
   "source": [
    "A few columns need to have their columns converted, either to a numeric type or from a float to an integer."
   ]
  },
  {
   "cell_type": "code",
   "execution_count": 26,
   "metadata": {},
   "outputs": [
    {
     "name": "stdout",
     "output_type": "stream",
     "text": [
      "<class 'pandas.core.frame.DataFrame'>\n",
      "RangeIndex: 16459 entries, 0 to 16458\n",
      "Data columns (total 11 columns):\n",
      " #   Column           Non-Null Count  Dtype  \n",
      "---  ------           --------------  -----  \n",
      " 0   name             16459 non-null  object \n",
      " 1   platform         16459 non-null  object \n",
      " 2   year_of_release  16459 non-null  float64\n",
      " 3   genre            16459 non-null  object \n",
      " 4   na_sales         16459 non-null  float64\n",
      " 5   eu_sales         16459 non-null  float64\n",
      " 6   jp_sales         16459 non-null  float64\n",
      " 7   other_sales      16459 non-null  float64\n",
      " 8   critic_score     16459 non-null  float64\n",
      " 9   user_score       16459 non-null  object \n",
      " 10  rating           16459 non-null  object \n",
      "dtypes: float64(6), object(5)\n",
      "memory usage: 1.4+ MB\n"
     ]
    }
   ],
   "source": [
    "# check datatypes\n",
    "df.info()"
   ]
  },
  {
   "cell_type": "markdown",
   "metadata": {},
   "source": [
    "I update `critic_score` and `year_of_release` to integers, and then `user_score` to a float (as it was originally an object due to the \"TBD\" value."
   ]
  },
  {
   "cell_type": "code",
   "execution_count": 27,
   "metadata": {},
   "outputs": [],
   "source": [
    "# change critic_score and year_of_release to integer types\n",
    "df['critic_score'] = df['critic_score'].astype('int')\n",
    "df['year_of_release'] = df['year_of_release'].astype('int')\n",
    "\n",
    "# change user_score to float\n",
    "df['user_score'] = df['user_score'].astype('float')"
   ]
  },
  {
   "cell_type": "code",
   "execution_count": 28,
   "metadata": {},
   "outputs": [
    {
     "name": "stdout",
     "output_type": "stream",
     "text": [
      "<class 'pandas.core.frame.DataFrame'>\n",
      "RangeIndex: 16459 entries, 0 to 16458\n",
      "Data columns (total 11 columns):\n",
      " #   Column           Non-Null Count  Dtype  \n",
      "---  ------           --------------  -----  \n",
      " 0   name             16459 non-null  object \n",
      " 1   platform         16459 non-null  object \n",
      " 2   year_of_release  16459 non-null  int64  \n",
      " 3   genre            16459 non-null  object \n",
      " 4   na_sales         16459 non-null  float64\n",
      " 5   eu_sales         16459 non-null  float64\n",
      " 6   jp_sales         16459 non-null  float64\n",
      " 7   other_sales      16459 non-null  float64\n",
      " 8   critic_score     16459 non-null  int64  \n",
      " 9   user_score       16459 non-null  float64\n",
      " 10  rating           16459 non-null  object \n",
      "dtypes: float64(5), int64(2), object(4)\n",
      "memory usage: 1.4+ MB\n"
     ]
    }
   ],
   "source": [
    "# check changes\n",
    "df.info()"
   ]
  },
  {
   "cell_type": "code",
   "execution_count": 29,
   "metadata": {
    "scrolled": true
   },
   "outputs": [
    {
     "data": {
      "text/html": [
       "<div>\n",
       "<style scoped>\n",
       "    .dataframe tbody tr th:only-of-type {\n",
       "        vertical-align: middle;\n",
       "    }\n",
       "\n",
       "    .dataframe tbody tr th {\n",
       "        vertical-align: top;\n",
       "    }\n",
       "\n",
       "    .dataframe thead th {\n",
       "        text-align: right;\n",
       "    }\n",
       "</style>\n",
       "<table border=\"1\" class=\"dataframe\">\n",
       "  <thead>\n",
       "    <tr style=\"text-align: right;\">\n",
       "      <th></th>\n",
       "      <th>name</th>\n",
       "      <th>platform</th>\n",
       "      <th>year_of_release</th>\n",
       "      <th>genre</th>\n",
       "      <th>na_sales</th>\n",
       "      <th>eu_sales</th>\n",
       "      <th>jp_sales</th>\n",
       "      <th>other_sales</th>\n",
       "      <th>critic_score</th>\n",
       "      <th>user_score</th>\n",
       "      <th>rating</th>\n",
       "    </tr>\n",
       "  </thead>\n",
       "  <tbody>\n",
       "    <tr>\n",
       "      <th>0</th>\n",
       "      <td>Wii Sports</td>\n",
       "      <td>Wii</td>\n",
       "      <td>2006</td>\n",
       "      <td>Sports</td>\n",
       "      <td>41.36</td>\n",
       "      <td>28.96</td>\n",
       "      <td>3.77</td>\n",
       "      <td>8.45</td>\n",
       "      <td>76</td>\n",
       "      <td>8.0</td>\n",
       "      <td>E</td>\n",
       "    </tr>\n",
       "    <tr>\n",
       "      <th>1</th>\n",
       "      <td>Super Mario Bros.</td>\n",
       "      <td>NES</td>\n",
       "      <td>1985</td>\n",
       "      <td>Platform</td>\n",
       "      <td>29.08</td>\n",
       "      <td>3.58</td>\n",
       "      <td>6.81</td>\n",
       "      <td>0.77</td>\n",
       "      <td>-1</td>\n",
       "      <td>-1.0</td>\n",
       "      <td>NA</td>\n",
       "    </tr>\n",
       "    <tr>\n",
       "      <th>2</th>\n",
       "      <td>Mario Kart Wii</td>\n",
       "      <td>Wii</td>\n",
       "      <td>2008</td>\n",
       "      <td>Racing</td>\n",
       "      <td>15.68</td>\n",
       "      <td>12.76</td>\n",
       "      <td>3.79</td>\n",
       "      <td>3.29</td>\n",
       "      <td>82</td>\n",
       "      <td>8.3</td>\n",
       "      <td>E</td>\n",
       "    </tr>\n",
       "    <tr>\n",
       "      <th>3</th>\n",
       "      <td>Wii Sports Resort</td>\n",
       "      <td>Wii</td>\n",
       "      <td>2009</td>\n",
       "      <td>Sports</td>\n",
       "      <td>15.61</td>\n",
       "      <td>10.93</td>\n",
       "      <td>3.28</td>\n",
       "      <td>2.95</td>\n",
       "      <td>80</td>\n",
       "      <td>8.0</td>\n",
       "      <td>E</td>\n",
       "    </tr>\n",
       "    <tr>\n",
       "      <th>4</th>\n",
       "      <td>Pokemon Red/Pokemon Blue</td>\n",
       "      <td>GB</td>\n",
       "      <td>1996</td>\n",
       "      <td>Role-Playing</td>\n",
       "      <td>11.27</td>\n",
       "      <td>8.89</td>\n",
       "      <td>10.22</td>\n",
       "      <td>1.00</td>\n",
       "      <td>-1</td>\n",
       "      <td>-1.0</td>\n",
       "      <td>NA</td>\n",
       "    </tr>\n",
       "  </tbody>\n",
       "</table>\n",
       "</div>"
      ],
      "text/plain": [
       "                       name platform  year_of_release         genre  na_sales  \\\n",
       "0                Wii Sports      Wii             2006        Sports     41.36   \n",
       "1         Super Mario Bros.      NES             1985      Platform     29.08   \n",
       "2            Mario Kart Wii      Wii             2008        Racing     15.68   \n",
       "3         Wii Sports Resort      Wii             2009        Sports     15.61   \n",
       "4  Pokemon Red/Pokemon Blue       GB             1996  Role-Playing     11.27   \n",
       "\n",
       "   eu_sales  jp_sales  other_sales  critic_score  user_score rating  \n",
       "0     28.96      3.77         8.45            76         8.0      E  \n",
       "1      3.58      6.81         0.77            -1        -1.0     NA  \n",
       "2     12.76      3.79         3.29            82         8.3      E  \n",
       "3     10.93      3.28         2.95            80         8.0      E  \n",
       "4      8.89     10.22         1.00            -1        -1.0     NA  "
      ]
     },
     "execution_count": 29,
     "metadata": {},
     "output_type": "execute_result"
    }
   ],
   "source": [
    "# view sample data\n",
    "df.head()"
   ]
  },
  {
   "cell_type": "markdown",
   "metadata": {},
   "source": [
    "### Creating `total_sales` Column"
   ]
  },
  {
   "cell_type": "markdown",
   "metadata": {},
   "source": [
    "The data contains individual columns for sales across regions, but it would be beneficial to view sales globally, so I will create a `total_sales` column."
   ]
  },
  {
   "cell_type": "code",
   "execution_count": 30,
   "metadata": {},
   "outputs": [
    {
     "data": {
      "text/html": [
       "<div>\n",
       "<style scoped>\n",
       "    .dataframe tbody tr th:only-of-type {\n",
       "        vertical-align: middle;\n",
       "    }\n",
       "\n",
       "    .dataframe tbody tr th {\n",
       "        vertical-align: top;\n",
       "    }\n",
       "\n",
       "    .dataframe thead th {\n",
       "        text-align: right;\n",
       "    }\n",
       "</style>\n",
       "<table border=\"1\" class=\"dataframe\">\n",
       "  <thead>\n",
       "    <tr style=\"text-align: right;\">\n",
       "      <th></th>\n",
       "      <th>name</th>\n",
       "      <th>platform</th>\n",
       "      <th>year_of_release</th>\n",
       "      <th>genre</th>\n",
       "      <th>na_sales</th>\n",
       "      <th>eu_sales</th>\n",
       "      <th>jp_sales</th>\n",
       "      <th>other_sales</th>\n",
       "      <th>critic_score</th>\n",
       "      <th>user_score</th>\n",
       "      <th>rating</th>\n",
       "      <th>total_sales</th>\n",
       "    </tr>\n",
       "  </thead>\n",
       "  <tbody>\n",
       "    <tr>\n",
       "      <th>0</th>\n",
       "      <td>Wii Sports</td>\n",
       "      <td>Wii</td>\n",
       "      <td>2006</td>\n",
       "      <td>Sports</td>\n",
       "      <td>41.36</td>\n",
       "      <td>28.96</td>\n",
       "      <td>3.77</td>\n",
       "      <td>8.45</td>\n",
       "      <td>76</td>\n",
       "      <td>8.0</td>\n",
       "      <td>E</td>\n",
       "      <td>82.54</td>\n",
       "    </tr>\n",
       "    <tr>\n",
       "      <th>1</th>\n",
       "      <td>Super Mario Bros.</td>\n",
       "      <td>NES</td>\n",
       "      <td>1985</td>\n",
       "      <td>Platform</td>\n",
       "      <td>29.08</td>\n",
       "      <td>3.58</td>\n",
       "      <td>6.81</td>\n",
       "      <td>0.77</td>\n",
       "      <td>-1</td>\n",
       "      <td>-1.0</td>\n",
       "      <td>NA</td>\n",
       "      <td>40.24</td>\n",
       "    </tr>\n",
       "    <tr>\n",
       "      <th>2</th>\n",
       "      <td>Mario Kart Wii</td>\n",
       "      <td>Wii</td>\n",
       "      <td>2008</td>\n",
       "      <td>Racing</td>\n",
       "      <td>15.68</td>\n",
       "      <td>12.76</td>\n",
       "      <td>3.79</td>\n",
       "      <td>3.29</td>\n",
       "      <td>82</td>\n",
       "      <td>8.3</td>\n",
       "      <td>E</td>\n",
       "      <td>35.52</td>\n",
       "    </tr>\n",
       "    <tr>\n",
       "      <th>3</th>\n",
       "      <td>Wii Sports Resort</td>\n",
       "      <td>Wii</td>\n",
       "      <td>2009</td>\n",
       "      <td>Sports</td>\n",
       "      <td>15.61</td>\n",
       "      <td>10.93</td>\n",
       "      <td>3.28</td>\n",
       "      <td>2.95</td>\n",
       "      <td>80</td>\n",
       "      <td>8.0</td>\n",
       "      <td>E</td>\n",
       "      <td>32.77</td>\n",
       "    </tr>\n",
       "    <tr>\n",
       "      <th>4</th>\n",
       "      <td>Pokemon Red/Pokemon Blue</td>\n",
       "      <td>GB</td>\n",
       "      <td>1996</td>\n",
       "      <td>Role-Playing</td>\n",
       "      <td>11.27</td>\n",
       "      <td>8.89</td>\n",
       "      <td>10.22</td>\n",
       "      <td>1.00</td>\n",
       "      <td>-1</td>\n",
       "      <td>-1.0</td>\n",
       "      <td>NA</td>\n",
       "      <td>31.38</td>\n",
       "    </tr>\n",
       "  </tbody>\n",
       "</table>\n",
       "</div>"
      ],
      "text/plain": [
       "                       name platform  year_of_release         genre  na_sales  \\\n",
       "0                Wii Sports      Wii             2006        Sports     41.36   \n",
       "1         Super Mario Bros.      NES             1985      Platform     29.08   \n",
       "2            Mario Kart Wii      Wii             2008        Racing     15.68   \n",
       "3         Wii Sports Resort      Wii             2009        Sports     15.61   \n",
       "4  Pokemon Red/Pokemon Blue       GB             1996  Role-Playing     11.27   \n",
       "\n",
       "   eu_sales  jp_sales  other_sales  critic_score  user_score rating  \\\n",
       "0     28.96      3.77         8.45            76         8.0      E   \n",
       "1      3.58      6.81         0.77            -1        -1.0     NA   \n",
       "2     12.76      3.79         3.29            82         8.3      E   \n",
       "3     10.93      3.28         2.95            80         8.0      E   \n",
       "4      8.89     10.22         1.00            -1        -1.0     NA   \n",
       "\n",
       "   total_sales  \n",
       "0        82.54  \n",
       "1        40.24  \n",
       "2        35.52  \n",
       "3        32.77  \n",
       "4        31.38  "
      ]
     },
     "execution_count": 30,
     "metadata": {},
     "output_type": "execute_result"
    }
   ],
   "source": [
    "# create new column by summing regional sales\n",
    "df['total_sales'] = df['na_sales'] + df['eu_sales'] + df['jp_sales'] + df['other_sales']\n",
    "\n",
    "# show new column\n",
    "df.head()"
   ]
  },
  {
   "cell_type": "markdown",
   "metadata": {},
   "source": [
    "Data preprocessing is complete. The column names were changed for consistency, under 1.6% of data was dropped, and other missing values were filled with dummy values. The data types of a few columns were also updated. The dataset is now ready to be analyzed."
   ]
  },
  {
   "cell_type": "markdown",
   "metadata": {},
   "source": [
    "## Analyze Data"
   ]
  },
  {
   "cell_type": "markdown",
   "metadata": {},
   "source": [
    "### Finding Relevant Data"
   ]
  },
  {
   "cell_type": "markdown",
   "metadata": {},
   "source": [
    "Not every record in our dataset is going to be relevant if we're trying to figure out a campaign for 2017. First, I will take a lot at the years of release across games and the platforms in order to figure out what data is relevant for the analysis. For example, it wouldn't make sense to conduct analysis on old games that run on platforms that are no longer used."
   ]
  },
  {
   "cell_type": "code",
   "execution_count": 31,
   "metadata": {},
   "outputs": [
    {
     "data": {
      "image/png": "[encoded data removed]",
      "text/plain": [
       "<Figure size 1008x432 with 1 Axes>"
      ]
     },
     "metadata": {
      "needs_background": "light"
     },
     "output_type": "display_data"
    }
   ],
   "source": [
    "# plot number of games released per year\n",
    "df.groupby('year_of_release')['name'].count().plot(kind = 'bar',\n",
    "                                                   figsize=(14, 6),\n",
    "                                                   color='olive',\n",
    "                                                   xlabel='Release Year',\n",
    "                                                   ylabel='Number of Games',\n",
    "                                                   title='Games Released Per Year'\n",
    "                                                  );"
   ]
  },
  {
   "cell_type": "markdown",
   "metadata": {},
   "source": [
    "Every game in this dataset was released between 1980 and 2016. There are fewer older games in our dataset - the majority of our games are from 1991 and later."
   ]
  },
  {
   "cell_type": "code",
   "execution_count": 32,
   "metadata": {},
   "outputs": [
    {
     "data": {
      "text/html": [
       "<div>\n",
       "<style scoped>\n",
       "    .dataframe tbody tr th:only-of-type {\n",
       "        vertical-align: middle;\n",
       "    }\n",
       "\n",
       "    .dataframe tbody tr th {\n",
       "        vertical-align: top;\n",
       "    }\n",
       "\n",
       "    .dataframe thead th {\n",
       "        text-align: right;\n",
       "    }\n",
       "</style>\n",
       "<table border=\"1\" class=\"dataframe\">\n",
       "  <thead>\n",
       "    <tr style=\"text-align: right;\">\n",
       "      <th></th>\n",
       "      <th>year_of_release</th>\n",
       "    </tr>\n",
       "    <tr>\n",
       "      <th>platform</th>\n",
       "      <th></th>\n",
       "    </tr>\n",
       "  </thead>\n",
       "  <tbody>\n",
       "    <tr>\n",
       "      <th>XOne</th>\n",
       "      <td>2015.0</td>\n",
       "    </tr>\n",
       "    <tr>\n",
       "      <th>PS4</th>\n",
       "      <td>2015.0</td>\n",
       "    </tr>\n",
       "    <tr>\n",
       "      <th>PSV</th>\n",
       "      <td>2014.0</td>\n",
       "    </tr>\n",
       "    <tr>\n",
       "      <th>WiiU</th>\n",
       "      <td>2013.0</td>\n",
       "    </tr>\n",
       "    <tr>\n",
       "      <th>3DS</th>\n",
       "      <td>2013.0</td>\n",
       "    </tr>\n",
       "    <tr>\n",
       "      <th>PS3</th>\n",
       "      <td>2011.0</td>\n",
       "    </tr>\n",
       "    <tr>\n",
       "      <th>X360</th>\n",
       "      <td>2010.0</td>\n",
       "    </tr>\n",
       "    <tr>\n",
       "      <th>PC</th>\n",
       "      <td>2010.0</td>\n",
       "    </tr>\n",
       "    <tr>\n",
       "      <th>Wii</th>\n",
       "      <td>2009.0</td>\n",
       "    </tr>\n",
       "    <tr>\n",
       "      <th>PSP</th>\n",
       "      <td>2009.0</td>\n",
       "    </tr>\n",
       "    <tr>\n",
       "      <th>DS</th>\n",
       "      <td>2008.0</td>\n",
       "    </tr>\n",
       "    <tr>\n",
       "      <th>PS2</th>\n",
       "      <td>2005.0</td>\n",
       "    </tr>\n",
       "    <tr>\n",
       "      <th>XB</th>\n",
       "      <td>2004.0</td>\n",
       "    </tr>\n",
       "    <tr>\n",
       "      <th>GBA</th>\n",
       "      <td>2003.0</td>\n",
       "    </tr>\n",
       "    <tr>\n",
       "      <th>GC</th>\n",
       "      <td>2003.0</td>\n",
       "    </tr>\n",
       "    <tr>\n",
       "      <th>DC</th>\n",
       "      <td>2000.0</td>\n",
       "    </tr>\n",
       "    <tr>\n",
       "      <th>WS</th>\n",
       "      <td>2000.0</td>\n",
       "    </tr>\n",
       "    <tr>\n",
       "      <th>N64</th>\n",
       "      <td>1999.0</td>\n",
       "    </tr>\n",
       "    <tr>\n",
       "      <th>PS</th>\n",
       "      <td>1998.0</td>\n",
       "    </tr>\n",
       "    <tr>\n",
       "      <th>GB</th>\n",
       "      <td>1997.0</td>\n",
       "    </tr>\n",
       "    <tr>\n",
       "      <th>PCFX</th>\n",
       "      <td>1996.0</td>\n",
       "    </tr>\n",
       "    <tr>\n",
       "      <th>SAT</th>\n",
       "      <td>1996.0</td>\n",
       "    </tr>\n",
       "    <tr>\n",
       "      <th>3DO</th>\n",
       "      <td>1995.0</td>\n",
       "    </tr>\n",
       "    <tr>\n",
       "      <th>TG16</th>\n",
       "      <td>1995.0</td>\n",
       "    </tr>\n",
       "    <tr>\n",
       "      <th>NG</th>\n",
       "      <td>1994.5</td>\n",
       "    </tr>\n",
       "    <tr>\n",
       "      <th>SCD</th>\n",
       "      <td>1994.0</td>\n",
       "    </tr>\n",
       "    <tr>\n",
       "      <th>SNES</th>\n",
       "      <td>1994.0</td>\n",
       "    </tr>\n",
       "    <tr>\n",
       "      <th>GEN</th>\n",
       "      <td>1993.0</td>\n",
       "    </tr>\n",
       "    <tr>\n",
       "      <th>GG</th>\n",
       "      <td>1992.0</td>\n",
       "    </tr>\n",
       "    <tr>\n",
       "      <th>NES</th>\n",
       "      <td>1986.5</td>\n",
       "    </tr>\n",
       "    <tr>\n",
       "      <th>2600</th>\n",
       "      <td>1982.0</td>\n",
       "    </tr>\n",
       "  </tbody>\n",
       "</table>\n",
       "</div>"
      ],
      "text/plain": [
       "          year_of_release\n",
       "platform                 \n",
       "XOne               2015.0\n",
       "PS4                2015.0\n",
       "PSV                2014.0\n",
       "WiiU               2013.0\n",
       "3DS                2013.0\n",
       "PS3                2011.0\n",
       "X360               2010.0\n",
       "PC                 2010.0\n",
       "Wii                2009.0\n",
       "PSP                2009.0\n",
       "DS                 2008.0\n",
       "PS2                2005.0\n",
       "XB                 2004.0\n",
       "GBA                2003.0\n",
       "GC                 2003.0\n",
       "DC                 2000.0\n",
       "WS                 2000.0\n",
       "N64                1999.0\n",
       "PS                 1998.0\n",
       "GB                 1997.0\n",
       "PCFX               1996.0\n",
       "SAT                1996.0\n",
       "3DO                1995.0\n",
       "TG16               1995.0\n",
       "NG                 1994.5\n",
       "SCD                1994.0\n",
       "SNES               1994.0\n",
       "GEN                1993.0\n",
       "GG                 1992.0\n",
       "NES                1986.5\n",
       "2600               1982.0"
      ]
     },
     "execution_count": 32,
     "metadata": {},
     "output_type": "execute_result"
    }
   ],
   "source": [
    "# Viewing average year of release for each platform\n",
    "df.pivot_table(index='platform', values='year_of_release', aggfunc='median').sort_values(by='year_of_release', ascending=False)"
   ]
  },
  {
   "cell_type": "code",
   "execution_count": 33,
   "metadata": {},
   "outputs": [
    {
     "data": {
      "text/html": [
       "<div>\n",
       "<style scoped>\n",
       "    .dataframe tbody tr th:only-of-type {\n",
       "        vertical-align: middle;\n",
       "    }\n",
       "\n",
       "    .dataframe tbody tr th {\n",
       "        vertical-align: top;\n",
       "    }\n",
       "\n",
       "    .dataframe thead th {\n",
       "        text-align: right;\n",
       "    }\n",
       "</style>\n",
       "<table border=\"1\" class=\"dataframe\">\n",
       "  <thead>\n",
       "    <tr style=\"text-align: right;\">\n",
       "      <th></th>\n",
       "      <th>total_sales</th>\n",
       "    </tr>\n",
       "    <tr>\n",
       "      <th>platform</th>\n",
       "      <th></th>\n",
       "    </tr>\n",
       "  </thead>\n",
       "  <tbody>\n",
       "    <tr>\n",
       "      <th>PS2</th>\n",
       "      <td>1247.28</td>\n",
       "    </tr>\n",
       "    <tr>\n",
       "      <th>X360</th>\n",
       "      <td>961.30</td>\n",
       "    </tr>\n",
       "    <tr>\n",
       "      <th>PS3</th>\n",
       "      <td>931.34</td>\n",
       "    </tr>\n",
       "    <tr>\n",
       "      <th>Wii</th>\n",
       "      <td>891.18</td>\n",
       "    </tr>\n",
       "    <tr>\n",
       "      <th>DS</th>\n",
       "      <td>802.79</td>\n",
       "    </tr>\n",
       "  </tbody>\n",
       "</table>\n",
       "</div>"
      ],
      "text/plain": [
       "          total_sales\n",
       "platform             \n",
       "PS2           1247.28\n",
       "X360           961.30\n",
       "PS3            931.34\n",
       "Wii            891.18\n",
       "DS             802.79"
      ]
     },
     "execution_count": 33,
     "metadata": {},
     "output_type": "execute_result"
    }
   ],
   "source": [
    "# get top 5 platforms with the most sales\n",
    "top_platforms = df.pivot_table(index = 'platform', \n",
    "               values = 'total_sales', \n",
    "               aggfunc = 'sum').sort_values(by='total_sales', \n",
    "                                            ascending=False).head()\n",
    "\n",
    "top_platforms"
   ]
  },
  {
   "cell_type": "code",
   "execution_count": 34,
   "metadata": {
    "scrolled": false
   },
   "outputs": [
    {
     "data": {
      "image/png": "[encoded data removed]",
      "text/plain": [
       "<Figure size 720x360 with 1 Axes>"
      ]
     },
     "metadata": {
      "needs_background": "light"
     },
     "output_type": "display_data"
    },
    {
     "data": {
      "image/png": "[encoded data removed]",
      "text/plain": [
       "<Figure size 720x360 with 1 Axes>"
      ]
     },
     "metadata": {
      "needs_background": "light"
     },
     "output_type": "display_data"
    },
    {
     "data": {
      "image/png": "[encoded data removed]",
      "text/plain": [
       "<Figure size 720x360 with 1 Axes>"
      ]
     },
     "metadata": {
      "needs_background": "light"
     },
     "output_type": "display_data"
    },
    {
     "data": {
      "image/png": "[encoded data removed]",
      "text/plain": [
       "<Figure size 720x360 with 1 Axes>"
      ]
     },
     "metadata": {
      "needs_background": "light"
     },
     "output_type": "display_data"
    },
    {
     "data": {
      "image/png": "[encoded data removed]",
      "text/plain": [
       "<Figure size 720x360 with 1 Axes>"
      ]
     },
     "metadata": {
      "needs_background": "light"
     },
     "output_type": "display_data"
    }
   ],
   "source": [
    "# create distributions by year of the top platforms\n",
    "for platform in top_platforms.index:\n",
    "    df.query('platform == @platform').pivot_table(index='year_of_release',\n",
    "                                                 values='total_sales',\n",
    "                                                 aggfunc='sum').plot(kind = 'bar',\n",
    "                                                                    figsize = (10, 5),\n",
    "                                                                    color = 'olive',\n",
    "                                                                    title = f'Sales by Year - {platform}')"
   ]
  },
  {
   "cell_type": "markdown",
   "metadata": {},
   "source": [
    "PS2s have the most sales of any platform in the database, but their sales peaked in 2004 and have not survived into the 2010s. For each each of the top flatforms, sales tend to peak 4-5 years after release. New platforms tend to only survive for 10 years max, likely due to new platforms appearing. For example, PS2's last game was in 2011, which is the same year that PS3 came out.\n",
    "\n",
    "Though video game platforms tend to survive for 10 years, they really only peak for 4-5 years after they've been release. As such, we will only look at the data between 2011-2016; all prior years will be omitted from our analysis."
   ]
  },
  {
   "cell_type": "markdown",
   "metadata": {},
   "source": [
    "### Platforms"
   ]
  },
  {
   "cell_type": "code",
   "execution_count": 35,
   "metadata": {
    "scrolled": true
   },
   "outputs": [
    {
     "data": {
      "text/html": [
       "<div>\n",
       "<style scoped>\n",
       "    .dataframe tbody tr th:only-of-type {\n",
       "        vertical-align: middle;\n",
       "    }\n",
       "\n",
       "    .dataframe tbody tr th {\n",
       "        vertical-align: top;\n",
       "    }\n",
       "\n",
       "    .dataframe thead th {\n",
       "        text-align: right;\n",
       "    }\n",
       "</style>\n",
       "<table border=\"1\" class=\"dataframe\">\n",
       "  <thead>\n",
       "    <tr style=\"text-align: right;\">\n",
       "      <th></th>\n",
       "      <th>name</th>\n",
       "      <th>platform</th>\n",
       "      <th>year_of_release</th>\n",
       "      <th>genre</th>\n",
       "      <th>na_sales</th>\n",
       "      <th>eu_sales</th>\n",
       "      <th>jp_sales</th>\n",
       "      <th>other_sales</th>\n",
       "      <th>critic_score</th>\n",
       "      <th>user_score</th>\n",
       "      <th>rating</th>\n",
       "      <th>total_sales</th>\n",
       "    </tr>\n",
       "  </thead>\n",
       "  <tbody>\n",
       "    <tr>\n",
       "      <th>0</th>\n",
       "      <td>Grand Theft Auto V</td>\n",
       "      <td>PS3</td>\n",
       "      <td>2013</td>\n",
       "      <td>Action</td>\n",
       "      <td>7.02</td>\n",
       "      <td>9.09</td>\n",
       "      <td>0.98</td>\n",
       "      <td>3.96</td>\n",
       "      <td>97</td>\n",
       "      <td>8.2</td>\n",
       "      <td>M</td>\n",
       "      <td>21.05</td>\n",
       "    </tr>\n",
       "    <tr>\n",
       "      <th>1</th>\n",
       "      <td>Grand Theft Auto V</td>\n",
       "      <td>X360</td>\n",
       "      <td>2013</td>\n",
       "      <td>Action</td>\n",
       "      <td>9.66</td>\n",
       "      <td>5.14</td>\n",
       "      <td>0.06</td>\n",
       "      <td>1.41</td>\n",
       "      <td>97</td>\n",
       "      <td>8.1</td>\n",
       "      <td>M</td>\n",
       "      <td>16.27</td>\n",
       "    </tr>\n",
       "    <tr>\n",
       "      <th>2</th>\n",
       "      <td>Call of Duty: Modern Warfare 3</td>\n",
       "      <td>X360</td>\n",
       "      <td>2011</td>\n",
       "      <td>Shooter</td>\n",
       "      <td>9.04</td>\n",
       "      <td>4.24</td>\n",
       "      <td>0.13</td>\n",
       "      <td>1.32</td>\n",
       "      <td>88</td>\n",
       "      <td>3.4</td>\n",
       "      <td>M</td>\n",
       "      <td>14.73</td>\n",
       "    </tr>\n",
       "    <tr>\n",
       "      <th>3</th>\n",
       "      <td>Call of Duty: Black Ops 3</td>\n",
       "      <td>PS4</td>\n",
       "      <td>2015</td>\n",
       "      <td>Shooter</td>\n",
       "      <td>6.03</td>\n",
       "      <td>5.86</td>\n",
       "      <td>0.36</td>\n",
       "      <td>2.38</td>\n",
       "      <td>-1</td>\n",
       "      <td>-1.0</td>\n",
       "      <td>NA</td>\n",
       "      <td>14.63</td>\n",
       "    </tr>\n",
       "    <tr>\n",
       "      <th>4</th>\n",
       "      <td>Pokemon X/Pokemon Y</td>\n",
       "      <td>3DS</td>\n",
       "      <td>2013</td>\n",
       "      <td>Role-Playing</td>\n",
       "      <td>5.28</td>\n",
       "      <td>4.19</td>\n",
       "      <td>4.35</td>\n",
       "      <td>0.78</td>\n",
       "      <td>-1</td>\n",
       "      <td>-1.0</td>\n",
       "      <td>NA</td>\n",
       "      <td>14.60</td>\n",
       "    </tr>\n",
       "  </tbody>\n",
       "</table>\n",
       "</div>"
      ],
      "text/plain": [
       "                             name platform  year_of_release         genre  \\\n",
       "0              Grand Theft Auto V      PS3             2013        Action   \n",
       "1              Grand Theft Auto V     X360             2013        Action   \n",
       "2  Call of Duty: Modern Warfare 3     X360             2011       Shooter   \n",
       "3       Call of Duty: Black Ops 3      PS4             2015       Shooter   \n",
       "4             Pokemon X/Pokemon Y      3DS             2013  Role-Playing   \n",
       "\n",
       "   na_sales  eu_sales  jp_sales  other_sales  critic_score  user_score rating  \\\n",
       "0      7.02      9.09      0.98         3.96            97         8.2      M   \n",
       "1      9.66      5.14      0.06         1.41            97         8.1      M   \n",
       "2      9.04      4.24      0.13         1.32            88         3.4      M   \n",
       "3      6.03      5.86      0.36         2.38            -1        -1.0     NA   \n",
       "4      5.28      4.19      4.35         0.78            -1        -1.0     NA   \n",
       "\n",
       "   total_sales  \n",
       "0        21.05  \n",
       "1        16.27  \n",
       "2        14.73  \n",
       "3        14.63  \n",
       "4        14.60  "
      ]
     },
     "execution_count": 35,
     "metadata": {},
     "output_type": "execute_result"
    }
   ],
   "source": [
    "# filter out irrelevant data\n",
    "df_filtered = df.query('year_of_release >= 2011').reset_index(drop=True)\n",
    "\n",
    "# check data\n",
    "df_filtered.head()"
   ]
  },
  {
   "cell_type": "code",
   "execution_count": 36,
   "metadata": {
    "scrolled": false
   },
   "outputs": [
    {
     "data": {
      "image/png": "[encoded data removed]",
      "text/plain": [
       "<Figure size 720x432 with 1 Axes>"
      ]
     },
     "metadata": {
      "needs_background": "light"
     },
     "output_type": "display_data"
    }
   ],
   "source": [
    "# Bar plot of leading platforms (by total sales)\n",
    "df_filtered.pivot_table(index='platform',\n",
    "                        values='total_sales',\n",
    "                        aggfunc='sum').sort_values(by='total_sales', ascending=False).plot(kind = 'bar',\n",
    "                                           figsize=(10, 6),\n",
    "                                            color='olive',\n",
    "                                            title='Total Sales by Platform (since 2011)',\n",
    "                                            xlabel='Total Sales',\n",
    "                                            ylabel='Platform'\n",
    "                                           );"
   ]
  },
  {
   "cell_type": "code",
   "execution_count": 37,
   "metadata": {},
   "outputs": [
    {
     "data": {
      "image/png": "[encoded data removed]",
      "text/plain": [
       "<Figure size 1008x288 with 1 Axes>"
      ]
     },
     "metadata": {
      "needs_background": "light"
     },
     "output_type": "display_data"
    },
    {
     "data": {
      "image/png": "[encoded data removed]",
      "text/plain": [
       "<Figure size 1008x288 with 1 Axes>"
      ]
     },
     "metadata": {
      "needs_background": "light"
     },
     "output_type": "display_data"
    },
    {
     "data": {
      "image/png": "[encoded data removed]",
      "text/plain": [
       "<Figure size 1008x288 with 1 Axes>"
      ]
     },
     "metadata": {
      "needs_background": "light"
     },
     "output_type": "display_data"
    },
    {
     "data": {
      "image/png": "[encoded data removed]",
      "text/plain": [
       "<Figure size 1008x288 with 1 Axes>"
      ]
     },
     "metadata": {
      "needs_background": "light"
     },
     "output_type": "display_data"
    },
    {
     "data": {
      "image/png": "[encoded data removed]",
      "text/plain": [
       "<Figure size 1008x288 with 1 Axes>"
      ]
     },
     "metadata": {
      "needs_background": "light"
     },
     "output_type": "display_data"
    },
    {
     "data": {
      "image/png": "[encoded data removed]",
      "text/plain": [
       "<Figure size 1008x288 with 1 Axes>"
      ]
     },
     "metadata": {
      "needs_background": "light"
     },
     "output_type": "display_data"
    }
   ],
   "source": [
    "# Check platforms per year\n",
    "years = [2011, 2012, 2013, 2014, 2015, 2016]\n",
    "\n",
    "# Plot table for each year with the platforms being sold\n",
    "for year in years:\n",
    "    df_filtered.pivot_table(index='platform',\n",
    "                              values='total_sales',\n",
    "                              aggfunc='sum'\n",
    "                             ).sort_values(by='total_sales',\n",
    "                                           ascending=False).plot(kind='bar',\n",
    "                                                                 figsize=(14,4),\n",
    "                                                                 title=f'Sales Across Platforms in {year}',\n",
    "                                                                 xlabel='Platform'\n",
    "                                                                );"
   ]
  },
  {
   "cell_type": "code",
   "execution_count": 38,
   "metadata": {
    "scrolled": false
   },
   "outputs": [
    {
     "data": {
      "text/html": [
       "<div>\n",
       "<style scoped>\n",
       "    .dataframe tbody tr th:only-of-type {\n",
       "        vertical-align: middle;\n",
       "    }\n",
       "\n",
       "    .dataframe tbody tr th {\n",
       "        vertical-align: top;\n",
       "    }\n",
       "\n",
       "    .dataframe thead th {\n",
       "        text-align: right;\n",
       "    }\n",
       "</style>\n",
       "<table border=\"1\" class=\"dataframe\">\n",
       "  <thead>\n",
       "    <tr style=\"text-align: right;\">\n",
       "      <th>year_of_release</th>\n",
       "      <th>2011</th>\n",
       "      <th>2012</th>\n",
       "      <th>2013</th>\n",
       "      <th>2014</th>\n",
       "      <th>2015</th>\n",
       "      <th>2016</th>\n",
       "    </tr>\n",
       "    <tr>\n",
       "      <th>platform</th>\n",
       "      <th></th>\n",
       "      <th></th>\n",
       "      <th></th>\n",
       "      <th></th>\n",
       "      <th></th>\n",
       "      <th></th>\n",
       "    </tr>\n",
       "  </thead>\n",
       "  <tbody>\n",
       "    <tr>\n",
       "      <th>3DS</th>\n",
       "      <td>63.20</td>\n",
       "      <td>51.36</td>\n",
       "      <td>56.57</td>\n",
       "      <td>43.76</td>\n",
       "      <td>27.78</td>\n",
       "      <td>15.14</td>\n",
       "    </tr>\n",
       "    <tr>\n",
       "      <th>DS</th>\n",
       "      <td>26.18</td>\n",
       "      <td>11.01</td>\n",
       "      <td>1.54</td>\n",
       "      <td>NaN</td>\n",
       "      <td>NaN</td>\n",
       "      <td>NaN</td>\n",
       "    </tr>\n",
       "    <tr>\n",
       "      <th>PC</th>\n",
       "      <td>35.03</td>\n",
       "      <td>23.22</td>\n",
       "      <td>12.38</td>\n",
       "      <td>13.28</td>\n",
       "      <td>8.52</td>\n",
       "      <td>5.25</td>\n",
       "    </tr>\n",
       "    <tr>\n",
       "      <th>PS2</th>\n",
       "      <td>0.45</td>\n",
       "      <td>NaN</td>\n",
       "      <td>NaN</td>\n",
       "      <td>NaN</td>\n",
       "      <td>NaN</td>\n",
       "      <td>NaN</td>\n",
       "    </tr>\n",
       "    <tr>\n",
       "      <th>PS3</th>\n",
       "      <td>156.78</td>\n",
       "      <td>107.36</td>\n",
       "      <td>113.25</td>\n",
       "      <td>47.76</td>\n",
       "      <td>16.82</td>\n",
       "      <td>3.60</td>\n",
       "    </tr>\n",
       "    <tr>\n",
       "      <th>PS4</th>\n",
       "      <td>NaN</td>\n",
       "      <td>NaN</td>\n",
       "      <td>25.99</td>\n",
       "      <td>100.00</td>\n",
       "      <td>118.90</td>\n",
       "      <td>69.25</td>\n",
       "    </tr>\n",
       "    <tr>\n",
       "      <th>PSP</th>\n",
       "      <td>17.82</td>\n",
       "      <td>7.69</td>\n",
       "      <td>3.14</td>\n",
       "      <td>0.24</td>\n",
       "      <td>0.12</td>\n",
       "      <td>NaN</td>\n",
       "    </tr>\n",
       "    <tr>\n",
       "      <th>PSV</th>\n",
       "      <td>4.63</td>\n",
       "      <td>16.19</td>\n",
       "      <td>10.59</td>\n",
       "      <td>11.90</td>\n",
       "      <td>6.25</td>\n",
       "      <td>4.25</td>\n",
       "    </tr>\n",
       "    <tr>\n",
       "      <th>Wii</th>\n",
       "      <td>59.65</td>\n",
       "      <td>21.71</td>\n",
       "      <td>8.59</td>\n",
       "      <td>3.75</td>\n",
       "      <td>1.14</td>\n",
       "      <td>0.18</td>\n",
       "    </tr>\n",
       "    <tr>\n",
       "      <th>WiiU</th>\n",
       "      <td>NaN</td>\n",
       "      <td>17.56</td>\n",
       "      <td>21.65</td>\n",
       "      <td>22.03</td>\n",
       "      <td>16.35</td>\n",
       "      <td>4.60</td>\n",
       "    </tr>\n",
       "    <tr>\n",
       "      <th>X360</th>\n",
       "      <td>143.89</td>\n",
       "      <td>99.74</td>\n",
       "      <td>88.58</td>\n",
       "      <td>34.74</td>\n",
       "      <td>11.96</td>\n",
       "      <td>1.52</td>\n",
       "    </tr>\n",
       "    <tr>\n",
       "      <th>XOne</th>\n",
       "      <td>NaN</td>\n",
       "      <td>NaN</td>\n",
       "      <td>18.96</td>\n",
       "      <td>54.07</td>\n",
       "      <td>60.14</td>\n",
       "      <td>26.15</td>\n",
       "    </tr>\n",
       "  </tbody>\n",
       "</table>\n",
       "</div>"
      ],
      "text/plain": [
       "year_of_release    2011    2012    2013    2014    2015   2016\n",
       "platform                                                      \n",
       "3DS               63.20   51.36   56.57   43.76   27.78  15.14\n",
       "DS                26.18   11.01    1.54     NaN     NaN    NaN\n",
       "PC                35.03   23.22   12.38   13.28    8.52   5.25\n",
       "PS2                0.45     NaN     NaN     NaN     NaN    NaN\n",
       "PS3              156.78  107.36  113.25   47.76   16.82   3.60\n",
       "PS4                 NaN     NaN   25.99  100.00  118.90  69.25\n",
       "PSP               17.82    7.69    3.14    0.24    0.12    NaN\n",
       "PSV                4.63   16.19   10.59   11.90    6.25   4.25\n",
       "Wii               59.65   21.71    8.59    3.75    1.14   0.18\n",
       "WiiU                NaN   17.56   21.65   22.03   16.35   4.60\n",
       "X360             143.89   99.74   88.58   34.74   11.96   1.52\n",
       "XOne                NaN     NaN   18.96   54.07   60.14  26.15"
      ]
     },
     "execution_count": 38,
     "metadata": {},
     "output_type": "execute_result"
    }
   ],
   "source": [
    "# Table view of platforms and release years\n",
    "df_filtered.query('year_of_release >= 2011').pivot_table(index='platform', columns='year_of_release', values='total_sales', aggfunc='sum')"
   ]
  },
  {
   "cell_type": "markdown",
   "metadata": {},
   "source": [
    "From these graphs and this table, we can more clearly view the platforms that are decreasing in popularity.\n",
    "\n",
    "The WiiU, DS, PC, PS2, PSP, PSV, and Wii are obsolete - these platforms have been steadily declining over the years, either due to newer versions of their platforms being released or simply due to the platform not gaining popularity upon release (ie for the WiiU).\n",
    "\n",
    "The PS3 and X360 topped the charts until 2014, when their newer versions (the PS4 and XOne) came out. As such, despite their initial popularity, the PS3 and X360 will likely continue to decline. \n",
    "\n",
    "The 3DS has the third highest amount of sales in 2016, but these sales have been declining over the years.\n",
    "\n",
    "Of all the platforms given, the most profitable would be the PS4 and XOne."
   ]
  },
  {
   "cell_type": "markdown",
   "metadata": {},
   "source": [
    "### Global Sales"
   ]
  },
  {
   "cell_type": "code",
   "execution_count": 39,
   "metadata": {},
   "outputs": [
    {
     "data": {
      "image/png": "[encoded data removed]",
      "text/plain": [
       "<Figure size 1008x432 with 1 Axes>"
      ]
     },
     "metadata": {
      "needs_background": "light"
     },
     "output_type": "display_data"
    }
   ],
   "source": [
    "# only check relevant platforms \n",
    "platforms = ['PS4', 'PS3', 'XOne', 'X360', '3DS']\n",
    "\n",
    "# plot sales since 2011 per platform\n",
    "df_filtered.query('year_of_release >= 2011 and platform in @platforms').boxplot(column='total_sales',\n",
    "                                                                                by='platform',\n",
    "                                                                                figsize=(14,6),\n",
    "                                                                                vert=False);\n",
    "plt.title('Sales By Platform Since 2011');"
   ]
  },
  {
   "cell_type": "markdown",
   "metadata": {},
   "source": [
    "From this graph, we can see that there are many games that are outliers in the number of sales they had, creating a large right skew in our graph. This makes sense - games that are extremely popular are less common.\n",
    "\n",
    "Comparing XOne and X360 to PS4 and PS3, there's little difference in the data that falls between the first and third quartile ranges."
   ]
  },
  {
   "cell_type": "code",
   "execution_count": 40,
   "metadata": {},
   "outputs": [
    {
     "data": {
      "image/png": "[encoded data removed]",
      "text/plain": [
       "<Figure size 1008x288 with 1 Axes>"
      ]
     },
     "metadata": {
      "needs_background": "light"
     },
     "output_type": "display_data"
    }
   ],
   "source": [
    "# print bar plots showing mean and median of total sales since 2011\n",
    "df_filtered.query('year_of_release >= 2011 and platform in @platforms').pivot_table(index='platform',\n",
    "                                                                                    values='total_sales',\n",
    "                                                                                    aggfunc=['mean', 'median']).plot(kind='bar',\n",
    "                                                                                                                     figsize=(14,4),\n",
    "                                                                                                                     title='Mean and Median of Total Sales Since 2011',\n",
    "                                                                                                                     xlabel='Platform',\n",
    "                                                                                                                     ylabel='Total Sales'\n",
    "                                                                                                                    );"
   ]
  },
  {
   "cell_type": "markdown",
   "metadata": {},
   "source": [
    "Above, I plotted the mean versus the median for each platform since 2011. The mean is significantly higher than the medians, which we could tell from our right-skew. \n",
    "\n",
    "Though the PS4 has the highest mean total sales, it has a lower median of total sales than PS3, X360, and XOne, indicating that it had a few high performing games that sold many copies. However, the medians are fairly similar between PS3, PS4, X360, and XOne, with the Xbox platforms slightly outperforming PS3 and PS4."
   ]
  },
  {
   "cell_type": "markdown",
   "metadata": {},
   "source": [
    "### Reviews vs Total Sales"
   ]
  },
  {
   "cell_type": "markdown",
   "metadata": {},
   "source": [
    "I will observe how user reviews and professional reviews (`user_score` and `critic_score`) affect the number of sales. First, I will filter out rows where either column have '-1' as the value. Then, I will compare reviews vs sales among the PS4 and XOne platforms."
   ]
  },
  {
   "cell_type": "code",
   "execution_count": 41,
   "metadata": {
    "scrolled": false
   },
   "outputs": [
    {
     "data": {
      "text/html": [
       "<div>\n",
       "<style scoped>\n",
       "    .dataframe tbody tr th:only-of-type {\n",
       "        vertical-align: middle;\n",
       "    }\n",
       "\n",
       "    .dataframe tbody tr th {\n",
       "        vertical-align: top;\n",
       "    }\n",
       "\n",
       "    .dataframe thead th {\n",
       "        text-align: right;\n",
       "    }\n",
       "</style>\n",
       "<table border=\"1\" class=\"dataframe\">\n",
       "  <thead>\n",
       "    <tr style=\"text-align: right;\">\n",
       "      <th></th>\n",
       "      <th>name</th>\n",
       "      <th>platform</th>\n",
       "      <th>year_of_release</th>\n",
       "      <th>genre</th>\n",
       "      <th>na_sales</th>\n",
       "      <th>eu_sales</th>\n",
       "      <th>jp_sales</th>\n",
       "      <th>other_sales</th>\n",
       "      <th>critic_score</th>\n",
       "      <th>user_score</th>\n",
       "      <th>rating</th>\n",
       "      <th>total_sales</th>\n",
       "    </tr>\n",
       "  </thead>\n",
       "  <tbody>\n",
       "    <tr>\n",
       "      <th>0</th>\n",
       "      <td>Grand Theft Auto V</td>\n",
       "      <td>PS3</td>\n",
       "      <td>2013</td>\n",
       "      <td>Action</td>\n",
       "      <td>7.02</td>\n",
       "      <td>9.09</td>\n",
       "      <td>0.98</td>\n",
       "      <td>3.96</td>\n",
       "      <td>97</td>\n",
       "      <td>8.2</td>\n",
       "      <td>M</td>\n",
       "      <td>21.05</td>\n",
       "    </tr>\n",
       "    <tr>\n",
       "      <th>1</th>\n",
       "      <td>Grand Theft Auto V</td>\n",
       "      <td>X360</td>\n",
       "      <td>2013</td>\n",
       "      <td>Action</td>\n",
       "      <td>9.66</td>\n",
       "      <td>5.14</td>\n",
       "      <td>0.06</td>\n",
       "      <td>1.41</td>\n",
       "      <td>97</td>\n",
       "      <td>8.1</td>\n",
       "      <td>M</td>\n",
       "      <td>16.27</td>\n",
       "    </tr>\n",
       "    <tr>\n",
       "      <th>2</th>\n",
       "      <td>Call of Duty: Modern Warfare 3</td>\n",
       "      <td>X360</td>\n",
       "      <td>2011</td>\n",
       "      <td>Shooter</td>\n",
       "      <td>9.04</td>\n",
       "      <td>4.24</td>\n",
       "      <td>0.13</td>\n",
       "      <td>1.32</td>\n",
       "      <td>88</td>\n",
       "      <td>3.4</td>\n",
       "      <td>M</td>\n",
       "      <td>14.73</td>\n",
       "    </tr>\n",
       "    <tr>\n",
       "      <th>3</th>\n",
       "      <td>Call of Duty: Black Ops II</td>\n",
       "      <td>PS3</td>\n",
       "      <td>2012</td>\n",
       "      <td>Shooter</td>\n",
       "      <td>4.99</td>\n",
       "      <td>5.73</td>\n",
       "      <td>0.65</td>\n",
       "      <td>2.42</td>\n",
       "      <td>83</td>\n",
       "      <td>5.3</td>\n",
       "      <td>M</td>\n",
       "      <td>13.79</td>\n",
       "    </tr>\n",
       "    <tr>\n",
       "      <th>4</th>\n",
       "      <td>Call of Duty: Black Ops II</td>\n",
       "      <td>X360</td>\n",
       "      <td>2012</td>\n",
       "      <td>Shooter</td>\n",
       "      <td>8.25</td>\n",
       "      <td>4.24</td>\n",
       "      <td>0.07</td>\n",
       "      <td>1.12</td>\n",
       "      <td>83</td>\n",
       "      <td>4.8</td>\n",
       "      <td>M</td>\n",
       "      <td>13.68</td>\n",
       "    </tr>\n",
       "  </tbody>\n",
       "</table>\n",
       "</div>"
      ],
      "text/plain": [
       "                             name platform  year_of_release    genre  \\\n",
       "0              Grand Theft Auto V      PS3             2013   Action   \n",
       "1              Grand Theft Auto V     X360             2013   Action   \n",
       "2  Call of Duty: Modern Warfare 3     X360             2011  Shooter   \n",
       "3      Call of Duty: Black Ops II      PS3             2012  Shooter   \n",
       "4      Call of Duty: Black Ops II     X360             2012  Shooter   \n",
       "\n",
       "   na_sales  eu_sales  jp_sales  other_sales  critic_score  user_score rating  \\\n",
       "0      7.02      9.09      0.98         3.96            97         8.2      M   \n",
       "1      9.66      5.14      0.06         1.41            97         8.1      M   \n",
       "2      9.04      4.24      0.13         1.32            88         3.4      M   \n",
       "3      4.99      5.73      0.65         2.42            83         5.3      M   \n",
       "4      8.25      4.24      0.07         1.12            83         4.8      M   \n",
       "\n",
       "   total_sales  \n",
       "0        21.05  \n",
       "1        16.27  \n",
       "2        14.73  \n",
       "3        13.79  \n",
       "4        13.68  "
      ]
     },
     "execution_count": 41,
     "metadata": {},
     "output_type": "execute_result"
    }
   ],
   "source": [
    "# filter out rows without ratings\n",
    "df_reviews = df_filtered.query('critic_score != -1 and user_score != -1').reset_index(drop=True)\n",
    "\n",
    "# print head\n",
    "df_reviews.head()"
   ]
  },
  {
   "cell_type": "markdown",
   "metadata": {},
   "source": [
    "For each platform, I will create two scatteplots: One illustrating the relationship between Total Sales and User Score, and one illustrating the relationship between Total Sales and Critic Score."
   ]
  },
  {
   "cell_type": "code",
   "execution_count": 42,
   "metadata": {},
   "outputs": [
    {
     "data": {
      "image/png": "[encoded data removed]",
      "text/plain": [
       "<Figure size 1008x288 with 2 Axes>"
      ]
     },
     "metadata": {
      "needs_background": "light"
     },
     "output_type": "display_data"
    },
    {
     "data": {
      "image/png": "[encoded data removed]",
      "text/plain": [
       "<Figure size 1008x288 with 2 Axes>"
      ]
     },
     "metadata": {
      "needs_background": "light"
     },
     "output_type": "display_data"
    }
   ],
   "source": [
    "for platform in ['PS4', 'XOne']:\n",
    "    fig, ax = plt.subplots(ncols=2, figsize=(14,4))\n",
    "    platform_df = df_reviews.query('platform == @platform')\n",
    "    platform_df.plot.scatter(x = 'user_score',\n",
    "                             y = 'total_sales',\n",
    "                             title = f'{platform} - Total Sales Versus User Score',\n",
    "                             color = 'olive',\n",
    "                             ax=ax[0]);\n",
    "    platform_df.plot.scatter(x = 'critic_score',\n",
    "                             y = 'total_sales',\n",
    "                             title = f'{platform} - Total Sales Versus Critic Score',\n",
    "                             color = 'orange', ax=ax[1]);"
   ]
  },
  {
   "cell_type": "code",
   "execution_count": 43,
   "metadata": {},
   "outputs": [
    {
     "data": {
      "text/html": [
       "<div>\n",
       "<style scoped>\n",
       "    .dataframe tbody tr th:only-of-type {\n",
       "        vertical-align: middle;\n",
       "    }\n",
       "\n",
       "    .dataframe tbody tr th {\n",
       "        vertical-align: top;\n",
       "    }\n",
       "\n",
       "    .dataframe thead th {\n",
       "        text-align: right;\n",
       "    }\n",
       "</style>\n",
       "<table border=\"1\" class=\"dataframe\">\n",
       "  <thead>\n",
       "    <tr style=\"text-align: right;\">\n",
       "      <th></th>\n",
       "      <th>critic_score</th>\n",
       "      <th>user_score</th>\n",
       "      <th>total_sales</th>\n",
       "    </tr>\n",
       "  </thead>\n",
       "  <tbody>\n",
       "    <tr>\n",
       "      <th>critic_score</th>\n",
       "      <td>1.000000</td>\n",
       "      <td>0.472462</td>\n",
       "      <td>0.410422</td>\n",
       "    </tr>\n",
       "    <tr>\n",
       "      <th>user_score</th>\n",
       "      <td>0.472462</td>\n",
       "      <td>1.000000</td>\n",
       "      <td>-0.094003</td>\n",
       "    </tr>\n",
       "    <tr>\n",
       "      <th>total_sales</th>\n",
       "      <td>0.410422</td>\n",
       "      <td>-0.094003</td>\n",
       "      <td>1.000000</td>\n",
       "    </tr>\n",
       "  </tbody>\n",
       "</table>\n",
       "</div>"
      ],
      "text/plain": [
       "              critic_score  user_score  total_sales\n",
       "critic_score      1.000000    0.472462     0.410422\n",
       "user_score        0.472462    1.000000    -0.094003\n",
       "total_sales       0.410422   -0.094003     1.000000"
      ]
     },
     "execution_count": 43,
     "metadata": {},
     "output_type": "execute_result"
    }
   ],
   "source": [
    "# correlation matrix for XOne Platform\n",
    "df_reviews.query('platform == \"XOne\"')[['critic_score', 'user_score', 'total_sales']].corr()"
   ]
  },
  {
   "cell_type": "code",
   "execution_count": 44,
   "metadata": {},
   "outputs": [
    {
     "data": {
      "text/html": [
       "<div>\n",
       "<style scoped>\n",
       "    .dataframe tbody tr th:only-of-type {\n",
       "        vertical-align: middle;\n",
       "    }\n",
       "\n",
       "    .dataframe tbody tr th {\n",
       "        vertical-align: top;\n",
       "    }\n",
       "\n",
       "    .dataframe thead th {\n",
       "        text-align: right;\n",
       "    }\n",
       "</style>\n",
       "<table border=\"1\" class=\"dataframe\">\n",
       "  <thead>\n",
       "    <tr style=\"text-align: right;\">\n",
       "      <th></th>\n",
       "      <th>critic_score</th>\n",
       "      <th>user_score</th>\n",
       "      <th>total_sales</th>\n",
       "    </tr>\n",
       "  </thead>\n",
       "  <tbody>\n",
       "    <tr>\n",
       "      <th>critic_score</th>\n",
       "      <td>1.000000</td>\n",
       "      <td>0.557654</td>\n",
       "      <td>0.405895</td>\n",
       "    </tr>\n",
       "    <tr>\n",
       "      <th>user_score</th>\n",
       "      <td>0.557654</td>\n",
       "      <td>1.000000</td>\n",
       "      <td>-0.033625</td>\n",
       "    </tr>\n",
       "    <tr>\n",
       "      <th>total_sales</th>\n",
       "      <td>0.405895</td>\n",
       "      <td>-0.033625</td>\n",
       "      <td>1.000000</td>\n",
       "    </tr>\n",
       "  </tbody>\n",
       "</table>\n",
       "</div>"
      ],
      "text/plain": [
       "              critic_score  user_score  total_sales\n",
       "critic_score      1.000000    0.557654     0.405895\n",
       "user_score        0.557654    1.000000    -0.033625\n",
       "total_sales       0.405895   -0.033625     1.000000"
      ]
     },
     "execution_count": 44,
     "metadata": {},
     "output_type": "execute_result"
    }
   ],
   "source": [
    "# correlation matrix for PS4 Platform\n",
    "df_reviews.query('platform == \"PS4\"')[['critic_score', 'user_score', 'total_sales']].corr()"
   ]
  },
  {
   "cell_type": "markdown",
   "metadata": {},
   "source": [
    "Comparing `critic_score` with `total_sales` and `user_score` with `total_sales` for both platforms, there is not a strong correlation for either. \n",
    "\n",
    "In both platforms, correlation between `user_score` and `total_sales` is very close to 0. Additionally, both platforms have an approximate correlation of 0.41 between `total_sales` and `critic_score` - this is still not a strong correlation, as indicated by our graphs."
   ]
  },
  {
   "cell_type": "markdown",
   "metadata": {},
   "source": [
    "### Genres"
   ]
  },
  {
   "cell_type": "code",
   "execution_count": 45,
   "metadata": {},
   "outputs": [
    {
     "data": {
      "image/png": "[encoded data removed]",
      "text/plain": [
       "<Figure size 1008x288 with 1 Axes>"
      ]
     },
     "metadata": {
      "needs_background": "light"
     },
     "output_type": "display_data"
    }
   ],
   "source": [
    "# plot bar graph showing the most popular genres based on mean total sales\n",
    "df_filtered.pivot_table(index='genre',\n",
    "                        values='total_sales',\n",
    "                        aggfunc='median').sort_values(by = 'total_sales',\n",
    "                                                   ascending=False).plot(kind='bar',\n",
    "                                                                    title='Game Genres Vs Median Sales',\n",
    "                                                                    xlabel='Genre',\n",
    "                                                                    ylabel='Total Sales',\n",
    "                                                                    figsize=(14,4),\n",
    "                                                                    color='olive'\n",
    "                                                                    );"
   ]
  },
  {
   "cell_type": "markdown",
   "metadata": {},
   "source": [
    "The above graph shows the most profitable video game genres based on the median number of sales. Since 2011, we can see that Shooter games tend to have the greatest median sales."
   ]
  },
  {
   "cell_type": "code",
   "execution_count": 46,
   "metadata": {},
   "outputs": [
    {
     "data": {
      "image/png": "[encoded data removed]",
      "text/plain": [
       "<Figure size 1008x288 with 1 Axes>"
      ]
     },
     "metadata": {
      "needs_background": "light"
     },
     "output_type": "display_data"
    }
   ],
   "source": [
    "# plot bar graph showing the most popular genres based on mean total sales\n",
    "df_filtered.pivot_table(index='genre',\n",
    "                        values='total_sales',\n",
    "                        aggfunc='sum').sort_values(by = 'total_sales',\n",
    "                                                   ascending=False).plot(kind='bar',\n",
    "                                                                    title='Game Genres Vs Total Sales',\n",
    "                                                                    xlabel='Genre',\n",
    "                                                                    ylabel='Total Sales',\n",
    "                                                                    figsize=(14,4),\n",
    "                                                                    color='orange'\n",
    "                                                                    );"
   ]
  },
  {
   "cell_type": "markdown",
   "metadata": {},
   "source": [
    "In terms of total sales, games that fall under the action, shooter, role-playing, or sports categories have the most sales since 2011, meaning that the most profitable individual games appear within these four categories. \n",
    "\n",
    "In both graphs, adventure games, puzzle games, and strategy games fall at the tail end of sales. Action, shooter, and sports games can be considered our most profitable genres between both graphs."
   ]
  },
  {
   "cell_type": "markdown",
   "metadata": {},
   "source": [
    "### Regions"
   ]
  },
  {
   "cell_type": "markdown",
   "metadata": {},
   "source": [
    "So far, I have been observing global sales regardless of region, but next I will check how top genres, platforms, and ESRB ratings vary across North America, Europe, and Japan."
   ]
  },
  {
   "cell_type": "code",
   "execution_count": 47,
   "metadata": {},
   "outputs": [],
   "source": [
    "# list of regions to loop through\n",
    "regions = ['na_sales', 'eu_sales', 'jp_sales']\n",
    "\n",
    "# get tables for platforms, genres, and ratings (filtering out unpresent ratings)\n",
    "platform_table = df_filtered.pivot_table(index='platform', values=regions, aggfunc='sum')\n",
    "genre_table = df_filtered.pivot_table(index='genre', values=regions, aggfunc='sum')\n",
    "rating_table = df_filtered.pivot_table(index='rating', values=regions, aggfunc='sum').query('rating != \"NA\"')"
   ]
  },
  {
   "cell_type": "markdown",
   "metadata": {},
   "source": [
    "#### Platforms By Region"
   ]
  },
  {
   "cell_type": "code",
   "execution_count": 48,
   "metadata": {},
   "outputs": [
    {
     "data": {
      "image/png": "[encoded data removed]",
      "text/plain": [
       "<Figure size 1008x288 with 3 Axes>"
      ]
     },
     "metadata": {
      "needs_background": "light"
     },
     "output_type": "display_data"
    }
   ],
   "source": [
    "fig, ax = plt.subplots(ncols=3, figsize=(14,4))\n",
    "\n",
    "# plot top five platforms in north america\n",
    "platform_table[[regions[0]]].sort_values(by=regions[0], ascending=False).head(5).plot(kind='bar', title='North America - Platforms vs Total Sales', xlabel='Platform', ylabel='Total Sales in North America', color='cadetblue', ax=ax[0]);\n",
    "\n",
    "# plot top five platforms in europe\n",
    "platform_table[[regions[1]]].sort_values(by=regions[1], ascending=False).head(5).plot(kind='bar', title='Europe - Platforms vs Total Sales', xlabel='Platform', ylabel='Total Sales in Europe', color='khaki', ax=ax[1]);\n",
    "\n",
    "# plot top five platforms in japan\n",
    "platform_table[[regions[2]]].sort_values(by=regions[2], ascending=False).head(5).plot(kind='bar', title='Japan - Platforms vs Total Sales', xlabel='Platform', ylabel='Total Sales in Japan', color='thistle', ax=ax[2]);"
   ]
  },
  {
   "cell_type": "markdown",
   "metadata": {},
   "source": [
    "The three bar graphs above show the top five platforms per region. The top platform is different since 2011 for all three regions - X360 for North AMerica, PS3 for Europe, and the 3DS for Japan. The PS3, PS4, and 3DS show up in all three graphs, but the X360 does not show up in Japan's top 5 platforms.\n",
    "\n",
    "North America also has more sales overall than Europe or Japan do individually, with over double the amount of sales for its top platform (X360) when compared to Japan's top platform (3DS)."
   ]
  },
  {
   "cell_type": "markdown",
   "metadata": {},
   "source": [
    "#### Genres By Region"
   ]
  },
  {
   "cell_type": "code",
   "execution_count": 49,
   "metadata": {},
   "outputs": [
    {
     "data": {
      "image/png": "[encoded data removed]",
      "text/plain": [
       "<Figure size 1008x288 with 3 Axes>"
      ]
     },
     "metadata": {
      "needs_background": "light"
     },
     "output_type": "display_data"
    }
   ],
   "source": [
    "fig, ax = plt.subplots(ncols=3, figsize=(14,4))\n",
    "\n",
    "# plot top five platforms in north america\n",
    "genre_table[[regions[0]]].sort_values(by=regions[0], ascending=False).head(5).plot(kind='bar', title='North America - Genres vs Total Sales', xlabel='Genre', ylabel='Total Sales in North America', color='cadetblue', ax=ax[0]);\n",
    "\n",
    "# plot top five platforms in europe\n",
    "genre_table[[regions[1]]].sort_values(by=regions[1], ascending=False).head(5).plot(kind='bar', title='Europe - Genres vs Total Sales', xlabel='Genre', ylabel='Total Sales in Europe', color='khaki', ax=ax[1]);\n",
    "\n",
    "# plot top five platforms in japan\n",
    "genre_table[[regions[2]]].sort_values(by=regions[2], ascending=False).head(5).plot(kind='bar', title='Japan - Genres vs Total Sales', xlabel='Genre', ylabel='Total Sales in Japan', color='thistle', ax=ax[2]);"
   ]
  },
  {
   "cell_type": "markdown",
   "metadata": {},
   "source": [
    "Genres are fairly similar across North America and Europe, sharing similar amount of sales for their top four genres (Action, Shooter, Sports, and Role-Playing). In contrast, Role-Playing is Japan's top genre, with Action being #2."
   ]
  },
  {
   "cell_type": "markdown",
   "metadata": {},
   "source": [
    "#### Ratings"
   ]
  },
  {
   "cell_type": "code",
   "execution_count": 50,
   "metadata": {},
   "outputs": [
    {
     "data": {
      "image/png": "[encoded data removed]",
      "text/plain": [
       "<Figure size 1008x288 with 3 Axes>"
      ]
     },
     "metadata": {
      "needs_background": "light"
     },
     "output_type": "display_data"
    }
   ],
   "source": [
    "fig, ax = plt.subplots(ncols=3, figsize=(14,4))\n",
    "\n",
    "# plot top five platforms in north america\n",
    "rating_table[[regions[0]]].sort_values(by=regions[0], ascending=False).plot(kind='bar', title='North America - Ratings vs Total Sales', xlabel='Rating', ylabel='Total Sales in North America', color='cadetblue', ax=ax[0]);\n",
    "\n",
    "# plot top five platforms in europe\n",
    "rating_table[[regions[1]]].sort_values(by=regions[1], ascending=False).plot(kind='bar', title='Europe - Ratings vs Total Sales', xlabel='Rating', ylabel='Total Sales in Europe', color='khaki', ax=ax[1]);\n",
    "\n",
    "# plot top five platforms in japan\n",
    "rating_table[[regions[2]]].sort_values(by=regions[2], ascending=False).plot(kind='bar', title='Japan - Ratings vs Total Sales', xlabel='Rating', ylabel='Total Sales in Japan', color='thistle', ax=ax[2]);"
   ]
  },
  {
   "cell_type": "markdown",
   "metadata": {},
   "source": [
    "<div class=\"alert alert-block alert-warning\">\n",
    "<b>Reviewer's comment</b> <a class=\"tocSkip\"></a>\n",
    "    \n",
    "Pro tip: also it may be useful to add category \"other platforms\" and plot unrated games (we have 50% unrated games).\n",
    "</div>"
   ]
  },
  {
   "cell_type": "markdown",
   "metadata": {},
   "source": [
    "For these graphs, \"NA\" ratings were filtered out so that we are only looking at games that have valid ratings. Similar to their genre profiles, North America and Europe share a similar trend. Games rated M, followed by E, have the greatest amount of sales. For both regions, T and E10+ have similar amounts of sales.\n",
    "\n",
    "Japan, like its genre profile, is different from the other two regions. Games rated E and T have the greatest amount og sells, followed by M. Unlike the other two regions, these three ratings are closer in number of sales than the top three in the other two regions."
   ]
  },
  {
   "cell_type": "markdown",
   "metadata": {},
   "source": [
    "By creating these region profiles, I was able to observe trends in platforms, genres, and ratings when compared to total sales across North America, Europe, and Japan. North America and Europe share similar qualities, especially when it comes to genre and rating trends, whereas Japan's profile is different. As such, games that do well in Japan may not due as well in North America and Europe (and vice versa)."
   ]
  },
  {
   "cell_type": "markdown",
   "metadata": {},
   "source": [
    "## Hypothesis Testing"
   ]
  },
  {
   "cell_type": "markdown",
   "metadata": {},
   "source": [
    "### User Ratings: Xbox One and PC Platforms"
   ]
  },
  {
   "cell_type": "markdown",
   "metadata": {},
   "source": [
    "I will conduct hypothesis testing. First, I will see if user ratings are the same between the Xbox One and PC platforms. \n",
    "\n",
    "The null hypothesis is that the average user rating is the same between Xbox One and PC, and the alternative hypothesis is that the average user rating is different.\n",
    "\n",
    "As is standard, 0.05 will be used as the alpha value."
   ]
  },
  {
   "cell_type": "code",
   "execution_count": 51,
   "metadata": {},
   "outputs": [],
   "source": [
    "# create dataframes for xbox one and pc platforms\n",
    "xone_df = df_filtered.query('platform == \"XOne\" and user_score != -1')\n",
    "pc_df = df_filtered.query('platform == \"PC\" and user_score != -1')"
   ]
  },
  {
   "cell_type": "code",
   "execution_count": 52,
   "metadata": {},
   "outputs": [
    {
     "name": "stdout",
     "output_type": "stream",
     "text": [
      "Xbox One - User Ratings Variance: 1.9069968429360695\n",
      "PC - User Ratings Variance: 2.5962957995358837\n"
     ]
    }
   ],
   "source": [
    "# check variances\n",
    "print(f'Xbox One - User Ratings Variance: {xone_df.user_score.var()}')\n",
    "print(f'PC - User Ratings Variance: {pc_df.user_score.var()}')"
   ]
  },
  {
   "cell_type": "code",
   "execution_count": 53,
   "metadata": {},
   "outputs": [
    {
     "name": "stdout",
     "output_type": "stream",
     "text": [
      "p-value: 0.6267602271422398\n"
     ]
    }
   ],
   "source": [
    "# test the hypotheses - variances are similar\n",
    "results = st.ttest_ind(xone_df['user_score'], pc_df['user_score'], equal_var = True)\n",
    "print(f'p-value: {results.pvalue}')"
   ]
  },
  {
   "cell_type": "markdown",
   "metadata": {},
   "source": [
    "Our p_value of 0.63 is greater than our alpha value of 0.05, so we cannot reject the null hypothesis. This means that we cannot say that the average user rating is different between the Xbox One and PC platforms."
   ]
  },
  {
   "cell_type": "markdown",
   "metadata": {},
   "source": [
    "### User Ratings: Action and Sports Genres"
   ]
  },
  {
   "cell_type": "markdown",
   "metadata": {},
   "source": [
    "Next, I will compare the Action and Sports genres and see if the average user rating is the same between these genres.\n",
    "\n",
    "The null hypothesis is that the average user rating is the same for action games and sports games. The alternative hypothesis is that the average user ratings are difference for these two genres.\n",
    "\n",
    "Like before, the alpha value will be 0.05."
   ]
  },
  {
   "cell_type": "code",
   "execution_count": 54,
   "metadata": {},
   "outputs": [],
   "source": [
    "# create dataframes for action and sports genres\n",
    "action_df = df_filtered.query('genre == \"Action\" and user_score != -1')\n",
    "sports_df = df_filtered.query('genre == \"Sports\" and user_score != -1')"
   ]
  },
  {
   "cell_type": "code",
   "execution_count": 55,
   "metadata": {
    "scrolled": true
   },
   "outputs": [
    {
     "name": "stdout",
     "output_type": "stream",
     "text": [
      "Action - User Ratings Variance: 1.8118770103036579\n",
      "Sports - User Ratings Variance: 2.8825095404015264\n"
     ]
    }
   ],
   "source": [
    "# check variances\n",
    "print(f'Action - User Ratings Variance: {action_df.user_score.var()}')\n",
    "print(f'Sports - User Ratings Variance: {sports_df.user_score.var()}')"
   ]
  },
  {
   "cell_type": "code",
   "execution_count": 56,
   "metadata": {},
   "outputs": [
    {
     "name": "stdout",
     "output_type": "stream",
     "text": [
      "p-value: 5.1974550252152054e-24\n"
     ]
    }
   ],
   "source": [
    "# test the hypotheses - variances are similar\n",
    "results = st.ttest_ind(action_df['user_score'], sports_df['user_score'], equal_var = True)\n",
    "print(f'p-value: {results.pvalue}')"
   ]
  },
  {
   "cell_type": "markdown",
   "metadata": {},
   "source": [
    "Our p-value is much smaller than our alpha value of 0.05, so our p-value is statistically significant. We can reject our null hypothesis and say that the average user rating of sport games is not the same as the average user rating of action games."
   ]
  },
  {
   "cell_type": "markdown",
   "metadata": {},
   "source": [
    "## Conclusion"
   ]
  },
  {
   "cell_type": "markdown",
   "metadata": {},
   "source": [
    "The goal of this analysis was to determine what causes a game to succeed once it is released. For this analysis, games released after 2011 were observed. Globally, the most popular platforms were the PS4, PS3, XOne, X360, and 3DS, but some platforms (ie the PS3 and X360) were declining in sales due to newer systems (the PS4 and XOne) being released. The 3DS is declining in sales but has the greatest number of total sales in Japan. \n",
    "\n",
    "I also observed genres, both globally and regionally, and found that of all genres, Action games are the most popular. Some genres, like Puzzles or Strategy, have significantly less success. A game's rating seems to affect the total sales of a game, with games rated M and E being the most popular, excluding in Japan (where the most popular rating is E, followed by T).\n",
    "\n",
    "Hypothesis testing was conducting to see if the average user rating is the same for two platforms (Xbox One and PC) and two genres (Action and Sports). The average user rating was found to be different for the genres, but not the ratings. In the future, additional analysis can be conducted for other genres and platforms (ie the ones we found to be correlated with higher sales).\n",
    "\n",
    "The popularity of a game in 2017 will be affected by its rating, genre, and platform, and its total sales may vary regionally. Because North America and Europe have the greatest amount of sales, it would be beneficial to target those regions with an Xbox One or PS4 Action game."
   ]
  },
  {
   "cell_type": "code",
   "execution_count": null,
   "metadata": {},
   "outputs": [],
   "source": []
  }
 ],
 "metadata": {
  "ExecuteTimeLog": [
   {
    "duration": 1217,
    "start_time": "2022-04-27T12:55:23.308Z"
   },
   {
    "duration": 106,
    "start_time": "2022-04-27T12:57:22.097Z"
   },
   {
    "duration": 53,
    "start_time": "2022-04-27T12:57:25.021Z"
   },
   {
    "duration": 10,
    "start_time": "2022-04-27T12:57:26.462Z"
   },
   {
    "duration": 8,
    "start_time": "2022-04-27T12:57:29.018Z"
   },
   {
    "duration": 28,
    "start_time": "2022-04-27T12:57:33.928Z"
   },
   {
    "duration": 19,
    "start_time": "2022-04-27T12:58:19.706Z"
   },
   {
    "duration": 22,
    "start_time": "2022-04-27T12:58:21.993Z"
   },
   {
    "duration": 10,
    "start_time": "2022-04-27T13:02:21.538Z"
   },
   {
    "duration": 950,
    "start_time": "2022-05-13T12:59:05.948Z"
   },
   {
    "duration": 69,
    "start_time": "2022-05-13T12:59:06.902Z"
   },
   {
    "duration": 5,
    "start_time": "2022-05-13T12:59:47.838Z"
   },
   {
    "duration": 16,
    "start_time": "2022-05-13T12:59:48.538Z"
   },
   {
    "duration": 17,
    "start_time": "2022-05-13T12:59:49.198Z"
   },
   {
    "duration": 78,
    "start_time": "2022-05-13T13:03:07.916Z"
   },
   {
    "duration": 5,
    "start_time": "2022-05-13T13:03:16.028Z"
   },
   {
    "duration": 11,
    "start_time": "2022-05-13T13:05:06.218Z"
   },
   {
    "duration": 5,
    "start_time": "2022-05-13T13:05:11.348Z"
   },
   {
    "duration": 19,
    "start_time": "2022-05-13T13:05:27.751Z"
   },
   {
    "duration": 12,
    "start_time": "2022-05-13T13:05:43.515Z"
   },
   {
    "duration": 10,
    "start_time": "2022-05-13T13:09:09.701Z"
   },
   {
    "duration": 835,
    "start_time": "2022-05-13T13:09:21.592Z"
   },
   {
    "duration": 53,
    "start_time": "2022-05-13T13:09:22.430Z"
   },
   {
    "duration": 7,
    "start_time": "2022-05-13T13:09:23.733Z"
   },
   {
    "duration": 23,
    "start_time": "2022-05-13T13:09:24.112Z"
   },
   {
    "duration": 25,
    "start_time": "2022-05-13T13:09:24.519Z"
   },
   {
    "duration": 15,
    "start_time": "2022-05-13T13:09:26.963Z"
   },
   {
    "duration": 18,
    "start_time": "2022-05-13T13:10:04.430Z"
   },
   {
    "duration": 14,
    "start_time": "2022-05-13T13:10:18.289Z"
   },
   {
    "duration": 9,
    "start_time": "2022-05-13T13:10:46.821Z"
   },
   {
    "duration": 15,
    "start_time": "2022-05-13T13:11:32.386Z"
   },
   {
    "duration": 20,
    "start_time": "2022-05-13T13:11:55.531Z"
   },
   {
    "duration": 14,
    "start_time": "2022-05-13T13:12:18.772Z"
   },
   {
    "duration": 11,
    "start_time": "2022-05-13T13:12:35.759Z"
   },
   {
    "duration": 9,
    "start_time": "2022-05-13T13:12:38.811Z"
   },
   {
    "duration": 8,
    "start_time": "2022-05-13T13:12:49.991Z"
   },
   {
    "duration": 13,
    "start_time": "2022-05-13T13:12:59.833Z"
   },
   {
    "duration": 15,
    "start_time": "2022-05-13T13:13:56.451Z"
   },
   {
    "duration": 5,
    "start_time": "2022-05-13T13:14:54.521Z"
   },
   {
    "duration": 9,
    "start_time": "2022-05-13T13:15:34.732Z"
   },
   {
    "duration": 10,
    "start_time": "2022-05-13T13:15:37.241Z"
   },
   {
    "duration": 12,
    "start_time": "2022-05-13T13:17:21.241Z"
   },
   {
    "duration": 25,
    "start_time": "2022-05-13T13:20:51.041Z"
   },
   {
    "duration": 16,
    "start_time": "2022-05-13T13:20:55.120Z"
   },
   {
    "duration": 71,
    "start_time": "2022-05-13T13:21:14.501Z"
   },
   {
    "duration": 8,
    "start_time": "2022-05-13T13:21:20.365Z"
   },
   {
    "duration": 658,
    "start_time": "2022-05-13T13:21:42.088Z"
   },
   {
    "duration": 43,
    "start_time": "2022-05-13T13:21:42.748Z"
   },
   {
    "duration": 8,
    "start_time": "2022-05-13T13:21:43.777Z"
   },
   {
    "duration": 15,
    "start_time": "2022-05-13T13:21:44.007Z"
   },
   {
    "duration": 22,
    "start_time": "2022-05-13T13:21:44.178Z"
   },
   {
    "duration": 11,
    "start_time": "2022-05-13T13:21:46.755Z"
   },
   {
    "duration": 17,
    "start_time": "2022-05-13T13:21:47.179Z"
   },
   {
    "duration": 13,
    "start_time": "2022-05-13T13:21:47.516Z"
   },
   {
    "duration": 89,
    "start_time": "2022-05-13T13:21:49.408Z"
   },
   {
    "duration": 9,
    "start_time": "2022-05-13T13:21:50.787Z"
   },
   {
    "duration": 11,
    "start_time": "2022-05-13T13:21:52.628Z"
   },
   {
    "duration": 76,
    "start_time": "2022-05-13T13:21:54.809Z"
   },
   {
    "duration": 11,
    "start_time": "2022-05-13T13:22:00.428Z"
   },
   {
    "duration": 9,
    "start_time": "2022-05-13T13:22:34.608Z"
   },
   {
    "duration": 25,
    "start_time": "2022-05-13T13:23:09.356Z"
   },
   {
    "duration": 28,
    "start_time": "2022-05-13T13:23:39.716Z"
   },
   {
    "duration": 7,
    "start_time": "2022-05-13T13:24:12.107Z"
   },
   {
    "duration": 6,
    "start_time": "2022-05-13T13:24:35.988Z"
   },
   {
    "duration": 7,
    "start_time": "2022-05-13T13:24:40.007Z"
   },
   {
    "duration": 12,
    "start_time": "2022-05-13T13:24:45.508Z"
   },
   {
    "duration": 5,
    "start_time": "2022-05-13T13:25:47.887Z"
   },
   {
    "duration": 5,
    "start_time": "2022-05-13T13:25:51.667Z"
   },
   {
    "duration": 322,
    "start_time": "2022-05-13T13:26:08.028Z"
   },
   {
    "duration": 5,
    "start_time": "2022-05-13T13:26:17.935Z"
   },
   {
    "duration": 8,
    "start_time": "2022-05-13T13:27:05.468Z"
   },
   {
    "duration": 4,
    "start_time": "2022-05-13T13:27:08.731Z"
   },
   {
    "duration": 3,
    "start_time": "2022-05-13T13:27:23.868Z"
   },
   {
    "duration": 13,
    "start_time": "2022-05-13T13:28:08.507Z"
   },
   {
    "duration": 35,
    "start_time": "2022-05-13T13:31:22.848Z"
   },
   {
    "duration": 985,
    "start_time": "2022-05-20T06:20:10.099Z"
   },
   {
    "duration": 101,
    "start_time": "2022-05-20T06:20:11.088Z"
   },
   {
    "duration": 6,
    "start_time": "2022-05-20T06:20:18.534Z"
   },
   {
    "duration": 21,
    "start_time": "2022-05-20T06:20:19.070Z"
   },
   {
    "duration": 22,
    "start_time": "2022-05-20T06:20:20.521Z"
   },
   {
    "duration": 16,
    "start_time": "2022-05-20T06:20:25.604Z"
   },
   {
    "duration": 6,
    "start_time": "2022-05-20T06:21:32.507Z"
   },
   {
    "duration": 28,
    "start_time": "2022-05-20T06:23:05.722Z"
   },
   {
    "duration": 32,
    "start_time": "2022-05-20T06:23:19.729Z"
   },
   {
    "duration": 3,
    "start_time": "2022-05-20T06:23:28.398Z"
   },
   {
    "duration": 43,
    "start_time": "2022-05-20T06:23:28.672Z"
   },
   {
    "duration": 4,
    "start_time": "2022-05-20T06:23:29.900Z"
   },
   {
    "duration": 15,
    "start_time": "2022-05-20T06:23:30.058Z"
   },
   {
    "duration": 16,
    "start_time": "2022-05-20T06:23:30.209Z"
   },
   {
    "duration": 5,
    "start_time": "2022-05-20T06:23:33.006Z"
   },
   {
    "duration": 33,
    "start_time": "2022-05-20T06:23:34.105Z"
   },
   {
    "duration": 966,
    "start_time": "2022-05-20T18:45:27.054Z"
   },
   {
    "duration": 72,
    "start_time": "2022-05-20T18:45:28.686Z"
   },
   {
    "duration": 5,
    "start_time": "2022-05-20T18:45:36.676Z"
   },
   {
    "duration": 23,
    "start_time": "2022-05-20T18:45:44.153Z"
   },
   {
    "duration": 17,
    "start_time": "2022-05-20T18:45:51.438Z"
   },
   {
    "duration": 20,
    "start_time": "2022-05-20T18:48:08.978Z"
   },
   {
    "duration": 16,
    "start_time": "2022-05-20T18:49:42.601Z"
   },
   {
    "duration": 6,
    "start_time": "2022-05-20T18:54:14.907Z"
   },
   {
    "duration": 18,
    "start_time": "2022-05-20T18:54:22.559Z"
   },
   {
    "duration": 14,
    "start_time": "2022-05-20T18:54:45.317Z"
   },
   {
    "duration": 19,
    "start_time": "2022-05-20T18:55:06.581Z"
   },
   {
    "duration": 377,
    "start_time": "2022-05-20T18:55:10.442Z"
   },
   {
    "duration": 9,
    "start_time": "2022-05-20T18:55:33.663Z"
   },
   {
    "duration": 18,
    "start_time": "2022-05-20T18:55:40.962Z"
   },
   {
    "duration": 10,
    "start_time": "2022-05-20T18:56:25.724Z"
   },
   {
    "duration": 6,
    "start_time": "2022-05-20T19:00:48.916Z"
   },
   {
    "duration": 6,
    "start_time": "2022-05-20T19:01:57.421Z"
   },
   {
    "duration": 95,
    "start_time": "2022-05-20T19:03:30.619Z"
   },
   {
    "duration": 6,
    "start_time": "2022-05-20T19:03:34.837Z"
   },
   {
    "duration": 21,
    "start_time": "2022-05-20T19:09:06.442Z"
   },
   {
    "duration": 25,
    "start_time": "2022-05-20T19:09:48.716Z"
   },
   {
    "duration": 3,
    "start_time": "2022-05-20T19:11:12.999Z"
   },
   {
    "duration": 23,
    "start_time": "2022-05-20T19:11:32.166Z"
   },
   {
    "duration": 241,
    "start_time": "2022-05-20T19:11:38.645Z"
   },
   {
    "duration": 205,
    "start_time": "2022-05-20T19:17:27.144Z"
   },
   {
    "duration": 30,
    "start_time": "2022-05-20T19:17:44.545Z"
   },
   {
    "duration": 16,
    "start_time": "2022-05-20T20:49:54.402Z"
   },
   {
    "duration": 4,
    "start_time": "2022-05-20T20:50:00.868Z"
   },
   {
    "duration": 6,
    "start_time": "2022-05-20T20:50:02.552Z"
   },
   {
    "duration": 798,
    "start_time": "2022-05-20T20:51:09.065Z"
   },
   {
    "duration": 44,
    "start_time": "2022-05-20T20:51:09.865Z"
   },
   {
    "duration": 6,
    "start_time": "2022-05-20T20:51:12.833Z"
   },
   {
    "duration": 15,
    "start_time": "2022-05-20T20:51:13.142Z"
   },
   {
    "duration": 19,
    "start_time": "2022-05-20T20:51:13.552Z"
   },
   {
    "duration": 5,
    "start_time": "2022-05-20T21:16:40.263Z"
   },
   {
    "duration": 9,
    "start_time": "2022-05-20T21:16:48.111Z"
   },
   {
    "duration": 15,
    "start_time": "2022-05-20T21:16:51.684Z"
   },
   {
    "duration": 12,
    "start_time": "2022-05-20T21:16:51.998Z"
   },
   {
    "duration": 5,
    "start_time": "2022-05-20T21:16:54.167Z"
   },
   {
    "duration": 15,
    "start_time": "2022-05-20T21:16:55.388Z"
   },
   {
    "duration": 6,
    "start_time": "2022-05-20T21:16:57.888Z"
   },
   {
    "duration": 208,
    "start_time": "2022-05-20T21:17:32.959Z"
   },
   {
    "duration": 5,
    "start_time": "2022-05-20T21:17:33.863Z"
   },
   {
    "duration": 23,
    "start_time": "2022-05-20T21:18:39.206Z"
   },
   {
    "duration": 87,
    "start_time": "2022-05-20T21:18:51.423Z"
   },
   {
    "duration": 25,
    "start_time": "2022-05-20T21:18:56.939Z"
   },
   {
    "duration": 28,
    "start_time": "2022-05-20T21:19:10.994Z"
   },
   {
    "duration": 27,
    "start_time": "2022-05-20T21:19:14.278Z"
   },
   {
    "duration": 11,
    "start_time": "2022-05-20T21:20:05.541Z"
   },
   {
    "duration": 9,
    "start_time": "2022-05-20T21:20:34.793Z"
   },
   {
    "duration": 12,
    "start_time": "2022-05-20T21:20:40.760Z"
   },
   {
    "duration": 702,
    "start_time": "2022-05-20T21:21:17.013Z"
   },
   {
    "duration": 44,
    "start_time": "2022-05-20T21:21:17.717Z"
   },
   {
    "duration": 5,
    "start_time": "2022-05-20T21:21:19.588Z"
   },
   {
    "duration": 16,
    "start_time": "2022-05-20T21:21:19.887Z"
   },
   {
    "duration": 17,
    "start_time": "2022-05-20T21:21:20.350Z"
   },
   {
    "duration": 5,
    "start_time": "2022-05-20T21:21:44.276Z"
   },
   {
    "duration": 11,
    "start_time": "2022-05-20T21:21:47.112Z"
   },
   {
    "duration": 14,
    "start_time": "2022-05-20T21:21:51.205Z"
   },
   {
    "duration": 12,
    "start_time": "2022-05-20T21:21:51.875Z"
   },
   {
    "duration": 4,
    "start_time": "2022-05-20T21:21:54.863Z"
   },
   {
    "duration": 15,
    "start_time": "2022-05-20T21:21:55.842Z"
   },
   {
    "duration": 7,
    "start_time": "2022-05-20T21:22:04.492Z"
   },
   {
    "duration": 217,
    "start_time": "2022-05-20T21:22:10.571Z"
   },
   {
    "duration": 5,
    "start_time": "2022-05-20T21:22:11.934Z"
   },
   {
    "duration": 9,
    "start_time": "2022-05-20T21:23:16.736Z"
   },
   {
    "duration": 5,
    "start_time": "2022-05-20T21:27:14.106Z"
   },
   {
    "duration": 5,
    "start_time": "2022-05-20T21:27:22.896Z"
   },
   {
    "duration": 7,
    "start_time": "2022-05-20T21:27:38.945Z"
   },
   {
    "duration": 5,
    "start_time": "2022-05-20T21:27:43.733Z"
   },
   {
    "duration": 5,
    "start_time": "2022-05-20T21:28:02.688Z"
   },
   {
    "duration": 5,
    "start_time": "2022-05-20T21:28:14.025Z"
   },
   {
    "duration": 5,
    "start_time": "2022-05-20T21:28:19.168Z"
   },
   {
    "duration": 5,
    "start_time": "2022-05-20T21:28:30.679Z"
   },
   {
    "duration": 5,
    "start_time": "2022-05-20T21:29:24.415Z"
   },
   {
    "duration": 33,
    "start_time": "2022-05-20T21:29:43.301Z"
   },
   {
    "duration": 83,
    "start_time": "2022-05-20T21:33:36.350Z"
   },
   {
    "duration": 5,
    "start_time": "2022-05-20T21:33:38.881Z"
   },
   {
    "duration": 6,
    "start_time": "2022-05-20T21:33:49.100Z"
   },
   {
    "duration": 5,
    "start_time": "2022-05-20T21:34:14.276Z"
   },
   {
    "duration": 4,
    "start_time": "2022-05-20T21:34:17.332Z"
   },
   {
    "duration": 4,
    "start_time": "2022-05-20T21:34:59.794Z"
   },
   {
    "duration": 4,
    "start_time": "2022-05-20T21:35:18.683Z"
   },
   {
    "duration": 22,
    "start_time": "2022-05-20T21:35:34.994Z"
   },
   {
    "duration": 22,
    "start_time": "2022-05-20T21:43:41.576Z"
   },
   {
    "duration": 6,
    "start_time": "2022-05-21T03:05:09.165Z"
   },
   {
    "duration": 16,
    "start_time": "2022-05-21T03:05:33.044Z"
   },
   {
    "duration": 15,
    "start_time": "2022-05-21T03:05:56.950Z"
   },
   {
    "duration": 45,
    "start_time": "2022-05-21T03:07:20.642Z"
   },
   {
    "duration": 9,
    "start_time": "2022-05-21T03:08:24.274Z"
   },
   {
    "duration": 12,
    "start_time": "2022-05-21T03:08:39.710Z"
   },
   {
    "duration": 48,
    "start_time": "2022-05-21T03:11:34.907Z"
   },
   {
    "duration": 110,
    "start_time": "2022-05-21T03:11:59.648Z"
   },
   {
    "duration": 9,
    "start_time": "2022-05-21T03:12:10.650Z"
   },
   {
    "duration": 11,
    "start_time": "2022-05-21T03:12:16.557Z"
   },
   {
    "duration": 20,
    "start_time": "2022-05-21T03:17:10.766Z"
   },
   {
    "duration": 5,
    "start_time": "2022-05-21T03:22:21.146Z"
   },
   {
    "duration": 5,
    "start_time": "2022-05-21T03:22:40.973Z"
   },
   {
    "duration": 5,
    "start_time": "2022-05-21T03:22:47.983Z"
   },
   {
    "duration": 8,
    "start_time": "2022-05-21T03:22:51.842Z"
   },
   {
    "duration": 8,
    "start_time": "2022-05-21T03:23:00.926Z"
   },
   {
    "duration": 728,
    "start_time": "2022-05-21T03:23:49.945Z"
   },
   {
    "duration": 44,
    "start_time": "2022-05-21T03:23:50.675Z"
   },
   {
    "duration": 5,
    "start_time": "2022-05-21T03:23:50.721Z"
   },
   {
    "duration": 16,
    "start_time": "2022-05-21T03:23:50.728Z"
   },
   {
    "duration": 30,
    "start_time": "2022-05-21T03:23:50.745Z"
   },
   {
    "duration": 4,
    "start_time": "2022-05-21T03:23:50.777Z"
   },
   {
    "duration": 9,
    "start_time": "2022-05-21T03:23:50.783Z"
   },
   {
    "duration": 13,
    "start_time": "2022-05-21T03:23:50.794Z"
   },
   {
    "duration": 12,
    "start_time": "2022-05-21T03:23:50.808Z"
   },
   {
    "duration": 5,
    "start_time": "2022-05-21T03:23:50.822Z"
   },
   {
    "duration": 46,
    "start_time": "2022-05-21T03:23:50.828Z"
   },
   {
    "duration": 7,
    "start_time": "2022-05-21T03:23:50.876Z"
   },
   {
    "duration": 211,
    "start_time": "2022-05-21T03:23:50.884Z"
   },
   {
    "duration": 5,
    "start_time": "2022-05-21T03:23:51.096Z"
   },
   {
    "duration": 11,
    "start_time": "2022-05-21T03:23:51.102Z"
   },
   {
    "duration": 4,
    "start_time": "2022-05-21T03:23:51.114Z"
   },
   {
    "duration": 9,
    "start_time": "2022-05-21T03:23:51.120Z"
   },
   {
    "duration": 36,
    "start_time": "2022-05-21T03:23:51.131Z"
   },
   {
    "duration": 16,
    "start_time": "2022-05-21T03:23:51.169Z"
   },
   {
    "duration": 14,
    "start_time": "2022-05-21T03:23:51.187Z"
   },
   {
    "duration": 13,
    "start_time": "2022-05-21T03:23:51.202Z"
   },
   {
    "duration": 17,
    "start_time": "2022-05-21T03:23:51.217Z"
   },
   {
    "duration": 5,
    "start_time": "2022-05-21T03:23:51.235Z"
   },
   {
    "duration": 2,
    "start_time": "2022-05-21T03:23:51.265Z"
   },
   {
    "duration": 4,
    "start_time": "2022-05-21T03:24:09.147Z"
   },
   {
    "duration": 99,
    "start_time": "2022-05-21T03:25:12.479Z"
   },
   {
    "duration": 23,
    "start_time": "2022-05-21T03:25:30.192Z"
   },
   {
    "duration": 20,
    "start_time": "2022-05-21T03:26:03.249Z"
   },
   {
    "duration": 224,
    "start_time": "2022-05-21T03:28:38.269Z"
   },
   {
    "duration": 13,
    "start_time": "2022-05-21T03:35:28.590Z"
   },
   {
    "duration": 7,
    "start_time": "2022-05-21T03:35:56.761Z"
   },
   {
    "duration": 14,
    "start_time": "2022-05-21T03:37:05.565Z"
   },
   {
    "duration": 5,
    "start_time": "2022-05-21T03:37:26.817Z"
   },
   {
    "duration": 14,
    "start_time": "2022-05-21T03:37:34.377Z"
   },
   {
    "duration": 6,
    "start_time": "2022-05-21T03:38:20.918Z"
   },
   {
    "duration": 14,
    "start_time": "2022-05-21T03:38:27.676Z"
   },
   {
    "duration": 13,
    "start_time": "2022-05-21T03:38:35.323Z"
   },
   {
    "duration": 9,
    "start_time": "2022-05-21T03:39:41.986Z"
   },
   {
    "duration": 15,
    "start_time": "2022-05-21T03:39:48.625Z"
   },
   {
    "duration": 7,
    "start_time": "2022-05-21T03:45:34.720Z"
   },
   {
    "duration": 542,
    "start_time": "2022-05-21T03:45:43.864Z"
   },
   {
    "duration": 273,
    "start_time": "2022-05-21T03:45:49.383Z"
   },
   {
    "duration": 34,
    "start_time": "2022-05-21T03:46:51.315Z"
   },
   {
    "duration": 311,
    "start_time": "2022-05-21T03:47:00.181Z"
   },
   {
    "duration": 324,
    "start_time": "2022-05-21T03:47:51.105Z"
   },
   {
    "duration": 6,
    "start_time": "2022-05-21T03:48:15.624Z"
   },
   {
    "duration": 408,
    "start_time": "2022-05-21T03:48:27.122Z"
   },
   {
    "duration": 18,
    "start_time": "2022-05-21T03:53:55.192Z"
   },
   {
    "duration": 15,
    "start_time": "2022-05-21T03:54:02.083Z"
   },
   {
    "duration": 16,
    "start_time": "2022-05-21T03:54:40.466Z"
   },
   {
    "duration": 16,
    "start_time": "2022-05-21T03:54:50.975Z"
   },
   {
    "duration": 15,
    "start_time": "2022-05-21T03:55:05.917Z"
   },
   {
    "duration": 16,
    "start_time": "2022-05-21T03:55:14.032Z"
   },
   {
    "duration": 17,
    "start_time": "2022-05-21T03:55:25.082Z"
   },
   {
    "duration": 16,
    "start_time": "2022-05-21T03:55:31.399Z"
   },
   {
    "duration": 15,
    "start_time": "2022-05-21T03:56:30.764Z"
   },
   {
    "duration": 16,
    "start_time": "2022-05-21T03:58:39.711Z"
   },
   {
    "duration": 15,
    "start_time": "2022-05-21T03:58:47.226Z"
   },
   {
    "duration": 3,
    "start_time": "2022-05-21T03:59:17.761Z"
   },
   {
    "duration": 949,
    "start_time": "2022-05-21T04:01:42.858Z"
   },
   {
    "duration": 922,
    "start_time": "2022-05-21T04:01:54.276Z"
   },
   {
    "duration": 16,
    "start_time": "2022-05-21T04:02:41.277Z"
   },
   {
    "duration": 1873,
    "start_time": "2022-05-21T04:02:42.059Z"
   },
   {
    "duration": 16,
    "start_time": "2022-05-21T04:02:58.061Z"
   },
   {
    "duration": 14,
    "start_time": "2022-05-21T04:04:12.885Z"
   },
   {
    "duration": 17,
    "start_time": "2022-05-21T04:04:29.771Z"
   },
   {
    "duration": 16,
    "start_time": "2022-05-21T04:04:47.057Z"
   },
   {
    "duration": 18,
    "start_time": "2022-05-21T04:05:07.886Z"
   },
   {
    "duration": 23,
    "start_time": "2022-05-21T04:05:38.865Z"
   },
   {
    "duration": 16,
    "start_time": "2022-05-21T04:05:40.959Z"
   },
   {
    "duration": 918,
    "start_time": "2022-05-21T04:05:57.079Z"
   },
   {
    "duration": 17,
    "start_time": "2022-05-21T04:11:08.590Z"
   },
   {
    "duration": 25,
    "start_time": "2022-05-21T04:11:16.176Z"
   },
   {
    "duration": 18,
    "start_time": "2022-05-21T04:11:25.074Z"
   },
   {
    "duration": 16,
    "start_time": "2022-05-21T04:12:10.462Z"
   },
   {
    "duration": 217,
    "start_time": "2022-05-21T04:13:03.196Z"
   },
   {
    "duration": 211,
    "start_time": "2022-05-21T04:13:06.679Z"
   },
   {
    "duration": 14,
    "start_time": "2022-05-21T04:13:37.677Z"
   },
   {
    "duration": 198,
    "start_time": "2022-05-21T04:13:51.519Z"
   },
   {
    "duration": 41,
    "start_time": "2022-05-21T04:15:56.772Z"
   },
   {
    "duration": 1095,
    "start_time": "2022-05-21T04:16:27.558Z"
   },
   {
    "duration": 1067,
    "start_time": "2022-05-21T04:16:36.558Z"
   },
   {
    "duration": 1123,
    "start_time": "2022-05-21T04:16:40.231Z"
   },
   {
    "duration": 1069,
    "start_time": "2022-05-21T04:17:07.193Z"
   },
   {
    "duration": 1047,
    "start_time": "2022-05-21T04:17:34.590Z"
   },
   {
    "duration": 1210,
    "start_time": "2022-05-21T04:17:36.708Z"
   },
   {
    "duration": 751,
    "start_time": "2022-05-21T15:39:29.358Z"
   },
   {
    "duration": 44,
    "start_time": "2022-05-21T15:39:30.111Z"
   },
   {
    "duration": 5,
    "start_time": "2022-05-21T15:39:30.157Z"
   },
   {
    "duration": 22,
    "start_time": "2022-05-21T15:39:30.168Z"
   },
   {
    "duration": 17,
    "start_time": "2022-05-21T15:39:30.193Z"
   },
   {
    "duration": 6,
    "start_time": "2022-05-21T15:39:30.212Z"
   },
   {
    "duration": 30,
    "start_time": "2022-05-21T15:39:30.220Z"
   },
   {
    "duration": 39,
    "start_time": "2022-05-21T15:39:30.253Z"
   },
   {
    "duration": 20,
    "start_time": "2022-05-21T15:39:30.294Z"
   },
   {
    "duration": 26,
    "start_time": "2022-05-21T15:39:30.315Z"
   },
   {
    "duration": 45,
    "start_time": "2022-05-21T15:39:30.343Z"
   },
   {
    "duration": 5,
    "start_time": "2022-05-21T15:39:30.390Z"
   },
   {
    "duration": 206,
    "start_time": "2022-05-21T15:39:30.397Z"
   },
   {
    "duration": 5,
    "start_time": "2022-05-21T15:39:30.606Z"
   },
   {
    "duration": 67,
    "start_time": "2022-05-21T15:39:30.612Z"
   },
   {
    "duration": 18,
    "start_time": "2022-05-21T15:39:30.681Z"
   },
   {
    "duration": 17,
    "start_time": "2022-05-21T15:39:30.701Z"
   },
   {
    "duration": 44,
    "start_time": "2022-05-21T15:39:30.720Z"
   },
   {
    "duration": 53,
    "start_time": "2022-05-21T15:39:30.766Z"
   },
   {
    "duration": 37,
    "start_time": "2022-05-21T15:39:30.820Z"
   },
   {
    "duration": 41,
    "start_time": "2022-05-21T15:39:30.859Z"
   },
   {
    "duration": 29,
    "start_time": "2022-05-21T15:39:30.902Z"
   },
   {
    "duration": 6,
    "start_time": "2022-05-21T15:39:30.933Z"
   },
   {
    "duration": 32,
    "start_time": "2022-05-21T15:39:30.940Z"
   },
   {
    "duration": 19,
    "start_time": "2022-05-21T15:39:30.973Z"
   },
   {
    "duration": 29,
    "start_time": "2022-05-21T15:39:30.994Z"
   },
   {
    "duration": 11,
    "start_time": "2022-05-21T15:39:31.025Z"
   },
   {
    "duration": 29,
    "start_time": "2022-05-21T15:39:31.037Z"
   },
   {
    "duration": 17,
    "start_time": "2022-05-21T15:39:31.068Z"
   },
   {
    "duration": 21,
    "start_time": "2022-05-21T15:39:31.088Z"
   },
   {
    "duration": 376,
    "start_time": "2022-05-21T15:39:31.111Z"
   },
   {
    "duration": 20,
    "start_time": "2022-05-21T15:39:31.489Z"
   },
   {
    "duration": 17,
    "start_time": "2022-05-21T15:39:31.511Z"
   },
   {
    "duration": 1087,
    "start_time": "2022-05-21T15:39:31.530Z"
   },
   {
    "duration": 16,
    "start_time": "2022-05-21T15:39:32.619Z"
   },
   {
    "duration": 240,
    "start_time": "2022-05-21T15:39:32.637Z"
   },
   {
    "duration": 1216,
    "start_time": "2022-05-21T15:39:32.878Z"
   },
   {
    "duration": 1208,
    "start_time": "2022-05-21T15:41:41.073Z"
   },
   {
    "duration": 19,
    "start_time": "2022-05-21T15:43:44.814Z"
   },
   {
    "duration": 93,
    "start_time": "2022-05-21T15:44:16.067Z"
   },
   {
    "duration": 29,
    "start_time": "2022-05-21T15:44:20.066Z"
   },
   {
    "duration": 25,
    "start_time": "2022-05-21T15:44:38.353Z"
   },
   {
    "duration": 45,
    "start_time": "2022-05-21T15:45:55.803Z"
   },
   {
    "duration": 303,
    "start_time": "2022-05-21T15:46:02.883Z"
   },
   {
    "duration": 670,
    "start_time": "2022-05-21T15:46:10.663Z"
   },
   {
    "duration": 834,
    "start_time": "2022-05-21T15:46:25.407Z"
   },
   {
    "duration": 644,
    "start_time": "2022-05-21T15:46:30.107Z"
   },
   {
    "duration": 361,
    "start_time": "2022-05-21T15:47:34.478Z"
   },
   {
    "duration": 512,
    "start_time": "2022-05-21T15:48:06.706Z"
   },
   {
    "duration": 509,
    "start_time": "2022-05-21T15:48:21.304Z"
   },
   {
    "duration": 30,
    "start_time": "2022-05-21T15:48:31.459Z"
   },
   {
    "duration": 28,
    "start_time": "2022-05-21T15:51:45.122Z"
   },
   {
    "duration": 36,
    "start_time": "2022-05-21T16:05:31.247Z"
   },
   {
    "duration": 25,
    "start_time": "2022-05-21T16:06:16.283Z"
   },
   {
    "duration": 14,
    "start_time": "2022-05-21T16:06:43.875Z"
   },
   {
    "duration": 119,
    "start_time": "2022-05-21T16:08:53.451Z"
   },
   {
    "duration": 128,
    "start_time": "2022-05-21T16:10:17.152Z"
   },
   {
    "duration": 316,
    "start_time": "2022-05-21T16:10:33.154Z"
   },
   {
    "duration": 342,
    "start_time": "2022-05-21T16:10:50.069Z"
   },
   {
    "duration": 4,
    "start_time": "2022-05-21T16:11:00.088Z"
   },
   {
    "duration": 13,
    "start_time": "2022-05-21T16:11:02.217Z"
   },
   {
    "duration": 356,
    "start_time": "2022-05-21T16:11:53.447Z"
   },
   {
    "duration": 28,
    "start_time": "2022-05-21T16:12:11.119Z"
   },
   {
    "duration": 155,
    "start_time": "2022-05-21T16:12:18.566Z"
   },
   {
    "duration": 441,
    "start_time": "2022-05-21T16:12:59.595Z"
   },
   {
    "duration": 302,
    "start_time": "2022-05-21T16:13:54.032Z"
   },
   {
    "duration": 263,
    "start_time": "2022-05-21T16:39:05.694Z"
   },
   {
    "duration": 202,
    "start_time": "2022-05-21T16:40:06.468Z"
   },
   {
    "duration": 216,
    "start_time": "2022-05-21T16:42:02.980Z"
   },
   {
    "duration": 140,
    "start_time": "2022-05-21T16:47:24.049Z"
   },
   {
    "duration": 144,
    "start_time": "2022-05-21T16:47:33.632Z"
   },
   {
    "duration": 246,
    "start_time": "2022-05-21T16:49:01.377Z"
   },
   {
    "duration": 197,
    "start_time": "2022-05-21T16:49:13.494Z"
   },
   {
    "duration": 182,
    "start_time": "2022-05-21T16:49:49.529Z"
   },
   {
    "duration": 13,
    "start_time": "2022-05-21T16:50:15.595Z"
   },
   {
    "duration": 26,
    "start_time": "2022-05-21T17:30:37.964Z"
   },
   {
    "duration": 15,
    "start_time": "2022-05-21T17:30:49.104Z"
   },
   {
    "duration": 8,
    "start_time": "2022-05-21T17:30:52.017Z"
   },
   {
    "duration": 18,
    "start_time": "2022-05-21T17:30:57.564Z"
   },
   {
    "duration": 11,
    "start_time": "2022-05-21T17:31:06.911Z"
   },
   {
    "duration": 12,
    "start_time": "2022-05-21T17:31:13.680Z"
   },
   {
    "duration": 17,
    "start_time": "2022-05-21T17:31:45.913Z"
   },
   {
    "duration": 16,
    "start_time": "2022-05-21T17:33:04.780Z"
   },
   {
    "duration": 185,
    "start_time": "2022-05-21T17:33:50.688Z"
   },
   {
    "duration": 241,
    "start_time": "2022-05-21T17:34:40.744Z"
   },
   {
    "duration": 19,
    "start_time": "2022-05-21T17:34:55.575Z"
   },
   {
    "duration": 355,
    "start_time": "2022-05-21T17:34:57.648Z"
   },
   {
    "duration": 211,
    "start_time": "2022-05-21T17:35:15.468Z"
   },
   {
    "duration": 206,
    "start_time": "2022-05-21T17:35:50.149Z"
   },
   {
    "duration": 17,
    "start_time": "2022-05-21T17:42:32.312Z"
   },
   {
    "duration": 202,
    "start_time": "2022-05-21T17:42:38.064Z"
   },
   {
    "duration": 17,
    "start_time": "2022-05-21T17:43:18.228Z"
   },
   {
    "duration": 22,
    "start_time": "2022-05-21T17:43:25.183Z"
   },
   {
    "duration": 8,
    "start_time": "2022-05-21T17:44:16.191Z"
   },
   {
    "duration": 8,
    "start_time": "2022-05-21T17:44:24.696Z"
   },
   {
    "duration": 227,
    "start_time": "2022-05-21T17:44:55.275Z"
   },
   {
    "duration": 1130,
    "start_time": "2022-05-21T17:45:16.233Z"
   },
   {
    "duration": 21,
    "start_time": "2022-05-21T17:45:28.494Z"
   },
   {
    "duration": 5,
    "start_time": "2022-05-21T17:45:34.268Z"
   },
   {
    "duration": 5,
    "start_time": "2022-05-21T17:45:39.969Z"
   },
   {
    "duration": 58,
    "start_time": "2022-05-21T17:46:11.762Z"
   },
   {
    "duration": 1137,
    "start_time": "2022-05-21T17:46:16.432Z"
   },
   {
    "duration": 1451,
    "start_time": "2022-05-21T17:47:01.291Z"
   },
   {
    "duration": 23,
    "start_time": "2022-05-21T17:50:43.964Z"
   },
   {
    "duration": 24,
    "start_time": "2022-05-21T17:51:41.723Z"
   },
   {
    "duration": 6,
    "start_time": "2022-05-21T17:54:08.225Z"
   },
   {
    "duration": 18,
    "start_time": "2022-05-21T17:58:07.531Z"
   },
   {
    "duration": 316,
    "start_time": "2022-05-21T17:58:20.357Z"
   },
   {
    "duration": 306,
    "start_time": "2022-05-21T17:58:31.070Z"
   },
   {
    "duration": 21,
    "start_time": "2022-05-21T18:01:02.232Z"
   },
   {
    "duration": 138,
    "start_time": "2022-05-21T18:01:13.753Z"
   },
   {
    "duration": 139,
    "start_time": "2022-05-21T18:01:15.897Z"
   },
   {
    "duration": 243,
    "start_time": "2022-05-21T18:01:44.268Z"
   },
   {
    "duration": 124,
    "start_time": "2022-05-21T18:01:49.400Z"
   },
   {
    "duration": 237,
    "start_time": "2022-05-21T18:02:27.097Z"
   },
   {
    "duration": 179,
    "start_time": "2022-05-21T18:03:48.520Z"
   },
   {
    "duration": 519,
    "start_time": "2022-05-21T18:03:59.562Z"
   },
   {
    "duration": 507,
    "start_time": "2022-05-21T18:04:13.620Z"
   },
   {
    "duration": 42,
    "start_time": "2022-05-21T18:04:36.407Z"
   },
   {
    "duration": 507,
    "start_time": "2022-05-21T18:04:38.603Z"
   },
   {
    "duration": 725,
    "start_time": "2022-05-21T18:05:06.799Z"
   },
   {
    "duration": 25,
    "start_time": "2022-05-21T18:05:33.055Z"
   },
   {
    "duration": 535,
    "start_time": "2022-05-21T18:05:39.375Z"
   },
   {
    "duration": 29,
    "start_time": "2022-05-21T18:06:46.107Z"
   },
   {
    "duration": 17,
    "start_time": "2022-05-21T18:06:50.467Z"
   },
   {
    "duration": 8,
    "start_time": "2022-05-21T18:07:27.885Z"
   },
   {
    "duration": 10,
    "start_time": "2022-05-21T18:07:31.657Z"
   },
   {
    "duration": 15,
    "start_time": "2022-05-21T18:07:35.670Z"
   },
   {
    "duration": 7,
    "start_time": "2022-05-21T18:07:38.865Z"
   },
   {
    "duration": 11,
    "start_time": "2022-05-21T18:07:43.024Z"
   },
   {
    "duration": 19,
    "start_time": "2022-05-21T18:07:52.154Z"
   },
   {
    "duration": 26,
    "start_time": "2022-05-21T18:08:31.858Z"
   },
   {
    "duration": 7,
    "start_time": "2022-05-21T18:08:40.336Z"
   },
   {
    "duration": 427,
    "start_time": "2022-05-21T18:08:44.765Z"
   },
   {
    "duration": 17,
    "start_time": "2022-05-21T18:08:57.416Z"
   },
   {
    "duration": 16,
    "start_time": "2022-05-21T18:09:06.763Z"
   },
   {
    "duration": 12,
    "start_time": "2022-05-21T18:09:14.394Z"
   },
   {
    "duration": 13,
    "start_time": "2022-05-21T18:09:30.680Z"
   },
   {
    "duration": 13,
    "start_time": "2022-05-21T18:09:36.129Z"
   },
   {
    "duration": 14,
    "start_time": "2022-05-21T18:09:47.527Z"
   },
   {
    "duration": 12,
    "start_time": "2022-05-21T18:10:10.617Z"
   },
   {
    "duration": 9,
    "start_time": "2022-05-21T18:10:34.857Z"
   },
   {
    "duration": 11,
    "start_time": "2022-05-21T18:10:41.291Z"
   },
   {
    "duration": 192,
    "start_time": "2022-05-21T18:12:20.239Z"
   },
   {
    "duration": 210,
    "start_time": "2022-05-21T18:12:26.262Z"
   },
   {
    "duration": 192,
    "start_time": "2022-05-21T18:12:28.763Z"
   },
   {
    "duration": 199,
    "start_time": "2022-05-21T18:12:30.485Z"
   },
   {
    "duration": 610,
    "start_time": "2022-05-21T18:12:34.898Z"
   },
   {
    "duration": 592,
    "start_time": "2022-05-21T18:12:46.951Z"
   },
   {
    "duration": 533,
    "start_time": "2022-05-21T18:12:53.585Z"
   },
   {
    "duration": 9,
    "start_time": "2022-05-21T18:17:14.865Z"
   },
   {
    "duration": 4,
    "start_time": "2022-05-21T18:17:18.386Z"
   },
   {
    "duration": 13,
    "start_time": "2022-05-21T18:17:54.904Z"
   },
   {
    "duration": 197,
    "start_time": "2022-05-21T18:18:40.199Z"
   },
   {
    "duration": 373,
    "start_time": "2022-05-21T18:18:47.007Z"
   },
   {
    "duration": 15,
    "start_time": "2022-05-21T18:19:03.733Z"
   },
   {
    "duration": 213,
    "start_time": "2022-05-21T18:19:14.703Z"
   },
   {
    "duration": 198,
    "start_time": "2022-05-21T18:19:40.089Z"
   },
   {
    "duration": 209,
    "start_time": "2022-05-21T18:19:44.896Z"
   },
   {
    "duration": 207,
    "start_time": "2022-05-21T18:20:32.162Z"
   },
   {
    "duration": 207,
    "start_time": "2022-05-21T18:20:58.725Z"
   },
   {
    "duration": 216,
    "start_time": "2022-05-21T18:30:24.064Z"
   },
   {
    "duration": 226,
    "start_time": "2022-05-21T18:31:28.327Z"
   },
   {
    "duration": 208,
    "start_time": "2022-05-21T18:31:30.181Z"
   },
   {
    "duration": 30,
    "start_time": "2022-05-21T18:51:11.307Z"
   },
   {
    "duration": 27,
    "start_time": "2022-05-21T18:51:20.309Z"
   },
   {
    "duration": 16,
    "start_time": "2022-05-21T19:35:29.852Z"
   },
   {
    "duration": 16,
    "start_time": "2022-05-21T19:35:53.440Z"
   },
   {
    "duration": 14,
    "start_time": "2022-05-21T19:36:00.105Z"
   },
   {
    "duration": 2,
    "start_time": "2022-05-21T19:43:21.710Z"
   },
   {
    "duration": 14,
    "start_time": "2022-05-21T19:43:58.297Z"
   },
   {
    "duration": 20,
    "start_time": "2022-05-21T19:44:06.071Z"
   },
   {
    "duration": 25,
    "start_time": "2022-05-21T19:44:14.796Z"
   },
   {
    "duration": 16,
    "start_time": "2022-05-21T19:45:32.184Z"
   },
   {
    "duration": 10,
    "start_time": "2022-05-21T19:46:06.338Z"
   },
   {
    "duration": 13,
    "start_time": "2022-05-21T19:46:47.848Z"
   },
   {
    "duration": 244,
    "start_time": "2022-05-21T19:47:12.479Z"
   },
   {
    "duration": 146,
    "start_time": "2022-05-21T19:47:21.500Z"
   },
   {
    "duration": 9,
    "start_time": "2022-05-21T19:47:47.221Z"
   },
   {
    "duration": 9,
    "start_time": "2022-05-21T19:47:54.111Z"
   },
   {
    "duration": 134,
    "start_time": "2022-05-21T19:48:02.344Z"
   },
   {
    "duration": 139,
    "start_time": "2022-05-21T19:49:30.589Z"
   },
   {
    "duration": 140,
    "start_time": "2022-05-21T19:49:39.380Z"
   },
   {
    "duration": 141,
    "start_time": "2022-05-21T19:49:45.707Z"
   },
   {
    "duration": 148,
    "start_time": "2022-05-21T19:50:52.213Z"
   },
   {
    "duration": 269,
    "start_time": "2022-05-21T19:50:58.465Z"
   },
   {
    "duration": 21,
    "start_time": "2022-05-21T19:52:44.896Z"
   },
   {
    "duration": 8,
    "start_time": "2022-05-21T19:52:49.240Z"
   },
   {
    "duration": 304,
    "start_time": "2022-05-21T19:54:40.715Z"
   },
   {
    "duration": 521,
    "start_time": "2022-05-21T19:55:56.126Z"
   },
   {
    "duration": 377,
    "start_time": "2022-05-21T19:56:39.719Z"
   },
   {
    "duration": 415,
    "start_time": "2022-05-21T19:56:47.505Z"
   },
   {
    "duration": 388,
    "start_time": "2022-05-21T19:58:19.045Z"
   },
   {
    "duration": 476,
    "start_time": "2022-05-21T20:02:45.316Z"
   },
   {
    "duration": 9,
    "start_time": "2022-05-21T20:06:03.700Z"
   },
   {
    "duration": 365,
    "start_time": "2022-05-21T20:06:22.676Z"
   },
   {
    "duration": 384,
    "start_time": "2022-05-21T20:07:27.294Z"
   },
   {
    "duration": 9,
    "start_time": "2022-05-21T20:07:44.171Z"
   },
   {
    "duration": 400,
    "start_time": "2022-05-21T20:08:25.878Z"
   },
   {
    "duration": 23,
    "start_time": "2022-05-21T20:09:02.361Z"
   },
   {
    "duration": 23,
    "start_time": "2022-05-21T20:09:12.382Z"
   },
   {
    "duration": 360,
    "start_time": "2022-05-21T20:09:16.259Z"
   },
   {
    "duration": 20,
    "start_time": "2022-05-21T20:11:05.901Z"
   },
   {
    "duration": 565,
    "start_time": "2022-05-21T20:11:13.908Z"
   },
   {
    "duration": 9,
    "start_time": "2022-05-21T20:20:27.392Z"
   },
   {
    "duration": 5,
    "start_time": "2022-05-21T20:22:14.628Z"
   },
   {
    "duration": 9,
    "start_time": "2022-05-21T20:23:27.687Z"
   },
   {
    "duration": 10,
    "start_time": "2022-05-21T20:23:33.781Z"
   },
   {
    "duration": 9,
    "start_time": "2022-05-21T20:23:38.771Z"
   },
   {
    "duration": 9,
    "start_time": "2022-05-21T20:23:39.411Z"
   },
   {
    "duration": 9,
    "start_time": "2022-05-21T20:23:42.374Z"
   },
   {
    "duration": 8,
    "start_time": "2022-05-21T20:23:46.028Z"
   },
   {
    "duration": 9,
    "start_time": "2022-05-21T20:23:51.032Z"
   },
   {
    "duration": 22,
    "start_time": "2022-05-21T20:23:57.202Z"
   },
   {
    "duration": 8,
    "start_time": "2022-05-21T20:24:12.768Z"
   },
   {
    "duration": 4,
    "start_time": "2022-05-21T20:24:21.601Z"
   },
   {
    "duration": 9,
    "start_time": "2022-05-21T20:25:23.776Z"
   },
   {
    "duration": 733,
    "start_time": "2022-05-21T20:25:39.314Z"
   },
   {
    "duration": 4,
    "start_time": "2022-05-21T20:25:43.940Z"
   },
   {
    "duration": 9,
    "start_time": "2022-05-21T20:29:52.471Z"
   },
   {
    "duration": 5,
    "start_time": "2022-05-21T20:30:20.196Z"
   },
   {
    "duration": 5,
    "start_time": "2022-05-21T20:30:44.205Z"
   },
   {
    "duration": 1107,
    "start_time": "2022-05-21T20:38:37.560Z"
   },
   {
    "duration": 39,
    "start_time": "2022-05-21T20:38:38.669Z"
   },
   {
    "duration": 7,
    "start_time": "2022-05-21T20:38:38.709Z"
   },
   {
    "duration": 15,
    "start_time": "2022-05-21T20:38:38.717Z"
   },
   {
    "duration": 25,
    "start_time": "2022-05-21T20:38:38.733Z"
   },
   {
    "duration": 5,
    "start_time": "2022-05-21T20:38:38.759Z"
   },
   {
    "duration": 10,
    "start_time": "2022-05-21T20:38:38.765Z"
   },
   {
    "duration": 17,
    "start_time": "2022-05-21T20:38:38.777Z"
   },
   {
    "duration": 17,
    "start_time": "2022-05-21T20:38:38.795Z"
   },
   {
    "duration": 7,
    "start_time": "2022-05-21T20:38:38.813Z"
   },
   {
    "duration": 32,
    "start_time": "2022-05-21T20:38:38.822Z"
   },
   {
    "duration": 5,
    "start_time": "2022-05-21T20:38:38.855Z"
   },
   {
    "duration": 206,
    "start_time": "2022-05-21T20:38:38.861Z"
   },
   {
    "duration": 4,
    "start_time": "2022-05-21T20:38:39.070Z"
   },
   {
    "duration": 13,
    "start_time": "2022-05-21T20:38:39.076Z"
   },
   {
    "duration": 4,
    "start_time": "2022-05-21T20:38:39.090Z"
   },
   {
    "duration": 12,
    "start_time": "2022-05-21T20:38:39.096Z"
   },
   {
    "duration": 18,
    "start_time": "2022-05-21T20:38:39.109Z"
   },
   {
    "duration": 34,
    "start_time": "2022-05-21T20:38:39.129Z"
   },
   {
    "duration": 22,
    "start_time": "2022-05-21T20:38:39.165Z"
   },
   {
    "duration": 12,
    "start_time": "2022-05-21T20:38:39.189Z"
   },
   {
    "duration": 16,
    "start_time": "2022-05-21T20:38:39.202Z"
   },
   {
    "duration": 4,
    "start_time": "2022-05-21T20:38:39.220Z"
   },
   {
    "duration": 28,
    "start_time": "2022-05-21T20:38:39.225Z"
   },
   {
    "duration": 7,
    "start_time": "2022-05-21T20:38:39.254Z"
   },
   {
    "duration": 13,
    "start_time": "2022-05-21T20:38:39.262Z"
   },
   {
    "duration": 6,
    "start_time": "2022-05-21T20:38:39.277Z"
   },
   {
    "duration": 12,
    "start_time": "2022-05-21T20:38:39.284Z"
   },
   {
    "duration": 12,
    "start_time": "2022-05-21T20:38:39.297Z"
   },
   {
    "duration": 53,
    "start_time": "2022-05-21T20:38:39.311Z"
   },
   {
    "duration": 342,
    "start_time": "2022-05-21T20:38:39.366Z"
   },
   {
    "duration": 19,
    "start_time": "2022-05-21T20:38:39.710Z"
   },
   {
    "duration": 27,
    "start_time": "2022-05-21T20:38:39.731Z"
   },
   {
    "duration": 989,
    "start_time": "2022-05-21T20:38:39.759Z"
   },
   {
    "duration": 17,
    "start_time": "2022-05-21T20:38:40.751Z"
   },
   {
    "duration": 186,
    "start_time": "2022-05-21T20:38:40.769Z"
   },
   {
    "duration": 1045,
    "start_time": "2022-05-21T20:38:40.956Z"
   },
   {
    "duration": 26,
    "start_time": "2022-05-21T20:38:42.003Z"
   },
   {
    "duration": 185,
    "start_time": "2022-05-21T20:38:42.031Z"
   },
   {
    "duration": 187,
    "start_time": "2022-05-21T20:38:42.218Z"
   },
   {
    "duration": 18,
    "start_time": "2022-05-21T20:38:42.408Z"
   },
   {
    "duration": 655,
    "start_time": "2022-05-21T20:38:42.428Z"
   },
   {
    "duration": 11,
    "start_time": "2022-05-21T20:38:43.084Z"
   },
   {
    "duration": 11,
    "start_time": "2022-05-21T20:38:43.097Z"
   },
   {
    "duration": 211,
    "start_time": "2022-05-21T20:38:43.110Z"
   },
   {
    "duration": 195,
    "start_time": "2022-05-21T20:38:43.323Z"
   },
   {
    "duration": 32,
    "start_time": "2022-05-21T20:38:43.520Z"
   },
   {
    "duration": 362,
    "start_time": "2022-05-21T20:38:43.553Z"
   },
   {
    "duration": 384,
    "start_time": "2022-05-21T20:38:43.916Z"
   },
   {
    "duration": 368,
    "start_time": "2022-05-21T20:38:44.302Z"
   },
   {
    "duration": 10,
    "start_time": "2022-05-21T20:38:44.672Z"
   },
   {
    "duration": 7,
    "start_time": "2022-05-21T20:38:44.684Z"
   },
   {
    "duration": 4,
    "start_time": "2022-05-21T20:38:44.693Z"
   },
   {
    "duration": 10,
    "start_time": "2022-05-21T20:38:44.699Z"
   },
   {
    "duration": 5,
    "start_time": "2022-05-21T20:38:44.711Z"
   },
   {
    "duration": 35,
    "start_time": "2022-05-21T20:38:44.717Z"
   },
   {
    "duration": 1231,
    "start_time": "2022-05-22T04:45:36.488Z"
   },
   {
    "duration": 72,
    "start_time": "2022-05-22T04:45:37.722Z"
   },
   {
    "duration": 6,
    "start_time": "2022-05-22T04:45:37.795Z"
   },
   {
    "duration": 21,
    "start_time": "2022-05-22T04:45:37.804Z"
   },
   {
    "duration": 15,
    "start_time": "2022-05-22T04:45:37.826Z"
   },
   {
    "duration": 5,
    "start_time": "2022-05-22T04:45:37.842Z"
   },
   {
    "duration": 12,
    "start_time": "2022-05-22T04:45:37.848Z"
   },
   {
    "duration": 23,
    "start_time": "2022-05-22T04:45:37.861Z"
   },
   {
    "duration": 17,
    "start_time": "2022-05-22T04:45:37.885Z"
   },
   {
    "duration": 25,
    "start_time": "2022-05-22T04:45:37.904Z"
   },
   {
    "duration": 23,
    "start_time": "2022-05-22T04:45:37.930Z"
   },
   {
    "duration": 5,
    "start_time": "2022-05-22T04:45:37.955Z"
   },
   {
    "duration": 202,
    "start_time": "2022-05-22T04:45:37.961Z"
   },
   {
    "duration": 5,
    "start_time": "2022-05-22T04:45:38.165Z"
   },
   {
    "duration": 11,
    "start_time": "2022-05-22T04:45:38.171Z"
   },
   {
    "duration": 5,
    "start_time": "2022-05-22T04:45:38.184Z"
   },
   {
    "duration": 8,
    "start_time": "2022-05-22T04:45:38.190Z"
   },
   {
    "duration": 42,
    "start_time": "2022-05-22T04:45:38.200Z"
   },
   {
    "duration": 23,
    "start_time": "2022-05-22T04:45:38.244Z"
   },
   {
    "duration": 11,
    "start_time": "2022-05-22T04:45:38.268Z"
   },
   {
    "duration": 24,
    "start_time": "2022-05-22T04:45:38.280Z"
   },
   {
    "duration": 39,
    "start_time": "2022-05-22T04:45:38.306Z"
   },
   {
    "duration": 6,
    "start_time": "2022-05-22T04:45:38.347Z"
   },
   {
    "duration": 26,
    "start_time": "2022-05-22T04:45:38.355Z"
   },
   {
    "duration": 8,
    "start_time": "2022-05-22T04:45:38.382Z"
   },
   {
    "duration": 17,
    "start_time": "2022-05-22T04:45:38.392Z"
   },
   {
    "duration": 7,
    "start_time": "2022-05-22T04:45:38.426Z"
   },
   {
    "duration": 13,
    "start_time": "2022-05-22T04:45:38.437Z"
   },
   {
    "duration": 13,
    "start_time": "2022-05-22T04:45:38.452Z"
   },
   {
    "duration": 22,
    "start_time": "2022-05-22T04:45:38.467Z"
   },
   {
    "duration": 352,
    "start_time": "2022-05-22T04:45:38.490Z"
   },
   {
    "duration": 18,
    "start_time": "2022-05-22T04:45:38.844Z"
   },
   {
    "duration": 14,
    "start_time": "2022-05-22T04:45:38.864Z"
   },
   {
    "duration": 1010,
    "start_time": "2022-05-22T04:45:38.880Z"
   },
   {
    "duration": 17,
    "start_time": "2022-05-22T04:45:39.892Z"
   },
   {
    "duration": 203,
    "start_time": "2022-05-22T04:45:39.911Z"
   },
   {
    "duration": 1078,
    "start_time": "2022-05-22T04:45:40.115Z"
   },
   {
    "duration": 35,
    "start_time": "2022-05-22T04:45:41.195Z"
   },
   {
    "duration": 216,
    "start_time": "2022-05-22T04:45:41.232Z"
   },
   {
    "duration": 198,
    "start_time": "2022-05-22T04:45:41.449Z"
   },
   {
    "duration": 19,
    "start_time": "2022-05-22T04:45:41.648Z"
   },
   {
    "duration": 662,
    "start_time": "2022-05-22T04:45:41.668Z"
   },
   {
    "duration": 12,
    "start_time": "2022-05-22T04:45:42.332Z"
   },
   {
    "duration": 17,
    "start_time": "2022-05-22T04:45:42.346Z"
   },
   {
    "duration": 218,
    "start_time": "2022-05-22T04:45:42.365Z"
   },
   {
    "duration": 198,
    "start_time": "2022-05-22T04:45:42.585Z"
   },
   {
    "duration": 24,
    "start_time": "2022-05-22T04:45:42.785Z"
   },
   {
    "duration": 400,
    "start_time": "2022-05-22T04:45:42.810Z"
   },
   {
    "duration": 386,
    "start_time": "2022-05-22T04:45:43.211Z"
   },
   {
    "duration": 423,
    "start_time": "2022-05-22T04:45:43.598Z"
   },
   {
    "duration": 10,
    "start_time": "2022-05-22T04:45:44.022Z"
   },
   {
    "duration": 10,
    "start_time": "2022-05-22T04:45:44.034Z"
   },
   {
    "duration": 8,
    "start_time": "2022-05-22T04:45:44.045Z"
   },
   {
    "duration": 13,
    "start_time": "2022-05-22T04:45:44.054Z"
   },
   {
    "duration": 5,
    "start_time": "2022-05-22T04:45:44.069Z"
   },
   {
    "duration": 6,
    "start_time": "2022-05-22T04:45:44.076Z"
   },
   {
    "duration": 37,
    "start_time": "2022-05-22T05:04:58.368Z"
   }
  ],
  "kernelspec": {
   "display_name": "Python 3 (ipykernel)",
   "language": "python",
   "name": "python3"
  },
  "language_info": {
   "codemirror_mode": {
    "name": "ipython",
    "version": 3
   },
   "file_extension": ".py",
   "mimetype": "text/x-python",
   "name": "python",
   "nbconvert_exporter": "python",
   "pygments_lexer": "ipython3",
   "version": "3.9.6"
  },
  "toc": {
   "base_numbering": 1,
   "nav_menu": {},
   "number_sections": true,
   "sideBar": true,
   "skip_h1_title": true,
   "title_cell": "Table of Contents",
   "title_sidebar": "Contents",
   "toc_cell": false,
   "toc_position": {},
   "toc_section_display": true,
   "toc_window_display": false
  }
 },
 "nbformat": 4,
 "nbformat_minor": 2
}
