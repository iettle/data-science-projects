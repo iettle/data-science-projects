{
 "cells": [
  {
   "cell_type": "markdown",
   "metadata": {},
   "source": [
    "# Choosing the Best Location for a New Well\n",
    "In this project, OilyGiant mining company is aiming to build a new well, and they need to determine which of three locations will be in the most profitable. First, the three datasets will be observed and cleaned. Next, linear regression will be run on each dataset. Then, bootstrapping will be used to estimate the most profitable location. "
   ]
  },
  {
   "cell_type": "markdown",
   "metadata": {},
   "source": [
    "## Initialization\n",
    "\n",
    "To begin, I will import libraries needed throughout the project, load the dataset, and observe the data."
   ]
  },
  {
   "cell_type": "code",
   "execution_count": 27,
   "metadata": {},
   "outputs": [],
   "source": [
    "# import libraries\n",
    "import pandas as pd\n",
    "from sklearn.model_selection import train_test_split\n",
    "from sklearn.linear_model import LinearRegression\n",
    "from sklearn.metrics import mean_squared_error\n",
    "from scipy import stats as st\n",
    "import numpy as np"
   ]
  },
  {
   "cell_type": "markdown",
   "metadata": {},
   "source": [
    "### Loading Datasets"
   ]
  },
  {
   "cell_type": "code",
   "execution_count": 2,
   "metadata": {},
   "outputs": [],
   "source": [
    "# loading datasets \n",
    "try:\n",
    "    geo0 = pd.read_csv('/datasets/geo_data_0.csv')\n",
    "    geo1 = pd.read_csv('/datasets/geo_data_1.csv')\n",
    "    geo2 = pd.read_csv('/datasets/geo_data_2.csv')\n",
    "except:\n",
    "    print(\"One or more data files could not be read.\")"
   ]
  },
  {
   "cell_type": "markdown",
   "metadata": {},
   "source": [
    "### Check Data"
   ]
  },
  {
   "cell_type": "code",
   "execution_count": 3,
   "metadata": {},
   "outputs": [
    {
     "name": "stdout",
     "output_type": "stream",
     "text": [
      "<class 'pandas.core.frame.DataFrame'>\n",
      "RangeIndex: 100000 entries, 0 to 99999\n",
      "Data columns (total 5 columns):\n",
      " #   Column   Non-Null Count   Dtype  \n",
      "---  ------   --------------   -----  \n",
      " 0   id       100000 non-null  object \n",
      " 1   f0       100000 non-null  float64\n",
      " 2   f1       100000 non-null  float64\n",
      " 3   f2       100000 non-null  float64\n",
      " 4   product  100000 non-null  float64\n",
      "dtypes: float64(4), object(1)\n",
      "memory usage: 3.8+ MB\n"
     ]
    }
   ],
   "source": [
    "# view data of geo0\n",
    "geo0.info()"
   ]
  },
  {
   "cell_type": "code",
   "execution_count": 4,
   "metadata": {},
   "outputs": [
    {
     "data": {
      "text/html": [
       "<div>\n",
       "<style scoped>\n",
       "    .dataframe tbody tr th:only-of-type {\n",
       "        vertical-align: middle;\n",
       "    }\n",
       "\n",
       "    .dataframe tbody tr th {\n",
       "        vertical-align: top;\n",
       "    }\n",
       "\n",
       "    .dataframe thead th {\n",
       "        text-align: right;\n",
       "    }\n",
       "</style>\n",
       "<table border=\"1\" class=\"dataframe\">\n",
       "  <thead>\n",
       "    <tr style=\"text-align: right;\">\n",
       "      <th></th>\n",
       "      <th>id</th>\n",
       "      <th>f0</th>\n",
       "      <th>f1</th>\n",
       "      <th>f2</th>\n",
       "      <th>product</th>\n",
       "    </tr>\n",
       "  </thead>\n",
       "  <tbody>\n",
       "    <tr>\n",
       "      <th>0</th>\n",
       "      <td>txEyH</td>\n",
       "      <td>0.705745</td>\n",
       "      <td>-0.497823</td>\n",
       "      <td>1.221170</td>\n",
       "      <td>105.280062</td>\n",
       "    </tr>\n",
       "    <tr>\n",
       "      <th>1</th>\n",
       "      <td>2acmU</td>\n",
       "      <td>1.334711</td>\n",
       "      <td>-0.340164</td>\n",
       "      <td>4.365080</td>\n",
       "      <td>73.037750</td>\n",
       "    </tr>\n",
       "    <tr>\n",
       "      <th>2</th>\n",
       "      <td>409Wp</td>\n",
       "      <td>1.022732</td>\n",
       "      <td>0.151990</td>\n",
       "      <td>1.419926</td>\n",
       "      <td>85.265647</td>\n",
       "    </tr>\n",
       "    <tr>\n",
       "      <th>3</th>\n",
       "      <td>iJLyR</td>\n",
       "      <td>-0.032172</td>\n",
       "      <td>0.139033</td>\n",
       "      <td>2.978566</td>\n",
       "      <td>168.620776</td>\n",
       "    </tr>\n",
       "    <tr>\n",
       "      <th>4</th>\n",
       "      <td>Xdl7t</td>\n",
       "      <td>1.988431</td>\n",
       "      <td>0.155413</td>\n",
       "      <td>4.751769</td>\n",
       "      <td>154.036647</td>\n",
       "    </tr>\n",
       "  </tbody>\n",
       "</table>\n",
       "</div>"
      ],
      "text/plain": [
       "      id        f0        f1        f2     product\n",
       "0  txEyH  0.705745 -0.497823  1.221170  105.280062\n",
       "1  2acmU  1.334711 -0.340164  4.365080   73.037750\n",
       "2  409Wp  1.022732  0.151990  1.419926   85.265647\n",
       "3  iJLyR -0.032172  0.139033  2.978566  168.620776\n",
       "4  Xdl7t  1.988431  0.155413  4.751769  154.036647"
      ]
     },
     "execution_count": 4,
     "metadata": {},
     "output_type": "execute_result"
    }
   ],
   "source": [
    "# observe first few rows of geo0\n",
    "geo0.head()"
   ]
  },
  {
   "cell_type": "code",
   "execution_count": 5,
   "metadata": {},
   "outputs": [
    {
     "name": "stdout",
     "output_type": "stream",
     "text": [
      "<class 'pandas.core.frame.DataFrame'>\n",
      "RangeIndex: 100000 entries, 0 to 99999\n",
      "Data columns (total 5 columns):\n",
      " #   Column   Non-Null Count   Dtype  \n",
      "---  ------   --------------   -----  \n",
      " 0   id       100000 non-null  object \n",
      " 1   f0       100000 non-null  float64\n",
      " 2   f1       100000 non-null  float64\n",
      " 3   f2       100000 non-null  float64\n",
      " 4   product  100000 non-null  float64\n",
      "dtypes: float64(4), object(1)\n",
      "memory usage: 3.8+ MB\n"
     ]
    }
   ],
   "source": [
    "# view data of geo1\n",
    "geo1.info()"
   ]
  },
  {
   "cell_type": "code",
   "execution_count": 6,
   "metadata": {},
   "outputs": [
    {
     "data": {
      "text/html": [
       "<div>\n",
       "<style scoped>\n",
       "    .dataframe tbody tr th:only-of-type {\n",
       "        vertical-align: middle;\n",
       "    }\n",
       "\n",
       "    .dataframe tbody tr th {\n",
       "        vertical-align: top;\n",
       "    }\n",
       "\n",
       "    .dataframe thead th {\n",
       "        text-align: right;\n",
       "    }\n",
       "</style>\n",
       "<table border=\"1\" class=\"dataframe\">\n",
       "  <thead>\n",
       "    <tr style=\"text-align: right;\">\n",
       "      <th></th>\n",
       "      <th>id</th>\n",
       "      <th>f0</th>\n",
       "      <th>f1</th>\n",
       "      <th>f2</th>\n",
       "      <th>product</th>\n",
       "    </tr>\n",
       "  </thead>\n",
       "  <tbody>\n",
       "    <tr>\n",
       "      <th>0</th>\n",
       "      <td>kBEdx</td>\n",
       "      <td>-15.001348</td>\n",
       "      <td>-8.276000</td>\n",
       "      <td>-0.005876</td>\n",
       "      <td>3.179103</td>\n",
       "    </tr>\n",
       "    <tr>\n",
       "      <th>1</th>\n",
       "      <td>62mP7</td>\n",
       "      <td>14.272088</td>\n",
       "      <td>-3.475083</td>\n",
       "      <td>0.999183</td>\n",
       "      <td>26.953261</td>\n",
       "    </tr>\n",
       "    <tr>\n",
       "      <th>2</th>\n",
       "      <td>vyE1P</td>\n",
       "      <td>6.263187</td>\n",
       "      <td>-5.948386</td>\n",
       "      <td>5.001160</td>\n",
       "      <td>134.766305</td>\n",
       "    </tr>\n",
       "    <tr>\n",
       "      <th>3</th>\n",
       "      <td>KcrkZ</td>\n",
       "      <td>-13.081196</td>\n",
       "      <td>-11.506057</td>\n",
       "      <td>4.999415</td>\n",
       "      <td>137.945408</td>\n",
       "    </tr>\n",
       "    <tr>\n",
       "      <th>4</th>\n",
       "      <td>AHL4O</td>\n",
       "      <td>12.702195</td>\n",
       "      <td>-8.147433</td>\n",
       "      <td>5.004363</td>\n",
       "      <td>134.766305</td>\n",
       "    </tr>\n",
       "  </tbody>\n",
       "</table>\n",
       "</div>"
      ],
      "text/plain": [
       "      id         f0         f1        f2     product\n",
       "0  kBEdx -15.001348  -8.276000 -0.005876    3.179103\n",
       "1  62mP7  14.272088  -3.475083  0.999183   26.953261\n",
       "2  vyE1P   6.263187  -5.948386  5.001160  134.766305\n",
       "3  KcrkZ -13.081196 -11.506057  4.999415  137.945408\n",
       "4  AHL4O  12.702195  -8.147433  5.004363  134.766305"
      ]
     },
     "execution_count": 6,
     "metadata": {},
     "output_type": "execute_result"
    }
   ],
   "source": [
    "# observe first few rows of geo1\n",
    "geo1.head()"
   ]
  },
  {
   "cell_type": "code",
   "execution_count": 7,
   "metadata": {},
   "outputs": [
    {
     "name": "stdout",
     "output_type": "stream",
     "text": [
      "<class 'pandas.core.frame.DataFrame'>\n",
      "RangeIndex: 100000 entries, 0 to 99999\n",
      "Data columns (total 5 columns):\n",
      " #   Column   Non-Null Count   Dtype  \n",
      "---  ------   --------------   -----  \n",
      " 0   id       100000 non-null  object \n",
      " 1   f0       100000 non-null  float64\n",
      " 2   f1       100000 non-null  float64\n",
      " 3   f2       100000 non-null  float64\n",
      " 4   product  100000 non-null  float64\n",
      "dtypes: float64(4), object(1)\n",
      "memory usage: 3.8+ MB\n"
     ]
    }
   ],
   "source": [
    "# view data of geo2\n",
    "geo2.info()"
   ]
  },
  {
   "cell_type": "code",
   "execution_count": 8,
   "metadata": {},
   "outputs": [
    {
     "data": {
      "text/html": [
       "<div>\n",
       "<style scoped>\n",
       "    .dataframe tbody tr th:only-of-type {\n",
       "        vertical-align: middle;\n",
       "    }\n",
       "\n",
       "    .dataframe tbody tr th {\n",
       "        vertical-align: top;\n",
       "    }\n",
       "\n",
       "    .dataframe thead th {\n",
       "        text-align: right;\n",
       "    }\n",
       "</style>\n",
       "<table border=\"1\" class=\"dataframe\">\n",
       "  <thead>\n",
       "    <tr style=\"text-align: right;\">\n",
       "      <th></th>\n",
       "      <th>id</th>\n",
       "      <th>f0</th>\n",
       "      <th>f1</th>\n",
       "      <th>f2</th>\n",
       "      <th>product</th>\n",
       "    </tr>\n",
       "  </thead>\n",
       "  <tbody>\n",
       "    <tr>\n",
       "      <th>0</th>\n",
       "      <td>fwXo0</td>\n",
       "      <td>-1.146987</td>\n",
       "      <td>0.963328</td>\n",
       "      <td>-0.828965</td>\n",
       "      <td>27.758673</td>\n",
       "    </tr>\n",
       "    <tr>\n",
       "      <th>1</th>\n",
       "      <td>WJtFt</td>\n",
       "      <td>0.262778</td>\n",
       "      <td>0.269839</td>\n",
       "      <td>-2.530187</td>\n",
       "      <td>56.069697</td>\n",
       "    </tr>\n",
       "    <tr>\n",
       "      <th>2</th>\n",
       "      <td>ovLUW</td>\n",
       "      <td>0.194587</td>\n",
       "      <td>0.289035</td>\n",
       "      <td>-5.586433</td>\n",
       "      <td>62.871910</td>\n",
       "    </tr>\n",
       "    <tr>\n",
       "      <th>3</th>\n",
       "      <td>q6cA6</td>\n",
       "      <td>2.236060</td>\n",
       "      <td>-0.553760</td>\n",
       "      <td>0.930038</td>\n",
       "      <td>114.572842</td>\n",
       "    </tr>\n",
       "    <tr>\n",
       "      <th>4</th>\n",
       "      <td>WPMUX</td>\n",
       "      <td>-0.515993</td>\n",
       "      <td>1.716266</td>\n",
       "      <td>5.899011</td>\n",
       "      <td>149.600746</td>\n",
       "    </tr>\n",
       "  </tbody>\n",
       "</table>\n",
       "</div>"
      ],
      "text/plain": [
       "      id        f0        f1        f2     product\n",
       "0  fwXo0 -1.146987  0.963328 -0.828965   27.758673\n",
       "1  WJtFt  0.262778  0.269839 -2.530187   56.069697\n",
       "2  ovLUW  0.194587  0.289035 -5.586433   62.871910\n",
       "3  q6cA6  2.236060 -0.553760  0.930038  114.572842\n",
       "4  WPMUX -0.515993  1.716266  5.899011  149.600746"
      ]
     },
     "execution_count": 8,
     "metadata": {},
     "output_type": "execute_result"
    }
   ],
   "source": [
    "# observe first few rows of geo2\n",
    "geo2.head()"
   ]
  },
  {
   "cell_type": "markdown",
   "metadata": {},
   "source": [
    "Each dataset has the same columns - the unique well identifier (`id`), three unique features, and `product` (volume of reseves in the oil well). All of the datasets have 100,000 rows with no missing values."
   ]
  },
  {
   "cell_type": "markdown",
   "metadata": {},
   "source": [
    "### Data Cleaning\n",
    "\n",
    "The only cleaning we have to do before preparing the data for our model is dropping the `id` column from each dataset. If we attempt to train a dataset while having this unique identifier in the dataset, the model will get confused and may try to make associations about this column."
   ]
  },
  {
   "cell_type": "code",
   "execution_count": 9,
   "metadata": {},
   "outputs": [],
   "source": [
    "# drop id columns\n",
    "geo0 = geo0.drop(['id'], axis=1)\n",
    "geo1 = geo1.drop(['id'], axis=1)\n",
    "geo2 = geo2.drop(['id'], axis=1)"
   ]
  },
  {
   "cell_type": "code",
   "execution_count": 10,
   "metadata": {},
   "outputs": [
    {
     "data": {
      "text/html": [
       "<div>\n",
       "<style scoped>\n",
       "    .dataframe tbody tr th:only-of-type {\n",
       "        vertical-align: middle;\n",
       "    }\n",
       "\n",
       "    .dataframe tbody tr th {\n",
       "        vertical-align: top;\n",
       "    }\n",
       "\n",
       "    .dataframe thead th {\n",
       "        text-align: right;\n",
       "    }\n",
       "</style>\n",
       "<table border=\"1\" class=\"dataframe\">\n",
       "  <thead>\n",
       "    <tr style=\"text-align: right;\">\n",
       "      <th></th>\n",
       "      <th>f0</th>\n",
       "      <th>f1</th>\n",
       "      <th>f2</th>\n",
       "      <th>product</th>\n",
       "    </tr>\n",
       "  </thead>\n",
       "  <tbody>\n",
       "    <tr>\n",
       "      <th>0</th>\n",
       "      <td>0.705745</td>\n",
       "      <td>-0.497823</td>\n",
       "      <td>1.221170</td>\n",
       "      <td>105.280062</td>\n",
       "    </tr>\n",
       "    <tr>\n",
       "      <th>1</th>\n",
       "      <td>1.334711</td>\n",
       "      <td>-0.340164</td>\n",
       "      <td>4.365080</td>\n",
       "      <td>73.037750</td>\n",
       "    </tr>\n",
       "    <tr>\n",
       "      <th>2</th>\n",
       "      <td>1.022732</td>\n",
       "      <td>0.151990</td>\n",
       "      <td>1.419926</td>\n",
       "      <td>85.265647</td>\n",
       "    </tr>\n",
       "    <tr>\n",
       "      <th>3</th>\n",
       "      <td>-0.032172</td>\n",
       "      <td>0.139033</td>\n",
       "      <td>2.978566</td>\n",
       "      <td>168.620776</td>\n",
       "    </tr>\n",
       "    <tr>\n",
       "      <th>4</th>\n",
       "      <td>1.988431</td>\n",
       "      <td>0.155413</td>\n",
       "      <td>4.751769</td>\n",
       "      <td>154.036647</td>\n",
       "    </tr>\n",
       "  </tbody>\n",
       "</table>\n",
       "</div>"
      ],
      "text/plain": [
       "         f0        f1        f2     product\n",
       "0  0.705745 -0.497823  1.221170  105.280062\n",
       "1  1.334711 -0.340164  4.365080   73.037750\n",
       "2  1.022732  0.151990  1.419926   85.265647\n",
       "3 -0.032172  0.139033  2.978566  168.620776\n",
       "4  1.988431  0.155413  4.751769  154.036647"
      ]
     },
     "execution_count": 10,
     "metadata": {},
     "output_type": "execute_result"
    }
   ],
   "source": [
    "# check new data \n",
    "geo0.head()"
   ]
  },
  {
   "cell_type": "markdown",
   "metadata": {},
   "source": [
    "The `id` column has been dropped."
   ]
  },
  {
   "cell_type": "markdown",
   "metadata": {},
   "source": [
    "## Train + Test Model\n",
    "\n",
    "Linear regression will be used for the model. For each region (geo0, geo1, and geo2), I will split the data into training and validation sets, train each linear regression model on the training sets, and compare the output with our validation set. RSME will be used as our comparison metric."
   ]
  },
  {
   "cell_type": "code",
   "execution_count": 11,
   "metadata": {},
   "outputs": [],
   "source": [
    "# method to get features and target of each dataset\n",
    "def get_features_and_target(data):\n",
    "    features = data.drop(['product'], axis = 1)\n",
    "    target = data['product']\n",
    "    \n",
    "    return features, target"
   ]
  },
  {
   "cell_type": "code",
   "execution_count": 12,
   "metadata": {},
   "outputs": [],
   "source": [
    "# method to predict and return values based on our training set\n",
    "def get_predicted_values_from_regression(features_train, features_valid, target_train):\n",
    "    model = LinearRegression()\n",
    "    model.fit(features_train, target_train)\n",
    "    predicted_valid = model.predict(features_valid)\n",
    "    \n",
    "    return predicted_valid"
   ]
  },
  {
   "cell_type": "code",
   "execution_count": 13,
   "metadata": {},
   "outputs": [],
   "source": [
    "# method to return rmse given our target and our predicted values\n",
    "def get_rmse(target_valid, predicted_valid):\n",
    "    mse = mean_squared_error(target_valid, predicted_valid)\n",
    "    rmse = mse ** 0.5\n",
    "    \n",
    "    return rmse"
   ]
  },
  {
   "cell_type": "markdown",
   "metadata": {},
   "source": [
    "Now that I've defined some methods to call, I will loop through the datasets to calculate the predicted mean and the RMSE."
   ]
  },
  {
   "cell_type": "code",
   "execution_count": 14,
   "metadata": {
    "scrolled": true
   },
   "outputs": [
    {
     "name": "stdout",
     "output_type": "stream",
     "text": [
      "Region 0: Mean - 92.59, RMSE - 37.58\n",
      "Region 1: Mean - 68.73, RMSE - 0.89\n",
      "Region 2: Mean - 94.97, RMSE - 40.03\n"
     ]
    }
   ],
   "source": [
    "# datasets to loop through\n",
    "regions = [geo0, geo1, geo2]\n",
    "\n",
    "# store the valid targets and predictions. each index corresponds with the index in the\n",
    "# regions dataset\n",
    "target_valids = []\n",
    "predicted_valids = []\n",
    "\n",
    "# loop through datasets, calculate predicted_mean and rmse for each based on linear regression\n",
    "for i in range(3):\n",
    "    region = regions[i]\n",
    "    features, target = get_features_and_target(region)\n",
    "    features_train, features_valid, target_train, target_valid = train_test_split(features, target, test_size = 0.25, random_state = 12345)\n",
    "    target_valids.append(target_valid)\n",
    "    \n",
    "    predicted_valid = get_predicted_values_from_regression(features_train, features_valid, target_train)\n",
    "    predicted_valids.append(predicted_valid)\n",
    "    predicted_mean = predicted_valid.mean()\n",
    "        \n",
    "    rmse = get_rmse(target_valid, predicted_valid)\n",
    "    \n",
    "    print(f'Region {i}: Mean - {predicted_mean:.2f}, RMSE - {rmse:.2f}')"
   ]
  },
  {
   "cell_type": "markdown",
   "metadata": {},
   "source": [
    "From the linear regression model, we can see that Regions 0 and 2 had the average volume of predicted reserves (92-94 each). RSME, which we want to be low, displays the difference between our predicted values and actual values. Region 1 had the lowest RMSE in addition to the lowest average prediction, meaning that our Region 1 model was actually the most accurate of our models."
   ]
  },
  {
   "cell_type": "markdown",
   "metadata": {},
   "source": [
    "## Profit Calculation"
   ]
  },
  {
   "cell_type": "markdown",
   "metadata": {},
   "source": [
    "To calculate profit, I will reference the instructions we were given. There are **500 points** in each study, and we need to pick the **best 200** points for our calculation. We want to develop **200 oil wells**, and our total budget is **\\$100 million**. One unit of product (1000 barrels) gives us a revenue of **\\$4500**.\n",
    "\n",
    "First, I will calculate the volume of reserves sufficient for developing a new well without losses."
   ]
  },
  {
   "cell_type": "code",
   "execution_count": 15,
   "metadata": {},
   "outputs": [
    {
     "name": "stdout",
     "output_type": "stream",
     "text": [
      "Volume of Reserves Without Losses: 111.11 \n"
     ]
    }
   ],
   "source": [
    "points = 200\n",
    "total_points = 500\n",
    "budget = 100000000\n",
    "revenue_per_unit = 4500\n",
    "revenue_per_barrel = revenue_per_unit / 1000\n",
    "\n",
    "# calculate the cost per well - how much to spend per point\n",
    "cost_per_well = budget / points\n",
    "\n",
    "# calculate the volume of reserves without losses\n",
    "volume_reserves_no_loss = cost_per_well / revenue_per_unit\n",
    "\n",
    "print(f'Volume of Reserves Without Losses: {volume_reserves_no_loss:.2f} ')"
   ]
  },
  {
   "cell_type": "markdown",
   "metadata": {},
   "source": [
    "We end up with 111.11 units (where 1 unit of product is 1000 barrels). The mean reserves we predicted for Region 0, Region 1, and Region 2 were 92.59, 68.73, and 94.97. We need 111.11 units to not incur losses - because the mean reserves we predicted are lower than this threshold, none of our regions are currently incurring losses."
   ]
  },
  {
   "cell_type": "code",
   "execution_count": 16,
   "metadata": {},
   "outputs": [],
   "source": [
    "# pick wells with the highest values of predictions\n",
    "def calculate_profit(target, predicted, points, revenue, budget):\n",
    "    indices = pd.Series(predicted).reset_index(drop=True).sort_values(ascending=False).index\n",
    "    best_targets = target.iloc[indices][:points]\n",
    "    return best_targets.sum() * revenue - budget"
   ]
  },
  {
   "cell_type": "code",
   "execution_count": 17,
   "metadata": {},
   "outputs": [
    {
     "name": "stdout",
     "output_type": "stream",
     "text": [
      "Profit of 200 wells across each region:\n",
      "Region 0: 33208260.43139851\n",
      "Region 1: 24150866.966815114\n",
      "Region 2: 27103499.635998324\n"
     ]
    }
   ],
   "source": [
    "# check the profit of each region\n",
    "print(f'Profit of {points} wells across each region:')\n",
    "for i in range(3):\n",
    "    target = pd.Series(target_valids[i])\n",
    "    predicted = pd.Series(predicted_valids[i])\n",
    "    region_profit = calculate_profit(target, predicted, points, revenue_per_unit, budget)\n",
    "    print(f'Region {i}: {region_profit}')"
   ]
  },
  {
   "cell_type": "markdown",
   "metadata": {},
   "source": [
    "Of the 3 regions, it appears that Region 0 is the most profitable."
   ]
  },
  {
   "cell_type": "code",
   "execution_count": 31,
   "metadata": {},
   "outputs": [],
   "source": [
    "# calculate profit by bootstrapping\n",
    "def bootstrap_calculate_profit(target_b, predicted_b, total_points, points, revenue, budget):\n",
    "    # set random state to get new values each time\n",
    "    state = np.random.RandomState(12345)\n",
    "    num_samples = 1000\n",
    "    values = []\n",
    "    \n",
    "    # sample 1000 times \n",
    "    for i in range(num_samples):\n",
    "        target_subsample = target_b.reset_index(drop=True).sample(n = total_points, replace = True, random_state = state)\n",
    "        predictions_subsample = predicted_b.iloc[target_subsample.index]\n",
    "        values.append(calculate_profit(target_subsample, predictions_subsample, points, revenue, budget))\n",
    "    return pd.Series(values)"
   ]
  },
  {
   "cell_type": "code",
   "execution_count": 40,
   "metadata": {},
   "outputs": [
    {
     "name": "stdout",
     "output_type": "stream",
     "text": [
      "Profit of 200 wells across each region (bootstrapped):\n",
      "Region 0\n",
      "Average Profit: 3961649.8480237117\n",
      "95% Confidence Interval: (3796203.1514797257, 4127096.5445676977)\n",
      "Loss Risk: 6.9%\n",
      "\n",
      "Region 1\n",
      "Average Profit: 4560451.057866608\n",
      "95% Confidence Interval: (4431472.486639005, 4689429.62909421)\n",
      "Loss Risk: 1.5%\n",
      "\n",
      "Region 2\n",
      "Average Profit: 4044038.665683568\n",
      "95% Confidence Interval: (3874457.974712804, 4213619.356654332)\n",
      "Loss Risk: 7.6%\n",
      "\n"
     ]
    }
   ],
   "source": [
    "# check the profit of each region\n",
    "print(f'Profit of {points} wells across each region (bootstrapped):')\n",
    "for i in range(3):\n",
    "    target = pd.Series(target_valids[i])\n",
    "    predicted = pd.Series(predicted_valids[i])\n",
    "    values = bootstrap_calculate_profit(target, predicted, total_points, points, revenue_per_unit, budget)\n",
    "    \n",
    "    average_profit = values.mean()\n",
    "    confidence_interval = st.t.interval(0.95, len(values)-1, average_profit, st.sem(values))\n",
    "    losses = (values < 0).sum() / len(values) * 100\n",
    "    \n",
    "    print(f'Region {i}')\n",
    "    print(f'Average Profit: {average_profit}')\n",
    "    print(f'95% Confidence Interval: {confidence_interval}')\n",
    "    print(f'Loss Risk: {losses}%\\n')"
   ]
  },
  {
   "cell_type": "markdown",
   "metadata": {},
   "source": [
    "Bootstrapping allows us to estimate the population characteristics given a sample. In this case, by sampling 1000 times, we were able to determine that Region 1 has the greatest average profit of the three regions. It also has the lowest chance of loss and the narrowest confidence interval."
   ]
  },
  {
   "cell_type": "markdown",
   "metadata": {},
   "source": [
    "## Conclusion\n",
    "In this project, we viewed the datasets of three wells, cleaned the data, and performed linear regression. We use bootstrapping to estimate the population characteristics and ultimately determined that region 1 would be the most profitable region for the new well."
   ]
  }
 ],
 "metadata": {
  "ExecuteTimeLog": [
   {
    "duration": 1120,
    "start_time": "2022-07-24T17:20:09.352Z"
   },
   {
    "duration": 95,
    "start_time": "2022-07-24T17:22:06.738Z"
   },
   {
    "duration": 948,
    "start_time": "2022-07-24T17:22:08.471Z"
   },
   {
    "duration": 19,
    "start_time": "2022-07-24T17:22:10.614Z"
   },
   {
    "duration": 14,
    "start_time": "2022-07-24T17:22:23.463Z"
   },
   {
    "duration": 15,
    "start_time": "2022-07-24T17:22:25.448Z"
   },
   {
    "duration": 14,
    "start_time": "2022-07-24T17:22:31.107Z"
   },
   {
    "duration": 18,
    "start_time": "2022-07-24T17:24:04.444Z"
   },
   {
    "duration": 9,
    "start_time": "2022-07-24T17:25:06.339Z"
   },
   {
    "duration": 9,
    "start_time": "2022-07-24T17:25:18.697Z"
   },
   {
    "duration": 14,
    "start_time": "2022-07-24T17:27:50.174Z"
   },
   {
    "duration": 9,
    "start_time": "2022-07-24T17:27:58.137Z"
   },
   {
    "duration": 427,
    "start_time": "2022-07-24T17:31:28.103Z"
   },
   {
    "duration": 65,
    "start_time": "2022-07-24T17:31:35.438Z"
   },
   {
    "duration": 20,
    "start_time": "2022-07-24T17:45:42.808Z"
   },
   {
    "duration": 3,
    "start_time": "2022-07-24T17:46:59.768Z"
   },
   {
    "duration": 9,
    "start_time": "2022-07-24T17:48:01.904Z"
   },
   {
    "duration": 4,
    "start_time": "2022-07-24T17:51:44.506Z"
   },
   {
    "duration": 3,
    "start_time": "2022-07-24T18:57:09.658Z"
   },
   {
    "duration": 3,
    "start_time": "2022-07-24T18:57:13.646Z"
   },
   {
    "duration": 4,
    "start_time": "2022-07-24T18:57:14.152Z"
   },
   {
    "duration": 4,
    "start_time": "2022-07-24T18:57:15.334Z"
   },
   {
    "duration": 75,
    "start_time": "2022-07-24T18:57:18.949Z"
   },
   {
    "duration": 3,
    "start_time": "2022-07-24T18:57:45.769Z"
   },
   {
    "duration": 298,
    "start_time": "2022-07-24T18:57:56.836Z"
   },
   {
    "duration": 230,
    "start_time": "2022-07-24T18:58:04.911Z"
   },
   {
    "duration": 249,
    "start_time": "2022-07-24T18:58:08.585Z"
   },
   {
    "duration": 369,
    "start_time": "2022-07-24T18:58:12.755Z"
   },
   {
    "duration": 293,
    "start_time": "2022-07-24T18:58:17.240Z"
   },
   {
    "duration": 291,
    "start_time": "2022-07-24T18:58:25.344Z"
   },
   {
    "duration": 350,
    "start_time": "2022-07-24T18:58:28.075Z"
   },
   {
    "duration": 280,
    "start_time": "2022-07-24T18:58:46.160Z"
   },
   {
    "duration": 2,
    "start_time": "2022-07-24T19:13:25.863Z"
   },
   {
    "duration": 4,
    "start_time": "2022-07-24T19:14:26.235Z"
   },
   {
    "duration": 3,
    "start_time": "2022-07-24T19:14:43.244Z"
   },
   {
    "duration": 4,
    "start_time": "2022-07-24T19:16:56.492Z"
   },
   {
    "duration": 4,
    "start_time": "2022-07-24T19:17:00.858Z"
   },
   {
    "duration": 4,
    "start_time": "2022-07-24T19:39:49.650Z"
   },
   {
    "duration": 8,
    "start_time": "2022-07-24T19:44:35.749Z"
   },
   {
    "duration": 6,
    "start_time": "2022-07-24T19:44:43.558Z"
   },
   {
    "duration": 4,
    "start_time": "2022-07-24T19:44:45.475Z"
   }
  ],
  "kernelspec": {
   "display_name": "Python 3 (ipykernel)",
   "language": "python",
   "name": "python3"
  },
  "language_info": {
   "codemirror_mode": {
    "name": "ipython",
    "version": 3
   },
   "file_extension": ".py",
   "mimetype": "text/x-python",
   "name": "python",
   "nbconvert_exporter": "python",
   "pygments_lexer": "ipython3",
   "version": "3.9.6"
  },
  "toc": {
   "base_numbering": 1,
   "nav_menu": {},
   "number_sections": true,
   "sideBar": true,
   "skip_h1_title": true,
   "title_cell": "Table of Contents",
   "title_sidebar": "Contents",
   "toc_cell": false,
   "toc_position": {},
   "toc_section_display": true,
   "toc_window_display": false
  }
 },
 "nbformat": 4,
 "nbformat_minor": 2
}
