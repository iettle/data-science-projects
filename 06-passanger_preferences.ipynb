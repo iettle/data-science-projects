{
 "cells": [
  {
   "cell_type": "markdown",
   "metadata": {},
   "source": [
    "# Ride-Sharing Factors Affecting Number of Trips"
   ]
  },
  {
   "cell_type": "markdown",
   "metadata": {},
   "source": [
    "You're working as an analyst for Zuber, a new ride-sharing company that's launching in Chicago. Your task is to find patterns in the available information. You want to understand passenger preferences and the impact of external factors on rides.\n",
    "\n",
    "Working with a database, you'll analyze data from competitors and test a hypothesis about the impact of weather on ride frequency.\n",
    "\n",
    "The purpose of this project is to find patterns in competitior's data to determine how to best utilize passenger preferences and plan for external factors to maximize the total number of trips Zuber can plan for.\n",
    "\n",
    "First, I will load in and observe data from two datasets (checking trips per company and trips per dropoff location), then I will perform data preprocessing to clean up each column as needed. I'll identify the top dropoff locations in Chicago. Then, I will look at data on the Loop to O'Hare International Airport and test if weather conditions affect the ride duration."
   ]
  },
  {
   "cell_type": "markdown",
   "metadata": {},
   "source": [
    "## Initialization"
   ]
  },
  {
   "cell_type": "code",
   "execution_count": 1,
   "metadata": {},
   "outputs": [],
   "source": [
    "# import libraries\n",
    "import pandas as pd\n",
    "from scipy import stats as st"
   ]
  },
  {
   "cell_type": "markdown",
   "metadata": {},
   "source": [
    "### Loading Datasets"
   ]
  },
  {
   "cell_type": "code",
   "execution_count": 2,
   "metadata": {},
   "outputs": [],
   "source": [
    "# loading datasets \n",
    "try:\n",
    "    companies = pd.read_csv('/datasets/project_sql_result_01.csv')\n",
    "    dropoffs = pd.read_csv('/datasets/project_sql_result_04.csv')\n",
    "    airport = pd.read_csv('/datasets/project_sql_result_07.csv')\n",
    "except:\n",
    "    print(\"One or more of the data files could not be read.\")"
   ]
  },
  {
   "cell_type": "markdown",
   "metadata": {},
   "source": [
    "## Preprocessing Data"
   ]
  },
  {
   "cell_type": "markdown",
   "metadata": {},
   "source": [
    "### Companies"
   ]
  },
  {
   "cell_type": "markdown",
   "metadata": {},
   "source": [
    "This dataset contains two fields - the taxi company name and the number of rides each taxi company had between November 15, 2017 and November 16, 2017."
   ]
  },
  {
   "cell_type": "code",
   "execution_count": 3,
   "metadata": {},
   "outputs": [
    {
     "name": "stdout",
     "output_type": "stream",
     "text": [
      "<class 'pandas.core.frame.DataFrame'>\n",
      "RangeIndex: 64 entries, 0 to 63\n",
      "Data columns (total 2 columns):\n",
      " #   Column        Non-Null Count  Dtype \n",
      "---  ------        --------------  ----- \n",
      " 0   company_name  64 non-null     object\n",
      " 1   trips_amount  64 non-null     int64 \n",
      "dtypes: int64(1), object(1)\n",
      "memory usage: 1.1+ KB\n"
     ]
    }
   ],
   "source": [
    "# checking basic info\n",
    "companies.info()"
   ]
  },
  {
   "cell_type": "code",
   "execution_count": 4,
   "metadata": {},
   "outputs": [
    {
     "data": {
      "text/html": [
       "<div>\n",
       "<style scoped>\n",
       "    .dataframe tbody tr th:only-of-type {\n",
       "        vertical-align: middle;\n",
       "    }\n",
       "\n",
       "    .dataframe tbody tr th {\n",
       "        vertical-align: top;\n",
       "    }\n",
       "\n",
       "    .dataframe thead th {\n",
       "        text-align: right;\n",
       "    }\n",
       "</style>\n",
       "<table border=\"1\" class=\"dataframe\">\n",
       "  <thead>\n",
       "    <tr style=\"text-align: right;\">\n",
       "      <th></th>\n",
       "      <th>company_name</th>\n",
       "      <th>trips_amount</th>\n",
       "    </tr>\n",
       "  </thead>\n",
       "  <tbody>\n",
       "    <tr>\n",
       "      <th>0</th>\n",
       "      <td>Flash Cab</td>\n",
       "      <td>19558</td>\n",
       "    </tr>\n",
       "    <tr>\n",
       "      <th>1</th>\n",
       "      <td>Taxi Affiliation Services</td>\n",
       "      <td>11422</td>\n",
       "    </tr>\n",
       "    <tr>\n",
       "      <th>2</th>\n",
       "      <td>Medallion Leasing</td>\n",
       "      <td>10367</td>\n",
       "    </tr>\n",
       "    <tr>\n",
       "      <th>3</th>\n",
       "      <td>Yellow Cab</td>\n",
       "      <td>9888</td>\n",
       "    </tr>\n",
       "    <tr>\n",
       "      <th>4</th>\n",
       "      <td>Taxi Affiliation Service Yellow</td>\n",
       "      <td>9299</td>\n",
       "    </tr>\n",
       "    <tr>\n",
       "      <th>5</th>\n",
       "      <td>Chicago Carriage Cab Corp</td>\n",
       "      <td>9181</td>\n",
       "    </tr>\n",
       "    <tr>\n",
       "      <th>6</th>\n",
       "      <td>City Service</td>\n",
       "      <td>8448</td>\n",
       "    </tr>\n",
       "    <tr>\n",
       "      <th>7</th>\n",
       "      <td>Sun Taxi</td>\n",
       "      <td>7701</td>\n",
       "    </tr>\n",
       "    <tr>\n",
       "      <th>8</th>\n",
       "      <td>Star North Management LLC</td>\n",
       "      <td>7455</td>\n",
       "    </tr>\n",
       "    <tr>\n",
       "      <th>9</th>\n",
       "      <td>Blue Ribbon Taxi Association Inc.</td>\n",
       "      <td>5953</td>\n",
       "    </tr>\n",
       "  </tbody>\n",
       "</table>\n",
       "</div>"
      ],
      "text/plain": [
       "                        company_name  trips_amount\n",
       "0                          Flash Cab         19558\n",
       "1          Taxi Affiliation Services         11422\n",
       "2                  Medallion Leasing         10367\n",
       "3                         Yellow Cab          9888\n",
       "4    Taxi Affiliation Service Yellow          9299\n",
       "5          Chicago Carriage Cab Corp          9181\n",
       "6                       City Service          8448\n",
       "7                           Sun Taxi          7701\n",
       "8          Star North Management LLC          7455\n",
       "9  Blue Ribbon Taxi Association Inc.          5953"
      ]
     },
     "execution_count": 4,
     "metadata": {},
     "output_type": "execute_result"
    }
   ],
   "source": [
    "# checking first 10 rows\n",
    "companies.head(10)"
   ]
  },
  {
   "cell_type": "markdown",
   "metadata": {},
   "source": [
    "This dataset looks good - there are no null values and the data types for each column look fine."
   ]
  },
  {
   "cell_type": "markdown",
   "metadata": {},
   "source": [
    "### Dropoffs"
   ]
  },
  {
   "cell_type": "markdown",
   "metadata": {},
   "source": [
    "This dataset contains two columns - the dropoff location, which are Chicago neighborhoods where rides ended, and and the average number of trips in November for each location."
   ]
  },
  {
   "cell_type": "code",
   "execution_count": 5,
   "metadata": {},
   "outputs": [
    {
     "name": "stdout",
     "output_type": "stream",
     "text": [
      "<class 'pandas.core.frame.DataFrame'>\n",
      "RangeIndex: 94 entries, 0 to 93\n",
      "Data columns (total 2 columns):\n",
      " #   Column                 Non-Null Count  Dtype  \n",
      "---  ------                 --------------  -----  \n",
      " 0   dropoff_location_name  94 non-null     object \n",
      " 1   average_trips          94 non-null     float64\n",
      "dtypes: float64(1), object(1)\n",
      "memory usage: 1.6+ KB\n"
     ]
    }
   ],
   "source": [
    "# checking basic info\n",
    "dropoffs.info()"
   ]
  },
  {
   "cell_type": "code",
   "execution_count": 6,
   "metadata": {},
   "outputs": [
    {
     "data": {
      "text/html": [
       "<div>\n",
       "<style scoped>\n",
       "    .dataframe tbody tr th:only-of-type {\n",
       "        vertical-align: middle;\n",
       "    }\n",
       "\n",
       "    .dataframe tbody tr th {\n",
       "        vertical-align: top;\n",
       "    }\n",
       "\n",
       "    .dataframe thead th {\n",
       "        text-align: right;\n",
       "    }\n",
       "</style>\n",
       "<table border=\"1\" class=\"dataframe\">\n",
       "  <thead>\n",
       "    <tr style=\"text-align: right;\">\n",
       "      <th></th>\n",
       "      <th>dropoff_location_name</th>\n",
       "      <th>average_trips</th>\n",
       "    </tr>\n",
       "  </thead>\n",
       "  <tbody>\n",
       "    <tr>\n",
       "      <th>0</th>\n",
       "      <td>Loop</td>\n",
       "      <td>10727.466667</td>\n",
       "    </tr>\n",
       "    <tr>\n",
       "      <th>1</th>\n",
       "      <td>River North</td>\n",
       "      <td>9523.666667</td>\n",
       "    </tr>\n",
       "    <tr>\n",
       "      <th>2</th>\n",
       "      <td>Streeterville</td>\n",
       "      <td>6664.666667</td>\n",
       "    </tr>\n",
       "    <tr>\n",
       "      <th>3</th>\n",
       "      <td>West Loop</td>\n",
       "      <td>5163.666667</td>\n",
       "    </tr>\n",
       "    <tr>\n",
       "      <th>4</th>\n",
       "      <td>O'Hare</td>\n",
       "      <td>2546.900000</td>\n",
       "    </tr>\n",
       "    <tr>\n",
       "      <th>5</th>\n",
       "      <td>Lake View</td>\n",
       "      <td>2420.966667</td>\n",
       "    </tr>\n",
       "    <tr>\n",
       "      <th>6</th>\n",
       "      <td>Grant Park</td>\n",
       "      <td>2068.533333</td>\n",
       "    </tr>\n",
       "    <tr>\n",
       "      <th>7</th>\n",
       "      <td>Museum Campus</td>\n",
       "      <td>1510.000000</td>\n",
       "    </tr>\n",
       "    <tr>\n",
       "      <th>8</th>\n",
       "      <td>Gold Coast</td>\n",
       "      <td>1364.233333</td>\n",
       "    </tr>\n",
       "    <tr>\n",
       "      <th>9</th>\n",
       "      <td>Sheffield &amp; DePaul</td>\n",
       "      <td>1259.766667</td>\n",
       "    </tr>\n",
       "  </tbody>\n",
       "</table>\n",
       "</div>"
      ],
      "text/plain": [
       "  dropoff_location_name  average_trips\n",
       "0                  Loop   10727.466667\n",
       "1           River North    9523.666667\n",
       "2         Streeterville    6664.666667\n",
       "3             West Loop    5163.666667\n",
       "4                O'Hare    2546.900000\n",
       "5             Lake View    2420.966667\n",
       "6            Grant Park    2068.533333\n",
       "7         Museum Campus    1510.000000\n",
       "8            Gold Coast    1364.233333\n",
       "9    Sheffield & DePaul    1259.766667"
      ]
     },
     "execution_count": 6,
     "metadata": {},
     "output_type": "execute_result"
    }
   ],
   "source": [
    "# checking first 10 rows\n",
    "dropoffs.head(10)"
   ]
  },
  {
   "cell_type": "markdown",
   "metadata": {},
   "source": [
    "There are no null values for this dataset, but the average number of trips is a floating point value when we need it to be an interger. I will convert this column to the proper data type."
   ]
  },
  {
   "cell_type": "code",
   "execution_count": 7,
   "metadata": {},
   "outputs": [
    {
     "data": {
      "text/html": [
       "<div>\n",
       "<style scoped>\n",
       "    .dataframe tbody tr th:only-of-type {\n",
       "        vertical-align: middle;\n",
       "    }\n",
       "\n",
       "    .dataframe tbody tr th {\n",
       "        vertical-align: top;\n",
       "    }\n",
       "\n",
       "    .dataframe thead th {\n",
       "        text-align: right;\n",
       "    }\n",
       "</style>\n",
       "<table border=\"1\" class=\"dataframe\">\n",
       "  <thead>\n",
       "    <tr style=\"text-align: right;\">\n",
       "      <th></th>\n",
       "      <th>dropoff_location_name</th>\n",
       "      <th>average_trips</th>\n",
       "    </tr>\n",
       "  </thead>\n",
       "  <tbody>\n",
       "    <tr>\n",
       "      <th>0</th>\n",
       "      <td>Loop</td>\n",
       "      <td>10727</td>\n",
       "    </tr>\n",
       "    <tr>\n",
       "      <th>1</th>\n",
       "      <td>River North</td>\n",
       "      <td>9523</td>\n",
       "    </tr>\n",
       "    <tr>\n",
       "      <th>2</th>\n",
       "      <td>Streeterville</td>\n",
       "      <td>6664</td>\n",
       "    </tr>\n",
       "    <tr>\n",
       "      <th>3</th>\n",
       "      <td>West Loop</td>\n",
       "      <td>5163</td>\n",
       "    </tr>\n",
       "    <tr>\n",
       "      <th>4</th>\n",
       "      <td>O'Hare</td>\n",
       "      <td>2546</td>\n",
       "    </tr>\n",
       "  </tbody>\n",
       "</table>\n",
       "</div>"
      ],
      "text/plain": [
       "  dropoff_location_name  average_trips\n",
       "0                  Loop          10727\n",
       "1           River North           9523\n",
       "2         Streeterville           6664\n",
       "3             West Loop           5163\n",
       "4                O'Hare           2546"
      ]
     },
     "execution_count": 7,
     "metadata": {},
     "output_type": "execute_result"
    }
   ],
   "source": [
    "# convert average_trips column to integer\n",
    "dropoffs['average_trips'] = dropoffs['average_trips'].astype('int')\n",
    "\n",
    "# check that data has been updated\n",
    "dropoffs.head(5)"
   ]
  },
  {
   "cell_type": "markdown",
   "metadata": {},
   "source": [
    "### Airports"
   ]
  },
  {
   "cell_type": "markdown",
   "metadata": {},
   "source": [
    "This dataset contains three columns: The pickup time of a ride, the weather condition at the time, and the ride duration in seconds. This data is on rides from the Loop to O'Hare International Airport."
   ]
  },
  {
   "cell_type": "code",
   "execution_count": 8,
   "metadata": {},
   "outputs": [
    {
     "name": "stdout",
     "output_type": "stream",
     "text": [
      "<class 'pandas.core.frame.DataFrame'>\n",
      "RangeIndex: 1068 entries, 0 to 1067\n",
      "Data columns (total 3 columns):\n",
      " #   Column              Non-Null Count  Dtype  \n",
      "---  ------              --------------  -----  \n",
      " 0   start_ts            1068 non-null   object \n",
      " 1   weather_conditions  1068 non-null   object \n",
      " 2   duration_seconds    1068 non-null   float64\n",
      "dtypes: float64(1), object(2)\n",
      "memory usage: 25.2+ KB\n"
     ]
    }
   ],
   "source": [
    "# checking basic info\n",
    "airport.info()"
   ]
  },
  {
   "cell_type": "code",
   "execution_count": 9,
   "metadata": {},
   "outputs": [
    {
     "data": {
      "text/html": [
       "<div>\n",
       "<style scoped>\n",
       "    .dataframe tbody tr th:only-of-type {\n",
       "        vertical-align: middle;\n",
       "    }\n",
       "\n",
       "    .dataframe tbody tr th {\n",
       "        vertical-align: top;\n",
       "    }\n",
       "\n",
       "    .dataframe thead th {\n",
       "        text-align: right;\n",
       "    }\n",
       "</style>\n",
       "<table border=\"1\" class=\"dataframe\">\n",
       "  <thead>\n",
       "    <tr style=\"text-align: right;\">\n",
       "      <th></th>\n",
       "      <th>start_ts</th>\n",
       "      <th>weather_conditions</th>\n",
       "      <th>duration_seconds</th>\n",
       "    </tr>\n",
       "  </thead>\n",
       "  <tbody>\n",
       "    <tr>\n",
       "      <th>0</th>\n",
       "      <td>2017-11-25 16:00:00</td>\n",
       "      <td>Good</td>\n",
       "      <td>2410.0</td>\n",
       "    </tr>\n",
       "    <tr>\n",
       "      <th>1</th>\n",
       "      <td>2017-11-25 14:00:00</td>\n",
       "      <td>Good</td>\n",
       "      <td>1920.0</td>\n",
       "    </tr>\n",
       "    <tr>\n",
       "      <th>2</th>\n",
       "      <td>2017-11-25 12:00:00</td>\n",
       "      <td>Good</td>\n",
       "      <td>1543.0</td>\n",
       "    </tr>\n",
       "    <tr>\n",
       "      <th>3</th>\n",
       "      <td>2017-11-04 10:00:00</td>\n",
       "      <td>Good</td>\n",
       "      <td>2512.0</td>\n",
       "    </tr>\n",
       "    <tr>\n",
       "      <th>4</th>\n",
       "      <td>2017-11-11 07:00:00</td>\n",
       "      <td>Good</td>\n",
       "      <td>1440.0</td>\n",
       "    </tr>\n",
       "    <tr>\n",
       "      <th>5</th>\n",
       "      <td>2017-11-11 04:00:00</td>\n",
       "      <td>Good</td>\n",
       "      <td>1320.0</td>\n",
       "    </tr>\n",
       "    <tr>\n",
       "      <th>6</th>\n",
       "      <td>2017-11-04 16:00:00</td>\n",
       "      <td>Bad</td>\n",
       "      <td>2969.0</td>\n",
       "    </tr>\n",
       "    <tr>\n",
       "      <th>7</th>\n",
       "      <td>2017-11-18 11:00:00</td>\n",
       "      <td>Good</td>\n",
       "      <td>2280.0</td>\n",
       "    </tr>\n",
       "    <tr>\n",
       "      <th>8</th>\n",
       "      <td>2017-11-11 14:00:00</td>\n",
       "      <td>Good</td>\n",
       "      <td>2460.0</td>\n",
       "    </tr>\n",
       "    <tr>\n",
       "      <th>9</th>\n",
       "      <td>2017-11-11 12:00:00</td>\n",
       "      <td>Good</td>\n",
       "      <td>2040.0</td>\n",
       "    </tr>\n",
       "  </tbody>\n",
       "</table>\n",
       "</div>"
      ],
      "text/plain": [
       "              start_ts weather_conditions  duration_seconds\n",
       "0  2017-11-25 16:00:00               Good            2410.0\n",
       "1  2017-11-25 14:00:00               Good            1920.0\n",
       "2  2017-11-25 12:00:00               Good            1543.0\n",
       "3  2017-11-04 10:00:00               Good            2512.0\n",
       "4  2017-11-11 07:00:00               Good            1440.0\n",
       "5  2017-11-11 04:00:00               Good            1320.0\n",
       "6  2017-11-04 16:00:00                Bad            2969.0\n",
       "7  2017-11-18 11:00:00               Good            2280.0\n",
       "8  2017-11-11 14:00:00               Good            2460.0\n",
       "9  2017-11-11 12:00:00               Good            2040.0"
      ]
     },
     "execution_count": 9,
     "metadata": {},
     "output_type": "execute_result"
    }
   ],
   "source": [
    "# checking first 10 rows\n",
    "airport.head(10)"
   ]
  },
  {
   "cell_type": "markdown",
   "metadata": {},
   "source": [
    "There are no null values in this dataset, but `start_ts` can be converted to a datetime format and `duration_seconds` can be converted to an integer type."
   ]
  },
  {
   "cell_type": "code",
   "execution_count": 10,
   "metadata": {},
   "outputs": [
    {
     "name": "stdout",
     "output_type": "stream",
     "text": [
      "<class 'pandas.core.frame.DataFrame'>\n",
      "RangeIndex: 1068 entries, 0 to 1067\n",
      "Data columns (total 3 columns):\n",
      " #   Column              Non-Null Count  Dtype         \n",
      "---  ------              --------------  -----         \n",
      " 0   start_ts            1068 non-null   datetime64[ns]\n",
      " 1   weather_conditions  1068 non-null   object        \n",
      " 2   duration_seconds    1068 non-null   int64         \n",
      "dtypes: datetime64[ns](1), int64(1), object(1)\n",
      "memory usage: 25.2+ KB\n"
     ]
    }
   ],
   "source": [
    "# convert columns\n",
    "airport['start_ts'] = pd.to_datetime(airport['start_ts'], format = '%Y-%m-%d %H:%M:%S')\n",
    "airport['duration_seconds'] = airport['duration_seconds'].astype('int')\n",
    "\n",
    "# check that data has been updated\n",
    "airport.info()"
   ]
  },
  {
   "cell_type": "markdown",
   "metadata": {},
   "source": [
    "The data has been cleaned up. There were no null values, and we did not drop any rows. For two columns (`duration_seconds` in the airport dataset and `average_trips` in the dropoffs dataset), the data type was converted from a float to an integer."
   ]
  },
  {
   "cell_type": "markdown",
   "metadata": {},
   "source": [
    "## Exploratory Data Analysis"
   ]
  },
  {
   "cell_type": "markdown",
   "metadata": {},
   "source": [
    "Now that the datasets have been cleaned, I will use the first two datasets to find information about the most popular dropoff neighborhoods and the most popular taxi companies in Chicago. "
   ]
  },
  {
   "cell_type": "markdown",
   "metadata": {},
   "source": [
    "### Top Neighborhoods"
   ]
  },
  {
   "cell_type": "code",
   "execution_count": 11,
   "metadata": {},
   "outputs": [
    {
     "data": {
      "text/html": [
       "<div>\n",
       "<style scoped>\n",
       "    .dataframe tbody tr th:only-of-type {\n",
       "        vertical-align: middle;\n",
       "    }\n",
       "\n",
       "    .dataframe tbody tr th {\n",
       "        vertical-align: top;\n",
       "    }\n",
       "\n",
       "    .dataframe thead th {\n",
       "        text-align: right;\n",
       "    }\n",
       "</style>\n",
       "<table border=\"1\" class=\"dataframe\">\n",
       "  <thead>\n",
       "    <tr style=\"text-align: right;\">\n",
       "      <th></th>\n",
       "      <th>average_trips</th>\n",
       "    </tr>\n",
       "  </thead>\n",
       "  <tbody>\n",
       "    <tr>\n",
       "      <th>count</th>\n",
       "      <td>94.000000</td>\n",
       "    </tr>\n",
       "    <tr>\n",
       "      <th>mean</th>\n",
       "      <td>599.478723</td>\n",
       "    </tr>\n",
       "    <tr>\n",
       "      <th>std</th>\n",
       "      <td>1714.555974</td>\n",
       "    </tr>\n",
       "    <tr>\n",
       "      <th>min</th>\n",
       "      <td>1.000000</td>\n",
       "    </tr>\n",
       "    <tr>\n",
       "      <th>25%</th>\n",
       "      <td>14.000000</td>\n",
       "    </tr>\n",
       "    <tr>\n",
       "      <th>50%</th>\n",
       "      <td>51.500000</td>\n",
       "    </tr>\n",
       "    <tr>\n",
       "      <th>75%</th>\n",
       "      <td>298.750000</td>\n",
       "    </tr>\n",
       "    <tr>\n",
       "      <th>max</th>\n",
       "      <td>10727.000000</td>\n",
       "    </tr>\n",
       "  </tbody>\n",
       "</table>\n",
       "</div>"
      ],
      "text/plain": [
       "       average_trips\n",
       "count      94.000000\n",
       "mean      599.478723\n",
       "std      1714.555974\n",
       "min         1.000000\n",
       "25%        14.000000\n",
       "50%        51.500000\n",
       "75%       298.750000\n",
       "max     10727.000000"
      ]
     },
     "execution_count": 11,
     "metadata": {},
     "output_type": "execute_result"
    }
   ],
   "source": [
    "# check basic information on dropoffs dataset\n",
    "dropoffs.describe()"
   ]
  },
  {
   "cell_type": "markdown",
   "metadata": {},
   "source": [
    "There are 94 neighborhoods in our dataset with an average of about 600 trips. Some neighborhoods have a significantly larger amount of trips than others. We will only look at the top 10 neighborhoods."
   ]
  },
  {
   "cell_type": "code",
   "execution_count": 12,
   "metadata": {},
   "outputs": [
    {
     "data": {
      "text/html": [
       "<div>\n",
       "<style scoped>\n",
       "    .dataframe tbody tr th:only-of-type {\n",
       "        vertical-align: middle;\n",
       "    }\n",
       "\n",
       "    .dataframe tbody tr th {\n",
       "        vertical-align: top;\n",
       "    }\n",
       "\n",
       "    .dataframe thead th {\n",
       "        text-align: right;\n",
       "    }\n",
       "</style>\n",
       "<table border=\"1\" class=\"dataframe\">\n",
       "  <thead>\n",
       "    <tr style=\"text-align: right;\">\n",
       "      <th></th>\n",
       "      <th>dropoff_location_name</th>\n",
       "      <th>average_trips</th>\n",
       "    </tr>\n",
       "  </thead>\n",
       "  <tbody>\n",
       "    <tr>\n",
       "      <th>0</th>\n",
       "      <td>Loop</td>\n",
       "      <td>10727</td>\n",
       "    </tr>\n",
       "    <tr>\n",
       "      <th>1</th>\n",
       "      <td>River North</td>\n",
       "      <td>9523</td>\n",
       "    </tr>\n",
       "    <tr>\n",
       "      <th>2</th>\n",
       "      <td>Streeterville</td>\n",
       "      <td>6664</td>\n",
       "    </tr>\n",
       "    <tr>\n",
       "      <th>3</th>\n",
       "      <td>West Loop</td>\n",
       "      <td>5163</td>\n",
       "    </tr>\n",
       "    <tr>\n",
       "      <th>4</th>\n",
       "      <td>O'Hare</td>\n",
       "      <td>2546</td>\n",
       "    </tr>\n",
       "    <tr>\n",
       "      <th>5</th>\n",
       "      <td>Lake View</td>\n",
       "      <td>2420</td>\n",
       "    </tr>\n",
       "    <tr>\n",
       "      <th>6</th>\n",
       "      <td>Grant Park</td>\n",
       "      <td>2068</td>\n",
       "    </tr>\n",
       "    <tr>\n",
       "      <th>7</th>\n",
       "      <td>Museum Campus</td>\n",
       "      <td>1510</td>\n",
       "    </tr>\n",
       "    <tr>\n",
       "      <th>8</th>\n",
       "      <td>Gold Coast</td>\n",
       "      <td>1364</td>\n",
       "    </tr>\n",
       "    <tr>\n",
       "      <th>9</th>\n",
       "      <td>Sheffield &amp; DePaul</td>\n",
       "      <td>1259</td>\n",
       "    </tr>\n",
       "  </tbody>\n",
       "</table>\n",
       "</div>"
      ],
      "text/plain": [
       "  dropoff_location_name  average_trips\n",
       "0                  Loop          10727\n",
       "1           River North           9523\n",
       "2         Streeterville           6664\n",
       "3             West Loop           5163\n",
       "4                O'Hare           2546\n",
       "5             Lake View           2420\n",
       "6            Grant Park           2068\n",
       "7         Museum Campus           1510\n",
       "8            Gold Coast           1364\n",
       "9    Sheffield & DePaul           1259"
      ]
     },
     "execution_count": 12,
     "metadata": {},
     "output_type": "execute_result"
    }
   ],
   "source": [
    "# view the 10 neighborhoods with the most dropoffs\n",
    "top_dropoffs = dropoffs.sort_values(by=['average_trips'], ascending=False).head(10)\n",
    "top_dropoffs"
   ]
  },
  {
   "cell_type": "code",
   "execution_count": 13,
   "metadata": {},
   "outputs": [
    {
     "data": {
      "image/png": "[encoded data removed]",
      "text/plain": [
       "<Figure size 1152x288 with 1 Axes>"
      ]
     },
     "metadata": {
      "needs_background": "light"
     },
     "output_type": "display_data"
    }
   ],
   "source": [
    "top_dropoffs.plot(\n",
    "    kind = 'bar',\n",
    "    x = 'dropoff_location_name',\n",
    "    rot = 0,\n",
    "    xlabel = 'Neighborhood',\n",
    "    ylabel = 'Average November Trips',\n",
    "    title = 'Average Number of Trips Per Neighborhood',\n",
    "    color = 'lavender',\n",
    "    figsize = (16, 4));"
   ]
  },
  {
   "cell_type": "markdown",
   "metadata": {},
   "source": [
    "Of the 94 neighborhoods, the 10 neighborhoods above have the most amount of trips. Of these 10, Loop, River North, Streeterville, and West Loop are the most popular; West Loop has approximately double the amount of trips as the next highest neighborhood, O'Hare."
   ]
  },
  {
   "cell_type": "markdown",
   "metadata": {},
   "source": [
    "<div class=\"alert alert-block alert-success\">\n",
    "<b>Success:</b> Great visualization!\n",
    "</div>"
   ]
  },
  {
   "cell_type": "markdown",
   "metadata": {},
   "source": [
    "### Companies vs Rides"
   ]
  },
  {
   "cell_type": "code",
   "execution_count": 14,
   "metadata": {},
   "outputs": [
    {
     "data": {
      "text/html": [
       "<div>\n",
       "<style scoped>\n",
       "    .dataframe tbody tr th:only-of-type {\n",
       "        vertical-align: middle;\n",
       "    }\n",
       "\n",
       "    .dataframe tbody tr th {\n",
       "        vertical-align: top;\n",
       "    }\n",
       "\n",
       "    .dataframe thead th {\n",
       "        text-align: right;\n",
       "    }\n",
       "</style>\n",
       "<table border=\"1\" class=\"dataframe\">\n",
       "  <thead>\n",
       "    <tr style=\"text-align: right;\">\n",
       "      <th></th>\n",
       "      <th>trips_amount</th>\n",
       "    </tr>\n",
       "  </thead>\n",
       "  <tbody>\n",
       "    <tr>\n",
       "      <th>count</th>\n",
       "      <td>64.000000</td>\n",
       "    </tr>\n",
       "    <tr>\n",
       "      <th>mean</th>\n",
       "      <td>2145.484375</td>\n",
       "    </tr>\n",
       "    <tr>\n",
       "      <th>std</th>\n",
       "      <td>3812.310186</td>\n",
       "    </tr>\n",
       "    <tr>\n",
       "      <th>min</th>\n",
       "      <td>2.000000</td>\n",
       "    </tr>\n",
       "    <tr>\n",
       "      <th>25%</th>\n",
       "      <td>20.750000</td>\n",
       "    </tr>\n",
       "    <tr>\n",
       "      <th>50%</th>\n",
       "      <td>178.500000</td>\n",
       "    </tr>\n",
       "    <tr>\n",
       "      <th>75%</th>\n",
       "      <td>2106.500000</td>\n",
       "    </tr>\n",
       "    <tr>\n",
       "      <th>max</th>\n",
       "      <td>19558.000000</td>\n",
       "    </tr>\n",
       "  </tbody>\n",
       "</table>\n",
       "</div>"
      ],
      "text/plain": [
       "       trips_amount\n",
       "count     64.000000\n",
       "mean    2145.484375\n",
       "std     3812.310186\n",
       "min        2.000000\n",
       "25%       20.750000\n",
       "50%      178.500000\n",
       "75%     2106.500000\n",
       "max    19558.000000"
      ]
     },
     "execution_count": 14,
     "metadata": {},
     "output_type": "execute_result"
    }
   ],
   "source": [
    "# checking basic information about the companies dataset\n",
    "companies.describe()"
   ]
  },
  {
   "cell_type": "markdown",
   "metadata": {},
   "source": [
    "There are 64 companies included in this dataset. Like the dropoffs dataset, there is a lot of variability in terms of how many rides each company had during November. We only want to look at our top competitors, so we will filter out the companies where their number of trips is under the third quartile."
   ]
  },
  {
   "cell_type": "code",
   "execution_count": 15,
   "metadata": {},
   "outputs": [
    {
     "data": {
      "text/html": [
       "<div>\n",
       "<style scoped>\n",
       "    .dataframe tbody tr th:only-of-type {\n",
       "        vertical-align: middle;\n",
       "    }\n",
       "\n",
       "    .dataframe tbody tr th {\n",
       "        vertical-align: top;\n",
       "    }\n",
       "\n",
       "    .dataframe thead th {\n",
       "        text-align: right;\n",
       "    }\n",
       "</style>\n",
       "<table border=\"1\" class=\"dataframe\">\n",
       "  <thead>\n",
       "    <tr style=\"text-align: right;\">\n",
       "      <th></th>\n",
       "      <th>company_name</th>\n",
       "      <th>trips_amount</th>\n",
       "    </tr>\n",
       "  </thead>\n",
       "  <tbody>\n",
       "    <tr>\n",
       "      <th>0</th>\n",
       "      <td>Flash Cab</td>\n",
       "      <td>19558</td>\n",
       "    </tr>\n",
       "    <tr>\n",
       "      <th>1</th>\n",
       "      <td>Taxi Affiliation Services</td>\n",
       "      <td>11422</td>\n",
       "    </tr>\n",
       "    <tr>\n",
       "      <th>2</th>\n",
       "      <td>Medallion Leasing</td>\n",
       "      <td>10367</td>\n",
       "    </tr>\n",
       "    <tr>\n",
       "      <th>3</th>\n",
       "      <td>Yellow Cab</td>\n",
       "      <td>9888</td>\n",
       "    </tr>\n",
       "    <tr>\n",
       "      <th>4</th>\n",
       "      <td>Taxi Affiliation Service Yellow</td>\n",
       "      <td>9299</td>\n",
       "    </tr>\n",
       "    <tr>\n",
       "      <th>5</th>\n",
       "      <td>Chicago Carriage Cab Corp</td>\n",
       "      <td>9181</td>\n",
       "    </tr>\n",
       "    <tr>\n",
       "      <th>6</th>\n",
       "      <td>City Service</td>\n",
       "      <td>8448</td>\n",
       "    </tr>\n",
       "    <tr>\n",
       "      <th>7</th>\n",
       "      <td>Sun Taxi</td>\n",
       "      <td>7701</td>\n",
       "    </tr>\n",
       "    <tr>\n",
       "      <th>8</th>\n",
       "      <td>Star North Management LLC</td>\n",
       "      <td>7455</td>\n",
       "    </tr>\n",
       "    <tr>\n",
       "      <th>9</th>\n",
       "      <td>Blue Ribbon Taxi Association Inc.</td>\n",
       "      <td>5953</td>\n",
       "    </tr>\n",
       "    <tr>\n",
       "      <th>10</th>\n",
       "      <td>Choice Taxi Association</td>\n",
       "      <td>5015</td>\n",
       "    </tr>\n",
       "    <tr>\n",
       "      <th>11</th>\n",
       "      <td>Globe Taxi</td>\n",
       "      <td>4383</td>\n",
       "    </tr>\n",
       "    <tr>\n",
       "      <th>12</th>\n",
       "      <td>Dispatch Taxi Affiliation</td>\n",
       "      <td>3355</td>\n",
       "    </tr>\n",
       "    <tr>\n",
       "      <th>13</th>\n",
       "      <td>Nova Taxi Affiliation Llc</td>\n",
       "      <td>3175</td>\n",
       "    </tr>\n",
       "    <tr>\n",
       "      <th>14</th>\n",
       "      <td>Patriot Taxi Dba Peace Taxi Association</td>\n",
       "      <td>2235</td>\n",
       "    </tr>\n",
       "    <tr>\n",
       "      <th>15</th>\n",
       "      <td>Checker Taxi Affiliation</td>\n",
       "      <td>2216</td>\n",
       "    </tr>\n",
       "  </tbody>\n",
       "</table>\n",
       "</div>"
      ],
      "text/plain": [
       "                               company_name  trips_amount\n",
       "0                                 Flash Cab         19558\n",
       "1                 Taxi Affiliation Services         11422\n",
       "2                         Medallion Leasing         10367\n",
       "3                                Yellow Cab          9888\n",
       "4           Taxi Affiliation Service Yellow          9299\n",
       "5                 Chicago Carriage Cab Corp          9181\n",
       "6                              City Service          8448\n",
       "7                                  Sun Taxi          7701\n",
       "8                 Star North Management LLC          7455\n",
       "9         Blue Ribbon Taxi Association Inc.          5953\n",
       "10                  Choice Taxi Association          5015\n",
       "11                               Globe Taxi          4383\n",
       "12                Dispatch Taxi Affiliation          3355\n",
       "13                Nova Taxi Affiliation Llc          3175\n",
       "14  Patriot Taxi Dba Peace Taxi Association          2235\n",
       "15                 Checker Taxi Affiliation          2216"
      ]
     },
     "execution_count": 15,
     "metadata": {},
     "output_type": "execute_result"
    }
   ],
   "source": [
    "# get q3 of trips\n",
    "trip_q3 = companies['trips_amount'].quantile(0.75)\n",
    "\n",
    "# get top companies\n",
    "top_companies = companies.query('trips_amount > @trip_q3')\n",
    "\n",
    "# show top companies\n",
    "top_companies"
   ]
  },
  {
   "cell_type": "markdown",
   "metadata": {},
   "source": [
    "The top 15 companies are the ones that are above the quartile 3 margin."
   ]
  },
  {
   "cell_type": "code",
   "execution_count": 16,
   "metadata": {},
   "outputs": [
    {
     "data": {
      "image/png": "[encoded data removed]",
      "text/plain": [
       "<Figure size 1152x504 with 1 Axes>"
      ]
     },
     "metadata": {
      "needs_background": "light"
     },
     "output_type": "display_data"
    }
   ],
   "source": [
    "# plot the top companies\n",
    "top_companies.plot(\n",
    "    kind = 'bar',\n",
    "    x = 'company_name',\n",
    "    xlabel = 'Company',\n",
    "    ylabel = 'Number of Trips',\n",
    "    title = 'Number of Trips Per Company November 15-16, 2017',\n",
    "    color = 'lavender',\n",
    "    figsize = (16, 7));"
   ]
  },
  {
   "cell_type": "markdown",
   "metadata": {},
   "source": [
    "Flash Cab had the highest number of trips between November 15-16, 2017 and has nearly double the amount of trips as the company in second place, the Taxi Affiliation Services. Though there are 64 total taxi companies in Chicago, it appears that the top 10 companies are so are the ones who have the most amount of rides."
   ]
  },
  {
   "cell_type": "markdown",
   "metadata": {},
   "source": [
    "## Hypothesis Testing"
   ]
  },
  {
   "cell_type": "markdown",
   "metadata": {},
   "source": [
    "Next, I will take a closer look at the airport dataset, which contains data on the rides from the Loop to O'Hare International Airport. This dataset contains information on what time the ride started, what the weather was like at the start of the ride, and how long the ride lasted.\n",
    "\n",
    "I want to determine if the average duration of rides from the Loop to O'Hare International Airport changes on rainy Saturdays.\n",
    "\n",
    "The null hypothesis is that the average duration of rides from the Loop to O'Hare International Airport does not change if the weather is poor. The alternative hypothesis is that the average duration of rides does change.\n",
    "\n",
    "An alpha value of 0.5 will be used. I will be using a Independent Samples T-Test since we want to compare the means of two groups (being when weather conditions are good versus when they are bad)."
   ]
  },
  {
   "cell_type": "code",
   "execution_count": 17,
   "metadata": {},
   "outputs": [],
   "source": [
    "# creating dataframes to compare\n",
    "good_weather = airport.query('weather_conditions == \"Good\"')\n",
    "bad_weather = airport.query('weather_conditions == \"Bad\"')"
   ]
  },
  {
   "cell_type": "code",
   "execution_count": 18,
   "metadata": {},
   "outputs": [
    {
     "name": "stdout",
     "output_type": "stream",
     "text": [
      "Good Weather Conditions Duration Variation: 576382.009689509\n",
      "Bad Weather Conditions Duration Variation: 520294.086002483\n"
     ]
    }
   ],
   "source": [
    "# check variances\n",
    "print(f'Good Weather Conditions Duration Variation: {good_weather.duration_seconds.var()}')\n",
    "print(f'Bad Weather Conditions Duration Variation: {bad_weather.duration_seconds.var()}')"
   ]
  },
  {
   "cell_type": "markdown",
   "metadata": {},
   "source": [
    "The variances are about equal."
   ]
  },
  {
   "cell_type": "code",
   "execution_count": 19,
   "metadata": {},
   "outputs": [
    {
     "name": "stdout",
     "output_type": "stream",
     "text": [
      "p-value: 6.517970327099473e-12\n"
     ]
    }
   ],
   "source": [
    "# test the hypotheses\n",
    "results = st.ttest_ind(good_weather.duration_seconds, bad_weather.duration_seconds, equal_var = True)\n",
    "print(f'p-value: {results.pvalue}')"
   ]
  },
  {
   "cell_type": "markdown",
   "metadata": {},
   "source": [
    "The p-value is significantly smaller than our alpha of 0.05, so our p-value is statistically significant. We can reject our null hypothesis and say that it is likely that the average duration of rides from the Loop to O'Hare International Airport indeed is affected if the weather is bad."
   ]
  },
  {
   "cell_type": "markdown",
   "metadata": {},
   "source": [
    "## Conclusion"
   ]
  },
  {
   "cell_type": "markdown",
   "metadata": {},
   "source": [
    "In this project, I observed three different datasets. I first cleaned them by updating the column data types to the appropriate type. Then, I determined the top 10 neighborhoods that riders are dropped off at the most and observed the taxi companies that have the largest amount of rides. Loop, River North, Streeterville, and West Loop were found to be the most popular dropoff locations, the Flash Cab was found to be the most successful taxi company in terms of number of rides.\n",
    "\n",
    "Finally, I used a T-Test to determine if poor weather affects the average duration of rides from the Loop to O'Hare International Airport. We rejected the null hypothesis and detemined that poor weather has an affect on average duration of rides."
   ]
  }
 ],
 "metadata": {
  "ExecuteTimeLog": [
   {
    "duration": 366,
    "start_time": "2022-06-10T12:31:41.781Z"
   },
   {
    "duration": 104,
    "start_time": "2022-06-10T12:32:07.610Z"
   },
   {
    "duration": 14,
    "start_time": "2022-06-10T12:32:11.724Z"
   },
   {
    "duration": 10,
    "start_time": "2022-06-10T12:32:17.871Z"
   },
   {
    "duration": 3,
    "start_time": "2022-06-10T12:47:42.553Z"
   },
   {
    "duration": 35,
    "start_time": "2022-06-10T12:47:43.442Z"
   },
   {
    "duration": 92,
    "start_time": "2022-06-10T12:48:43.624Z"
   },
   {
    "duration": 11,
    "start_time": "2022-06-10T12:48:46.424Z"
   },
   {
    "duration": 56,
    "start_time": "2022-06-10T12:49:07.132Z"
   },
   {
    "duration": 11,
    "start_time": "2022-06-10T12:49:19.997Z"
   },
   {
    "duration": 11,
    "start_time": "2022-06-10T12:51:40.288Z"
   },
   {
    "duration": 7,
    "start_time": "2022-06-10T12:51:45.564Z"
   },
   {
    "duration": 14,
    "start_time": "2022-06-10T12:53:36.448Z"
   },
   {
    "duration": 7,
    "start_time": "2022-06-10T12:53:45.963Z"
   },
   {
    "duration": 8,
    "start_time": "2022-06-10T12:56:17.334Z"
   },
   {
    "duration": 70,
    "start_time": "2022-06-10T13:09:58.646Z"
   },
   {
    "duration": 10,
    "start_time": "2022-06-10T13:10:17.918Z"
   },
   {
    "duration": 9,
    "start_time": "2022-06-10T13:10:33.397Z"
   },
   {
    "duration": 11,
    "start_time": "2022-06-10T13:10:41.172Z"
   },
   {
    "duration": 9,
    "start_time": "2022-06-10T13:10:48.268Z"
   },
   {
    "duration": 10,
    "start_time": "2022-06-10T13:13:00.612Z"
   },
   {
    "duration": 13,
    "start_time": "2022-06-10T14:51:59.658Z"
   },
   {
    "duration": 8,
    "start_time": "2022-06-10T14:52:05.030Z"
   },
   {
    "duration": 10,
    "start_time": "2022-06-10T14:52:15.066Z"
   },
   {
    "duration": 7,
    "start_time": "2022-06-10T14:52:23.857Z"
   },
   {
    "duration": 8,
    "start_time": "2022-06-10T14:52:27.247Z"
   },
   {
    "duration": 8,
    "start_time": "2022-06-10T14:52:34.058Z"
   },
   {
    "duration": 7,
    "start_time": "2022-06-10T14:52:42.263Z"
   },
   {
    "duration": 11,
    "start_time": "2022-06-10T14:53:13.090Z"
   },
   {
    "duration": 7,
    "start_time": "2022-06-10T14:53:17.769Z"
   },
   {
    "duration": 62,
    "start_time": "2022-06-10T14:54:51.860Z"
   },
   {
    "duration": 3,
    "start_time": "2022-06-10T14:54:57.213Z"
   },
   {
    "duration": 528,
    "start_time": "2022-06-10T14:54:58.618Z"
   },
   {
    "duration": 8,
    "start_time": "2022-06-10T14:55:03.656Z"
   },
   {
    "duration": 155,
    "start_time": "2022-06-10T14:55:41.499Z"
   },
   {
    "duration": 19,
    "start_time": "2022-06-10T14:55:51.647Z"
   },
   {
    "duration": 145,
    "start_time": "2022-06-10T14:56:10.780Z"
   },
   {
    "duration": 18,
    "start_time": "2022-06-10T14:57:04.017Z"
   },
   {
    "duration": 177,
    "start_time": "2022-06-10T14:57:06.851Z"
   },
   {
    "duration": 239,
    "start_time": "2022-06-10T14:57:26.824Z"
   },
   {
    "duration": 190,
    "start_time": "2022-06-10T14:57:33.536Z"
   },
   {
    "duration": 180,
    "start_time": "2022-06-10T14:57:36.829Z"
   },
   {
    "duration": 181,
    "start_time": "2022-06-10T14:57:43.087Z"
   },
   {
    "duration": 176,
    "start_time": "2022-06-10T14:58:19.398Z"
   },
   {
    "duration": 184,
    "start_time": "2022-06-10T14:59:55.967Z"
   },
   {
    "duration": 9,
    "start_time": "2022-06-10T15:01:09.071Z"
   },
   {
    "duration": 12,
    "start_time": "2022-06-10T15:01:32.407Z"
   },
   {
    "duration": 13,
    "start_time": "2022-06-10T15:01:39.436Z"
   },
   {
    "duration": 140,
    "start_time": "2022-06-10T15:01:51.176Z"
   },
   {
    "duration": 822,
    "start_time": "2022-06-10T15:02:04.092Z"
   },
   {
    "duration": 166,
    "start_time": "2022-06-10T15:03:43.869Z"
   },
   {
    "duration": 173,
    "start_time": "2022-06-10T15:03:49.710Z"
   },
   {
    "duration": 265,
    "start_time": "2022-06-10T15:03:57.412Z"
   },
   {
    "duration": 10,
    "start_time": "2022-06-10T15:08:04.693Z"
   },
   {
    "duration": 7,
    "start_time": "2022-06-10T15:12:56.862Z"
   },
   {
    "duration": 26,
    "start_time": "2022-06-10T15:13:26.943Z"
   },
   {
    "duration": 6,
    "start_time": "2022-06-10T15:14:05.075Z"
   },
   {
    "duration": 30,
    "start_time": "2022-06-10T15:14:38.364Z"
   },
   {
    "duration": 4,
    "start_time": "2022-06-10T15:14:44.237Z"
   },
   {
    "duration": 9,
    "start_time": "2022-06-10T15:14:46.312Z"
   },
   {
    "duration": 11,
    "start_time": "2022-06-10T15:15:37.573Z"
   },
   {
    "duration": 195,
    "start_time": "2022-06-10T15:17:24.646Z"
   },
   {
    "duration": 231,
    "start_time": "2022-06-10T15:18:26.812Z"
   },
   {
    "duration": 262,
    "start_time": "2022-06-10T15:18:32.780Z"
   },
   {
    "duration": 297,
    "start_time": "2022-06-10T15:18:39.994Z"
   },
   {
    "duration": 24,
    "start_time": "2022-06-10T15:18:48.941Z"
   },
   {
    "duration": 273,
    "start_time": "2022-06-10T15:18:51.554Z"
   },
   {
    "duration": 283,
    "start_time": "2022-06-10T15:18:56.757Z"
   },
   {
    "duration": 11,
    "start_time": "2022-06-10T15:23:56.367Z"
   },
   {
    "duration": 17,
    "start_time": "2022-06-10T15:27:32.946Z"
   },
   {
    "duration": 6,
    "start_time": "2022-06-10T15:27:41.747Z"
   },
   {
    "duration": 5,
    "start_time": "2022-06-10T15:28:20.944Z"
   },
   {
    "duration": 8,
    "start_time": "2022-06-10T15:29:01.740Z"
   },
   {
    "duration": 512,
    "start_time": "2022-06-10T15:29:15.696Z"
   },
   {
    "duration": 5,
    "start_time": "2022-06-10T15:29:19.655Z"
   },
   {
    "duration": 11,
    "start_time": "2022-06-10T15:44:12.947Z"
   },
   {
    "duration": 13,
    "start_time": "2022-06-10T15:44:19.216Z"
   },
   {
    "duration": 878,
    "start_time": "2022-06-10T15:45:00.954Z"
   },
   {
    "duration": 58,
    "start_time": "2022-06-10T15:45:01.834Z"
   },
   {
    "duration": 26,
    "start_time": "2022-06-10T15:45:01.894Z"
   },
   {
    "duration": 77,
    "start_time": "2022-06-10T15:45:01.922Z"
   },
   {
    "duration": 28,
    "start_time": "2022-06-10T15:45:02.002Z"
   },
   {
    "duration": 42,
    "start_time": "2022-06-10T15:45:02.032Z"
   },
   {
    "duration": 80,
    "start_time": "2022-06-10T15:45:02.075Z"
   },
   {
    "duration": 63,
    "start_time": "2022-06-10T15:45:02.156Z"
   },
   {
    "duration": 18,
    "start_time": "2022-06-10T15:45:02.221Z"
   },
   {
    "duration": 39,
    "start_time": "2022-06-10T15:45:02.241Z"
   },
   {
    "duration": 19,
    "start_time": "2022-06-10T15:45:02.282Z"
   },
   {
    "duration": 40,
    "start_time": "2022-06-10T15:45:02.303Z"
   },
   {
    "duration": 464,
    "start_time": "2022-06-10T15:45:02.346Z"
   },
   {
    "duration": 13,
    "start_time": "2022-06-10T15:45:02.813Z"
   },
   {
    "duration": 52,
    "start_time": "2022-06-10T15:45:02.828Z"
   },
   {
    "duration": 312,
    "start_time": "2022-06-10T15:45:02.882Z"
   },
   {
    "duration": 111,
    "start_time": "2022-06-10T15:45:03.195Z"
   },
   {
    "duration": 0,
    "start_time": "2022-06-10T15:45:03.308Z"
   },
   {
    "duration": 0,
    "start_time": "2022-06-10T15:45:03.310Z"
   },
   {
    "duration": 54,
    "start_time": "2022-06-10T15:45:55.445Z"
   },
   {
    "duration": 856,
    "start_time": "2022-06-10T15:45:59.618Z"
   },
   {
    "duration": 57,
    "start_time": "2022-06-10T15:46:00.476Z"
   },
   {
    "duration": 11,
    "start_time": "2022-06-10T15:46:00.534Z"
   },
   {
    "duration": 57,
    "start_time": "2022-06-10T15:46:00.547Z"
   },
   {
    "duration": 52,
    "start_time": "2022-06-10T15:46:00.606Z"
   },
   {
    "duration": 35,
    "start_time": "2022-06-10T15:46:00.660Z"
   },
   {
    "duration": 30,
    "start_time": "2022-06-10T15:46:00.697Z"
   },
   {
    "duration": 117,
    "start_time": "2022-06-10T15:46:00.729Z"
   },
   {
    "duration": 0,
    "start_time": "2022-06-10T15:46:00.848Z"
   },
   {
    "duration": 0,
    "start_time": "2022-06-10T15:46:00.849Z"
   },
   {
    "duration": 0,
    "start_time": "2022-06-10T15:46:00.850Z"
   },
   {
    "duration": 0,
    "start_time": "2022-06-10T15:46:00.853Z"
   },
   {
    "duration": 0,
    "start_time": "2022-06-10T15:46:00.854Z"
   },
   {
    "duration": 0,
    "start_time": "2022-06-10T15:46:00.855Z"
   },
   {
    "duration": 0,
    "start_time": "2022-06-10T15:46:00.856Z"
   },
   {
    "duration": 0,
    "start_time": "2022-06-10T15:46:00.857Z"
   },
   {
    "duration": 0,
    "start_time": "2022-06-10T15:46:00.858Z"
   },
   {
    "duration": 0,
    "start_time": "2022-06-10T15:46:00.860Z"
   },
   {
    "duration": 0,
    "start_time": "2022-06-10T15:46:00.861Z"
   },
   {
    "duration": 886,
    "start_time": "2022-06-10T15:46:39.122Z"
   },
   {
    "duration": 67,
    "start_time": "2022-06-10T15:46:40.012Z"
   },
   {
    "duration": 12,
    "start_time": "2022-06-10T15:46:40.081Z"
   },
   {
    "duration": 17,
    "start_time": "2022-06-10T15:46:40.096Z"
   },
   {
    "duration": 12,
    "start_time": "2022-06-10T15:46:40.115Z"
   },
   {
    "duration": 24,
    "start_time": "2022-06-10T15:46:40.129Z"
   },
   {
    "duration": 35,
    "start_time": "2022-06-10T15:46:40.155Z"
   },
   {
    "duration": 24,
    "start_time": "2022-06-10T15:46:40.192Z"
   },
   {
    "duration": 21,
    "start_time": "2022-06-10T15:46:40.218Z"
   },
   {
    "duration": 23,
    "start_time": "2022-06-10T15:46:40.243Z"
   },
   {
    "duration": 31,
    "start_time": "2022-06-10T15:46:40.268Z"
   },
   {
    "duration": 14,
    "start_time": "2022-06-10T15:46:40.300Z"
   },
   {
    "duration": 499,
    "start_time": "2022-06-10T15:46:40.316Z"
   },
   {
    "duration": 13,
    "start_time": "2022-06-10T15:46:40.817Z"
   },
   {
    "duration": 33,
    "start_time": "2022-06-10T15:46:40.831Z"
   },
   {
    "duration": 328,
    "start_time": "2022-06-10T15:46:40.866Z"
   },
   {
    "duration": 7,
    "start_time": "2022-06-10T15:46:41.196Z"
   },
   {
    "duration": 11,
    "start_time": "2022-06-10T15:46:41.205Z"
   },
   {
    "duration": 7,
    "start_time": "2022-06-10T15:46:41.217Z"
   }
  ],
  "kernelspec": {
   "display_name": "Python 3 (ipykernel)",
   "language": "python",
   "name": "python3"
  },
  "language_info": {
   "codemirror_mode": {
    "name": "ipython",
    "version": 3
   },
   "file_extension": ".py",
   "mimetype": "text/x-python",
   "name": "python",
   "nbconvert_exporter": "python",
   "pygments_lexer": "ipython3",
   "version": "3.9.6"
  },
  "toc": {
   "base_numbering": 1,
   "nav_menu": {},
   "number_sections": true,
   "sideBar": true,
   "skip_h1_title": true,
   "title_cell": "Table of Contents",
   "title_sidebar": "Contents",
   "toc_cell": false,
   "toc_position": {},
   "toc_section_display": true,
   "toc_window_display": false
  }
 },
 "nbformat": 4,
 "nbformat_minor": 2
}
