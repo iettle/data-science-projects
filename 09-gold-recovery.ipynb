{
 "cells": [
  {
   "cell_type": "markdown",
   "metadata": {},
   "source": [
    "# Predicting Gold Recovered From Ore\n",
    "\n",
    "In this project, a machine learning model will be created for Zyfra to predict the amount of gold recovered from gold ore using the data we were provided on the extraction and purification process. The datasets will first be viewed, cleaned, and checked for anomalies. Three different ML models will be compared using sMAPE (symmetric Mean Absolute Percentage Error) as the evaluation metric. The model with the lowest sMAPE will be validated against the test data."
   ]
  },
  {
   "cell_type": "markdown",
   "metadata": {},
   "source": [
    "## Load + Prepare Data"
   ]
  },
  {
   "cell_type": "markdown",
   "metadata": {},
   "source": [
    "We are given three datasets. They will be defined as **df_full** (the source dataset), **df_train** (the training dataset), and **df_test** (the test dataset). The data will be observed and analyzed, and I will check to ensure that recovery (referencing the rougher.output.recovery feature) is calculated correctly. "
   ]
  },
  {
   "cell_type": "markdown",
   "metadata": {},
   "source": [
    "### Loading Datasets"
   ]
  },
  {
   "cell_type": "code",
   "execution_count": 1,
   "metadata": {},
   "outputs": [],
   "source": [
    "# import libraries\n",
    "import pandas as pd\n",
    "import numpy as np\n",
    "import matplotlib.pyplot as plt\n",
    "import seaborn as sns\n",
    "\n",
    "from sklearn.model_selection import train_test_split\n",
    "from sklearn.linear_model import LinearRegression\n",
    "from sklearn.ensemble import RandomForestRegressor\n",
    "from sklearn.tree import DecisionTreeRegressor\n",
    "\n",
    "from sklearn.model_selection import cross_val_score\n",
    "from sklearn.metrics import mean_absolute_error\n",
    "from sklearn.metrics import make_scorer"
   ]
  },
  {
   "cell_type": "code",
   "execution_count": 2,
   "metadata": {},
   "outputs": [],
   "source": [
    "# loading datasets \n",
    "try:\n",
    "    df_full = pd.read_csv('/datasets/gold_recovery_full.csv')\n",
    "    df_train = pd.read_csv('/datasets/gold_recovery_train.csv')\n",
    "    df_test = pd.read_csv('/datasets/gold_recovery_test.csv')\n",
    "except:\n",
    "    print(\"One or more data files could not be read.\")"
   ]
  },
  {
   "cell_type": "markdown",
   "metadata": {},
   "source": [
    "### View Data"
   ]
  },
  {
   "cell_type": "code",
   "execution_count": 3,
   "metadata": {},
   "outputs": [
    {
     "name": "stdout",
     "output_type": "stream",
     "text": [
      "<class 'pandas.core.frame.DataFrame'>\n",
      "RangeIndex: 22716 entries, 0 to 22715\n",
      "Data columns (total 87 columns):\n",
      " #   Column                                              Non-Null Count  Dtype  \n",
      "---  ------                                              --------------  -----  \n",
      " 0   date                                                22716 non-null  object \n",
      " 1   final.output.concentrate_ag                         22627 non-null  float64\n",
      " 2   final.output.concentrate_pb                         22629 non-null  float64\n",
      " 3   final.output.concentrate_sol                        22331 non-null  float64\n",
      " 4   final.output.concentrate_au                         22630 non-null  float64\n",
      " 5   final.output.recovery                               20753 non-null  float64\n",
      " 6   final.output.tail_ag                                22633 non-null  float64\n",
      " 7   final.output.tail_pb                                22516 non-null  float64\n",
      " 8   final.output.tail_sol                               22445 non-null  float64\n",
      " 9   final.output.tail_au                                22635 non-null  float64\n",
      " 10  primary_cleaner.input.sulfate                       21107 non-null  float64\n",
      " 11  primary_cleaner.input.depressant                    21170 non-null  float64\n",
      " 12  primary_cleaner.input.feed_size                     22716 non-null  float64\n",
      " 13  primary_cleaner.input.xanthate                      21565 non-null  float64\n",
      " 14  primary_cleaner.output.concentrate_ag               22618 non-null  float64\n",
      " 15  primary_cleaner.output.concentrate_pb               22268 non-null  float64\n",
      " 16  primary_cleaner.output.concentrate_sol              21918 non-null  float64\n",
      " 17  primary_cleaner.output.concentrate_au               22618 non-null  float64\n",
      " 18  primary_cleaner.output.tail_ag                      22614 non-null  float64\n",
      " 19  primary_cleaner.output.tail_pb                      22594 non-null  float64\n",
      " 20  primary_cleaner.output.tail_sol                     22365 non-null  float64\n",
      " 21  primary_cleaner.output.tail_au                      22617 non-null  float64\n",
      " 22  primary_cleaner.state.floatbank8_a_air              22660 non-null  float64\n",
      " 23  primary_cleaner.state.floatbank8_a_level            22667 non-null  float64\n",
      " 24  primary_cleaner.state.floatbank8_b_air              22660 non-null  float64\n",
      " 25  primary_cleaner.state.floatbank8_b_level            22673 non-null  float64\n",
      " 26  primary_cleaner.state.floatbank8_c_air              22662 non-null  float64\n",
      " 27  primary_cleaner.state.floatbank8_c_level            22673 non-null  float64\n",
      " 28  primary_cleaner.state.floatbank8_d_air              22661 non-null  float64\n",
      " 29  primary_cleaner.state.floatbank8_d_level            22673 non-null  float64\n",
      " 30  rougher.calculation.sulfate_to_au_concentrate       22672 non-null  float64\n",
      " 31  rougher.calculation.floatbank10_sulfate_to_au_feed  22672 non-null  float64\n",
      " 32  rougher.calculation.floatbank11_sulfate_to_au_feed  22672 non-null  float64\n",
      " 33  rougher.calculation.au_pb_ratio                     21089 non-null  float64\n",
      " 34  rougher.input.feed_ag                               22618 non-null  float64\n",
      " 35  rougher.input.feed_pb                               22472 non-null  float64\n",
      " 36  rougher.input.feed_rate                             22163 non-null  float64\n",
      " 37  rougher.input.feed_size                             22277 non-null  float64\n",
      " 38  rougher.input.feed_sol                              22357 non-null  float64\n",
      " 39  rougher.input.feed_au                               22617 non-null  float64\n",
      " 40  rougher.input.floatbank10_sulfate                   21415 non-null  float64\n",
      " 41  rougher.input.floatbank10_xanthate                  22247 non-null  float64\n",
      " 42  rougher.input.floatbank11_sulfate                   22038 non-null  float64\n",
      " 43  rougher.input.floatbank11_xanthate                  20459 non-null  float64\n",
      " 44  rougher.output.concentrate_ag                       22618 non-null  float64\n",
      " 45  rougher.output.concentrate_pb                       22618 non-null  float64\n",
      " 46  rougher.output.concentrate_sol                      22526 non-null  float64\n",
      " 47  rougher.output.concentrate_au                       22618 non-null  float64\n",
      " 48  rougher.output.recovery                             19597 non-null  float64\n",
      " 49  rougher.output.tail_ag                              19979 non-null  float64\n",
      " 50  rougher.output.tail_pb                              22618 non-null  float64\n",
      " 51  rougher.output.tail_sol                             19980 non-null  float64\n",
      " 52  rougher.output.tail_au                              19980 non-null  float64\n",
      " 53  rougher.state.floatbank10_a_air                     22646 non-null  float64\n",
      " 54  rougher.state.floatbank10_a_level                   22647 non-null  float64\n",
      " 55  rougher.state.floatbank10_b_air                     22646 non-null  float64\n",
      " 56  rougher.state.floatbank10_b_level                   22647 non-null  float64\n",
      " 57  rougher.state.floatbank10_c_air                     22646 non-null  float64\n",
      " 58  rougher.state.floatbank10_c_level                   22654 non-null  float64\n",
      " 59  rougher.state.floatbank10_d_air                     22641 non-null  float64\n",
      " 60  rougher.state.floatbank10_d_level                   22649 non-null  float64\n",
      " 61  rougher.state.floatbank10_e_air                     22096 non-null  float64\n",
      " 62  rougher.state.floatbank10_e_level                   22649 non-null  float64\n",
      " 63  rougher.state.floatbank10_f_air                     22641 non-null  float64\n",
      " 64  rougher.state.floatbank10_f_level                   22642 non-null  float64\n",
      " 65  secondary_cleaner.output.tail_ag                    22616 non-null  float64\n",
      " 66  secondary_cleaner.output.tail_pb                    22600 non-null  float64\n",
      " 67  secondary_cleaner.output.tail_sol                   20501 non-null  float64\n",
      " 68  secondary_cleaner.output.tail_au                    22618 non-null  float64\n",
      " 69  secondary_cleaner.state.floatbank2_a_air            22333 non-null  float64\n",
      " 70  secondary_cleaner.state.floatbank2_a_level          22591 non-null  float64\n",
      " 71  secondary_cleaner.state.floatbank2_b_air            22538 non-null  float64\n",
      " 72  secondary_cleaner.state.floatbank2_b_level          22588 non-null  float64\n",
      " 73  secondary_cleaner.state.floatbank3_a_air            22585 non-null  float64\n",
      " 74  secondary_cleaner.state.floatbank3_a_level          22587 non-null  float64\n",
      " 75  secondary_cleaner.state.floatbank3_b_air            22592 non-null  float64\n",
      " 76  secondary_cleaner.state.floatbank3_b_level          22590 non-null  float64\n",
      " 77  secondary_cleaner.state.floatbank4_a_air            22571 non-null  float64\n",
      " 78  secondary_cleaner.state.floatbank4_a_level          22587 non-null  float64\n",
      " 79  secondary_cleaner.state.floatbank4_b_air            22608 non-null  float64\n",
      " 80  secondary_cleaner.state.floatbank4_b_level          22607 non-null  float64\n",
      " 81  secondary_cleaner.state.floatbank5_a_air            22615 non-null  float64\n",
      " 82  secondary_cleaner.state.floatbank5_a_level          22615 non-null  float64\n",
      " 83  secondary_cleaner.state.floatbank5_b_air            22615 non-null  float64\n",
      " 84  secondary_cleaner.state.floatbank5_b_level          22616 non-null  float64\n",
      " 85  secondary_cleaner.state.floatbank6_a_air            22597 non-null  float64\n",
      " 86  secondary_cleaner.state.floatbank6_a_level          22615 non-null  float64\n",
      "dtypes: float64(86), object(1)\n",
      "memory usage: 15.1+ MB\n"
     ]
    }
   ],
   "source": [
    "# view source data\n",
    "df_full.info()"
   ]
  },
  {
   "cell_type": "code",
   "execution_count": 4,
   "metadata": {},
   "outputs": [
    {
     "name": "stdout",
     "output_type": "stream",
     "text": [
      "<class 'pandas.core.frame.DataFrame'>\n",
      "RangeIndex: 16860 entries, 0 to 16859\n",
      "Data columns (total 87 columns):\n",
      " #   Column                                              Non-Null Count  Dtype  \n",
      "---  ------                                              --------------  -----  \n",
      " 0   date                                                16860 non-null  object \n",
      " 1   final.output.concentrate_ag                         16788 non-null  float64\n",
      " 2   final.output.concentrate_pb                         16788 non-null  float64\n",
      " 3   final.output.concentrate_sol                        16490 non-null  float64\n",
      " 4   final.output.concentrate_au                         16789 non-null  float64\n",
      " 5   final.output.recovery                               15339 non-null  float64\n",
      " 6   final.output.tail_ag                                16794 non-null  float64\n",
      " 7   final.output.tail_pb                                16677 non-null  float64\n",
      " 8   final.output.tail_sol                               16715 non-null  float64\n",
      " 9   final.output.tail_au                                16794 non-null  float64\n",
      " 10  primary_cleaner.input.sulfate                       15553 non-null  float64\n",
      " 11  primary_cleaner.input.depressant                    15598 non-null  float64\n",
      " 12  primary_cleaner.input.feed_size                     16860 non-null  float64\n",
      " 13  primary_cleaner.input.xanthate                      15875 non-null  float64\n",
      " 14  primary_cleaner.output.concentrate_ag               16778 non-null  float64\n",
      " 15  primary_cleaner.output.concentrate_pb               16502 non-null  float64\n",
      " 16  primary_cleaner.output.concentrate_sol              16224 non-null  float64\n",
      " 17  primary_cleaner.output.concentrate_au               16778 non-null  float64\n",
      " 18  primary_cleaner.output.tail_ag                      16777 non-null  float64\n",
      " 19  primary_cleaner.output.tail_pb                      16761 non-null  float64\n",
      " 20  primary_cleaner.output.tail_sol                     16579 non-null  float64\n",
      " 21  primary_cleaner.output.tail_au                      16777 non-null  float64\n",
      " 22  primary_cleaner.state.floatbank8_a_air              16820 non-null  float64\n",
      " 23  primary_cleaner.state.floatbank8_a_level            16827 non-null  float64\n",
      " 24  primary_cleaner.state.floatbank8_b_air              16820 non-null  float64\n",
      " 25  primary_cleaner.state.floatbank8_b_level            16833 non-null  float64\n",
      " 26  primary_cleaner.state.floatbank8_c_air              16822 non-null  float64\n",
      " 27  primary_cleaner.state.floatbank8_c_level            16833 non-null  float64\n",
      " 28  primary_cleaner.state.floatbank8_d_air              16821 non-null  float64\n",
      " 29  primary_cleaner.state.floatbank8_d_level            16833 non-null  float64\n",
      " 30  rougher.calculation.sulfate_to_au_concentrate       16833 non-null  float64\n",
      " 31  rougher.calculation.floatbank10_sulfate_to_au_feed  16833 non-null  float64\n",
      " 32  rougher.calculation.floatbank11_sulfate_to_au_feed  16833 non-null  float64\n",
      " 33  rougher.calculation.au_pb_ratio                     15618 non-null  float64\n",
      " 34  rougher.input.feed_ag                               16778 non-null  float64\n",
      " 35  rougher.input.feed_pb                               16632 non-null  float64\n",
      " 36  rougher.input.feed_rate                             16347 non-null  float64\n",
      " 37  rougher.input.feed_size                             16443 non-null  float64\n",
      " 38  rougher.input.feed_sol                              16568 non-null  float64\n",
      " 39  rougher.input.feed_au                               16777 non-null  float64\n",
      " 40  rougher.input.floatbank10_sulfate                   15816 non-null  float64\n",
      " 41  rougher.input.floatbank10_xanthate                  16514 non-null  float64\n",
      " 42  rougher.input.floatbank11_sulfate                   16237 non-null  float64\n",
      " 43  rougher.input.floatbank11_xanthate                  14956 non-null  float64\n",
      " 44  rougher.output.concentrate_ag                       16778 non-null  float64\n",
      " 45  rougher.output.concentrate_pb                       16778 non-null  float64\n",
      " 46  rougher.output.concentrate_sol                      16698 non-null  float64\n",
      " 47  rougher.output.concentrate_au                       16778 non-null  float64\n",
      " 48  rougher.output.recovery                             14287 non-null  float64\n",
      " 49  rougher.output.tail_ag                              14610 non-null  float64\n",
      " 50  rougher.output.tail_pb                              16778 non-null  float64\n",
      " 51  rougher.output.tail_sol                             14611 non-null  float64\n",
      " 52  rougher.output.tail_au                              14611 non-null  float64\n",
      " 53  rougher.state.floatbank10_a_air                     16807 non-null  float64\n",
      " 54  rougher.state.floatbank10_a_level                   16807 non-null  float64\n",
      " 55  rougher.state.floatbank10_b_air                     16807 non-null  float64\n",
      " 56  rougher.state.floatbank10_b_level                   16807 non-null  float64\n",
      " 57  rougher.state.floatbank10_c_air                     16807 non-null  float64\n",
      " 58  rougher.state.floatbank10_c_level                   16814 non-null  float64\n",
      " 59  rougher.state.floatbank10_d_air                     16802 non-null  float64\n",
      " 60  rougher.state.floatbank10_d_level                   16809 non-null  float64\n",
      " 61  rougher.state.floatbank10_e_air                     16257 non-null  float64\n",
      " 62  rougher.state.floatbank10_e_level                   16809 non-null  float64\n",
      " 63  rougher.state.floatbank10_f_air                     16802 non-null  float64\n",
      " 64  rougher.state.floatbank10_f_level                   16802 non-null  float64\n",
      " 65  secondary_cleaner.output.tail_ag                    16776 non-null  float64\n",
      " 66  secondary_cleaner.output.tail_pb                    16764 non-null  float64\n",
      " 67  secondary_cleaner.output.tail_sol                   14874 non-null  float64\n",
      " 68  secondary_cleaner.output.tail_au                    16778 non-null  float64\n",
      " 69  secondary_cleaner.state.floatbank2_a_air            16497 non-null  float64\n",
      " 70  secondary_cleaner.state.floatbank2_a_level          16751 non-null  float64\n",
      " 71  secondary_cleaner.state.floatbank2_b_air            16705 non-null  float64\n",
      " 72  secondary_cleaner.state.floatbank2_b_level          16748 non-null  float64\n",
      " 73  secondary_cleaner.state.floatbank3_a_air            16763 non-null  float64\n",
      " 74  secondary_cleaner.state.floatbank3_a_level          16747 non-null  float64\n",
      " 75  secondary_cleaner.state.floatbank3_b_air            16752 non-null  float64\n",
      " 76  secondary_cleaner.state.floatbank3_b_level          16750 non-null  float64\n",
      " 77  secondary_cleaner.state.floatbank4_a_air            16731 non-null  float64\n",
      " 78  secondary_cleaner.state.floatbank4_a_level          16747 non-null  float64\n",
      " 79  secondary_cleaner.state.floatbank4_b_air            16768 non-null  float64\n",
      " 80  secondary_cleaner.state.floatbank4_b_level          16767 non-null  float64\n",
      " 81  secondary_cleaner.state.floatbank5_a_air            16775 non-null  float64\n",
      " 82  secondary_cleaner.state.floatbank5_a_level          16775 non-null  float64\n",
      " 83  secondary_cleaner.state.floatbank5_b_air            16775 non-null  float64\n",
      " 84  secondary_cleaner.state.floatbank5_b_level          16776 non-null  float64\n",
      " 85  secondary_cleaner.state.floatbank6_a_air            16757 non-null  float64\n",
      " 86  secondary_cleaner.state.floatbank6_a_level          16775 non-null  float64\n",
      "dtypes: float64(86), object(1)\n",
      "memory usage: 11.2+ MB\n"
     ]
    }
   ],
   "source": [
    "# view training data\n",
    "df_train.info()"
   ]
  },
  {
   "cell_type": "code",
   "execution_count": 5,
   "metadata": {},
   "outputs": [
    {
     "name": "stdout",
     "output_type": "stream",
     "text": [
      "<class 'pandas.core.frame.DataFrame'>\n",
      "RangeIndex: 5856 entries, 0 to 5855\n",
      "Data columns (total 53 columns):\n",
      " #   Column                                      Non-Null Count  Dtype  \n",
      "---  ------                                      --------------  -----  \n",
      " 0   date                                        5856 non-null   object \n",
      " 1   primary_cleaner.input.sulfate               5554 non-null   float64\n",
      " 2   primary_cleaner.input.depressant            5572 non-null   float64\n",
      " 3   primary_cleaner.input.feed_size             5856 non-null   float64\n",
      " 4   primary_cleaner.input.xanthate              5690 non-null   float64\n",
      " 5   primary_cleaner.state.floatbank8_a_air      5840 non-null   float64\n",
      " 6   primary_cleaner.state.floatbank8_a_level    5840 non-null   float64\n",
      " 7   primary_cleaner.state.floatbank8_b_air      5840 non-null   float64\n",
      " 8   primary_cleaner.state.floatbank8_b_level    5840 non-null   float64\n",
      " 9   primary_cleaner.state.floatbank8_c_air      5840 non-null   float64\n",
      " 10  primary_cleaner.state.floatbank8_c_level    5840 non-null   float64\n",
      " 11  primary_cleaner.state.floatbank8_d_air      5840 non-null   float64\n",
      " 12  primary_cleaner.state.floatbank8_d_level    5840 non-null   float64\n",
      " 13  rougher.input.feed_ag                       5840 non-null   float64\n",
      " 14  rougher.input.feed_pb                       5840 non-null   float64\n",
      " 15  rougher.input.feed_rate                     5816 non-null   float64\n",
      " 16  rougher.input.feed_size                     5834 non-null   float64\n",
      " 17  rougher.input.feed_sol                      5789 non-null   float64\n",
      " 18  rougher.input.feed_au                       5840 non-null   float64\n",
      " 19  rougher.input.floatbank10_sulfate           5599 non-null   float64\n",
      " 20  rougher.input.floatbank10_xanthate          5733 non-null   float64\n",
      " 21  rougher.input.floatbank11_sulfate           5801 non-null   float64\n",
      " 22  rougher.input.floatbank11_xanthate          5503 non-null   float64\n",
      " 23  rougher.state.floatbank10_a_air             5839 non-null   float64\n",
      " 24  rougher.state.floatbank10_a_level           5840 non-null   float64\n",
      " 25  rougher.state.floatbank10_b_air             5839 non-null   float64\n",
      " 26  rougher.state.floatbank10_b_level           5840 non-null   float64\n",
      " 27  rougher.state.floatbank10_c_air             5839 non-null   float64\n",
      " 28  rougher.state.floatbank10_c_level           5840 non-null   float64\n",
      " 29  rougher.state.floatbank10_d_air             5839 non-null   float64\n",
      " 30  rougher.state.floatbank10_d_level           5840 non-null   float64\n",
      " 31  rougher.state.floatbank10_e_air             5839 non-null   float64\n",
      " 32  rougher.state.floatbank10_e_level           5840 non-null   float64\n",
      " 33  rougher.state.floatbank10_f_air             5839 non-null   float64\n",
      " 34  rougher.state.floatbank10_f_level           5840 non-null   float64\n",
      " 35  secondary_cleaner.state.floatbank2_a_air    5836 non-null   float64\n",
      " 36  secondary_cleaner.state.floatbank2_a_level  5840 non-null   float64\n",
      " 37  secondary_cleaner.state.floatbank2_b_air    5833 non-null   float64\n",
      " 38  secondary_cleaner.state.floatbank2_b_level  5840 non-null   float64\n",
      " 39  secondary_cleaner.state.floatbank3_a_air    5822 non-null   float64\n",
      " 40  secondary_cleaner.state.floatbank3_a_level  5840 non-null   float64\n",
      " 41  secondary_cleaner.state.floatbank3_b_air    5840 non-null   float64\n",
      " 42  secondary_cleaner.state.floatbank3_b_level  5840 non-null   float64\n",
      " 43  secondary_cleaner.state.floatbank4_a_air    5840 non-null   float64\n",
      " 44  secondary_cleaner.state.floatbank4_a_level  5840 non-null   float64\n",
      " 45  secondary_cleaner.state.floatbank4_b_air    5840 non-null   float64\n",
      " 46  secondary_cleaner.state.floatbank4_b_level  5840 non-null   float64\n",
      " 47  secondary_cleaner.state.floatbank5_a_air    5840 non-null   float64\n",
      " 48  secondary_cleaner.state.floatbank5_a_level  5840 non-null   float64\n",
      " 49  secondary_cleaner.state.floatbank5_b_air    5840 non-null   float64\n",
      " 50  secondary_cleaner.state.floatbank5_b_level  5840 non-null   float64\n",
      " 51  secondary_cleaner.state.floatbank6_a_air    5840 non-null   float64\n",
      " 52  secondary_cleaner.state.floatbank6_a_level  5840 non-null   float64\n",
      "dtypes: float64(52), object(1)\n",
      "memory usage: 2.4+ MB\n"
     ]
    }
   ],
   "source": [
    "# view test data\n",
    "df_test.info()"
   ]
  },
  {
   "cell_type": "markdown",
   "metadata": {},
   "source": [
    "To summarize, **df_full** has 22716 entries and 87 columns. **df_train** has 16860 entries and 87 columns. **df_test** has 5856 entries and 53 columns. The test set is missing many features; this is expected. Features that were calculated later, as well as targets, are excluded from the test dataset.\n",
    "\n",
    "All three datasets have null values across multiple columns."
   ]
  },
  {
   "cell_type": "markdown",
   "metadata": {},
   "source": [
    "### Check Recovery\n",
    "Within the training set, we need to check that `rougher.output.recovery` was calculated correctly.\n",
    "\n",
    "The formula to simulate the recovery process is as follows: `[C x (F - T)]/[F x (C - T)] * 100`\n",
    "Where C = share of gold in the concentrate right after flotation, F = share of gold in the feed before flotation, and T = share of gold in the rougher tails right after flotation.\n",
    "\n",
    "* C = `rougher.output.concentrate_au`\n",
    "* F = `rougher.input.feed_au`\n",
    "* T = `rougher.output.tail_au`"
   ]
  },
  {
   "cell_type": "code",
   "execution_count": 6,
   "metadata": {},
   "outputs": [],
   "source": [
    "# given gold in concentration after flotation, gold in feed before flotation, and gold in rougher\n",
    "# tails after flotation, calculate the percentage that was recovered\n",
    "def calculate_recovery(C, F, T):\n",
    "    numerator = C * (F - T)\n",
    "    denominator = F * (C - T)\n",
    "    return numerator / denominator * 100"
   ]
  },
  {
   "cell_type": "code",
   "execution_count": 7,
   "metadata": {},
   "outputs": [],
   "source": [
    "# features required in the formula\n",
    "C = df_train['rougher.output.concentrate_au']\n",
    "F = df_train['rougher.input.feed_au']\n",
    "T = df_train['rougher.output.tail_au']\n",
    "\n",
    "# create new column based on C, F, T\n",
    "predicted_recovery = calculate_recovery(C, F, T)"
   ]
  },
  {
   "cell_type": "code",
   "execution_count": 8,
   "metadata": {},
   "outputs": [
    {
     "data": {
      "text/plain": [
       "0        87.107763\n",
       "1        86.843261\n",
       "2        86.842308\n",
       "3        87.226430\n",
       "4        86.688794\n",
       "           ...    \n",
       "16855    89.574376\n",
       "16856    87.724007\n",
       "16857    88.890579\n",
       "16858    89.858126\n",
       "16859    89.514960\n",
       "Length: 16860, dtype: float64"
      ]
     },
     "execution_count": 8,
     "metadata": {},
     "output_type": "execute_result"
    }
   ],
   "source": [
    "# check that predicted was calculated\n",
    "predicted_recovery"
   ]
  },
  {
   "cell_type": "code",
   "execution_count": 9,
   "metadata": {},
   "outputs": [],
   "source": [
    "def calculate_mae(target, predicted): \n",
    "    return (predicted - target).abs().mean()"
   ]
  },
  {
   "cell_type": "code",
   "execution_count": 10,
   "metadata": {
    "scrolled": true
   },
   "outputs": [
    {
     "data": {
      "text/plain": [
       "9.303415616264301e-15"
      ]
     },
     "execution_count": 10,
     "metadata": {},
     "output_type": "execute_result"
    }
   ],
   "source": [
    "# calculate MAE \n",
    "target_recovery = df_train['rougher.output.recovery']\n",
    "\n",
    "calculate_mae(predicted_recovery, target_recovery)"
   ]
  },
  {
   "cell_type": "markdown",
   "metadata": {},
   "source": [
    "The MAE is extremely close to 0. This indicates that recovery was calculated correctly."
   ]
  },
  {
   "cell_type": "markdown",
   "metadata": {},
   "source": [
    "### Test Set\n",
    "As stated above, the test set is missing numerous features due to when the data for it was pulled. I will be analyzing the features that are missing from it."
   ]
  },
  {
   "cell_type": "code",
   "execution_count": 11,
   "metadata": {},
   "outputs": [
    {
     "name": "stdout",
     "output_type": "stream",
     "text": [
      "The test dataset is missing 34 features.\n"
     ]
    },
    {
     "data": {
      "text/plain": [
       "{'final.output.concentrate_ag',\n",
       " 'final.output.concentrate_au',\n",
       " 'final.output.concentrate_pb',\n",
       " 'final.output.concentrate_sol',\n",
       " 'final.output.recovery',\n",
       " 'final.output.tail_ag',\n",
       " 'final.output.tail_au',\n",
       " 'final.output.tail_pb',\n",
       " 'final.output.tail_sol',\n",
       " 'primary_cleaner.output.concentrate_ag',\n",
       " 'primary_cleaner.output.concentrate_au',\n",
       " 'primary_cleaner.output.concentrate_pb',\n",
       " 'primary_cleaner.output.concentrate_sol',\n",
       " 'primary_cleaner.output.tail_ag',\n",
       " 'primary_cleaner.output.tail_au',\n",
       " 'primary_cleaner.output.tail_pb',\n",
       " 'primary_cleaner.output.tail_sol',\n",
       " 'rougher.calculation.au_pb_ratio',\n",
       " 'rougher.calculation.floatbank10_sulfate_to_au_feed',\n",
       " 'rougher.calculation.floatbank11_sulfate_to_au_feed',\n",
       " 'rougher.calculation.sulfate_to_au_concentrate',\n",
       " 'rougher.output.concentrate_ag',\n",
       " 'rougher.output.concentrate_au',\n",
       " 'rougher.output.concentrate_pb',\n",
       " 'rougher.output.concentrate_sol',\n",
       " 'rougher.output.recovery',\n",
       " 'rougher.output.tail_ag',\n",
       " 'rougher.output.tail_au',\n",
       " 'rougher.output.tail_pb',\n",
       " 'rougher.output.tail_sol',\n",
       " 'secondary_cleaner.output.tail_ag',\n",
       " 'secondary_cleaner.output.tail_au',\n",
       " 'secondary_cleaner.output.tail_pb',\n",
       " 'secondary_cleaner.output.tail_sol'}"
      ]
     },
     "execution_count": 11,
     "metadata": {},
     "output_type": "execute_result"
    }
   ],
   "source": [
    "# creating set of test and train columns\n",
    "df_test_columns = set(df_test.columns)\n",
    "df_train_columns = set(df_train.columns)\n",
    "\n",
    "# show columns missing from df_test\n",
    "missing_test_columns = df_train_columns - df_test_columns\n",
    "print(f'The test dataset is missing {len(missing_test_columns)} features.')\n",
    "missing_test_columns"
   ]
  },
  {
   "cell_type": "code",
   "execution_count": 12,
   "metadata": {},
   "outputs": [
    {
     "name": "stdout",
     "output_type": "stream",
     "text": [
      "final.output.tail_pb: float64\n",
      "rougher.calculation.floatbank10_sulfate_to_au_feed: float64\n",
      "rougher.calculation.au_pb_ratio: float64\n",
      "rougher.calculation.sulfate_to_au_concentrate: float64\n",
      "rougher.output.concentrate_sol: float64\n",
      "primary_cleaner.output.concentrate_pb: float64\n",
      "rougher.output.tail_sol: float64\n",
      "secondary_cleaner.output.tail_ag: float64\n",
      "final.output.tail_au: float64\n",
      "rougher.output.concentrate_au: float64\n",
      "primary_cleaner.output.concentrate_au: float64\n",
      "rougher.output.recovery: float64\n",
      "final.output.concentrate_au: float64\n",
      "rougher.output.concentrate_ag: float64\n",
      "primary_cleaner.output.concentrate_sol: float64\n",
      "primary_cleaner.output.tail_sol: float64\n",
      "primary_cleaner.output.concentrate_ag: float64\n",
      "rougher.output.tail_pb: float64\n",
      "final.output.concentrate_sol: float64\n",
      "final.output.tail_ag: float64\n",
      "final.output.concentrate_pb: float64\n",
      "secondary_cleaner.output.tail_au: float64\n",
      "secondary_cleaner.output.tail_pb: float64\n",
      "final.output.tail_sol: float64\n",
      "rougher.output.concentrate_pb: float64\n",
      "secondary_cleaner.output.tail_sol: float64\n",
      "rougher.calculation.floatbank11_sulfate_to_au_feed: float64\n",
      "primary_cleaner.output.tail_pb: float64\n",
      "rougher.output.tail_ag: float64\n",
      "final.output.concentrate_ag: float64\n",
      "primary_cleaner.output.tail_au: float64\n",
      "primary_cleaner.output.tail_ag: float64\n",
      "final.output.recovery: float64\n",
      "rougher.output.tail_au: float64\n"
     ]
    }
   ],
   "source": [
    "# view types of missing features\n",
    "def get_feature_type(df, columns):\n",
    "    for column in columns:\n",
    "        print(f'{column}: {df[column].dtype}')\n",
    "\n",
    "get_feature_type(df_train, missing_test_columns)"
   ]
  },
  {
   "cell_type": "markdown",
   "metadata": {},
   "source": [
    "All of the missing columns from the test dataset are floats."
   ]
  },
  {
   "cell_type": "markdown",
   "metadata": {},
   "source": [
    "### Data Preprocessing"
   ]
  },
  {
   "cell_type": "markdown",
   "metadata": {},
   "source": [
    "#### Converting Data Types\n",
    "Every column is a float type except the data column, which is currently an object type. I will be converting this to a datetime type."
   ]
  },
  {
   "cell_type": "code",
   "execution_count": 13,
   "metadata": {},
   "outputs": [],
   "source": [
    "# convert object to date\n",
    "df_test['date'] = pd.to_datetime(df_test['date'])\n",
    "df_train['date'] = pd.to_datetime(df_train['date'])\n",
    "df_full['date'] = pd.to_datetime(df_full['date'])"
   ]
  },
  {
   "cell_type": "code",
   "execution_count": 14,
   "metadata": {},
   "outputs": [
    {
     "data": {
      "text/plain": [
       "0      2016-09-01 00:59:59\n",
       "1      2016-09-01 01:59:59\n",
       "2      2016-09-01 02:59:59\n",
       "3      2016-09-01 03:59:59\n",
       "4      2016-09-01 04:59:59\n",
       "               ...        \n",
       "5851   2017-12-31 19:59:59\n",
       "5852   2017-12-31 20:59:59\n",
       "5853   2017-12-31 21:59:59\n",
       "5854   2017-12-31 22:59:59\n",
       "5855   2017-12-31 23:59:59\n",
       "Name: date, Length: 5856, dtype: datetime64[ns]"
      ]
     },
     "execution_count": 14,
     "metadata": {},
     "output_type": "execute_result"
    }
   ],
   "source": [
    "# check conversion\n",
    "df_test['date']"
   ]
  },
  {
   "cell_type": "markdown",
   "metadata": {},
   "source": [
    "The date columns have been converted to datetime types."
   ]
  },
  {
   "cell_type": "markdown",
   "metadata": {},
   "source": [
    "#### Filling Null Values\n",
    "We want to address null values in each of the datasets. There are many null values across numerous columns, so I will see which columns in each dataset have the highest percentage of nulls."
   ]
  },
  {
   "cell_type": "code",
   "execution_count": 15,
   "metadata": {},
   "outputs": [],
   "source": [
    "def show_max_null_percentages(df):\n",
    "    null_df = (df.isnull().sum() / len(df)).sort_values(ascending=False).head(5)\n",
    "    print(null_df)"
   ]
  },
  {
   "cell_type": "code",
   "execution_count": 16,
   "metadata": {},
   "outputs": [
    {
     "name": "stdout",
     "output_type": "stream",
     "text": [
      "rougher.output.recovery               0.137304\n",
      "rougher.output.tail_ag                0.120488\n",
      "rougher.output.tail_au                0.120444\n",
      "rougher.output.tail_sol               0.120444\n",
      "rougher.input.floatbank11_xanthate    0.099357\n",
      "dtype: float64\n"
     ]
    }
   ],
   "source": [
    "# show highest null percentages for source dataset\n",
    "show_max_null_percentages(df_full)"
   ]
  },
  {
   "cell_type": "code",
   "execution_count": 17,
   "metadata": {},
   "outputs": [
    {
     "data": {
      "text/plain": [
       "NaN           3119\n",
       "0.000000       419\n",
       "83.406924       10\n",
       "89.512544        6\n",
       "100.000000       6\n",
       "              ... \n",
       "84.304578        1\n",
       "81.281279        1\n",
       "87.035862        1\n",
       "81.017150        1\n",
       "82.366128        1\n",
       "Name: rougher.output.recovery, Length: 19150, dtype: int64"
      ]
     },
     "execution_count": 17,
     "metadata": {},
     "output_type": "execute_result"
    }
   ],
   "source": [
    "# view value counts\n",
    "df_full['rougher.output.recovery'].value_counts(dropna=False)"
   ]
  },
  {
   "cell_type": "code",
   "execution_count": 18,
   "metadata": {},
   "outputs": [
    {
     "name": "stdout",
     "output_type": "stream",
     "text": [
      "rougher.output.recovery              0.152610\n",
      "rougher.output.tail_ag               0.133452\n",
      "rougher.output.tail_sol              0.133393\n",
      "rougher.output.tail_au               0.133393\n",
      "secondary_cleaner.output.tail_sol    0.117794\n",
      "dtype: float64\n"
     ]
    }
   ],
   "source": [
    "# show highest null percentages for training dataset\n",
    "show_max_null_percentages(df_train)"
   ]
  },
  {
   "cell_type": "code",
   "execution_count": 19,
   "metadata": {},
   "outputs": [
    {
     "name": "stdout",
     "output_type": "stream",
     "text": [
      "rougher.input.floatbank11_xanthate    0.060280\n",
      "primary_cleaner.input.sulfate         0.051571\n",
      "primary_cleaner.input.depressant      0.048497\n",
      "rougher.input.floatbank10_sulfate     0.043887\n",
      "primary_cleaner.input.xanthate        0.028347\n",
      "dtype: float64\n"
     ]
    }
   ],
   "source": [
    "# show highest null percentages for test dataset\n",
    "show_max_null_percentages(df_test)"
   ]
  },
  {
   "cell_type": "markdown",
   "metadata": {},
   "source": [
    "For the test_dataset, all NA values are about 6% or lower. The source dataset and training dataset both are missing up to 15% of their data in select columns. We are, however, told that parameters next to each other in terms of time are often similar since each row is based on a unique time. Because of this, it would be more appropriate to fill the missing data with information from previous rows instead of dropping these rows or using the average."
   ]
  },
  {
   "cell_type": "code",
   "execution_count": 20,
   "metadata": {},
   "outputs": [],
   "source": [
    "# convert 0s to nulls\n",
    "df_train = df_train.replace(0, np.nan)\n",
    "df_test = df_test.replace(0, np.nan)\n",
    "df_full = df_full.replace(0, np.nan)\n",
    "\n",
    "# fill null values\n",
    "df_train = df_train.fillna(method='ffill')\n",
    "df_test = df_test.fillna(method='ffill')\n",
    "df_full = df_full.fillna(method='ffill')"
   ]
  },
  {
   "cell_type": "code",
   "execution_count": 21,
   "metadata": {},
   "outputs": [
    {
     "name": "stdout",
     "output_type": "stream",
     "text": [
      "date                                 0.0\n",
      "rougher.state.floatbank10_b_air      0.0\n",
      "rougher.state.floatbank10_f_air      0.0\n",
      "rougher.state.floatbank10_e_level    0.0\n",
      "rougher.state.floatbank10_e_air      0.0\n",
      "dtype: float64\n"
     ]
    }
   ],
   "source": [
    "# check that nulls have been replaced\n",
    "show_max_null_percentages(df_full)"
   ]
  },
  {
   "cell_type": "code",
   "execution_count": 22,
   "metadata": {},
   "outputs": [
    {
     "data": {
      "text/plain": [
       "75.040308    219\n",
       "89.665085    163\n",
       "68.920897    159\n",
       "80.282056    156\n",
       "89.524162    132\n",
       "            ... \n",
       "89.429411      1\n",
       "68.712376      1\n",
       "77.462730      1\n",
       "91.433028      1\n",
       "82.366128      1\n",
       "Name: rougher.output.recovery, Length: 19148, dtype: int64"
      ]
     },
     "execution_count": 22,
     "metadata": {},
     "output_type": "execute_result"
    }
   ],
   "source": [
    "# view value counts\n",
    "df_full['rougher.output.recovery'].value_counts(dropna=False)"
   ]
  },
  {
   "cell_type": "markdown",
   "metadata": {},
   "source": [
    "NaN and invalid values have been replaced.\n",
    "\n",
    "So far, the data files have been opened and observed. In the training set, I confirmed that `rougher.output.recovery` had been calculated correctly by finding the mean absolute error. The 34 features not in the test dataset have been discussed, and the data was preprocessed by filling in missing values."
   ]
  },
  {
   "cell_type": "markdown",
   "metadata": {},
   "source": [
    "## Analyze Data"
   ]
  },
  {
   "cell_type": "markdown",
   "metadata": {},
   "source": [
    "### Changes in Concentration\n",
    "First, I will observe how the quantities of silver, gold, and lead change depending on the stage in the purification process."
   ]
  },
  {
   "cell_type": "code",
   "execution_count": 23,
   "metadata": {},
   "outputs": [],
   "source": [
    "# gold, silver, and lead\n",
    "metals = ['au', 'ag', 'sol'] \n",
    "\n",
    "# stages with concentrate output\n",
    "stages = ['rougher', 'primary_cleaner', 'final']"
   ]
  },
  {
   "cell_type": "code",
   "execution_count": 24,
   "metadata": {},
   "outputs": [
    {
     "name": "stdout",
     "output_type": "stream",
     "text": [
      "au\n",
      "rougher : 18.188257351188454\n",
      "primary_cleaner : 30.472709913894644\n",
      "final : 41.13267951940478\n",
      "\n",
      "ag\n",
      "rougher : 11.056623565811702\n",
      "primary_cleaner : 7.668386657233557\n",
      "final : 4.988969168253581\n",
      "\n",
      "sol\n",
      "rougher : 26.435106922812967\n",
      "primary_cleaner : 9.574777246029143\n",
      "final : 8.577699690861175\n",
      "\n"
     ]
    }
   ],
   "source": [
    "# for each metal and stage, print the average concentration\n",
    "for metal in metals:\n",
    "    print(metal)\n",
    "    for stage in stages:\n",
    "        stage_output = f'{stage}.output.concentrate_{metal}'\n",
    "        print(stage, ':', df_train[stage_output].mean())\n",
    "    print('')"
   ]
  },
  {
   "cell_type": "markdown",
   "metadata": {},
   "source": [
    "It seems that for gold (au), the amount of gold increases as we progress through the purification process. The opposite is true for silver (ag) and lead (sol): The amount of each of these metals decrease as the purification process continutes."
   ]
  },
  {
   "cell_type": "markdown",
   "metadata": {},
   "source": [
    "### Feed Particles in Training + Test Sets\n",
    "Next, I will compare the feed particle size distribution between the training set and the test set. If they are significantly different, it indicates that the model evaluation will be incorrect. \n",
    "\n",
    "There are two `feed_size` columns that the training and test set share: `primary_cleaner.input.feed_size` and `rougher.input.feed_size`."
   ]
  },
  {
   "cell_type": "code",
   "execution_count": 25,
   "metadata": {},
   "outputs": [],
   "source": [
    "# get primary cleaner means\n",
    "test_primary_feedsize = df_test['primary_cleaner.input.feed_size'].mean()\n",
    "train_primary_feedsize = df_train['primary_cleaner.input.feed_size'].mean()\n",
    "\n",
    "# get rougher means\n",
    "test_rougher_feedsize = df_test['rougher.input.feed_size'].mean()\n",
    "train_rougher_feedsize = df_train['rougher.input.feed_size'].mean()"
   ]
  },
  {
   "cell_type": "code",
   "execution_count": 26,
   "metadata": {},
   "outputs": [
    {
     "name": "stdout",
     "output_type": "stream",
     "text": [
      "Primary Cleaner Input Feed Sizes\n",
      "TEST - 7.2646512922454205\n",
      "TRAIN - 7.297284871257225\n",
      "\n",
      "Rougher Input Feed Sizes\n",
      "TEST - 55.89886568885065\n",
      "TRAIN - 60.18859533601633\n"
     ]
    }
   ],
   "source": [
    "print('Primary Cleaner Input Feed Sizes')\n",
    "print(f'TEST - {test_primary_feedsize}')\n",
    "print(f'TRAIN - {train_primary_feedsize}')\n",
    "\n",
    "print('\\nRougher Input Feed Sizes')\n",
    "print(f'TEST - {test_rougher_feedsize}')\n",
    "print(f'TRAIN - {train_rougher_feedsize}')"
   ]
  },
  {
   "cell_type": "code",
   "execution_count": 27,
   "metadata": {},
   "outputs": [
    {
     "data": {
      "image/png": "[encoded data removed]",
      "text/plain": [
       "<Figure size 720x720 with 2 Axes>"
      ]
     },
     "metadata": {
      "needs_background": "light"
     },
     "output_type": "display_data"
    }
   ],
   "source": [
    "# create subplots\n",
    "fig, ax = plt.subplots(2, 1, figsize=(10, 10))\n",
    "colors = ['sandybrown', 'lightgreen']\n",
    "stages = ['primary_cleaner', 'rougher']\n",
    "datasets = ['test', 'train']\n",
    "\n",
    "for i, stage in enumerate(stages):\n",
    "    for j, df in enumerate([df_train, df_test]):\n",
    "        col = f'{stage}.input.feed_size'\n",
    "        sns.histplot(data=df[col], ax = ax[i], alpha = 0.1, element = 'poly', color = colors[j],\n",
    "                    label = datasets[j], stat = 'density')\n",
    "    ax[i].legend()\n",
    "    ax[i].set_title(f'{stage.title()}')"
   ]
  },
  {
   "cell_type": "markdown",
   "metadata": {},
   "source": [
    "Above, I have looked at the means of the test and training data set across the primary_cleaner and roughter stages as well as looked at the distribution. They are similar."
   ]
  },
  {
   "cell_type": "markdown",
   "metadata": {},
   "source": [
    "### Total Concentrations"
   ]
  },
  {
   "cell_type": "code",
   "execution_count": 28,
   "metadata": {
    "scrolled": true
   },
   "outputs": [
    {
     "name": "stdout",
     "output_type": "stream",
     "text": [
      "final.output.concentrate_ag\n",
      "final.output.concentrate_pb\n",
      "final.output.concentrate_sol\n",
      "final.output.concentrate_au\n",
      "primary_cleaner.output.concentrate_ag\n",
      "primary_cleaner.output.concentrate_pb\n",
      "primary_cleaner.output.concentrate_sol\n",
      "primary_cleaner.output.concentrate_au\n",
      "rougher.output.concentrate_ag\n",
      "rougher.output.concentrate_pb\n",
      "rougher.output.concentrate_sol\n",
      "rougher.output.concentrate_au\n"
     ]
    }
   ],
   "source": [
    "for col in df_train.columns:\n",
    "    if \"output.concentrate\" in col:\n",
    "        print(col)"
   ]
  },
  {
   "cell_type": "code",
   "execution_count": 29,
   "metadata": {},
   "outputs": [
    {
     "data": {
      "image/png": "[encoded data removed]",
      "text/plain": [
       "<Figure size 1296x1296 with 3 Axes>"
      ]
     },
     "metadata": {
      "needs_background": "light"
     },
     "output_type": "display_data"
    }
   ],
   "source": [
    "# create subplots\n",
    "fig, ax = plt.subplots(3, 1, figsize=(18, 18))\n",
    "\n",
    "metal_full = ['Gold', 'Silver', 'Lead']\n",
    "colors = ['sandybrown', 'lightgreen', 'mediumaquamarine'] \n",
    "stages = ['rougher', 'primary_cleaner', 'final']\n",
    "\n",
    "# plot one graph per stage\n",
    "for i, stage in enumerate(stages):\n",
    "    \n",
    "    ax[i].set_title(f'Total Concentration During {stage.title()} Stage')\n",
    "    ax[i].set_xlabel(f'Concentration')\n",
    "    \n",
    "    # create columns in train and test\n",
    "    new_col = f'{stage}.output.total_concentrate'\n",
    "    df_train[new_col] = df_train[f'{stage}.output.concentrate_{metals[0]}'] + df_train[f'{stage}.output.concentrate_{metals[1]}'] + df_train[f'{stage}.output.concentrate_{metals[2]}']\n",
    "    df_full[new_col] = df_full[f'{stage}.output.concentrate_{metals[0]}'] + df_full[f'{stage}.output.concentrate_{metals[1]}'] + df_full[f'{stage}.output.concentrate_{metals[2]}']\n",
    "    \n",
    "    sns.histplot(\n",
    "            data = df_train[new_col], ax = ax[i], alpha = 0.25, \n",
    "            element = 'poly', color = colors[i], label = stage\n",
    "        )"
   ]
  },
  {
   "cell_type": "markdown",
   "metadata": {},
   "source": [
    "Each metal has a high count of values close to 0. I want to see if these are abnormal."
   ]
  },
  {
   "cell_type": "code",
   "execution_count": 30,
   "metadata": {},
   "outputs": [
    {
     "data": {
      "text/html": [
       "<div>\n",
       "<style scoped>\n",
       "    .dataframe tbody tr th:only-of-type {\n",
       "        vertical-align: middle;\n",
       "    }\n",
       "\n",
       "    .dataframe tbody tr th {\n",
       "        vertical-align: top;\n",
       "    }\n",
       "\n",
       "    .dataframe thead th {\n",
       "        text-align: right;\n",
       "    }\n",
       "</style>\n",
       "<table border=\"1\" class=\"dataframe\">\n",
       "  <thead>\n",
       "    <tr style=\"text-align: right;\">\n",
       "      <th></th>\n",
       "      <th>primary_cleaner.output.concentrate_au</th>\n",
       "      <th>primary_cleaner.output.concentrate_ag</th>\n",
       "      <th>primary_cleaner.output.concentrate_sol</th>\n",
       "    </tr>\n",
       "  </thead>\n",
       "  <tbody>\n",
       "    <tr>\n",
       "      <th>12498</th>\n",
       "      <td>0.01</td>\n",
       "      <td>0.01</td>\n",
       "      <td>0.01</td>\n",
       "    </tr>\n",
       "    <tr>\n",
       "      <th>12499</th>\n",
       "      <td>0.01</td>\n",
       "      <td>0.01</td>\n",
       "      <td>0.01</td>\n",
       "    </tr>\n",
       "    <tr>\n",
       "      <th>12500</th>\n",
       "      <td>0.01</td>\n",
       "      <td>0.01</td>\n",
       "      <td>0.01</td>\n",
       "    </tr>\n",
       "    <tr>\n",
       "      <th>12568</th>\n",
       "      <td>0.01</td>\n",
       "      <td>0.01</td>\n",
       "      <td>0.01</td>\n",
       "    </tr>\n",
       "    <tr>\n",
       "      <th>12569</th>\n",
       "      <td>0.01</td>\n",
       "      <td>0.01</td>\n",
       "      <td>0.01</td>\n",
       "    </tr>\n",
       "  </tbody>\n",
       "</table>\n",
       "</div>"
      ],
      "text/plain": [
       "       primary_cleaner.output.concentrate_au  \\\n",
       "12498                                   0.01   \n",
       "12499                                   0.01   \n",
       "12500                                   0.01   \n",
       "12568                                   0.01   \n",
       "12569                                   0.01   \n",
       "\n",
       "       primary_cleaner.output.concentrate_ag  \\\n",
       "12498                                   0.01   \n",
       "12499                                   0.01   \n",
       "12500                                   0.01   \n",
       "12568                                   0.01   \n",
       "12569                                   0.01   \n",
       "\n",
       "       primary_cleaner.output.concentrate_sol  \n",
       "12498                                    0.01  \n",
       "12499                                    0.01  \n",
       "12500                                    0.01  \n",
       "12568                                    0.01  \n",
       "12569                                    0.01  "
      ]
     },
     "execution_count": 30,
     "metadata": {},
     "output_type": "execute_result"
    }
   ],
   "source": [
    "# view a few instances of low value concentrations\n",
    "df_train[df_train['primary_cleaner.output.total_concentrate'] < 0.05][['primary_cleaner.output.concentrate_au', 'primary_cleaner.output.concentrate_ag', 'primary_cleaner.output.concentrate_sol']].head()"
   ]
  },
  {
   "cell_type": "code",
   "execution_count": 31,
   "metadata": {},
   "outputs": [
    {
     "data": {
      "text/html": [
       "<div>\n",
       "<style scoped>\n",
       "    .dataframe tbody tr th:only-of-type {\n",
       "        vertical-align: middle;\n",
       "    }\n",
       "\n",
       "    .dataframe tbody tr th {\n",
       "        vertical-align: top;\n",
       "    }\n",
       "\n",
       "    .dataframe thead th {\n",
       "        text-align: right;\n",
       "    }\n",
       "</style>\n",
       "<table border=\"1\" class=\"dataframe\">\n",
       "  <thead>\n",
       "    <tr style=\"text-align: right;\">\n",
       "      <th></th>\n",
       "      <th>primary_cleaner.output.concentrate_au</th>\n",
       "      <th>primary_cleaner.output.concentrate_ag</th>\n",
       "      <th>primary_cleaner.output.concentrate_sol</th>\n",
       "    </tr>\n",
       "  </thead>\n",
       "  <tbody>\n",
       "    <tr>\n",
       "      <th>12495</th>\n",
       "      <td>31.203121</td>\n",
       "      <td>10.576060</td>\n",
       "      <td>15.044411</td>\n",
       "    </tr>\n",
       "    <tr>\n",
       "      <th>12496</th>\n",
       "      <td>30.021952</td>\n",
       "      <td>11.078088</td>\n",
       "      <td>14.402412</td>\n",
       "    </tr>\n",
       "    <tr>\n",
       "      <th>12497</th>\n",
       "      <td>1.961528</td>\n",
       "      <td>0.714743</td>\n",
       "      <td>0.859003</td>\n",
       "    </tr>\n",
       "    <tr>\n",
       "      <th>12498</th>\n",
       "      <td>0.010000</td>\n",
       "      <td>0.010000</td>\n",
       "      <td>0.010000</td>\n",
       "    </tr>\n",
       "    <tr>\n",
       "      <th>12499</th>\n",
       "      <td>0.010000</td>\n",
       "      <td>0.010000</td>\n",
       "      <td>0.010000</td>\n",
       "    </tr>\n",
       "    <tr>\n",
       "      <th>12500</th>\n",
       "      <td>0.010000</td>\n",
       "      <td>0.010000</td>\n",
       "      <td>0.010000</td>\n",
       "    </tr>\n",
       "    <tr>\n",
       "      <th>12501</th>\n",
       "      <td>7.641986</td>\n",
       "      <td>1.353747</td>\n",
       "      <td>0.010000</td>\n",
       "    </tr>\n",
       "    <tr>\n",
       "      <th>12502</th>\n",
       "      <td>32.047841</td>\n",
       "      <td>10.005311</td>\n",
       "      <td>12.638254</td>\n",
       "    </tr>\n",
       "    <tr>\n",
       "      <th>12503</th>\n",
       "      <td>31.512322</td>\n",
       "      <td>10.226795</td>\n",
       "      <td>12.698867</td>\n",
       "    </tr>\n",
       "    <tr>\n",
       "      <th>12504</th>\n",
       "      <td>31.137925</td>\n",
       "      <td>10.260248</td>\n",
       "      <td>12.204605</td>\n",
       "    </tr>\n",
       "  </tbody>\n",
       "</table>\n",
       "</div>"
      ],
      "text/plain": [
       "       primary_cleaner.output.concentrate_au  \\\n",
       "12495                              31.203121   \n",
       "12496                              30.021952   \n",
       "12497                               1.961528   \n",
       "12498                               0.010000   \n",
       "12499                               0.010000   \n",
       "12500                               0.010000   \n",
       "12501                               7.641986   \n",
       "12502                              32.047841   \n",
       "12503                              31.512322   \n",
       "12504                              31.137925   \n",
       "\n",
       "       primary_cleaner.output.concentrate_ag  \\\n",
       "12495                              10.576060   \n",
       "12496                              11.078088   \n",
       "12497                               0.714743   \n",
       "12498                               0.010000   \n",
       "12499                               0.010000   \n",
       "12500                               0.010000   \n",
       "12501                               1.353747   \n",
       "12502                              10.005311   \n",
       "12503                              10.226795   \n",
       "12504                              10.260248   \n",
       "\n",
       "       primary_cleaner.output.concentrate_sol  \n",
       "12495                               15.044411  \n",
       "12496                               14.402412  \n",
       "12497                                0.859003  \n",
       "12498                                0.010000  \n",
       "12499                                0.010000  \n",
       "12500                                0.010000  \n",
       "12501                                0.010000  \n",
       "12502                               12.638254  \n",
       "12503                               12.698867  \n",
       "12504                               12.204605  "
      ]
     },
     "execution_count": 31,
     "metadata": {},
     "output_type": "execute_result"
    }
   ],
   "source": [
    "# check surrounding values\n",
    "df_train.iloc[12495:12505][['primary_cleaner.output.concentrate_au', 'primary_cleaner.output.concentrate_ag', 'primary_cleaner.output.concentrate_sol']]"
   ]
  },
  {
   "cell_type": "markdown",
   "metadata": {},
   "source": [
    "Rows close to each other should be similar in value. There's a massive drop off in concentration across all rows - this is likely abnormal, so it would be beneficial to remove these abnormal values in the event that future analyses are sensitive to values close to zero."
   ]
  },
  {
   "cell_type": "code",
   "execution_count": 32,
   "metadata": {},
   "outputs": [],
   "source": [
    "# storing original dataset sizes\n",
    "original_train_size = len(df_train)\n",
    "original_full_size = len(df_full)"
   ]
  },
  {
   "cell_type": "code",
   "execution_count": 33,
   "metadata": {},
   "outputs": [],
   "source": [
    "# dropping anomalies\n",
    "df_train = df_train[df_train['primary_cleaner.output.total_concentrate'] > 0.05]\n",
    "df_train = df_train[df_train['rougher.output.total_concentrate'] > 0.05]\n",
    "\n",
    "df_full = df_full[df_full['primary_cleaner.output.total_concentrate'] > 0.05]\n",
    "df_full = df_full[df_full['rougher.output.total_concentrate'] > 0.05]"
   ]
  },
  {
   "cell_type": "code",
   "execution_count": 34,
   "metadata": {},
   "outputs": [
    {
     "name": "stdout",
     "output_type": "stream",
     "text": [
      "3.71% of the training data was dropped.\n",
      "2.75% of the full data was dropped.\n"
     ]
    }
   ],
   "source": [
    "print(f'{100 - (len(df_train) / original_train_size * 100):.3}% of the training data was dropped.')\n",
    "print(f'{100 - (len(df_full) / original_full_size * 100):.3}% of the full data was dropped.')"
   ]
  },
  {
   "cell_type": "code",
   "execution_count": 35,
   "metadata": {},
   "outputs": [],
   "source": [
    "# drop created columns\n",
    "df_full = df_full.drop(['rougher.output.total_concentrate', 'primary_cleaner.output.total_concentrate', 'final.output.total_concentrate'], axis=1)\n",
    "df_train = df_train.drop(['rougher.output.total_concentrate', 'primary_cleaner.output.total_concentrate', 'final.output.total_concentrate'], axis=1)"
   ]
  },
  {
   "cell_type": "markdown",
   "metadata": {},
   "source": [
    "The anamolies have been removed.\n",
    "\n",
    "Now that the data has been analyzed and cleaned, the models can be built."
   ]
  },
  {
   "cell_type": "markdown",
   "metadata": {},
   "source": [
    "## Build Models"
   ]
  },
  {
   "cell_type": "markdown",
   "metadata": {},
   "source": [
    "### Calculate sMAPE"
   ]
  },
  {
   "cell_type": "code",
   "execution_count": 36,
   "metadata": {},
   "outputs": [],
   "source": [
    "# function to calculate the final sMAPE \n",
    "def calculate_final_smape(smape_rougher, smape_final):\n",
    "    return (0.25 * smape_rougher) + (0.75 * smape_final)"
   ]
  },
  {
   "cell_type": "code",
   "execution_count": 37,
   "metadata": {},
   "outputs": [],
   "source": [
    "def calculate_smape(y, y_pred):\n",
    "    return np.sum(abs(y - y_pred) / ((abs(y) + abs(y_pred)) / 2) * 100) / len(y)"
   ]
  },
  {
   "cell_type": "code",
   "execution_count": 38,
   "metadata": {},
   "outputs": [],
   "source": [
    "# create smape scorer to be used as the cross-val metric\n",
    "smape_score = make_scorer(calculate_smape)"
   ]
  },
  {
   "cell_type": "markdown",
   "metadata": {},
   "source": [
    "### Prepare Data\n",
    "Before training the model, I will drop the `date` column since it is a unique identifier. I will also need to drop all columns from the training dataset that are not in the test dataset - the number of columns needs to be the same between the training and test datasets or the model will run into an error."
   ]
  },
  {
   "cell_type": "code",
   "execution_count": 39,
   "metadata": {},
   "outputs": [],
   "source": [
    "# obtaining recovery information from full dataset to test dataset\n",
    "df_test = df_test.merge(df_full[['date', 'rougher.output.recovery', 'final.output.recovery']], on='date', how='left')"
   ]
  },
  {
   "cell_type": "code",
   "execution_count": 40,
   "metadata": {},
   "outputs": [],
   "source": [
    "# drop date columns\n",
    "df_train = df_train.drop(['date'], axis=1)\n",
    "df_test = df_test.drop(['date'], axis=1)"
   ]
  },
  {
   "cell_type": "code",
   "execution_count": 41,
   "metadata": {},
   "outputs": [],
   "source": [
    "# declaring constants\n",
    "ROUGHER_OUTPUT_RECOVERY = 'rougher.output.recovery'\n",
    "FINAL_OUTPUT_RECOVERY = 'final.output.recovery'\n",
    "DROP_COLS = [ROUGHER_OUTPUT_RECOVERY, FINAL_OUTPUT_RECOVERY]"
   ]
  },
  {
   "cell_type": "code",
   "execution_count": 42,
   "metadata": {},
   "outputs": [],
   "source": [
    "# drop extra columns not in the test dataset\n",
    "missing_test_columns.remove(ROUGHER_OUTPUT_RECOVERY)\n",
    "missing_test_columns.remove(FINAL_OUTPUT_RECOVERY)\n",
    "df_train = df_train.drop(missing_test_columns, axis=1)"
   ]
  },
  {
   "cell_type": "code",
   "execution_count": 43,
   "metadata": {},
   "outputs": [],
   "source": [
    "# method to get features and target of each dataset\n",
    "def get_features_and_target(target_col, drop_cols, data):\n",
    "    features = data.drop(drop_cols, axis = 1)\n",
    "    target = data[target_col]\n",
    "    \n",
    "    return features, target"
   ]
  },
  {
   "cell_type": "code",
   "execution_count": 44,
   "metadata": {},
   "outputs": [],
   "source": [
    "def get_best_score(features, target):\n",
    "    best_score = 0\n",
    "    best_model = None\n",
    "    models = [LinearRegression(), DecisionTreeRegressor(random_state=12345), RandomForestRegressor(random_state=12345)]\n",
    "    scores = []\n",
    "    \n",
    "    for model in models:\n",
    "        score = cross_val_score(model, features, target, scoring=smape_score).mean()\n",
    "        scores.append(score)\n",
    "        print(f'Score: {score:.3} - Model: {model}')\n",
    "    \n",
    "    return scores"
   ]
  },
  {
   "cell_type": "markdown",
   "metadata": {},
   "source": [
    "### Checking Models\n",
    "\n",
    "Three models (Linear Regression, Decision Tree, Random Forest) will be applied to the training data for both the rougher recovery output and the final recovery output. These models will be evaluated using cross-validation. The best model will be chosen.\n",
    "\n",
    "Because we are using cross-validation as our metric, the datasets do not need to be split into validation sets, nor do the models need to be trained ahead of time."
   ]
  },
  {
   "cell_type": "markdown",
   "metadata": {},
   "source": [
    "#### Rougher Output Recovery"
   ]
  },
  {
   "cell_type": "code",
   "execution_count": 45,
   "metadata": {},
   "outputs": [],
   "source": [
    "# splitting training/testing sets into features and targets\n",
    "features_train_rougher, target_train_rougher = get_features_and_target(ROUGHER_OUTPUT_RECOVERY, DROP_COLS, df_train)\n",
    "features_test_rougher, target_test_rougher = get_features_and_target(ROUGHER_OUTPUT_RECOVERY, DROP_COLS, df_test)"
   ]
  },
  {
   "cell_type": "code",
   "execution_count": 46,
   "metadata": {
    "scrolled": true
   },
   "outputs": [
    {
     "name": "stdout",
     "output_type": "stream",
     "text": [
      "Score: 10.5 - Model: LinearRegression()\n",
      "Score: 12.0 - Model: DecisionTreeRegressor(random_state=12345)\n",
      "Score: 8.85 - Model: RandomForestRegressor(random_state=12345)\n"
     ]
    }
   ],
   "source": [
    "# check the cross validation score of three models and print results\n",
    "rougher_scores = get_best_score(features_train_rougher, target_train_rougher)"
   ]
  },
  {
   "cell_type": "markdown",
   "metadata": {},
   "source": [
    "The Random Forest model has the best smape for rougher output recovery."
   ]
  },
  {
   "cell_type": "markdown",
   "metadata": {},
   "source": [
    "#### Final Output Recovery"
   ]
  },
  {
   "cell_type": "code",
   "execution_count": 47,
   "metadata": {},
   "outputs": [],
   "source": [
    "# splitting training/testing sets into features and targets\n",
    "features_train_final, target_train_final = get_features_and_target(FINAL_OUTPUT_RECOVERY, DROP_COLS, df_train)\n",
    "features_test_final, target_test_final = get_features_and_target(FINAL_OUTPUT_RECOVERY, DROP_COLS, df_test)"
   ]
  },
  {
   "cell_type": "code",
   "execution_count": 48,
   "metadata": {},
   "outputs": [
    {
     "name": "stdout",
     "output_type": "stream",
     "text": [
      "Score: 12.1 - Model: LinearRegression()\n",
      "Score: 20.3 - Model: DecisionTreeRegressor(random_state=12345)\n",
      "Score: 11.6 - Model: RandomForestRegressor(random_state=12345)\n"
     ]
    }
   ],
   "source": [
    "# check the cross validation score of three models and print results\n",
    "final_scores = get_best_score(features_train_final, target_train_final)"
   ]
  },
  {
   "cell_type": "markdown",
   "metadata": {},
   "source": [
    "The Random Forest model has the best smape for final output recovery."
   ]
  },
  {
   "cell_type": "markdown",
   "metadata": {},
   "source": [
    "#### Final sMAPE\n",
    "Now that the scores for the rougher recovery and final output recovery have been calculated, I will determine the model with the best final sMAPE score."
   ]
  },
  {
   "cell_type": "code",
   "execution_count": 49,
   "metadata": {},
   "outputs": [
    {
     "name": "stdout",
     "output_type": "stream",
     "text": [
      "sMAPE: 11.7 - Model: LinearRegression()\n",
      "sMAPE: 18.3 - Model: DecisionTreeRegressor(random_state=12345)\n",
      "sMAPE: 10.9 - Model: RandomForestRegressor(random_state=12345)\n"
     ]
    }
   ],
   "source": [
    "models = [LinearRegression(), DecisionTreeRegressor(random_state=12345), RandomForestRegressor(random_state=12345)]\n",
    "for i in range(len(models)):\n",
    "    final_smape = calculate_final_smape(rougher_scores[i], final_scores[i])\n",
    "    print(f'sMAPE: {final_smape:.3} - Model: {models[i]}')"
   ]
  },
  {
   "cell_type": "markdown",
   "metadata": {},
   "source": [
    "The weighted sMAPE score is also best for the Random Forest model, which has a final score of 4.79. So, the random forest model will be used for the test data."
   ]
  },
  {
   "cell_type": "markdown",
   "metadata": {},
   "source": [
    "### Testing Random Forest"
   ]
  },
  {
   "cell_type": "code",
   "execution_count": 50,
   "metadata": {},
   "outputs": [],
   "source": [
    "# create one model for the rougher output and one for the final output\n",
    "model_rougher = RandomForestRegressor(random_state=12345)\n",
    "model_final = RandomForestRegressor(random_state=12345)\n",
    "\n",
    "# fit models to training data\n",
    "model_rougher.fit(features_train_rougher, target_train_rougher)\n",
    "model_final.fit(features_train_final, target_train_final)\n",
    "\n",
    "# predict\n",
    "rougher_predictions = model_rougher.predict(features_test_rougher)\n",
    "final_predictions = model_final.predict(features_test_final)"
   ]
  },
  {
   "cell_type": "code",
   "execution_count": 51,
   "metadata": {},
   "outputs": [],
   "source": [
    "# get smape\n",
    "rougher_smape = calculate_smape(target_test_rougher, rougher_predictions)\n",
    "final_smape = calculate_smape(target_test_final, final_predictions)\n",
    "\n",
    "# calculate overall smape\n",
    "overall_smape = calculate_final_smape(rougher_smape, final_smape)"
   ]
  },
  {
   "cell_type": "code",
   "execution_count": 52,
   "metadata": {
    "scrolled": true
   },
   "outputs": [
    {
     "data": {
      "text/plain": [
       "9.860216698945695"
      ]
     },
     "execution_count": 52,
     "metadata": {},
     "output_type": "execute_result"
    }
   ],
   "source": [
    "overall_smape"
   ]
  },
  {
   "cell_type": "markdown",
   "metadata": {},
   "source": [
    "The overall sMAPE score for the Random Forest Model is 9.86. "
   ]
  },
  {
   "cell_type": "code",
   "execution_count": null,
   "metadata": {},
   "outputs": [],
   "source": []
  }
 ],
 "metadata": {
  "kernelspec": {
   "display_name": "Python 3 (ipykernel)",
   "language": "python",
   "name": "python3"
  },
  "language_info": {
   "codemirror_mode": {
    "name": "ipython",
    "version": 3
   },
   "file_extension": ".py",
   "mimetype": "text/x-python",
   "name": "python",
   "nbconvert_exporter": "python",
   "pygments_lexer": "ipython3",
   "version": "3.9.6"
  },
  "toc": {
   "base_numbering": 1,
   "nav_menu": {},
   "number_sections": true,
   "sideBar": true,
   "skip_h1_title": true,
   "title_cell": "Table of Contents",
   "title_sidebar": "Contents",
   "toc_cell": false,
   "toc_position": {},
   "toc_section_display": true,
   "toc_window_display": false
  }
 },
 "nbformat": 4,
 "nbformat_minor": 2
}
