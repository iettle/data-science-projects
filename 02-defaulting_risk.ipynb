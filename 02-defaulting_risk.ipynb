{
 "cells": [
  {
   "cell_type": "markdown",
   "metadata": {},
   "source": [
    "# Analyzing borrowers’ risk of defaulting\n",
    "\n",
    "Your project is to prepare a report for a bank’s loan division. You’ll need to find out if a customer’s marital status and number of children has an impact on whether they will default on a loan. The bank already has some data on customers’ credit worthiness.\n",
    "\n",
    "Your report will be considered when building the **credit score** of a potential customer. The **credit score** is used to evaluate the ability of a potential borrower to repay their loan.\n",
    "\n",
    "Analysis will be performed on the following dataset to determine what factors correspond to defaulting on loans across our customers. While there may be numerous componenets that contribute to if a customer defaults, I hypothesize that employment status and income affect whether or not a default occurs."
   ]
  },
  {
   "cell_type": "markdown",
   "metadata": {},
   "source": [
    "## Open the data file and have a look at the general information. "
   ]
  },
  {
   "cell_type": "code",
   "execution_count": 1,
   "metadata": {},
   "outputs": [],
   "source": [
    "# Loading all the libraries\n",
    "import pandas as pd\n",
    "\n",
    "# Load the data\n",
    "df = pd.read_csv('/datasets/credit_scoring_eng.csv')"
   ]
  },
  {
   "cell_type": "markdown",
   "metadata": {},
   "source": [
    "## Task 1. Data exploration\n",
    "\n",
    "**Description of the data**\n",
    "- `children` - the number of children in the family\n",
    "- `days_employed` - work experience in days\n",
    "- `dob_years` - client's age in years\n",
    "- `education` - client's education\n",
    "- `education_id` - education identifier\n",
    "- `family_status` - marital status\n",
    "- `family_status_id` - marital status identifier\n",
    "- `gender` - gender of the client\n",
    "- `income_type` - type of employment\n",
    "- `debt` - was there any debt on loan repayment\n",
    "- `total_income` - monthly income\n",
    "- `purpose` - the purpose of obtaining a loan"
   ]
  },
  {
   "cell_type": "code",
   "execution_count": 2,
   "metadata": {},
   "outputs": [
    {
     "data": {
      "text/plain": [
       "(21525, 12)"
      ]
     },
     "execution_count": 2,
     "metadata": {},
     "output_type": "execute_result"
    }
   ],
   "source": [
    "# Let's see how many rows and columns our dataset has\n",
    "\n",
    "df.shape"
   ]
  },
  {
   "cell_type": "code",
   "execution_count": 3,
   "metadata": {
    "scrolled": true
   },
   "outputs": [
    {
     "data": {
      "text/html": [
       "<div>\n",
       "<style scoped>\n",
       "    .dataframe tbody tr th:only-of-type {\n",
       "        vertical-align: middle;\n",
       "    }\n",
       "\n",
       "    .dataframe tbody tr th {\n",
       "        vertical-align: top;\n",
       "    }\n",
       "\n",
       "    .dataframe thead th {\n",
       "        text-align: right;\n",
       "    }\n",
       "</style>\n",
       "<table border=\"1\" class=\"dataframe\">\n",
       "  <thead>\n",
       "    <tr style=\"text-align: right;\">\n",
       "      <th></th>\n",
       "      <th>children</th>\n",
       "      <th>days_employed</th>\n",
       "      <th>dob_years</th>\n",
       "      <th>education</th>\n",
       "      <th>education_id</th>\n",
       "      <th>family_status</th>\n",
       "      <th>family_status_id</th>\n",
       "      <th>gender</th>\n",
       "      <th>income_type</th>\n",
       "      <th>debt</th>\n",
       "      <th>total_income</th>\n",
       "      <th>purpose</th>\n",
       "    </tr>\n",
       "  </thead>\n",
       "  <tbody>\n",
       "    <tr>\n",
       "      <th>0</th>\n",
       "      <td>1</td>\n",
       "      <td>-8437.673028</td>\n",
       "      <td>42</td>\n",
       "      <td>bachelor's degree</td>\n",
       "      <td>0</td>\n",
       "      <td>married</td>\n",
       "      <td>0</td>\n",
       "      <td>F</td>\n",
       "      <td>employee</td>\n",
       "      <td>0</td>\n",
       "      <td>40620.102</td>\n",
       "      <td>purchase of the house</td>\n",
       "    </tr>\n",
       "    <tr>\n",
       "      <th>1</th>\n",
       "      <td>1</td>\n",
       "      <td>-4024.803754</td>\n",
       "      <td>36</td>\n",
       "      <td>secondary education</td>\n",
       "      <td>1</td>\n",
       "      <td>married</td>\n",
       "      <td>0</td>\n",
       "      <td>F</td>\n",
       "      <td>employee</td>\n",
       "      <td>0</td>\n",
       "      <td>17932.802</td>\n",
       "      <td>car purchase</td>\n",
       "    </tr>\n",
       "    <tr>\n",
       "      <th>2</th>\n",
       "      <td>0</td>\n",
       "      <td>-5623.422610</td>\n",
       "      <td>33</td>\n",
       "      <td>Secondary Education</td>\n",
       "      <td>1</td>\n",
       "      <td>married</td>\n",
       "      <td>0</td>\n",
       "      <td>M</td>\n",
       "      <td>employee</td>\n",
       "      <td>0</td>\n",
       "      <td>23341.752</td>\n",
       "      <td>purchase of the house</td>\n",
       "    </tr>\n",
       "    <tr>\n",
       "      <th>3</th>\n",
       "      <td>3</td>\n",
       "      <td>-4124.747207</td>\n",
       "      <td>32</td>\n",
       "      <td>secondary education</td>\n",
       "      <td>1</td>\n",
       "      <td>married</td>\n",
       "      <td>0</td>\n",
       "      <td>M</td>\n",
       "      <td>employee</td>\n",
       "      <td>0</td>\n",
       "      <td>42820.568</td>\n",
       "      <td>supplementary education</td>\n",
       "    </tr>\n",
       "    <tr>\n",
       "      <th>4</th>\n",
       "      <td>0</td>\n",
       "      <td>340266.072047</td>\n",
       "      <td>53</td>\n",
       "      <td>secondary education</td>\n",
       "      <td>1</td>\n",
       "      <td>civil partnership</td>\n",
       "      <td>1</td>\n",
       "      <td>F</td>\n",
       "      <td>retiree</td>\n",
       "      <td>0</td>\n",
       "      <td>25378.572</td>\n",
       "      <td>to have a wedding</td>\n",
       "    </tr>\n",
       "    <tr>\n",
       "      <th>5</th>\n",
       "      <td>0</td>\n",
       "      <td>-926.185831</td>\n",
       "      <td>27</td>\n",
       "      <td>bachelor's degree</td>\n",
       "      <td>0</td>\n",
       "      <td>civil partnership</td>\n",
       "      <td>1</td>\n",
       "      <td>M</td>\n",
       "      <td>business</td>\n",
       "      <td>0</td>\n",
       "      <td>40922.170</td>\n",
       "      <td>purchase of the house</td>\n",
       "    </tr>\n",
       "    <tr>\n",
       "      <th>6</th>\n",
       "      <td>0</td>\n",
       "      <td>-2879.202052</td>\n",
       "      <td>43</td>\n",
       "      <td>bachelor's degree</td>\n",
       "      <td>0</td>\n",
       "      <td>married</td>\n",
       "      <td>0</td>\n",
       "      <td>F</td>\n",
       "      <td>business</td>\n",
       "      <td>0</td>\n",
       "      <td>38484.156</td>\n",
       "      <td>housing transactions</td>\n",
       "    </tr>\n",
       "    <tr>\n",
       "      <th>7</th>\n",
       "      <td>0</td>\n",
       "      <td>-152.779569</td>\n",
       "      <td>50</td>\n",
       "      <td>SECONDARY EDUCATION</td>\n",
       "      <td>1</td>\n",
       "      <td>married</td>\n",
       "      <td>0</td>\n",
       "      <td>M</td>\n",
       "      <td>employee</td>\n",
       "      <td>0</td>\n",
       "      <td>21731.829</td>\n",
       "      <td>education</td>\n",
       "    </tr>\n",
       "    <tr>\n",
       "      <th>8</th>\n",
       "      <td>2</td>\n",
       "      <td>-6929.865299</td>\n",
       "      <td>35</td>\n",
       "      <td>BACHELOR'S DEGREE</td>\n",
       "      <td>0</td>\n",
       "      <td>civil partnership</td>\n",
       "      <td>1</td>\n",
       "      <td>F</td>\n",
       "      <td>employee</td>\n",
       "      <td>0</td>\n",
       "      <td>15337.093</td>\n",
       "      <td>having a wedding</td>\n",
       "    </tr>\n",
       "    <tr>\n",
       "      <th>9</th>\n",
       "      <td>0</td>\n",
       "      <td>-2188.756445</td>\n",
       "      <td>41</td>\n",
       "      <td>secondary education</td>\n",
       "      <td>1</td>\n",
       "      <td>married</td>\n",
       "      <td>0</td>\n",
       "      <td>M</td>\n",
       "      <td>employee</td>\n",
       "      <td>0</td>\n",
       "      <td>23108.150</td>\n",
       "      <td>purchase of the house for my family</td>\n",
       "    </tr>\n",
       "  </tbody>\n",
       "</table>\n",
       "</div>"
      ],
      "text/plain": [
       "   children  days_employed  dob_years            education  education_id  \\\n",
       "0         1   -8437.673028         42    bachelor's degree             0   \n",
       "1         1   -4024.803754         36  secondary education             1   \n",
       "2         0   -5623.422610         33  Secondary Education             1   \n",
       "3         3   -4124.747207         32  secondary education             1   \n",
       "4         0  340266.072047         53  secondary education             1   \n",
       "5         0    -926.185831         27    bachelor's degree             0   \n",
       "6         0   -2879.202052         43    bachelor's degree             0   \n",
       "7         0    -152.779569         50  SECONDARY EDUCATION             1   \n",
       "8         2   -6929.865299         35    BACHELOR'S DEGREE             0   \n",
       "9         0   -2188.756445         41  secondary education             1   \n",
       "\n",
       "       family_status  family_status_id gender income_type  debt  total_income  \\\n",
       "0            married                 0      F    employee     0     40620.102   \n",
       "1            married                 0      F    employee     0     17932.802   \n",
       "2            married                 0      M    employee     0     23341.752   \n",
       "3            married                 0      M    employee     0     42820.568   \n",
       "4  civil partnership                 1      F     retiree     0     25378.572   \n",
       "5  civil partnership                 1      M    business     0     40922.170   \n",
       "6            married                 0      F    business     0     38484.156   \n",
       "7            married                 0      M    employee     0     21731.829   \n",
       "8  civil partnership                 1      F    employee     0     15337.093   \n",
       "9            married                 0      M    employee     0     23108.150   \n",
       "\n",
       "                               purpose  \n",
       "0                purchase of the house  \n",
       "1                         car purchase  \n",
       "2                purchase of the house  \n",
       "3              supplementary education  \n",
       "4                    to have a wedding  \n",
       "5                purchase of the house  \n",
       "6                 housing transactions  \n",
       "7                            education  \n",
       "8                     having a wedding  \n",
       "9  purchase of the house for my family  "
      ]
     },
     "execution_count": 3,
     "metadata": {},
     "output_type": "execute_result"
    }
   ],
   "source": [
    "# let's print the first 10 rows\n",
    "\n",
    "df.head(10)"
   ]
  },
  {
   "cell_type": "markdown",
   "metadata": {},
   "source": [
    "In this dataset, there are a few issues that may require further investigation: `days_employed` contains negative values, `education` has casing inconsistences, and `purpose` will need to be more consistent. For example, \"to have a wedding\" and \"having a wedding\" are two distinct columns that could be condensed into \"wedding\". "
   ]
  },
  {
   "cell_type": "code",
   "execution_count": 4,
   "metadata": {
    "scrolled": false
   },
   "outputs": [
    {
     "name": "stdout",
     "output_type": "stream",
     "text": [
      "<class 'pandas.core.frame.DataFrame'>\n",
      "RangeIndex: 21525 entries, 0 to 21524\n",
      "Data columns (total 12 columns):\n",
      " #   Column            Non-Null Count  Dtype  \n",
      "---  ------            --------------  -----  \n",
      " 0   children          21525 non-null  int64  \n",
      " 1   days_employed     19351 non-null  float64\n",
      " 2   dob_years         21525 non-null  int64  \n",
      " 3   education         21525 non-null  object \n",
      " 4   education_id      21525 non-null  int64  \n",
      " 5   family_status     21525 non-null  object \n",
      " 6   family_status_id  21525 non-null  int64  \n",
      " 7   gender            21525 non-null  object \n",
      " 8   income_type       21525 non-null  object \n",
      " 9   debt              21525 non-null  int64  \n",
      " 10  total_income      19351 non-null  float64\n",
      " 11  purpose           21525 non-null  object \n",
      "dtypes: float64(2), int64(5), object(5)\n",
      "memory usage: 2.0+ MB\n"
     ]
    }
   ],
   "source": [
    "# Get info on data\n",
    "df.info()"
   ]
  },
  {
   "cell_type": "markdown",
   "metadata": {},
   "source": [
    "There are 21525 total rows, but `days_employed` and `total_income` only have 19351 each. The two of these columns therefore have missing values."
   ]
  },
  {
   "cell_type": "code",
   "execution_count": 5,
   "metadata": {
    "scrolled": false
   },
   "outputs": [
    {
     "data": {
      "text/html": [
       "<div>\n",
       "<style scoped>\n",
       "    .dataframe tbody tr th:only-of-type {\n",
       "        vertical-align: middle;\n",
       "    }\n",
       "\n",
       "    .dataframe tbody tr th {\n",
       "        vertical-align: top;\n",
       "    }\n",
       "\n",
       "    .dataframe thead th {\n",
       "        text-align: right;\n",
       "    }\n",
       "</style>\n",
       "<table border=\"1\" class=\"dataframe\">\n",
       "  <thead>\n",
       "    <tr style=\"text-align: right;\">\n",
       "      <th></th>\n",
       "      <th>children</th>\n",
       "      <th>days_employed</th>\n",
       "      <th>dob_years</th>\n",
       "      <th>education</th>\n",
       "      <th>education_id</th>\n",
       "      <th>family_status</th>\n",
       "      <th>family_status_id</th>\n",
       "      <th>gender</th>\n",
       "      <th>income_type</th>\n",
       "      <th>debt</th>\n",
       "      <th>total_income</th>\n",
       "      <th>purpose</th>\n",
       "    </tr>\n",
       "  </thead>\n",
       "  <tbody>\n",
       "    <tr>\n",
       "      <th>12</th>\n",
       "      <td>0</td>\n",
       "      <td>NaN</td>\n",
       "      <td>65</td>\n",
       "      <td>secondary education</td>\n",
       "      <td>1</td>\n",
       "      <td>civil partnership</td>\n",
       "      <td>1</td>\n",
       "      <td>M</td>\n",
       "      <td>retiree</td>\n",
       "      <td>0</td>\n",
       "      <td>NaN</td>\n",
       "      <td>to have a wedding</td>\n",
       "    </tr>\n",
       "    <tr>\n",
       "      <th>26</th>\n",
       "      <td>0</td>\n",
       "      <td>NaN</td>\n",
       "      <td>41</td>\n",
       "      <td>secondary education</td>\n",
       "      <td>1</td>\n",
       "      <td>married</td>\n",
       "      <td>0</td>\n",
       "      <td>M</td>\n",
       "      <td>civil servant</td>\n",
       "      <td>0</td>\n",
       "      <td>NaN</td>\n",
       "      <td>education</td>\n",
       "    </tr>\n",
       "    <tr>\n",
       "      <th>29</th>\n",
       "      <td>0</td>\n",
       "      <td>NaN</td>\n",
       "      <td>63</td>\n",
       "      <td>secondary education</td>\n",
       "      <td>1</td>\n",
       "      <td>unmarried</td>\n",
       "      <td>4</td>\n",
       "      <td>F</td>\n",
       "      <td>retiree</td>\n",
       "      <td>0</td>\n",
       "      <td>NaN</td>\n",
       "      <td>building a real estate</td>\n",
       "    </tr>\n",
       "    <tr>\n",
       "      <th>41</th>\n",
       "      <td>0</td>\n",
       "      <td>NaN</td>\n",
       "      <td>50</td>\n",
       "      <td>secondary education</td>\n",
       "      <td>1</td>\n",
       "      <td>married</td>\n",
       "      <td>0</td>\n",
       "      <td>F</td>\n",
       "      <td>civil servant</td>\n",
       "      <td>0</td>\n",
       "      <td>NaN</td>\n",
       "      <td>second-hand car purchase</td>\n",
       "    </tr>\n",
       "    <tr>\n",
       "      <th>55</th>\n",
       "      <td>0</td>\n",
       "      <td>NaN</td>\n",
       "      <td>54</td>\n",
       "      <td>secondary education</td>\n",
       "      <td>1</td>\n",
       "      <td>civil partnership</td>\n",
       "      <td>1</td>\n",
       "      <td>F</td>\n",
       "      <td>retiree</td>\n",
       "      <td>1</td>\n",
       "      <td>NaN</td>\n",
       "      <td>to have a wedding</td>\n",
       "    </tr>\n",
       "  </tbody>\n",
       "</table>\n",
       "</div>"
      ],
      "text/plain": [
       "    children  days_employed  dob_years            education  education_id  \\\n",
       "12         0            NaN         65  secondary education             1   \n",
       "26         0            NaN         41  secondary education             1   \n",
       "29         0            NaN         63  secondary education             1   \n",
       "41         0            NaN         50  secondary education             1   \n",
       "55         0            NaN         54  secondary education             1   \n",
       "\n",
       "        family_status  family_status_id gender    income_type  debt  \\\n",
       "12  civil partnership                 1      M        retiree     0   \n",
       "26            married                 0      M  civil servant     0   \n",
       "29          unmarried                 4      F        retiree     0   \n",
       "41            married                 0      F  civil servant     0   \n",
       "55  civil partnership                 1      F        retiree     1   \n",
       "\n",
       "    total_income                   purpose  \n",
       "12           NaN         to have a wedding  \n",
       "26           NaN                 education  \n",
       "29           NaN    building a real estate  \n",
       "41           NaN  second-hand car purchase  \n",
       "55           NaN         to have a wedding  "
      ]
     },
     "execution_count": 5,
     "metadata": {},
     "output_type": "execute_result"
    }
   ],
   "source": [
    "# Let's look at the filtered table with missing values in the the first column with missing data\n",
    "\n",
    "# First, filtering to the rows with missing values in the days_employed column\n",
    "null_days_employed = df[df['days_employed'].isnull()]\n",
    "null_days_employed.head()"
   ]
  },
  {
   "cell_type": "code",
   "execution_count": 6,
   "metadata": {
    "scrolled": true
   },
   "outputs": [
    {
     "data": {
      "text/html": [
       "<div>\n",
       "<style scoped>\n",
       "    .dataframe tbody tr th:only-of-type {\n",
       "        vertical-align: middle;\n",
       "    }\n",
       "\n",
       "    .dataframe tbody tr th {\n",
       "        vertical-align: top;\n",
       "    }\n",
       "\n",
       "    .dataframe thead th {\n",
       "        text-align: right;\n",
       "    }\n",
       "</style>\n",
       "<table border=\"1\" class=\"dataframe\">\n",
       "  <thead>\n",
       "    <tr style=\"text-align: right;\">\n",
       "      <th></th>\n",
       "      <th>children</th>\n",
       "      <th>days_employed</th>\n",
       "      <th>dob_years</th>\n",
       "      <th>education</th>\n",
       "      <th>education_id</th>\n",
       "      <th>family_status</th>\n",
       "      <th>family_status_id</th>\n",
       "      <th>gender</th>\n",
       "      <th>income_type</th>\n",
       "      <th>debt</th>\n",
       "      <th>total_income</th>\n",
       "      <th>purpose</th>\n",
       "    </tr>\n",
       "  </thead>\n",
       "  <tbody>\n",
       "    <tr>\n",
       "      <th>12</th>\n",
       "      <td>0</td>\n",
       "      <td>NaN</td>\n",
       "      <td>65</td>\n",
       "      <td>secondary education</td>\n",
       "      <td>1</td>\n",
       "      <td>civil partnership</td>\n",
       "      <td>1</td>\n",
       "      <td>M</td>\n",
       "      <td>retiree</td>\n",
       "      <td>0</td>\n",
       "      <td>NaN</td>\n",
       "      <td>to have a wedding</td>\n",
       "    </tr>\n",
       "    <tr>\n",
       "      <th>26</th>\n",
       "      <td>0</td>\n",
       "      <td>NaN</td>\n",
       "      <td>41</td>\n",
       "      <td>secondary education</td>\n",
       "      <td>1</td>\n",
       "      <td>married</td>\n",
       "      <td>0</td>\n",
       "      <td>M</td>\n",
       "      <td>civil servant</td>\n",
       "      <td>0</td>\n",
       "      <td>NaN</td>\n",
       "      <td>education</td>\n",
       "    </tr>\n",
       "    <tr>\n",
       "      <th>29</th>\n",
       "      <td>0</td>\n",
       "      <td>NaN</td>\n",
       "      <td>63</td>\n",
       "      <td>secondary education</td>\n",
       "      <td>1</td>\n",
       "      <td>unmarried</td>\n",
       "      <td>4</td>\n",
       "      <td>F</td>\n",
       "      <td>retiree</td>\n",
       "      <td>0</td>\n",
       "      <td>NaN</td>\n",
       "      <td>building a real estate</td>\n",
       "    </tr>\n",
       "    <tr>\n",
       "      <th>41</th>\n",
       "      <td>0</td>\n",
       "      <td>NaN</td>\n",
       "      <td>50</td>\n",
       "      <td>secondary education</td>\n",
       "      <td>1</td>\n",
       "      <td>married</td>\n",
       "      <td>0</td>\n",
       "      <td>F</td>\n",
       "      <td>civil servant</td>\n",
       "      <td>0</td>\n",
       "      <td>NaN</td>\n",
       "      <td>second-hand car purchase</td>\n",
       "    </tr>\n",
       "    <tr>\n",
       "      <th>55</th>\n",
       "      <td>0</td>\n",
       "      <td>NaN</td>\n",
       "      <td>54</td>\n",
       "      <td>secondary education</td>\n",
       "      <td>1</td>\n",
       "      <td>civil partnership</td>\n",
       "      <td>1</td>\n",
       "      <td>F</td>\n",
       "      <td>retiree</td>\n",
       "      <td>1</td>\n",
       "      <td>NaN</td>\n",
       "      <td>to have a wedding</td>\n",
       "    </tr>\n",
       "  </tbody>\n",
       "</table>\n",
       "</div>"
      ],
      "text/plain": [
       "    children  days_employed  dob_years            education  education_id  \\\n",
       "12         0            NaN         65  secondary education             1   \n",
       "26         0            NaN         41  secondary education             1   \n",
       "29         0            NaN         63  secondary education             1   \n",
       "41         0            NaN         50  secondary education             1   \n",
       "55         0            NaN         54  secondary education             1   \n",
       "\n",
       "        family_status  family_status_id gender    income_type  debt  \\\n",
       "12  civil partnership                 1      M        retiree     0   \n",
       "26            married                 0      M  civil servant     0   \n",
       "29          unmarried                 4      F        retiree     0   \n",
       "41            married                 0      F  civil servant     0   \n",
       "55  civil partnership                 1      F        retiree     1   \n",
       "\n",
       "    total_income                   purpose  \n",
       "12           NaN         to have a wedding  \n",
       "26           NaN                 education  \n",
       "29           NaN    building a real estate  \n",
       "41           NaN  second-hand car purchase  \n",
       "55           NaN         to have a wedding  "
      ]
     },
     "execution_count": 6,
     "metadata": {},
     "output_type": "execute_result"
    }
   ],
   "source": [
    "# Then, filtering to the rows with missing values in the total_income column\n",
    "null_total_income = df[df['total_income'].isnull()]\n",
    "null_total_income.head()"
   ]
  },
  {
   "cell_type": "code",
   "execution_count": 7,
   "metadata": {},
   "outputs": [
    {
     "name": "stdout",
     "output_type": "stream",
     "text": [
      "True\n"
     ]
    }
   ],
   "source": [
    "# Checking to see if these dataframes are equal\n",
    "print(null_days_employed.equals(null_total_income))"
   ]
  },
  {
   "cell_type": "markdown",
   "metadata": {},
   "source": [
    "The missing values appear to be symmetric, meaning that all the rows with missing values in `days_employed` also have missing values in `total_income` and vice versa. Therefore, if a row has a missing value in one of these columns, it will have a missing value in the other. Likewise, if a row has a non-null value in either of these columns, it will have a non-null value in the other."
   ]
  },
  {
   "cell_type": "code",
   "execution_count": 8,
   "metadata": {},
   "outputs": [
    {
     "data": {
      "text/plain": [
       "(2174, 12)"
      ]
     },
     "execution_count": 8,
     "metadata": {},
     "output_type": "execute_result"
    }
   ],
   "source": [
    "# Let's apply multiple conditions for filtering data and look at the number of rows in the filtered table.\n",
    "\n",
    "df[df['days_employed'].isnull() & df['total_income'].isnull()].shape"
   ]
  },
  {
   "cell_type": "code",
   "execution_count": 9,
   "metadata": {},
   "outputs": [
    {
     "name": "stdout",
     "output_type": "stream",
     "text": [
      "Rows in filtered table matches number of missing values: True\n",
      "Percentage of missing values: 10.10%\n"
     ]
    }
   ],
   "source": [
    "df_rows = 21525\n",
    "df_nonnull = 19351\n",
    "df_filtered_rows = 2174\n",
    "\n",
    "print(f'Rows in filtered table matches number of missing values: {df_filtered_rows == df_rows - df_nonnull}')\n",
    "print(f'Percentage of missing values: {df_filtered_rows/df_rows:.2%}')"
   ]
  },
  {
   "cell_type": "markdown",
   "metadata": {},
   "source": [
    "\n",
    "**Intermediate conclusion**\n",
    "\n",
    "The number of rows in the filtered table matches the total number of missing values. There were 21525 total rows in the dataset and 19351 non-null values in our `total_income` and `days_employed` columns. We can conclude that a row will either have non-null values in both of these columns or a null value in both - there will be no cases where a row has a null in one of these two columns yet a non-null in the other.\n",
    "\n",
    "10.10% of our data is missing. This is a large portion of the data, so instead of dropping those rows we will fill them. Multiple factors likely affect `total_income` and `days_employed`, but I hypothesize that `income_type` and `education` will have a large affect on these columns. \n",
    "\n",
    "Going forward, I will take a closer look at the clients with missing values in these rows to see if there's a dependency that is missing somewhere, as well as to figure out a good data point to fill the missing data with. I do not want to skew the results of the data, so I will likely choose the median or mean of another column that affects the values in `total_income` and `days_employed`."
   ]
  },
  {
   "cell_type": "code",
   "execution_count": 10,
   "metadata": {},
   "outputs": [
    {
     "name": "stdout",
     "output_type": "stream",
     "text": [
      "employee         0.508280\n",
      "business         0.233671\n",
      "retiree          0.189972\n",
      "civil servant    0.067617\n",
      "entrepreneur     0.000460\n",
      "Name: income_type, dtype: float64\n",
      "1    0.708372\n",
      "0    0.250230\n",
      "2    0.031739\n",
      "3    0.009660\n",
      "Name: education_id, dtype: float64\n",
      "married              0.568997\n",
      "civil partnership    0.203312\n",
      "unmarried            0.132475\n",
      "divorced             0.051518\n",
      "widow / widower      0.043698\n",
      "Name: family_status, dtype: float64\n"
     ]
    }
   ],
   "source": [
    "# Let's investigate clients who do not have data on identified characteristic and the column with the missing values\n",
    "\n",
    "print(null_days_employed['income_type'].value_counts(normalize=True))\n",
    "print(null_days_employed['education_id'].value_counts(normalize=True))\n",
    "print(null_days_employed['family_status'].value_counts(normalize=True))"
   ]
  },
  {
   "cell_type": "markdown",
   "metadata": {},
   "source": [
    "So far, it's hard to tell what is causing the missing data. Looking at family status, education, and income_type gives us expected distributions in the data.\n",
    "\n",
    "**Possible reasons for missing values in data**\n",
    "\n",
    "While it may be the case that the values are missing at random, it's too early to make that conclusion. I will need to do additional analysis to figure out if there is a pattern and compare the distribution of the filtered dataset with the distributoon of the whole dataset."
   ]
  },
  {
   "cell_type": "code",
   "execution_count": 11,
   "metadata": {},
   "outputs": [
    {
     "name": "stdout",
     "output_type": "stream",
     "text": [
      "employee                       0.516562\n",
      "business                       0.236237\n",
      "retiree                        0.179141\n",
      "civil servant                  0.067782\n",
      "unemployed                     0.000093\n",
      "entrepreneur                   0.000093\n",
      "paternity / maternity leave    0.000046\n",
      "student                        0.000046\n",
      "Name: income_type, dtype: float64\n",
      "1    0.707689\n",
      "0    0.244367\n",
      "2    0.034564\n",
      "3    0.013101\n",
      "4    0.000279\n",
      "Name: education_id, dtype: float64\n",
      "married              0.575145\n",
      "civil partnership    0.194053\n",
      "unmarried            0.130685\n",
      "divorced             0.055517\n",
      "widow / widower      0.044599\n",
      "Name: family_status, dtype: float64\n"
     ]
    }
   ],
   "source": [
    "# Checking the distribution in the whole dataset\n",
    "\n",
    "print(df['income_type'].value_counts(normalize=True))\n",
    "print(df['education_id'].value_counts(normalize=True))\n",
    "print(df['family_status'].value_counts(normalize=True))"
   ]
  },
  {
   "cell_type": "markdown",
   "metadata": {},
   "source": [
    "**Intermediate conclusion**\n",
    "\n",
    "For these three columns, the distributions are extremely similar in the filtered dataset and the original dataset. This doesn't confirm that the data is missing randomly, but it does require further investigation in our data.\n",
    "\n",
    "To investigate further, I will also be comparing the distribution of children and the distribution of gender."
   ]
  },
  {
   "cell_type": "code",
   "execution_count": 12,
   "metadata": {},
   "outputs": [
    {
     "name": "stdout",
     "output_type": "stream",
     "text": [
      " 0     0.657329\n",
      " 1     0.223833\n",
      " 2     0.095470\n",
      " 3     0.015331\n",
      " 20    0.003531\n",
      "-1     0.002184\n",
      " 4     0.001905\n",
      " 5     0.000418\n",
      "Name: children, dtype: float64\n",
      " 0     0.661914\n",
      " 1     0.218491\n",
      " 2     0.093836\n",
      " 3     0.016559\n",
      " 20    0.004140\n",
      " 4     0.003220\n",
      "-1     0.001380\n",
      " 5     0.000460\n",
      "Name: children, dtype: float64\n"
     ]
    }
   ],
   "source": [
    "# Check for other reasons and patterns that could lead to missing values\n",
    "\n",
    "# Looking at the distribution of children\n",
    "print(df['children'].value_counts(normalize=True))\n",
    "print(null_days_employed['children'].value_counts(normalize=True))"
   ]
  },
  {
   "cell_type": "code",
   "execution_count": 13,
   "metadata": {
    "scrolled": true
   },
   "outputs": [
    {
     "name": "stdout",
     "output_type": "stream",
     "text": [
      "F      0.661370\n",
      "M      0.338583\n",
      "XNA    0.000046\n",
      "Name: gender, dtype: float64\n",
      "F    0.682613\n",
      "M    0.317387\n",
      "Name: gender, dtype: float64\n"
     ]
    }
   ],
   "source": [
    "# Looking at the distribution of gender\n",
    "print(df['gender'].value_counts(normalize=True))\n",
    "print(null_days_employed['gender'].value_counts(normalize=True))"
   ]
  },
  {
   "cell_type": "markdown",
   "metadata": {},
   "source": [
    "**Intermediate conclusion**\n",
    "\n",
    "Looking at all the columns, it appears that the missing values are accidental. The distribution in the original dataset between individual columns is the same as in the filtered dataset."
   ]
  },
  {
   "cell_type": "markdown",
   "metadata": {},
   "source": [
    "**Conclusions**\n",
    "\n",
    "The primary pattern in the dataset is how a null value in `total_income` or `days_employed` will indicate a null value in the other column as well.\n",
    "\n",
    "10% of the data contains these missing values, so the data cannot be dropped. Instead, the data will need to be filled with a supplemental value - additional analysis will be required to find out what factors affect the non-null total_income and non_null days_employed. From that analysis, I will determine a mean or median that will be used to fill the rows.\n",
    "\n",
    "Before filling in the missing data, the data will require extensive cleaning to take care of duplicate rows, fixing inconsistencies, and addressing unrealistic data."
   ]
  },
  {
   "cell_type": "markdown",
   "metadata": {},
   "source": [
    "## Data transformation\n",
    "\n",
    "First, the `education` column had numerous inconsistencies, so I will standardize the spelling."
   ]
  },
  {
   "cell_type": "code",
   "execution_count": 14,
   "metadata": {},
   "outputs": [
    {
     "data": {
      "text/plain": [
       "array([\"bachelor's degree\", 'secondary education', 'Secondary Education',\n",
       "       'SECONDARY EDUCATION', \"BACHELOR'S DEGREE\", 'some college',\n",
       "       'primary education', \"Bachelor's Degree\", 'SOME COLLEGE',\n",
       "       'Some College', 'PRIMARY EDUCATION', 'Primary Education',\n",
       "       'Graduate Degree', 'GRADUATE DEGREE', 'graduate degree'],\n",
       "      dtype=object)"
      ]
     },
     "execution_count": 14,
     "metadata": {},
     "output_type": "execute_result"
    }
   ],
   "source": [
    "# Let's see all values in education column to check if and what spellings will need to be fixed\n",
    "\n",
    "df['education'].unique()"
   ]
  },
  {
   "cell_type": "code",
   "execution_count": 15,
   "metadata": {
    "scrolled": true
   },
   "outputs": [],
   "source": [
    "# Fixing values\n",
    "\n",
    "df['education'] = df['education'].str.lower()"
   ]
  },
  {
   "cell_type": "code",
   "execution_count": 16,
   "metadata": {},
   "outputs": [
    {
     "data": {
      "text/plain": [
       "array([\"bachelor's degree\", 'secondary education', 'some college',\n",
       "       'primary education', 'graduate degree'], dtype=object)"
      ]
     },
     "execution_count": 16,
     "metadata": {},
     "output_type": "execute_result"
    }
   ],
   "source": [
    "# Checking all the values in the column to make sure we fixed them\n",
    "\n",
    "df['education'].unique()"
   ]
  },
  {
   "cell_type": "markdown",
   "metadata": {},
   "source": [
    "Next, I address the `children` column."
   ]
  },
  {
   "cell_type": "code",
   "execution_count": 17,
   "metadata": {},
   "outputs": [
    {
     "data": {
      "text/plain": [
       " 0     14149\n",
       " 1      4818\n",
       " 2      2055\n",
       " 3       330\n",
       " 20       76\n",
       "-1        47\n",
       " 4        41\n",
       " 5         9\n",
       "Name: children, dtype: int64"
      ]
     },
     "execution_count": 17,
     "metadata": {},
     "output_type": "execute_result"
    }
   ],
   "source": [
    "# Let's see the distribution of values in the `children` column\n",
    "\n",
    "df['children'].value_counts()"
   ]
  },
  {
   "cell_type": "code",
   "execution_count": 18,
   "metadata": {},
   "outputs": [
    {
     "data": {
      "text/plain": [
       " 0     0.657329\n",
       " 1     0.223833\n",
       " 2     0.095470\n",
       " 3     0.015331\n",
       " 20    0.003531\n",
       "-1     0.002184\n",
       " 4     0.001905\n",
       " 5     0.000418\n",
       "Name: children, dtype: float64"
      ]
     },
     "execution_count": 18,
     "metadata": {},
     "output_type": "execute_result"
    }
   ],
   "source": [
    "# Looking at these values normalized\n",
    "df['children'].value_counts(normalize=True)"
   ]
  },
  {
   "cell_type": "markdown",
   "metadata": {},
   "source": [
    "In the children column, there are two odd values: -1 and 20. 20 (0.3% of the data) is an extremely high amount of children and may not be the actual value - it may have originated from someone counting more than just their direct children. -1 (0.2% of the data) is also an impossible value - it may have resulted from someone who did not have any kids, but we cannot confirm. Together, these make up under 1% of the data, so I will be removing these rows from the dataset."
   ]
  },
  {
   "cell_type": "code",
   "execution_count": 19,
   "metadata": {},
   "outputs": [],
   "source": [
    "# Filtering out children with age 20 and children with age -1\n",
    "\n",
    "df = df[df['children'] != 20].reset_index(drop=True)\n",
    "df = df[df['children'] != -1].reset_index(drop=True)"
   ]
  },
  {
   "cell_type": "code",
   "execution_count": 20,
   "metadata": {},
   "outputs": [
    {
     "data": {
      "text/plain": [
       "0    14149\n",
       "1     4818\n",
       "2     2055\n",
       "3      330\n",
       "4       41\n",
       "5        9\n",
       "Name: children, dtype: int64"
      ]
     },
     "execution_count": 20,
     "metadata": {},
     "output_type": "execute_result"
    }
   ],
   "source": [
    "# Checking the `children` column again to make sure it's all fixed\n",
    "\n",
    "df['children'].value_counts()"
   ]
  },
  {
   "cell_type": "markdown",
   "metadata": {},
   "source": [
    "Next, checking the `days_employed` column. From the sample data we looked at initially, I know this column contains negative values, which does not make sense in the content of the column."
   ]
  },
  {
   "cell_type": "code",
   "execution_count": 21,
   "metadata": {},
   "outputs": [
    {
     "data": {
      "text/plain": [
       "count     19240.000000\n",
       "mean      63159.820777\n",
       "std      140928.943329\n",
       "min      -18388.949901\n",
       "25%       -2747.235601\n",
       "50%       -1203.934202\n",
       "75%        -289.740178\n",
       "max      401755.400475\n",
       "Name: days_employed, dtype: float64"
      ]
     },
     "execution_count": 21,
     "metadata": {},
     "output_type": "execute_result"
    }
   ],
   "source": [
    "# Find problematic data in `days_employed`, if they exist, and calculate the percentage\n",
    "df['days_employed'].describe()"
   ]
  },
  {
   "cell_type": "code",
   "execution_count": 22,
   "metadata": {
    "scrolled": true
   },
   "outputs": [
    {
     "name": "stdout",
     "output_type": "stream",
     "text": [
      "Negative columns / Total columns: 0.8216735966735966\n"
     ]
    }
   ],
   "source": [
    "print(\"Negative columns / Total columns:\", df[df['days_employed'] < 0]['days_employed'].count() / df['days_employed'].count())"
   ]
  },
  {
   "cell_type": "markdown",
   "metadata": {},
   "source": [
    "82% of the data is negative, so there may have been a technical issue while the data was being collected. The most obvious solution would be to convert these values to positive ones."
   ]
  },
  {
   "cell_type": "code",
   "execution_count": 23,
   "metadata": {},
   "outputs": [],
   "source": [
    "# Address the problematic values, if they exist\n",
    "\n",
    "df['days_employed'] = df['days_employed'].abs()"
   ]
  },
  {
   "cell_type": "code",
   "execution_count": 24,
   "metadata": {},
   "outputs": [
    {
     "name": "stdout",
     "output_type": "stream",
     "text": [
      "Number of negative days_employed values: 0\n"
     ]
    },
    {
     "data": {
      "text/plain": [
       "count     19240.000000\n",
       "mean      67027.691459\n",
       "std      139130.846446\n",
       "min          24.141633\n",
       "25%         927.984311\n",
       "50%        2195.251592\n",
       "75%        5556.372075\n",
       "max      401755.400475\n",
       "Name: days_employed, dtype: float64"
      ]
     },
     "execution_count": 24,
     "metadata": {},
     "output_type": "execute_result"
    }
   ],
   "source": [
    "# Check the result - make sure it's fixed\n",
    "\n",
    "print(\"Number of negative days_employed values:\", df[df['days_employed'] < 0]['days_employed'].count())\n",
    "df['days_employed'].describe()"
   ]
  },
  {
   "cell_type": "markdown",
   "metadata": {},
   "source": [
    "Next, looking at client ages."
   ]
  },
  {
   "cell_type": "code",
   "execution_count": 25,
   "metadata": {
    "scrolled": true
   },
   "outputs": [
    {
     "data": {
      "text/plain": [
       "array([42, 36, 33, 32, 53, 27, 43, 50, 35, 41, 40, 65, 54, 56, 26, 48, 24,\n",
       "       21, 57, 67, 28, 63, 62, 47, 34, 68, 25, 31, 30, 20, 49, 37, 45, 61,\n",
       "       64, 44, 52, 46, 23, 38, 39, 51,  0, 59, 29, 60, 55, 58, 71, 22, 73,\n",
       "       66, 69, 19, 72, 70, 74, 75])"
      ]
     },
     "execution_count": 25,
     "metadata": {},
     "output_type": "execute_result"
    }
   ],
   "source": [
    "# Check the `dob_years` for suspicious values\n",
    "\n",
    "df['dob_years'].unique()"
   ]
  },
  {
   "cell_type": "markdown",
   "metadata": {},
   "source": [
    "0 is showing up as an age, which is an impossible value. Perhaps this showed up as the default value for when clients did not enter their age."
   ]
  },
  {
   "cell_type": "code",
   "execution_count": 26,
   "metadata": {},
   "outputs": [
    {
     "data": {
      "text/plain": [
       "0.004672460517708626"
      ]
     },
     "execution_count": 26,
     "metadata": {},
     "output_type": "execute_result"
    }
   ],
   "source": [
    "# Check percentage of clients with age '0'\n",
    "df[df['dob_years'] == 0]['dob_years'].count() / df['dob_years'].count()"
   ]
  },
  {
   "cell_type": "code",
   "execution_count": 27,
   "metadata": {},
   "outputs": [
    {
     "data": {
      "text/plain": [
       "count    21402.000000\n",
       "mean        43.300206\n",
       "std         12.579055\n",
       "min          0.000000\n",
       "25%         33.000000\n",
       "50%         42.000000\n",
       "75%         53.000000\n",
       "max         75.000000\n",
       "Name: dob_years, dtype: float64"
      ]
     },
     "execution_count": 27,
     "metadata": {},
     "output_type": "execute_result"
    }
   ],
   "source": [
    "df['dob_years'].describe()"
   ]
  },
  {
   "cell_type": "markdown",
   "metadata": {},
   "source": [
    "About 0.5% of data has this 0 value in `dob_years`. This isn't a significant amount, but because we dropped values earlier I will fill those values with the mean of the dataset (excluding the 0). There do not appear to be outliers other than the 0 (as the mean and 50% percentile are fairly similar), so the mean instead of median can be used. The mean will be casted to an integer to keep all data types in the dob_years column consistent."
   ]
  },
  {
   "cell_type": "code",
   "execution_count": 28,
   "metadata": {},
   "outputs": [],
   "source": [
    "# Address the issues in the `dob_years` column\n",
    "new_value = int(df[df['dob_years'] != 0]['dob_years'].mean())\n",
    "\n",
    "df['dob_years'] = df['dob_years'].replace(0, new_value)"
   ]
  },
  {
   "cell_type": "code",
   "execution_count": 29,
   "metadata": {},
   "outputs": [
    {
     "data": {
      "text/plain": [
       "array([42, 36, 33, 32, 53, 27, 43, 50, 35, 41, 40, 65, 54, 56, 26, 48, 24,\n",
       "       21, 57, 67, 28, 63, 62, 47, 34, 68, 25, 31, 30, 20, 49, 37, 45, 61,\n",
       "       64, 44, 52, 46, 23, 38, 39, 51, 59, 29, 60, 55, 58, 71, 22, 73, 66,\n",
       "       69, 19, 72, 70, 74, 75])"
      ]
     },
     "execution_count": 29,
     "metadata": {},
     "output_type": "execute_result"
    }
   ],
   "source": [
    "# Check the result - make sure it's fixed\n",
    "df['dob_years'].unique()"
   ]
  },
  {
   "cell_type": "markdown",
   "metadata": {},
   "source": [
    "Now let's check the `family_status` column."
   ]
  },
  {
   "cell_type": "code",
   "execution_count": 30,
   "metadata": {},
   "outputs": [
    {
     "data": {
      "text/plain": [
       "array(['married', 'civil partnership', 'widow / widower', 'divorced',\n",
       "       'unmarried'], dtype=object)"
      ]
     },
     "execution_count": 30,
     "metadata": {},
     "output_type": "execute_result"
    }
   ],
   "source": [
    "# Let's see the values for the column\n",
    "\n",
    "df['family_status'].unique()"
   ]
  },
  {
   "cell_type": "code",
   "execution_count": 31,
   "metadata": {},
   "outputs": [
    {
     "data": {
      "text/plain": [
       "married              12302\n",
       "civil partnership     4160\n",
       "unmarried             2799\n",
       "divorced              1189\n",
       "widow / widower        952\n",
       "Name: family_status, dtype: int64"
      ]
     },
     "execution_count": 31,
     "metadata": {},
     "output_type": "execute_result"
    }
   ],
   "source": [
    "df['family_status'].value_counts()"
   ]
  },
  {
   "cell_type": "markdown",
   "metadata": {},
   "source": [
    "There are no problematic values in family_status."
   ]
  },
  {
   "cell_type": "markdown",
   "metadata": {},
   "source": [
    "Next, checking the `gender` column."
   ]
  },
  {
   "cell_type": "code",
   "execution_count": 32,
   "metadata": {},
   "outputs": [
    {
     "data": {
      "text/plain": [
       "F      14154\n",
       "M       7247\n",
       "XNA        1\n",
       "Name: gender, dtype: int64"
      ]
     },
     "execution_count": 32,
     "metadata": {},
     "output_type": "execute_result"
    }
   ],
   "source": [
    "# Let's see the values in the column\n",
    "df['gender'].value_counts()"
   ]
  },
  {
   "cell_type": "code",
   "execution_count": 33,
   "metadata": {},
   "outputs": [],
   "source": [
    "# Remove the single XNA row\n",
    "df = df[df['gender'] != 'XNA']"
   ]
  },
  {
   "cell_type": "code",
   "execution_count": 34,
   "metadata": {},
   "outputs": [
    {
     "data": {
      "text/plain": [
       "F    14154\n",
       "M     7247\n",
       "Name: gender, dtype: int64"
      ]
     },
     "execution_count": 34,
     "metadata": {},
     "output_type": "execute_result"
    }
   ],
   "source": [
    "# Check the result - make sure it's fixed\n",
    "\n",
    "df['gender'].value_counts()"
   ]
  },
  {
   "cell_type": "code",
   "execution_count": 35,
   "metadata": {},
   "outputs": [
    {
     "data": {
      "text/plain": [
       "0    F\n",
       "1    F\n",
       "2    M\n",
       "3    M\n",
       "4    F\n",
       "Name: gender, dtype: object"
      ]
     },
     "execution_count": 35,
     "metadata": {},
     "output_type": "execute_result"
    }
   ],
   "source": [
    "df['gender'].head()"
   ]
  },
  {
   "cell_type": "markdown",
   "metadata": {},
   "source": [
    "There was one row that had a XNA gender. This row was removed as no analysis could be drawn on that value.\n",
    "\n",
    "Next, checking the `income_type` column."
   ]
  },
  {
   "cell_type": "code",
   "execution_count": 36,
   "metadata": {},
   "outputs": [
    {
     "data": {
      "text/plain": [
       "employee                       11050\n",
       "business                        5053\n",
       "retiree                         3839\n",
       "civil servant                   1453\n",
       "unemployed                         2\n",
       "entrepreneur                       2\n",
       "paternity / maternity leave        1\n",
       "student                            1\n",
       "Name: income_type, dtype: int64"
      ]
     },
     "execution_count": 36,
     "metadata": {},
     "output_type": "execute_result"
    }
   ],
   "source": [
    "# Let's see the values in the column\n",
    "df['income_type'].value_counts()"
   ]
  },
  {
   "cell_type": "code",
   "execution_count": 37,
   "metadata": {},
   "outputs": [],
   "source": [
    "# Address the problematic values, if they exist\n",
    "df = df[df['income_type'].isin(['employee', 'business', 'retiree', 'civil servant'])]"
   ]
  },
  {
   "cell_type": "code",
   "execution_count": 38,
   "metadata": {},
   "outputs": [
    {
     "data": {
      "text/plain": [
       "employee         11050\n",
       "business          5053\n",
       "retiree           3839\n",
       "civil servant     1453\n",
       "Name: income_type, dtype: int64"
      ]
     },
     "execution_count": 38,
     "metadata": {},
     "output_type": "execute_result"
    }
   ],
   "source": [
    "# Check the result - make sure it's fixed\n",
    "\n",
    "df['income_type'].value_counts()"
   ]
  },
  {
   "cell_type": "markdown",
   "metadata": {},
   "source": [
    "In income_type, there were multiple values (entrepreneur, unemployed, student, and paternity / maternity leave) that each only had 1-2 rows. Because there were so few, these rows were dropped as no significant analysis could be done on them."
   ]
  },
  {
   "cell_type": "markdown",
   "metadata": {},
   "source": [
    "Next, checking for duplicates."
   ]
  },
  {
   "cell_type": "code",
   "execution_count": 39,
   "metadata": {},
   "outputs": [
    {
     "data": {
      "text/plain": [
       "71"
      ]
     },
     "execution_count": 39,
     "metadata": {},
     "output_type": "execute_result"
    }
   ],
   "source": [
    "# Checking duplicates\n",
    "\n",
    "df.duplicated().sum()"
   ]
  },
  {
   "cell_type": "code",
   "execution_count": 40,
   "metadata": {},
   "outputs": [],
   "source": [
    "# Address the duplicates\n",
    "df = df.drop_duplicates()"
   ]
  },
  {
   "cell_type": "code",
   "execution_count": 41,
   "metadata": {},
   "outputs": [
    {
     "data": {
      "text/plain": [
       "0"
      ]
     },
     "execution_count": 41,
     "metadata": {},
     "output_type": "execute_result"
    }
   ],
   "source": [
    "# Last check whether we have any duplicates\n",
    "\n",
    "df.duplicated().sum()"
   ]
  },
  {
   "cell_type": "code",
   "execution_count": 42,
   "metadata": {},
   "outputs": [
    {
     "data": {
      "text/plain": [
       "(21324, 12)"
      ]
     },
     "execution_count": 42,
     "metadata": {},
     "output_type": "execute_result"
    }
   ],
   "source": [
    "# Check the size of the dataset that you now have after your first manipulations with it\n",
    "df.shape"
   ]
  },
  {
   "cell_type": "code",
   "execution_count": 43,
   "metadata": {},
   "outputs": [
    {
     "name": "stdout",
     "output_type": "stream",
     "text": [
      "<class 'pandas.core.frame.DataFrame'>\n",
      "Int64Index: 21324 entries, 0 to 21401\n",
      "Data columns (total 12 columns):\n",
      " #   Column            Non-Null Count  Dtype  \n",
      "---  ------            --------------  -----  \n",
      " 0   children          21324 non-null  int64  \n",
      " 1   days_employed     19234 non-null  float64\n",
      " 2   dob_years         21324 non-null  int64  \n",
      " 3   education         21324 non-null  object \n",
      " 4   education_id      21324 non-null  int64  \n",
      " 5   family_status     21324 non-null  object \n",
      " 6   family_status_id  21324 non-null  int64  \n",
      " 7   gender            21324 non-null  object \n",
      " 8   income_type       21324 non-null  object \n",
      " 9   debt              21324 non-null  int64  \n",
      " 10  total_income      19234 non-null  float64\n",
      " 11  purpose           21324 non-null  object \n",
      "dtypes: float64(2), int64(5), object(5)\n",
      "memory usage: 2.1+ MB\n"
     ]
    }
   ],
   "source": [
    "# Checking new info\n",
    "df.info()"
   ]
  },
  {
   "cell_type": "markdown",
   "metadata": {},
   "source": [
    "Originally, we had 21525 rows. The new dataset has 21324 rows, which is about a 1% change.\n",
    "\n",
    "We corrected the values in `children` by removing impossible values and filled ages of 0 in `dob_years` with the median of the dataset. We standardized the values in `education` to have the same casing, and we removed values with 1-2 data points in `gender` and `income_type`. \n",
    "\n",
    "We still have null values in `days_employed` and `total_income`, which will be addressed next."
   ]
  },
  {
   "cell_type": "markdown",
   "metadata": {},
   "source": [
    "# Working with missing values"
   ]
  },
  {
   "cell_type": "markdown",
   "metadata": {},
   "source": [
    "In the dataset, there are ID values for `education` (`education_id`) and `family_status` (`family_status_id`). I will create dictionaries for both of these, as these numeric values may be easier to work with within the analysis."
   ]
  },
  {
   "cell_type": "code",
   "execution_count": 44,
   "metadata": {},
   "outputs": [],
   "source": [
    "# Create the dictionaries\n",
    "education_dict = dict(zip(df['education'], df['education_id']))\n",
    "family_status_dict = dict(zip(df['family_status'], df['family_status_id']))"
   ]
  },
  {
   "cell_type": "markdown",
   "metadata": {},
   "source": [
    "### Restoring missing values in `total_income`"
   ]
  },
  {
   "cell_type": "markdown",
   "metadata": {},
   "source": [
    "`total_income` and `days_employed` have missing values. Because 10% of the data has missing values, I will be filling in these null values instead of dropping them. To do so, I will take a closer look at what factors affect these columns and use a mean or median of the associated factors to fill them.\n",
    "\n",
    "First, I will address `total_income`. I will create a new column called age that assigns a category based on the numeric value in `dob_years`. Age is a factor that affects `total_income`, as clients with more years of experience typically make more money. This will be used to help fill the missing values in `total_income`."
   ]
  },
  {
   "cell_type": "code",
   "execution_count": 45,
   "metadata": {},
   "outputs": [],
   "source": [
    "# Function to assign an age category based on dob_years\n",
    "\n",
    "def get_age_category(dob_years):\n",
    "    if dob_years <= 29:\n",
    "        return \"early adulthood\"\n",
    "    elif dob_years <= 39:\n",
    "        return \"adulthood\"\n",
    "    elif dob_years <= 59:\n",
    "        return \"middle age\"\n",
    "    else:\n",
    "        return \"senior\""
   ]
  },
  {
   "cell_type": "code",
   "execution_count": 46,
   "metadata": {},
   "outputs": [
    {
     "name": "stdout",
     "output_type": "stream",
     "text": [
      "early adulthood - early adulthood\n",
      "adulthood - adulthood\n",
      "adulthood - adulthood\n",
      "middle age - middle age\n",
      "senior - senior\n",
      "senior - senior\n"
     ]
    }
   ],
   "source": [
    "# Testing the function\n",
    "\n",
    "print(get_age_category(29),'- early adulthood')\n",
    "print(get_age_category(35), '- adulthood')\n",
    "print(get_age_category(30), '- adulthood')\n",
    "print(get_age_category(50), '- middle age')\n",
    "print(get_age_category(60), '- senior')\n",
    "print(get_age_category(70), '- senior')"
   ]
  },
  {
   "cell_type": "code",
   "execution_count": 47,
   "metadata": {},
   "outputs": [],
   "source": [
    "# Creating new column based on function\n",
    "\n",
    "df['age'] = df['dob_years'].apply(get_age_category)"
   ]
  },
  {
   "cell_type": "code",
   "execution_count": 48,
   "metadata": {},
   "outputs": [
    {
     "data": {
      "text/plain": [
       "21324"
      ]
     },
     "execution_count": 48,
     "metadata": {},
     "output_type": "execute_result"
    }
   ],
   "source": [
    "# Checking how values in the new column\n",
    "\n",
    "df['age'].count()"
   ]
  },
  {
   "cell_type": "code",
   "execution_count": 49,
   "metadata": {},
   "outputs": [
    {
     "data": {
      "text/plain": [
       "middle age         10047\n",
       "adulthood           5623\n",
       "early adulthood     3163\n",
       "senior              2491\n",
       "Name: age, dtype: int64"
      ]
     },
     "execution_count": 49,
     "metadata": {},
     "output_type": "execute_result"
    }
   ],
   "source": [
    "df['age'].value_counts()"
   ]
  },
  {
   "cell_type": "markdown",
   "metadata": {},
   "source": [
    "Income can be affected by numerous factors. Gender, level of education, and income type will individually be evaluated in order to determine which is affecting total income the most. The mean and median will be tested for both to determine if there are any outstanding large outliers skewing the data."
   ]
  },
  {
   "cell_type": "markdown",
   "metadata": {},
   "source": [
    "I will create a table  of the data that excludes missiing value. This data will be used to calculate the mean/medians that are candidates to fill the missing values."
   ]
  },
  {
   "cell_type": "code",
   "execution_count": 50,
   "metadata": {
    "scrolled": true
   },
   "outputs": [
    {
     "data": {
      "text/html": [
       "<div>\n",
       "<style scoped>\n",
       "    .dataframe tbody tr th:only-of-type {\n",
       "        vertical-align: middle;\n",
       "    }\n",
       "\n",
       "    .dataframe tbody tr th {\n",
       "        vertical-align: top;\n",
       "    }\n",
       "\n",
       "    .dataframe thead th {\n",
       "        text-align: right;\n",
       "    }\n",
       "</style>\n",
       "<table border=\"1\" class=\"dataframe\">\n",
       "  <thead>\n",
       "    <tr style=\"text-align: right;\">\n",
       "      <th></th>\n",
       "      <th>children</th>\n",
       "      <th>days_employed</th>\n",
       "      <th>dob_years</th>\n",
       "      <th>education</th>\n",
       "      <th>education_id</th>\n",
       "      <th>family_status</th>\n",
       "      <th>family_status_id</th>\n",
       "      <th>gender</th>\n",
       "      <th>income_type</th>\n",
       "      <th>debt</th>\n",
       "      <th>total_income</th>\n",
       "      <th>purpose</th>\n",
       "      <th>age</th>\n",
       "    </tr>\n",
       "  </thead>\n",
       "  <tbody>\n",
       "    <tr>\n",
       "      <th>0</th>\n",
       "      <td>1</td>\n",
       "      <td>8437.673028</td>\n",
       "      <td>42</td>\n",
       "      <td>bachelor's degree</td>\n",
       "      <td>0</td>\n",
       "      <td>married</td>\n",
       "      <td>0</td>\n",
       "      <td>F</td>\n",
       "      <td>employee</td>\n",
       "      <td>0</td>\n",
       "      <td>40620.102</td>\n",
       "      <td>purchase of the house</td>\n",
       "      <td>middle age</td>\n",
       "    </tr>\n",
       "    <tr>\n",
       "      <th>1</th>\n",
       "      <td>1</td>\n",
       "      <td>4024.803754</td>\n",
       "      <td>36</td>\n",
       "      <td>secondary education</td>\n",
       "      <td>1</td>\n",
       "      <td>married</td>\n",
       "      <td>0</td>\n",
       "      <td>F</td>\n",
       "      <td>employee</td>\n",
       "      <td>0</td>\n",
       "      <td>17932.802</td>\n",
       "      <td>car purchase</td>\n",
       "      <td>adulthood</td>\n",
       "    </tr>\n",
       "    <tr>\n",
       "      <th>2</th>\n",
       "      <td>0</td>\n",
       "      <td>5623.422610</td>\n",
       "      <td>33</td>\n",
       "      <td>secondary education</td>\n",
       "      <td>1</td>\n",
       "      <td>married</td>\n",
       "      <td>0</td>\n",
       "      <td>M</td>\n",
       "      <td>employee</td>\n",
       "      <td>0</td>\n",
       "      <td>23341.752</td>\n",
       "      <td>purchase of the house</td>\n",
       "      <td>adulthood</td>\n",
       "    </tr>\n",
       "    <tr>\n",
       "      <th>3</th>\n",
       "      <td>3</td>\n",
       "      <td>4124.747207</td>\n",
       "      <td>32</td>\n",
       "      <td>secondary education</td>\n",
       "      <td>1</td>\n",
       "      <td>married</td>\n",
       "      <td>0</td>\n",
       "      <td>M</td>\n",
       "      <td>employee</td>\n",
       "      <td>0</td>\n",
       "      <td>42820.568</td>\n",
       "      <td>supplementary education</td>\n",
       "      <td>adulthood</td>\n",
       "    </tr>\n",
       "    <tr>\n",
       "      <th>4</th>\n",
       "      <td>0</td>\n",
       "      <td>340266.072047</td>\n",
       "      <td>53</td>\n",
       "      <td>secondary education</td>\n",
       "      <td>1</td>\n",
       "      <td>civil partnership</td>\n",
       "      <td>1</td>\n",
       "      <td>F</td>\n",
       "      <td>retiree</td>\n",
       "      <td>0</td>\n",
       "      <td>25378.572</td>\n",
       "      <td>to have a wedding</td>\n",
       "      <td>middle age</td>\n",
       "    </tr>\n",
       "  </tbody>\n",
       "</table>\n",
       "</div>"
      ],
      "text/plain": [
       "   children  days_employed  dob_years            education  education_id  \\\n",
       "0         1    8437.673028         42    bachelor's degree             0   \n",
       "1         1    4024.803754         36  secondary education             1   \n",
       "2         0    5623.422610         33  secondary education             1   \n",
       "3         3    4124.747207         32  secondary education             1   \n",
       "4         0  340266.072047         53  secondary education             1   \n",
       "\n",
       "       family_status  family_status_id gender income_type  debt  total_income  \\\n",
       "0            married                 0      F    employee     0     40620.102   \n",
       "1            married                 0      F    employee     0     17932.802   \n",
       "2            married                 0      M    employee     0     23341.752   \n",
       "3            married                 0      M    employee     0     42820.568   \n",
       "4  civil partnership                 1      F     retiree     0     25378.572   \n",
       "\n",
       "                   purpose         age  \n",
       "0    purchase of the house  middle age  \n",
       "1             car purchase   adulthood  \n",
       "2    purchase of the house   adulthood  \n",
       "3  supplementary education   adulthood  \n",
       "4        to have a wedding  middle age  "
      ]
     },
     "execution_count": 50,
     "metadata": {},
     "output_type": "execute_result"
    }
   ],
   "source": [
    "# Create a table without missing values and print a few of its rows to make sure it looks fine\n",
    "\n",
    "df_no_missing = df[df['income_type'].notnull() & df['total_income'].notnull()]\n",
    "df_no_missing.head()"
   ]
  },
  {
   "cell_type": "code",
   "execution_count": 51,
   "metadata": {
    "scrolled": true
   },
   "outputs": [
    {
     "data": {
      "text/plain": [
       "age\n",
       "adulthood          28322.098234\n",
       "early adulthood    25528.718685\n",
       "middle age         27269.997139\n",
       "senior             23015.440182\n",
       "Name: total_income, dtype: float64"
      ]
     },
     "execution_count": 51,
     "metadata": {},
     "output_type": "execute_result"
    }
   ],
   "source": [
    "# Look at the mean values for income based on age\n",
    "\n",
    "df_no_missing.groupby('age').mean()['total_income']"
   ]
  },
  {
   "cell_type": "code",
   "execution_count": 52,
   "metadata": {},
   "outputs": [
    {
     "data": {
      "text/plain": [
       "age\n",
       "adulthood          24709.4735\n",
       "early adulthood    22765.2935\n",
       "middle age         23434.8270\n",
       "senior             19732.9470\n",
       "Name: total_income, dtype: float64"
      ]
     },
     "execution_count": 52,
     "metadata": {},
     "output_type": "execute_result"
    }
   ],
   "source": [
    "# Look at the median values for income based on age\n",
    "\n",
    "df_no_missing.groupby('age').median()['total_income']"
   ]
  },
  {
   "cell_type": "markdown",
   "metadata": {},
   "source": [
    "It's easier to look at total_income across age now that we've put age groups into categories. The means are higher than the median, meaning that this data is right skewed and has higher outliers, so I will look at the medians instead.\n",
    "\n",
    "There is a difference in income across age categories, notably with seniors making less money than those in adulthood. The adulthood category is younger than those in middle age, but adulthood clients makes more than middle age clients."
   ]
  },
  {
   "cell_type": "code",
   "execution_count": 53,
   "metadata": {},
   "outputs": [
    {
     "data": {
      "text/plain": [
       "gender\n",
       "F    24653.230890\n",
       "M    30920.802064\n",
       "Name: total_income, dtype: float64"
      ]
     },
     "execution_count": 53,
     "metadata": {},
     "output_type": "execute_result"
    }
   ],
   "source": [
    "# Look at the mean values for income based on gender\n",
    "\n",
    "df_no_missing.groupby('gender').mean()['total_income']"
   ]
  },
  {
   "cell_type": "code",
   "execution_count": 54,
   "metadata": {},
   "outputs": [
    {
     "data": {
      "text/plain": [
       "gender\n",
       "F    21462.118\n",
       "M    26845.080\n",
       "Name: total_income, dtype: float64"
      ]
     },
     "execution_count": 54,
     "metadata": {},
     "output_type": "execute_result"
    }
   ],
   "source": [
    "# Look at the median values for income based on gender\n",
    "\n",
    "df_no_missing.groupby('gender').median()['total_income']"
   ]
  },
  {
   "cell_type": "markdown",
   "metadata": {},
   "source": [
    "Similar to `age`, I will be looking at medians due to the right skew present in this data. Males make quite a big more than females."
   ]
  },
  {
   "cell_type": "code",
   "execution_count": 55,
   "metadata": {},
   "outputs": [
    {
     "data": {
      "text/plain": [
       "income_type\n",
       "business         32413.685392\n",
       "civil servant    27318.902910\n",
       "employee         25818.401986\n",
       "retiree          21951.754892\n",
       "Name: total_income, dtype: float64"
      ]
     },
     "execution_count": 55,
     "metadata": {},
     "output_type": "execute_result"
    }
   ],
   "source": [
    "# Look at mean values for income based on income type\n",
    "\n",
    "df_no_missing.groupby('income_type').mean()['total_income']"
   ]
  },
  {
   "cell_type": "code",
   "execution_count": 56,
   "metadata": {},
   "outputs": [
    {
     "data": {
      "text/plain": [
       "income_type\n",
       "business         27602.506\n",
       "civil servant    24067.224\n",
       "employee         22814.014\n",
       "retiree          18956.934\n",
       "Name: total_income, dtype: float64"
      ]
     },
     "execution_count": 56,
     "metadata": {},
     "output_type": "execute_result"
    }
   ],
   "source": [
    "# Look at median values for income based on income type\n",
    "\n",
    "df_no_missing.groupby('income_type').median()['total_income']"
   ]
  },
  {
   "cell_type": "markdown",
   "metadata": {},
   "source": [
    "The type of work also affects income drastically, as those working for a business make a significantly higher amount of money than those who are retired. "
   ]
  },
  {
   "cell_type": "code",
   "execution_count": 57,
   "metadata": {},
   "outputs": [
    {
     "data": {
      "text/plain": [
       "education\n",
       "bachelor's degree      33161.262038\n",
       "graduate degree        27960.024667\n",
       "primary education      21144.882211\n",
       "secondary education    24590.262821\n",
       "some college           29033.960563\n",
       "Name: total_income, dtype: float64"
      ]
     },
     "execution_count": 57,
     "metadata": {},
     "output_type": "execute_result"
    }
   ],
   "source": [
    "# Look at mean values for education based on income type\n",
    "\n",
    "df_no_missing.groupby('education').mean()['total_income']"
   ]
  },
  {
   "cell_type": "code",
   "execution_count": 58,
   "metadata": {
    "scrolled": false
   },
   "outputs": [
    {
     "data": {
      "text/plain": [
       "education\n",
       "bachelor's degree      28086.3810\n",
       "graduate degree        25161.5835\n",
       "primary education      18741.9760\n",
       "secondary education    21830.2500\n",
       "some college           25618.4640\n",
       "Name: total_income, dtype: float64"
      ]
     },
     "execution_count": 58,
     "metadata": {},
     "output_type": "execute_result"
    }
   ],
   "source": [
    "# Look at median values for education based on income type\n",
    "\n",
    "df_no_missing.groupby('education').median()['total_income']"
   ]
  },
  {
   "cell_type": "code",
   "execution_count": 59,
   "metadata": {},
   "outputs": [
    {
     "data": {
      "text/plain": [
       "28086.381"
      ]
     },
     "execution_count": 59,
     "metadata": {},
     "output_type": "execute_result"
    }
   ],
   "source": [
    "df_no_missing.groupby('education').median()['total_income']\n",
    "df_no_missing[df_no_missing['education'] == 'bachelor\\'s degree']['total_income'].median()"
   ]
  },
  {
   "cell_type": "markdown",
   "metadata": {},
   "source": [
    "Having additional education contributes to total_income - notably, having some college experience or a bachelor's degree increases total_income."
   ]
  },
  {
   "cell_type": "markdown",
   "metadata": {},
   "source": [
    "`gender`, `income_type`, and `education` all define income the most. I will use the median of these three factors to fill the missing values to counter the high income outliers in the dataset."
   ]
  },
  {
   "cell_type": "code",
   "execution_count": 60,
   "metadata": {
    "scrolled": true
   },
   "outputs": [
    {
     "data": {
      "text/html": [
       "<div>\n",
       "<style scoped>\n",
       "    .dataframe tbody tr th:only-of-type {\n",
       "        vertical-align: middle;\n",
       "    }\n",
       "\n",
       "    .dataframe tbody tr th {\n",
       "        vertical-align: top;\n",
       "    }\n",
       "\n",
       "    .dataframe thead th {\n",
       "        text-align: right;\n",
       "    }\n",
       "</style>\n",
       "<table border=\"1\" class=\"dataframe\">\n",
       "  <thead>\n",
       "    <tr style=\"text-align: right;\">\n",
       "      <th></th>\n",
       "      <th>education</th>\n",
       "      <th>income_type</th>\n",
       "      <th>gender</th>\n",
       "      <th>total_income</th>\n",
       "    </tr>\n",
       "  </thead>\n",
       "  <tbody>\n",
       "    <tr>\n",
       "      <th>0</th>\n",
       "      <td>bachelor's degree</td>\n",
       "      <td>business</td>\n",
       "      <td>F</td>\n",
       "      <td>30420.70</td>\n",
       "    </tr>\n",
       "    <tr>\n",
       "      <th>1</th>\n",
       "      <td>bachelor's degree</td>\n",
       "      <td>business</td>\n",
       "      <td>M</td>\n",
       "      <td>37399.84</td>\n",
       "    </tr>\n",
       "    <tr>\n",
       "      <th>2</th>\n",
       "      <td>bachelor's degree</td>\n",
       "      <td>civil servant</td>\n",
       "      <td>F</td>\n",
       "      <td>25254.63</td>\n",
       "    </tr>\n",
       "    <tr>\n",
       "      <th>3</th>\n",
       "      <td>bachelor's degree</td>\n",
       "      <td>civil servant</td>\n",
       "      <td>M</td>\n",
       "      <td>34219.85</td>\n",
       "    </tr>\n",
       "    <tr>\n",
       "      <th>4</th>\n",
       "      <td>bachelor's degree</td>\n",
       "      <td>employee</td>\n",
       "      <td>F</td>\n",
       "      <td>24602.81</td>\n",
       "    </tr>\n",
       "  </tbody>\n",
       "</table>\n",
       "</div>"
      ],
      "text/plain": [
       "           education    income_type gender  total_income\n",
       "0  bachelor's degree       business      F      30420.70\n",
       "1  bachelor's degree       business      M      37399.84\n",
       "2  bachelor's degree  civil servant      F      25254.63\n",
       "3  bachelor's degree  civil servant      M      34219.85\n",
       "4  bachelor's degree       employee      F      24602.81"
      ]
     },
     "execution_count": 60,
     "metadata": {},
     "output_type": "execute_result"
    }
   ],
   "source": [
    "total_income_table = df_no_missing.pivot_table(index=['education', 'income_type', 'gender'], values='total_income', aggfunc='median').reset_index()\n",
    "total_income_table['total_income'] = total_income_table['total_income'].round(2)\n",
    "total_income_table.head()"
   ]
  },
  {
   "cell_type": "code",
   "execution_count": 61,
   "metadata": {},
   "outputs": [],
   "source": [
    "#  Function that replaces empty values based on education, income_type, and gender\n",
    "\n",
    "def replace_missing(education, income_type, gender):\n",
    "    row = total_income_table.loc[(total_income_table['education'] == education) & (total_income_table['income_type'] == income_type) & (total_income_table['gender'] == gender)]\n",
    "    total_income = row.iloc[0][-1]\n",
    "    return total_income"
   ]
  },
  {
   "cell_type": "code",
   "execution_count": 62,
   "metadata": {},
   "outputs": [
    {
     "name": "stdout",
     "output_type": "stream",
     "text": [
      "37399.84 - 37399.84\n",
      "25193.17 - 25193.17\n",
      "30554.67 - 30554.67\n",
      "30606.71 - 30606.71\n",
      "20103.57 - 20103.57\n"
     ]
    }
   ],
   "source": [
    "# Check if it works\n",
    "\n",
    "print(replace_missing(\"bachelor's degree\", \"business\", \"M\"), \"- 37399.84\")\n",
    "print(replace_missing(\"bachelor's degree\", \"retiree\", \"M\"), \"- 25193.17\")\n",
    "print(replace_missing(\"primary education\", \"civil servant\", \"M\"), \"- 30554.67\")\n",
    "print(replace_missing(\"some college\", \"business\", \"M\"), \"- 30606.71\")\n",
    "print(replace_missing(\"secondary education\", \"civil servant\", \"F\"), \"- 20103.57\")"
   ]
  },
  {
   "cell_type": "code",
   "execution_count": 63,
   "metadata": {},
   "outputs": [],
   "source": [
    "# Apply it to every row\n",
    "df['total_income'] = df['total_income'].fillna(df.apply(lambda x: replace_missing(x.education, x.income_type, x.gender), axis=1))"
   ]
  },
  {
   "cell_type": "code",
   "execution_count": 64,
   "metadata": {
    "scrolled": true
   },
   "outputs": [
    {
     "name": "stdout",
     "output_type": "stream",
     "text": [
      "<class 'pandas.core.frame.DataFrame'>\n",
      "Int64Index: 21324 entries, 0 to 21401\n",
      "Data columns (total 13 columns):\n",
      " #   Column            Non-Null Count  Dtype  \n",
      "---  ------            --------------  -----  \n",
      " 0   children          21324 non-null  int64  \n",
      " 1   days_employed     19234 non-null  float64\n",
      " 2   dob_years         21324 non-null  int64  \n",
      " 3   education         21324 non-null  object \n",
      " 4   education_id      21324 non-null  int64  \n",
      " 5   family_status     21324 non-null  object \n",
      " 6   family_status_id  21324 non-null  int64  \n",
      " 7   gender            21324 non-null  object \n",
      " 8   income_type       21324 non-null  object \n",
      " 9   debt              21324 non-null  int64  \n",
      " 10  total_income      21324 non-null  float64\n",
      " 11  purpose           21324 non-null  object \n",
      " 12  age               21324 non-null  object \n",
      "dtypes: float64(2), int64(5), object(6)\n",
      "memory usage: 2.3+ MB\n"
     ]
    }
   ],
   "source": [
    "# Checking columns\n",
    "df.info()"
   ]
  },
  {
   "cell_type": "markdown",
   "metadata": {},
   "source": [
    "`total_income` now has 21324 values, so it has been filled."
   ]
  },
  {
   "cell_type": "markdown",
   "metadata": {},
   "source": [
    "###  Restoring values in `days_employed`"
   ]
  },
  {
   "cell_type": "markdown",
   "metadata": {},
   "source": [
    "Similarly to total_income, exploratory analysis will be done on education, family status, and income type to determine which affects total_income the most."
   ]
  },
  {
   "cell_type": "code",
   "execution_count": 65,
   "metadata": {},
   "outputs": [
    {
     "data": {
      "text/plain": [
       "education\n",
       "bachelor's degree       42416.968576\n",
       "graduate degree        121323.630206\n",
       "primary education      130340.426349\n",
       "secondary education     76536.965459\n",
       "some college            20761.898167\n",
       "Name: days_employed, dtype: float64"
      ]
     },
     "execution_count": 65,
     "metadata": {},
     "output_type": "execute_result"
    }
   ],
   "source": [
    "# Checking education mean\n",
    "df_no_missing.groupby('education').mean()['days_employed']"
   ]
  },
  {
   "cell_type": "code",
   "execution_count": 66,
   "metadata": {},
   "outputs": [
    {
     "data": {
      "text/plain": [
       "education\n",
       "bachelor's degree      1896.866606\n",
       "graduate degree        5660.057032\n",
       "primary education      3043.933615\n",
       "secondary education    2392.887051\n",
       "some college           1209.128083\n",
       "Name: days_employed, dtype: float64"
      ]
     },
     "execution_count": 66,
     "metadata": {},
     "output_type": "execute_result"
    }
   ],
   "source": [
    "# Checking education median\n",
    "df_no_missing.groupby('education').median()['days_employed']"
   ]
  },
  {
   "cell_type": "markdown",
   "metadata": {},
   "source": [
    "There are some very extreme outliers when looking at `days_employed`, so I will only look at medians going forward."
   ]
  },
  {
   "cell_type": "code",
   "execution_count": 67,
   "metadata": {},
   "outputs": [
    {
     "data": {
      "text/plain": [
       "family_status\n",
       "civil partnership      1942.742034\n",
       "divorced               2400.189289\n",
       "married                2306.974767\n",
       "unmarried              1467.091428\n",
       "widow / widower      336995.172530\n",
       "Name: days_employed, dtype: float64"
      ]
     },
     "execution_count": 67,
     "metadata": {},
     "output_type": "execute_result"
    }
   ],
   "source": [
    "# Checking family_status\n",
    "df_no_missing.groupby('family_status').median()['days_employed']"
   ]
  },
  {
   "cell_type": "code",
   "execution_count": 68,
   "metadata": {},
   "outputs": [
    {
     "data": {
      "text/plain": [
       "income_type\n",
       "business           1555.901115\n",
       "civil servant      2689.137274\n",
       "employee           1572.328285\n",
       "retiree          365286.622650\n",
       "Name: days_employed, dtype: float64"
      ]
     },
     "execution_count": 68,
     "metadata": {},
     "output_type": "execute_result"
    }
   ],
   "source": [
    "# Checking income type\n",
    "df_no_missing.groupby('income_type').median()['days_employed']"
   ]
  },
  {
   "cell_type": "code",
   "execution_count": 69,
   "metadata": {},
   "outputs": [
    {
     "data": {
      "text/plain": [
       "age\n",
       "adulthood            1601.812856\n",
       "early adulthood       999.250498\n",
       "middle age           2844.547086\n",
       "senior             355229.618218\n",
       "Name: days_employed, dtype: float64"
      ]
     },
     "execution_count": 69,
     "metadata": {},
     "output_type": "execute_result"
    }
   ],
   "source": [
    "# Checking age \n",
    "df_no_missing.groupby('age').median()['days_employed']"
   ]
  },
  {
   "cell_type": "code",
   "execution_count": 70,
   "metadata": {},
   "outputs": [
    {
     "data": {
      "text/plain": [
       "education\n",
       "bachelor's degree      1896.866606\n",
       "graduate degree        5660.057032\n",
       "primary education      3043.933615\n",
       "secondary education    2392.887051\n",
       "some college           1209.128083\n",
       "Name: days_employed, dtype: float64"
      ]
     },
     "execution_count": 70,
     "metadata": {},
     "output_type": "execute_result"
    }
   ],
   "source": [
    "# Checking education \n",
    "df_no_missing.groupby('education').median()['days_employed']"
   ]
  },
  {
   "cell_type": "markdown",
   "metadata": {},
   "source": [
    "From this analysis, I will be using the medians of `age`, `income_type`, and `education` to fill in missing data in  `days_employed`. A pattern in the data is that older categories (ie senior in `age`, retiree in `income_type`, widow / widower in `family_status` have accumulated more days of employment than their younger counterpart. `age` very clearly shows this, with younger ages having accumulated less days of employment. `income_type` shows variability, specifically between business/employee when compared with civil servant and retiree. \n",
    "\n",
    "The `days_employed` column seems to have many high outliers, so again the median will be used here."
   ]
  },
  {
   "cell_type": "code",
   "execution_count": 71,
   "metadata": {},
   "outputs": [
    {
     "data": {
      "text/html": [
       "<div>\n",
       "<style scoped>\n",
       "    .dataframe tbody tr th:only-of-type {\n",
       "        vertical-align: middle;\n",
       "    }\n",
       "\n",
       "    .dataframe tbody tr th {\n",
       "        vertical-align: top;\n",
       "    }\n",
       "\n",
       "    .dataframe thead th {\n",
       "        text-align: right;\n",
       "    }\n",
       "</style>\n",
       "<table border=\"1\" class=\"dataframe\">\n",
       "  <thead>\n",
       "    <tr style=\"text-align: right;\">\n",
       "      <th></th>\n",
       "      <th>income_type</th>\n",
       "      <th>age</th>\n",
       "      <th>days_employed</th>\n",
       "    </tr>\n",
       "  </thead>\n",
       "  <tbody>\n",
       "    <tr>\n",
       "      <th>0</th>\n",
       "      <td>business</td>\n",
       "      <td>adulthood</td>\n",
       "      <td>1536.208255</td>\n",
       "    </tr>\n",
       "    <tr>\n",
       "      <th>1</th>\n",
       "      <td>business</td>\n",
       "      <td>early adulthood</td>\n",
       "      <td>909.631949</td>\n",
       "    </tr>\n",
       "    <tr>\n",
       "      <th>2</th>\n",
       "      <td>business</td>\n",
       "      <td>middle age</td>\n",
       "      <td>1930.492791</td>\n",
       "    </tr>\n",
       "    <tr>\n",
       "      <th>3</th>\n",
       "      <td>business</td>\n",
       "      <td>senior</td>\n",
       "      <td>2470.912766</td>\n",
       "    </tr>\n",
       "    <tr>\n",
       "      <th>4</th>\n",
       "      <td>civil servant</td>\n",
       "      <td>adulthood</td>\n",
       "      <td>2590.601064</td>\n",
       "    </tr>\n",
       "  </tbody>\n",
       "</table>\n",
       "</div>"
      ],
      "text/plain": [
       "     income_type              age  days_employed\n",
       "0       business        adulthood    1536.208255\n",
       "1       business  early adulthood     909.631949\n",
       "2       business       middle age    1930.492791\n",
       "3       business           senior    2470.912766\n",
       "4  civil servant        adulthood    2590.601064"
      ]
     },
     "execution_count": 71,
     "metadata": {},
     "output_type": "execute_result"
    }
   ],
   "source": [
    "days_employed_table = df_no_missing.pivot_table(index=['income_type', 'age'], values='days_employed', aggfunc='median').reset_index()\n",
    "days_employed_table.head()"
   ]
  },
  {
   "cell_type": "code",
   "execution_count": 72,
   "metadata": {},
   "outputs": [],
   "source": [
    "# Function to return a median days_employed depending on education, income_type, and age\n",
    "def replace_days_employed(income_type, age):\n",
    "    row = days_employed_table[(days_employed_table['income_type'] == income_type) & (days_employed_table['age']  == age)]\n",
    "    days_employed = row.iloc[0][-1]\n",
    "    return days_employed"
   ]
  },
  {
   "cell_type": "code",
   "execution_count": 73,
   "metadata": {},
   "outputs": [
    {
     "name": "stdout",
     "output_type": "stream",
     "text": [
      "1536.2082551132255 1536.208255\n",
      "909.631949142638 909.631949\n",
      "365658.02869952674 365658.0287\n",
      "1988.27098829558 1988.270988\n"
     ]
    }
   ],
   "source": [
    "# Check that the function works\n",
    "\n",
    "print(replace_days_employed(\"business\", \"adulthood\"), 1536.208255)\n",
    "print(replace_days_employed(\"business\", \"early adulthood\"), 909.631949)\n",
    "print(replace_days_employed(\"retiree\", \"senior\"), 365658.028700)\n",
    "print(replace_days_employed(\"employee\", \"middle age\"), 1988.270988)"
   ]
  },
  {
   "cell_type": "code",
   "execution_count": 74,
   "metadata": {},
   "outputs": [],
   "source": [
    "# Apply function to the income_type\n",
    "\n",
    "df['days_employed'] = df['days_employed'].fillna(df.apply(lambda x: replace_days_employed(x.income_type, x.age), axis=1))"
   ]
  },
  {
   "cell_type": "code",
   "execution_count": 75,
   "metadata": {},
   "outputs": [
    {
     "data": {
      "text/plain": [
       "False"
      ]
     },
     "execution_count": 75,
     "metadata": {},
     "output_type": "execute_result"
    }
   ],
   "source": [
    "# Checking if there are any null values\n",
    "\n",
    "df['days_employed'].isnull().any()"
   ]
  },
  {
   "cell_type": "code",
   "execution_count": 76,
   "metadata": {},
   "outputs": [
    {
     "name": "stdout",
     "output_type": "stream",
     "text": [
      "<class 'pandas.core.frame.DataFrame'>\n",
      "Int64Index: 21324 entries, 0 to 21401\n",
      "Data columns (total 13 columns):\n",
      " #   Column            Non-Null Count  Dtype  \n",
      "---  ------            --------------  -----  \n",
      " 0   children          21324 non-null  int64  \n",
      " 1   days_employed     21324 non-null  float64\n",
      " 2   dob_years         21324 non-null  int64  \n",
      " 3   education         21324 non-null  object \n",
      " 4   education_id      21324 non-null  int64  \n",
      " 5   family_status     21324 non-null  object \n",
      " 6   family_status_id  21324 non-null  int64  \n",
      " 7   gender            21324 non-null  object \n",
      " 8   income_type       21324 non-null  object \n",
      " 9   debt              21324 non-null  int64  \n",
      " 10  total_income      21324 non-null  float64\n",
      " 11  purpose           21324 non-null  object \n",
      " 12  age               21324 non-null  object \n",
      "dtypes: float64(2), int64(5), object(6)\n",
      "memory usage: 2.3+ MB\n"
     ]
    }
   ],
   "source": [
    "# Check the entries in all columns - make sure we fixed all missing values\n",
    "df.info()"
   ]
  },
  {
   "cell_type": "markdown",
   "metadata": {},
   "source": [
    "All of our rows have the same amount of non-null values now."
   ]
  },
  {
   "cell_type": "markdown",
   "metadata": {},
   "source": [
    "## Categorization of data\n",
    "\n",
    "The questions that need to be answered all involve loan repayment (the `debt` column, which indicates if the customer has ever defaulted on a loan). We want to individually compare this `debt` column with number of kids, (`children`), marital status (`family_status`), income level (`total_income`) and loan purpose (`purpose`).\n",
    "\n",
    "The values in `family_status` and `debt` are straight forward so we will not categorize them, but we will categorize the other columns."
   ]
  },
  {
   "cell_type": "code",
   "execution_count": 77,
   "metadata": {},
   "outputs": [
    {
     "data": {
      "text/plain": [
       "0    14086\n",
       "1     4807\n",
       "2     2051\n",
       "3      330\n",
       "4       41\n",
       "5        9\n",
       "Name: children, dtype: int64"
      ]
     },
     "execution_count": 77,
     "metadata": {},
     "output_type": "execute_result"
    }
   ],
   "source": [
    "# Looking at children column\n",
    "df['children'].value_counts()"
   ]
  },
  {
   "cell_type": "markdown",
   "metadata": {},
   "source": [
    "One question asks if having children affects loan repayment, so I will create a new category, `has_children` that is 0 if the client does not have children and 1 if the client has any children (1-5)."
   ]
  },
  {
   "cell_type": "code",
   "execution_count": 78,
   "metadata": {},
   "outputs": [],
   "source": [
    "# Function to return if a client has children\n",
    "def get_has_children(children):\n",
    "    return 0 if children == 0 else 1"
   ]
  },
  {
   "cell_type": "code",
   "execution_count": 79,
   "metadata": {},
   "outputs": [],
   "source": [
    "# Applying function to df\n",
    "df['has_children'] = df['children'].apply(get_has_children)"
   ]
  },
  {
   "cell_type": "markdown",
   "metadata": {},
   "source": [
    "Next, we will look at `total_income` and create categories like we did previously for age. There are extreme outliers for this column, so I will create categories based on the quartiles."
   ]
  },
  {
   "cell_type": "code",
   "execution_count": 80,
   "metadata": {},
   "outputs": [
    {
     "data": {
      "text/plain": [
       "count     21324.000000\n",
       "mean      26476.671774\n",
       "std       15762.926175\n",
       "min        3306.762000\n",
       "25%       17191.310750\n",
       "50%       23176.550000\n",
       "75%       31501.426750\n",
       "max      362496.645000\n",
       "Name: total_income, dtype: float64"
      ]
     },
     "execution_count": 80,
     "metadata": {},
     "output_type": "execute_result"
    }
   ],
   "source": [
    "# Looking at values\n",
    "df['total_income'].describe()"
   ]
  },
  {
   "cell_type": "code",
   "execution_count": 81,
   "metadata": {},
   "outputs": [],
   "source": [
    "# dictionary so quantiles don't have to keep being calculated\n",
    "income_quantiles = {\n",
    "    'high': df['total_income'].quantile(0.75),\n",
    "    'medium-high': df['total_income'].quantile(0.5),\n",
    "    'medium': df['total_income'].quantile(0.25)\n",
    "}\n",
    "\n",
    "# Function to categorize total_income\n",
    "def get_income_level(total_income):\n",
    "    if total_income > income_quantiles.get('high'):\n",
    "        return \"High\"\n",
    "    elif total_income > income_quantiles.get('medium-high'):\n",
    "        return \"Medium-High\"\n",
    "    elif total_income > income_quantiles.get('medium'):\n",
    "        return \"Medium\"\n",
    "    else:\n",
    "        return \"Low\""
   ]
  },
  {
   "cell_type": "code",
   "execution_count": 82,
   "metadata": {},
   "outputs": [],
   "source": [
    "# Apply function to data\n",
    "df['income_level'] = df['total_income'].apply(get_income_level)"
   ]
  },
  {
   "cell_type": "markdown",
   "metadata": {},
   "source": [
    "Finally, I will create categories for purposes."
   ]
  },
  {
   "cell_type": "code",
   "execution_count": 83,
   "metadata": {
    "scrolled": true
   },
   "outputs": [
    {
     "data": {
      "text/plain": [
       "array(['purchase of the house', 'car purchase', 'supplementary education',\n",
       "       'to have a wedding', 'housing transactions', 'education',\n",
       "       'having a wedding', 'purchase of the house for my family',\n",
       "       'buy real estate', 'buy commercial real estate',\n",
       "       'buy residential real estate', 'construction of own property',\n",
       "       'property', 'building a property', 'buying a second-hand car',\n",
       "       'buying my own car', 'transactions with commercial real estate',\n",
       "       'building a real estate', 'housing',\n",
       "       'transactions with my real estate', 'cars', 'to become educated',\n",
       "       'second-hand car purchase', 'getting an education', 'car',\n",
       "       'wedding ceremony', 'to get a supplementary education',\n",
       "       'purchase of my own house', 'real estate transactions',\n",
       "       'getting higher education', 'to own a car', 'purchase of a car',\n",
       "       'profile education', 'university education',\n",
       "       'buying property for renting out', 'to buy a car',\n",
       "       'housing renovation', 'going to university'], dtype=object)"
      ]
     },
     "execution_count": 83,
     "metadata": {},
     "output_type": "execute_result"
    }
   ],
   "source": [
    "# Viewing values in purpose\n",
    "df['purpose'].unique()"
   ]
  },
  {
   "cell_type": "markdown",
   "metadata": {},
   "source": [
    "Looking at the unique values, I can identify five main categories: Housing, Real Estate/Property, Education, Cars, and Weddings."
   ]
  },
  {
   "cell_type": "code",
   "execution_count": 84,
   "metadata": {},
   "outputs": [],
   "source": [
    "# Creating function to assign purposes a category\n",
    "def get_purpose_category(purpose):\n",
    "    if 'hous' in purpose:\n",
    "        return \"House\"\n",
    "    elif 'real estate' in purpose or 'property' in purpose:\n",
    "        return \"Property\"\n",
    "    elif 'edu' in purpose or 'university' in purpose:\n",
    "        return \"Education\"\n",
    "    elif 'car' in purpose:\n",
    "        return \"Car\"\n",
    "    elif 'wedding' in purpose:\n",
    "        return \"Wedding\"\n",
    "    else:\n",
    "        return \"Other\""
   ]
  },
  {
   "cell_type": "code",
   "execution_count": 85,
   "metadata": {},
   "outputs": [],
   "source": [
    "# Applying function\n",
    "df['purpose_category'] = df['purpose'].apply(get_purpose_category)"
   ]
  },
  {
   "cell_type": "code",
   "execution_count": 86,
   "metadata": {},
   "outputs": [
    {
     "data": {
      "text/plain": [
       "array(['House', 'Car', 'Education', 'Wedding', 'Property'], dtype=object)"
      ]
     },
     "execution_count": 86,
     "metadata": {},
     "output_type": "execute_result"
    }
   ],
   "source": [
    "# Checking values - All rows should fall into one of the categories and not \"Other\", so making sure there are no \"Other\" values\n",
    "df['purpose_category'].unique()"
   ]
  },
  {
   "cell_type": "code",
   "execution_count": 87,
   "metadata": {},
   "outputs": [
    {
     "data": {
      "text/plain": [
       "Property     6959\n",
       "Car          4278\n",
       "Education    3988\n",
       "House        3787\n",
       "Wedding      2312\n",
       "Name: purpose_category, dtype: int64"
      ]
     },
     "execution_count": 87,
     "metadata": {},
     "output_type": "execute_result"
    }
   ],
   "source": [
    "# Seeing how many purposes there are\n",
    "df['purpose_category'].value_counts()"
   ]
  },
  {
   "cell_type": "markdown",
   "metadata": {},
   "source": [
    "Now that the data has been categorized, we can check our hypotheses."
   ]
  },
  {
   "cell_type": "markdown",
   "metadata": {},
   "source": [
    "## Checking the Hypotheses\n"
   ]
  },
  {
   "cell_type": "markdown",
   "metadata": {},
   "source": [
    "**Is there a correlation between having children and paying back on time?**"
   ]
  },
  {
   "cell_type": "code",
   "execution_count": 88,
   "metadata": {},
   "outputs": [
    {
     "data": {
      "text/plain": [
       "{0: 1063, 1: 667}"
      ]
     },
     "execution_count": 88,
     "metadata": {},
     "output_type": "execute_result"
    }
   ],
   "source": [
    "# Creating a dictionary that tracks number of clients that have defaulted depending on if they had children\n",
    "\n",
    "has_children_table = df.pivot_table(index='has_children', values='debt', aggfunc='sum')\n",
    "has_children_dict = has_children_table['debt'].to_dict()\n",
    "has_children_dict"
   ]
  },
  {
   "cell_type": "code",
   "execution_count": 90,
   "metadata": {},
   "outputs": [
    {
     "data": {
      "text/html": [
       "<div>\n",
       "<style scoped>\n",
       "    .dataframe tbody tr th:only-of-type {\n",
       "        vertical-align: middle;\n",
       "    }\n",
       "\n",
       "    .dataframe tbody tr th {\n",
       "        vertical-align: top;\n",
       "    }\n",
       "\n",
       "    .dataframe thead th {\n",
       "        text-align: right;\n",
       "    }\n",
       "</style>\n",
       "<table border=\"1\" class=\"dataframe\">\n",
       "  <thead>\n",
       "    <tr style=\"text-align: right;\">\n",
       "      <th>debt</th>\n",
       "      <th>0</th>\n",
       "      <th>1</th>\n",
       "      <th>fraction</th>\n",
       "    </tr>\n",
       "    <tr>\n",
       "      <th>has_children</th>\n",
       "      <th></th>\n",
       "      <th></th>\n",
       "      <th></th>\n",
       "    </tr>\n",
       "  </thead>\n",
       "  <tbody>\n",
       "    <tr>\n",
       "      <th>0</th>\n",
       "      <td>13023</td>\n",
       "      <td>1063</td>\n",
       "      <td>7.546500</td>\n",
       "    </tr>\n",
       "    <tr>\n",
       "      <th>1</th>\n",
       "      <td>6571</td>\n",
       "      <td>667</td>\n",
       "      <td>9.215253</td>\n",
       "    </tr>\n",
       "  </tbody>\n",
       "</table>\n",
       "</div>"
      ],
      "text/plain": [
       "debt              0     1  fraction\n",
       "has_children                       \n",
       "0             13023  1063  7.546500\n",
       "1              6571   667  9.215253"
      ]
     },
     "execution_count": 90,
     "metadata": {},
     "output_type": "execute_result"
    }
   ],
   "source": [
    "# Creating pivot table\n",
    "pivot_table_children = df.reset_index().pivot_table(\n",
    "    index='has_children',\n",
    "    columns= 'debt',\n",
    "    values='index',  # just to count unique users, we can use any other column. It's just as I like to do it.\n",
    "    aggfunc='count'\n",
    ")\n",
    "\n",
    "# Calculating the percentage of clients that did not return the loan depending on the number of children they have\n",
    "pivot_table_children['fraction'] = pivot_table_children[1] / (pivot_table_children[1] + pivot_table_children[0]) * 100\n",
    "\n",
    "pivot_table_children.sort_values(by='fraction', ascending=True)\n",
    "\n"
   ]
  },
  {
   "cell_type": "markdown",
   "metadata": {},
   "source": [
    "**Conclusion**\n",
    "\n",
    "Clients with any amount of children default approximately 2% more than clients who do not have children. Therefore, having children puts a client at a greater risk of defaulting. "
   ]
  },
  {
   "cell_type": "markdown",
   "metadata": {},
   "source": [
    "**Is there a correlation between family status and paying back on time?**"
   ]
  },
  {
   "cell_type": "code",
   "execution_count": 91,
   "metadata": {},
   "outputs": [
    {
     "data": {
      "text/plain": [
       "{'civil partnership': 385,\n",
       " 'divorced': 84,\n",
       " 'married': 925,\n",
       " 'unmarried': 273,\n",
       " 'widow / widower': 63}"
      ]
     },
     "execution_count": 91,
     "metadata": {},
     "output_type": "execute_result"
    }
   ],
   "source": [
    "# Dictionary that tracks family status and number of clients who have defaulted for each\n",
    "family_status_table = df.pivot_table(index='family_status', values='debt', aggfunc='sum')\n",
    "family_status_dict = family_status_table['debt'].to_dict()\n",
    "family_status_dict"
   ]
  },
  {
   "cell_type": "code",
   "execution_count": 92,
   "metadata": {},
   "outputs": [
    {
     "name": "stdout",
     "output_type": "stream",
     "text": [
      "Civil Partnership risk of defaulting: 9.32%\n",
      "Divorced risk of defaulting: 7.06%\n",
      "Married risk of defaulting: 7.55%\n",
      "Unmarried risk of defaulting: 9.77%\n",
      "Widow / Widower risk of defaulting: 6.62%\n"
     ]
    }
   ],
   "source": [
    "# Print chance of defaulting for each family status\n",
    "for family_status, defaults in family_status_dict.items():\n",
    "    category_total = len(df.loc[df['family_status'] == family_status])\n",
    "    print(f'{family_status.title()} risk of defaulting: {defaults / category_total:.2%}')"
   ]
  },
  {
   "cell_type": "markdown",
   "metadata": {},
   "source": [
    "**Conclusion**\n",
    "\n",
    "Clients in who are in civil partnerships or are unmarried have the highest chance of defaulting. In comparision, clients who have been married previously or who have divorced have a 2% less chance of defaulting. Widows / widowers have the lowest chance at defaulting.\n",
    "\n",
    "Therefore, certain family statuses (civil partnerships and unmarried couples) have the highest risk associated with them."
   ]
  },
  {
   "cell_type": "markdown",
   "metadata": {},
   "source": [
    "**Is there a correlation between income level and paying back on time?**"
   ]
  },
  {
   "cell_type": "code",
   "execution_count": 93,
   "metadata": {},
   "outputs": [
    {
     "data": {
      "text/plain": [
       "{'High': 377, 'Low': 424, 'Medium': 465, 'Medium-High': 464}"
      ]
     },
     "execution_count": 93,
     "metadata": {},
     "output_type": "execute_result"
    }
   ],
   "source": [
    "# Dictionary that tracks income level and number of clients who have defaulted for each\n",
    "income_level_table = df.pivot_table(index='income_level', values='debt', aggfunc='sum')\n",
    "income_level_dict = income_level_table['debt'].to_dict()\n",
    "income_level_dict"
   ]
  },
  {
   "cell_type": "code",
   "execution_count": 94,
   "metadata": {
    "scrolled": true
   },
   "outputs": [
    {
     "name": "stdout",
     "output_type": "stream",
     "text": [
      "High Income risk of defaulting: 7.07%\n",
      "Low Income risk of defaulting: 7.95%\n",
      "Medium Income risk of defaulting: 8.59%\n",
      "Medium-High Income risk of defaulting: 8.84%\n"
     ]
    }
   ],
   "source": [
    "# Print chance of defaulting for each income_level\n",
    "for income_level, defaults in income_level_dict.items():\n",
    "    category_total = len(df.loc[df['income_level'] == income_level])\n",
    "    print(f'{income_level.title()} Income risk of defaulting: {income_level_dict[income_level] / category_total:.2%}')"
   ]
  },
  {
   "cell_type": "markdown",
   "metadata": {},
   "source": [
    "**Conclusion**\n",
    "\n",
    "Clients in the highest income bracket have the least likely chance of defaulting, perhaps due to having the best means of paying them back. The clients with the highest risk of defaulting are those with medium income levels and medium-high income levels. Therefore, these clients are at the highest risk of not paying back on time."
   ]
  },
  {
   "cell_type": "markdown",
   "metadata": {},
   "source": [
    "**How does credit purpose affect the default rate?**"
   ]
  },
  {
   "cell_type": "code",
   "execution_count": 95,
   "metadata": {},
   "outputs": [
    {
     "data": {
      "text/plain": [
       "{'Car': 399, 'Education': 369, 'House': 256, 'Property': 523, 'Wedding': 183}"
      ]
     },
     "execution_count": 95,
     "metadata": {},
     "output_type": "execute_result"
    }
   ],
   "source": [
    "# Dictionary that tracks loan purpose and number of clients who have defaulted for each\n",
    "purpose_table = df.pivot_table(index='purpose_category', values='debt', aggfunc='sum')\n",
    "purpose_dict = purpose_table['debt'].to_dict()\n",
    "purpose_dict"
   ]
  },
  {
   "cell_type": "code",
   "execution_count": 96,
   "metadata": {},
   "outputs": [
    {
     "name": "stdout",
     "output_type": "stream",
     "text": [
      "Car Loan risk of defaulting: 9.33%\n",
      "Education Loan risk of defaulting: 9.25%\n",
      "House Loan risk of defaulting: 6.76%\n",
      "Property Loan risk of defaulting: 7.52%\n",
      "Wedding Loan risk of defaulting: 7.92%\n"
     ]
    }
   ],
   "source": [
    "# Print chance of defaulting for each purpose\n",
    "for purpose, defaults in purpose_dict.items():\n",
    "    category_total = len(df.loc[df['purpose_category'] == purpose])\n",
    "    print(f'{purpose.title()} Loan risk of defaulting: {defaults / category_total:.2%}')"
   ]
  },
  {
   "cell_type": "markdown",
   "metadata": {},
   "source": [
    "**Conclusion**\n",
    "\n",
    "Clients taking out loans for a car or for education tend to default significantly more than other clients. In contrast, the clients who are taking out a loan for a house tend to default less."
   ]
  },
  {
   "cell_type": "markdown",
   "metadata": {},
   "source": [
    "# General Conclusion \n",
    "\n",
    "Before analysis could begin, the data had to be cleaned and preprocessed. Faulty values in many columns, such as `children` and `days_employed`, were removed or adjusted. There were columns with values that were only in 1-2 rows, such as in `gender` and `income_type`, that were removed since we would not have been able to draw an analysis from them due to how infrequently they appeared.\n",
    "\n",
    "Primary problematic artifacts included negative values that showed up in `days_employed` and the missing values in `total_income` and `days_employed`. The negative values in `days_employed` was likely a technical error, so each row was converted to a positive value. The missing values consisted of 10% of the data and were likely random. As such, analysis was done to determine what factors contributed most to each of them - the median of `education` was used to assign `total_income` for missing values, and the median of `age` was used to assign missing `days_employed` rows.\n",
    "\n",
    "The data was categorized at various points to make analysis easier: An `age` column was created based on `dob_years` that assigned an age category to the numeric value in `dob_years`. Similarly, a binary `has_children` column was created from `children`, a `income_level` column from `total_income`, and a `purpose_category` column from the `purpose` column.\n",
    "\n",
    "When answering the posed questions, I compared the default rates to the non-defaulted rates to account for values that simply had a greater count than the others. I compared these percentages - If the default rate was higher than the non-default rate, then I could conclude that a factor led to a greater percentage of defaults. If the default rate was lower than its non-default rate, then I could conclude that factor contributed to the client being less likely to default.\n",
    "\n",
    "Having children was the most significant factor - Having any amount of children led clients to default more than the clients that did not have children. Being married would lead a client to default less often, but unmarried clients and clients in civil partnerships tended to default more. Clients with higher incomes tended to default less while clients with a medium income tended to default more. Finally, clients tended to default more on loans when they were taking the loan out for a car or for education. Clients taking loans out for a house defaulted less than expected."
   ]
  }
 ],
 "metadata": {
  "ExecuteTimeLog": [
   {
    "duration": 2741,
    "start_time": "2021-10-21T01:08:49.480Z"
   },
   {
    "duration": 52,
    "start_time": "2021-10-21T01:08:53.315Z"
   },
   {
    "duration": 49,
    "start_time": "2021-10-21T01:08:57.432Z"
   },
   {
    "duration": 70,
    "start_time": "2021-10-21T01:09:07.706Z"
   },
   {
    "duration": 572,
    "start_time": "2022-01-05T03:09:25.479Z"
   },
   {
    "duration": 8,
    "start_time": "2022-01-05T03:09:35.260Z"
   },
   {
    "duration": 16,
    "start_time": "2022-01-05T03:09:49.803Z"
   },
   {
    "duration": 11,
    "start_time": "2022-01-05T03:13:04.766Z"
   },
   {
    "duration": 9,
    "start_time": "2022-01-05T03:15:22.726Z"
   },
   {
    "duration": 7,
    "start_time": "2022-01-05T03:21:34.010Z"
   },
   {
    "duration": 311,
    "start_time": "2022-01-05T03:21:43.910Z"
   },
   {
    "duration": 10,
    "start_time": "2022-01-05T03:21:50.860Z"
   },
   {
    "duration": 10,
    "start_time": "2022-01-05T03:22:38.825Z"
   },
   {
    "duration": 12,
    "start_time": "2022-01-05T03:22:47.304Z"
   },
   {
    "duration": 12,
    "start_time": "2022-01-05T03:22:56.458Z"
   },
   {
    "duration": 14,
    "start_time": "2022-01-05T03:23:04.961Z"
   },
   {
    "duration": 238,
    "start_time": "2022-01-05T03:23:17.250Z"
   },
   {
    "duration": 14,
    "start_time": "2022-01-05T03:23:20.456Z"
   },
   {
    "duration": 15,
    "start_time": "2022-01-05T03:23:33.214Z"
   },
   {
    "duration": 20,
    "start_time": "2022-01-05T03:23:42.101Z"
   },
   {
    "duration": 14,
    "start_time": "2022-01-05T03:23:46.975Z"
   },
   {
    "duration": 10,
    "start_time": "2022-01-05T03:24:44.671Z"
   },
   {
    "duration": 5834,
    "start_time": "2022-01-05T03:24:52.807Z"
   },
   {
    "duration": 7,
    "start_time": "2022-01-05T03:24:59.626Z"
   },
   {
    "duration": 19,
    "start_time": "2022-01-05T03:25:09.642Z"
   },
   {
    "duration": 12,
    "start_time": "2022-01-05T03:25:20.737Z"
   },
   {
    "duration": 14,
    "start_time": "2022-01-05T03:25:53.240Z"
   },
   {
    "duration": 87,
    "start_time": "2022-01-05T03:27:37.193Z"
   },
   {
    "duration": 78,
    "start_time": "2022-01-05T03:27:51.901Z"
   },
   {
    "duration": 80,
    "start_time": "2022-01-05T03:27:56.804Z"
   },
   {
    "duration": 78,
    "start_time": "2022-01-05T03:28:01.027Z"
   },
   {
    "duration": 77,
    "start_time": "2022-01-05T03:28:09.166Z"
   },
   {
    "duration": 78,
    "start_time": "2022-01-05T03:28:18.490Z"
   },
   {
    "duration": 234,
    "start_time": "2022-01-05T03:28:31.692Z"
   },
   {
    "duration": 7,
    "start_time": "2022-01-05T03:28:37.275Z"
   },
   {
    "duration": 9,
    "start_time": "2022-01-05T03:28:42.011Z"
   },
   {
    "duration": 102,
    "start_time": "2022-01-05T03:30:19.435Z"
   },
   {
    "duration": 7,
    "start_time": "2022-01-05T03:30:26.442Z"
   },
   {
    "duration": 7,
    "start_time": "2022-01-05T03:30:38.011Z"
   },
   {
    "duration": 235,
    "start_time": "2022-01-05T03:30:46.284Z"
   },
   {
    "duration": 6,
    "start_time": "2022-01-05T03:30:48.876Z"
   },
   {
    "duration": 246,
    "start_time": "2022-01-05T03:30:57.640Z"
   },
   {
    "duration": 6,
    "start_time": "2022-01-05T03:31:22.276Z"
   },
   {
    "duration": 6,
    "start_time": "2022-01-05T03:31:34.233Z"
   },
   {
    "duration": 6,
    "start_time": "2022-01-05T03:31:49.901Z"
   },
   {
    "duration": 238,
    "start_time": "2022-01-05T03:32:08.268Z"
   },
   {
    "duration": 6,
    "start_time": "2022-01-05T03:32:22.350Z"
   },
   {
    "duration": 19,
    "start_time": "2022-01-05T03:32:36.809Z"
   },
   {
    "duration": 12,
    "start_time": "2022-01-05T03:32:46.824Z"
   },
   {
    "duration": 689,
    "start_time": "2022-01-05T17:53:00.279Z"
   },
   {
    "duration": 9,
    "start_time": "2022-01-05T17:53:03.718Z"
   },
   {
    "duration": 16,
    "start_time": "2022-01-05T17:53:04.927Z"
   },
   {
    "duration": 12,
    "start_time": "2022-01-05T17:53:12.065Z"
   },
   {
    "duration": 16,
    "start_time": "2022-01-05T17:53:14.944Z"
   },
   {
    "duration": 16,
    "start_time": "2022-01-05T17:53:21.994Z"
   },
   {
    "duration": 8,
    "start_time": "2022-01-05T17:54:05.623Z"
   },
   {
    "duration": 15,
    "start_time": "2022-01-05T17:55:18.756Z"
   },
   {
    "duration": 13,
    "start_time": "2022-01-05T17:55:53.492Z"
   },
   {
    "duration": 4,
    "start_time": "2022-01-05T17:56:26.487Z"
   },
   {
    "duration": 4,
    "start_time": "2022-01-05T17:57:19.123Z"
   },
   {
    "duration": 5,
    "start_time": "2022-01-05T17:57:22.171Z"
   },
   {
    "duration": 361,
    "start_time": "2022-01-05T17:58:28.851Z"
   },
   {
    "duration": 24,
    "start_time": "2022-01-05T18:15:01.785Z"
   },
   {
    "duration": 269,
    "start_time": "2022-01-05T18:15:23.432Z"
   },
   {
    "duration": 6,
    "start_time": "2022-01-05T18:15:26.521Z"
   },
   {
    "duration": 3,
    "start_time": "2022-01-05T18:17:24.586Z"
   },
   {
    "duration": 258,
    "start_time": "2022-01-05T18:18:40.933Z"
   },
   {
    "duration": 4,
    "start_time": "2022-01-05T18:18:46.597Z"
   },
   {
    "duration": 4,
    "start_time": "2022-01-05T18:19:18.174Z"
   },
   {
    "duration": 370,
    "start_time": "2022-01-05T18:20:35.336Z"
   },
   {
    "duration": 4,
    "start_time": "2022-01-05T18:20:50.932Z"
   },
   {
    "duration": 3,
    "start_time": "2022-01-05T18:21:58.517Z"
   },
   {
    "duration": 253,
    "start_time": "2022-01-05T18:22:27.346Z"
   },
   {
    "duration": 4,
    "start_time": "2022-01-05T18:22:33.203Z"
   },
   {
    "duration": 282,
    "start_time": "2022-01-05T18:22:35.518Z"
   },
   {
    "duration": 3,
    "start_time": "2022-01-05T18:22:39.132Z"
   },
   {
    "duration": 4,
    "start_time": "2022-01-05T18:22:49.068Z"
   },
   {
    "duration": 252,
    "start_time": "2022-01-05T18:22:56.473Z"
   },
   {
    "duration": 4,
    "start_time": "2022-01-05T18:22:59.206Z"
   },
   {
    "duration": 4,
    "start_time": "2022-01-05T18:24:29.620Z"
   },
   {
    "duration": 17,
    "start_time": "2022-01-05T18:27:59.323Z"
   },
   {
    "duration": 554,
    "start_time": "2022-03-28T01:28:40.857Z"
   },
   {
    "duration": 12,
    "start_time": "2022-03-28T01:28:44.951Z"
   },
   {
    "duration": 6,
    "start_time": "2022-03-28T01:28:46.436Z"
   },
   {
    "duration": 22,
    "start_time": "2022-03-28T01:31:40.685Z"
   },
   {
    "duration": 21,
    "start_time": "2022-03-28T01:31:43.548Z"
   },
   {
    "duration": 24,
    "start_time": "2022-03-28T01:32:01.846Z"
   },
   {
    "duration": 8,
    "start_time": "2022-03-28T01:32:05.208Z"
   },
   {
    "duration": 10,
    "start_time": "2022-03-28T01:32:11.792Z"
   },
   {
    "duration": 5,
    "start_time": "2022-03-28T01:32:12.366Z"
   },
   {
    "duration": 24,
    "start_time": "2022-03-28T02:05:06.180Z"
   },
   {
    "duration": 6,
    "start_time": "2022-03-28T02:05:08.430Z"
   },
   {
    "duration": 9,
    "start_time": "2022-03-28T02:05:10.131Z"
   },
   {
    "duration": 6,
    "start_time": "2022-03-28T02:05:10.950Z"
   },
   {
    "duration": 15,
    "start_time": "2022-03-28T02:05:27.895Z"
   },
   {
    "duration": 8,
    "start_time": "2022-03-28T02:06:18.432Z"
   },
   {
    "duration": 8,
    "start_time": "2022-03-28T02:06:56.351Z"
   },
   {
    "duration": 11,
    "start_time": "2022-03-28T02:07:06.499Z"
   },
   {
    "duration": 17,
    "start_time": "2022-03-28T02:08:30.073Z"
   },
   {
    "duration": 13,
    "start_time": "2022-03-28T02:08:39.158Z"
   },
   {
    "duration": 93,
    "start_time": "2022-03-28T02:09:31.929Z"
   },
   {
    "duration": 13,
    "start_time": "2022-03-28T02:09:41.115Z"
   },
   {
    "duration": 15,
    "start_time": "2022-03-28T02:09:46.615Z"
   },
   {
    "duration": 16,
    "start_time": "2022-03-28T02:10:08.198Z"
   },
   {
    "duration": 2297,
    "start_time": "2022-03-28T02:10:47.951Z"
   },
   {
    "duration": 23,
    "start_time": "2022-03-28T02:11:04.780Z"
   },
   {
    "duration": 31,
    "start_time": "2022-03-28T02:12:11.324Z"
   },
   {
    "duration": 44,
    "start_time": "2022-03-28T02:13:07.300Z"
   },
   {
    "duration": 58,
    "start_time": "2022-03-28T02:14:43.919Z"
   },
   {
    "duration": 50,
    "start_time": "2022-03-28T02:14:54.271Z"
   },
   {
    "duration": 10,
    "start_time": "2022-03-28T02:19:33.492Z"
   },
   {
    "duration": 8,
    "start_time": "2022-03-28T02:22:01.770Z"
   },
   {
    "duration": 9,
    "start_time": "2022-03-28T02:22:04.319Z"
   },
   {
    "duration": 7,
    "start_time": "2022-03-28T02:22:07.122Z"
   },
   {
    "duration": 6,
    "start_time": "2022-03-28T02:22:17.173Z"
   },
   {
    "duration": 2300,
    "start_time": "2022-03-28T02:26:56.850Z"
   },
   {
    "duration": 23,
    "start_time": "2022-03-28T02:27:12.519Z"
   },
   {
    "duration": 8,
    "start_time": "2022-03-28T02:27:14.785Z"
   },
   {
    "duration": 10,
    "start_time": "2022-03-28T02:27:53.837Z"
   },
   {
    "duration": 8,
    "start_time": "2022-03-28T02:28:00.356Z"
   },
   {
    "duration": 9,
    "start_time": "2022-03-28T02:28:30.511Z"
   },
   {
    "duration": 8,
    "start_time": "2022-03-28T02:28:39.303Z"
   },
   {
    "duration": 9,
    "start_time": "2022-03-28T02:31:18.993Z"
   },
   {
    "duration": 9,
    "start_time": "2022-03-28T02:31:24.434Z"
   },
   {
    "duration": 14,
    "start_time": "2022-03-28T02:37:02.500Z"
   },
   {
    "duration": 12,
    "start_time": "2022-03-28T02:37:19.420Z"
   },
   {
    "duration": 14,
    "start_time": "2022-03-28T02:37:29.475Z"
   },
   {
    "duration": 7,
    "start_time": "2022-03-28T02:37:36.998Z"
   },
   {
    "duration": 10,
    "start_time": "2022-03-28T02:38:08.136Z"
   },
   {
    "duration": 16,
    "start_time": "2022-03-28T02:38:28.547Z"
   },
   {
    "duration": 30,
    "start_time": "2022-03-28T02:39:07.956Z"
   },
   {
    "duration": 15,
    "start_time": "2022-03-28T02:39:17.072Z"
   },
   {
    "duration": 20,
    "start_time": "2022-03-28T02:40:04.346Z"
   },
   {
    "duration": 13,
    "start_time": "2022-03-28T02:40:13.754Z"
   },
   {
    "duration": 5,
    "start_time": "2022-03-28T02:40:25.762Z"
   },
   {
    "duration": 52,
    "start_time": "2022-03-28T02:40:28.239Z"
   },
   {
    "duration": 13,
    "start_time": "2022-03-28T02:40:39.933Z"
   },
   {
    "duration": 29,
    "start_time": "2022-03-28T02:41:14.597Z"
   },
   {
    "duration": 15,
    "start_time": "2022-03-28T02:41:32.241Z"
   },
   {
    "duration": 18,
    "start_time": "2022-03-28T02:41:36.560Z"
   },
   {
    "duration": 9,
    "start_time": "2022-03-28T02:41:48.676Z"
   },
   {
    "duration": 19,
    "start_time": "2022-03-28T02:42:24.200Z"
   },
   {
    "duration": 9,
    "start_time": "2022-03-28T02:42:35.977Z"
   },
   {
    "duration": 9,
    "start_time": "2022-03-28T02:42:49.087Z"
   },
   {
    "duration": 5,
    "start_time": "2022-03-28T02:44:03.736Z"
   },
   {
    "duration": 7,
    "start_time": "2022-03-28T02:44:27.563Z"
   },
   {
    "duration": 7,
    "start_time": "2022-03-28T02:44:49.249Z"
   },
   {
    "duration": 19,
    "start_time": "2022-03-28T02:45:05.413Z"
   },
   {
    "duration": 9,
    "start_time": "2022-03-28T02:45:35.761Z"
   },
   {
    "duration": 10,
    "start_time": "2022-03-28T02:45:42.971Z"
   },
   {
    "duration": 8,
    "start_time": "2022-03-28T02:46:47.341Z"
   },
   {
    "duration": 10,
    "start_time": "2022-03-28T02:46:57.134Z"
   },
   {
    "duration": 7,
    "start_time": "2022-03-28T02:47:01.513Z"
   },
   {
    "duration": 11,
    "start_time": "2022-03-28T02:47:51.067Z"
   },
   {
    "duration": 7,
    "start_time": "2022-03-28T02:47:58.162Z"
   },
   {
    "duration": 17,
    "start_time": "2022-03-28T02:48:44.352Z"
   },
   {
    "duration": 8,
    "start_time": "2022-03-28T02:48:51.259Z"
   },
   {
    "duration": 17,
    "start_time": "2022-03-28T02:51:27.899Z"
   },
   {
    "duration": 17,
    "start_time": "2022-03-28T02:52:31.321Z"
   },
   {
    "duration": 11,
    "start_time": "2022-03-28T02:53:32.832Z"
   },
   {
    "duration": 16,
    "start_time": "2022-03-28T02:54:13.296Z"
   },
   {
    "duration": 8,
    "start_time": "2022-03-28T02:54:14.997Z"
   },
   {
    "duration": 9,
    "start_time": "2022-03-28T02:54:27.408Z"
   },
   {
    "duration": 6,
    "start_time": "2022-03-28T02:54:28.842Z"
   },
   {
    "duration": 9,
    "start_time": "2022-03-28T02:54:46.043Z"
   },
   {
    "duration": 7,
    "start_time": "2022-03-28T02:54:47.479Z"
   },
   {
    "duration": 52,
    "start_time": "2022-03-28T02:55:03.532Z"
   },
   {
    "duration": 5,
    "start_time": "2022-03-28T02:55:06.075Z"
   },
   {
    "duration": 5,
    "start_time": "2022-03-28T02:55:07.001Z"
   },
   {
    "duration": 22,
    "start_time": "2022-03-28T02:55:07.605Z"
   },
   {
    "duration": 23,
    "start_time": "2022-03-28T02:55:09.274Z"
   },
   {
    "duration": 17,
    "start_time": "2022-03-28T02:55:11.018Z"
   },
   {
    "duration": 23,
    "start_time": "2022-03-28T02:55:11.267Z"
   },
   {
    "duration": 6,
    "start_time": "2022-03-28T02:55:11.557Z"
   },
   {
    "duration": 8,
    "start_time": "2022-03-28T02:55:12.317Z"
   },
   {
    "duration": 5,
    "start_time": "2022-03-28T02:55:12.724Z"
   },
   {
    "duration": 50,
    "start_time": "2022-03-28T02:55:13.447Z"
   },
   {
    "duration": 3,
    "start_time": "2022-03-28T02:55:14.311Z"
   },
   {
    "duration": 7,
    "start_time": "2022-03-28T02:55:16.694Z"
   },
   {
    "duration": 24,
    "start_time": "2022-03-28T02:55:17.255Z"
   },
   {
    "duration": 7,
    "start_time": "2022-03-28T02:55:18.216Z"
   },
   {
    "duration": 8,
    "start_time": "2022-03-28T02:55:19.519Z"
   },
   {
    "duration": 8,
    "start_time": "2022-03-28T02:55:19.931Z"
   },
   {
    "duration": 16,
    "start_time": "2022-03-28T02:55:21.176Z"
   },
   {
    "duration": 8,
    "start_time": "2022-03-28T02:55:22.010Z"
   },
   {
    "duration": 16,
    "start_time": "2022-03-28T02:55:23.750Z"
   },
   {
    "duration": 8,
    "start_time": "2022-03-28T02:55:24.838Z"
   },
   {
    "duration": 4,
    "start_time": "2022-03-28T02:55:27.160Z"
   },
   {
    "duration": 9,
    "start_time": "2022-03-28T02:55:27.895Z"
   },
   {
    "duration": 6,
    "start_time": "2022-03-28T02:55:30.100Z"
   },
   {
    "duration": 8,
    "start_time": "2022-03-28T02:55:33.725Z"
   },
   {
    "duration": 15,
    "start_time": "2022-03-28T02:55:34.876Z"
   },
   {
    "duration": 10,
    "start_time": "2022-03-28T02:55:48.273Z"
   },
   {
    "duration": 10,
    "start_time": "2022-03-28T02:55:52.808Z"
   },
   {
    "duration": 6,
    "start_time": "2022-03-28T02:55:54.329Z"
   },
   {
    "duration": 8,
    "start_time": "2022-03-28T02:56:59.479Z"
   },
   {
    "duration": 8,
    "start_time": "2022-03-28T02:58:21.065Z"
   },
   {
    "duration": 9,
    "start_time": "2022-03-28T02:58:44.417Z"
   },
   {
    "duration": 563,
    "start_time": "2022-03-28T02:59:27.621Z"
   },
   {
    "duration": 147,
    "start_time": "2022-03-28T02:59:33.134Z"
   },
   {
    "duration": 29,
    "start_time": "2022-03-28T02:59:45.332Z"
   },
   {
    "duration": 11,
    "start_time": "2022-03-28T02:59:49.967Z"
   },
   {
    "duration": 6,
    "start_time": "2022-03-28T03:00:01.932Z"
   },
   {
    "duration": 47,
    "start_time": "2022-03-28T03:00:08.989Z"
   },
   {
    "duration": 9,
    "start_time": "2022-03-28T03:00:17.466Z"
   },
   {
    "duration": 6,
    "start_time": "2022-03-28T03:00:29.291Z"
   },
   {
    "duration": 6,
    "start_time": "2022-03-28T03:00:30.988Z"
   },
   {
    "duration": 47,
    "start_time": "2022-03-28T03:02:11.655Z"
   },
   {
    "duration": 10,
    "start_time": "2022-03-28T03:02:26.201Z"
   },
   {
    "duration": 9,
    "start_time": "2022-03-28T03:02:27.616Z"
   },
   {
    "duration": 32,
    "start_time": "2022-03-28T03:02:37.898Z"
   },
   {
    "duration": 13,
    "start_time": "2022-03-28T03:02:46.067Z"
   },
   {
    "duration": 11,
    "start_time": "2022-03-28T03:02:58.485Z"
   },
   {
    "duration": 9,
    "start_time": "2022-03-28T03:03:04.486Z"
   },
   {
    "duration": 10,
    "start_time": "2022-03-28T03:03:18.421Z"
   },
   {
    "duration": 8,
    "start_time": "2022-03-28T03:06:03.681Z"
   },
   {
    "duration": 10,
    "start_time": "2022-03-28T03:06:05.143Z"
   },
   {
    "duration": 24,
    "start_time": "2022-03-28T03:31:10.136Z"
   },
   {
    "duration": 24,
    "start_time": "2022-03-28T03:31:14.790Z"
   },
   {
    "duration": 30,
    "start_time": "2022-03-28T03:42:02.363Z"
   },
   {
    "duration": 15,
    "start_time": "2022-03-28T03:42:44.152Z"
   },
   {
    "duration": 25,
    "start_time": "2022-03-28T03:42:54.085Z"
   },
   {
    "duration": 11,
    "start_time": "2022-03-28T03:43:22.427Z"
   },
   {
    "duration": 11,
    "start_time": "2022-03-28T03:43:25.633Z"
   },
   {
    "duration": 33,
    "start_time": "2022-03-28T03:43:29.733Z"
   },
   {
    "duration": 18,
    "start_time": "2022-03-28T03:43:37.504Z"
   },
   {
    "duration": 43,
    "start_time": "2022-03-28T03:43:47.200Z"
   },
   {
    "duration": 27,
    "start_time": "2022-03-28T03:43:55.326Z"
   },
   {
    "duration": 21,
    "start_time": "2022-03-28T03:44:04.194Z"
   },
   {
    "duration": 18,
    "start_time": "2022-03-28T03:44:11.492Z"
   },
   {
    "duration": 20,
    "start_time": "2022-03-28T03:44:23.443Z"
   },
   {
    "duration": 20,
    "start_time": "2022-03-28T03:44:33.819Z"
   },
   {
    "duration": 12,
    "start_time": "2022-03-28T03:44:46.085Z"
   },
   {
    "duration": 12,
    "start_time": "2022-03-28T03:44:48.370Z"
   },
   {
    "duration": 21,
    "start_time": "2022-03-28T03:45:01.746Z"
   },
   {
    "duration": 19,
    "start_time": "2022-03-28T03:45:18.043Z"
   },
   {
    "duration": 20,
    "start_time": "2022-03-28T03:45:29.623Z"
   },
   {
    "duration": 21,
    "start_time": "2022-03-28T03:46:23.762Z"
   },
   {
    "duration": 20,
    "start_time": "2022-03-28T03:46:31.724Z"
   },
   {
    "duration": 11,
    "start_time": "2022-03-28T03:46:41.116Z"
   },
   {
    "duration": 4,
    "start_time": "2022-03-28T03:46:45.757Z"
   },
   {
    "duration": 7,
    "start_time": "2022-03-28T03:47:27.951Z"
   },
   {
    "duration": 4,
    "start_time": "2022-03-28T03:47:34.871Z"
   },
   {
    "duration": 8,
    "start_time": "2022-03-28T03:47:43.392Z"
   },
   {
    "duration": 5,
    "start_time": "2022-03-28T03:48:28.178Z"
   },
   {
    "duration": 6,
    "start_time": "2022-03-28T03:48:42.492Z"
   },
   {
    "duration": 9,
    "start_time": "2022-03-28T03:49:18.977Z"
   },
   {
    "duration": 10,
    "start_time": "2022-03-28T03:50:12.857Z"
   },
   {
    "duration": 8,
    "start_time": "2022-03-28T03:50:22.684Z"
   },
   {
    "duration": 7,
    "start_time": "2022-03-28T03:50:26.482Z"
   },
   {
    "duration": 7,
    "start_time": "2022-03-28T03:50:32.435Z"
   },
   {
    "duration": 7,
    "start_time": "2022-03-28T03:50:36.128Z"
   },
   {
    "duration": 9,
    "start_time": "2022-03-28T03:50:47.396Z"
   },
   {
    "duration": 6,
    "start_time": "2022-03-28T04:00:12.478Z"
   },
   {
    "duration": 4,
    "start_time": "2022-03-28T04:00:17.156Z"
   },
   {
    "duration": 8,
    "start_time": "2022-03-28T04:00:18.209Z"
   },
   {
    "duration": 10,
    "start_time": "2022-03-28T04:00:35.380Z"
   },
   {
    "duration": 7,
    "start_time": "2022-03-28T04:00:36.713Z"
   },
   {
    "duration": 8,
    "start_time": "2022-03-28T04:00:38.815Z"
   },
   {
    "duration": 157,
    "start_time": "2022-03-28T04:01:29.366Z"
   },
   {
    "duration": 10,
    "start_time": "2022-03-28T04:01:33.689Z"
   },
   {
    "duration": 9,
    "start_time": "2022-03-28T04:01:38.756Z"
   },
   {
    "duration": 142,
    "start_time": "2022-03-28T04:01:56.003Z"
   },
   {
    "duration": 13,
    "start_time": "2022-03-28T04:02:00.004Z"
   },
   {
    "duration": 14,
    "start_time": "2022-03-28T04:02:33.998Z"
   },
   {
    "duration": 33,
    "start_time": "2022-03-28T04:02:38.022Z"
   },
   {
    "duration": 21,
    "start_time": "2022-03-28T04:02:43.878Z"
   },
   {
    "duration": 19,
    "start_time": "2022-03-28T04:02:56.058Z"
   },
   {
    "duration": 19,
    "start_time": "2022-03-28T04:03:01.112Z"
   },
   {
    "duration": 23,
    "start_time": "2022-03-28T04:03:14.565Z"
   },
   {
    "duration": 359,
    "start_time": "2022-03-28T04:04:56.897Z"
   },
   {
    "duration": 58,
    "start_time": "2022-03-28T04:05:15.385Z"
   },
   {
    "duration": 23,
    "start_time": "2022-03-28T04:05:47.477Z"
   },
   {
    "duration": 22,
    "start_time": "2022-03-28T04:05:54.094Z"
   },
   {
    "duration": 20,
    "start_time": "2022-03-28T04:20:05.004Z"
   },
   {
    "duration": 16,
    "start_time": "2022-03-28T04:20:15.500Z"
   },
   {
    "duration": 15,
    "start_time": "2022-03-28T04:20:33.999Z"
   },
   {
    "duration": 20,
    "start_time": "2022-03-28T04:20:41.933Z"
   },
   {
    "duration": 21,
    "start_time": "2022-03-28T04:21:00.727Z"
   },
   {
    "duration": 20,
    "start_time": "2022-03-28T04:21:04.735Z"
   },
   {
    "duration": 20,
    "start_time": "2022-03-28T04:21:10.953Z"
   },
   {
    "duration": 15,
    "start_time": "2022-03-28T04:21:17.266Z"
   },
   {
    "duration": 21,
    "start_time": "2022-03-28T04:21:20.781Z"
   },
   {
    "duration": 19,
    "start_time": "2022-03-28T04:21:25.798Z"
   },
   {
    "duration": 21,
    "start_time": "2022-03-28T04:21:43.299Z"
   },
   {
    "duration": 46,
    "start_time": "2022-03-28T19:23:07.390Z"
   },
   {
    "duration": 460,
    "start_time": "2022-03-28T19:23:15.745Z"
   },
   {
    "duration": 7,
    "start_time": "2022-03-28T19:23:17.145Z"
   },
   {
    "duration": 18,
    "start_time": "2022-03-28T19:23:17.390Z"
   },
   {
    "duration": 15,
    "start_time": "2022-03-28T19:23:19.456Z"
   },
   {
    "duration": 14,
    "start_time": "2022-03-28T19:23:21.656Z"
   },
   {
    "duration": 14,
    "start_time": "2022-03-28T19:23:22.627Z"
   },
   {
    "duration": 5,
    "start_time": "2022-03-28T19:23:23.739Z"
   },
   {
    "duration": 5,
    "start_time": "2022-03-28T19:23:26.170Z"
   },
   {
    "duration": 4,
    "start_time": "2022-03-28T19:23:27.196Z"
   },
   {
    "duration": 35,
    "start_time": "2022-03-28T19:23:29.779Z"
   },
   {
    "duration": 2,
    "start_time": "2022-03-28T19:23:42.528Z"
   },
   {
    "duration": 3,
    "start_time": "2022-03-28T19:23:45.928Z"
   },
   {
    "duration": 4,
    "start_time": "2022-03-28T19:23:46.893Z"
   },
   {
    "duration": 6,
    "start_time": "2022-03-28T19:23:47.820Z"
   },
   {
    "duration": 4,
    "start_time": "2022-03-28T19:23:48.246Z"
   },
   {
    "duration": 7,
    "start_time": "2022-03-28T19:23:48.841Z"
   },
   {
    "duration": 16,
    "start_time": "2022-03-28T19:23:53.056Z"
   },
   {
    "duration": 13,
    "start_time": "2022-03-28T19:23:56.466Z"
   },
   {
    "duration": 15,
    "start_time": "2022-03-28T19:23:57.678Z"
   },
   {
    "duration": 7,
    "start_time": "2022-03-28T19:24:54.970Z"
   },
   {
    "duration": 9,
    "start_time": "2022-03-28T19:24:55.921Z"
   },
   {
    "duration": 7,
    "start_time": "2022-03-28T19:24:56.651Z"
   },
   {
    "duration": 15,
    "start_time": "2022-03-28T19:26:12.229Z"
   },
   {
    "duration": 30,
    "start_time": "2022-03-28T19:29:20.855Z"
   },
   {
    "duration": 15,
    "start_time": "2022-03-28T19:29:27.607Z"
   },
   {
    "duration": 23,
    "start_time": "2022-03-28T19:29:36.026Z"
   },
   {
    "duration": 16,
    "start_time": "2022-03-28T19:29:50.670Z"
   },
   {
    "duration": 12,
    "start_time": "2022-03-28T19:30:00.425Z"
   },
   {
    "duration": 12,
    "start_time": "2022-03-28T19:30:11.652Z"
   },
   {
    "duration": 733,
    "start_time": "2022-03-28T19:30:23.225Z"
   },
   {
    "duration": 111,
    "start_time": "2022-03-28T19:30:30.628Z"
   },
   {
    "duration": 25,
    "start_time": "2022-03-28T19:30:36.773Z"
   },
   {
    "duration": 16,
    "start_time": "2022-03-28T19:30:41.174Z"
   },
   {
    "duration": 11,
    "start_time": "2022-03-28T19:30:43.193Z"
   },
   {
    "duration": 15,
    "start_time": "2022-03-28T19:30:45.018Z"
   },
   {
    "duration": 13,
    "start_time": "2022-03-28T19:31:04.625Z"
   },
   {
    "duration": 13,
    "start_time": "2022-03-28T19:31:22.654Z"
   },
   {
    "duration": 3,
    "start_time": "2022-03-28T20:12:18.091Z"
   },
   {
    "duration": 135,
    "start_time": "2022-03-28T20:14:43.609Z"
   },
   {
    "duration": 159,
    "start_time": "2022-03-28T20:14:52.336Z"
   },
   {
    "duration": 141,
    "start_time": "2022-03-28T20:14:56.060Z"
   },
   {
    "duration": 19,
    "start_time": "2022-03-28T20:15:38.514Z"
   },
   {
    "duration": 14,
    "start_time": "2022-03-28T20:32:45.685Z"
   },
   {
    "duration": 15,
    "start_time": "2022-03-28T20:33:07.888Z"
   },
   {
    "duration": 12,
    "start_time": "2022-03-28T20:33:11.534Z"
   },
   {
    "duration": 13,
    "start_time": "2022-03-28T20:35:14.771Z"
   },
   {
    "duration": 10,
    "start_time": "2022-03-28T20:35:43.309Z"
   },
   {
    "duration": 19,
    "start_time": "2022-03-28T20:36:01.914Z"
   },
   {
    "duration": 28,
    "start_time": "2022-03-28T20:36:16.732Z"
   },
   {
    "duration": 25,
    "start_time": "2022-03-28T20:36:51.928Z"
   },
   {
    "duration": 19,
    "start_time": "2022-03-28T20:37:17.995Z"
   },
   {
    "duration": 18,
    "start_time": "2022-03-28T20:37:22.028Z"
   },
   {
    "duration": 152,
    "start_time": "2022-03-28T20:37:28.649Z"
   },
   {
    "duration": 30,
    "start_time": "2022-03-28T20:37:33.948Z"
   },
   {
    "duration": 7,
    "start_time": "2022-03-28T20:38:48.828Z"
   },
   {
    "duration": 25,
    "start_time": "2022-03-28T20:38:50.626Z"
   },
   {
    "duration": 5,
    "start_time": "2022-03-28T20:38:52.145Z"
   },
   {
    "duration": 43,
    "start_time": "2022-03-28T20:39:00.336Z"
   },
   {
    "duration": 28,
    "start_time": "2022-03-28T20:39:11.751Z"
   },
   {
    "duration": 14,
    "start_time": "2022-03-28T20:39:21.985Z"
   },
   {
    "duration": 29,
    "start_time": "2022-03-28T20:39:26.546Z"
   },
   {
    "duration": 59,
    "start_time": "2022-03-28T20:40:04.282Z"
   },
   {
    "duration": 59,
    "start_time": "2022-03-28T20:40:15.338Z"
   },
   {
    "duration": 31,
    "start_time": "2022-03-28T20:40:27.514Z"
   },
   {
    "duration": 32,
    "start_time": "2022-03-28T20:40:34.985Z"
   },
   {
    "duration": 27,
    "start_time": "2022-03-28T20:40:39.295Z"
   },
   {
    "duration": 25,
    "start_time": "2022-03-28T20:40:45.019Z"
   },
   {
    "duration": 27,
    "start_time": "2022-03-28T20:42:00.175Z"
   },
   {
    "duration": 27,
    "start_time": "2022-03-28T20:42:09.115Z"
   },
   {
    "duration": 36,
    "start_time": "2022-03-28T20:42:13.187Z"
   },
   {
    "duration": 29,
    "start_time": "2022-03-28T20:42:16.962Z"
   },
   {
    "duration": 25,
    "start_time": "2022-03-28T20:42:38.442Z"
   },
   {
    "duration": 646,
    "start_time": "2022-04-03T00:53:47.546Z"
   },
   {
    "duration": 7,
    "start_time": "2022-04-03T00:53:52.550Z"
   },
   {
    "duration": 16,
    "start_time": "2022-04-03T00:54:04.472Z"
   },
   {
    "duration": 15,
    "start_time": "2022-04-03T00:56:18.197Z"
   },
   {
    "duration": 13,
    "start_time": "2022-04-03T00:57:17.968Z"
   },
   {
    "duration": 16,
    "start_time": "2022-04-03T00:57:29.067Z"
   },
   {
    "duration": 12,
    "start_time": "2022-04-03T00:57:34.848Z"
   },
   {
    "duration": 5,
    "start_time": "2022-04-03T00:57:39.889Z"
   },
   {
    "duration": 6,
    "start_time": "2022-04-03T00:59:04.097Z"
   },
   {
    "duration": 4,
    "start_time": "2022-04-03T00:59:11.544Z"
   },
   {
    "duration": 36,
    "start_time": "2022-04-03T01:03:53.766Z"
   },
   {
    "duration": 34,
    "start_time": "2022-04-03T02:10:06.350Z"
   },
   {
    "duration": 31,
    "start_time": "2022-04-03T02:10:35.657Z"
   },
   {
    "duration": 10,
    "start_time": "2022-04-03T02:10:59.622Z"
   },
   {
    "duration": 12,
    "start_time": "2022-04-03T02:11:11.217Z"
   },
   {
    "duration": 11,
    "start_time": "2022-04-03T02:18:47.793Z"
   },
   {
    "duration": 32,
    "start_time": "2022-04-03T02:19:18.134Z"
   },
   {
    "duration": 5,
    "start_time": "2022-04-03T02:21:10.096Z"
   },
   {
    "duration": 13,
    "start_time": "2022-04-03T02:21:31.045Z"
   },
   {
    "duration": 14,
    "start_time": "2022-04-03T02:21:40.175Z"
   },
   {
    "duration": 73,
    "start_time": "2022-04-03T02:22:07.949Z"
   },
   {
    "duration": 15,
    "start_time": "2022-04-03T02:22:13.048Z"
   },
   {
    "duration": 8,
    "start_time": "2022-04-03T02:28:04.757Z"
   },
   {
    "duration": 8,
    "start_time": "2022-04-03T02:28:47.272Z"
   },
   {
    "duration": 7,
    "start_time": "2022-04-03T02:28:52.976Z"
   },
   {
    "duration": 12,
    "start_time": "2022-04-03T02:29:21.921Z"
   },
   {
    "duration": 7,
    "start_time": "2022-04-03T02:29:24.131Z"
   },
   {
    "duration": 12,
    "start_time": "2022-04-03T02:29:59.401Z"
   },
   {
    "duration": 16,
    "start_time": "2022-04-03T02:32:33.176Z"
   },
   {
    "duration": 14,
    "start_time": "2022-04-03T02:32:46.193Z"
   },
   {
    "duration": 13,
    "start_time": "2022-04-03T02:32:59.276Z"
   },
   {
    "duration": 15,
    "start_time": "2022-04-03T02:33:10.911Z"
   },
   {
    "duration": 46,
    "start_time": "2022-04-03T02:34:11.685Z"
   },
   {
    "duration": 270,
    "start_time": "2022-04-03T02:34:21.319Z"
   },
   {
    "duration": 13,
    "start_time": "2022-04-03T02:34:39.698Z"
   },
   {
    "duration": 12,
    "start_time": "2022-04-03T02:34:53.196Z"
   },
   {
    "duration": 13,
    "start_time": "2022-04-03T02:34:59.438Z"
   },
   {
    "duration": 11,
    "start_time": "2022-04-03T02:35:49.182Z"
   },
   {
    "duration": 13,
    "start_time": "2022-04-03T02:36:10.807Z"
   },
   {
    "duration": 39,
    "start_time": "2022-04-03T02:39:10.766Z"
   },
   {
    "duration": 7,
    "start_time": "2022-04-03T02:39:20.606Z"
   },
   {
    "duration": 15,
    "start_time": "2022-04-03T02:40:55.059Z"
   },
   {
    "duration": 5,
    "start_time": "2022-04-03T02:42:46.378Z"
   },
   {
    "duration": 5,
    "start_time": "2022-04-03T02:42:58.430Z"
   },
   {
    "duration": 12,
    "start_time": "2022-04-03T02:43:17.913Z"
   },
   {
    "duration": 1687,
    "start_time": "2022-04-03T02:43:25.144Z"
   },
   {
    "duration": 1871,
    "start_time": "2022-04-03T02:43:38.779Z"
   },
   {
    "duration": 12,
    "start_time": "2022-04-03T02:43:49.067Z"
   },
   {
    "duration": 9,
    "start_time": "2022-04-03T02:44:48.824Z"
   },
   {
    "duration": 7,
    "start_time": "2022-04-03T02:48:37.359Z"
   },
   {
    "duration": 7,
    "start_time": "2022-04-03T02:49:02.017Z"
   },
   {
    "duration": 20,
    "start_time": "2022-04-03T02:49:13.193Z"
   },
   {
    "duration": 19,
    "start_time": "2022-04-03T02:49:30.047Z"
   },
   {
    "duration": 8,
    "start_time": "2022-04-03T02:49:52.799Z"
   },
   {
    "duration": 5,
    "start_time": "2022-04-03T03:00:30.633Z"
   },
   {
    "duration": 18,
    "start_time": "2022-04-03T03:00:32.997Z"
   },
   {
    "duration": 4,
    "start_time": "2022-04-03T03:00:34.628Z"
   },
   {
    "duration": 17,
    "start_time": "2022-04-03T03:01:41.088Z"
   },
   {
    "duration": 4,
    "start_time": "2022-04-03T03:01:42.456Z"
   },
   {
    "duration": 45,
    "start_time": "2022-04-03T03:01:52.787Z"
   },
   {
    "duration": 3,
    "start_time": "2022-04-03T03:01:54.057Z"
   },
   {
    "duration": 12,
    "start_time": "2022-04-03T03:01:54.391Z"
   },
   {
    "duration": 14,
    "start_time": "2022-04-03T03:01:55.222Z"
   },
   {
    "duration": 13,
    "start_time": "2022-04-03T03:01:56.170Z"
   },
   {
    "duration": 13,
    "start_time": "2022-04-03T03:01:56.590Z"
   },
   {
    "duration": 5,
    "start_time": "2022-04-03T03:01:57.031Z"
   },
   {
    "duration": 6,
    "start_time": "2022-04-03T03:01:57.901Z"
   },
   {
    "duration": 4,
    "start_time": "2022-04-03T03:01:58.282Z"
   },
   {
    "duration": 8,
    "start_time": "2022-04-03T03:01:59.265Z"
   },
   {
    "duration": 11,
    "start_time": "2022-04-03T03:02:01.069Z"
   },
   {
    "duration": 7,
    "start_time": "2022-04-03T03:02:03.297Z"
   },
   {
    "duration": 8,
    "start_time": "2022-04-03T03:02:04.344Z"
   },
   {
    "duration": 6,
    "start_time": "2022-04-03T03:02:07.300Z"
   },
   {
    "duration": 18,
    "start_time": "2022-04-03T03:02:11.351Z"
   },
   {
    "duration": 5,
    "start_time": "2022-04-03T03:02:11.950Z"
   },
   {
    "duration": 13,
    "start_time": "2022-04-03T03:03:05.264Z"
   },
   {
    "duration": 6,
    "start_time": "2022-04-03T03:03:11.879Z"
   },
   {
    "duration": 13,
    "start_time": "2022-04-03T03:04:40.077Z"
   },
   {
    "duration": 12,
    "start_time": "2022-04-03T03:04:56.191Z"
   },
   {
    "duration": 14,
    "start_time": "2022-04-03T03:05:21.662Z"
   },
   {
    "duration": 12,
    "start_time": "2022-04-03T03:05:30.658Z"
   },
   {
    "duration": 9,
    "start_time": "2022-04-03T03:05:42.234Z"
   },
   {
    "duration": 6,
    "start_time": "2022-04-03T03:05:51.703Z"
   },
   {
    "duration": 3,
    "start_time": "2022-04-03T03:06:10.514Z"
   },
   {
    "duration": 8,
    "start_time": "2022-04-03T03:06:12.265Z"
   },
   {
    "duration": 11,
    "start_time": "2022-04-03T03:06:19.751Z"
   },
   {
    "duration": 5,
    "start_time": "2022-04-03T03:06:43.097Z"
   },
   {
    "duration": 8,
    "start_time": "2022-04-03T03:07:02.924Z"
   },
   {
    "duration": 4,
    "start_time": "2022-04-03T03:07:09.594Z"
   },
   {
    "duration": 3812,
    "start_time": "2022-04-03T13:30:58.927Z"
   },
   {
    "duration": 9,
    "start_time": "2022-04-03T13:31:02.742Z"
   },
   {
    "duration": 17,
    "start_time": "2022-04-03T13:31:02.753Z"
   },
   {
    "duration": 16,
    "start_time": "2022-04-03T13:31:03.695Z"
   },
   {
    "duration": 14,
    "start_time": "2022-04-03T13:31:06.849Z"
   },
   {
    "duration": 14,
    "start_time": "2022-04-03T13:31:08.266Z"
   },
   {
    "duration": 4,
    "start_time": "2022-04-03T13:31:08.974Z"
   },
   {
    "duration": 7,
    "start_time": "2022-04-03T13:31:10.828Z"
   },
   {
    "duration": 4,
    "start_time": "2022-04-03T13:31:11.370Z"
   },
   {
    "duration": 14,
    "start_time": "2022-04-03T13:31:13.030Z"
   },
   {
    "duration": 11,
    "start_time": "2022-04-03T13:31:15.505Z"
   },
   {
    "duration": 8,
    "start_time": "2022-04-03T13:32:36.050Z"
   },
   {
    "duration": 8,
    "start_time": "2022-04-03T13:32:38.670Z"
   },
   {
    "duration": 6,
    "start_time": "2022-04-03T13:32:48.147Z"
   },
   {
    "duration": 24,
    "start_time": "2022-04-03T13:32:49.293Z"
   },
   {
    "duration": 6,
    "start_time": "2022-04-03T13:32:50.052Z"
   },
   {
    "duration": 4,
    "start_time": "2022-04-03T13:32:52.243Z"
   },
   {
    "duration": 6,
    "start_time": "2022-04-03T13:32:54.005Z"
   },
   {
    "duration": 12,
    "start_time": "2022-04-03T13:32:56.005Z"
   },
   {
    "duration": 6,
    "start_time": "2022-04-03T13:32:57.390Z"
   },
   {
    "duration": 9,
    "start_time": "2022-04-03T13:32:59.398Z"
   },
   {
    "duration": 10,
    "start_time": "2022-04-03T13:33:01.060Z"
   },
   {
    "duration": 4,
    "start_time": "2022-04-03T13:33:02.770Z"
   },
   {
    "duration": 15,
    "start_time": "2022-04-03T13:33:05.057Z"
   },
   {
    "duration": 5,
    "start_time": "2022-04-03T13:33:26.862Z"
   },
   {
    "duration": 7,
    "start_time": "2022-04-03T13:35:03.752Z"
   },
   {
    "duration": 8,
    "start_time": "2022-04-03T13:35:10.363Z"
   },
   {
    "duration": 7,
    "start_time": "2022-04-03T13:36:18.468Z"
   },
   {
    "duration": 5,
    "start_time": "2022-04-03T13:36:26.247Z"
   },
   {
    "duration": 6,
    "start_time": "2022-04-03T13:36:38.003Z"
   },
   {
    "duration": 9,
    "start_time": "2022-04-03T13:36:54.249Z"
   },
   {
    "duration": 7,
    "start_time": "2022-04-03T13:37:02.080Z"
   },
   {
    "duration": 6,
    "start_time": "2022-04-03T13:37:58.458Z"
   },
   {
    "duration": 7,
    "start_time": "2022-04-03T13:37:58.888Z"
   },
   {
    "duration": 8,
    "start_time": "2022-04-03T13:38:30.246Z"
   },
   {
    "duration": 7,
    "start_time": "2022-04-03T13:38:47.198Z"
   },
   {
    "duration": 10,
    "start_time": "2022-04-03T13:38:47.685Z"
   },
   {
    "duration": 10,
    "start_time": "2022-04-03T13:39:24.906Z"
   },
   {
    "duration": 19,
    "start_time": "2022-04-03T13:41:19.436Z"
   },
   {
    "duration": 8,
    "start_time": "2022-04-03T13:41:20.667Z"
   },
   {
    "duration": 24,
    "start_time": "2022-04-03T13:42:45.250Z"
   },
   {
    "duration": 22,
    "start_time": "2022-04-03T13:43:42.217Z"
   },
   {
    "duration": 24,
    "start_time": "2022-04-03T13:44:57.989Z"
   },
   {
    "duration": 28,
    "start_time": "2022-04-03T13:45:05.144Z"
   },
   {
    "duration": 98,
    "start_time": "2022-04-03T13:45:12.929Z"
   },
   {
    "duration": 8,
    "start_time": "2022-04-03T13:45:16.723Z"
   },
   {
    "duration": 5,
    "start_time": "2022-04-03T13:45:18.472Z"
   },
   {
    "duration": 12,
    "start_time": "2022-04-03T13:47:28.200Z"
   },
   {
    "duration": 16,
    "start_time": "2022-04-03T13:47:43.809Z"
   },
   {
    "duration": 7,
    "start_time": "2022-04-03T13:54:19.793Z"
   },
   {
    "duration": 10,
    "start_time": "2022-04-03T13:54:56.327Z"
   },
   {
    "duration": 11,
    "start_time": "2022-04-03T13:55:03.783Z"
   },
   {
    "duration": 4,
    "start_time": "2022-04-03T13:56:46.604Z"
   },
   {
    "duration": 5,
    "start_time": "2022-04-03T13:56:52.848Z"
   },
   {
    "duration": 10,
    "start_time": "2022-04-03T13:57:02.251Z"
   },
   {
    "duration": 5,
    "start_time": "2022-04-03T13:57:04.168Z"
   },
   {
    "duration": 7,
    "start_time": "2022-04-03T13:57:11.131Z"
   },
   {
    "duration": 17,
    "start_time": "2022-04-03T13:57:34.150Z"
   },
   {
    "duration": 16,
    "start_time": "2022-04-03T13:57:49.680Z"
   },
   {
    "duration": 18,
    "start_time": "2022-04-03T13:57:59.468Z"
   },
   {
    "duration": 20,
    "start_time": "2022-04-03T13:59:07.037Z"
   },
   {
    "duration": 7,
    "start_time": "2022-04-03T13:59:47.086Z"
   },
   {
    "duration": 7,
    "start_time": "2022-04-03T13:59:47.753Z"
   },
   {
    "duration": 16,
    "start_time": "2022-04-03T14:00:00.589Z"
   },
   {
    "duration": 6,
    "start_time": "2022-04-03T14:00:42.100Z"
   },
   {
    "duration": 6,
    "start_time": "2022-04-03T14:00:42.604Z"
   },
   {
    "duration": 6,
    "start_time": "2022-04-03T14:00:53.179Z"
   },
   {
    "duration": 17,
    "start_time": "2022-04-03T14:01:45.161Z"
   },
   {
    "duration": 6,
    "start_time": "2022-04-03T14:01:45.891Z"
   },
   {
    "duration": 5,
    "start_time": "2022-04-03T14:01:54.200Z"
   },
   {
    "duration": 5,
    "start_time": "2022-04-03T14:02:05.458Z"
   },
   {
    "duration": 8,
    "start_time": "2022-04-03T14:02:11.452Z"
   },
   {
    "duration": 43,
    "start_time": "2022-04-03T14:03:30.334Z"
   },
   {
    "duration": 3,
    "start_time": "2022-04-03T14:03:31.011Z"
   },
   {
    "duration": 12,
    "start_time": "2022-04-03T14:03:31.405Z"
   },
   {
    "duration": 15,
    "start_time": "2022-04-03T14:03:32.347Z"
   },
   {
    "duration": 13,
    "start_time": "2022-04-03T14:03:33.432Z"
   },
   {
    "duration": 13,
    "start_time": "2022-04-03T14:03:33.977Z"
   },
   {
    "duration": 5,
    "start_time": "2022-04-03T14:03:34.686Z"
   },
   {
    "duration": 7,
    "start_time": "2022-04-03T14:03:35.999Z"
   },
   {
    "duration": 4,
    "start_time": "2022-04-03T14:03:36.360Z"
   },
   {
    "duration": 11,
    "start_time": "2022-04-03T14:03:37.461Z"
   },
   {
    "duration": 11,
    "start_time": "2022-04-03T14:03:38.708Z"
   },
   {
    "duration": 7,
    "start_time": "2022-04-03T14:03:39.882Z"
   },
   {
    "duration": 8,
    "start_time": "2022-04-03T14:03:40.312Z"
   },
   {
    "duration": 6,
    "start_time": "2022-04-03T14:03:56.927Z"
   },
   {
    "duration": 17,
    "start_time": "2022-04-03T14:03:57.312Z"
   },
   {
    "duration": 5,
    "start_time": "2022-04-03T14:03:57.709Z"
   },
   {
    "duration": 5,
    "start_time": "2022-04-03T14:03:58.958Z"
   },
   {
    "duration": 6,
    "start_time": "2022-04-03T14:03:59.867Z"
   },
   {
    "duration": 12,
    "start_time": "2022-04-03T14:04:01.229Z"
   },
   {
    "duration": 6,
    "start_time": "2022-04-03T14:04:02.730Z"
   },
   {
    "duration": 8,
    "start_time": "2022-04-03T14:04:04.221Z"
   },
   {
    "duration": 6,
    "start_time": "2022-04-03T14:04:05.172Z"
   },
   {
    "duration": 3,
    "start_time": "2022-04-03T14:04:06.591Z"
   },
   {
    "duration": 12,
    "start_time": "2022-04-03T14:04:06.960Z"
   },
   {
    "duration": 5,
    "start_time": "2022-04-03T14:04:08.583Z"
   },
   {
    "duration": 6,
    "start_time": "2022-04-03T14:04:10.446Z"
   },
   {
    "duration": 10,
    "start_time": "2022-04-03T14:04:10.859Z"
   },
   {
    "duration": 7,
    "start_time": "2022-04-03T14:04:12.457Z"
   },
   {
    "duration": 5,
    "start_time": "2022-04-03T14:04:12.951Z"
   },
   {
    "duration": 6,
    "start_time": "2022-04-03T14:04:13.964Z"
   },
   {
    "duration": 7,
    "start_time": "2022-04-03T14:04:14.493Z"
   },
   {
    "duration": 8,
    "start_time": "2022-04-03T14:04:16.958Z"
   },
   {
    "duration": 6,
    "start_time": "2022-04-03T14:04:20.202Z"
   },
   {
    "duration": 7,
    "start_time": "2022-04-03T14:04:21.061Z"
   },
   {
    "duration": 15,
    "start_time": "2022-04-03T14:04:30.252Z"
   },
   {
    "duration": 7,
    "start_time": "2022-04-03T14:05:03.790Z"
   },
   {
    "duration": 14,
    "start_time": "2022-04-03T14:05:31.525Z"
   },
   {
    "duration": 7,
    "start_time": "2022-04-03T14:05:32.276Z"
   },
   {
    "duration": 16,
    "start_time": "2022-04-03T14:05:34.931Z"
   },
   {
    "duration": 16,
    "start_time": "2022-04-03T14:05:36.192Z"
   },
   {
    "duration": 15,
    "start_time": "2022-04-03T14:05:36.764Z"
   },
   {
    "duration": 3,
    "start_time": "2022-04-03T14:05:37.955Z"
   },
   {
    "duration": 14,
    "start_time": "2022-04-03T14:05:39.293Z"
   },
   {
    "duration": 9,
    "start_time": "2022-04-03T14:06:02.035Z"
   },
   {
    "duration": 497,
    "start_time": "2022-04-03T17:10:30.042Z"
   },
   {
    "duration": 9,
    "start_time": "2022-04-03T17:10:31.216Z"
   },
   {
    "duration": 17,
    "start_time": "2022-04-03T17:10:31.603Z"
   },
   {
    "duration": 16,
    "start_time": "2022-04-03T17:10:33.061Z"
   },
   {
    "duration": 14,
    "start_time": "2022-04-03T17:10:35.209Z"
   },
   {
    "duration": 14,
    "start_time": "2022-04-03T17:10:36.492Z"
   },
   {
    "duration": 5,
    "start_time": "2022-04-03T17:10:37.641Z"
   },
   {
    "duration": 6,
    "start_time": "2022-04-03T17:10:38.606Z"
   },
   {
    "duration": 4,
    "start_time": "2022-04-03T17:10:39.618Z"
   },
   {
    "duration": 11,
    "start_time": "2022-04-03T17:10:40.485Z"
   },
   {
    "duration": 12,
    "start_time": "2022-04-03T17:10:41.903Z"
   },
   {
    "duration": 7,
    "start_time": "2022-04-03T17:10:43.390Z"
   },
   {
    "duration": 9,
    "start_time": "2022-04-03T17:10:44.924Z"
   },
   {
    "duration": 6,
    "start_time": "2022-04-03T17:10:47.505Z"
   },
   {
    "duration": 18,
    "start_time": "2022-04-03T17:10:48.539Z"
   },
   {
    "duration": 6,
    "start_time": "2022-04-03T17:10:48.885Z"
   },
   {
    "duration": 6,
    "start_time": "2022-04-03T17:10:49.915Z"
   },
   {
    "duration": 7,
    "start_time": "2022-04-03T17:10:50.462Z"
   },
   {
    "duration": 16,
    "start_time": "2022-04-03T17:10:52.179Z"
   },
   {
    "duration": 7,
    "start_time": "2022-04-03T17:10:52.662Z"
   },
   {
    "duration": 9,
    "start_time": "2022-04-03T17:10:54.685Z"
   },
   {
    "duration": 6,
    "start_time": "2022-04-03T17:10:55.780Z"
   },
   {
    "duration": 3,
    "start_time": "2022-04-03T17:10:56.733Z"
   },
   {
    "duration": 14,
    "start_time": "2022-04-03T17:10:57.363Z"
   },
   {
    "duration": 5,
    "start_time": "2022-04-03T17:10:58.934Z"
   },
   {
    "duration": 6,
    "start_time": "2022-04-03T17:11:00.364Z"
   },
   {
    "duration": 9,
    "start_time": "2022-04-03T17:11:01.966Z"
   },
   {
    "duration": 7,
    "start_time": "2022-04-03T17:11:18.840Z"
   },
   {
    "duration": 5,
    "start_time": "2022-04-03T17:11:21.034Z"
   },
   {
    "duration": 5,
    "start_time": "2022-04-03T17:11:22.261Z"
   },
   {
    "duration": 7,
    "start_time": "2022-04-03T17:11:23.303Z"
   },
   {
    "duration": 7,
    "start_time": "2022-04-03T17:11:24.395Z"
   },
   {
    "duration": 7,
    "start_time": "2022-04-03T17:11:25.562Z"
   },
   {
    "duration": 7,
    "start_time": "2022-04-03T17:11:26.386Z"
   },
   {
    "duration": 5,
    "start_time": "2022-04-03T17:11:27.399Z"
   },
   {
    "duration": 10,
    "start_time": "2022-04-03T17:11:29.175Z"
   },
   {
    "duration": 17,
    "start_time": "2022-04-03T17:11:30.395Z"
   },
   {
    "duration": 7,
    "start_time": "2022-04-03T17:11:30.898Z"
   },
   {
    "duration": 17,
    "start_time": "2022-04-03T17:11:33.895Z"
   },
   {
    "duration": 17,
    "start_time": "2022-04-03T17:11:34.807Z"
   },
   {
    "duration": 18,
    "start_time": "2022-04-03T17:11:35.144Z"
   },
   {
    "duration": 4,
    "start_time": "2022-04-03T17:11:36.217Z"
   },
   {
    "duration": 16,
    "start_time": "2022-04-03T17:11:37.619Z"
   },
   {
    "duration": 10,
    "start_time": "2022-04-03T17:11:48.178Z"
   },
   {
    "duration": 4,
    "start_time": "2022-04-03T17:12:01.812Z"
   },
   {
    "duration": 5,
    "start_time": "2022-04-03T17:12:04.824Z"
   },
   {
    "duration": 8,
    "start_time": "2022-04-03T17:12:06.304Z"
   },
   {
    "duration": 5,
    "start_time": "2022-04-03T17:12:14.216Z"
   },
   {
    "duration": 8,
    "start_time": "2022-04-03T17:12:16.333Z"
   },
   {
    "duration": 13,
    "start_time": "2022-04-03T17:15:38.818Z"
   },
   {
    "duration": 21,
    "start_time": "2022-04-03T17:17:17.551Z"
   },
   {
    "duration": 18,
    "start_time": "2022-04-03T17:17:30.933Z"
   },
   {
    "duration": 12,
    "start_time": "2022-04-03T17:18:31.280Z"
   },
   {
    "duration": 11,
    "start_time": "2022-04-03T17:19:03.014Z"
   },
   {
    "duration": 11,
    "start_time": "2022-04-03T17:19:26.617Z"
   },
   {
    "duration": 13,
    "start_time": "2022-04-03T17:20:18.652Z"
   },
   {
    "duration": 11,
    "start_time": "2022-04-03T17:24:27.884Z"
   },
   {
    "duration": 13,
    "start_time": "2022-04-03T17:24:39.395Z"
   },
   {
    "duration": 12,
    "start_time": "2022-04-03T17:25:32.364Z"
   },
   {
    "duration": 16,
    "start_time": "2022-04-03T17:25:46.616Z"
   },
   {
    "duration": 12,
    "start_time": "2022-04-03T17:26:30.870Z"
   },
   {
    "duration": 11,
    "start_time": "2022-04-03T17:26:40.349Z"
   },
   {
    "duration": 13,
    "start_time": "2022-04-03T17:28:13.295Z"
   },
   {
    "duration": 14,
    "start_time": "2022-04-03T17:28:15.191Z"
   },
   {
    "duration": 11,
    "start_time": "2022-04-03T17:28:40.131Z"
   },
   {
    "duration": 19,
    "start_time": "2022-04-03T17:30:36.812Z"
   },
   {
    "duration": 12,
    "start_time": "2022-04-03T17:49:53.920Z"
   },
   {
    "duration": 32,
    "start_time": "2022-04-03T17:50:16.710Z"
   },
   {
    "duration": 17,
    "start_time": "2022-04-03T17:50:24.523Z"
   },
   {
    "duration": 85,
    "start_time": "2022-04-03T17:50:27.456Z"
   },
   {
    "duration": 18,
    "start_time": "2022-04-03T17:50:45.069Z"
   },
   {
    "duration": 18,
    "start_time": "2022-04-03T17:50:57.810Z"
   },
   {
    "duration": 4,
    "start_time": "2022-04-03T17:59:54.839Z"
   },
   {
    "duration": 8,
    "start_time": "2022-04-03T18:00:32.464Z"
   },
   {
    "duration": 29,
    "start_time": "2022-04-03T18:01:25.733Z"
   },
   {
    "duration": 56477,
    "start_time": "2022-04-03T18:01:41.346Z"
   },
   {
    "duration": 18,
    "start_time": "2022-04-03T18:05:35.857Z"
   },
   {
    "duration": 25,
    "start_time": "2022-04-03T18:06:58.905Z"
   },
   {
    "duration": 3608,
    "start_time": "2022-04-03T18:45:32.444Z"
   },
   {
    "duration": 14,
    "start_time": "2022-04-03T18:45:37.716Z"
   },
   {
    "duration": 12,
    "start_time": "2022-04-03T18:45:52.466Z"
   },
   {
    "duration": 14,
    "start_time": "2022-04-03T18:47:01.276Z"
   },
   {
    "duration": 15,
    "start_time": "2022-04-03T18:47:11.480Z"
   },
   {
    "duration": 19,
    "start_time": "2022-04-03T18:51:54.928Z"
   },
   {
    "duration": 3,
    "start_time": "2022-04-03T18:57:14.801Z"
   },
   {
    "duration": 5,
    "start_time": "2022-04-03T18:57:16.378Z"
   },
   {
    "duration": 5,
    "start_time": "2022-04-03T18:57:24.383Z"
   },
   {
    "duration": 8,
    "start_time": "2022-04-03T18:57:25.184Z"
   },
   {
    "duration": 20,
    "start_time": "2022-04-03T18:58:01.026Z"
   },
   {
    "duration": 18,
    "start_time": "2022-04-03T18:58:21.426Z"
   },
   {
    "duration": 5,
    "start_time": "2022-04-03T18:59:20.152Z"
   },
   {
    "duration": 9,
    "start_time": "2022-04-03T18:59:46.040Z"
   },
   {
    "duration": 5,
    "start_time": "2022-04-03T18:59:54.719Z"
   },
   {
    "duration": 14,
    "start_time": "2022-04-03T19:00:38.265Z"
   },
   {
    "duration": 12,
    "start_time": "2022-04-03T19:00:55.136Z"
   },
   {
    "duration": 11,
    "start_time": "2022-04-03T19:00:57.396Z"
   },
   {
    "duration": 6,
    "start_time": "2022-04-03T19:01:05.641Z"
   },
   {
    "duration": 13,
    "start_time": "2022-04-03T19:01:16.804Z"
   },
   {
    "duration": 6,
    "start_time": "2022-04-03T19:01:30.496Z"
   },
   {
    "duration": 19,
    "start_time": "2022-04-03T19:01:35.961Z"
   },
   {
    "duration": 0,
    "start_time": "2022-04-03T19:53:20.274Z"
   },
   {
    "duration": 5,
    "start_time": "2022-04-03T19:53:23.588Z"
   },
   {
    "duration": 8,
    "start_time": "2022-04-03T19:53:32.857Z"
   },
   {
    "duration": 8,
    "start_time": "2022-04-03T19:53:34.462Z"
   },
   {
    "duration": 17,
    "start_time": "2022-04-03T19:53:37.547Z"
   },
   {
    "duration": 5,
    "start_time": "2022-04-03T19:53:51.709Z"
   },
   {
    "duration": 6,
    "start_time": "2022-04-03T19:53:57.080Z"
   },
   {
    "duration": 5,
    "start_time": "2022-04-03T19:59:59.179Z"
   },
   {
    "duration": 2,
    "start_time": "2022-04-03T20:04:20.675Z"
   },
   {
    "duration": 10,
    "start_time": "2022-04-03T20:04:21.435Z"
   },
   {
    "duration": 13,
    "start_time": "2022-04-03T20:04:31.324Z"
   },
   {
    "duration": 7,
    "start_time": "2022-04-03T20:05:29.913Z"
   },
   {
    "duration": 7,
    "start_time": "2022-04-03T20:07:03.347Z"
   },
   {
    "duration": 6,
    "start_time": "2022-04-03T20:07:12.579Z"
   },
   {
    "duration": 13,
    "start_time": "2022-04-03T20:07:36.061Z"
   },
   {
    "duration": 11,
    "start_time": "2022-04-03T20:07:44.327Z"
   },
   {
    "duration": 3,
    "start_time": "2022-04-03T20:10:26.587Z"
   },
   {
    "duration": 10,
    "start_time": "2022-04-03T20:10:51.470Z"
   },
   {
    "duration": 6,
    "start_time": "2022-04-03T20:11:24.604Z"
   },
   {
    "duration": 8,
    "start_time": "2022-04-03T20:16:20.601Z"
   },
   {
    "duration": 4,
    "start_time": "2022-04-03T20:16:25.368Z"
   },
   {
    "duration": 8,
    "start_time": "2022-04-03T20:16:25.858Z"
   },
   {
    "duration": 5,
    "start_time": "2022-04-03T20:16:38.971Z"
   },
   {
    "duration": 3,
    "start_time": "2022-04-03T20:16:58.095Z"
   },
   {
    "duration": 8,
    "start_time": "2022-04-03T20:16:58.690Z"
   },
   {
    "duration": 5,
    "start_time": "2022-04-03T20:16:59.389Z"
   },
   {
    "duration": 17,
    "start_time": "2022-04-03T20:17:08.822Z"
   },
   {
    "duration": 4,
    "start_time": "2022-04-03T20:17:27.010Z"
   },
   {
    "duration": 9,
    "start_time": "2022-04-03T20:17:27.908Z"
   },
   {
    "duration": 6,
    "start_time": "2022-04-03T20:17:28.601Z"
   },
   {
    "duration": 18,
    "start_time": "2022-04-03T20:17:31.828Z"
   },
   {
    "duration": 47,
    "start_time": "2022-04-03T20:17:49.945Z"
   },
   {
    "duration": 4,
    "start_time": "2022-04-03T20:18:05.744Z"
   },
   {
    "duration": 9,
    "start_time": "2022-04-03T20:18:06.694Z"
   },
   {
    "duration": 5,
    "start_time": "2022-04-03T20:18:07.173Z"
   },
   {
    "duration": 5,
    "start_time": "2022-04-03T20:18:44.573Z"
   },
   {
    "duration": 8,
    "start_time": "2022-04-03T20:20:03.049Z"
   },
   {
    "duration": 10,
    "start_time": "2022-04-03T20:21:09.429Z"
   },
   {
    "duration": 165,
    "start_time": "2022-04-03T20:23:54.664Z"
   },
   {
    "duration": 6,
    "start_time": "2022-04-03T20:24:02.904Z"
   },
   {
    "duration": 6,
    "start_time": "2022-04-03T20:24:16.295Z"
   },
   {
    "duration": 7,
    "start_time": "2022-04-03T20:24:22.433Z"
   },
   {
    "duration": 5,
    "start_time": "2022-04-03T20:24:42.915Z"
   },
   {
    "duration": 6,
    "start_time": "2022-04-03T20:24:47.604Z"
   },
   {
    "duration": 7,
    "start_time": "2022-04-03T20:27:21.158Z"
   },
   {
    "duration": 8,
    "start_time": "2022-04-03T20:28:07.886Z"
   },
   {
    "duration": 4,
    "start_time": "2022-04-03T20:28:30.419Z"
   },
   {
    "duration": 7,
    "start_time": "2022-04-03T20:28:37.620Z"
   },
   {
    "duration": 4,
    "start_time": "2022-04-03T20:28:46.946Z"
   },
   {
    "duration": 6,
    "start_time": "2022-04-03T20:29:10.190Z"
   },
   {
    "duration": 26,
    "start_time": "2022-04-03T20:29:28.552Z"
   },
   {
    "duration": 10,
    "start_time": "2022-04-03T20:30:02.409Z"
   },
   {
    "duration": 9,
    "start_time": "2022-04-03T20:30:18.295Z"
   },
   {
    "duration": 27,
    "start_time": "2022-04-03T20:30:33.683Z"
   },
   {
    "duration": 19,
    "start_time": "2022-04-03T20:30:44.454Z"
   },
   {
    "duration": 16,
    "start_time": "2022-04-03T20:30:55.011Z"
   },
   {
    "duration": 9,
    "start_time": "2022-04-03T20:31:05.257Z"
   },
   {
    "duration": 9,
    "start_time": "2022-04-03T20:31:11.376Z"
   },
   {
    "duration": 9,
    "start_time": "2022-04-03T20:31:14.796Z"
   },
   {
    "duration": 5,
    "start_time": "2022-04-03T20:32:12.846Z"
   },
   {
    "duration": 5,
    "start_time": "2022-04-03T20:32:26.758Z"
   },
   {
    "duration": 5,
    "start_time": "2022-04-03T20:32:30.947Z"
   },
   {
    "duration": 2748,
    "start_time": "2022-04-03T20:33:04.425Z"
   },
   {
    "duration": 12,
    "start_time": "2022-04-03T20:33:16.275Z"
   },
   {
    "duration": 5,
    "start_time": "2022-04-03T20:34:29.325Z"
   },
   {
    "duration": 4,
    "start_time": "2022-04-03T20:34:32.263Z"
   },
   {
    "duration": 11,
    "start_time": "2022-04-03T20:34:40.447Z"
   },
   {
    "duration": 6,
    "start_time": "2022-04-03T20:35:06.396Z"
   },
   {
    "duration": 13,
    "start_time": "2022-04-03T20:35:43.571Z"
   },
   {
    "duration": 3,
    "start_time": "2022-04-03T20:35:54.758Z"
   },
   {
    "duration": 5,
    "start_time": "2022-04-03T20:36:24.514Z"
   },
   {
    "duration": 6,
    "start_time": "2022-04-03T20:37:28.406Z"
   },
   {
    "duration": 7,
    "start_time": "2022-04-03T20:37:37.691Z"
   },
   {
    "duration": 7,
    "start_time": "2022-04-03T20:38:24.204Z"
   },
   {
    "duration": 5,
    "start_time": "2022-04-03T20:39:04.035Z"
   },
   {
    "duration": 7,
    "start_time": "2022-04-03T20:39:39.270Z"
   },
   {
    "duration": 6,
    "start_time": "2022-04-03T20:39:41.720Z"
   },
   {
    "duration": 8,
    "start_time": "2022-04-03T20:40:06.986Z"
   },
   {
    "duration": 6,
    "start_time": "2022-04-03T20:40:10.769Z"
   },
   {
    "duration": 5,
    "start_time": "2022-04-03T20:40:22.326Z"
   },
   {
    "duration": 7,
    "start_time": "2022-04-03T20:40:45.097Z"
   },
   {
    "duration": 9,
    "start_time": "2022-04-03T20:41:21.946Z"
   },
   {
    "duration": 6,
    "start_time": "2022-04-03T20:42:38.752Z"
   },
   {
    "duration": 8,
    "start_time": "2022-04-03T20:43:03.652Z"
   },
   {
    "duration": 7,
    "start_time": "2022-04-03T20:43:15.197Z"
   },
   {
    "duration": 6,
    "start_time": "2022-04-03T20:43:48.865Z"
   },
   {
    "duration": 7,
    "start_time": "2022-04-03T20:44:28.030Z"
   },
   {
    "duration": 7,
    "start_time": "2022-04-03T20:44:46.380Z"
   },
   {
    "duration": 7,
    "start_time": "2022-04-03T20:46:47.888Z"
   },
   {
    "duration": 8,
    "start_time": "2022-04-03T20:47:35.346Z"
   },
   {
    "duration": 7,
    "start_time": "2022-04-03T20:49:18.345Z"
   },
   {
    "duration": 8,
    "start_time": "2022-04-03T20:50:42.480Z"
   },
   {
    "duration": 7,
    "start_time": "2022-04-03T20:50:55.255Z"
   },
   {
    "duration": 8,
    "start_time": "2022-04-03T20:52:14.565Z"
   },
   {
    "duration": 9,
    "start_time": "2022-04-03T20:52:32.456Z"
   },
   {
    "duration": 513,
    "start_time": "2022-04-03T21:05:32.309Z"
   },
   {
    "duration": 11,
    "start_time": "2022-04-03T21:05:32.824Z"
   },
   {
    "duration": 32,
    "start_time": "2022-04-03T21:05:32.837Z"
   },
   {
    "duration": 18,
    "start_time": "2022-04-03T21:05:32.872Z"
   },
   {
    "duration": 15,
    "start_time": "2022-04-03T21:05:32.892Z"
   },
   {
    "duration": 39,
    "start_time": "2022-04-03T21:05:32.909Z"
   },
   {
    "duration": 7,
    "start_time": "2022-04-03T21:05:32.950Z"
   },
   {
    "duration": 10,
    "start_time": "2022-04-03T21:05:32.959Z"
   },
   {
    "duration": 5,
    "start_time": "2022-04-03T21:05:32.971Z"
   },
   {
    "duration": 20,
    "start_time": "2022-04-03T21:05:32.978Z"
   },
   {
    "duration": 13,
    "start_time": "2022-04-03T21:05:32.999Z"
   },
   {
    "duration": 19,
    "start_time": "2022-04-03T21:05:33.032Z"
   },
   {
    "duration": 14,
    "start_time": "2022-04-03T21:05:33.053Z"
   },
   {
    "duration": 10,
    "start_time": "2022-04-03T21:05:33.069Z"
   },
   {
    "duration": 22,
    "start_time": "2022-04-03T21:05:33.080Z"
   },
   {
    "duration": 6,
    "start_time": "2022-04-03T21:05:33.103Z"
   },
   {
    "duration": 27,
    "start_time": "2022-04-03T21:05:33.111Z"
   },
   {
    "duration": 16,
    "start_time": "2022-04-03T21:05:33.140Z"
   },
   {
    "duration": 17,
    "start_time": "2022-04-03T21:05:33.158Z"
   },
   {
    "duration": 7,
    "start_time": "2022-04-03T21:05:33.177Z"
   },
   {
    "duration": 14,
    "start_time": "2022-04-03T21:05:33.186Z"
   },
   {
    "duration": 36,
    "start_time": "2022-04-03T21:05:33.202Z"
   },
   {
    "duration": 5,
    "start_time": "2022-04-03T21:05:33.244Z"
   },
   {
    "duration": 14,
    "start_time": "2022-04-03T21:05:33.251Z"
   },
   {
    "duration": 5,
    "start_time": "2022-04-03T21:05:33.267Z"
   },
   {
    "duration": 9,
    "start_time": "2022-04-03T21:05:33.274Z"
   },
   {
    "duration": 12,
    "start_time": "2022-04-03T21:05:33.284Z"
   },
   {
    "duration": 9,
    "start_time": "2022-04-03T21:05:33.332Z"
   },
   {
    "duration": 12,
    "start_time": "2022-04-03T21:05:33.343Z"
   },
   {
    "duration": 9,
    "start_time": "2022-04-03T21:05:33.356Z"
   },
   {
    "duration": 8,
    "start_time": "2022-04-03T21:05:33.366Z"
   },
   {
    "duration": 10,
    "start_time": "2022-04-03T21:05:33.376Z"
   },
   {
    "duration": 8,
    "start_time": "2022-04-03T21:05:33.388Z"
   },
   {
    "duration": 37,
    "start_time": "2022-04-03T21:05:33.398Z"
   },
   {
    "duration": 17,
    "start_time": "2022-04-03T21:05:33.438Z"
   },
   {
    "duration": 17,
    "start_time": "2022-04-03T21:05:33.457Z"
   },
   {
    "duration": 26,
    "start_time": "2022-04-03T21:05:33.476Z"
   },
   {
    "duration": 8,
    "start_time": "2022-04-03T21:05:33.503Z"
   },
   {
    "duration": 40,
    "start_time": "2022-04-03T21:05:33.512Z"
   },
   {
    "duration": 26,
    "start_time": "2022-04-03T21:05:33.554Z"
   },
   {
    "duration": 17,
    "start_time": "2022-04-03T21:05:33.583Z"
   },
   {
    "duration": 5,
    "start_time": "2022-04-03T21:05:33.601Z"
   },
   {
    "duration": 43,
    "start_time": "2022-04-03T21:05:33.607Z"
   },
   {
    "duration": 11,
    "start_time": "2022-04-03T21:05:33.652Z"
   },
   {
    "duration": 7,
    "start_time": "2022-04-03T21:05:33.665Z"
   },
   {
    "duration": 9,
    "start_time": "2022-04-03T21:05:33.674Z"
   },
   {
    "duration": 10,
    "start_time": "2022-04-03T21:05:33.685Z"
   },
   {
    "duration": 10,
    "start_time": "2022-04-03T21:05:33.697Z"
   },
   {
    "duration": 16,
    "start_time": "2022-04-03T21:05:33.733Z"
   },
   {
    "duration": 22,
    "start_time": "2022-04-03T21:05:33.751Z"
   },
   {
    "duration": 13,
    "start_time": "2022-04-03T21:05:33.775Z"
   },
   {
    "duration": 15,
    "start_time": "2022-04-03T21:05:33.789Z"
   },
   {
    "duration": 40,
    "start_time": "2022-04-03T21:05:33.805Z"
   },
   {
    "duration": 16,
    "start_time": "2022-04-03T21:05:33.848Z"
   },
   {
    "duration": 13,
    "start_time": "2022-04-03T21:05:33.866Z"
   },
   {
    "duration": 17,
    "start_time": "2022-04-03T21:05:33.882Z"
   },
   {
    "duration": 48,
    "start_time": "2022-04-03T21:05:33.901Z"
   },
   {
    "duration": 21,
    "start_time": "2022-04-03T21:05:33.951Z"
   },
   {
    "duration": 16,
    "start_time": "2022-04-03T21:05:33.974Z"
   },
   {
    "duration": 3,
    "start_time": "2022-04-03T21:05:33.992Z"
   },
   {
    "duration": 8,
    "start_time": "2022-04-03T21:05:33.997Z"
   },
   {
    "duration": 13,
    "start_time": "2022-04-03T21:05:34.031Z"
   },
   {
    "duration": 25,
    "start_time": "2022-04-03T21:05:34.046Z"
   },
   {
    "duration": 12,
    "start_time": "2022-04-03T21:05:34.072Z"
   },
   {
    "duration": 13,
    "start_time": "2022-04-03T21:05:34.086Z"
   },
   {
    "duration": 46,
    "start_time": "2022-04-03T21:05:34.100Z"
   },
   {
    "duration": 17,
    "start_time": "2022-04-03T21:05:34.148Z"
   },
   {
    "duration": 13,
    "start_time": "2022-04-03T21:05:34.167Z"
   },
   {
    "duration": 3,
    "start_time": "2022-04-03T21:05:34.181Z"
   },
   {
    "duration": 7,
    "start_time": "2022-04-03T21:05:34.186Z"
   },
   {
    "duration": 41,
    "start_time": "2022-04-03T21:05:34.195Z"
   },
   {
    "duration": 5,
    "start_time": "2022-04-03T21:05:34.238Z"
   },
   {
    "duration": 29,
    "start_time": "2022-04-03T21:05:34.245Z"
   },
   {
    "duration": 5,
    "start_time": "2022-04-03T21:05:34.276Z"
   },
   {
    "duration": 6,
    "start_time": "2022-04-03T21:05:34.283Z"
   },
   {
    "duration": 14,
    "start_time": "2022-04-03T21:05:34.290Z"
   },
   {
    "duration": 34,
    "start_time": "2022-04-03T21:05:34.307Z"
   },
   {
    "duration": 4,
    "start_time": "2022-04-03T21:05:34.344Z"
   },
   {
    "duration": 17,
    "start_time": "2022-04-03T21:05:34.350Z"
   },
   {
    "duration": 7,
    "start_time": "2022-04-03T21:05:34.370Z"
   },
   {
    "duration": 5,
    "start_time": "2022-04-03T21:05:34.379Z"
   },
   {
    "duration": 10,
    "start_time": "2022-04-03T21:05:34.390Z"
   },
   {
    "duration": 11,
    "start_time": "2022-04-03T21:05:34.437Z"
   },
   {
    "duration": 8,
    "start_time": "2022-04-03T21:05:34.450Z"
   },
   {
    "duration": 24,
    "start_time": "2022-04-03T21:05:34.460Z"
   },
   {
    "duration": 5,
    "start_time": "2022-04-03T21:05:34.486Z"
   },
   {
    "duration": 8,
    "start_time": "2022-04-03T21:05:34.493Z"
   },
   {
    "duration": 61,
    "start_time": "2022-04-03T21:05:34.502Z"
   },
   {
    "duration": 8,
    "start_time": "2022-04-03T21:05:34.565Z"
   },
   {
    "duration": 11,
    "start_time": "2022-04-03T21:05:34.575Z"
   },
   {
    "duration": 8,
    "start_time": "2022-04-03T21:05:34.587Z"
   },
   {
    "duration": 14,
    "start_time": "2022-04-03T21:05:34.596Z"
   },
   {
    "duration": 8,
    "start_time": "2022-04-03T21:05:34.611Z"
   },
   {
    "duration": 10,
    "start_time": "2022-04-03T21:05:34.620Z"
   },
   {
    "duration": 23,
    "start_time": "2022-04-03T21:05:34.634Z"
   },
   {
    "duration": 11,
    "start_time": "2022-04-03T21:05:34.660Z"
   },
   {
    "duration": 71,
    "start_time": "2022-04-04T14:05:11.318Z"
   },
   {
    "duration": 562,
    "start_time": "2022-04-04T14:05:15.513Z"
   },
   {
    "duration": 12,
    "start_time": "2022-04-04T14:05:16.078Z"
   },
   {
    "duration": 25,
    "start_time": "2022-04-04T14:05:16.092Z"
   },
   {
    "duration": 21,
    "start_time": "2022-04-04T14:05:16.119Z"
   },
   {
    "duration": 48,
    "start_time": "2022-04-04T14:05:16.143Z"
   },
   {
    "duration": 29,
    "start_time": "2022-04-04T14:05:16.193Z"
   },
   {
    "duration": 7,
    "start_time": "2022-04-04T14:05:16.224Z"
   },
   {
    "duration": 11,
    "start_time": "2022-04-04T14:05:16.233Z"
   },
   {
    "duration": 5,
    "start_time": "2022-04-04T14:05:16.246Z"
   },
   {
    "duration": 15,
    "start_time": "2022-04-04T14:05:16.284Z"
   },
   {
    "duration": 15,
    "start_time": "2022-04-04T14:05:16.302Z"
   },
   {
    "duration": 16,
    "start_time": "2022-04-04T14:05:16.319Z"
   },
   {
    "duration": 16,
    "start_time": "2022-04-04T14:05:16.337Z"
   },
   {
    "duration": 7,
    "start_time": "2022-04-04T14:05:16.387Z"
   },
   {
    "duration": 24,
    "start_time": "2022-04-04T14:05:16.396Z"
   },
   {
    "duration": 7,
    "start_time": "2022-04-04T14:05:16.422Z"
   },
   {
    "duration": 10,
    "start_time": "2022-04-04T14:05:16.431Z"
   },
   {
    "duration": 45,
    "start_time": "2022-04-04T14:05:16.443Z"
   },
   {
    "duration": 23,
    "start_time": "2022-04-04T14:05:16.490Z"
   },
   {
    "duration": 7,
    "start_time": "2022-04-04T14:05:16.515Z"
   },
   {
    "duration": 14,
    "start_time": "2022-04-04T14:05:16.525Z"
   },
   {
    "duration": 9,
    "start_time": "2022-04-04T14:05:16.541Z"
   },
   {
    "duration": 38,
    "start_time": "2022-04-04T14:05:16.551Z"
   },
   {
    "duration": 6,
    "start_time": "2022-04-04T14:05:16.591Z"
   },
   {
    "duration": 16,
    "start_time": "2022-04-04T14:05:16.599Z"
   },
   {
    "duration": 6,
    "start_time": "2022-04-04T14:05:16.618Z"
   },
   {
    "duration": 67,
    "start_time": "2022-04-04T14:05:16.627Z"
   },
   {
    "duration": 12,
    "start_time": "2022-04-04T14:05:16.696Z"
   },
   {
    "duration": 9,
    "start_time": "2022-04-04T14:05:16.710Z"
   },
   {
    "duration": 6,
    "start_time": "2022-04-04T14:05:16.721Z"
   },
   {
    "duration": 13,
    "start_time": "2022-04-04T14:05:16.729Z"
   },
   {
    "duration": 41,
    "start_time": "2022-04-04T14:05:16.744Z"
   },
   {
    "duration": 9,
    "start_time": "2022-04-04T14:05:16.787Z"
   },
   {
    "duration": 10,
    "start_time": "2022-04-04T14:05:16.798Z"
   },
   {
    "duration": 9,
    "start_time": "2022-04-04T14:05:16.810Z"
   },
   {
    "duration": 16,
    "start_time": "2022-04-04T14:05:16.821Z"
   },
   {
    "duration": 15,
    "start_time": "2022-04-04T14:05:16.839Z"
   },
   {
    "duration": 24,
    "start_time": "2022-04-04T14:05:16.884Z"
   },
   {
    "duration": 8,
    "start_time": "2022-04-04T14:05:16.910Z"
   },
   {
    "duration": 50,
    "start_time": "2022-04-04T14:05:16.920Z"
   },
   {
    "duration": 25,
    "start_time": "2022-04-04T14:05:16.983Z"
   },
   {
    "duration": 26,
    "start_time": "2022-04-04T14:05:17.010Z"
   },
   {
    "duration": 5,
    "start_time": "2022-04-04T14:05:17.038Z"
   },
   {
    "duration": 52,
    "start_time": "2022-04-04T14:05:17.045Z"
   },
   {
    "duration": 15,
    "start_time": "2022-04-04T14:05:17.099Z"
   },
   {
    "duration": 13,
    "start_time": "2022-04-04T14:05:17.116Z"
   },
   {
    "duration": 15,
    "start_time": "2022-04-04T14:05:17.131Z"
   },
   {
    "duration": 36,
    "start_time": "2022-04-04T14:05:17.148Z"
   },
   {
    "duration": 17,
    "start_time": "2022-04-04T14:05:17.186Z"
   },
   {
    "duration": 38,
    "start_time": "2022-04-04T14:05:17.205Z"
   },
   {
    "duration": 46,
    "start_time": "2022-04-04T14:05:17.245Z"
   },
   {
    "duration": 15,
    "start_time": "2022-04-04T14:05:17.294Z"
   },
   {
    "duration": 17,
    "start_time": "2022-04-04T14:05:17.311Z"
   },
   {
    "duration": 14,
    "start_time": "2022-04-04T14:05:17.330Z"
   },
   {
    "duration": 51,
    "start_time": "2022-04-04T14:05:17.347Z"
   },
   {
    "duration": 15,
    "start_time": "2022-04-04T14:05:17.400Z"
   },
   {
    "duration": 30,
    "start_time": "2022-04-04T14:05:17.417Z"
   },
   {
    "duration": 38,
    "start_time": "2022-04-04T14:05:17.449Z"
   },
   {
    "duration": 16,
    "start_time": "2022-04-04T14:05:17.490Z"
   },
   {
    "duration": 20,
    "start_time": "2022-04-04T14:05:17.508Z"
   },
   {
    "duration": 12,
    "start_time": "2022-04-04T14:05:17.531Z"
   },
   {
    "duration": 41,
    "start_time": "2022-04-04T14:05:17.545Z"
   },
   {
    "duration": 26,
    "start_time": "2022-04-04T14:05:17.589Z"
   },
   {
    "duration": 30,
    "start_time": "2022-04-04T14:05:17.618Z"
   },
   {
    "duration": 15,
    "start_time": "2022-04-04T14:05:17.651Z"
   },
   {
    "duration": 34,
    "start_time": "2022-04-04T14:05:17.668Z"
   },
   {
    "duration": 19,
    "start_time": "2022-04-04T14:05:17.704Z"
   },
   {
    "duration": 17,
    "start_time": "2022-04-04T14:05:17.725Z"
   },
   {
    "duration": 47,
    "start_time": "2022-04-04T14:05:17.744Z"
   },
   {
    "duration": 5,
    "start_time": "2022-04-04T14:05:17.793Z"
   },
   {
    "duration": 11,
    "start_time": "2022-04-04T14:05:17.800Z"
   },
   {
    "duration": 19,
    "start_time": "2022-04-04T14:05:17.813Z"
   },
   {
    "duration": 11,
    "start_time": "2022-04-04T14:05:17.834Z"
   },
   {
    "duration": 49,
    "start_time": "2022-04-04T14:05:17.848Z"
   },
   {
    "duration": 8,
    "start_time": "2022-04-04T14:05:17.899Z"
   },
   {
    "duration": 7,
    "start_time": "2022-04-04T14:05:17.910Z"
   },
   {
    "duration": 23,
    "start_time": "2022-04-04T14:05:17.919Z"
   },
   {
    "duration": 10,
    "start_time": "2022-04-04T14:05:17.944Z"
   },
   {
    "duration": 29,
    "start_time": "2022-04-04T14:05:17.957Z"
   },
   {
    "duration": 17,
    "start_time": "2022-04-04T14:05:17.988Z"
   },
   {
    "duration": 17,
    "start_time": "2022-04-04T14:05:18.007Z"
   },
   {
    "duration": 10,
    "start_time": "2022-04-04T14:05:18.026Z"
   },
   {
    "duration": 17,
    "start_time": "2022-04-04T14:05:18.039Z"
   },
   {
    "duration": 30,
    "start_time": "2022-04-04T14:05:18.058Z"
   },
   {
    "duration": 13,
    "start_time": "2022-04-04T14:05:18.091Z"
   },
   {
    "duration": 24,
    "start_time": "2022-04-04T14:05:18.106Z"
   },
   {
    "duration": 10,
    "start_time": "2022-04-04T14:05:18.132Z"
   },
   {
    "duration": 10,
    "start_time": "2022-04-04T14:05:18.145Z"
   },
   {
    "duration": 10,
    "start_time": "2022-04-04T14:05:18.184Z"
   },
   {
    "duration": 10,
    "start_time": "2022-04-04T14:05:18.197Z"
   },
   {
    "duration": 12,
    "start_time": "2022-04-04T14:05:18.210Z"
   },
   {
    "duration": 62,
    "start_time": "2022-04-04T14:05:18.224Z"
   },
   {
    "duration": 9,
    "start_time": "2022-04-04T14:05:18.288Z"
   },
   {
    "duration": 12,
    "start_time": "2022-04-04T14:05:18.299Z"
   },
   {
    "duration": 14,
    "start_time": "2022-04-04T14:05:18.313Z"
   },
   {
    "duration": 15,
    "start_time": "2022-04-04T14:05:18.329Z"
   },
   {
    "duration": 9,
    "start_time": "2022-04-04T14:06:32.560Z"
   },
   {
    "duration": 598,
    "start_time": "2022-04-04T14:06:47.182Z"
   },
   {
    "duration": 13,
    "start_time": "2022-04-04T14:06:47.782Z"
   },
   {
    "duration": 43,
    "start_time": "2022-04-04T14:06:47.797Z"
   },
   {
    "duration": 22,
    "start_time": "2022-04-04T14:06:47.843Z"
   },
   {
    "duration": 29,
    "start_time": "2022-04-04T14:06:47.868Z"
   },
   {
    "duration": 20,
    "start_time": "2022-04-04T14:06:47.899Z"
   },
   {
    "duration": 7,
    "start_time": "2022-04-04T14:06:47.922Z"
   },
   {
    "duration": 9,
    "start_time": "2022-04-04T14:06:47.931Z"
   },
   {
    "duration": 42,
    "start_time": "2022-04-04T14:06:47.943Z"
   },
   {
    "duration": 16,
    "start_time": "2022-04-04T14:06:47.988Z"
   },
   {
    "duration": 16,
    "start_time": "2022-04-04T14:06:48.006Z"
   },
   {
    "duration": 14,
    "start_time": "2022-04-04T14:06:48.024Z"
   },
   {
    "duration": 52,
    "start_time": "2022-04-04T14:06:48.040Z"
   },
   {
    "duration": 8,
    "start_time": "2022-04-04T14:06:48.098Z"
   },
   {
    "duration": 31,
    "start_time": "2022-04-04T14:06:48.109Z"
   },
   {
    "duration": 41,
    "start_time": "2022-04-04T14:06:48.143Z"
   },
   {
    "duration": 10,
    "start_time": "2022-04-04T14:06:48.186Z"
   },
   {
    "duration": 9,
    "start_time": "2022-04-04T14:06:48.198Z"
   },
   {
    "duration": 21,
    "start_time": "2022-04-04T14:06:48.210Z"
   },
   {
    "duration": 8,
    "start_time": "2022-04-04T14:06:48.234Z"
   },
   {
    "duration": 11,
    "start_time": "2022-04-04T14:06:48.285Z"
   },
   {
    "duration": 9,
    "start_time": "2022-04-04T14:06:48.298Z"
   },
   {
    "duration": 9,
    "start_time": "2022-04-04T14:06:48.309Z"
   },
   {
    "duration": 6,
    "start_time": "2022-04-04T14:06:48.320Z"
   },
   {
    "duration": 8,
    "start_time": "2022-04-04T14:06:48.328Z"
   },
   {
    "duration": 14,
    "start_time": "2022-04-04T14:06:48.383Z"
   },
   {
    "duration": 9,
    "start_time": "2022-04-04T14:06:48.400Z"
   },
   {
    "duration": 17,
    "start_time": "2022-04-04T14:06:48.411Z"
   },
   {
    "duration": 14,
    "start_time": "2022-04-04T14:06:48.430Z"
   },
   {
    "duration": 38,
    "start_time": "2022-04-04T14:06:48.446Z"
   },
   {
    "duration": 7,
    "start_time": "2022-04-04T14:06:48.486Z"
   },
   {
    "duration": 12,
    "start_time": "2022-04-04T14:06:48.495Z"
   },
   {
    "duration": 11,
    "start_time": "2022-04-04T14:06:48.509Z"
   },
   {
    "duration": 12,
    "start_time": "2022-04-04T14:06:48.522Z"
   },
   {
    "duration": 48,
    "start_time": "2022-04-04T14:06:48.536Z"
   },
   {
    "duration": 17,
    "start_time": "2022-04-04T14:06:48.586Z"
   },
   {
    "duration": 23,
    "start_time": "2022-04-04T14:06:48.605Z"
   },
   {
    "duration": 14,
    "start_time": "2022-04-04T14:06:48.630Z"
   },
   {
    "duration": 26,
    "start_time": "2022-04-04T14:06:48.646Z"
   },
   {
    "duration": 11,
    "start_time": "2022-04-04T14:06:48.684Z"
   },
   {
    "duration": 30,
    "start_time": "2022-04-04T14:06:48.706Z"
   },
   {
    "duration": 61,
    "start_time": "2022-04-04T14:06:48.739Z"
   },
   {
    "duration": 25,
    "start_time": "2022-04-04T14:06:48.802Z"
   },
   {
    "duration": 5,
    "start_time": "2022-04-04T14:06:48.829Z"
   },
   {
    "duration": 49,
    "start_time": "2022-04-04T14:06:48.836Z"
   },
   {
    "duration": 15,
    "start_time": "2022-04-04T14:06:48.887Z"
   },
   {
    "duration": 8,
    "start_time": "2022-04-04T14:06:48.904Z"
   },
   {
    "duration": 18,
    "start_time": "2022-04-04T14:06:48.914Z"
   },
   {
    "duration": 16,
    "start_time": "2022-04-04T14:06:48.934Z"
   },
   {
    "duration": 33,
    "start_time": "2022-04-04T14:06:48.952Z"
   },
   {
    "duration": 9,
    "start_time": "2022-04-04T14:06:48.987Z"
   },
   {
    "duration": 36,
    "start_time": "2022-04-04T14:06:48.998Z"
   },
   {
    "duration": 48,
    "start_time": "2022-04-04T14:06:49.036Z"
   },
   {
    "duration": 22,
    "start_time": "2022-04-04T14:06:49.087Z"
   },
   {
    "duration": 17,
    "start_time": "2022-04-04T14:06:49.112Z"
   },
   {
    "duration": 15,
    "start_time": "2022-04-04T14:06:49.132Z"
   },
   {
    "duration": 15,
    "start_time": "2022-04-04T14:06:49.183Z"
   },
   {
    "duration": 16,
    "start_time": "2022-04-04T14:06:49.201Z"
   },
   {
    "duration": 18,
    "start_time": "2022-04-04T14:06:49.219Z"
   },
   {
    "duration": 52,
    "start_time": "2022-04-04T14:06:49.239Z"
   },
   {
    "duration": 19,
    "start_time": "2022-04-04T14:06:49.294Z"
   },
   {
    "duration": 4,
    "start_time": "2022-04-04T14:06:49.315Z"
   },
   {
    "duration": 16,
    "start_time": "2022-04-04T14:06:49.321Z"
   },
   {
    "duration": 46,
    "start_time": "2022-04-04T14:06:49.340Z"
   },
   {
    "duration": 25,
    "start_time": "2022-04-04T14:06:49.388Z"
   },
   {
    "duration": 16,
    "start_time": "2022-04-04T14:06:49.416Z"
   },
   {
    "duration": 50,
    "start_time": "2022-04-04T14:06:49.435Z"
   },
   {
    "duration": 26,
    "start_time": "2022-04-04T14:06:49.488Z"
   },
   {
    "duration": 18,
    "start_time": "2022-04-04T14:06:49.516Z"
   },
   {
    "duration": 51,
    "start_time": "2022-04-04T14:06:49.536Z"
   },
   {
    "duration": 4,
    "start_time": "2022-04-04T14:06:49.589Z"
   },
   {
    "duration": 11,
    "start_time": "2022-04-04T14:06:49.595Z"
   },
   {
    "duration": 14,
    "start_time": "2022-04-04T14:06:49.608Z"
   },
   {
    "duration": 15,
    "start_time": "2022-04-04T14:06:49.624Z"
   },
   {
    "duration": 60,
    "start_time": "2022-04-04T14:06:49.642Z"
   },
   {
    "duration": 7,
    "start_time": "2022-04-04T14:06:49.705Z"
   },
   {
    "duration": 10,
    "start_time": "2022-04-04T14:06:49.715Z"
   },
   {
    "duration": 22,
    "start_time": "2022-04-04T14:06:49.727Z"
   },
   {
    "duration": 42,
    "start_time": "2022-04-04T14:06:49.751Z"
   },
   {
    "duration": 5,
    "start_time": "2022-04-04T14:06:49.795Z"
   },
   {
    "duration": 23,
    "start_time": "2022-04-04T14:06:49.802Z"
   },
   {
    "duration": 12,
    "start_time": "2022-04-04T14:06:49.827Z"
   },
   {
    "duration": 5,
    "start_time": "2022-04-04T14:06:49.842Z"
   },
   {
    "duration": 13,
    "start_time": "2022-04-04T14:06:49.885Z"
   },
   {
    "duration": 21,
    "start_time": "2022-04-04T14:06:49.900Z"
   },
   {
    "duration": 16,
    "start_time": "2022-04-04T14:06:49.923Z"
   },
   {
    "duration": 16,
    "start_time": "2022-04-04T14:06:49.942Z"
   },
   {
    "duration": 28,
    "start_time": "2022-04-04T14:06:49.961Z"
   },
   {
    "duration": 10,
    "start_time": "2022-04-04T14:06:49.991Z"
   },
   {
    "duration": 12,
    "start_time": "2022-04-04T14:06:50.003Z"
   },
   {
    "duration": 30,
    "start_time": "2022-04-04T14:06:50.017Z"
   },
   {
    "duration": 41,
    "start_time": "2022-04-04T14:06:50.049Z"
   },
   {
    "duration": 25,
    "start_time": "2022-04-04T14:06:50.092Z"
   },
   {
    "duration": 20,
    "start_time": "2022-04-04T14:06:50.119Z"
   },
   {
    "duration": 51,
    "start_time": "2022-04-04T14:06:50.142Z"
   },
   {
    "duration": 19,
    "start_time": "2022-04-04T14:06:50.195Z"
   },
   {
    "duration": 33,
    "start_time": "2022-04-04T14:06:50.217Z"
   },
   {
    "duration": 7,
    "start_time": "2022-04-04T14:07:02.419Z"
   },
   {
    "duration": 575,
    "start_time": "2022-04-04T14:07:12.701Z"
   },
   {
    "duration": 13,
    "start_time": "2022-04-04T14:07:13.279Z"
   },
   {
    "duration": 27,
    "start_time": "2022-04-04T14:07:13.294Z"
   },
   {
    "duration": 21,
    "start_time": "2022-04-04T14:07:13.324Z"
   },
   {
    "duration": 45,
    "start_time": "2022-04-04T14:07:13.347Z"
   },
   {
    "duration": 25,
    "start_time": "2022-04-04T14:07:13.394Z"
   },
   {
    "duration": 6,
    "start_time": "2022-04-04T14:07:13.422Z"
   },
   {
    "duration": 23,
    "start_time": "2022-04-04T14:07:13.430Z"
   },
   {
    "duration": 30,
    "start_time": "2022-04-04T14:07:13.456Z"
   },
   {
    "duration": 43,
    "start_time": "2022-04-04T14:07:13.490Z"
   },
   {
    "duration": 59,
    "start_time": "2022-04-04T14:07:13.535Z"
   },
   {
    "duration": 26,
    "start_time": "2022-04-04T14:07:13.597Z"
   },
   {
    "duration": 25,
    "start_time": "2022-04-04T14:07:13.625Z"
   },
   {
    "duration": 24,
    "start_time": "2022-04-04T14:07:13.652Z"
   },
   {
    "duration": 30,
    "start_time": "2022-04-04T14:07:13.678Z"
   },
   {
    "duration": 7,
    "start_time": "2022-04-04T14:07:13.710Z"
   },
   {
    "duration": 24,
    "start_time": "2022-04-04T14:07:13.719Z"
   },
   {
    "duration": 23,
    "start_time": "2022-04-04T14:07:13.745Z"
   },
   {
    "duration": 27,
    "start_time": "2022-04-04T14:07:13.770Z"
   },
   {
    "duration": 13,
    "start_time": "2022-04-04T14:07:13.799Z"
   },
   {
    "duration": 21,
    "start_time": "2022-04-04T14:07:13.814Z"
   },
   {
    "duration": 22,
    "start_time": "2022-04-04T14:07:13.837Z"
   },
   {
    "duration": 17,
    "start_time": "2022-04-04T14:07:13.861Z"
   },
   {
    "duration": 10,
    "start_time": "2022-04-04T14:07:13.880Z"
   },
   {
    "duration": 15,
    "start_time": "2022-04-04T14:07:13.893Z"
   },
   {
    "duration": 107,
    "start_time": "2022-04-04T14:07:13.910Z"
   },
   {
    "duration": 0,
    "start_time": "2022-04-04T14:07:14.022Z"
   },
   {
    "duration": 0,
    "start_time": "2022-04-04T14:07:14.024Z"
   },
   {
    "duration": 0,
    "start_time": "2022-04-04T14:07:14.026Z"
   },
   {
    "duration": 0,
    "start_time": "2022-04-04T14:07:14.027Z"
   },
   {
    "duration": 0,
    "start_time": "2022-04-04T14:07:14.029Z"
   },
   {
    "duration": 0,
    "start_time": "2022-04-04T14:07:14.030Z"
   },
   {
    "duration": 0,
    "start_time": "2022-04-04T14:07:14.031Z"
   },
   {
    "duration": 0,
    "start_time": "2022-04-04T14:07:14.033Z"
   },
   {
    "duration": 1,
    "start_time": "2022-04-04T14:07:14.034Z"
   },
   {
    "duration": 0,
    "start_time": "2022-04-04T14:07:14.036Z"
   },
   {
    "duration": 0,
    "start_time": "2022-04-04T14:07:14.037Z"
   },
   {
    "duration": 0,
    "start_time": "2022-04-04T14:07:14.039Z"
   },
   {
    "duration": 0,
    "start_time": "2022-04-04T14:07:14.040Z"
   },
   {
    "duration": 0,
    "start_time": "2022-04-04T14:07:14.041Z"
   },
   {
    "duration": 0,
    "start_time": "2022-04-04T14:07:14.042Z"
   },
   {
    "duration": 0,
    "start_time": "2022-04-04T14:07:14.044Z"
   },
   {
    "duration": 0,
    "start_time": "2022-04-04T14:07:14.084Z"
   },
   {
    "duration": 0,
    "start_time": "2022-04-04T14:07:14.085Z"
   },
   {
    "duration": 0,
    "start_time": "2022-04-04T14:07:14.087Z"
   },
   {
    "duration": 0,
    "start_time": "2022-04-04T14:07:14.088Z"
   },
   {
    "duration": 0,
    "start_time": "2022-04-04T14:07:14.089Z"
   },
   {
    "duration": 0,
    "start_time": "2022-04-04T14:07:14.091Z"
   },
   {
    "duration": 0,
    "start_time": "2022-04-04T14:07:14.092Z"
   },
   {
    "duration": 0,
    "start_time": "2022-04-04T14:07:14.093Z"
   },
   {
    "duration": 0,
    "start_time": "2022-04-04T14:07:14.094Z"
   },
   {
    "duration": 0,
    "start_time": "2022-04-04T14:07:14.095Z"
   },
   {
    "duration": 0,
    "start_time": "2022-04-04T14:07:14.096Z"
   },
   {
    "duration": 0,
    "start_time": "2022-04-04T14:07:14.097Z"
   },
   {
    "duration": 0,
    "start_time": "2022-04-04T14:07:14.099Z"
   },
   {
    "duration": 0,
    "start_time": "2022-04-04T14:07:14.100Z"
   },
   {
    "duration": 0,
    "start_time": "2022-04-04T14:07:14.102Z"
   },
   {
    "duration": 0,
    "start_time": "2022-04-04T14:07:14.103Z"
   },
   {
    "duration": 0,
    "start_time": "2022-04-04T14:07:14.104Z"
   },
   {
    "duration": 0,
    "start_time": "2022-04-04T14:07:14.105Z"
   },
   {
    "duration": 0,
    "start_time": "2022-04-04T14:07:14.106Z"
   },
   {
    "duration": 0,
    "start_time": "2022-04-04T14:07:14.108Z"
   },
   {
    "duration": 0,
    "start_time": "2022-04-04T14:07:14.109Z"
   },
   {
    "duration": 0,
    "start_time": "2022-04-04T14:07:14.110Z"
   },
   {
    "duration": 0,
    "start_time": "2022-04-04T14:07:14.112Z"
   },
   {
    "duration": 0,
    "start_time": "2022-04-04T14:07:14.113Z"
   },
   {
    "duration": 0,
    "start_time": "2022-04-04T14:07:14.115Z"
   },
   {
    "duration": 0,
    "start_time": "2022-04-04T14:07:14.116Z"
   },
   {
    "duration": 0,
    "start_time": "2022-04-04T14:07:14.117Z"
   },
   {
    "duration": 0,
    "start_time": "2022-04-04T14:07:14.118Z"
   },
   {
    "duration": 0,
    "start_time": "2022-04-04T14:07:14.119Z"
   },
   {
    "duration": 0,
    "start_time": "2022-04-04T14:07:14.120Z"
   },
   {
    "duration": 0,
    "start_time": "2022-04-04T14:07:14.122Z"
   },
   {
    "duration": 0,
    "start_time": "2022-04-04T14:07:14.123Z"
   },
   {
    "duration": 0,
    "start_time": "2022-04-04T14:07:14.183Z"
   },
   {
    "duration": 0,
    "start_time": "2022-04-04T14:07:14.185Z"
   },
   {
    "duration": 0,
    "start_time": "2022-04-04T14:07:14.187Z"
   },
   {
    "duration": 0,
    "start_time": "2022-04-04T14:07:14.188Z"
   },
   {
    "duration": 0,
    "start_time": "2022-04-04T14:07:14.189Z"
   },
   {
    "duration": 0,
    "start_time": "2022-04-04T14:07:14.191Z"
   },
   {
    "duration": 0,
    "start_time": "2022-04-04T14:07:14.192Z"
   },
   {
    "duration": 0,
    "start_time": "2022-04-04T14:07:14.193Z"
   },
   {
    "duration": 0,
    "start_time": "2022-04-04T14:07:14.195Z"
   },
   {
    "duration": 0,
    "start_time": "2022-04-04T14:07:14.196Z"
   },
   {
    "duration": 0,
    "start_time": "2022-04-04T14:07:14.197Z"
   },
   {
    "duration": 0,
    "start_time": "2022-04-04T14:07:14.198Z"
   },
   {
    "duration": 0,
    "start_time": "2022-04-04T14:07:14.199Z"
   },
   {
    "duration": 0,
    "start_time": "2022-04-04T14:07:14.200Z"
   },
   {
    "duration": 0,
    "start_time": "2022-04-04T14:07:14.201Z"
   },
   {
    "duration": 0,
    "start_time": "2022-04-04T14:07:14.203Z"
   },
   {
    "duration": 0,
    "start_time": "2022-04-04T14:07:14.204Z"
   },
   {
    "duration": 0,
    "start_time": "2022-04-04T14:07:14.205Z"
   },
   {
    "duration": 0,
    "start_time": "2022-04-04T14:07:14.206Z"
   },
   {
    "duration": 0,
    "start_time": "2022-04-04T14:07:14.208Z"
   },
   {
    "duration": 0,
    "start_time": "2022-04-04T14:07:14.209Z"
   },
   {
    "duration": 0,
    "start_time": "2022-04-04T14:07:14.211Z"
   },
   {
    "duration": 0,
    "start_time": "2022-04-04T14:07:14.212Z"
   },
   {
    "duration": 0,
    "start_time": "2022-04-04T14:07:14.213Z"
   },
   {
    "duration": 0,
    "start_time": "2022-04-04T14:07:14.214Z"
   },
   {
    "duration": 12,
    "start_time": "2022-04-04T14:07:30.711Z"
   },
   {
    "duration": 10,
    "start_time": "2022-04-04T14:07:40.838Z"
   },
   {
    "duration": 12,
    "start_time": "2022-04-04T14:07:49.846Z"
   },
   {
    "duration": 10,
    "start_time": "2022-04-04T14:08:02.161Z"
   },
   {
    "duration": 6,
    "start_time": "2022-04-04T14:08:08.596Z"
   },
   {
    "duration": 6,
    "start_time": "2022-04-04T14:08:21.646Z"
   },
   {
    "duration": 6,
    "start_time": "2022-04-04T14:08:35.369Z"
   },
   {
    "duration": 8,
    "start_time": "2022-04-04T14:08:54.336Z"
   },
   {
    "duration": 6,
    "start_time": "2022-04-04T14:08:59.703Z"
   },
   {
    "duration": 4,
    "start_time": "2022-04-04T14:09:45.664Z"
   },
   {
    "duration": 7,
    "start_time": "2022-04-04T14:10:04.543Z"
   },
   {
    "duration": 6,
    "start_time": "2022-04-04T14:10:07.134Z"
   },
   {
    "duration": 680,
    "start_time": "2022-04-04T14:11:46.751Z"
   },
   {
    "duration": 12,
    "start_time": "2022-04-04T14:11:47.434Z"
   },
   {
    "duration": 37,
    "start_time": "2022-04-04T14:11:47.448Z"
   },
   {
    "duration": 21,
    "start_time": "2022-04-04T14:11:47.488Z"
   },
   {
    "duration": 19,
    "start_time": "2022-04-04T14:11:47.511Z"
   },
   {
    "duration": 51,
    "start_time": "2022-04-04T14:11:47.533Z"
   },
   {
    "duration": 6,
    "start_time": "2022-04-04T14:11:47.586Z"
   },
   {
    "duration": 19,
    "start_time": "2022-04-04T14:11:47.594Z"
   },
   {
    "duration": 6,
    "start_time": "2022-04-04T14:11:47.615Z"
   },
   {
    "duration": 16,
    "start_time": "2022-04-04T14:11:47.625Z"
   },
   {
    "duration": 48,
    "start_time": "2022-04-04T14:11:47.643Z"
   },
   {
    "duration": 10,
    "start_time": "2022-04-04T14:11:47.693Z"
   },
   {
    "duration": 33,
    "start_time": "2022-04-04T14:11:47.705Z"
   },
   {
    "duration": 19,
    "start_time": "2022-04-04T14:11:47.741Z"
   },
   {
    "duration": 34,
    "start_time": "2022-04-04T14:11:47.763Z"
   },
   {
    "duration": 21,
    "start_time": "2022-04-04T14:11:47.799Z"
   },
   {
    "duration": 11,
    "start_time": "2022-04-04T14:11:47.822Z"
   },
   {
    "duration": 13,
    "start_time": "2022-04-04T14:11:47.835Z"
   },
   {
    "duration": 37,
    "start_time": "2022-04-04T14:11:47.850Z"
   },
   {
    "duration": 8,
    "start_time": "2022-04-04T14:11:47.889Z"
   },
   {
    "duration": 22,
    "start_time": "2022-04-04T14:11:47.899Z"
   },
   {
    "duration": 11,
    "start_time": "2022-04-04T14:11:47.923Z"
   },
   {
    "duration": 12,
    "start_time": "2022-04-04T14:11:47.937Z"
   },
   {
    "duration": 42,
    "start_time": "2022-04-04T14:11:47.951Z"
   },
   {
    "duration": 6,
    "start_time": "2022-04-04T14:11:47.995Z"
   },
   {
    "duration": 9,
    "start_time": "2022-04-04T14:11:48.003Z"
   },
   {
    "duration": 12,
    "start_time": "2022-04-04T14:11:48.014Z"
   },
   {
    "duration": 29,
    "start_time": "2022-04-04T14:11:48.032Z"
   },
   {
    "duration": 36,
    "start_time": "2022-04-04T14:11:48.063Z"
   },
   {
    "duration": 22,
    "start_time": "2022-04-04T14:11:48.101Z"
   },
   {
    "duration": 39,
    "start_time": "2022-04-04T14:11:48.125Z"
   },
   {
    "duration": 20,
    "start_time": "2022-04-04T14:11:48.166Z"
   },
   {
    "duration": 24,
    "start_time": "2022-04-04T14:11:48.188Z"
   },
   {
    "duration": 19,
    "start_time": "2022-04-04T14:11:48.215Z"
   },
   {
    "duration": 23,
    "start_time": "2022-04-04T14:11:48.236Z"
   },
   {
    "duration": 20,
    "start_time": "2022-04-04T14:11:48.261Z"
   },
   {
    "duration": 36,
    "start_time": "2022-04-04T14:11:48.283Z"
   },
   {
    "duration": 20,
    "start_time": "2022-04-04T14:11:48.321Z"
   },
   {
    "duration": 50,
    "start_time": "2022-04-04T14:11:48.344Z"
   },
   {
    "duration": 24,
    "start_time": "2022-04-04T14:11:48.396Z"
   },
   {
    "duration": 48,
    "start_time": "2022-04-04T14:11:48.422Z"
   },
   {
    "duration": 5,
    "start_time": "2022-04-04T14:11:48.472Z"
   },
   {
    "duration": 22,
    "start_time": "2022-04-04T14:11:48.483Z"
   },
   {
    "duration": 35,
    "start_time": "2022-04-04T14:11:48.507Z"
   },
   {
    "duration": 29,
    "start_time": "2022-04-04T14:11:48.544Z"
   },
   {
    "duration": 27,
    "start_time": "2022-04-04T14:11:48.575Z"
   },
   {
    "duration": 42,
    "start_time": "2022-04-04T14:11:48.603Z"
   },
   {
    "duration": 24,
    "start_time": "2022-04-04T14:11:48.647Z"
   },
   {
    "duration": 22,
    "start_time": "2022-04-04T14:11:48.673Z"
   },
   {
    "duration": 48,
    "start_time": "2022-04-04T14:11:48.697Z"
   },
   {
    "duration": 18,
    "start_time": "2022-04-04T14:11:48.748Z"
   },
   {
    "duration": 23,
    "start_time": "2022-04-04T14:11:48.769Z"
   },
   {
    "duration": 25,
    "start_time": "2022-04-04T14:11:48.794Z"
   },
   {
    "duration": 19,
    "start_time": "2022-04-04T14:11:48.822Z"
   },
   {
    "duration": 24,
    "start_time": "2022-04-04T14:11:48.844Z"
   },
   {
    "duration": 31,
    "start_time": "2022-04-04T14:11:48.870Z"
   },
   {
    "duration": 14,
    "start_time": "2022-04-04T14:11:48.903Z"
   },
   {
    "duration": 17,
    "start_time": "2022-04-04T14:11:48.919Z"
   },
   {
    "duration": 62,
    "start_time": "2022-04-04T14:11:48.938Z"
   },
   {
    "duration": 5,
    "start_time": "2022-04-04T14:11:49.002Z"
   },
   {
    "duration": 14,
    "start_time": "2022-04-04T14:11:49.009Z"
   },
   {
    "duration": 16,
    "start_time": "2022-04-04T14:11:49.025Z"
   },
   {
    "duration": 54,
    "start_time": "2022-04-04T14:11:49.043Z"
   },
   {
    "duration": 16,
    "start_time": "2022-04-04T14:11:49.099Z"
   },
   {
    "duration": 17,
    "start_time": "2022-04-04T14:11:49.117Z"
   },
   {
    "duration": 56,
    "start_time": "2022-04-04T14:11:49.136Z"
   },
   {
    "duration": 19,
    "start_time": "2022-04-04T14:11:49.195Z"
   },
   {
    "duration": 20,
    "start_time": "2022-04-04T14:11:49.217Z"
   },
   {
    "duration": 5,
    "start_time": "2022-04-04T14:11:49.239Z"
   },
   {
    "duration": 41,
    "start_time": "2022-04-04T14:11:49.246Z"
   },
   {
    "duration": 17,
    "start_time": "2022-04-04T14:11:49.289Z"
   },
   {
    "duration": 10,
    "start_time": "2022-04-04T14:11:49.309Z"
   },
   {
    "duration": 25,
    "start_time": "2022-04-04T14:11:49.321Z"
   },
   {
    "duration": 37,
    "start_time": "2022-04-04T14:11:49.348Z"
   },
   {
    "duration": 4,
    "start_time": "2022-04-04T14:11:49.388Z"
   },
   {
    "duration": 20,
    "start_time": "2022-04-04T14:11:49.394Z"
   },
   {
    "duration": 19,
    "start_time": "2022-04-04T14:11:49.416Z"
   },
   {
    "duration": 4,
    "start_time": "2022-04-04T14:11:49.437Z"
   },
   {
    "duration": 40,
    "start_time": "2022-04-04T14:11:49.444Z"
   },
   {
    "duration": 12,
    "start_time": "2022-04-04T14:11:49.486Z"
   },
   {
    "duration": 6,
    "start_time": "2022-04-04T14:11:49.500Z"
   },
   {
    "duration": 13,
    "start_time": "2022-04-04T14:11:49.514Z"
   },
   {
    "duration": 9,
    "start_time": "2022-04-04T14:11:49.530Z"
   },
   {
    "duration": 12,
    "start_time": "2022-04-04T14:11:49.541Z"
   },
   {
    "duration": 14,
    "start_time": "2022-04-04T14:11:49.585Z"
   },
   {
    "duration": 7,
    "start_time": "2022-04-04T14:11:49.602Z"
   },
   {
    "duration": 14,
    "start_time": "2022-04-04T14:11:49.612Z"
   },
   {
    "duration": 10,
    "start_time": "2022-04-04T14:11:49.629Z"
   },
   {
    "duration": 10,
    "start_time": "2022-04-04T14:11:49.641Z"
   },
   {
    "duration": 38,
    "start_time": "2022-04-04T14:11:49.653Z"
   },
   {
    "duration": 14,
    "start_time": "2022-04-04T14:11:49.694Z"
   },
   {
    "duration": 9,
    "start_time": "2022-04-04T14:11:49.710Z"
   },
   {
    "duration": 22,
    "start_time": "2022-04-04T14:11:49.721Z"
   },
   {
    "duration": 40,
    "start_time": "2022-04-04T14:11:49.745Z"
   },
   {
    "duration": 19,
    "start_time": "2022-04-04T14:11:49.787Z"
   },
   {
    "duration": 574,
    "start_time": "2022-04-04T14:20:59.823Z"
   },
   {
    "duration": 13,
    "start_time": "2022-04-04T14:21:00.400Z"
   },
   {
    "duration": 53,
    "start_time": "2022-04-04T14:21:00.416Z"
   },
   {
    "duration": 41,
    "start_time": "2022-04-04T14:21:00.473Z"
   },
   {
    "duration": 47,
    "start_time": "2022-04-04T14:21:00.517Z"
   },
   {
    "duration": 33,
    "start_time": "2022-04-04T14:21:00.567Z"
   },
   {
    "duration": 16,
    "start_time": "2022-04-04T14:21:00.602Z"
   },
   {
    "duration": 32,
    "start_time": "2022-04-04T14:21:00.621Z"
   },
   {
    "duration": 21,
    "start_time": "2022-04-04T14:21:00.656Z"
   },
   {
    "duration": 32,
    "start_time": "2022-04-04T14:21:00.681Z"
   },
   {
    "duration": 60,
    "start_time": "2022-04-04T14:21:00.715Z"
   },
   {
    "duration": 48,
    "start_time": "2022-04-04T14:21:00.777Z"
   },
   {
    "duration": 35,
    "start_time": "2022-04-04T14:21:00.827Z"
   },
   {
    "duration": 26,
    "start_time": "2022-04-04T14:21:00.864Z"
   },
   {
    "duration": 57,
    "start_time": "2022-04-04T14:21:00.892Z"
   },
   {
    "duration": 30,
    "start_time": "2022-04-04T14:21:00.951Z"
   },
   {
    "duration": 15,
    "start_time": "2022-04-04T14:21:00.983Z"
   },
   {
    "duration": 31,
    "start_time": "2022-04-04T14:21:01.000Z"
   },
   {
    "duration": 34,
    "start_time": "2022-04-04T14:21:01.033Z"
   },
   {
    "duration": 13,
    "start_time": "2022-04-04T14:21:01.069Z"
   },
   {
    "duration": 44,
    "start_time": "2022-04-04T14:21:01.084Z"
   },
   {
    "duration": 15,
    "start_time": "2022-04-04T14:21:01.130Z"
   },
   {
    "duration": 29,
    "start_time": "2022-04-04T14:21:01.147Z"
   },
   {
    "duration": 29,
    "start_time": "2022-04-04T14:21:01.179Z"
   },
   {
    "duration": 22,
    "start_time": "2022-04-04T14:21:01.210Z"
   },
   {
    "duration": 42,
    "start_time": "2022-04-04T14:21:01.235Z"
   },
   {
    "duration": 40,
    "start_time": "2022-04-04T14:21:01.280Z"
   },
   {
    "duration": 13,
    "start_time": "2022-04-04T14:21:01.328Z"
   },
   {
    "duration": 39,
    "start_time": "2022-04-04T14:21:01.343Z"
   },
   {
    "duration": 30,
    "start_time": "2022-04-04T14:21:01.385Z"
   },
   {
    "duration": 43,
    "start_time": "2022-04-04T14:21:01.418Z"
   },
   {
    "duration": 25,
    "start_time": "2022-04-04T14:21:01.463Z"
   },
   {
    "duration": 50,
    "start_time": "2022-04-04T14:21:01.491Z"
   },
   {
    "duration": 41,
    "start_time": "2022-04-04T14:21:01.544Z"
   },
   {
    "duration": 30,
    "start_time": "2022-04-04T14:21:01.588Z"
   },
   {
    "duration": 39,
    "start_time": "2022-04-04T14:21:01.621Z"
   },
   {
    "duration": 168,
    "start_time": "2022-04-04T14:21:01.663Z"
   },
   {
    "duration": 10,
    "start_time": "2022-04-04T14:21:01.834Z"
   },
   {
    "duration": 74,
    "start_time": "2022-04-04T14:21:01.846Z"
   },
   {
    "duration": 39,
    "start_time": "2022-04-04T14:21:01.922Z"
   },
   {
    "duration": 38,
    "start_time": "2022-04-04T14:21:01.963Z"
   },
   {
    "duration": 6,
    "start_time": "2022-04-04T14:21:02.004Z"
   },
   {
    "duration": 45,
    "start_time": "2022-04-04T14:21:02.013Z"
   },
   {
    "duration": 92,
    "start_time": "2022-04-04T14:21:02.061Z"
   },
   {
    "duration": 44,
    "start_time": "2022-04-04T14:21:02.155Z"
   },
   {
    "duration": 44,
    "start_time": "2022-04-04T14:21:02.202Z"
   },
   {
    "duration": 53,
    "start_time": "2022-04-04T14:21:02.249Z"
   },
   {
    "duration": 53,
    "start_time": "2022-04-04T14:21:02.305Z"
   },
   {
    "duration": 32,
    "start_time": "2022-04-04T14:21:02.360Z"
   },
   {
    "duration": 39,
    "start_time": "2022-04-04T14:21:02.394Z"
   },
   {
    "duration": 22,
    "start_time": "2022-04-04T14:21:02.435Z"
   },
   {
    "duration": 27,
    "start_time": "2022-04-04T14:21:02.460Z"
   },
   {
    "duration": 16,
    "start_time": "2022-04-04T14:21:02.489Z"
   },
   {
    "duration": 32,
    "start_time": "2022-04-04T14:21:02.508Z"
   },
   {
    "duration": 24,
    "start_time": "2022-04-04T14:21:02.543Z"
   },
   {
    "duration": 18,
    "start_time": "2022-04-04T14:21:02.585Z"
   },
   {
    "duration": 16,
    "start_time": "2022-04-04T14:21:02.605Z"
   },
   {
    "duration": 18,
    "start_time": "2022-04-04T14:21:02.623Z"
   },
   {
    "duration": 23,
    "start_time": "2022-04-04T14:21:02.685Z"
   },
   {
    "duration": 5,
    "start_time": "2022-04-04T14:21:02.710Z"
   },
   {
    "duration": 19,
    "start_time": "2022-04-04T14:21:02.718Z"
   },
   {
    "duration": 50,
    "start_time": "2022-04-04T14:21:02.739Z"
   },
   {
    "duration": 30,
    "start_time": "2022-04-04T14:21:02.792Z"
   },
   {
    "duration": 21,
    "start_time": "2022-04-04T14:21:02.824Z"
   },
   {
    "duration": 44,
    "start_time": "2022-04-04T14:21:02.848Z"
   },
   {
    "duration": 19,
    "start_time": "2022-04-04T14:21:02.894Z"
   },
   {
    "duration": 18,
    "start_time": "2022-04-04T14:21:02.916Z"
   },
   {
    "duration": 54,
    "start_time": "2022-04-04T14:21:02.936Z"
   },
   {
    "duration": 5,
    "start_time": "2022-04-04T14:21:02.992Z"
   },
   {
    "duration": 13,
    "start_time": "2022-04-04T14:21:02.998Z"
   },
   {
    "duration": 17,
    "start_time": "2022-04-04T14:21:03.013Z"
   },
   {
    "duration": 20,
    "start_time": "2022-04-04T14:21:03.032Z"
   },
   {
    "duration": 65,
    "start_time": "2022-04-04T14:21:03.055Z"
   },
   {
    "duration": 10,
    "start_time": "2022-04-04T14:21:03.123Z"
   },
   {
    "duration": 11,
    "start_time": "2022-04-04T14:21:03.135Z"
   },
   {
    "duration": 36,
    "start_time": "2022-04-04T14:21:03.148Z"
   },
   {
    "duration": 14,
    "start_time": "2022-04-04T14:21:03.187Z"
   },
   {
    "duration": 5,
    "start_time": "2022-04-04T14:21:03.204Z"
   },
   {
    "duration": 19,
    "start_time": "2022-04-04T14:21:03.212Z"
   },
   {
    "duration": 16,
    "start_time": "2022-04-04T14:21:03.234Z"
   },
   {
    "duration": 6,
    "start_time": "2022-04-04T14:21:03.284Z"
   },
   {
    "duration": 15,
    "start_time": "2022-04-04T14:21:03.299Z"
   },
   {
    "duration": 8,
    "start_time": "2022-04-04T14:21:03.316Z"
   },
   {
    "duration": 24,
    "start_time": "2022-04-04T14:21:03.326Z"
   },
   {
    "duration": 41,
    "start_time": "2022-04-04T14:21:03.353Z"
   },
   {
    "duration": 8,
    "start_time": "2022-04-04T14:21:03.396Z"
   },
   {
    "duration": 7,
    "start_time": "2022-04-04T14:21:03.406Z"
   },
   {
    "duration": 9,
    "start_time": "2022-04-04T14:21:03.415Z"
   },
   {
    "duration": 12,
    "start_time": "2022-04-04T14:21:03.426Z"
   },
   {
    "duration": 47,
    "start_time": "2022-04-04T14:21:03.440Z"
   },
   {
    "duration": 12,
    "start_time": "2022-04-04T14:21:03.489Z"
   },
   {
    "duration": 11,
    "start_time": "2022-04-04T14:21:03.503Z"
   },
   {
    "duration": 12,
    "start_time": "2022-04-04T14:21:03.516Z"
   },
   {
    "duration": 10,
    "start_time": "2022-04-04T14:21:03.530Z"
   },
   {
    "duration": 48,
    "start_time": "2022-04-04T14:21:03.543Z"
   },
   {
    "duration": 5,
    "start_time": "2022-04-04T14:21:16.313Z"
   },
   {
    "duration": 107,
    "start_time": "2022-04-04T14:48:25.053Z"
   },
   {
    "duration": 8,
    "start_time": "2022-04-04T14:48:29.297Z"
   },
   {
    "duration": 117,
    "start_time": "2022-04-04T14:53:29.355Z"
   },
   {
    "duration": 493,
    "start_time": "2022-04-05T17:41:03.035Z"
   },
   {
    "duration": 11,
    "start_time": "2022-04-05T17:41:04.568Z"
   },
   {
    "duration": 15,
    "start_time": "2022-04-05T17:41:06.025Z"
   },
   {
    "duration": 15,
    "start_time": "2022-04-05T17:41:09.722Z"
   },
   {
    "duration": 13,
    "start_time": "2022-04-05T17:41:11.620Z"
   },
   {
    "duration": 13,
    "start_time": "2022-04-05T17:41:12.847Z"
   },
   {
    "duration": 5,
    "start_time": "2022-04-05T17:41:14.060Z"
   },
   {
    "duration": 6,
    "start_time": "2022-04-05T17:41:15.543Z"
   },
   {
    "duration": 4,
    "start_time": "2022-04-05T17:41:16.114Z"
   },
   {
    "duration": 4,
    "start_time": "2022-04-05T17:42:43.505Z"
   },
   {
    "duration": 127,
    "start_time": "2022-04-05T17:44:40.147Z"
   },
   {
    "duration": 4,
    "start_time": "2022-04-05T17:45:09.872Z"
   },
   {
    "duration": 4,
    "start_time": "2022-04-05T17:45:13.625Z"
   },
   {
    "duration": 11,
    "start_time": "2022-04-05T17:46:22.501Z"
   },
   {
    "duration": 11,
    "start_time": "2022-04-05T17:46:23.930Z"
   },
   {
    "duration": 6,
    "start_time": "2022-04-05T17:46:25.225Z"
   },
   {
    "duration": 545,
    "start_time": "2022-04-05T17:46:43.970Z"
   },
   {
    "duration": 8,
    "start_time": "2022-04-05T17:46:47.609Z"
   },
   {
    "duration": 14,
    "start_time": "2022-04-05T17:46:47.959Z"
   },
   {
    "duration": 15,
    "start_time": "2022-04-05T17:46:49.689Z"
   },
   {
    "duration": 13,
    "start_time": "2022-04-05T17:46:51.047Z"
   },
   {
    "duration": 13,
    "start_time": "2022-04-05T17:46:51.829Z"
   },
   {
    "duration": 5,
    "start_time": "2022-04-05T17:46:52.420Z"
   },
   {
    "duration": 6,
    "start_time": "2022-04-05T17:46:53.993Z"
   },
   {
    "duration": 4,
    "start_time": "2022-04-05T17:46:54.542Z"
   },
   {
    "duration": 13,
    "start_time": "2022-04-05T17:46:57.898Z"
   },
   {
    "duration": 10,
    "start_time": "2022-04-05T17:46:59.408Z"
   },
   {
    "duration": 7,
    "start_time": "2022-04-05T17:47:01.007Z"
   },
   {
    "duration": 8,
    "start_time": "2022-04-05T17:47:02.168Z"
   },
   {
    "duration": 5,
    "start_time": "2022-04-05T17:47:12.156Z"
   },
   {
    "duration": 64,
    "start_time": "2022-04-05T17:47:33.280Z"
   },
   {
    "duration": 7,
    "start_time": "2022-04-05T17:47:44.464Z"
   },
   {
    "duration": 7,
    "start_time": "2022-04-05T17:47:51.536Z"
   },
   {
    "duration": 10,
    "start_time": "2022-04-05T17:48:28.046Z"
   },
   {
    "duration": 5,
    "start_time": "2022-04-05T17:48:31.096Z"
   },
   {
    "duration": 11,
    "start_time": "2022-04-05T17:49:33.575Z"
   },
   {
    "duration": 5,
    "start_time": "2022-04-05T17:49:35.291Z"
   },
   {
    "duration": 5,
    "start_time": "2022-04-05T17:49:40.616Z"
   },
   {
    "duration": 6,
    "start_time": "2022-04-05T17:49:41.547Z"
   },
   {
    "duration": 15,
    "start_time": "2022-04-05T17:49:43.191Z"
   },
   {
    "duration": 5,
    "start_time": "2022-04-05T17:49:43.853Z"
   },
   {
    "duration": 9,
    "start_time": "2022-04-05T17:49:46.531Z"
   },
   {
    "duration": 7,
    "start_time": "2022-04-05T17:49:53.160Z"
   },
   {
    "duration": 5,
    "start_time": "2022-04-05T17:49:55.551Z"
   },
   {
    "duration": 10,
    "start_time": "2022-04-05T17:49:58.042Z"
   },
   {
    "duration": 5,
    "start_time": "2022-04-05T17:50:04.791Z"
   },
   {
    "duration": 7,
    "start_time": "2022-04-05T17:50:09.393Z"
   },
   {
    "duration": 8,
    "start_time": "2022-04-05T17:50:10.138Z"
   },
   {
    "duration": 7,
    "start_time": "2022-04-05T17:50:30.369Z"
   },
   {
    "duration": 4,
    "start_time": "2022-04-05T17:50:30.807Z"
   },
   {
    "duration": 5,
    "start_time": "2022-04-05T17:50:34.425Z"
   },
   {
    "duration": 7,
    "start_time": "2022-04-05T17:50:35.032Z"
   },
   {
    "duration": 6,
    "start_time": "2022-04-05T17:50:43.067Z"
   },
   {
    "duration": 8,
    "start_time": "2022-04-05T17:50:45.484Z"
   },
   {
    "duration": 8,
    "start_time": "2022-04-05T17:50:47.610Z"
   },
   {
    "duration": 18,
    "start_time": "2022-04-05T17:50:47.620Z"
   },
   {
    "duration": 8,
    "start_time": "2022-04-05T17:51:00.454Z"
   },
   {
    "duration": 7,
    "start_time": "2022-04-05T17:51:42.372Z"
   },
   {
    "duration": 7,
    "start_time": "2022-04-05T17:51:56.036Z"
   },
   {
    "duration": 7,
    "start_time": "2022-04-05T17:51:58.806Z"
   },
   {
    "duration": 8,
    "start_time": "2022-04-05T17:52:25.372Z"
   },
   {
    "duration": 17,
    "start_time": "2022-04-05T17:52:27.142Z"
   },
   {
    "duration": 17,
    "start_time": "2022-04-05T17:52:28.308Z"
   },
   {
    "duration": 15,
    "start_time": "2022-04-05T17:52:28.835Z"
   },
   {
    "duration": 4,
    "start_time": "2022-04-05T17:52:29.366Z"
   },
   {
    "duration": 14,
    "start_time": "2022-04-05T17:52:31.899Z"
   },
   {
    "duration": 11,
    "start_time": "2022-04-05T17:52:37.513Z"
   },
   {
    "duration": 3,
    "start_time": "2022-04-05T17:52:41.585Z"
   },
   {
    "duration": 4,
    "start_time": "2022-04-05T17:52:42.221Z"
   },
   {
    "duration": 8,
    "start_time": "2022-04-05T17:52:43.468Z"
   },
   {
    "duration": 5,
    "start_time": "2022-04-05T17:52:44.919Z"
   },
   {
    "duration": 7,
    "start_time": "2022-04-05T17:52:45.340Z"
   },
   {
    "duration": 18,
    "start_time": "2022-04-05T17:52:48.562Z"
   },
   {
    "duration": 12,
    "start_time": "2022-04-05T17:52:49.479Z"
   },
   {
    "duration": 13,
    "start_time": "2022-04-05T17:52:51.173Z"
   },
   {
    "duration": 10,
    "start_time": "2022-04-05T17:52:55.339Z"
   },
   {
    "duration": 11,
    "start_time": "2022-04-05T17:53:29.490Z"
   },
   {
    "duration": 11,
    "start_time": "2022-04-05T17:53:30.802Z"
   },
   {
    "duration": 11,
    "start_time": "2022-04-05T17:53:33.671Z"
   },
   {
    "duration": 10,
    "start_time": "2022-04-05T17:53:35.269Z"
   },
   {
    "duration": 11,
    "start_time": "2022-04-05T17:53:37.028Z"
   },
   {
    "duration": 14,
    "start_time": "2022-04-05T17:53:39.710Z"
   },
   {
    "duration": 17,
    "start_time": "2022-04-05T17:55:22.259Z"
   },
   {
    "duration": 33,
    "start_time": "2022-04-05T17:57:04.087Z"
   },
   {
    "duration": 17,
    "start_time": "2022-04-05T17:59:06.647Z"
   },
   {
    "duration": 13,
    "start_time": "2022-04-05T17:59:15.704Z"
   },
   {
    "duration": 16,
    "start_time": "2022-04-05T17:59:26.912Z"
   },
   {
    "duration": 22,
    "start_time": "2022-04-05T17:59:38.395Z"
   },
   {
    "duration": 20,
    "start_time": "2022-04-05T17:59:59.463Z"
   },
   {
    "duration": 24,
    "start_time": "2022-04-05T18:01:24.238Z"
   },
   {
    "duration": 23,
    "start_time": "2022-04-05T18:01:57.801Z"
   },
   {
    "duration": 16,
    "start_time": "2022-04-05T18:04:42.631Z"
   },
   {
    "duration": 15,
    "start_time": "2022-04-05T18:05:19.522Z"
   },
   {
    "duration": 31,
    "start_time": "2022-04-05T18:05:20.657Z"
   },
   {
    "duration": 19,
    "start_time": "2022-04-05T18:05:34.771Z"
   },
   {
    "duration": 2,
    "start_time": "2022-04-05T18:05:47.040Z"
   },
   {
    "duration": 9,
    "start_time": "2022-04-05T18:09:07.868Z"
   },
   {
    "duration": 6,
    "start_time": "2022-04-05T18:09:16.786Z"
   },
   {
    "duration": 7,
    "start_time": "2022-04-05T18:09:51.047Z"
   },
   {
    "duration": 2166,
    "start_time": "2022-04-05T18:14:14.469Z"
   },
   {
    "duration": 7,
    "start_time": "2022-04-05T18:14:20.625Z"
   },
   {
    "duration": 9,
    "start_time": "2022-04-05T18:16:13.262Z"
   },
   {
    "duration": 3,
    "start_time": "2022-04-05T18:22:20.835Z"
   },
   {
    "duration": 23,
    "start_time": "2022-04-05T18:26:14.394Z"
   },
   {
    "duration": 13,
    "start_time": "2022-04-05T18:28:40.245Z"
   },
   {
    "duration": 3,
    "start_time": "2022-04-05T18:29:23.892Z"
   },
   {
    "duration": 11,
    "start_time": "2022-04-05T18:29:44.362Z"
   },
   {
    "duration": 24,
    "start_time": "2022-04-05T18:31:06.862Z"
   },
   {
    "duration": 10,
    "start_time": "2022-04-05T18:31:37.342Z"
   },
   {
    "duration": 10,
    "start_time": "2022-04-05T18:35:18.771Z"
   },
   {
    "duration": 9,
    "start_time": "2022-04-05T18:37:43.719Z"
   },
   {
    "duration": 20,
    "start_time": "2022-04-05T18:38:42.551Z"
   },
   {
    "duration": 541,
    "start_time": "2022-04-05T18:38:54.251Z"
   },
   {
    "duration": 539,
    "start_time": "2022-04-05T18:39:11.985Z"
   },
   {
    "duration": 539,
    "start_time": "2022-04-05T18:41:36.119Z"
   },
   {
    "duration": 3,
    "start_time": "2022-04-05T18:47:56.373Z"
   },
   {
    "duration": 8,
    "start_time": "2022-04-05T18:47:57.792Z"
   },
   {
    "duration": 3,
    "start_time": "2022-04-05T19:59:26.071Z"
   },
   {
    "duration": 10,
    "start_time": "2022-04-05T19:59:34.320Z"
   },
   {
    "duration": 133,
    "start_time": "2022-04-05T19:59:42.571Z"
   },
   {
    "duration": 27,
    "start_time": "2022-04-05T19:59:51.603Z"
   },
   {
    "duration": 27,
    "start_time": "2022-04-05T20:00:03.014Z"
   },
   {
    "duration": 24,
    "start_time": "2022-04-05T20:00:16.370Z"
   },
   {
    "duration": 14616,
    "start_time": "2022-04-05T20:03:15.387Z"
   },
   {
    "duration": 15,
    "start_time": "2022-04-05T20:03:39.087Z"
   },
   {
    "duration": 6,
    "start_time": "2022-04-05T20:03:51.764Z"
   },
   {
    "duration": 6,
    "start_time": "2022-04-05T20:04:02.762Z"
   },
   {
    "duration": 13,
    "start_time": "2022-04-05T20:04:14.555Z"
   },
   {
    "duration": 21,
    "start_time": "2022-04-05T20:06:11.543Z"
   },
   {
    "duration": 4,
    "start_time": "2022-04-05T20:06:12.961Z"
   },
   {
    "duration": 17,
    "start_time": "2022-04-05T20:06:47.256Z"
   },
   {
    "duration": 12,
    "start_time": "2022-04-05T20:06:48.202Z"
   },
   {
    "duration": 13,
    "start_time": "2022-04-05T20:08:43.117Z"
   },
   {
    "duration": 12,
    "start_time": "2022-04-05T20:08:45.126Z"
   },
   {
    "duration": 12,
    "start_time": "2022-04-05T20:08:48.902Z"
   },
   {
    "duration": 13,
    "start_time": "2022-04-05T20:12:51.410Z"
   },
   {
    "duration": 31,
    "start_time": "2022-04-05T20:17:14.686Z"
   },
   {
    "duration": 6,
    "start_time": "2022-04-05T20:17:29.692Z"
   },
   {
    "duration": 3,
    "start_time": "2022-04-05T20:18:43.639Z"
   },
   {
    "duration": 2134,
    "start_time": "2022-04-05T20:19:47.906Z"
   },
   {
    "duration": 3,
    "start_time": "2022-04-05T20:19:58.904Z"
   },
   {
    "duration": 7,
    "start_time": "2022-04-05T20:20:00.814Z"
   },
   {
    "duration": 24,
    "start_time": "2022-04-05T20:21:49.300Z"
   },
   {
    "duration": 21,
    "start_time": "2022-04-05T20:22:33.860Z"
   },
   {
    "duration": 34,
    "start_time": "2022-04-05T20:22:58.594Z"
   },
   {
    "duration": 17,
    "start_time": "2022-04-05T20:23:30.023Z"
   },
   {
    "duration": 8,
    "start_time": "2022-04-05T20:23:48.814Z"
   },
   {
    "duration": 9,
    "start_time": "2022-04-05T20:24:03.825Z"
   },
   {
    "duration": 9,
    "start_time": "2022-04-05T20:24:24.236Z"
   },
   {
    "duration": 25,
    "start_time": "2022-04-05T20:25:11.368Z"
   },
   {
    "duration": 18,
    "start_time": "2022-04-05T20:25:58.088Z"
   },
   {
    "duration": 3,
    "start_time": "2022-04-05T20:26:16.809Z"
   },
   {
    "duration": 9,
    "start_time": "2022-04-05T20:27:04.045Z"
   },
   {
    "duration": 23,
    "start_time": "2022-04-05T20:27:06.548Z"
   },
   {
    "duration": 11389,
    "start_time": "2022-04-05T20:27:26.094Z"
   },
   {
    "duration": 8,
    "start_time": "2022-04-05T20:28:00.392Z"
   },
   {
    "duration": 5,
    "start_time": "2022-04-05T20:28:04.530Z"
   },
   {
    "duration": 16,
    "start_time": "2022-04-05T20:28:05.768Z"
   },
   {
    "duration": 27,
    "start_time": "2022-04-05T20:28:53.053Z"
   },
   {
    "duration": 3,
    "start_time": "2022-04-05T20:28:55.678Z"
   },
   {
    "duration": 8,
    "start_time": "2022-04-05T20:28:57.705Z"
   },
   {
    "duration": 11367,
    "start_time": "2022-04-05T20:28:59.048Z"
   },
   {
    "duration": 4,
    "start_time": "2022-04-05T20:29:10.417Z"
   },
   {
    "duration": 18,
    "start_time": "2022-04-05T20:29:10.423Z"
   },
   {
    "duration": 5,
    "start_time": "2022-04-05T20:29:16.807Z"
   },
   {
    "duration": 5,
    "start_time": "2022-04-05T20:29:36.243Z"
   },
   {
    "duration": 3,
    "start_time": "2022-04-05T20:29:47.851Z"
   },
   {
    "duration": 9,
    "start_time": "2022-04-05T20:29:49.346Z"
   },
   {
    "duration": 10,
    "start_time": "2022-04-05T20:29:51.351Z"
   },
   {
    "duration": 7,
    "start_time": "2022-04-05T20:30:36.749Z"
   },
   {
    "duration": 6,
    "start_time": "2022-04-05T20:30:49.493Z"
   },
   {
    "duration": 5,
    "start_time": "2022-04-05T20:31:04.539Z"
   },
   {
    "duration": 9,
    "start_time": "2022-04-05T20:31:13.666Z"
   },
   {
    "duration": 138,
    "start_time": "2022-04-05T20:31:24.911Z"
   },
   {
    "duration": 35778,
    "start_time": "2022-04-05T20:31:33.478Z"
   },
   {
    "duration": 143,
    "start_time": "2022-04-05T20:33:31.936Z"
   },
   {
    "duration": 7,
    "start_time": "2022-04-05T20:33:40.631Z"
   },
   {
    "duration": 13,
    "start_time": "2022-04-05T20:34:35.612Z"
   },
   {
    "duration": 8,
    "start_time": "2022-04-05T20:34:37.637Z"
   },
   {
    "duration": 13,
    "start_time": "2022-04-05T20:34:39.856Z"
   },
   {
    "duration": 5,
    "start_time": "2022-04-05T20:34:47.805Z"
   },
   {
    "duration": 4,
    "start_time": "2022-04-05T20:34:53.802Z"
   },
   {
    "duration": 9,
    "start_time": "2022-04-05T20:34:54.951Z"
   },
   {
    "duration": 6,
    "start_time": "2022-04-05T20:34:55.878Z"
   },
   {
    "duration": 6,
    "start_time": "2022-04-05T20:34:56.301Z"
   },
   {
    "duration": 8,
    "start_time": "2022-04-05T20:35:31.418Z"
   },
   {
    "duration": 7,
    "start_time": "2022-04-05T20:35:32.006Z"
   },
   {
    "duration": 4,
    "start_time": "2022-04-05T20:35:34.669Z"
   },
   {
    "duration": 15,
    "start_time": "2022-04-05T20:35:41.576Z"
   },
   {
    "duration": 16,
    "start_time": "2022-04-05T20:36:23.607Z"
   },
   {
    "duration": 8,
    "start_time": "2022-04-05T20:36:28.834Z"
   },
   {
    "duration": 32,
    "start_time": "2022-04-05T20:38:00.345Z"
   },
   {
    "duration": 36,
    "start_time": "2022-04-05T20:38:01.781Z"
   },
   {
    "duration": 12,
    "start_time": "2022-04-05T20:38:07.579Z"
   },
   {
    "duration": 8,
    "start_time": "2022-04-05T20:38:08.795Z"
   },
   {
    "duration": 17,
    "start_time": "2022-04-05T20:38:13.869Z"
   },
   {
    "duration": 8,
    "start_time": "2022-04-05T20:38:15.290Z"
   },
   {
    "duration": 451,
    "start_time": "2022-04-09T04:25:33.609Z"
   },
   {
    "duration": 8,
    "start_time": "2022-04-09T04:25:34.406Z"
   },
   {
    "duration": 15,
    "start_time": "2022-04-09T04:25:35.071Z"
   },
   {
    "duration": 14,
    "start_time": "2022-04-09T04:25:36.771Z"
   },
   {
    "duration": 13,
    "start_time": "2022-04-09T04:25:37.924Z"
   },
   {
    "duration": 12,
    "start_time": "2022-04-09T04:25:38.252Z"
   },
   {
    "duration": 4,
    "start_time": "2022-04-09T04:25:39.044Z"
   },
   {
    "duration": 6,
    "start_time": "2022-04-09T04:25:39.574Z"
   },
   {
    "duration": 3,
    "start_time": "2022-04-09T04:25:40.132Z"
   },
   {
    "duration": 10,
    "start_time": "2022-04-09T04:25:49.792Z"
   },
   {
    "duration": 11,
    "start_time": "2022-04-09T04:25:51.876Z"
   },
   {
    "duration": 6,
    "start_time": "2022-04-09T04:25:53.463Z"
   },
   {
    "duration": 9,
    "start_time": "2022-04-09T04:25:54.460Z"
   },
   {
    "duration": 5,
    "start_time": "2022-04-09T04:26:01.056Z"
   },
   {
    "duration": 10,
    "start_time": "2022-04-09T04:26:02.365Z"
   },
   {
    "duration": 6,
    "start_time": "2022-04-09T04:26:04.823Z"
   },
   {
    "duration": 6,
    "start_time": "2022-04-09T04:26:08.296Z"
   },
   {
    "duration": 6,
    "start_time": "2022-04-09T04:26:11.271Z"
   },
   {
    "duration": 14,
    "start_time": "2022-04-09T04:26:14.295Z"
   },
   {
    "duration": 5,
    "start_time": "2022-04-09T04:26:15.190Z"
   },
   {
    "duration": 9,
    "start_time": "2022-04-09T04:26:17.334Z"
   },
   {
    "duration": 7,
    "start_time": "2022-04-09T04:26:17.723Z"
   },
   {
    "duration": 4,
    "start_time": "2022-04-09T04:26:19.237Z"
   },
   {
    "duration": 11,
    "start_time": "2022-04-09T04:26:19.830Z"
   },
   {
    "duration": 5,
    "start_time": "2022-04-09T04:26:21.296Z"
   },
   {
    "duration": 6,
    "start_time": "2022-04-09T04:26:23.049Z"
   },
   {
    "duration": 8,
    "start_time": "2022-04-09T04:26:23.614Z"
   },
   {
    "duration": 7,
    "start_time": "2022-04-09T04:26:25.427Z"
   },
   {
    "duration": 4,
    "start_time": "2022-04-09T04:26:25.866Z"
   },
   {
    "duration": 4,
    "start_time": "2022-04-09T04:26:28.693Z"
   },
   {
    "duration": 6,
    "start_time": "2022-04-09T04:26:29.073Z"
   },
   {
    "duration": 7,
    "start_time": "2022-04-09T04:26:32.236Z"
   },
   {
    "duration": 6,
    "start_time": "2022-04-09T04:26:32.771Z"
   },
   {
    "duration": 7,
    "start_time": "2022-04-09T04:26:33.526Z"
   },
   {
    "duration": 5,
    "start_time": "2022-04-09T04:26:34.791Z"
   },
   {
    "duration": 8,
    "start_time": "2022-04-09T04:26:37.195Z"
   },
   {
    "duration": 7,
    "start_time": "2022-04-09T04:26:47.813Z"
   },
   {
    "duration": 7,
    "start_time": "2022-04-09T04:26:49.378Z"
   },
   {
    "duration": 18,
    "start_time": "2022-04-09T04:26:52.342Z"
   },
   {
    "duration": 17,
    "start_time": "2022-04-09T04:26:53.321Z"
   },
   {
    "duration": 17,
    "start_time": "2022-04-09T04:26:53.673Z"
   },
   {
    "duration": 3,
    "start_time": "2022-04-09T04:26:54.590Z"
   },
   {
    "duration": 15,
    "start_time": "2022-04-09T04:26:54.838Z"
   },
   {
    "duration": 10,
    "start_time": "2022-04-09T04:26:58.009Z"
   },
   {
    "duration": 3,
    "start_time": "2022-04-09T04:27:00.262Z"
   },
   {
    "duration": 4,
    "start_time": "2022-04-09T04:27:01.444Z"
   },
   {
    "duration": 7,
    "start_time": "2022-04-09T04:27:02.894Z"
   },
   {
    "duration": 12,
    "start_time": "2022-04-09T04:27:02.903Z"
   },
   {
    "duration": 7,
    "start_time": "2022-04-09T04:27:03.162Z"
   },
   {
    "duration": 17,
    "start_time": "2022-04-09T04:27:05.701Z"
   },
   {
    "duration": 12,
    "start_time": "2022-04-09T04:27:07.419Z"
   },
   {
    "duration": 14,
    "start_time": "2022-04-09T04:27:07.761Z"
   },
   {
    "duration": 13,
    "start_time": "2022-04-09T04:27:09.447Z"
   },
   {
    "duration": 12,
    "start_time": "2022-04-09T04:27:10.391Z"
   },
   {
    "duration": 12,
    "start_time": "2022-04-09T04:27:12.002Z"
   },
   {
    "duration": 12,
    "start_time": "2022-04-09T04:27:12.694Z"
   },
   {
    "duration": 12,
    "start_time": "2022-04-09T04:27:13.846Z"
   },
   {
    "duration": 13,
    "start_time": "2022-04-09T04:27:15.662Z"
   },
   {
    "duration": 16,
    "start_time": "2022-04-09T04:27:23.152Z"
   },
   {
    "duration": 22,
    "start_time": "2022-04-09T04:27:29.148Z"
   },
   {
    "duration": 3,
    "start_time": "2022-04-09T04:27:35.043Z"
   },
   {
    "duration": 10,
    "start_time": "2022-04-09T04:27:36.857Z"
   },
   {
    "duration": 13353,
    "start_time": "2022-04-09T04:27:38.376Z"
   },
   {
    "duration": 15,
    "start_time": "2022-04-09T04:27:51.731Z"
   },
   {
    "duration": 5,
    "start_time": "2022-04-09T04:28:11.656Z"
   },
   {
    "duration": 6,
    "start_time": "2022-04-09T04:28:17.669Z"
   },
   {
    "duration": 7,
    "start_time": "2022-04-09T04:28:29.686Z"
   },
   {
    "duration": 12,
    "start_time": "2022-04-09T04:28:46.617Z"
   },
   {
    "duration": 11,
    "start_time": "2022-04-09T04:28:47.549Z"
   },
   {
    "duration": 12,
    "start_time": "2022-04-09T04:28:48.980Z"
   },
   {
    "duration": 11,
    "start_time": "2022-04-09T04:28:50.068Z"
   },
   {
    "duration": 13,
    "start_time": "2022-04-09T04:28:51.069Z"
   },
   {
    "duration": 12,
    "start_time": "2022-04-09T04:28:51.919Z"
   },
   {
    "duration": 19,
    "start_time": "2022-04-09T04:28:56.531Z"
   },
   {
    "duration": 3,
    "start_time": "2022-04-09T04:28:58.577Z"
   },
   {
    "duration": 8,
    "start_time": "2022-04-09T04:29:02.934Z"
   },
   {
    "duration": 10753,
    "start_time": "2022-04-09T04:29:04.119Z"
   },
   {
    "duration": 4,
    "start_time": "2022-04-09T04:29:30.426Z"
   },
   {
    "duration": 17,
    "start_time": "2022-04-09T04:29:31.434Z"
   },
   {
    "duration": 6,
    "start_time": "2022-04-09T04:29:38.909Z"
   },
   {
    "duration": 3,
    "start_time": "2022-04-09T04:29:40.181Z"
   },
   {
    "duration": 2,
    "start_time": "2022-04-09T04:30:06.170Z"
   },
   {
    "duration": 11,
    "start_time": "2022-04-09T04:30:07.186Z"
   },
   {
    "duration": 9,
    "start_time": "2022-04-09T04:30:11.241Z"
   },
   {
    "duration": 9,
    "start_time": "2022-04-09T04:30:13.423Z"
   },
   {
    "duration": 14,
    "start_time": "2022-04-09T04:30:26.192Z"
   },
   {
    "duration": 6,
    "start_time": "2022-04-09T04:30:29.454Z"
   },
   {
    "duration": 4,
    "start_time": "2022-04-09T04:30:31.425Z"
   },
   {
    "duration": 8,
    "start_time": "2022-04-09T04:30:32.299Z"
   },
   {
    "duration": 6,
    "start_time": "2022-04-09T04:30:32.639Z"
   },
   {
    "duration": 8,
    "start_time": "2022-04-09T04:30:33.288Z"
   },
   {
    "duration": 12,
    "start_time": "2022-04-09T04:34:06.226Z"
   },
   {
    "duration": 6,
    "start_time": "2022-04-09T04:34:10.807Z"
   },
   {
    "duration": 12,
    "start_time": "2022-04-09T04:34:53.251Z"
   },
   {
    "duration": 9,
    "start_time": "2022-04-09T04:34:53.760Z"
   },
   {
    "duration": 10,
    "start_time": "2022-04-09T04:35:12.487Z"
   },
   {
    "duration": 6,
    "start_time": "2022-04-09T04:35:15.545Z"
   },
   {
    "duration": 8,
    "start_time": "2022-04-09T04:36:16.942Z"
   },
   {
    "duration": 6,
    "start_time": "2022-04-09T04:36:18.035Z"
   },
   {
    "duration": 10,
    "start_time": "2022-04-09T04:36:38.552Z"
   },
   {
    "duration": 6,
    "start_time": "2022-04-09T04:36:39.173Z"
   },
   {
    "duration": 12,
    "start_time": "2022-04-09T04:36:58.635Z"
   },
   {
    "duration": 8,
    "start_time": "2022-04-09T04:36:59.746Z"
   },
   {
    "duration": 16,
    "start_time": "2022-04-09T04:37:15.264Z"
   },
   {
    "duration": 10,
    "start_time": "2022-04-09T04:37:16.117Z"
   },
   {
    "duration": 11,
    "start_time": "2022-04-09T04:41:55.428Z"
   },
   {
    "duration": 16,
    "start_time": "2022-04-09T04:42:12.661Z"
   },
   {
    "duration": 33,
    "start_time": "2022-04-09T04:42:43.357Z"
   },
   {
    "duration": 73,
    "start_time": "2022-04-09T04:43:00.242Z"
   },
   {
    "duration": 11,
    "start_time": "2022-04-09T04:43:04.671Z"
   },
   {
    "duration": 15,
    "start_time": "2022-04-09T04:43:14.585Z"
   },
   {
    "duration": 7,
    "start_time": "2022-04-09T04:43:28.047Z"
   },
   {
    "duration": 11,
    "start_time": "2022-04-09T04:43:40.733Z"
   },
   {
    "duration": 6,
    "start_time": "2022-04-09T04:43:42.668Z"
   },
   {
    "duration": 35,
    "start_time": "2022-04-09T04:43:52.098Z"
   },
   {
    "duration": 32,
    "start_time": "2022-04-09T04:43:57.597Z"
   },
   {
    "duration": 15,
    "start_time": "2022-04-09T04:44:08.817Z"
   },
   {
    "duration": 15,
    "start_time": "2022-04-09T04:44:15.135Z"
   },
   {
    "duration": 19,
    "start_time": "2022-04-09T04:44:18.685Z"
   },
   {
    "duration": 12,
    "start_time": "2022-04-09T04:45:20.142Z"
   },
   {
    "duration": 13,
    "start_time": "2022-04-09T04:45:53.208Z"
   },
   {
    "duration": 13,
    "start_time": "2022-04-09T04:47:12.573Z"
   },
   {
    "duration": 36,
    "start_time": "2022-04-09T04:47:53.891Z"
   },
   {
    "duration": 13,
    "start_time": "2022-04-09T04:47:58.885Z"
   },
   {
    "duration": 14,
    "start_time": "2022-04-09T04:48:09.079Z"
   },
   {
    "duration": 37,
    "start_time": "2022-04-09T04:49:08.400Z"
   },
   {
    "duration": 81,
    "start_time": "2022-04-09T04:50:15.886Z"
   },
   {
    "duration": 12,
    "start_time": "2022-04-09T04:50:23.537Z"
   },
   {
    "duration": 31,
    "start_time": "2022-04-09T04:50:49.367Z"
   },
   {
    "duration": 9,
    "start_time": "2022-04-09T04:50:55.968Z"
   },
   {
    "duration": 15,
    "start_time": "2022-04-09T04:51:02.468Z"
   },
   {
    "duration": 16,
    "start_time": "2022-04-09T04:51:11.940Z"
   },
   {
    "duration": 13,
    "start_time": "2022-04-09T04:52:03.168Z"
   },
   {
    "duration": 12,
    "start_time": "2022-04-09T04:52:38.196Z"
   },
   {
    "duration": 15,
    "start_time": "2022-04-09T04:54:32.014Z"
   },
   {
    "duration": 19,
    "start_time": "2022-04-09T04:56:09.220Z"
   },
   {
    "duration": 13,
    "start_time": "2022-04-09T04:57:35.268Z"
   },
   {
    "duration": 897,
    "start_time": "2022-04-09T04:58:42.818Z"
   },
   {
    "duration": 15,
    "start_time": "2022-04-09T04:58:50.142Z"
   },
   {
    "duration": 8,
    "start_time": "2022-04-09T05:00:20.710Z"
   },
   {
    "duration": 11,
    "start_time": "2022-04-09T05:00:23.590Z"
   },
   {
    "duration": 14,
    "start_time": "2022-04-09T05:00:24.650Z"
   },
   {
    "duration": 7,
    "start_time": "2022-04-09T05:00:41.699Z"
   },
   {
    "duration": 8,
    "start_time": "2022-04-09T05:00:51.300Z"
   },
   {
    "duration": 939,
    "start_time": "2022-04-09T05:00:58.191Z"
   },
   {
    "duration": 7,
    "start_time": "2022-04-09T05:01:03.376Z"
   },
   {
    "duration": 7,
    "start_time": "2022-04-09T05:01:34.723Z"
   },
   {
    "duration": 7,
    "start_time": "2022-04-09T05:01:37.470Z"
   },
   {
    "duration": 6,
    "start_time": "2022-04-09T05:01:41.279Z"
   },
   {
    "duration": 8,
    "start_time": "2022-04-09T05:01:45.620Z"
   },
   {
    "duration": 4,
    "start_time": "2022-04-09T05:02:38.304Z"
   },
   {
    "duration": 14,
    "start_time": "2022-04-09T05:02:47.877Z"
   },
   {
    "duration": 5,
    "start_time": "2022-04-09T05:02:51.598Z"
   },
   {
    "duration": 53,
    "start_time": "2022-04-09T17:11:11.838Z"
   },
   {
    "duration": 511,
    "start_time": "2022-04-09T17:52:59.100Z"
   },
   {
    "duration": 8,
    "start_time": "2022-04-09T17:53:01.677Z"
   },
   {
    "duration": 16,
    "start_time": "2022-04-09T17:53:01.948Z"
   },
   {
    "duration": 26,
    "start_time": "2022-04-09T17:53:03.984Z"
   },
   {
    "duration": 15,
    "start_time": "2022-04-09T17:53:05.505Z"
   },
   {
    "duration": 15,
    "start_time": "2022-04-09T17:53:06.417Z"
   },
   {
    "duration": 6,
    "start_time": "2022-04-09T17:53:06.770Z"
   },
   {
    "duration": 8,
    "start_time": "2022-04-09T17:53:09.612Z"
   },
   {
    "duration": 4,
    "start_time": "2022-04-09T17:53:09.952Z"
   },
   {
    "duration": 14,
    "start_time": "2022-04-09T17:53:12.745Z"
   },
   {
    "duration": 11,
    "start_time": "2022-04-09T17:53:14.805Z"
   },
   {
    "duration": 7,
    "start_time": "2022-04-09T17:53:15.819Z"
   },
   {
    "duration": 9,
    "start_time": "2022-04-09T17:53:16.378Z"
   },
   {
    "duration": 6,
    "start_time": "2022-04-09T17:53:18.615Z"
   },
   {
    "duration": 10,
    "start_time": "2022-04-09T17:53:19.181Z"
   },
   {
    "duration": 6,
    "start_time": "2022-04-09T17:53:20.707Z"
   },
   {
    "duration": 7,
    "start_time": "2022-04-09T17:53:22.074Z"
   },
   {
    "duration": 6,
    "start_time": "2022-04-09T17:53:22.586Z"
   },
   {
    "duration": 13,
    "start_time": "2022-04-09T17:53:24.269Z"
   },
   {
    "duration": 6,
    "start_time": "2022-04-09T17:53:25.047Z"
   },
   {
    "duration": 8,
    "start_time": "2022-04-09T17:53:39.747Z"
   },
   {
    "duration": 6,
    "start_time": "2022-04-09T17:53:40.475Z"
   },
   {
    "duration": 3,
    "start_time": "2022-04-09T17:54:08.881Z"
   },
   {
    "duration": 15,
    "start_time": "2022-04-09T17:54:09.812Z"
   },
   {
    "duration": 5,
    "start_time": "2022-04-09T17:54:12.149Z"
   },
   {
    "duration": 6,
    "start_time": "2022-04-09T17:54:13.600Z"
   },
   {
    "duration": 8,
    "start_time": "2022-04-09T17:54:14.221Z"
   },
   {
    "duration": 9,
    "start_time": "2022-04-09T17:54:16.679Z"
   },
   {
    "duration": 6,
    "start_time": "2022-04-09T17:54:17.083Z"
   },
   {
    "duration": 6,
    "start_time": "2022-04-09T17:54:49.063Z"
   },
   {
    "duration": 8,
    "start_time": "2022-04-09T17:54:49.409Z"
   },
   {
    "duration": 8,
    "start_time": "2022-04-09T17:54:51.507Z"
   },
   {
    "duration": 8,
    "start_time": "2022-04-09T17:54:51.879Z"
   },
   {
    "duration": 9,
    "start_time": "2022-04-09T17:54:52.292Z"
   },
   {
    "duration": 6,
    "start_time": "2022-04-09T17:54:53.795Z"
   },
   {
    "duration": 9,
    "start_time": "2022-04-09T17:54:55.097Z"
   },
   {
    "duration": 8,
    "start_time": "2022-04-09T17:54:55.524Z"
   },
   {
    "duration": 8,
    "start_time": "2022-04-09T17:54:58.213Z"
   },
   {
    "duration": 20,
    "start_time": "2022-04-09T17:54:59.839Z"
   },
   {
    "duration": 17,
    "start_time": "2022-04-09T17:55:00.395Z"
   },
   {
    "duration": 19,
    "start_time": "2022-04-09T17:55:01.461Z"
   },
   {
    "duration": 5,
    "start_time": "2022-04-09T17:55:01.880Z"
   },
   {
    "duration": 18,
    "start_time": "2022-04-09T17:55:02.349Z"
   },
   {
    "duration": 12,
    "start_time": "2022-04-09T17:55:07.853Z"
   },
   {
    "duration": 3,
    "start_time": "2022-04-09T17:55:09.744Z"
   },
   {
    "duration": 6,
    "start_time": "2022-04-09T17:55:11.478Z"
   },
   {
    "duration": 5,
    "start_time": "2022-04-09T18:50:20.534Z"
   },
   {
    "duration": 8,
    "start_time": "2022-04-09T18:50:23.703Z"
   },
   {
    "duration": 6,
    "start_time": "2022-04-09T18:50:24.868Z"
   },
   {
    "duration": 7,
    "start_time": "2022-04-09T18:50:25.378Z"
   },
   {
    "duration": 21,
    "start_time": "2022-04-09T18:50:27.613Z"
   },
   {
    "duration": 13,
    "start_time": "2022-04-09T18:50:27.998Z"
   },
   {
    "duration": 14,
    "start_time": "2022-04-09T18:50:28.593Z"
   },
   {
    "duration": 13,
    "start_time": "2022-04-09T18:50:30.699Z"
   },
   {
    "duration": 15,
    "start_time": "2022-04-09T18:50:31.366Z"
   },
   {
    "duration": 12,
    "start_time": "2022-04-09T18:50:34.015Z"
   },
   {
    "duration": 13,
    "start_time": "2022-04-09T18:50:35.071Z"
   },
   {
    "duration": 13,
    "start_time": "2022-04-09T18:51:14.349Z"
   },
   {
    "duration": 14,
    "start_time": "2022-04-09T18:51:16.229Z"
   },
   {
    "duration": 17,
    "start_time": "2022-04-09T18:51:16.691Z"
   },
   {
    "duration": 24,
    "start_time": "2022-04-09T18:51:35.319Z"
   },
   {
    "duration": 69,
    "start_time": "2022-04-09T18:52:08.148Z"
   },
   {
    "duration": 11,
    "start_time": "2022-04-09T18:52:30.079Z"
   },
   {
    "duration": 8,
    "start_time": "2022-04-09T18:53:29.803Z"
   },
   {
    "duration": 6,
    "start_time": "2022-04-09T18:53:37.000Z"
   },
   {
    "duration": 11,
    "start_time": "2022-04-09T18:57:19.806Z"
   },
   {
    "duration": 10,
    "start_time": "2022-04-09T18:57:44.447Z"
   },
   {
    "duration": 10,
    "start_time": "2022-04-09T18:57:55.731Z"
   },
   {
    "duration": 2143,
    "start_time": "2022-04-09T18:58:07.583Z"
   },
   {
    "duration": 9,
    "start_time": "2022-04-09T18:58:14.423Z"
   },
   {
    "duration": 5,
    "start_time": "2022-04-09T18:59:04.661Z"
   },
   {
    "duration": 7,
    "start_time": "2022-04-09T18:59:11.165Z"
   },
   {
    "duration": 10,
    "start_time": "2022-04-09T19:00:23.886Z"
   },
   {
    "duration": 16,
    "start_time": "2022-04-09T19:00:57.740Z"
   },
   {
    "duration": 11,
    "start_time": "2022-04-09T19:01:17.066Z"
   },
   {
    "duration": 1038,
    "start_time": "2022-04-09T19:01:45.423Z"
   },
   {
    "duration": 1117,
    "start_time": "2022-04-09T19:01:50.789Z"
   },
   {
    "duration": 2176,
    "start_time": "2022-04-09T19:02:08.634Z"
   },
   {
    "duration": 8,
    "start_time": "2022-04-09T19:02:16.327Z"
   },
   {
    "duration": 5,
    "start_time": "2022-04-09T19:02:40.770Z"
   },
   {
    "duration": 2213,
    "start_time": "2022-04-09T19:02:57.547Z"
   },
   {
    "duration": 2129,
    "start_time": "2022-04-09T19:03:06.894Z"
   },
   {
    "duration": 10,
    "start_time": "2022-04-09T19:03:21.522Z"
   },
   {
    "duration": 2124,
    "start_time": "2022-04-09T19:03:37.319Z"
   },
   {
    "duration": 6,
    "start_time": "2022-04-09T19:03:42.007Z"
   },
   {
    "duration": 1577,
    "start_time": "2022-04-09T19:03:53.961Z"
   },
   {
    "duration": 8,
    "start_time": "2022-04-09T19:04:01.006Z"
   },
   {
    "duration": 8,
    "start_time": "2022-04-09T19:04:11.459Z"
   },
   {
    "duration": 7,
    "start_time": "2022-04-09T19:04:14.888Z"
   },
   {
    "duration": 6,
    "start_time": "2022-04-09T19:04:24.198Z"
   },
   {
    "duration": 6,
    "start_time": "2022-04-09T19:04:30.269Z"
   },
   {
    "duration": 10,
    "start_time": "2022-04-09T19:04:51.936Z"
   },
   {
    "duration": 7,
    "start_time": "2022-04-09T19:05:55.181Z"
   },
   {
    "duration": 4,
    "start_time": "2022-04-09T19:06:16.338Z"
   },
   {
    "duration": 13,
    "start_time": "2022-04-09T19:06:18.936Z"
   },
   {
    "duration": 4,
    "start_time": "2022-04-09T19:06:41.511Z"
   },
   {
    "duration": 11,
    "start_time": "2022-04-09T19:06:43.291Z"
   },
   {
    "duration": 3,
    "start_time": "2022-04-09T19:06:55.909Z"
   },
   {
    "duration": 12,
    "start_time": "2022-04-09T19:06:57.669Z"
   },
   {
    "duration": 16994,
    "start_time": "2022-04-09T19:07:00.416Z"
   },
   {
    "duration": 17,
    "start_time": "2022-04-09T19:07:22.389Z"
   },
   {
    "duration": 12,
    "start_time": "2022-04-09T19:07:33.770Z"
   },
   {
    "duration": 13,
    "start_time": "2022-04-09T19:07:34.366Z"
   },
   {
    "duration": 14,
    "start_time": "2022-04-09T19:07:35.710Z"
   },
   {
    "duration": 13,
    "start_time": "2022-04-09T19:07:36.192Z"
   },
   {
    "duration": 13,
    "start_time": "2022-04-09T19:07:36.698Z"
   },
   {
    "duration": 14,
    "start_time": "2022-04-09T19:07:37.958Z"
   },
   {
    "duration": 20,
    "start_time": "2022-04-09T19:07:44.946Z"
   },
   {
    "duration": 3,
    "start_time": "2022-04-09T19:08:08.377Z"
   },
   {
    "duration": 9,
    "start_time": "2022-04-09T19:08:10.306Z"
   },
   {
    "duration": 13205,
    "start_time": "2022-04-09T19:08:24.737Z"
   },
   {
    "duration": 4,
    "start_time": "2022-04-09T19:08:43.054Z"
   },
   {
    "duration": 17,
    "start_time": "2022-04-09T19:08:44.431Z"
   },
   {
    "duration": 7,
    "start_time": "2022-04-09T19:08:47.677Z"
   },
   {
    "duration": 3,
    "start_time": "2022-04-09T19:08:52.430Z"
   },
   {
    "duration": 13,
    "start_time": "2022-04-09T19:08:54.147Z"
   },
   {
    "duration": 9,
    "start_time": "2022-04-09T19:08:56.343Z"
   },
   {
    "duration": 8,
    "start_time": "2022-04-09T19:09:04.111Z"
   },
   {
    "duration": 15,
    "start_time": "2022-04-09T19:09:06.769Z"
   },
   {
    "duration": 5,
    "start_time": "2022-04-09T19:09:09.757Z"
   },
   {
    "duration": 4,
    "start_time": "2022-04-09T19:09:11.552Z"
   },
   {
    "duration": 9,
    "start_time": "2022-04-09T19:09:12.201Z"
   },
   {
    "duration": 5,
    "start_time": "2022-04-09T19:09:12.670Z"
   },
   {
    "duration": 7,
    "start_time": "2022-04-09T19:09:13.098Z"
   },
   {
    "duration": 16,
    "start_time": "2022-04-09T19:09:31.722Z"
   },
   {
    "duration": 19,
    "start_time": "2022-04-09T19:09:38.853Z"
   },
   {
    "duration": 14,
    "start_time": "2022-04-09T19:09:45.748Z"
   },
   {
    "duration": 18,
    "start_time": "2022-04-09T19:10:14.833Z"
   },
   {
    "duration": 19,
    "start_time": "2022-04-09T19:10:21.357Z"
   },
   {
    "duration": 17,
    "start_time": "2022-04-09T19:10:40.201Z"
   },
   {
    "duration": 86,
    "start_time": "2022-04-09T19:10:53.399Z"
   },
   {
    "duration": 13,
    "start_time": "2022-04-09T19:10:55.879Z"
   },
   {
    "duration": 15,
    "start_time": "2022-04-09T19:11:01.664Z"
   },
   {
    "duration": 2694,
    "start_time": "2022-04-09T19:11:44.381Z"
   },
   {
    "duration": 13,
    "start_time": "2022-04-09T19:11:50.015Z"
   },
   {
    "duration": 13,
    "start_time": "2022-04-09T19:11:54.116Z"
   },
   {
    "duration": 14,
    "start_time": "2022-04-09T19:11:59.050Z"
   },
   {
    "duration": 15,
    "start_time": "2022-04-09T19:12:12.320Z"
   },
   {
    "duration": 16,
    "start_time": "2022-04-09T19:12:15.034Z"
   },
   {
    "duration": 16,
    "start_time": "2022-04-09T19:12:42.641Z"
   },
   {
    "duration": 12,
    "start_time": "2022-04-09T19:12:49.998Z"
   },
   {
    "duration": 13,
    "start_time": "2022-04-09T19:12:52.313Z"
   },
   {
    "duration": 4,
    "start_time": "2022-04-09T19:15:04.785Z"
   },
   {
    "duration": 4,
    "start_time": "2022-04-09T19:15:09.618Z"
   },
   {
    "duration": 19,
    "start_time": "2022-04-09T19:21:55.128Z"
   },
   {
    "duration": 10,
    "start_time": "2022-04-09T19:22:35.308Z"
   },
   {
    "duration": 28,
    "start_time": "2022-04-09T19:23:33.286Z"
   },
   {
    "duration": 7,
    "start_time": "2022-04-09T19:23:42.400Z"
   },
   {
    "duration": 13,
    "start_time": "2022-04-09T19:25:00.197Z"
   },
   {
    "duration": 12,
    "start_time": "2022-04-09T19:26:11.097Z"
   },
   {
    "duration": 8,
    "start_time": "2022-04-09T19:27:34.153Z"
   },
   {
    "duration": 10,
    "start_time": "2022-04-09T19:27:38.269Z"
   },
   {
    "duration": 8,
    "start_time": "2022-04-09T19:29:49.151Z"
   },
   {
    "duration": 8,
    "start_time": "2022-04-09T19:30:50.355Z"
   },
   {
    "duration": 10,
    "start_time": "2022-04-09T19:31:05.171Z"
   },
   {
    "duration": 9,
    "start_time": "2022-04-09T19:31:37.373Z"
   },
   {
    "duration": 13,
    "start_time": "2022-04-09T19:35:17.701Z"
   },
   {
    "duration": 12,
    "start_time": "2022-04-09T19:36:22.683Z"
   },
   {
    "duration": 18,
    "start_time": "2022-04-09T19:38:09.274Z"
   },
   {
    "duration": 18,
    "start_time": "2022-04-09T19:38:14.876Z"
   },
   {
    "duration": 20,
    "start_time": "2022-04-09T19:38:29.734Z"
   },
   {
    "duration": 19,
    "start_time": "2022-04-09T19:38:36.462Z"
   },
   {
    "duration": 18,
    "start_time": "2022-04-09T19:38:56.396Z"
   },
   {
    "duration": 13,
    "start_time": "2022-04-09T19:42:12.211Z"
   },
   {
    "duration": 19,
    "start_time": "2022-04-09T19:43:07.023Z"
   },
   {
    "duration": 16,
    "start_time": "2022-04-09T19:43:24.795Z"
   },
   {
    "duration": 16,
    "start_time": "2022-04-09T19:43:31.268Z"
   },
   {
    "duration": 16,
    "start_time": "2022-04-09T19:44:53.108Z"
   },
   {
    "duration": 19,
    "start_time": "2022-04-09T19:45:57.567Z"
   },
   {
    "duration": 11,
    "start_time": "2022-04-09T19:54:45.052Z"
   },
   {
    "duration": 9,
    "start_time": "2022-04-09T19:54:46.405Z"
   },
   {
    "duration": 515,
    "start_time": "2022-04-09T20:04:11.197Z"
   },
   {
    "duration": 10,
    "start_time": "2022-04-09T20:04:11.714Z"
   },
   {
    "duration": 17,
    "start_time": "2022-04-09T20:04:11.738Z"
   },
   {
    "duration": 18,
    "start_time": "2022-04-09T20:04:11.757Z"
   },
   {
    "duration": 16,
    "start_time": "2022-04-09T20:04:11.776Z"
   },
   {
    "duration": 55,
    "start_time": "2022-04-09T20:04:11.794Z"
   },
   {
    "duration": 6,
    "start_time": "2022-04-09T20:04:11.850Z"
   },
   {
    "duration": 12,
    "start_time": "2022-04-09T20:04:11.858Z"
   },
   {
    "duration": 12,
    "start_time": "2022-04-09T20:04:11.871Z"
   },
   {
    "duration": 15,
    "start_time": "2022-04-09T20:04:11.887Z"
   },
   {
    "duration": 42,
    "start_time": "2022-04-09T20:04:11.903Z"
   },
   {
    "duration": 14,
    "start_time": "2022-04-09T20:04:11.947Z"
   },
   {
    "duration": 12,
    "start_time": "2022-04-09T20:04:11.963Z"
   },
   {
    "duration": 9,
    "start_time": "2022-04-09T20:04:11.977Z"
   },
   {
    "duration": 13,
    "start_time": "2022-04-09T20:04:11.988Z"
   },
   {
    "duration": 12,
    "start_time": "2022-04-09T20:04:12.002Z"
   },
   {
    "duration": 6,
    "start_time": "2022-04-09T20:04:12.038Z"
   },
   {
    "duration": 11,
    "start_time": "2022-04-09T20:04:12.046Z"
   },
   {
    "duration": 19,
    "start_time": "2022-04-09T20:04:12.058Z"
   },
   {
    "duration": 6,
    "start_time": "2022-04-09T20:04:12.079Z"
   },
   {
    "duration": 15,
    "start_time": "2022-04-09T20:04:12.086Z"
   },
   {
    "duration": 10,
    "start_time": "2022-04-09T20:04:12.103Z"
   },
   {
    "duration": 5,
    "start_time": "2022-04-09T20:04:12.138Z"
   },
   {
    "duration": 16,
    "start_time": "2022-04-09T20:04:12.145Z"
   },
   {
    "duration": 7,
    "start_time": "2022-04-09T20:04:12.163Z"
   },
   {
    "duration": 12,
    "start_time": "2022-04-09T20:04:12.172Z"
   },
   {
    "duration": 14,
    "start_time": "2022-04-09T20:04:12.186Z"
   },
   {
    "duration": 7,
    "start_time": "2022-04-09T20:04:12.204Z"
   },
   {
    "duration": 27,
    "start_time": "2022-04-09T20:04:12.213Z"
   },
   {
    "duration": 11,
    "start_time": "2022-04-09T20:04:12.242Z"
   },
   {
    "duration": 13,
    "start_time": "2022-04-09T20:04:12.255Z"
   },
   {
    "duration": 15,
    "start_time": "2022-04-09T20:04:12.269Z"
   },
   {
    "duration": 13,
    "start_time": "2022-04-09T20:04:12.285Z"
   },
   {
    "duration": 14,
    "start_time": "2022-04-09T20:04:12.300Z"
   },
   {
    "duration": 12,
    "start_time": "2022-04-09T20:04:12.315Z"
   },
   {
    "duration": 9,
    "start_time": "2022-04-09T20:04:12.340Z"
   },
   {
    "duration": 14,
    "start_time": "2022-04-09T20:04:12.351Z"
   },
   {
    "duration": 12,
    "start_time": "2022-04-09T20:04:12.367Z"
   },
   {
    "duration": 25,
    "start_time": "2022-04-09T20:04:12.381Z"
   },
   {
    "duration": 35,
    "start_time": "2022-04-09T20:04:12.408Z"
   },
   {
    "duration": 18,
    "start_time": "2022-04-09T20:04:12.445Z"
   },
   {
    "duration": 4,
    "start_time": "2022-04-09T20:04:12.465Z"
   },
   {
    "duration": 20,
    "start_time": "2022-04-09T20:04:12.470Z"
   },
   {
    "duration": 11,
    "start_time": "2022-04-09T20:04:12.492Z"
   },
   {
    "duration": 34,
    "start_time": "2022-04-09T20:04:12.505Z"
   },
   {
    "duration": 11,
    "start_time": "2022-04-09T20:04:12.541Z"
   },
   {
    "duration": 14,
    "start_time": "2022-04-09T20:04:12.554Z"
   },
   {
    "duration": 14,
    "start_time": "2022-04-09T20:04:12.570Z"
   },
   {
    "duration": 15,
    "start_time": "2022-04-09T20:04:12.585Z"
   },
   {
    "duration": 25,
    "start_time": "2022-04-09T20:04:12.602Z"
   },
   {
    "duration": 16,
    "start_time": "2022-04-09T20:04:12.629Z"
   },
   {
    "duration": 13,
    "start_time": "2022-04-09T20:04:12.647Z"
   },
   {
    "duration": 12,
    "start_time": "2022-04-09T20:04:12.662Z"
   },
   {
    "duration": 21,
    "start_time": "2022-04-09T20:04:12.676Z"
   },
   {
    "duration": 41,
    "start_time": "2022-04-09T20:04:12.699Z"
   },
   {
    "duration": 13,
    "start_time": "2022-04-09T20:04:12.742Z"
   },
   {
    "duration": 12,
    "start_time": "2022-04-09T20:04:12.757Z"
   },
   {
    "duration": 13,
    "start_time": "2022-04-09T20:04:12.771Z"
   },
   {
    "duration": 17,
    "start_time": "2022-04-09T20:04:12.786Z"
   },
   {
    "duration": 26,
    "start_time": "2022-04-09T20:04:12.838Z"
   },
   {
    "duration": 3,
    "start_time": "2022-04-09T20:04:12.866Z"
   },
   {
    "duration": 18,
    "start_time": "2022-04-09T20:04:12.871Z"
   },
   {
    "duration": 16442,
    "start_time": "2022-04-09T20:04:12.891Z"
   },
   {
    "duration": 16,
    "start_time": "2022-04-09T20:04:29.339Z"
   },
   {
    "duration": 11,
    "start_time": "2022-04-09T20:04:29.357Z"
   },
   {
    "duration": 19,
    "start_time": "2022-04-09T20:04:29.370Z"
   },
   {
    "duration": 13,
    "start_time": "2022-04-09T20:04:29.391Z"
   },
   {
    "duration": 38,
    "start_time": "2022-04-09T20:04:29.406Z"
   },
   {
    "duration": 12,
    "start_time": "2022-04-09T20:04:29.446Z"
   },
   {
    "duration": 12,
    "start_time": "2022-04-09T20:04:29.460Z"
   },
   {
    "duration": 19,
    "start_time": "2022-04-09T20:04:29.474Z"
   },
   {
    "duration": 4,
    "start_time": "2022-04-09T20:04:29.495Z"
   },
   {
    "duration": 10,
    "start_time": "2022-04-09T20:04:29.539Z"
   },
   {
    "duration": 12861,
    "start_time": "2022-04-09T20:04:29.551Z"
   },
   {
    "duration": 5,
    "start_time": "2022-04-09T20:04:42.413Z"
   },
   {
    "duration": 27,
    "start_time": "2022-04-09T20:04:42.419Z"
   },
   {
    "duration": 6,
    "start_time": "2022-04-09T20:04:42.448Z"
   },
   {
    "duration": 8,
    "start_time": "2022-04-09T20:04:42.456Z"
   },
   {
    "duration": 16,
    "start_time": "2022-04-09T20:04:42.466Z"
   },
   {
    "duration": 13,
    "start_time": "2022-04-09T20:04:42.483Z"
   },
   {
    "duration": 9,
    "start_time": "2022-04-09T20:04:42.498Z"
   },
   {
    "duration": 36,
    "start_time": "2022-04-09T20:04:42.513Z"
   },
   {
    "duration": 15,
    "start_time": "2022-04-09T20:04:42.551Z"
   },
   {
    "duration": 6,
    "start_time": "2022-04-09T20:04:42.568Z"
   },
   {
    "duration": 26,
    "start_time": "2022-04-09T20:04:42.575Z"
   },
   {
    "duration": 13,
    "start_time": "2022-04-09T20:04:42.603Z"
   },
   {
    "duration": 13,
    "start_time": "2022-04-09T20:04:42.618Z"
   },
   {
    "duration": 23,
    "start_time": "2022-04-09T20:04:42.633Z"
   },
   {
    "duration": 9,
    "start_time": "2022-04-09T20:04:42.658Z"
   },
   {
    "duration": 21,
    "start_time": "2022-04-09T20:04:42.668Z"
   },
   {
    "duration": 18,
    "start_time": "2022-04-09T20:04:42.691Z"
   },
   {
    "duration": 29,
    "start_time": "2022-04-09T20:04:42.710Z"
   },
   {
    "duration": 15,
    "start_time": "2022-04-09T20:04:42.741Z"
   },
   {
    "duration": 13,
    "start_time": "2022-04-09T20:04:42.758Z"
   },
   {
    "duration": 22,
    "start_time": "2022-04-09T20:04:42.772Z"
   },
   {
    "duration": 43,
    "start_time": "2022-04-10T04:44:46.302Z"
   },
   {
    "duration": 420,
    "start_time": "2022-04-10T04:44:54.370Z"
   },
   {
    "duration": 8,
    "start_time": "2022-04-10T04:44:54.792Z"
   },
   {
    "duration": 16,
    "start_time": "2022-04-10T04:44:54.801Z"
   },
   {
    "duration": 13,
    "start_time": "2022-04-10T04:44:54.819Z"
   },
   {
    "duration": 24,
    "start_time": "2022-04-10T04:44:54.834Z"
   },
   {
    "duration": 11,
    "start_time": "2022-04-10T04:44:54.860Z"
   },
   {
    "duration": 4,
    "start_time": "2022-04-10T04:44:55.140Z"
   },
   {
    "duration": 8,
    "start_time": "2022-04-10T04:44:55.146Z"
   },
   {
    "duration": 3,
    "start_time": "2022-04-10T04:44:55.184Z"
   },
   {
    "duration": 10,
    "start_time": "2022-04-10T04:44:55.188Z"
   },
   {
    "duration": 11,
    "start_time": "2022-04-10T04:44:55.818Z"
   },
   {
    "duration": 12,
    "start_time": "2022-04-10T04:44:55.831Z"
   },
   {
    "duration": 9,
    "start_time": "2022-04-10T04:44:55.845Z"
   },
   {
    "duration": 8,
    "start_time": "2022-04-10T04:44:55.856Z"
   },
   {
    "duration": 10,
    "start_time": "2022-04-10T04:44:55.866Z"
   },
   {
    "duration": 5,
    "start_time": "2022-04-10T04:44:55.877Z"
   },
   {
    "duration": 5,
    "start_time": "2022-04-10T04:44:55.884Z"
   },
   {
    "duration": 5,
    "start_time": "2022-04-10T04:44:55.890Z"
   },
   {
    "duration": 16,
    "start_time": "2022-04-10T04:44:55.897Z"
   },
   {
    "duration": 5,
    "start_time": "2022-04-10T04:44:55.915Z"
   },
   {
    "duration": 37,
    "start_time": "2022-04-10T04:44:55.921Z"
   },
   {
    "duration": 6,
    "start_time": "2022-04-10T04:44:55.960Z"
   },
   {
    "duration": 4,
    "start_time": "2022-04-10T04:44:55.969Z"
   },
   {
    "duration": 12,
    "start_time": "2022-04-10T04:44:55.974Z"
   },
   {
    "duration": 4,
    "start_time": "2022-04-10T04:44:55.987Z"
   },
   {
    "duration": 6,
    "start_time": "2022-04-10T04:44:55.992Z"
   },
   {
    "duration": 13,
    "start_time": "2022-04-10T04:44:55.999Z"
   },
   {
    "duration": 6,
    "start_time": "2022-04-10T04:44:56.014Z"
   },
   {
    "duration": 40,
    "start_time": "2022-04-10T04:44:56.021Z"
   },
   {
    "duration": 7,
    "start_time": "2022-04-10T04:44:56.062Z"
   },
   {
    "duration": 7,
    "start_time": "2022-04-10T04:44:56.070Z"
   },
   {
    "duration": 9,
    "start_time": "2022-04-10T04:44:56.078Z"
   },
   {
    "duration": 8,
    "start_time": "2022-04-10T04:44:56.088Z"
   },
   {
    "duration": 6,
    "start_time": "2022-04-10T04:44:56.098Z"
   },
   {
    "duration": 7,
    "start_time": "2022-04-10T04:44:56.105Z"
   },
   {
    "duration": 8,
    "start_time": "2022-04-10T04:44:56.113Z"
   },
   {
    "duration": 40,
    "start_time": "2022-04-10T04:44:56.123Z"
   },
   {
    "duration": 7,
    "start_time": "2022-04-10T04:44:56.164Z"
   },
   {
    "duration": 17,
    "start_time": "2022-04-10T04:44:56.172Z"
   },
   {
    "duration": 14,
    "start_time": "2022-04-10T04:44:56.190Z"
   },
   {
    "duration": 15,
    "start_time": "2022-04-10T04:44:56.205Z"
   },
   {
    "duration": 4,
    "start_time": "2022-04-10T04:44:56.223Z"
   },
   {
    "duration": 41,
    "start_time": "2022-04-10T04:44:56.228Z"
   },
   {
    "duration": 10,
    "start_time": "2022-04-10T04:44:56.270Z"
   },
   {
    "duration": 6,
    "start_time": "2022-04-10T04:44:56.282Z"
   },
   {
    "duration": 9,
    "start_time": "2022-04-10T04:44:56.290Z"
   },
   {
    "duration": 11,
    "start_time": "2022-04-10T04:44:56.300Z"
   },
   {
    "duration": 5,
    "start_time": "2022-04-10T04:44:56.313Z"
   },
   {
    "duration": 7,
    "start_time": "2022-04-10T04:44:56.319Z"
   },
   {
    "duration": 40,
    "start_time": "2022-04-10T04:44:56.327Z"
   },
   {
    "duration": 11,
    "start_time": "2022-04-10T04:44:56.368Z"
   },
   {
    "duration": 11,
    "start_time": "2022-04-10T04:44:56.381Z"
   },
   {
    "duration": 11,
    "start_time": "2022-04-10T04:44:56.393Z"
   },
   {
    "duration": 11,
    "start_time": "2022-04-10T04:44:56.405Z"
   },
   {
    "duration": 45,
    "start_time": "2022-04-10T04:44:56.417Z"
   },
   {
    "duration": 13,
    "start_time": "2022-04-10T04:44:56.463Z"
   },
   {
    "duration": 10,
    "start_time": "2022-04-10T04:44:56.478Z"
   },
   {
    "duration": 12,
    "start_time": "2022-04-10T04:44:56.490Z"
   },
   {
    "duration": 15,
    "start_time": "2022-04-10T04:44:56.503Z"
   },
   {
    "duration": 24,
    "start_time": "2022-04-10T04:44:58.321Z"
   },
   {
    "duration": 4,
    "start_time": "2022-04-10T04:44:58.346Z"
   },
   {
    "duration": 13,
    "start_time": "2022-04-10T04:44:58.351Z"
   },
   {
    "duration": 14344,
    "start_time": "2022-04-10T04:44:58.365Z"
   },
   {
    "duration": 14,
    "start_time": "2022-04-10T04:45:12.711Z"
   },
   {
    "duration": 10,
    "start_time": "2022-04-10T04:45:12.726Z"
   },
   {
    "duration": 30,
    "start_time": "2022-04-10T04:45:12.737Z"
   },
   {
    "duration": 12,
    "start_time": "2022-04-10T04:45:12.768Z"
   },
   {
    "duration": 11,
    "start_time": "2022-04-10T04:45:12.781Z"
   },
   {
    "duration": 11,
    "start_time": "2022-04-10T04:45:12.793Z"
   },
   {
    "duration": 12,
    "start_time": "2022-04-10T04:45:12.806Z"
   },
   {
    "duration": 41,
    "start_time": "2022-04-10T04:45:12.820Z"
   },
   {
    "duration": 3,
    "start_time": "2022-04-10T04:45:12.863Z"
   },
   {
    "duration": 24,
    "start_time": "2022-04-10T04:45:12.868Z"
   },
   {
    "duration": 11316,
    "start_time": "2022-04-10T04:45:12.893Z"
   },
   {
    "duration": 5,
    "start_time": "2022-04-10T04:45:24.211Z"
   },
   {
    "duration": 15,
    "start_time": "2022-04-10T04:45:24.218Z"
   },
   {
    "duration": 25,
    "start_time": "2022-04-10T04:45:24.235Z"
   },
   {
    "duration": 4,
    "start_time": "2022-04-10T04:45:24.262Z"
   },
   {
    "duration": 11,
    "start_time": "2022-04-10T04:45:24.267Z"
   },
   {
    "duration": 8,
    "start_time": "2022-04-10T04:45:24.280Z"
   },
   {
    "duration": 7,
    "start_time": "2022-04-10T04:45:24.290Z"
   },
   {
    "duration": 13,
    "start_time": "2022-04-10T04:45:24.298Z"
   },
   {
    "duration": 7,
    "start_time": "2022-04-10T04:45:24.312Z"
   },
   {
    "duration": 39,
    "start_time": "2022-04-10T04:45:24.320Z"
   },
   {
    "duration": 12,
    "start_time": "2022-04-10T04:45:24.361Z"
   },
   {
    "duration": 7,
    "start_time": "2022-04-10T04:45:24.374Z"
   },
   {
    "duration": 9,
    "start_time": "2022-04-10T04:45:24.382Z"
   },
   {
    "duration": 14,
    "start_time": "2022-04-10T04:45:24.392Z"
   },
   {
    "duration": 7,
    "start_time": "2022-04-10T04:45:24.407Z"
   },
   {
    "duration": 85,
    "start_time": "2022-04-10T04:45:24.416Z"
   },
   {
    "duration": 0,
    "start_time": "2022-04-10T04:45:24.502Z"
   },
   {
    "duration": 0,
    "start_time": "2022-04-10T04:45:24.503Z"
   },
   {
    "duration": 0,
    "start_time": "2022-04-10T04:45:24.504Z"
   },
   {
    "duration": 0,
    "start_time": "2022-04-10T04:45:24.505Z"
   },
   {
    "duration": 0,
    "start_time": "2022-04-10T04:45:24.506Z"
   },
   {
    "duration": 0,
    "start_time": "2022-04-10T04:45:24.507Z"
   },
   {
    "duration": 2084,
    "start_time": "2022-04-10T04:45:27.553Z"
   },
   {
    "duration": 12,
    "start_time": "2022-04-10T04:45:37.768Z"
   },
   {
    "duration": 18,
    "start_time": "2022-04-10T04:46:01.323Z"
   },
   {
    "duration": 21,
    "start_time": "2022-04-10T04:46:20.043Z"
   },
   {
    "duration": 15,
    "start_time": "2022-04-10T04:46:35.625Z"
   },
   {
    "duration": 18,
    "start_time": "2022-04-10T04:46:39.055Z"
   },
   {
    "duration": 12,
    "start_time": "2022-04-10T04:47:00.387Z"
   },
   {
    "duration": 22,
    "start_time": "2022-04-10T04:47:03.262Z"
   },
   {
    "duration": 23,
    "start_time": "2022-04-10T04:47:16.397Z"
   },
   {
    "duration": 2148,
    "start_time": "2022-04-10T04:48:44.563Z"
   },
   {
    "duration": 2017,
    "start_time": "2022-04-10T04:48:52.454Z"
   },
   {
    "duration": 423,
    "start_time": "2022-04-10T04:53:37.371Z"
   },
   {
    "duration": 8,
    "start_time": "2022-04-10T04:53:37.796Z"
   },
   {
    "duration": 16,
    "start_time": "2022-04-10T04:53:37.805Z"
   },
   {
    "duration": 14,
    "start_time": "2022-04-10T04:53:37.823Z"
   },
   {
    "duration": 28,
    "start_time": "2022-04-10T04:53:37.839Z"
   },
   {
    "duration": 12,
    "start_time": "2022-04-10T04:53:37.868Z"
   },
   {
    "duration": 4,
    "start_time": "2022-04-10T04:53:37.882Z"
   },
   {
    "duration": 5,
    "start_time": "2022-04-10T04:53:37.887Z"
   },
   {
    "duration": 4,
    "start_time": "2022-04-10T04:53:37.893Z"
   },
   {
    "duration": 10,
    "start_time": "2022-04-10T04:53:37.898Z"
   },
   {
    "duration": 9,
    "start_time": "2022-04-10T04:53:37.910Z"
   },
   {
    "duration": 41,
    "start_time": "2022-04-10T04:53:37.920Z"
   },
   {
    "duration": 8,
    "start_time": "2022-04-10T04:53:37.963Z"
   },
   {
    "duration": 10,
    "start_time": "2022-04-10T04:53:37.974Z"
   },
   {
    "duration": 11,
    "start_time": "2022-04-10T04:53:37.986Z"
   },
   {
    "duration": 6,
    "start_time": "2022-04-10T04:53:37.998Z"
   },
   {
    "duration": 6,
    "start_time": "2022-04-10T04:53:38.005Z"
   },
   {
    "duration": 6,
    "start_time": "2022-04-10T04:53:38.012Z"
   },
   {
    "duration": 14,
    "start_time": "2022-04-10T04:53:38.020Z"
   },
   {
    "duration": 6,
    "start_time": "2022-04-10T04:53:38.057Z"
   },
   {
    "duration": 8,
    "start_time": "2022-04-10T04:53:38.065Z"
   },
   {
    "duration": 6,
    "start_time": "2022-04-10T04:53:38.075Z"
   },
   {
    "duration": 3,
    "start_time": "2022-04-10T04:53:38.082Z"
   },
   {
    "duration": 11,
    "start_time": "2022-04-10T04:53:38.086Z"
   },
   {
    "duration": 4,
    "start_time": "2022-04-10T04:53:38.098Z"
   },
   {
    "duration": 5,
    "start_time": "2022-04-10T04:53:38.104Z"
   },
   {
    "duration": 7,
    "start_time": "2022-04-10T04:53:38.111Z"
   },
   {
    "duration": 7,
    "start_time": "2022-04-10T04:53:38.158Z"
   },
   {
    "duration": 5,
    "start_time": "2022-04-10T04:53:38.167Z"
   },
   {
    "duration": 7,
    "start_time": "2022-04-10T04:53:38.173Z"
   },
   {
    "duration": 7,
    "start_time": "2022-04-10T04:53:38.181Z"
   },
   {
    "duration": 8,
    "start_time": "2022-04-10T04:53:38.189Z"
   },
   {
    "duration": 8,
    "start_time": "2022-04-10T04:53:38.199Z"
   },
   {
    "duration": 6,
    "start_time": "2022-04-10T04:53:38.209Z"
   },
   {
    "duration": 8,
    "start_time": "2022-04-10T04:53:38.216Z"
   },
   {
    "duration": 36,
    "start_time": "2022-04-10T04:53:38.225Z"
   },
   {
    "duration": 8,
    "start_time": "2022-04-10T04:53:38.262Z"
   },
   {
    "duration": 6,
    "start_time": "2022-04-10T04:53:38.272Z"
   },
   {
    "duration": 19,
    "start_time": "2022-04-10T04:53:38.279Z"
   },
   {
    "duration": 14,
    "start_time": "2022-04-10T04:53:38.300Z"
   },
   {
    "duration": 41,
    "start_time": "2022-04-10T04:53:38.318Z"
   },
   {
    "duration": 4,
    "start_time": "2022-04-10T04:53:38.360Z"
   },
   {
    "duration": 16,
    "start_time": "2022-04-10T04:53:38.365Z"
   },
   {
    "duration": 10,
    "start_time": "2022-04-10T04:53:38.382Z"
   },
   {
    "duration": 5,
    "start_time": "2022-04-10T04:53:38.393Z"
   },
   {
    "duration": 6,
    "start_time": "2022-04-10T04:53:38.400Z"
   },
   {
    "duration": 8,
    "start_time": "2022-04-10T04:53:38.407Z"
   },
   {
    "duration": 5,
    "start_time": "2022-04-10T04:53:38.416Z"
   },
   {
    "duration": 37,
    "start_time": "2022-04-10T04:53:38.422Z"
   },
   {
    "duration": 16,
    "start_time": "2022-04-10T04:53:38.460Z"
   },
   {
    "duration": 9,
    "start_time": "2022-04-10T04:53:38.478Z"
   },
   {
    "duration": 10,
    "start_time": "2022-04-10T04:53:38.489Z"
   },
   {
    "duration": 9,
    "start_time": "2022-04-10T04:53:38.500Z"
   },
   {
    "duration": 11,
    "start_time": "2022-04-10T04:53:38.510Z"
   },
   {
    "duration": 43,
    "start_time": "2022-04-10T04:53:38.522Z"
   },
   {
    "duration": 10,
    "start_time": "2022-04-10T04:53:38.567Z"
   },
   {
    "duration": 9,
    "start_time": "2022-04-10T04:53:38.578Z"
   },
   {
    "duration": 10,
    "start_time": "2022-04-10T04:53:38.588Z"
   },
   {
    "duration": 13,
    "start_time": "2022-04-10T04:53:38.600Z"
   },
   {
    "duration": 52,
    "start_time": "2022-04-10T04:53:38.614Z"
   },
   {
    "duration": 3,
    "start_time": "2022-04-10T04:53:38.668Z"
   },
   {
    "duration": 11,
    "start_time": "2022-04-10T04:53:38.672Z"
   },
   {
    "duration": 14009,
    "start_time": "2022-04-10T04:53:38.684Z"
   },
   {
    "duration": 13,
    "start_time": "2022-04-10T04:53:52.695Z"
   },
   {
    "duration": 9,
    "start_time": "2022-04-10T04:53:52.710Z"
   },
   {
    "duration": 10,
    "start_time": "2022-04-10T04:53:52.721Z"
   },
   {
    "duration": 33,
    "start_time": "2022-04-10T04:53:52.733Z"
   },
   {
    "duration": 10,
    "start_time": "2022-04-10T04:53:52.768Z"
   },
   {
    "duration": 10,
    "start_time": "2022-04-10T04:53:52.779Z"
   },
   {
    "duration": 9,
    "start_time": "2022-04-10T04:53:52.791Z"
   },
   {
    "duration": 16,
    "start_time": "2022-04-10T04:53:52.801Z"
   },
   {
    "duration": 3,
    "start_time": "2022-04-10T04:53:52.818Z"
   },
   {
    "duration": 41,
    "start_time": "2022-04-10T04:53:52.822Z"
   },
   {
    "duration": 11418,
    "start_time": "2022-04-10T04:53:52.864Z"
   },
   {
    "duration": 4,
    "start_time": "2022-04-10T04:54:04.284Z"
   },
   {
    "duration": 17,
    "start_time": "2022-04-10T04:54:04.289Z"
   },
   {
    "duration": 5,
    "start_time": "2022-04-10T04:54:04.308Z"
   },
   {
    "duration": 6,
    "start_time": "2022-04-10T04:54:04.314Z"
   },
   {
    "duration": 12,
    "start_time": "2022-04-10T04:54:04.321Z"
   },
   {
    "duration": 29,
    "start_time": "2022-04-10T04:54:04.334Z"
   },
   {
    "duration": 6,
    "start_time": "2022-04-10T04:54:04.365Z"
   },
   {
    "duration": 13,
    "start_time": "2022-04-10T04:54:04.373Z"
   },
   {
    "duration": 8,
    "start_time": "2022-04-10T04:54:04.387Z"
   },
   {
    "duration": 5,
    "start_time": "2022-04-10T04:54:04.397Z"
   },
   {
    "duration": 12,
    "start_time": "2022-04-10T04:54:04.403Z"
   },
   {
    "duration": 8,
    "start_time": "2022-04-10T04:54:04.417Z"
   },
   {
    "duration": 10,
    "start_time": "2022-04-10T04:54:04.427Z"
   },
   {
    "duration": 31,
    "start_time": "2022-04-10T04:54:04.438Z"
   },
   {
    "duration": 7,
    "start_time": "2022-04-10T04:54:04.471Z"
   },
   {
    "duration": 19,
    "start_time": "2022-04-10T04:54:04.479Z"
   },
   {
    "duration": 10,
    "start_time": "2022-04-10T04:54:04.500Z"
   },
   {
    "duration": 48,
    "start_time": "2022-04-10T04:54:04.512Z"
   },
   {
    "duration": 12,
    "start_time": "2022-04-10T04:54:04.562Z"
   },
   {
    "duration": 16,
    "start_time": "2022-04-10T04:54:04.576Z"
   },
   {
    "duration": 15,
    "start_time": "2022-04-10T04:54:04.593Z"
   },
   {
    "duration": 13,
    "start_time": "2022-04-10T04:54:04.610Z"
   }
  ],
  "kernelspec": {
   "display_name": "Python 3 (ipykernel)",
   "language": "python",
   "name": "python3"
  },
  "language_info": {
   "codemirror_mode": {
    "name": "ipython",
    "version": 3
   },
   "file_extension": ".py",
   "mimetype": "text/x-python",
   "name": "python",
   "nbconvert_exporter": "python",
   "pygments_lexer": "ipython3",
   "version": "3.9.5"
  },
  "toc": {
   "base_numbering": 1,
   "nav_menu": {},
   "number_sections": true,
   "sideBar": true,
   "skip_h1_title": true,
   "title_cell": "Table of Contents",
   "title_sidebar": "Contents",
   "toc_cell": false,
   "toc_position": {},
   "toc_section_display": true,
   "toc_window_display": false
  }
 },
 "nbformat": 4,
 "nbformat_minor": 2
}
