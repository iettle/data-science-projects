{
 "cells": [
  {
   "cell_type": "markdown",
   "metadata": {},
   "source": [
    "# Predicting Customer Churn\n",
    "\n",
    "Beta Bank customers are leaving: little by little, chipping away every month. The bankers figured out it’s cheaper to save the existing customers rather than to attract new ones.\n",
    "\n",
    "Using data on clients' past behavior, I will build a model to predict whether a customer is likely to leave the bank soon. The goal of this project will be to obtain a model that has an F1 score of at least 0.59 on the test set. Additionally, the AUC-ROC metric will be calculated.\n",
    "\n",
    "To build this model, I will first preprocess the data by filling missing values, standardizing numerical features, and encoding categorical features using OHE.\n",
    "\n",
    "Then, I will split the data into training, test, and validation datasets. For this project, the target that we want to predict is the `Exited` column (turned into `has_left` during the project). I will train a Decision Tree model, Random Forest model, and a Logistic Regressor using various hyperparameters before and after taking clas imbalance into account. I will test the model with the highest F1 score on the test dataset."
   ]
  },
  {
   "cell_type": "markdown",
   "metadata": {},
   "source": [
    "## Initialization"
   ]
  },
  {
   "cell_type": "markdown",
   "metadata": {},
   "source": [
    "To begin, I will import libraries needed throughout the project, load the dataset, and observe the data."
   ]
  },
  {
   "cell_type": "code",
   "execution_count": 1,
   "metadata": {},
   "outputs": [],
   "source": [
    "# import libraries\n",
    "import pandas as pd\n",
    "from sklearn.model_selection import train_test_split\n",
    "from sklearn.metrics import accuracy_score\n",
    "from sklearn.tree import DecisionTreeClassifier\n",
    "from sklearn.ensemble import RandomForestClassifier\n",
    "from sklearn.linear_model import LogisticRegression\n",
    "from sklearn.dummy import DummyClassifier\n",
    "from sklearn.preprocessing import StandardScaler\n",
    "from sklearn.metrics import f1_score\n",
    "from sklearn.metrics import roc_auc_score\n",
    "from sklearn.utils import shuffle\n",
    "from sklearn.preprocessing import OrdinalEncoder"
   ]
  },
  {
   "cell_type": "markdown",
   "metadata": {},
   "source": [
    "### Loading Datasets"
   ]
  },
  {
   "cell_type": "code",
   "execution_count": 2,
   "metadata": {},
   "outputs": [],
   "source": [
    "# loading datasets \n",
    "try:\n",
    "    df = pd.read_csv('/datasets/Churn.csv')\n",
    "except:\n",
    "    print(\"The data file could not be read.\")"
   ]
  },
  {
   "cell_type": "markdown",
   "metadata": {},
   "source": [
    "### Check Data"
   ]
  },
  {
   "cell_type": "code",
   "execution_count": 3,
   "metadata": {},
   "outputs": [
    {
     "name": "stdout",
     "output_type": "stream",
     "text": [
      "<class 'pandas.core.frame.DataFrame'>\n",
      "RangeIndex: 10000 entries, 0 to 9999\n",
      "Data columns (total 14 columns):\n",
      " #   Column           Non-Null Count  Dtype  \n",
      "---  ------           --------------  -----  \n",
      " 0   RowNumber        10000 non-null  int64  \n",
      " 1   CustomerId       10000 non-null  int64  \n",
      " 2   Surname          10000 non-null  object \n",
      " 3   CreditScore      10000 non-null  int64  \n",
      " 4   Geography        10000 non-null  object \n",
      " 5   Gender           10000 non-null  object \n",
      " 6   Age              10000 non-null  int64  \n",
      " 7   Tenure           9091 non-null   float64\n",
      " 8   Balance          10000 non-null  float64\n",
      " 9   NumOfProducts    10000 non-null  int64  \n",
      " 10  HasCrCard        10000 non-null  int64  \n",
      " 11  IsActiveMember   10000 non-null  int64  \n",
      " 12  EstimatedSalary  10000 non-null  float64\n",
      " 13  Exited           10000 non-null  int64  \n",
      "dtypes: float64(3), int64(8), object(3)\n",
      "memory usage: 1.1+ MB\n"
     ]
    }
   ],
   "source": [
    "# checking basic info of the dataset\n",
    "df.info()"
   ]
  },
  {
   "cell_type": "markdown",
   "metadata": {},
   "source": [
    "Only the `Tenure` column has null values - I'll have to take a closer look to determine what to do with these null values. There's also a redundant `RowNumber` column."
   ]
  },
  {
   "cell_type": "code",
   "execution_count": 4,
   "metadata": {
    "scrolled": true
   },
   "outputs": [
    {
     "data": {
      "text/html": [
       "<div>\n",
       "<style scoped>\n",
       "    .dataframe tbody tr th:only-of-type {\n",
       "        vertical-align: middle;\n",
       "    }\n",
       "\n",
       "    .dataframe tbody tr th {\n",
       "        vertical-align: top;\n",
       "    }\n",
       "\n",
       "    .dataframe thead th {\n",
       "        text-align: right;\n",
       "    }\n",
       "</style>\n",
       "<table border=\"1\" class=\"dataframe\">\n",
       "  <thead>\n",
       "    <tr style=\"text-align: right;\">\n",
       "      <th></th>\n",
       "      <th>RowNumber</th>\n",
       "      <th>CustomerId</th>\n",
       "      <th>Surname</th>\n",
       "      <th>CreditScore</th>\n",
       "      <th>Geography</th>\n",
       "      <th>Gender</th>\n",
       "      <th>Age</th>\n",
       "      <th>Tenure</th>\n",
       "      <th>Balance</th>\n",
       "      <th>NumOfProducts</th>\n",
       "      <th>HasCrCard</th>\n",
       "      <th>IsActiveMember</th>\n",
       "      <th>EstimatedSalary</th>\n",
       "      <th>Exited</th>\n",
       "    </tr>\n",
       "  </thead>\n",
       "  <tbody>\n",
       "    <tr>\n",
       "      <th>0</th>\n",
       "      <td>1</td>\n",
       "      <td>15634602</td>\n",
       "      <td>Hargrave</td>\n",
       "      <td>619</td>\n",
       "      <td>France</td>\n",
       "      <td>Female</td>\n",
       "      <td>42</td>\n",
       "      <td>2.0</td>\n",
       "      <td>0.00</td>\n",
       "      <td>1</td>\n",
       "      <td>1</td>\n",
       "      <td>1</td>\n",
       "      <td>101348.88</td>\n",
       "      <td>1</td>\n",
       "    </tr>\n",
       "    <tr>\n",
       "      <th>1</th>\n",
       "      <td>2</td>\n",
       "      <td>15647311</td>\n",
       "      <td>Hill</td>\n",
       "      <td>608</td>\n",
       "      <td>Spain</td>\n",
       "      <td>Female</td>\n",
       "      <td>41</td>\n",
       "      <td>1.0</td>\n",
       "      <td>83807.86</td>\n",
       "      <td>1</td>\n",
       "      <td>0</td>\n",
       "      <td>1</td>\n",
       "      <td>112542.58</td>\n",
       "      <td>0</td>\n",
       "    </tr>\n",
       "    <tr>\n",
       "      <th>2</th>\n",
       "      <td>3</td>\n",
       "      <td>15619304</td>\n",
       "      <td>Onio</td>\n",
       "      <td>502</td>\n",
       "      <td>France</td>\n",
       "      <td>Female</td>\n",
       "      <td>42</td>\n",
       "      <td>8.0</td>\n",
       "      <td>159660.80</td>\n",
       "      <td>3</td>\n",
       "      <td>1</td>\n",
       "      <td>0</td>\n",
       "      <td>113931.57</td>\n",
       "      <td>1</td>\n",
       "    </tr>\n",
       "    <tr>\n",
       "      <th>3</th>\n",
       "      <td>4</td>\n",
       "      <td>15701354</td>\n",
       "      <td>Boni</td>\n",
       "      <td>699</td>\n",
       "      <td>France</td>\n",
       "      <td>Female</td>\n",
       "      <td>39</td>\n",
       "      <td>1.0</td>\n",
       "      <td>0.00</td>\n",
       "      <td>2</td>\n",
       "      <td>0</td>\n",
       "      <td>0</td>\n",
       "      <td>93826.63</td>\n",
       "      <td>0</td>\n",
       "    </tr>\n",
       "    <tr>\n",
       "      <th>4</th>\n",
       "      <td>5</td>\n",
       "      <td>15737888</td>\n",
       "      <td>Mitchell</td>\n",
       "      <td>850</td>\n",
       "      <td>Spain</td>\n",
       "      <td>Female</td>\n",
       "      <td>43</td>\n",
       "      <td>2.0</td>\n",
       "      <td>125510.82</td>\n",
       "      <td>1</td>\n",
       "      <td>1</td>\n",
       "      <td>1</td>\n",
       "      <td>79084.10</td>\n",
       "      <td>0</td>\n",
       "    </tr>\n",
       "    <tr>\n",
       "      <th>5</th>\n",
       "      <td>6</td>\n",
       "      <td>15574012</td>\n",
       "      <td>Chu</td>\n",
       "      <td>645</td>\n",
       "      <td>Spain</td>\n",
       "      <td>Male</td>\n",
       "      <td>44</td>\n",
       "      <td>8.0</td>\n",
       "      <td>113755.78</td>\n",
       "      <td>2</td>\n",
       "      <td>1</td>\n",
       "      <td>0</td>\n",
       "      <td>149756.71</td>\n",
       "      <td>1</td>\n",
       "    </tr>\n",
       "    <tr>\n",
       "      <th>6</th>\n",
       "      <td>7</td>\n",
       "      <td>15592531</td>\n",
       "      <td>Bartlett</td>\n",
       "      <td>822</td>\n",
       "      <td>France</td>\n",
       "      <td>Male</td>\n",
       "      <td>50</td>\n",
       "      <td>7.0</td>\n",
       "      <td>0.00</td>\n",
       "      <td>2</td>\n",
       "      <td>1</td>\n",
       "      <td>1</td>\n",
       "      <td>10062.80</td>\n",
       "      <td>0</td>\n",
       "    </tr>\n",
       "    <tr>\n",
       "      <th>7</th>\n",
       "      <td>8</td>\n",
       "      <td>15656148</td>\n",
       "      <td>Obinna</td>\n",
       "      <td>376</td>\n",
       "      <td>Germany</td>\n",
       "      <td>Female</td>\n",
       "      <td>29</td>\n",
       "      <td>4.0</td>\n",
       "      <td>115046.74</td>\n",
       "      <td>4</td>\n",
       "      <td>1</td>\n",
       "      <td>0</td>\n",
       "      <td>119346.88</td>\n",
       "      <td>1</td>\n",
       "    </tr>\n",
       "    <tr>\n",
       "      <th>8</th>\n",
       "      <td>9</td>\n",
       "      <td>15792365</td>\n",
       "      <td>He</td>\n",
       "      <td>501</td>\n",
       "      <td>France</td>\n",
       "      <td>Male</td>\n",
       "      <td>44</td>\n",
       "      <td>4.0</td>\n",
       "      <td>142051.07</td>\n",
       "      <td>2</td>\n",
       "      <td>0</td>\n",
       "      <td>1</td>\n",
       "      <td>74940.50</td>\n",
       "      <td>0</td>\n",
       "    </tr>\n",
       "    <tr>\n",
       "      <th>9</th>\n",
       "      <td>10</td>\n",
       "      <td>15592389</td>\n",
       "      <td>H?</td>\n",
       "      <td>684</td>\n",
       "      <td>France</td>\n",
       "      <td>Male</td>\n",
       "      <td>27</td>\n",
       "      <td>2.0</td>\n",
       "      <td>134603.88</td>\n",
       "      <td>1</td>\n",
       "      <td>1</td>\n",
       "      <td>1</td>\n",
       "      <td>71725.73</td>\n",
       "      <td>0</td>\n",
       "    </tr>\n",
       "  </tbody>\n",
       "</table>\n",
       "</div>"
      ],
      "text/plain": [
       "   RowNumber  CustomerId   Surname  CreditScore Geography  Gender  Age  \\\n",
       "0          1    15634602  Hargrave          619    France  Female   42   \n",
       "1          2    15647311      Hill          608     Spain  Female   41   \n",
       "2          3    15619304      Onio          502    France  Female   42   \n",
       "3          4    15701354      Boni          699    France  Female   39   \n",
       "4          5    15737888  Mitchell          850     Spain  Female   43   \n",
       "5          6    15574012       Chu          645     Spain    Male   44   \n",
       "6          7    15592531  Bartlett          822    France    Male   50   \n",
       "7          8    15656148    Obinna          376   Germany  Female   29   \n",
       "8          9    15792365        He          501    France    Male   44   \n",
       "9         10    15592389        H?          684    France    Male   27   \n",
       "\n",
       "   Tenure    Balance  NumOfProducts  HasCrCard  IsActiveMember  \\\n",
       "0     2.0       0.00              1          1               1   \n",
       "1     1.0   83807.86              1          0               1   \n",
       "2     8.0  159660.80              3          1               0   \n",
       "3     1.0       0.00              2          0               0   \n",
       "4     2.0  125510.82              1          1               1   \n",
       "5     8.0  113755.78              2          1               0   \n",
       "6     7.0       0.00              2          1               1   \n",
       "7     4.0  115046.74              4          1               0   \n",
       "8     4.0  142051.07              2          0               1   \n",
       "9     2.0  134603.88              1          1               1   \n",
       "\n",
       "   EstimatedSalary  Exited  \n",
       "0        101348.88       1  \n",
       "1        112542.58       0  \n",
       "2        113931.57       1  \n",
       "3         93826.63       0  \n",
       "4         79084.10       0  \n",
       "5        149756.71       1  \n",
       "6         10062.80       0  \n",
       "7        119346.88       1  \n",
       "8         74940.50       0  \n",
       "9         71725.73       0  "
      ]
     },
     "execution_count": 4,
     "metadata": {},
     "output_type": "execute_result"
    }
   ],
   "source": [
    "# viewing data\n",
    "df.head(10)"
   ]
  },
  {
   "cell_type": "markdown",
   "metadata": {},
   "source": [
    "The data has been loaded."
   ]
  },
  {
   "cell_type": "markdown",
   "metadata": {},
   "source": [
    "## Data Preprocessing"
   ]
  },
  {
   "cell_type": "markdown",
   "metadata": {},
   "source": [
    "### Drop + Rename Columns\n",
    "`RowNumber`, `Surname`, and `CustomerId` can all be dropped, as these are not features that can be used to predict if a customer leaves a bank. I will also make the column names standardized by making them snake case. Some column names will be renamed for consistency and to make them easier to understand. `Geography` will become `country` and `Exited` will become `has_left`."
   ]
  },
  {
   "cell_type": "code",
   "execution_count": 5,
   "metadata": {},
   "outputs": [],
   "source": [
    "# drop row number and surname columns\n",
    "df = df.drop(['RowNumber', 'Surname', 'CustomerId'], axis=1)"
   ]
  },
  {
   "cell_type": "code",
   "execution_count": 6,
   "metadata": {},
   "outputs": [],
   "source": [
    "# make columns lowercase\n",
    "df.columns = df.columns.str.lower()"
   ]
  },
  {
   "cell_type": "code",
   "execution_count": 7,
   "metadata": {},
   "outputs": [
    {
     "data": {
      "text/plain": [
       "Index(['creditscore', 'geography', 'gender', 'age', 'tenure', 'balance',\n",
       "       'numofproducts', 'hascrcard', 'isactivemember', 'estimatedsalary',\n",
       "       'exited'],\n",
       "      dtype='object')"
      ]
     },
     "execution_count": 7,
     "metadata": {},
     "output_type": "execute_result"
    }
   ],
   "source": [
    "# check current column names\n",
    "df.columns"
   ]
  },
  {
   "cell_type": "code",
   "execution_count": 8,
   "metadata": {},
   "outputs": [],
   "source": [
    "# rename columns\n",
    "df.columns = ['credit_score', 'country', 'gender', 'age', 'tenure', 'account_balance', 'num_of_products', 'has_cr_card', 'is_active_member', 'salary', 'has_left']"
   ]
  },
  {
   "cell_type": "code",
   "execution_count": 9,
   "metadata": {},
   "outputs": [
    {
     "data": {
      "text/html": [
       "<div>\n",
       "<style scoped>\n",
       "    .dataframe tbody tr th:only-of-type {\n",
       "        vertical-align: middle;\n",
       "    }\n",
       "\n",
       "    .dataframe tbody tr th {\n",
       "        vertical-align: top;\n",
       "    }\n",
       "\n",
       "    .dataframe thead th {\n",
       "        text-align: right;\n",
       "    }\n",
       "</style>\n",
       "<table border=\"1\" class=\"dataframe\">\n",
       "  <thead>\n",
       "    <tr style=\"text-align: right;\">\n",
       "      <th></th>\n",
       "      <th>credit_score</th>\n",
       "      <th>country</th>\n",
       "      <th>gender</th>\n",
       "      <th>age</th>\n",
       "      <th>tenure</th>\n",
       "      <th>account_balance</th>\n",
       "      <th>num_of_products</th>\n",
       "      <th>has_cr_card</th>\n",
       "      <th>is_active_member</th>\n",
       "      <th>salary</th>\n",
       "      <th>has_left</th>\n",
       "    </tr>\n",
       "  </thead>\n",
       "  <tbody>\n",
       "    <tr>\n",
       "      <th>0</th>\n",
       "      <td>619</td>\n",
       "      <td>France</td>\n",
       "      <td>Female</td>\n",
       "      <td>42</td>\n",
       "      <td>2.0</td>\n",
       "      <td>0.00</td>\n",
       "      <td>1</td>\n",
       "      <td>1</td>\n",
       "      <td>1</td>\n",
       "      <td>101348.88</td>\n",
       "      <td>1</td>\n",
       "    </tr>\n",
       "    <tr>\n",
       "      <th>1</th>\n",
       "      <td>608</td>\n",
       "      <td>Spain</td>\n",
       "      <td>Female</td>\n",
       "      <td>41</td>\n",
       "      <td>1.0</td>\n",
       "      <td>83807.86</td>\n",
       "      <td>1</td>\n",
       "      <td>0</td>\n",
       "      <td>1</td>\n",
       "      <td>112542.58</td>\n",
       "      <td>0</td>\n",
       "    </tr>\n",
       "    <tr>\n",
       "      <th>2</th>\n",
       "      <td>502</td>\n",
       "      <td>France</td>\n",
       "      <td>Female</td>\n",
       "      <td>42</td>\n",
       "      <td>8.0</td>\n",
       "      <td>159660.80</td>\n",
       "      <td>3</td>\n",
       "      <td>1</td>\n",
       "      <td>0</td>\n",
       "      <td>113931.57</td>\n",
       "      <td>1</td>\n",
       "    </tr>\n",
       "    <tr>\n",
       "      <th>3</th>\n",
       "      <td>699</td>\n",
       "      <td>France</td>\n",
       "      <td>Female</td>\n",
       "      <td>39</td>\n",
       "      <td>1.0</td>\n",
       "      <td>0.00</td>\n",
       "      <td>2</td>\n",
       "      <td>0</td>\n",
       "      <td>0</td>\n",
       "      <td>93826.63</td>\n",
       "      <td>0</td>\n",
       "    </tr>\n",
       "    <tr>\n",
       "      <th>4</th>\n",
       "      <td>850</td>\n",
       "      <td>Spain</td>\n",
       "      <td>Female</td>\n",
       "      <td>43</td>\n",
       "      <td>2.0</td>\n",
       "      <td>125510.82</td>\n",
       "      <td>1</td>\n",
       "      <td>1</td>\n",
       "      <td>1</td>\n",
       "      <td>79084.10</td>\n",
       "      <td>0</td>\n",
       "    </tr>\n",
       "  </tbody>\n",
       "</table>\n",
       "</div>"
      ],
      "text/plain": [
       "   credit_score country  gender  age  tenure  account_balance  \\\n",
       "0           619  France  Female   42     2.0             0.00   \n",
       "1           608   Spain  Female   41     1.0         83807.86   \n",
       "2           502  France  Female   42     8.0        159660.80   \n",
       "3           699  France  Female   39     1.0             0.00   \n",
       "4           850   Spain  Female   43     2.0        125510.82   \n",
       "\n",
       "   num_of_products  has_cr_card  is_active_member     salary  has_left  \n",
       "0                1            1                 1  101348.88         1  \n",
       "1                1            0                 1  112542.58         0  \n",
       "2                3            1                 0  113931.57         1  \n",
       "3                2            0                 0   93826.63         0  \n",
       "4                1            1                 1   79084.10         0  "
      ]
     },
     "execution_count": 9,
     "metadata": {},
     "output_type": "execute_result"
    }
   ],
   "source": [
    "# view data\n",
    "df.head()"
   ]
  },
  {
   "cell_type": "markdown",
   "metadata": {},
   "source": [
    "### Missing Values in Tenure"
   ]
  },
  {
   "cell_type": "markdown",
   "metadata": {},
   "source": [
    "About 10% of our data has NaN values for this column, and the other columns will be valuable for training our model. As such, we cannot drop these rows and will need to come up with a sufficient way to fill in the data."
   ]
  },
  {
   "cell_type": "code",
   "execution_count": 10,
   "metadata": {},
   "outputs": [
    {
     "data": {
      "text/plain": [
       "array([ 2.,  1.,  8.,  7.,  4.,  6.,  3., 10.,  5.,  9.,  0., nan])"
      ]
     },
     "execution_count": 10,
     "metadata": {},
     "output_type": "execute_result"
    }
   ],
   "source": [
    "# viewing unique values in tenure column\n",
    "df['tenure'].unique()"
   ]
  },
  {
   "cell_type": "markdown",
   "metadata": {},
   "source": [
    "The tenure column has integer values, excluding the NaN. After filling in the missing values, I will convert this column to be an integer type."
   ]
  },
  {
   "cell_type": "code",
   "execution_count": 11,
   "metadata": {},
   "outputs": [
    {
     "data": {
      "text/html": [
       "<div>\n",
       "<style scoped>\n",
       "    .dataframe tbody tr th:only-of-type {\n",
       "        vertical-align: middle;\n",
       "    }\n",
       "\n",
       "    .dataframe tbody tr th {\n",
       "        vertical-align: top;\n",
       "    }\n",
       "\n",
       "    .dataframe thead th {\n",
       "        text-align: right;\n",
       "    }\n",
       "</style>\n",
       "<table border=\"1\" class=\"dataframe\">\n",
       "  <thead>\n",
       "    <tr style=\"text-align: right;\">\n",
       "      <th></th>\n",
       "      <th>credit_score</th>\n",
       "      <th>country</th>\n",
       "      <th>gender</th>\n",
       "      <th>age</th>\n",
       "      <th>tenure</th>\n",
       "      <th>account_balance</th>\n",
       "      <th>num_of_products</th>\n",
       "      <th>has_cr_card</th>\n",
       "      <th>is_active_member</th>\n",
       "      <th>salary</th>\n",
       "      <th>has_left</th>\n",
       "    </tr>\n",
       "  </thead>\n",
       "  <tbody>\n",
       "    <tr>\n",
       "      <th>30</th>\n",
       "      <td>591</td>\n",
       "      <td>Spain</td>\n",
       "      <td>Female</td>\n",
       "      <td>39</td>\n",
       "      <td>NaN</td>\n",
       "      <td>0.00</td>\n",
       "      <td>3</td>\n",
       "      <td>1</td>\n",
       "      <td>0</td>\n",
       "      <td>140469.38</td>\n",
       "      <td>1</td>\n",
       "    </tr>\n",
       "    <tr>\n",
       "      <th>48</th>\n",
       "      <td>550</td>\n",
       "      <td>Germany</td>\n",
       "      <td>Male</td>\n",
       "      <td>38</td>\n",
       "      <td>NaN</td>\n",
       "      <td>103391.38</td>\n",
       "      <td>1</td>\n",
       "      <td>0</td>\n",
       "      <td>1</td>\n",
       "      <td>90878.13</td>\n",
       "      <td>0</td>\n",
       "    </tr>\n",
       "    <tr>\n",
       "      <th>51</th>\n",
       "      <td>585</td>\n",
       "      <td>Germany</td>\n",
       "      <td>Male</td>\n",
       "      <td>36</td>\n",
       "      <td>NaN</td>\n",
       "      <td>146050.97</td>\n",
       "      <td>2</td>\n",
       "      <td>0</td>\n",
       "      <td>0</td>\n",
       "      <td>86424.57</td>\n",
       "      <td>0</td>\n",
       "    </tr>\n",
       "    <tr>\n",
       "      <th>53</th>\n",
       "      <td>655</td>\n",
       "      <td>Germany</td>\n",
       "      <td>Male</td>\n",
       "      <td>41</td>\n",
       "      <td>NaN</td>\n",
       "      <td>125561.97</td>\n",
       "      <td>1</td>\n",
       "      <td>0</td>\n",
       "      <td>0</td>\n",
       "      <td>164040.94</td>\n",
       "      <td>1</td>\n",
       "    </tr>\n",
       "    <tr>\n",
       "      <th>60</th>\n",
       "      <td>742</td>\n",
       "      <td>Germany</td>\n",
       "      <td>Male</td>\n",
       "      <td>35</td>\n",
       "      <td>NaN</td>\n",
       "      <td>136857.00</td>\n",
       "      <td>1</td>\n",
       "      <td>0</td>\n",
       "      <td>0</td>\n",
       "      <td>84509.57</td>\n",
       "      <td>0</td>\n",
       "    </tr>\n",
       "    <tr>\n",
       "      <th>82</th>\n",
       "      <td>543</td>\n",
       "      <td>France</td>\n",
       "      <td>Female</td>\n",
       "      <td>36</td>\n",
       "      <td>NaN</td>\n",
       "      <td>0.00</td>\n",
       "      <td>2</td>\n",
       "      <td>0</td>\n",
       "      <td>0</td>\n",
       "      <td>26019.59</td>\n",
       "      <td>0</td>\n",
       "    </tr>\n",
       "    <tr>\n",
       "      <th>85</th>\n",
       "      <td>652</td>\n",
       "      <td>Spain</td>\n",
       "      <td>Female</td>\n",
       "      <td>75</td>\n",
       "      <td>NaN</td>\n",
       "      <td>0.00</td>\n",
       "      <td>2</td>\n",
       "      <td>1</td>\n",
       "      <td>1</td>\n",
       "      <td>114675.75</td>\n",
       "      <td>0</td>\n",
       "    </tr>\n",
       "    <tr>\n",
       "      <th>94</th>\n",
       "      <td>730</td>\n",
       "      <td>Spain</td>\n",
       "      <td>Male</td>\n",
       "      <td>42</td>\n",
       "      <td>NaN</td>\n",
       "      <td>0.00</td>\n",
       "      <td>2</td>\n",
       "      <td>0</td>\n",
       "      <td>1</td>\n",
       "      <td>85982.47</td>\n",
       "      <td>0</td>\n",
       "    </tr>\n",
       "    <tr>\n",
       "      <th>99</th>\n",
       "      <td>413</td>\n",
       "      <td>France</td>\n",
       "      <td>Male</td>\n",
       "      <td>34</td>\n",
       "      <td>NaN</td>\n",
       "      <td>0.00</td>\n",
       "      <td>2</td>\n",
       "      <td>0</td>\n",
       "      <td>0</td>\n",
       "      <td>6534.18</td>\n",
       "      <td>0</td>\n",
       "    </tr>\n",
       "    <tr>\n",
       "      <th>111</th>\n",
       "      <td>538</td>\n",
       "      <td>Germany</td>\n",
       "      <td>Male</td>\n",
       "      <td>39</td>\n",
       "      <td>NaN</td>\n",
       "      <td>108055.10</td>\n",
       "      <td>2</td>\n",
       "      <td>1</td>\n",
       "      <td>0</td>\n",
       "      <td>27231.26</td>\n",
       "      <td>0</td>\n",
       "    </tr>\n",
       "  </tbody>\n",
       "</table>\n",
       "</div>"
      ],
      "text/plain": [
       "     credit_score  country  gender  age  tenure  account_balance  \\\n",
       "30            591    Spain  Female   39     NaN             0.00   \n",
       "48            550  Germany    Male   38     NaN        103391.38   \n",
       "51            585  Germany    Male   36     NaN        146050.97   \n",
       "53            655  Germany    Male   41     NaN        125561.97   \n",
       "60            742  Germany    Male   35     NaN        136857.00   \n",
       "82            543   France  Female   36     NaN             0.00   \n",
       "85            652    Spain  Female   75     NaN             0.00   \n",
       "94            730    Spain    Male   42     NaN             0.00   \n",
       "99            413   France    Male   34     NaN             0.00   \n",
       "111           538  Germany    Male   39     NaN        108055.10   \n",
       "\n",
       "     num_of_products  has_cr_card  is_active_member     salary  has_left  \n",
       "30                 3            1                 0  140469.38         1  \n",
       "48                 1            0                 1   90878.13         0  \n",
       "51                 2            0                 0   86424.57         0  \n",
       "53                 1            0                 0  164040.94         1  \n",
       "60                 1            0                 0   84509.57         0  \n",
       "82                 2            0                 0   26019.59         0  \n",
       "85                 2            1                 1  114675.75         0  \n",
       "94                 2            0                 1   85982.47         0  \n",
       "99                 2            0                 0    6534.18         0  \n",
       "111                2            1                 0   27231.26         0  "
      ]
     },
     "execution_count": 11,
     "metadata": {},
     "output_type": "execute_result"
    }
   ],
   "source": [
    "# view rows with NaN values\n",
    "df[df['tenure'].isna()].head(10)"
   ]
  },
  {
   "cell_type": "markdown",
   "metadata": {},
   "source": [
    "There does not seem to be a pattern for missing tenures, so I will need to fill these values. Since tenure is a period of time, it likely relies on age. As such, I will fill these values with the median based on ages."
   ]
  },
  {
   "cell_type": "code",
   "execution_count": 12,
   "metadata": {},
   "outputs": [
    {
     "data": {
      "text/plain": [
       "age\n",
       "18     4.0\n",
       "19     5.0\n",
       "20     4.0\n",
       "21     4.0\n",
       "22     6.0\n",
       "      ... \n",
       "83     6.0\n",
       "84     8.0\n",
       "85    10.0\n",
       "88    10.0\n",
       "92     1.0\n",
       "Name: tenure, Length: 70, dtype: float64"
      ]
     },
     "execution_count": 12,
     "metadata": {},
     "output_type": "execute_result"
    }
   ],
   "source": [
    "# look at the median values for tenure based on age\n",
    "median_tenures = df[df['tenure'].notnull()].groupby('age').median()['tenure']\n",
    "\n",
    "# round so values are integers\n",
    "median_tenures = median_tenures.round()\n",
    "\n",
    "# view tenures\n",
    "median_tenures"
   ]
  },
  {
   "cell_type": "code",
   "execution_count": 13,
   "metadata": {},
   "outputs": [
    {
     "name": "stdout",
     "output_type": "stream",
     "text": [
      "6.0\n"
     ]
    }
   ],
   "source": [
    "# function to replace nan values\n",
    "def replace_missing_tenure(age):\n",
    "    return median_tenures[age]\n",
    "\n",
    "# checking function works -> output should be 6.0\n",
    "print(replace_missing_tenure(22))"
   ]
  },
  {
   "cell_type": "code",
   "execution_count": 14,
   "metadata": {},
   "outputs": [],
   "source": [
    "# replace all nan values\n",
    "df['tenure'] = df['tenure'].fillna(df['age'].apply(replace_missing_tenure))"
   ]
  },
  {
   "cell_type": "code",
   "execution_count": 15,
   "metadata": {},
   "outputs": [
    {
     "name": "stdout",
     "output_type": "stream",
     "text": [
      "<class 'pandas.core.frame.DataFrame'>\n",
      "RangeIndex: 10000 entries, 0 to 9999\n",
      "Data columns (total 11 columns):\n",
      " #   Column            Non-Null Count  Dtype  \n",
      "---  ------            --------------  -----  \n",
      " 0   credit_score      10000 non-null  int64  \n",
      " 1   country           10000 non-null  object \n",
      " 2   gender            10000 non-null  object \n",
      " 3   age               10000 non-null  int64  \n",
      " 4   tenure            10000 non-null  float64\n",
      " 5   account_balance   10000 non-null  float64\n",
      " 6   num_of_products   10000 non-null  int64  \n",
      " 7   has_cr_card       10000 non-null  int64  \n",
      " 8   is_active_member  10000 non-null  int64  \n",
      " 9   salary            10000 non-null  float64\n",
      " 10  has_left          10000 non-null  int64  \n",
      "dtypes: float64(3), int64(6), object(2)\n",
      "memory usage: 859.5+ KB\n"
     ]
    }
   ],
   "source": [
    "# check values\n",
    "df.info()"
   ]
  },
  {
   "cell_type": "markdown",
   "metadata": {},
   "source": [
    "`tenure` no longer has NaN values. Next, I will convert the `tenure` column to integers."
   ]
  },
  {
   "cell_type": "code",
   "execution_count": 16,
   "metadata": {},
   "outputs": [
    {
     "data": {
      "text/html": [
       "<div>\n",
       "<style scoped>\n",
       "    .dataframe tbody tr th:only-of-type {\n",
       "        vertical-align: middle;\n",
       "    }\n",
       "\n",
       "    .dataframe tbody tr th {\n",
       "        vertical-align: top;\n",
       "    }\n",
       "\n",
       "    .dataframe thead th {\n",
       "        text-align: right;\n",
       "    }\n",
       "</style>\n",
       "<table border=\"1\" class=\"dataframe\">\n",
       "  <thead>\n",
       "    <tr style=\"text-align: right;\">\n",
       "      <th></th>\n",
       "      <th>credit_score</th>\n",
       "      <th>country</th>\n",
       "      <th>gender</th>\n",
       "      <th>age</th>\n",
       "      <th>tenure</th>\n",
       "      <th>account_balance</th>\n",
       "      <th>num_of_products</th>\n",
       "      <th>has_cr_card</th>\n",
       "      <th>is_active_member</th>\n",
       "      <th>salary</th>\n",
       "      <th>has_left</th>\n",
       "    </tr>\n",
       "  </thead>\n",
       "  <tbody>\n",
       "    <tr>\n",
       "      <th>0</th>\n",
       "      <td>619</td>\n",
       "      <td>France</td>\n",
       "      <td>Female</td>\n",
       "      <td>42</td>\n",
       "      <td>2</td>\n",
       "      <td>0.00</td>\n",
       "      <td>1</td>\n",
       "      <td>1</td>\n",
       "      <td>1</td>\n",
       "      <td>101348.88</td>\n",
       "      <td>1</td>\n",
       "    </tr>\n",
       "    <tr>\n",
       "      <th>1</th>\n",
       "      <td>608</td>\n",
       "      <td>Spain</td>\n",
       "      <td>Female</td>\n",
       "      <td>41</td>\n",
       "      <td>1</td>\n",
       "      <td>83807.86</td>\n",
       "      <td>1</td>\n",
       "      <td>0</td>\n",
       "      <td>1</td>\n",
       "      <td>112542.58</td>\n",
       "      <td>0</td>\n",
       "    </tr>\n",
       "    <tr>\n",
       "      <th>2</th>\n",
       "      <td>502</td>\n",
       "      <td>France</td>\n",
       "      <td>Female</td>\n",
       "      <td>42</td>\n",
       "      <td>8</td>\n",
       "      <td>159660.80</td>\n",
       "      <td>3</td>\n",
       "      <td>1</td>\n",
       "      <td>0</td>\n",
       "      <td>113931.57</td>\n",
       "      <td>1</td>\n",
       "    </tr>\n",
       "    <tr>\n",
       "      <th>3</th>\n",
       "      <td>699</td>\n",
       "      <td>France</td>\n",
       "      <td>Female</td>\n",
       "      <td>39</td>\n",
       "      <td>1</td>\n",
       "      <td>0.00</td>\n",
       "      <td>2</td>\n",
       "      <td>0</td>\n",
       "      <td>0</td>\n",
       "      <td>93826.63</td>\n",
       "      <td>0</td>\n",
       "    </tr>\n",
       "    <tr>\n",
       "      <th>4</th>\n",
       "      <td>850</td>\n",
       "      <td>Spain</td>\n",
       "      <td>Female</td>\n",
       "      <td>43</td>\n",
       "      <td>2</td>\n",
       "      <td>125510.82</td>\n",
       "      <td>1</td>\n",
       "      <td>1</td>\n",
       "      <td>1</td>\n",
       "      <td>79084.10</td>\n",
       "      <td>0</td>\n",
       "    </tr>\n",
       "  </tbody>\n",
       "</table>\n",
       "</div>"
      ],
      "text/plain": [
       "   credit_score country  gender  age  tenure  account_balance  \\\n",
       "0           619  France  Female   42       2             0.00   \n",
       "1           608   Spain  Female   41       1         83807.86   \n",
       "2           502  France  Female   42       8        159660.80   \n",
       "3           699  France  Female   39       1             0.00   \n",
       "4           850   Spain  Female   43       2        125510.82   \n",
       "\n",
       "   num_of_products  has_cr_card  is_active_member     salary  has_left  \n",
       "0                1            1                 1  101348.88         1  \n",
       "1                1            0                 1  112542.58         0  \n",
       "2                3            1                 0  113931.57         1  \n",
       "3                2            0                 0   93826.63         0  \n",
       "4                1            1                 1   79084.10         0  "
      ]
     },
     "execution_count": 16,
     "metadata": {},
     "output_type": "execute_result"
    }
   ],
   "source": [
    "# convert data type to integer\n",
    "df['tenure'] = df['tenure'].astype('int')\n",
    "\n",
    "# show data\n",
    "df.head()"
   ]
  },
  {
   "cell_type": "markdown",
   "metadata": {},
   "source": [
    "The missing values in `tenure` have been filled with the median for their age group, and the data type has been casted from float to integer. There are no more NaN values in the dataset."
   ]
  },
  {
   "cell_type": "markdown",
   "metadata": {},
   "source": [
    "## Feature Preparation"
   ]
  },
  {
   "cell_type": "markdown",
   "metadata": {},
   "source": [
    "### OHE for Categorical Features\n",
    "Logistic regression only works with numerical, as opposed to categorical, features. One-Hot Encoding can be used to convert our categorical features to numerical features - separate columns will be created for each value in the categorical category we want. These separate columns will be binary columns, having a value 1 if that feature is true and having a value of 0 if that feature is false.\n",
    "\n",
    "The new features are called **dummy columns**, and we can remove one column (done via `drop_first` below) since its value can easily be inferred based on the values of the remaining columns.\n",
    "\n",
    "Our categorical columns are `country` and `gender`. "
   ]
  },
  {
   "cell_type": "code",
   "execution_count": 17,
   "metadata": {},
   "outputs": [
    {
     "data": {
      "text/plain": [
       "array(['France', 'Spain', 'Germany'], dtype=object)"
      ]
     },
     "execution_count": 17,
     "metadata": {},
     "output_type": "execute_result"
    }
   ],
   "source": [
    "# view unique values of country\n",
    "df['country'].unique()"
   ]
  },
  {
   "cell_type": "code",
   "execution_count": 18,
   "metadata": {},
   "outputs": [
    {
     "data": {
      "text/plain": [
       "array(['Female', 'Male'], dtype=object)"
      ]
     },
     "execution_count": 18,
     "metadata": {},
     "output_type": "execute_result"
    }
   ],
   "source": [
    "# view unique values of gender\n",
    "df['gender'].unique()"
   ]
  },
  {
   "cell_type": "markdown",
   "metadata": {},
   "source": [
    "`country` has three values, and `gender` has two. There will be two dummy columns created for `country` and one for `gender`. First, I will convert these column values to lowercase, then I will create the dummy columns."
   ]
  },
  {
   "cell_type": "code",
   "execution_count": 19,
   "metadata": {},
   "outputs": [],
   "source": [
    "# convert columns to lowercase\n",
    "df['country'] = df['country'].str.lower()\n",
    "df['gender'] = df['gender'].str.lower()"
   ]
  },
  {
   "cell_type": "code",
   "execution_count": 20,
   "metadata": {},
   "outputs": [],
   "source": [
    "# create dummy columns and drop first instance\n",
    "df = pd.get_dummies(df, drop_first=True)"
   ]
  },
  {
   "cell_type": "code",
   "execution_count": 21,
   "metadata": {},
   "outputs": [
    {
     "data": {
      "text/html": [
       "<div>\n",
       "<style scoped>\n",
       "    .dataframe tbody tr th:only-of-type {\n",
       "        vertical-align: middle;\n",
       "    }\n",
       "\n",
       "    .dataframe tbody tr th {\n",
       "        vertical-align: top;\n",
       "    }\n",
       "\n",
       "    .dataframe thead th {\n",
       "        text-align: right;\n",
       "    }\n",
       "</style>\n",
       "<table border=\"1\" class=\"dataframe\">\n",
       "  <thead>\n",
       "    <tr style=\"text-align: right;\">\n",
       "      <th></th>\n",
       "      <th>credit_score</th>\n",
       "      <th>age</th>\n",
       "      <th>tenure</th>\n",
       "      <th>account_balance</th>\n",
       "      <th>num_of_products</th>\n",
       "      <th>has_cr_card</th>\n",
       "      <th>is_active_member</th>\n",
       "      <th>salary</th>\n",
       "      <th>has_left</th>\n",
       "      <th>country_germany</th>\n",
       "      <th>country_spain</th>\n",
       "      <th>gender_male</th>\n",
       "    </tr>\n",
       "  </thead>\n",
       "  <tbody>\n",
       "    <tr>\n",
       "      <th>0</th>\n",
       "      <td>619</td>\n",
       "      <td>42</td>\n",
       "      <td>2</td>\n",
       "      <td>0.00</td>\n",
       "      <td>1</td>\n",
       "      <td>1</td>\n",
       "      <td>1</td>\n",
       "      <td>101348.88</td>\n",
       "      <td>1</td>\n",
       "      <td>0</td>\n",
       "      <td>0</td>\n",
       "      <td>0</td>\n",
       "    </tr>\n",
       "    <tr>\n",
       "      <th>1</th>\n",
       "      <td>608</td>\n",
       "      <td>41</td>\n",
       "      <td>1</td>\n",
       "      <td>83807.86</td>\n",
       "      <td>1</td>\n",
       "      <td>0</td>\n",
       "      <td>1</td>\n",
       "      <td>112542.58</td>\n",
       "      <td>0</td>\n",
       "      <td>0</td>\n",
       "      <td>1</td>\n",
       "      <td>0</td>\n",
       "    </tr>\n",
       "    <tr>\n",
       "      <th>2</th>\n",
       "      <td>502</td>\n",
       "      <td>42</td>\n",
       "      <td>8</td>\n",
       "      <td>159660.80</td>\n",
       "      <td>3</td>\n",
       "      <td>1</td>\n",
       "      <td>0</td>\n",
       "      <td>113931.57</td>\n",
       "      <td>1</td>\n",
       "      <td>0</td>\n",
       "      <td>0</td>\n",
       "      <td>0</td>\n",
       "    </tr>\n",
       "    <tr>\n",
       "      <th>3</th>\n",
       "      <td>699</td>\n",
       "      <td>39</td>\n",
       "      <td>1</td>\n",
       "      <td>0.00</td>\n",
       "      <td>2</td>\n",
       "      <td>0</td>\n",
       "      <td>0</td>\n",
       "      <td>93826.63</td>\n",
       "      <td>0</td>\n",
       "      <td>0</td>\n",
       "      <td>0</td>\n",
       "      <td>0</td>\n",
       "    </tr>\n",
       "    <tr>\n",
       "      <th>4</th>\n",
       "      <td>850</td>\n",
       "      <td>43</td>\n",
       "      <td>2</td>\n",
       "      <td>125510.82</td>\n",
       "      <td>1</td>\n",
       "      <td>1</td>\n",
       "      <td>1</td>\n",
       "      <td>79084.10</td>\n",
       "      <td>0</td>\n",
       "      <td>0</td>\n",
       "      <td>1</td>\n",
       "      <td>0</td>\n",
       "    </tr>\n",
       "  </tbody>\n",
       "</table>\n",
       "</div>"
      ],
      "text/plain": [
       "   credit_score  age  tenure  account_balance  num_of_products  has_cr_card  \\\n",
       "0           619   42       2             0.00                1            1   \n",
       "1           608   41       1         83807.86                1            0   \n",
       "2           502   42       8        159660.80                3            1   \n",
       "3           699   39       1             0.00                2            0   \n",
       "4           850   43       2        125510.82                1            1   \n",
       "\n",
       "   is_active_member     salary  has_left  country_germany  country_spain  \\\n",
       "0                 1  101348.88         1                0              0   \n",
       "1                 1  112542.58         0                0              1   \n",
       "2                 0  113931.57         1                0              0   \n",
       "3                 0   93826.63         0                0              0   \n",
       "4                 1   79084.10         0                0              1   \n",
       "\n",
       "   gender_male  \n",
       "0            0  \n",
       "1            0  \n",
       "2            0  \n",
       "3            0  \n",
       "4            0  "
      ]
     },
     "execution_count": 21,
     "metadata": {},
     "output_type": "execute_result"
    }
   ],
   "source": [
    "# show data with dummy variables\n",
    "df.head()"
   ]
  },
  {
   "cell_type": "markdown",
   "metadata": {},
   "source": [
    "The original columns for `gender` and `country` were removed. The binary columns `country_germany`, `country_spain`, and `gender_male` were created."
   ]
  },
  {
   "cell_type": "markdown",
   "metadata": {},
   "source": [
    "### Splitting the Data\n",
    "\n",
    "Since the test dataset doesn't yet exist, we need to split the source data into three datasets: The training dataset used to train the model, the validation dataset to evaluate the trained model, and the test dataset to give an unbiased final evaluation of the model.\n",
    "\n",
    "It is good practice to do a 3:1:1 split since the test dataset doesn't exist - the training dataset will be made up of 60% of the source data whereas the validation and test datasets will both be 20% of the source data."
   ]
  },
  {
   "cell_type": "code",
   "execution_count": 22,
   "metadata": {},
   "outputs": [],
   "source": [
    "# defining our target and features\n",
    "target = df['has_left']\n",
    "features = df.drop(['has_left'], axis=1)"
   ]
  },
  {
   "cell_type": "code",
   "execution_count": 23,
   "metadata": {},
   "outputs": [],
   "source": [
    "# reserving 20% of the data for the test dataset\n",
    "features_train, features_test, target_train, target_test = train_test_split(\n",
    "    features, target, test_size=0.20, stratify = target, random_state=12345\n",
    ")\n",
    "\n",
    "# splitting the 80% of the source dataset into the training dataset (60%) and validation dataset (20%)  \n",
    "features_train, features_valid, target_train, target_valid = train_test_split(\n",
    "    features_train, target_train, test_size=0.25, stratify = target_train, random_state=12345\n",
    ")"
   ]
  },
  {
   "cell_type": "code",
   "execution_count": 24,
   "metadata": {},
   "outputs": [
    {
     "name": "stdout",
     "output_type": "stream",
     "text": [
      "Training dataset size: 60.00%\n",
      "Validation dataset size: 20.00%\n",
      "Testing dataset size: 20.00%\n"
     ]
    }
   ],
   "source": [
    "# confirming sizes of datasets\n",
    "original_data_size = len(df)\n",
    "print(f'Training dataset size: {len(features_train) / original_data_size:.2%}')\n",
    "print(f'Validation dataset size: {len(features_valid) / original_data_size:.2%}')\n",
    "print(f'Testing dataset size: {len(features_test) / original_data_size:.2%}')"
   ]
  },
  {
   "cell_type": "markdown",
   "metadata": {},
   "source": [
    "### Standardize Numerical Features"
   ]
  },
  {
   "cell_type": "markdown",
   "metadata": {},
   "source": [
    "Next, numeric features must be standardized. By standardizing to relative terms, it prevents features with wider ranges from having a larger weight while our model is being trained."
   ]
  },
  {
   "cell_type": "code",
   "execution_count": 25,
   "metadata": {},
   "outputs": [],
   "source": [
    "# defining our numeric columns\n",
    "numeric = ['credit_score', 'age', 'tenure', 'account_balance', 'salary', 'num_of_products']"
   ]
  },
  {
   "cell_type": "code",
   "execution_count": 26,
   "metadata": {
    "scrolled": true
   },
   "outputs": [
    {
     "data": {
      "text/html": [
       "<div>\n",
       "<style scoped>\n",
       "    .dataframe tbody tr th:only-of-type {\n",
       "        vertical-align: middle;\n",
       "    }\n",
       "\n",
       "    .dataframe tbody tr th {\n",
       "        vertical-align: top;\n",
       "    }\n",
       "\n",
       "    .dataframe thead th {\n",
       "        text-align: right;\n",
       "    }\n",
       "</style>\n",
       "<table border=\"1\" class=\"dataframe\">\n",
       "  <thead>\n",
       "    <tr style=\"text-align: right;\">\n",
       "      <th></th>\n",
       "      <th>credit_score</th>\n",
       "      <th>age</th>\n",
       "      <th>tenure</th>\n",
       "      <th>account_balance</th>\n",
       "      <th>num_of_products</th>\n",
       "      <th>has_cr_card</th>\n",
       "      <th>is_active_member</th>\n",
       "      <th>salary</th>\n",
       "      <th>country_germany</th>\n",
       "      <th>country_spain</th>\n",
       "      <th>gender_male</th>\n",
       "    </tr>\n",
       "  </thead>\n",
       "  <tbody>\n",
       "    <tr>\n",
       "      <th>5536</th>\n",
       "      <td>-0.143332</td>\n",
       "      <td>0.577533</td>\n",
       "      <td>-0.000424</td>\n",
       "      <td>-1.220573</td>\n",
       "      <td>0.797767</td>\n",
       "      <td>1</td>\n",
       "      <td>1</td>\n",
       "      <td>1.029613</td>\n",
       "      <td>0</td>\n",
       "      <td>1</td>\n",
       "      <td>1</td>\n",
       "    </tr>\n",
       "    <tr>\n",
       "      <th>8530</th>\n",
       "      <td>1.632702</td>\n",
       "      <td>-0.564119</td>\n",
       "      <td>-1.091430</td>\n",
       "      <td>0.435807</td>\n",
       "      <td>-0.916018</td>\n",
       "      <td>1</td>\n",
       "      <td>0</td>\n",
       "      <td>0.237986</td>\n",
       "      <td>0</td>\n",
       "      <td>0</td>\n",
       "      <td>0</td>\n",
       "    </tr>\n",
       "    <tr>\n",
       "      <th>1762</th>\n",
       "      <td>1.116413</td>\n",
       "      <td>-0.468981</td>\n",
       "      <td>-1.455098</td>\n",
       "      <td>1.245822</td>\n",
       "      <td>-0.916018</td>\n",
       "      <td>1</td>\n",
       "      <td>1</td>\n",
       "      <td>-0.686104</td>\n",
       "      <td>0</td>\n",
       "      <td>0</td>\n",
       "      <td>0</td>\n",
       "    </tr>\n",
       "    <tr>\n",
       "      <th>9090</th>\n",
       "      <td>1.643028</td>\n",
       "      <td>0.006707</td>\n",
       "      <td>-0.000424</td>\n",
       "      <td>-1.220573</td>\n",
       "      <td>-0.916018</td>\n",
       "      <td>1</td>\n",
       "      <td>0</td>\n",
       "      <td>-0.391097</td>\n",
       "      <td>0</td>\n",
       "      <td>0</td>\n",
       "      <td>0</td>\n",
       "    </tr>\n",
       "    <tr>\n",
       "      <th>8777</th>\n",
       "      <td>-0.484083</td>\n",
       "      <td>-1.420358</td>\n",
       "      <td>-1.455098</td>\n",
       "      <td>1.421989</td>\n",
       "      <td>0.797767</td>\n",
       "      <td>1</td>\n",
       "      <td>0</td>\n",
       "      <td>-1.361559</td>\n",
       "      <td>0</td>\n",
       "      <td>1</td>\n",
       "      <td>1</td>\n",
       "    </tr>\n",
       "  </tbody>\n",
       "</table>\n",
       "</div>"
      ],
      "text/plain": [
       "      credit_score       age    tenure  account_balance  num_of_products  \\\n",
       "5536     -0.143332  0.577533 -0.000424        -1.220573         0.797767   \n",
       "8530      1.632702 -0.564119 -1.091430         0.435807        -0.916018   \n",
       "1762      1.116413 -0.468981 -1.455098         1.245822        -0.916018   \n",
       "9090      1.643028  0.006707 -0.000424        -1.220573        -0.916018   \n",
       "8777     -0.484083 -1.420358 -1.455098         1.421989         0.797767   \n",
       "\n",
       "      has_cr_card  is_active_member    salary  country_germany  country_spain  \\\n",
       "5536            1                 1  1.029613                0              1   \n",
       "8530            1                 0  0.237986                0              0   \n",
       "1762            1                 1 -0.686104                0              0   \n",
       "9090            1                 0 -0.391097                0              0   \n",
       "8777            1                 0 -1.361559                0              1   \n",
       "\n",
       "      gender_male  \n",
       "5536            1  \n",
       "8530            0  \n",
       "1762            0  \n",
       "9090            0  \n",
       "8777            1  "
      ]
     },
     "execution_count": 26,
     "metadata": {},
     "output_type": "execute_result"
    }
   ],
   "source": [
    "pd.options.mode.chained_assignment = None\n",
    "\n",
    "# scaling our numeric columns\n",
    "scaler = StandardScaler()\n",
    "scaler.fit(features_train[numeric])\n",
    "\n",
    "# scaling training, validation, and testing sets\n",
    "features_train[numeric] = scaler.transform(features_train[numeric])\n",
    "features_valid[numeric] = scaler.transform(features_valid[numeric])\n",
    "features_test[numeric] = scaler.transform(features_test[numeric])\n",
    "\n",
    "# show data\n",
    "features_train.head()"
   ]
  },
  {
   "cell_type": "markdown",
   "metadata": {},
   "source": [
    "The data has been standardized."
   ]
  },
  {
   "cell_type": "markdown",
   "metadata": {},
   "source": [
    "### Splitting the Data\n",
    "\n",
    "Since the test dataset doesn't yet exist, we need to split the source data into three datasets: The training dataset used to train the model, the validation dataset to evaluate the trained model, and the test dataset to give an unbiased final evaluation of the model.\n",
    "\n",
    "It is good practice to do a 3:1:1 split since the test dataset doesn't exist - the training dataset will be made up of 60% of the source data whereas the validation and test datasets will both be 20% of the source data."
   ]
  },
  {
   "cell_type": "code",
   "execution_count": 27,
   "metadata": {},
   "outputs": [],
   "source": [
    "# defining our target and features\n",
    "target = df['has_left']\n",
    "features = df.drop(['has_left'], axis=1)"
   ]
  },
  {
   "cell_type": "code",
   "execution_count": 28,
   "metadata": {},
   "outputs": [],
   "source": [
    "# reserving 20% of the data for the test dataset\n",
    "features_train, features_test, target_train, target_test = train_test_split(\n",
    "    features, target, test_size=0.20, random_state=12345\n",
    ")\n",
    "\n",
    "# splitting the 80% of the source dataset into the training dataset (60%) and validation dataset (20%)  \n",
    "features_train, features_valid, target_train, target_valid = train_test_split(\n",
    "    features_train, target_train, test_size=0.25, random_state=12345\n",
    ")"
   ]
  },
  {
   "cell_type": "code",
   "execution_count": 29,
   "metadata": {},
   "outputs": [
    {
     "name": "stdout",
     "output_type": "stream",
     "text": [
      "Training dataset size: 60.00%\n",
      "Validation dataset size: 20.00%\n",
      "Testing dataset size: 20.00%\n"
     ]
    }
   ],
   "source": [
    "# confirming sizes of datasets\n",
    "original_data_size = len(df)\n",
    "print(f'Training dataset size: {len(features_train) / original_data_size:.2%}')\n",
    "print(f'Validation dataset size: {len(features_valid) / original_data_size:.2%}')\n",
    "print(f'Testing dataset size: {len(features_test) / original_data_size:.2%}')"
   ]
  },
  {
   "cell_type": "markdown",
   "metadata": {},
   "source": [
    "## Models with Class Imbalance\n",
    "The first model we create will not take class imbalances into account. Since the value we want to predict is a binary value of 0 or 1, we can use classification."
   ]
  },
  {
   "cell_type": "code",
   "execution_count": 30,
   "metadata": {},
   "outputs": [
    {
     "data": {
      "text/plain": [
       "0    0.7963\n",
       "1    0.2037\n",
       "Name: has_left, dtype: float64"
      ]
     },
     "execution_count": 30,
     "metadata": {},
     "output_type": "execute_result"
    }
   ],
   "source": [
    "df['has_left'].value_counts(normalize=True)"
   ]
  },
  {
   "cell_type": "markdown",
   "metadata": {},
   "source": [
    "In our source data, 79.63% of our values for `has_left` are 0, whereas only 20.37% have the value 1. This is a class imbalance, as the number of 0s are significantly higher than 1. While this should be addressed for the final model, I will first test different combinations of hyperparameters for three models: Decision Tree, Random Forest, and Logistic Regression."
   ]
  },
  {
   "cell_type": "markdown",
   "metadata": {},
   "source": [
    "### Decision Tree Classifier"
   ]
  },
  {
   "cell_type": "code",
   "execution_count": 31,
   "metadata": {},
   "outputs": [],
   "source": [
    "# function to run the decision tree classifier based on datasets and is the classes are weighted\n",
    "def decision_tree_classifier(data_features_train, data_target_train, class_weight=None):\n",
    "    \n",
    "    # initializing values for our best depth and accuracy\n",
    "    best_depth = 0\n",
    "    best_f1 = 0\n",
    "    final_roc_auc = 0\n",
    "\n",
    "    # loop over depths from 1 to 9\n",
    "    for depth in range(1, 10):\n",
    "        model = DecisionTreeClassifier(random_state=12345, max_depth=depth, class_weight=class_weight)\n",
    "        model.fit(data_features_train, data_target_train)\n",
    "        predictions_valid = model.predict(features_valid)\n",
    "\n",
    "        f1 = f1_score(target_valid, predictions_valid)\n",
    "\n",
    "        if f1 > best_f1:\n",
    "            best_f1 = f1\n",
    "            best_depth = depth\n",
    "            proba_valid = model.predict_proba(features_valid)\n",
    "            proba_one_valid = proba_valid[:, 1]\n",
    "            final_roc_auc = roc_auc_score(target_valid, proba_one_valid)\n",
    "\n",
    "    # print the best depth\n",
    "    print(f'Best Depth: {best_depth} with F1 {best_f1:.2%} and AUC-ROC {final_roc_auc:.2%}')"
   ]
  },
  {
   "cell_type": "code",
   "execution_count": 32,
   "metadata": {},
   "outputs": [
    {
     "name": "stdout",
     "output_type": "stream",
     "text": [
      "Best Depth: 7 with F1 55.84% and AUC-ROC 82.31%\n"
     ]
    }
   ],
   "source": [
    "# call our decision tree classifier\n",
    "decision_tree_classifier(features_train, target_train)"
   ]
  },
  {
   "cell_type": "markdown",
   "metadata": {},
   "source": [
    "### Random Forest Classifier"
   ]
  },
  {
   "cell_type": "code",
   "execution_count": 33,
   "metadata": {},
   "outputs": [],
   "source": [
    "def random_forest_classifier(data_features_train, data_target_train, class_weight=None):\n",
    "    \n",
    "    # initializing values for our best depth and accuracy\n",
    "    best_f1 = 0\n",
    "    final_roc_auc = 0\n",
    "    best_est = 0\n",
    "    best_depth = 0\n",
    "\n",
    "    # looping through max depths\n",
    "    for depth in range(1, 11):\n",
    "\n",
    "        # looping through number of estimators\n",
    "        for est in range(10, 121, 10): \n",
    "            model = RandomForestClassifier(random_state=12345, n_estimators=est,\n",
    "                                           max_depth=depth, class_weight=class_weight)\n",
    "            model.fit(data_features_train, data_target_train) \n",
    "\n",
    "            predictions_valid = model.predict(features_valid)\n",
    "            f1 = f1_score(target_valid, predictions_valid)\n",
    "\n",
    "            if f1 > best_f1:\n",
    "                best_f1 = f1\n",
    "                proba_valid = model.predict_proba(features_valid)\n",
    "                proba_one_valid = proba_valid[:, 1]\n",
    "                final_roc_auc = roc_auc_score(target_valid, proba_one_valid)\n",
    "                best_est = est\n",
    "                best_depth = depth\n",
    "\n",
    "    # printing results\n",
    "    print(f'Best Depth: {best_depth}')\n",
    "    print(f'Best Number of Estimators: {best_est}')\n",
    "    print(f'Best F1 Score: {best_f1:.2%}')\n",
    "    print(f'Final AUC-ROC: {final_roc_auc:.2%}')"
   ]
  },
  {
   "cell_type": "code",
   "execution_count": 34,
   "metadata": {},
   "outputs": [
    {
     "name": "stdout",
     "output_type": "stream",
     "text": [
      "Best Depth: 10\n",
      "Best Number of Estimators: 30\n",
      "Best F1 Score: 55.17%\n",
      "Final AUC-ROC: 84.75%\n"
     ]
    }
   ],
   "source": [
    "random_forest_classifier(features_train, target_train)"
   ]
  },
  {
   "cell_type": "markdown",
   "metadata": {},
   "source": [
    "For our data, the best depth and number of estimators of our Random Forest Model was 10 and 30. The F1 score is slightly worse than for our Decision Tree Model, with a score of 55.17%."
   ]
  },
  {
   "cell_type": "markdown",
   "metadata": {},
   "source": [
    "### Logistic Regression"
   ]
  },
  {
   "cell_type": "code",
   "execution_count": 35,
   "metadata": {
    "scrolled": true
   },
   "outputs": [],
   "source": [
    "# Running model using logistic regression\n",
    "def logistic_regression(data_features_train, data_target_train, class_weight=None):\n",
    "    model = LogisticRegression(random_state=12345, solver='liblinear', class_weight=class_weight)\n",
    "    model.fit(data_features_train, data_target_train)\n",
    "    predictions_valid = model.predict(features_valid)\n",
    "\n",
    "    proba_valid = model.predict_proba(features_valid)\n",
    "    proba_one_valid = proba_valid[:, 1]\n",
    "\n",
    "    f1 = f1_score(target_valid, predictions_valid)\n",
    "    roc_auc = roc_auc_score(target_valid, proba_one_valid)\n",
    "\n",
    "    # Printing the accuracy\n",
    "    print(f'F1: {f1:.2%}')\n",
    "    print(f'AUC-ROC: {roc_auc:.2%}')"
   ]
  },
  {
   "cell_type": "code",
   "execution_count": 36,
   "metadata": {},
   "outputs": [
    {
     "name": "stdout",
     "output_type": "stream",
     "text": [
      "F1: 10.29%\n",
      "AUC-ROC: 68.14%\n"
     ]
    }
   ],
   "source": [
    "logistic_regression(features_train, target_train)"
   ]
  },
  {
   "cell_type": "markdown",
   "metadata": {},
   "source": [
    "Logistic regression is the worst of the three models. It has no hyperparameters, and it has an F1 score of 10.29% and an AUC-ROC of 68.14%."
   ]
  },
  {
   "cell_type": "markdown",
   "metadata": {},
   "source": [
    "## Models without Class Imbalance\n",
    "Next, I will train models that take class imbalances into account. I will apply two different methods, upsampling and class weight adjustment, for the three models."
   ]
  },
  {
   "cell_type": "markdown",
   "metadata": {},
   "source": [
    "### Upsampling"
   ]
  },
  {
   "cell_type": "code",
   "execution_count": 37,
   "metadata": {},
   "outputs": [],
   "source": [
    "# upsample method to make a rare class less rare\n",
    "def upsample(features, target, repeat):\n",
    "    features_zeros = features[target == 0]\n",
    "    features_ones = features[target == 1]\n",
    "    target_zeros = target[target == 0]\n",
    "    target_ones = target[target == 1]\n",
    "\n",
    "    # upsamples the target and features by repeating our positive features\n",
    "    features_upsampled = pd.concat([features_zeros] + [features_ones] * repeat)\n",
    "    target_upsampled = pd.concat([target_zeros] + [target_ones] * repeat)\n",
    "\n",
    "    # shuffle target and features\n",
    "    features_upsampled, target_upsampled = shuffle(\n",
    "        features_upsampled, target_upsampled, random_state=12345\n",
    "    )\n",
    "\n",
    "    return features_upsampled, target_upsampled"
   ]
  },
  {
   "cell_type": "code",
   "execution_count": 38,
   "metadata": {},
   "outputs": [],
   "source": [
    "# perform upsampling on our features and targets - I tried a few numbers and 4 was the best\n",
    "features_upsampled, target_upsampled = upsample(\n",
    "    features_train, target_train, 4\n",
    ")"
   ]
  },
  {
   "cell_type": "code",
   "execution_count": 39,
   "metadata": {},
   "outputs": [
    {
     "data": {
      "text/plain": [
       "0    4781\n",
       "1    1219\n",
       "Name: has_left, dtype: int64"
      ]
     },
     "execution_count": 39,
     "metadata": {},
     "output_type": "execute_result"
    }
   ],
   "source": [
    "# view old value counts\n",
    "target_train.value_counts()"
   ]
  },
  {
   "cell_type": "code",
   "execution_count": 40,
   "metadata": {
    "scrolled": true
   },
   "outputs": [
    {
     "data": {
      "text/plain": [
       "1    4876\n",
       "0    4781\n",
       "Name: has_left, dtype: int64"
      ]
     },
     "execution_count": 40,
     "metadata": {},
     "output_type": "execute_result"
    }
   ],
   "source": [
    "# view new value counts\n",
    "target_upsampled.value_counts()"
   ]
  },
  {
   "cell_type": "markdown",
   "metadata": {},
   "source": [
    "After performing upsampling, `has_left` has similar amounts of 0s and 1s - we've made the `1` class more common."
   ]
  },
  {
   "cell_type": "markdown",
   "metadata": {},
   "source": [
    "#### Decision Tree"
   ]
  },
  {
   "cell_type": "code",
   "execution_count": 41,
   "metadata": {},
   "outputs": [
    {
     "name": "stdout",
     "output_type": "stream",
     "text": [
      "Best Depth: 6 with F1 55.87% and AUC-ROC 80.91%\n"
     ]
    }
   ],
   "source": [
    "# running the decision tree classifier with the upsampled data\n",
    "decision_tree_classifier(features_upsampled, target_upsampled)"
   ]
  },
  {
   "cell_type": "markdown",
   "metadata": {},
   "source": [
    "Without taking class imbalances into account previously, our best depth for decision trees was 7, with a F1 score of 55.84% and an AUC-ROC of 82.31%\n",
    "\n",
    "With taking class imbalances into account, our new best depth is 6. The F1 score has increased to 55.87%, and the AUC-ROC has decreased to 80.91%."
   ]
  },
  {
   "cell_type": "markdown",
   "metadata": {},
   "source": [
    "#### Random Forest"
   ]
  },
  {
   "cell_type": "code",
   "execution_count": 42,
   "metadata": {},
   "outputs": [
    {
     "name": "stdout",
     "output_type": "stream",
     "text": [
      "Best Depth: 10\n",
      "Best Number of Estimators: 110\n",
      "Best F1 Score: 60.34%\n",
      "Final AUC-ROC: 85.37%\n"
     ]
    }
   ],
   "source": [
    "# running the random forest classifier with the upsampled data\n",
    "random_forest_classifier(features_upsampled, target_upsampled)"
   ]
  },
  {
   "cell_type": "markdown",
   "metadata": {},
   "source": [
    "The best depth and number of estimators changed to 10 and 110. However, now our F1 Score is 60.34% (previously 55.17% from the original data), which is a large improvement. The AUC-ROC has increased very slightly to 85.37% (from 84.75%)."
   ]
  },
  {
   "cell_type": "markdown",
   "metadata": {},
   "source": [
    "#### Logistic Regression"
   ]
  },
  {
   "cell_type": "code",
   "execution_count": 43,
   "metadata": {},
   "outputs": [
    {
     "name": "stdout",
     "output_type": "stream",
     "text": [
      "F1: 43.04%\n",
      "AUC-ROC: 71.69%\n"
     ]
    }
   ],
   "source": [
    "# running the logistic regression with the upsampled data\n",
    "logistic_regression(features_upsampled, target_upsampled)"
   ]
  },
  {
   "cell_type": "markdown",
   "metadata": {},
   "source": [
    "Logistic regression is still performing the worst of the three models, but the F1 score has drastically increased to 43.04% (from 10.29%), and the AUC-ROC has increased to 71.69%."
   ]
  },
  {
   "cell_type": "markdown",
   "metadata": {},
   "source": [
    "After upsampling, there have been improvements in the Logistic Regression and Random Forest models. The AUC-ROC also increased for each model, meaning that our models are beginning more efficient at differentiating between classes."
   ]
  },
  {
   "cell_type": "markdown",
   "metadata": {},
   "source": [
    "### Class Weight Adjustment\n",
    "The next method I will use to deal with class imbalances is using the built in `class_weight` attribute when building the model. For each of the methods I have created for the three models, I created an optional parameter, class_weight. When calling these models, I can set that third class_weight parameter to \"balanced\" to assign weights to our classes."
   ]
  },
  {
   "cell_type": "code",
   "execution_count": 44,
   "metadata": {},
   "outputs": [
    {
     "name": "stdout",
     "output_type": "stream",
     "text": [
      "Best Depth: 6 with F1 55.87% and AUC-ROC 80.91%\n"
     ]
    }
   ],
   "source": [
    "# running the decision tree classifier with class weight adjustment\n",
    "decision_tree_classifier(features_train, target_train, 'balanced')"
   ]
  },
  {
   "cell_type": "markdown",
   "metadata": {},
   "source": [
    "The F1 and AUC-ROC are about the same as when upsampling was used."
   ]
  },
  {
   "cell_type": "code",
   "execution_count": 45,
   "metadata": {},
   "outputs": [
    {
     "name": "stdout",
     "output_type": "stream",
     "text": [
      "Best Depth: 9\n",
      "Best Number of Estimators: 90\n",
      "Best F1 Score: 59.32%\n",
      "Final AUC-ROC: 85.26%\n"
     ]
    }
   ],
   "source": [
    "# running the random forest classifier with balanced classes\n",
    "random_forest_classifier(features_train, target_train, 'balanced')"
   ]
  },
  {
   "cell_type": "markdown",
   "metadata": {},
   "source": [
    "For our Random Forest model, the F1 score has decreased to 59.32% (60.34% during upsampling), and the AUC-ROC has decreased slightly to 85.26% (85.37% during upsampling)."
   ]
  },
  {
   "cell_type": "code",
   "execution_count": 46,
   "metadata": {},
   "outputs": [
    {
     "name": "stdout",
     "output_type": "stream",
     "text": [
      "F1: 43.31%\n",
      "AUC-ROC: 72.00%\n"
     ]
    }
   ],
   "source": [
    "# running logistic regression with balanced classes\n",
    "logistic_regression(features_train, target_train, 'balanced')"
   ]
  },
  {
   "cell_type": "markdown",
   "metadata": {},
   "source": [
    "The F1 and AUC-ROC are about the same as when upsampling was used. "
   ]
  },
  {
   "cell_type": "markdown",
   "metadata": {},
   "source": [
    "### Conclusion"
   ]
  },
  {
   "cell_type": "markdown",
   "metadata": {},
   "source": [
    "We applied upsampling and class weight adjustment to tackle the class imbalances in our data. While both methods increased our F1 scores from the original models that did not do anything about class imbalances, ultimately the Random Forest Classifier with upsampling had the highest F1 score. This model had a depth of 10 and 110 estimators.\n",
    "\n",
    "Next, I will do final testing with the test set."
   ]
  },
  {
   "cell_type": "markdown",
   "metadata": {},
   "source": [
    "## Quality Testing\n",
    "Since the Random Forest Classifier had the best accuracy, I will perform a quality test on it. To do this, I will retrain the model using 80% of the data (combining the training and validation datasets) and do a final evaluation on the validation dataset."
   ]
  },
  {
   "cell_type": "code",
   "execution_count": 47,
   "metadata": {},
   "outputs": [],
   "source": [
    "# combining train and validation datasets\n",
    "features_combined = pd.concat([features_valid, features_train])\n",
    "target_combined = pd.concat([target_valid, target_train])"
   ]
  },
  {
   "cell_type": "code",
   "execution_count": 48,
   "metadata": {},
   "outputs": [],
   "source": [
    "# setting hyperparameter variables\n",
    "best_est = 110\n",
    "best_depth = 10"
   ]
  },
  {
   "cell_type": "code",
   "execution_count": 49,
   "metadata": {},
   "outputs": [
    {
     "data": {
      "text/plain": [
       "0    6390\n",
       "1    1610\n",
       "Name: has_left, dtype: int64"
      ]
     },
     "execution_count": 49,
     "metadata": {},
     "output_type": "execute_result"
    }
   ],
   "source": [
    "# original value counts\n",
    "target_combined.value_counts()"
   ]
  },
  {
   "cell_type": "code",
   "execution_count": 50,
   "metadata": {},
   "outputs": [],
   "source": [
    "# perform upsampling on our features and targets\n",
    "features_upsampled, target_upsampled = upsample(\n",
    "    features_combined, target_combined, 4\n",
    ")"
   ]
  },
  {
   "cell_type": "code",
   "execution_count": 51,
   "metadata": {},
   "outputs": [
    {
     "data": {
      "text/plain": [
       "1    6440\n",
       "0    6390\n",
       "Name: has_left, dtype: int64"
      ]
     },
     "execution_count": 51,
     "metadata": {},
     "output_type": "execute_result"
    }
   ],
   "source": [
    "# new value counts\n",
    "target_upsampled.value_counts()"
   ]
  },
  {
   "cell_type": "code",
   "execution_count": 52,
   "metadata": {},
   "outputs": [],
   "source": [
    "# creating model and training\n",
    "model = RandomForestClassifier(random_state=12345, n_estimators = best_est, max_depth = best_depth)\n",
    "model.fit(features_upsampled, target_upsampled);"
   ]
  },
  {
   "cell_type": "code",
   "execution_count": 53,
   "metadata": {},
   "outputs": [
    {
     "name": "stdout",
     "output_type": "stream",
     "text": [
      "F1 Score: 63.75%\n",
      "AUC-ROC: 51.24%\n"
     ]
    }
   ],
   "source": [
    "# testing model with test set\n",
    "predictions_test = model.predict(features_test)\n",
    "\n",
    "# get f1 score\n",
    "f1 = f1_score(target_test, predictions_test)\n",
    "\n",
    "# get AUC-ROC score\n",
    "proba_valid = model.predict_proba(features_test)\n",
    "proba_one_valid = proba_valid[:, 1]\n",
    "roc_auc = roc_auc_score(target_valid, proba_one_valid)\n",
    "\n",
    "# print accuracy\n",
    "print(f'F1 Score: {f1:.2%}')\n",
    "print(f'AUC-ROC: {roc_auc:.2%}')"
   ]
  },
  {
   "cell_type": "markdown",
   "metadata": {},
   "source": [
    "Our final F1 score is 63.75% and our final AUC-ROC is 51.24%."
   ]
  },
  {
   "cell_type": "code",
   "execution_count": null,
   "metadata": {},
   "outputs": [],
   "source": []
  }
 ],
 "metadata": {
  "ExecuteTimeLog": [
   {
    "duration": 1229,
    "start_time": "2022-07-05T14:34:54.619Z"
   },
   {
    "duration": 62,
    "start_time": "2022-07-05T14:36:38.065Z"
   },
   {
    "duration": 18,
    "start_time": "2022-07-05T14:36:49.296Z"
   },
   {
    "duration": 26,
    "start_time": "2022-07-05T14:37:01.085Z"
   },
   {
    "duration": 42,
    "start_time": "2022-07-05T14:37:12.505Z"
   },
   {
    "duration": 4,
    "start_time": "2022-07-05T14:44:38.534Z"
   },
   {
    "duration": 105,
    "start_time": "2022-07-05T14:44:55.315Z"
   },
   {
    "duration": 31,
    "start_time": "2022-07-05T14:45:01.253Z"
   },
   {
    "duration": 4,
    "start_time": "2022-07-05T14:45:04.176Z"
   },
   {
    "duration": 3,
    "start_time": "2022-07-05T14:49:10.268Z"
   },
   {
    "duration": 5,
    "start_time": "2022-07-05T14:49:14.416Z"
   },
   {
    "duration": 4,
    "start_time": "2022-07-05T14:50:52.334Z"
   },
   {
    "duration": 3,
    "start_time": "2022-07-05T14:50:54.967Z"
   },
   {
    "duration": 13,
    "start_time": "2022-07-05T14:51:02.784Z"
   },
   {
    "duration": 7,
    "start_time": "2022-07-05T14:52:55.566Z"
   },
   {
    "duration": 9,
    "start_time": "2022-07-05T14:53:52.834Z"
   },
   {
    "duration": 11,
    "start_time": "2022-07-05T14:53:57.218Z"
   },
   {
    "duration": 7,
    "start_time": "2022-07-05T14:54:01.174Z"
   },
   {
    "duration": 24,
    "start_time": "2022-07-05T14:54:07.956Z"
   },
   {
    "duration": 14,
    "start_time": "2022-07-05T15:00:46.191Z"
   },
   {
    "duration": 6,
    "start_time": "2022-07-05T15:02:01.371Z"
   },
   {
    "duration": 13,
    "start_time": "2022-07-05T15:02:06.288Z"
   },
   {
    "duration": 16,
    "start_time": "2022-07-05T15:03:00.588Z"
   },
   {
    "duration": 15,
    "start_time": "2022-07-05T15:07:43.933Z"
   },
   {
    "duration": 20,
    "start_time": "2022-07-05T15:10:27.239Z"
   },
   {
    "duration": 9,
    "start_time": "2022-07-05T15:10:51.871Z"
   },
   {
    "duration": 14,
    "start_time": "2022-07-05T15:10:57.179Z"
   },
   {
    "duration": 19,
    "start_time": "2022-07-05T15:10:58.974Z"
   },
   {
    "duration": 15,
    "start_time": "2022-07-05T15:11:26.796Z"
   },
   {
    "duration": 15,
    "start_time": "2022-07-05T15:12:57.669Z"
   },
   {
    "duration": 4,
    "start_time": "2022-07-05T15:14:01.668Z"
   },
   {
    "duration": 925,
    "start_time": "2022-07-05T15:14:10.078Z"
   },
   {
    "duration": 653,
    "start_time": "2022-07-05T15:14:37.988Z"
   },
   {
    "duration": 8,
    "start_time": "2022-07-05T15:14:51.786Z"
   },
   {
    "duration": 12,
    "start_time": "2022-07-05T15:14:56.108Z"
   },
   {
    "duration": 814,
    "start_time": "2022-07-05T15:15:06.008Z"
   },
   {
    "duration": 11,
    "start_time": "2022-07-05T15:15:11.628Z"
   },
   {
    "duration": 10,
    "start_time": "2022-07-05T15:15:24.296Z"
   },
   {
    "duration": 13,
    "start_time": "2022-07-05T15:15:28.488Z"
   },
   {
    "duration": 13,
    "start_time": "2022-07-05T15:15:37.089Z"
   },
   {
    "duration": 7,
    "start_time": "2022-07-05T15:15:56.558Z"
   },
   {
    "duration": 4,
    "start_time": "2022-07-05T15:15:58.557Z"
   },
   {
    "duration": 65,
    "start_time": "2022-07-05T15:17:37.017Z"
   },
   {
    "duration": 72,
    "start_time": "2022-07-05T15:17:45.646Z"
   },
   {
    "duration": 71,
    "start_time": "2022-07-05T15:17:52.128Z"
   },
   {
    "duration": 44,
    "start_time": "2022-07-05T15:17:55.375Z"
   },
   {
    "duration": 5,
    "start_time": "2022-07-05T15:18:27.858Z"
   },
   {
    "duration": 46,
    "start_time": "2022-07-05T15:18:33.326Z"
   },
   {
    "duration": 12,
    "start_time": "2022-07-05T15:18:53.186Z"
   },
   {
    "duration": 16,
    "start_time": "2022-07-05T15:19:52.288Z"
   },
   {
    "duration": 12,
    "start_time": "2022-07-05T15:21:30.045Z"
   },
   {
    "duration": 1171,
    "start_time": "2022-07-05T15:23:21.370Z"
   },
   {
    "duration": 36,
    "start_time": "2022-07-05T15:23:22.544Z"
   },
   {
    "duration": 23,
    "start_time": "2022-07-05T15:23:22.582Z"
   },
   {
    "duration": 20,
    "start_time": "2022-07-05T15:23:22.607Z"
   },
   {
    "duration": 17,
    "start_time": "2022-07-05T15:23:22.629Z"
   },
   {
    "duration": 6,
    "start_time": "2022-07-05T15:23:22.648Z"
   },
   {
    "duration": 18,
    "start_time": "2022-07-05T15:23:22.656Z"
   },
   {
    "duration": 693,
    "start_time": "2022-07-05T15:23:22.676Z"
   },
   {
    "duration": 0,
    "start_time": "2022-07-05T15:23:23.371Z"
   },
   {
    "duration": 0,
    "start_time": "2022-07-05T15:23:23.372Z"
   },
   {
    "duration": 0,
    "start_time": "2022-07-05T15:23:23.374Z"
   },
   {
    "duration": 0,
    "start_time": "2022-07-05T15:23:23.375Z"
   },
   {
    "duration": 0,
    "start_time": "2022-07-05T15:23:23.378Z"
   },
   {
    "duration": 0,
    "start_time": "2022-07-05T15:23:23.379Z"
   },
   {
    "duration": 0,
    "start_time": "2022-07-05T15:23:23.381Z"
   },
   {
    "duration": 0,
    "start_time": "2022-07-05T15:23:23.382Z"
   },
   {
    "duration": 1155,
    "start_time": "2022-07-05T15:24:00.657Z"
   },
   {
    "duration": 31,
    "start_time": "2022-07-05T15:24:01.814Z"
   },
   {
    "duration": 22,
    "start_time": "2022-07-05T15:24:01.848Z"
   },
   {
    "duration": 31,
    "start_time": "2022-07-05T15:24:01.872Z"
   },
   {
    "duration": 8,
    "start_time": "2022-07-05T15:24:01.907Z"
   },
   {
    "duration": 38,
    "start_time": "2022-07-05T15:24:01.917Z"
   },
   {
    "duration": 36,
    "start_time": "2022-07-05T15:24:01.957Z"
   },
   {
    "duration": 29,
    "start_time": "2022-07-05T15:24:01.995Z"
   },
   {
    "duration": 48,
    "start_time": "2022-07-05T15:24:02.026Z"
   },
   {
    "duration": 11,
    "start_time": "2022-07-05T15:24:02.078Z"
   },
   {
    "duration": 37,
    "start_time": "2022-07-05T15:24:02.091Z"
   },
   {
    "duration": 42,
    "start_time": "2022-07-05T15:24:02.130Z"
   },
   {
    "duration": 11,
    "start_time": "2022-07-05T15:24:02.174Z"
   },
   {
    "duration": 66,
    "start_time": "2022-07-05T15:24:02.189Z"
   },
   {
    "duration": 16,
    "start_time": "2022-07-05T15:24:02.259Z"
   },
   {
    "duration": 13,
    "start_time": "2022-07-05T15:24:02.277Z"
   },
   {
    "duration": 11,
    "start_time": "2022-07-05T15:29:40.085Z"
   },
   {
    "duration": 17,
    "start_time": "2022-07-05T15:29:49.844Z"
   },
   {
    "duration": 1242,
    "start_time": "2022-07-05T15:31:17.019Z"
   },
   {
    "duration": 31,
    "start_time": "2022-07-05T15:31:18.263Z"
   },
   {
    "duration": 19,
    "start_time": "2022-07-05T15:31:18.296Z"
   },
   {
    "duration": 26,
    "start_time": "2022-07-05T15:31:18.321Z"
   },
   {
    "duration": 8,
    "start_time": "2022-07-05T15:31:18.349Z"
   },
   {
    "duration": 10,
    "start_time": "2022-07-05T15:31:18.359Z"
   },
   {
    "duration": 9,
    "start_time": "2022-07-05T15:31:18.371Z"
   },
   {
    "duration": 6,
    "start_time": "2022-07-05T15:31:18.382Z"
   },
   {
    "duration": 27,
    "start_time": "2022-07-05T15:31:18.391Z"
   },
   {
    "duration": 13,
    "start_time": "2022-07-05T15:31:18.421Z"
   },
   {
    "duration": 21,
    "start_time": "2022-07-05T15:31:18.438Z"
   },
   {
    "duration": 17,
    "start_time": "2022-07-05T15:31:18.461Z"
   },
   {
    "duration": 5,
    "start_time": "2022-07-05T15:31:18.481Z"
   },
   {
    "duration": 101,
    "start_time": "2022-07-05T15:31:18.488Z"
   },
   {
    "duration": 13,
    "start_time": "2022-07-05T15:31:18.592Z"
   },
   {
    "duration": 42,
    "start_time": "2022-07-05T15:31:18.607Z"
   },
   {
    "duration": 3,
    "start_time": "2022-07-05T15:31:18.651Z"
   },
   {
    "duration": 11,
    "start_time": "2022-07-05T15:31:18.657Z"
   },
   {
    "duration": 6,
    "start_time": "2022-07-05T15:31:32.435Z"
   },
   {
    "duration": 6,
    "start_time": "2022-07-05T15:31:47.805Z"
   },
   {
    "duration": 110,
    "start_time": "2022-07-05T15:33:04.492Z"
   },
   {
    "duration": 29,
    "start_time": "2022-07-05T15:33:09.047Z"
   },
   {
    "duration": 18,
    "start_time": "2022-07-05T15:33:13.067Z"
   },
   {
    "duration": 13,
    "start_time": "2022-07-05T15:33:19.525Z"
   },
   {
    "duration": 12,
    "start_time": "2022-07-05T15:33:20.234Z"
   },
   {
    "duration": 3,
    "start_time": "2022-07-05T15:39:32.380Z"
   },
   {
    "duration": 14,
    "start_time": "2022-07-05T15:40:31.353Z"
   },
   {
    "duration": 2,
    "start_time": "2022-07-05T15:40:34.499Z"
   },
   {
    "duration": 42,
    "start_time": "2022-07-05T15:40:35.396Z"
   },
   {
    "duration": 1173,
    "start_time": "2022-07-05T15:41:05.503Z"
   },
   {
    "duration": 31,
    "start_time": "2022-07-05T15:41:06.678Z"
   },
   {
    "duration": 13,
    "start_time": "2022-07-05T15:41:06.711Z"
   },
   {
    "duration": 44,
    "start_time": "2022-07-05T15:41:06.727Z"
   },
   {
    "duration": 4,
    "start_time": "2022-07-05T15:41:06.773Z"
   },
   {
    "duration": 7,
    "start_time": "2022-07-05T15:41:06.779Z"
   },
   {
    "duration": 7,
    "start_time": "2022-07-05T15:41:06.787Z"
   },
   {
    "duration": 5,
    "start_time": "2022-07-05T15:41:06.796Z"
   },
   {
    "duration": 15,
    "start_time": "2022-07-05T15:41:06.803Z"
   },
   {
    "duration": 27,
    "start_time": "2022-07-05T15:41:06.820Z"
   },
   {
    "duration": 25,
    "start_time": "2022-07-05T15:41:06.850Z"
   },
   {
    "duration": 18,
    "start_time": "2022-07-05T15:41:06.877Z"
   },
   {
    "duration": 4,
    "start_time": "2022-07-05T15:41:06.897Z"
   },
   {
    "duration": 76,
    "start_time": "2022-07-05T15:41:06.903Z"
   },
   {
    "duration": 17,
    "start_time": "2022-07-05T15:41:06.982Z"
   },
   {
    "duration": 17,
    "start_time": "2022-07-05T15:41:07.001Z"
   },
   {
    "duration": 27,
    "start_time": "2022-07-05T15:41:07.020Z"
   },
   {
    "duration": 11,
    "start_time": "2022-07-05T15:41:07.049Z"
   },
   {
    "duration": 29,
    "start_time": "2022-07-05T15:41:07.063Z"
   },
   {
    "duration": 16,
    "start_time": "2022-07-05T15:41:07.094Z"
   },
   {
    "duration": 12,
    "start_time": "2022-07-05T15:41:07.112Z"
   },
   {
    "duration": 7,
    "start_time": "2022-07-05T15:41:07.126Z"
   },
   {
    "duration": 42,
    "start_time": "2022-07-05T15:41:07.135Z"
   },
   {
    "duration": 6,
    "start_time": "2022-07-05T15:42:16.665Z"
   },
   {
    "duration": 9,
    "start_time": "2022-07-05T15:52:28.488Z"
   },
   {
    "duration": 131,
    "start_time": "2022-07-05T15:52:41.994Z"
   },
   {
    "duration": 5,
    "start_time": "2022-07-05T15:53:03.810Z"
   },
   {
    "duration": 4,
    "start_time": "2022-07-05T15:53:14.625Z"
   },
   {
    "duration": 5,
    "start_time": "2022-07-05T15:53:19.487Z"
   },
   {
    "duration": 4,
    "start_time": "2022-07-05T15:53:25.755Z"
   },
   {
    "duration": 29,
    "start_time": "2022-07-05T15:53:35.509Z"
   },
   {
    "duration": 5,
    "start_time": "2022-07-05T15:53:39.697Z"
   },
   {
    "duration": 4,
    "start_time": "2022-07-05T15:56:46.375Z"
   },
   {
    "duration": 207,
    "start_time": "2022-07-05T16:02:17.607Z"
   },
   {
    "duration": 35424,
    "start_time": "2022-07-05T16:02:34.135Z"
   },
   {
    "duration": 87,
    "start_time": "2022-07-05T16:03:09.561Z"
   },
   {
    "duration": 48,
    "start_time": "2022-07-05T16:04:07.947Z"
   },
   {
    "duration": 4,
    "start_time": "2022-07-05T16:04:15.036Z"
   },
   {
    "duration": 1087,
    "start_time": "2022-07-05T16:59:40.263Z"
   },
   {
    "duration": 30,
    "start_time": "2022-07-05T16:59:41.352Z"
   },
   {
    "duration": 13,
    "start_time": "2022-07-05T16:59:41.383Z"
   },
   {
    "duration": 19,
    "start_time": "2022-07-05T16:59:41.397Z"
   },
   {
    "duration": 4,
    "start_time": "2022-07-05T16:59:41.418Z"
   },
   {
    "duration": 7,
    "start_time": "2022-07-05T16:59:41.423Z"
   },
   {
    "duration": 15,
    "start_time": "2022-07-05T16:59:41.431Z"
   },
   {
    "duration": 3,
    "start_time": "2022-07-05T16:59:41.448Z"
   },
   {
    "duration": 15,
    "start_time": "2022-07-05T16:59:41.452Z"
   },
   {
    "duration": 9,
    "start_time": "2022-07-05T16:59:41.469Z"
   },
   {
    "duration": 28,
    "start_time": "2022-07-05T16:59:41.480Z"
   },
   {
    "duration": 29,
    "start_time": "2022-07-05T16:59:41.510Z"
   },
   {
    "duration": 11,
    "start_time": "2022-07-05T16:59:41.541Z"
   },
   {
    "duration": 46,
    "start_time": "2022-07-05T16:59:41.555Z"
   },
   {
    "duration": 11,
    "start_time": "2022-07-05T16:59:41.602Z"
   },
   {
    "duration": 11,
    "start_time": "2022-07-05T16:59:41.615Z"
   },
   {
    "duration": 8,
    "start_time": "2022-07-05T16:59:41.628Z"
   },
   {
    "duration": 6,
    "start_time": "2022-07-05T16:59:41.646Z"
   },
   {
    "duration": 34,
    "start_time": "2022-07-05T16:59:41.654Z"
   },
   {
    "duration": 21,
    "start_time": "2022-07-05T16:59:41.690Z"
   },
   {
    "duration": 10,
    "start_time": "2022-07-05T16:59:41.713Z"
   },
   {
    "duration": 9,
    "start_time": "2022-07-05T16:59:41.724Z"
   },
   {
    "duration": 31,
    "start_time": "2022-07-05T16:59:41.734Z"
   },
   {
    "duration": 4,
    "start_time": "2022-07-05T16:59:41.767Z"
   },
   {
    "duration": 8,
    "start_time": "2022-07-05T16:59:41.773Z"
   },
   {
    "duration": 9,
    "start_time": "2022-07-05T16:59:41.782Z"
   },
   {
    "duration": 180,
    "start_time": "2022-07-05T16:59:41.792Z"
   },
   {
    "duration": 34493,
    "start_time": "2022-07-05T16:59:41.974Z"
   },
   {
    "duration": 78,
    "start_time": "2022-07-05T17:00:16.468Z"
   },
   {
    "duration": 194,
    "start_time": "2022-07-05T17:02:02.176Z"
   },
   {
    "duration": 181,
    "start_time": "2022-07-05T17:02:46.973Z"
   },
   {
    "duration": 59,
    "start_time": "2022-07-05T17:06:50.094Z"
   },
   {
    "duration": 179,
    "start_time": "2022-07-05T17:07:27.224Z"
   },
   {
    "duration": 34247,
    "start_time": "2022-07-05T17:07:31.931Z"
   },
   {
    "duration": 1092,
    "start_time": "2022-07-05T17:08:47.564Z"
   },
   {
    "duration": 33,
    "start_time": "2022-07-05T17:08:48.658Z"
   },
   {
    "duration": 18,
    "start_time": "2022-07-05T17:08:48.693Z"
   },
   {
    "duration": 32,
    "start_time": "2022-07-05T17:08:48.714Z"
   },
   {
    "duration": 5,
    "start_time": "2022-07-05T17:08:48.748Z"
   },
   {
    "duration": 7,
    "start_time": "2022-07-05T17:08:48.754Z"
   },
   {
    "duration": 8,
    "start_time": "2022-07-05T17:08:48.763Z"
   },
   {
    "duration": 341,
    "start_time": "2022-07-05T17:08:48.773Z"
   },
   {
    "duration": 0,
    "start_time": "2022-07-05T17:08:49.116Z"
   },
   {
    "duration": 0,
    "start_time": "2022-07-05T17:08:49.121Z"
   },
   {
    "duration": 0,
    "start_time": "2022-07-05T17:08:49.122Z"
   },
   {
    "duration": 0,
    "start_time": "2022-07-05T17:08:49.124Z"
   },
   {
    "duration": 1,
    "start_time": "2022-07-05T17:08:49.125Z"
   },
   {
    "duration": 0,
    "start_time": "2022-07-05T17:08:49.127Z"
   },
   {
    "duration": 0,
    "start_time": "2022-07-05T17:08:49.128Z"
   },
   {
    "duration": 0,
    "start_time": "2022-07-05T17:08:49.130Z"
   },
   {
    "duration": 0,
    "start_time": "2022-07-05T17:08:49.132Z"
   },
   {
    "duration": 0,
    "start_time": "2022-07-05T17:08:49.133Z"
   },
   {
    "duration": 0,
    "start_time": "2022-07-05T17:08:49.134Z"
   },
   {
    "duration": 0,
    "start_time": "2022-07-05T17:08:49.136Z"
   },
   {
    "duration": 0,
    "start_time": "2022-07-05T17:08:49.137Z"
   },
   {
    "duration": 0,
    "start_time": "2022-07-05T17:08:49.138Z"
   },
   {
    "duration": 0,
    "start_time": "2022-07-05T17:08:49.139Z"
   },
   {
    "duration": 0,
    "start_time": "2022-07-05T17:08:49.140Z"
   },
   {
    "duration": 0,
    "start_time": "2022-07-05T17:08:49.141Z"
   },
   {
    "duration": 0,
    "start_time": "2022-07-05T17:08:49.142Z"
   },
   {
    "duration": 0,
    "start_time": "2022-07-05T17:08:49.143Z"
   },
   {
    "duration": 0,
    "start_time": "2022-07-05T17:08:49.145Z"
   },
   {
    "duration": 0,
    "start_time": "2022-07-05T17:08:49.147Z"
   },
   {
    "duration": 1064,
    "start_time": "2022-07-05T17:09:06.191Z"
   },
   {
    "duration": 30,
    "start_time": "2022-07-05T17:09:07.257Z"
   },
   {
    "duration": 15,
    "start_time": "2022-07-05T17:09:07.289Z"
   },
   {
    "duration": 21,
    "start_time": "2022-07-05T17:09:07.306Z"
   },
   {
    "duration": 4,
    "start_time": "2022-07-05T17:09:07.329Z"
   },
   {
    "duration": 12,
    "start_time": "2022-07-05T17:09:07.335Z"
   },
   {
    "duration": 9,
    "start_time": "2022-07-05T17:09:07.348Z"
   },
   {
    "duration": 11,
    "start_time": "2022-07-05T17:09:07.359Z"
   },
   {
    "duration": 23,
    "start_time": "2022-07-05T17:09:07.372Z"
   },
   {
    "duration": 7,
    "start_time": "2022-07-05T17:09:07.397Z"
   },
   {
    "duration": 13,
    "start_time": "2022-07-05T17:09:07.406Z"
   },
   {
    "duration": 12,
    "start_time": "2022-07-05T17:09:07.421Z"
   },
   {
    "duration": 12,
    "start_time": "2022-07-05T17:09:07.435Z"
   },
   {
    "duration": 35,
    "start_time": "2022-07-05T17:09:07.450Z"
   },
   {
    "duration": 11,
    "start_time": "2022-07-05T17:09:07.487Z"
   },
   {
    "duration": 15,
    "start_time": "2022-07-05T17:09:07.500Z"
   },
   {
    "duration": 33,
    "start_time": "2022-07-05T17:09:07.517Z"
   },
   {
    "duration": 6,
    "start_time": "2022-07-05T17:09:07.552Z"
   },
   {
    "duration": 11,
    "start_time": "2022-07-05T17:09:07.559Z"
   },
   {
    "duration": 11,
    "start_time": "2022-07-05T17:09:07.572Z"
   },
   {
    "duration": 12,
    "start_time": "2022-07-05T17:09:07.584Z"
   },
   {
    "duration": 4,
    "start_time": "2022-07-05T17:09:07.598Z"
   },
   {
    "duration": 51,
    "start_time": "2022-07-05T17:09:07.603Z"
   },
   {
    "duration": 6,
    "start_time": "2022-07-05T17:09:07.656Z"
   },
   {
    "duration": 11,
    "start_time": "2022-07-05T17:09:07.663Z"
   },
   {
    "duration": 5,
    "start_time": "2022-07-05T17:09:07.675Z"
   },
   {
    "duration": 175,
    "start_time": "2022-07-05T17:09:07.682Z"
   },
   {
    "duration": 31800,
    "start_time": "2022-07-05T17:09:07.859Z"
   },
   {
    "duration": 94,
    "start_time": "2022-07-05T17:09:39.661Z"
   },
   {
    "duration": 3,
    "start_time": "2022-07-05T17:11:23.693Z"
   },
   {
    "duration": 6,
    "start_time": "2022-07-05T17:12:27.539Z"
   },
   {
    "duration": 8,
    "start_time": "2022-07-05T17:13:48.138Z"
   },
   {
    "duration": 4,
    "start_time": "2022-07-05T17:20:01.304Z"
   },
   {
    "duration": 121,
    "start_time": "2022-07-05T17:20:02.958Z"
   },
   {
    "duration": 4,
    "start_time": "2022-07-05T17:20:26.774Z"
   },
   {
    "duration": 17,
    "start_time": "2022-07-05T17:20:31.646Z"
   },
   {
    "duration": 6,
    "start_time": "2022-07-05T17:20:42.563Z"
   },
   {
    "duration": 16,
    "start_time": "2022-07-05T17:20:52.343Z"
   },
   {
    "duration": 12,
    "start_time": "2022-07-05T17:21:08.585Z"
   },
   {
    "duration": 13,
    "start_time": "2022-07-05T17:21:09.375Z"
   },
   {
    "duration": 6,
    "start_time": "2022-07-05T17:21:11.293Z"
   },
   {
    "duration": 19,
    "start_time": "2022-07-05T17:21:14.570Z"
   },
   {
    "duration": 20,
    "start_time": "2022-07-05T17:21:15.043Z"
   },
   {
    "duration": 13,
    "start_time": "2022-07-05T17:21:19.603Z"
   },
   {
    "duration": 7,
    "start_time": "2022-07-05T17:21:20.038Z"
   },
   {
    "duration": 7,
    "start_time": "2022-07-05T17:21:21.764Z"
   },
   {
    "duration": 11,
    "start_time": "2022-07-05T17:21:24.274Z"
   },
   {
    "duration": 10,
    "start_time": "2022-07-05T17:21:24.984Z"
   },
   {
    "duration": 12,
    "start_time": "2022-07-05T17:21:27.303Z"
   },
   {
    "duration": 7,
    "start_time": "2022-07-05T17:21:27.777Z"
   },
   {
    "duration": 10,
    "start_time": "2022-07-05T17:21:28.866Z"
   },
   {
    "duration": 9,
    "start_time": "2022-07-05T17:22:04.866Z"
   },
   {
    "duration": 6,
    "start_time": "2022-07-05T17:22:53.172Z"
   },
   {
    "duration": 5,
    "start_time": "2022-07-05T17:23:25.535Z"
   },
   {
    "duration": 236,
    "start_time": "2022-07-05T17:26:47.227Z"
   },
   {
    "duration": 5,
    "start_time": "2022-07-05T17:40:44.798Z"
   },
   {
    "duration": 173,
    "start_time": "2022-07-05T17:40:46.769Z"
   },
   {
    "duration": 16,
    "start_time": "2022-07-05T17:43:19.548Z"
   },
   {
    "duration": 6,
    "start_time": "2022-07-05T17:43:21.141Z"
   },
   {
    "duration": 36660,
    "start_time": "2022-07-05T17:43:21.760Z"
   },
   {
    "duration": 9,
    "start_time": "2022-07-05T17:45:05.779Z"
   },
   {
    "duration": 4,
    "start_time": "2022-07-05T17:45:10.518Z"
   },
   {
    "duration": 84,
    "start_time": "2022-07-05T17:45:11.661Z"
   },
   {
    "duration": 263,
    "start_time": "2022-07-05T17:45:59.199Z"
   },
   {
    "duration": 50260,
    "start_time": "2022-07-05T17:47:16.100Z"
   },
   {
    "duration": 90,
    "start_time": "2022-07-05T17:48:24.665Z"
   },
   {
    "duration": 193,
    "start_time": "2022-07-05T17:54:24.079Z"
   },
   {
    "duration": 38266,
    "start_time": "2022-07-05T17:54:35.001Z"
   },
   {
    "duration": 201,
    "start_time": "2022-07-05T17:59:29.144Z"
   },
   {
    "duration": 6,
    "start_time": "2022-07-05T18:03:57.242Z"
   },
   {
    "duration": 3,
    "start_time": "2022-07-05T18:04:18.458Z"
   },
   {
    "duration": 546,
    "start_time": "2022-07-05T18:04:46.649Z"
   },
   {
    "duration": 85,
    "start_time": "2022-07-05T18:07:13.360Z"
   },
   {
    "duration": 3,
    "start_time": "2022-07-05T18:08:21.594Z"
   },
   {
    "duration": 80,
    "start_time": "2022-07-05T18:08:21.959Z"
   },
   {
    "duration": 22,
    "start_time": "2022-07-05T18:08:22.271Z"
   },
   {
    "duration": 29,
    "start_time": "2022-07-05T18:10:52.342Z"
   },
   {
    "duration": 1081,
    "start_time": "2022-07-05T18:54:17.201Z"
   },
   {
    "duration": 30,
    "start_time": "2022-07-05T18:54:18.284Z"
   },
   {
    "duration": 16,
    "start_time": "2022-07-05T18:54:18.316Z"
   },
   {
    "duration": 36,
    "start_time": "2022-07-05T18:54:18.334Z"
   },
   {
    "duration": 4,
    "start_time": "2022-07-05T18:54:18.373Z"
   },
   {
    "duration": 6,
    "start_time": "2022-07-05T18:54:18.379Z"
   },
   {
    "duration": 11,
    "start_time": "2022-07-05T18:54:18.386Z"
   },
   {
    "duration": 5,
    "start_time": "2022-07-05T18:54:18.399Z"
   },
   {
    "duration": 39,
    "start_time": "2022-07-05T18:54:18.406Z"
   },
   {
    "duration": 11,
    "start_time": "2022-07-05T18:54:18.448Z"
   },
   {
    "duration": 27,
    "start_time": "2022-07-05T18:54:18.461Z"
   },
   {
    "duration": 15,
    "start_time": "2022-07-05T18:54:18.490Z"
   },
   {
    "duration": 4,
    "start_time": "2022-07-05T18:54:18.507Z"
   },
   {
    "duration": 63,
    "start_time": "2022-07-05T18:54:18.515Z"
   },
   {
    "duration": 11,
    "start_time": "2022-07-05T18:54:18.580Z"
   },
   {
    "duration": 12,
    "start_time": "2022-07-05T18:54:18.593Z"
   },
   {
    "duration": 5,
    "start_time": "2022-07-05T18:54:18.607Z"
   },
   {
    "duration": 33,
    "start_time": "2022-07-05T18:54:18.614Z"
   },
   {
    "duration": 14,
    "start_time": "2022-07-05T18:54:18.650Z"
   },
   {
    "duration": 15,
    "start_time": "2022-07-05T18:54:18.667Z"
   },
   {
    "duration": 12,
    "start_time": "2022-07-05T18:54:18.683Z"
   },
   {
    "duration": 9,
    "start_time": "2022-07-05T18:54:18.696Z"
   },
   {
    "duration": 57,
    "start_time": "2022-07-05T18:54:18.707Z"
   },
   {
    "duration": 5,
    "start_time": "2022-07-05T18:54:18.765Z"
   },
   {
    "duration": 10,
    "start_time": "2022-07-05T18:54:18.772Z"
   },
   {
    "duration": 4,
    "start_time": "2022-07-05T18:54:18.784Z"
   },
   {
    "duration": 8,
    "start_time": "2022-07-05T18:54:18.790Z"
   },
   {
    "duration": 4,
    "start_time": "2022-07-05T18:54:18.800Z"
   },
   {
    "duration": 190,
    "start_time": "2022-07-05T18:54:18.806Z"
   },
   {
    "duration": 5,
    "start_time": "2022-07-05T18:54:18.997Z"
   },
   {
    "duration": 31860,
    "start_time": "2022-07-05T18:54:19.004Z"
   },
   {
    "duration": 5,
    "start_time": "2022-07-05T18:54:50.866Z"
   },
   {
    "duration": 176,
    "start_time": "2022-07-05T18:54:50.872Z"
   },
   {
    "duration": 5,
    "start_time": "2022-07-05T18:54:51.051Z"
   },
   {
    "duration": 97,
    "start_time": "2022-07-05T18:54:51.058Z"
   },
   {
    "duration": 15,
    "start_time": "2022-07-05T18:54:51.156Z"
   },
   {
    "duration": 5,
    "start_time": "2022-07-05T18:54:51.173Z"
   },
   {
    "duration": 11,
    "start_time": "2022-07-05T18:54:51.180Z"
   },
   {
    "duration": 230,
    "start_time": "2022-07-05T18:54:51.192Z"
   },
   {
    "duration": 43390,
    "start_time": "2022-07-05T18:54:51.424Z"
   },
   {
    "duration": 134,
    "start_time": "2022-07-05T18:55:34.817Z"
   },
   {
    "duration": 278,
    "start_time": "2022-07-05T18:55:34.955Z"
   },
   {
    "duration": 31593,
    "start_time": "2022-07-05T18:55:35.235Z"
   },
   {
    "duration": 117,
    "start_time": "2022-07-05T18:56:06.830Z"
   },
   {
    "duration": 8,
    "start_time": "2022-07-05T18:56:06.949Z"
   },
   {
    "duration": 21,
    "start_time": "2022-07-05T18:56:07.047Z"
   },
   {
    "duration": 541,
    "start_time": "2022-07-05T18:56:07.070Z"
   },
   {
    "duration": 85,
    "start_time": "2022-07-05T18:56:07.613Z"
   },
   {
    "duration": 16,
    "start_time": "2022-07-05T18:56:07.700Z"
   },
   {
    "duration": 1109,
    "start_time": "2022-07-05T19:01:32.367Z"
   },
   {
    "duration": 31,
    "start_time": "2022-07-05T19:01:36.757Z"
   },
   {
    "duration": 14,
    "start_time": "2022-07-05T19:02:09.281Z"
   },
   {
    "duration": 22,
    "start_time": "2022-07-05T19:02:12.576Z"
   },
   {
    "duration": 5,
    "start_time": "2022-07-05T19:03:26.031Z"
   },
   {
    "duration": 3,
    "start_time": "2022-07-05T19:03:27.203Z"
   },
   {
    "duration": 4,
    "start_time": "2022-07-05T19:03:28.339Z"
   },
   {
    "duration": 3,
    "start_time": "2022-07-05T19:03:30.527Z"
   },
   {
    "duration": 11,
    "start_time": "2022-07-05T19:03:32.083Z"
   },
   {
    "duration": 6,
    "start_time": "2022-07-05T19:03:42.361Z"
   },
   {
    "duration": 16,
    "start_time": "2022-07-05T19:03:44.620Z"
   },
   {
    "duration": 16,
    "start_time": "2022-07-05T19:03:47.358Z"
   },
   {
    "duration": 4,
    "start_time": "2022-07-05T19:03:49.273Z"
   },
   {
    "duration": 37,
    "start_time": "2022-07-05T19:03:50.715Z"
   },
   {
    "duration": 12,
    "start_time": "2022-07-05T19:03:51.554Z"
   },
   {
    "duration": 12,
    "start_time": "2022-07-05T19:03:54.165Z"
   },
   {
    "duration": 5,
    "start_time": "2022-07-05T19:04:15.452Z"
   },
   {
    "duration": 5,
    "start_time": "2022-07-05T19:04:16.135Z"
   },
   {
    "duration": 11,
    "start_time": "2022-07-05T19:04:18.457Z"
   },
   {
    "duration": 12,
    "start_time": "2022-07-05T19:04:20.535Z"
   },
   {
    "duration": 12,
    "start_time": "2022-07-05T19:04:21.697Z"
   },
   {
    "duration": 1190,
    "start_time": "2022-07-05T19:10:44.325Z"
   },
   {
    "duration": 32,
    "start_time": "2022-07-05T19:10:45.519Z"
   },
   {
    "duration": 15,
    "start_time": "2022-07-05T19:10:45.553Z"
   },
   {
    "duration": 23,
    "start_time": "2022-07-05T19:10:45.785Z"
   },
   {
    "duration": 5,
    "start_time": "2022-07-05T19:10:47.313Z"
   },
   {
    "duration": 4,
    "start_time": "2022-07-05T19:10:47.461Z"
   },
   {
    "duration": 5,
    "start_time": "2022-07-05T19:10:47.625Z"
   },
   {
    "duration": 3,
    "start_time": "2022-07-05T19:10:48.741Z"
   },
   {
    "duration": 19,
    "start_time": "2022-07-05T19:10:48.935Z"
   },
   {
    "duration": 5,
    "start_time": "2022-07-05T19:10:50.517Z"
   },
   {
    "duration": 14,
    "start_time": "2022-07-05T19:10:51.653Z"
   },
   {
    "duration": 15,
    "start_time": "2022-07-05T19:10:52.953Z"
   },
   {
    "duration": 3,
    "start_time": "2022-07-05T19:10:53.322Z"
   },
   {
    "duration": 37,
    "start_time": "2022-07-05T19:10:54.230Z"
   },
   {
    "duration": 12,
    "start_time": "2022-07-05T19:10:54.432Z"
   },
   {
    "duration": 17,
    "start_time": "2022-07-05T19:10:55.955Z"
   },
   {
    "duration": 5,
    "start_time": "2022-07-05T19:11:01.603Z"
   },
   {
    "duration": 6,
    "start_time": "2022-07-05T19:11:01.989Z"
   },
   {
    "duration": 10,
    "start_time": "2022-07-05T19:11:03.861Z"
   },
   {
    "duration": 13,
    "start_time": "2022-07-05T19:11:04.419Z"
   },
   {
    "duration": 13,
    "start_time": "2022-07-05T19:11:05.497Z"
   },
   {
    "duration": 5,
    "start_time": "2022-07-05T19:11:52.950Z"
   },
   {
    "duration": 111,
    "start_time": "2022-07-05T19:12:24.593Z"
   },
   {
    "duration": 55,
    "start_time": "2022-07-05T19:12:44.831Z"
   },
   {
    "duration": 3,
    "start_time": "2022-07-05T19:13:07.689Z"
   },
   {
    "duration": 39,
    "start_time": "2022-07-05T19:13:24.015Z"
   },
   {
    "duration": 1101,
    "start_time": "2022-07-05T19:13:56.585Z"
   },
   {
    "duration": 32,
    "start_time": "2022-07-05T19:13:57.688Z"
   },
   {
    "duration": 17,
    "start_time": "2022-07-05T19:13:57.722Z"
   },
   {
    "duration": 23,
    "start_time": "2022-07-05T19:13:57.740Z"
   },
   {
    "duration": 5,
    "start_time": "2022-07-05T19:13:57.765Z"
   },
   {
    "duration": 7,
    "start_time": "2022-07-05T19:13:57.771Z"
   },
   {
    "duration": 9,
    "start_time": "2022-07-05T19:13:57.781Z"
   },
   {
    "duration": 8,
    "start_time": "2022-07-05T19:13:57.792Z"
   },
   {
    "duration": 16,
    "start_time": "2022-07-05T19:13:57.801Z"
   },
   {
    "duration": 29,
    "start_time": "2022-07-05T19:13:57.818Z"
   },
   {
    "duration": 14,
    "start_time": "2022-07-05T19:13:57.849Z"
   },
   {
    "duration": 15,
    "start_time": "2022-07-05T19:13:57.864Z"
   },
   {
    "duration": 3,
    "start_time": "2022-07-05T19:13:57.881Z"
   },
   {
    "duration": 59,
    "start_time": "2022-07-05T19:13:57.887Z"
   },
   {
    "duration": 14,
    "start_time": "2022-07-05T19:13:57.948Z"
   },
   {
    "duration": 12,
    "start_time": "2022-07-05T19:13:57.963Z"
   },
   {
    "duration": 10,
    "start_time": "2022-07-05T19:13:57.977Z"
   },
   {
    "duration": 7,
    "start_time": "2022-07-05T19:13:57.989Z"
   },
   {
    "duration": 15,
    "start_time": "2022-07-05T19:13:57.998Z"
   },
   {
    "duration": 36,
    "start_time": "2022-07-05T19:13:58.015Z"
   },
   {
    "duration": 13,
    "start_time": "2022-07-05T19:13:58.052Z"
   },
   {
    "duration": 60,
    "start_time": "2022-07-05T19:13:58.066Z"
   },
   {
    "duration": 2,
    "start_time": "2022-07-05T19:13:58.128Z"
   },
   {
    "duration": 31,
    "start_time": "2022-07-05T19:13:58.146Z"
   },
   {
    "duration": 5,
    "start_time": "2022-07-05T19:13:58.179Z"
   },
   {
    "duration": 16,
    "start_time": "2022-07-05T19:13:58.186Z"
   },
   {
    "duration": 4,
    "start_time": "2022-07-05T19:13:58.204Z"
   },
   {
    "duration": 36,
    "start_time": "2022-07-05T19:13:58.210Z"
   },
   {
    "duration": 4,
    "start_time": "2022-07-05T19:13:58.248Z"
   },
   {
    "duration": 121,
    "start_time": "2022-07-05T19:13:58.253Z"
   },
   {
    "duration": 0,
    "start_time": "2022-07-05T19:13:58.376Z"
   },
   {
    "duration": 0,
    "start_time": "2022-07-05T19:13:58.377Z"
   },
   {
    "duration": 0,
    "start_time": "2022-07-05T19:13:58.379Z"
   },
   {
    "duration": 0,
    "start_time": "2022-07-05T19:13:58.380Z"
   },
   {
    "duration": 0,
    "start_time": "2022-07-05T19:13:58.382Z"
   },
   {
    "duration": 0,
    "start_time": "2022-07-05T19:13:58.383Z"
   },
   {
    "duration": 0,
    "start_time": "2022-07-05T19:13:58.385Z"
   },
   {
    "duration": 0,
    "start_time": "2022-07-05T19:13:58.386Z"
   },
   {
    "duration": 0,
    "start_time": "2022-07-05T19:13:58.388Z"
   },
   {
    "duration": 0,
    "start_time": "2022-07-05T19:13:58.389Z"
   },
   {
    "duration": 0,
    "start_time": "2022-07-05T19:13:58.391Z"
   },
   {
    "duration": 0,
    "start_time": "2022-07-05T19:13:58.393Z"
   },
   {
    "duration": 0,
    "start_time": "2022-07-05T19:13:58.395Z"
   },
   {
    "duration": 0,
    "start_time": "2022-07-05T19:13:58.396Z"
   },
   {
    "duration": 0,
    "start_time": "2022-07-05T19:13:58.397Z"
   },
   {
    "duration": 0,
    "start_time": "2022-07-05T19:13:58.399Z"
   },
   {
    "duration": 0,
    "start_time": "2022-07-05T19:13:58.400Z"
   },
   {
    "duration": 1,
    "start_time": "2022-07-05T19:13:58.401Z"
   },
   {
    "duration": 0,
    "start_time": "2022-07-05T19:13:58.403Z"
   },
   {
    "duration": 0,
    "start_time": "2022-07-05T19:13:58.446Z"
   },
   {
    "duration": 1156,
    "start_time": "2022-07-05T19:14:43.216Z"
   },
   {
    "duration": 30,
    "start_time": "2022-07-05T19:14:44.374Z"
   },
   {
    "duration": 16,
    "start_time": "2022-07-05T19:14:44.406Z"
   },
   {
    "duration": 27,
    "start_time": "2022-07-05T19:14:44.424Z"
   },
   {
    "duration": 4,
    "start_time": "2022-07-05T19:14:44.453Z"
   },
   {
    "duration": 7,
    "start_time": "2022-07-05T19:14:44.458Z"
   },
   {
    "duration": 8,
    "start_time": "2022-07-05T19:14:44.466Z"
   },
   {
    "duration": 7,
    "start_time": "2022-07-05T19:14:44.476Z"
   },
   {
    "duration": 14,
    "start_time": "2022-07-05T19:14:44.484Z"
   },
   {
    "duration": 22,
    "start_time": "2022-07-05T19:14:44.500Z"
   },
   {
    "duration": 21,
    "start_time": "2022-07-05T19:14:44.524Z"
   },
   {
    "duration": 13,
    "start_time": "2022-07-05T19:14:44.547Z"
   },
   {
    "duration": 4,
    "start_time": "2022-07-05T19:14:44.562Z"
   },
   {
    "duration": 40,
    "start_time": "2022-07-05T19:14:44.568Z"
   },
   {
    "duration": 12,
    "start_time": "2022-07-05T19:14:44.609Z"
   },
   {
    "duration": 13,
    "start_time": "2022-07-05T19:14:44.646Z"
   },
   {
    "duration": 7,
    "start_time": "2022-07-05T19:14:44.661Z"
   },
   {
    "duration": 18,
    "start_time": "2022-07-05T19:14:44.669Z"
   },
   {
    "duration": 12,
    "start_time": "2022-07-05T19:14:44.689Z"
   },
   {
    "duration": 18,
    "start_time": "2022-07-05T19:14:44.703Z"
   },
   {
    "duration": 24,
    "start_time": "2022-07-05T19:14:44.723Z"
   },
   {
    "duration": 131,
    "start_time": "2022-07-05T19:14:44.748Z"
   },
   {
    "duration": 1,
    "start_time": "2022-07-05T19:14:44.881Z"
   },
   {
    "duration": 0,
    "start_time": "2022-07-05T19:14:44.883Z"
   },
   {
    "duration": 0,
    "start_time": "2022-07-05T19:14:44.884Z"
   },
   {
    "duration": 0,
    "start_time": "2022-07-05T19:14:44.885Z"
   },
   {
    "duration": 0,
    "start_time": "2022-07-05T19:14:44.886Z"
   },
   {
    "duration": 0,
    "start_time": "2022-07-05T19:14:44.887Z"
   },
   {
    "duration": 0,
    "start_time": "2022-07-05T19:14:44.888Z"
   },
   {
    "duration": 0,
    "start_time": "2022-07-05T19:14:44.888Z"
   },
   {
    "duration": 0,
    "start_time": "2022-07-05T19:14:44.889Z"
   },
   {
    "duration": 0,
    "start_time": "2022-07-05T19:14:44.890Z"
   },
   {
    "duration": 0,
    "start_time": "2022-07-05T19:14:44.891Z"
   },
   {
    "duration": 0,
    "start_time": "2022-07-05T19:14:44.892Z"
   },
   {
    "duration": 0,
    "start_time": "2022-07-05T19:14:44.893Z"
   },
   {
    "duration": 0,
    "start_time": "2022-07-05T19:14:44.894Z"
   },
   {
    "duration": 0,
    "start_time": "2022-07-05T19:14:44.895Z"
   },
   {
    "duration": 0,
    "start_time": "2022-07-05T19:14:44.896Z"
   },
   {
    "duration": 0,
    "start_time": "2022-07-05T19:14:44.897Z"
   },
   {
    "duration": 0,
    "start_time": "2022-07-05T19:14:44.898Z"
   },
   {
    "duration": 0,
    "start_time": "2022-07-05T19:14:44.899Z"
   },
   {
    "duration": 0,
    "start_time": "2022-07-05T19:14:44.900Z"
   },
   {
    "duration": 0,
    "start_time": "2022-07-05T19:14:44.901Z"
   },
   {
    "duration": 0,
    "start_time": "2022-07-05T19:14:44.902Z"
   },
   {
    "duration": 0,
    "start_time": "2022-07-05T19:14:44.903Z"
   },
   {
    "duration": 0,
    "start_time": "2022-07-05T19:14:44.904Z"
   },
   {
    "duration": 0,
    "start_time": "2022-07-05T19:14:44.945Z"
   },
   {
    "duration": 0,
    "start_time": "2022-07-05T19:14:44.946Z"
   },
   {
    "duration": 0,
    "start_time": "2022-07-05T19:14:44.948Z"
   },
   {
    "duration": 0,
    "start_time": "2022-07-05T19:14:44.949Z"
   },
   {
    "duration": 14,
    "start_time": "2022-07-05T19:15:35.035Z"
   },
   {
    "duration": 1203,
    "start_time": "2022-07-05T19:15:58.295Z"
   },
   {
    "duration": 30,
    "start_time": "2022-07-05T19:15:59.500Z"
   },
   {
    "duration": 14,
    "start_time": "2022-07-05T19:15:59.532Z"
   },
   {
    "duration": 24,
    "start_time": "2022-07-05T19:15:59.548Z"
   },
   {
    "duration": 5,
    "start_time": "2022-07-05T19:15:59.574Z"
   },
   {
    "duration": 9,
    "start_time": "2022-07-05T19:15:59.581Z"
   },
   {
    "duration": 7,
    "start_time": "2022-07-05T19:15:59.592Z"
   },
   {
    "duration": 5,
    "start_time": "2022-07-05T19:15:59.601Z"
   },
   {
    "duration": 45,
    "start_time": "2022-07-05T19:15:59.607Z"
   },
   {
    "duration": 10,
    "start_time": "2022-07-05T19:15:59.657Z"
   },
   {
    "duration": 21,
    "start_time": "2022-07-05T19:15:59.669Z"
   },
   {
    "duration": 18,
    "start_time": "2022-07-05T19:15:59.692Z"
   },
   {
    "duration": 4,
    "start_time": "2022-07-05T19:15:59.712Z"
   },
   {
    "duration": 64,
    "start_time": "2022-07-05T19:15:59.718Z"
   },
   {
    "duration": 15,
    "start_time": "2022-07-05T19:15:59.785Z"
   },
   {
    "duration": 15,
    "start_time": "2022-07-05T19:15:59.802Z"
   },
   {
    "duration": 32,
    "start_time": "2022-07-05T19:15:59.819Z"
   },
   {
    "duration": 20,
    "start_time": "2022-07-05T19:15:59.853Z"
   },
   {
    "duration": 30,
    "start_time": "2022-07-05T19:15:59.875Z"
   },
   {
    "duration": 23,
    "start_time": "2022-07-05T19:15:59.906Z"
   },
   {
    "duration": 25,
    "start_time": "2022-07-05T19:15:59.931Z"
   },
   {
    "duration": 83,
    "start_time": "2022-07-05T19:15:59.958Z"
   },
   {
    "duration": 5,
    "start_time": "2022-07-05T19:16:00.042Z"
   },
   {
    "duration": 71,
    "start_time": "2022-07-05T19:16:00.048Z"
   },
   {
    "duration": 113,
    "start_time": "2022-07-05T19:16:00.121Z"
   },
   {
    "duration": 0,
    "start_time": "2022-07-05T19:16:00.237Z"
   },
   {
    "duration": 0,
    "start_time": "2022-07-05T19:16:00.238Z"
   },
   {
    "duration": 0,
    "start_time": "2022-07-05T19:16:00.239Z"
   },
   {
    "duration": 0,
    "start_time": "2022-07-05T19:16:00.240Z"
   },
   {
    "duration": 0,
    "start_time": "2022-07-05T19:16:00.242Z"
   },
   {
    "duration": 0,
    "start_time": "2022-07-05T19:16:00.245Z"
   },
   {
    "duration": 0,
    "start_time": "2022-07-05T19:16:00.247Z"
   },
   {
    "duration": 0,
    "start_time": "2022-07-05T19:16:00.248Z"
   },
   {
    "duration": 0,
    "start_time": "2022-07-05T19:16:00.249Z"
   },
   {
    "duration": 0,
    "start_time": "2022-07-05T19:16:00.251Z"
   },
   {
    "duration": 0,
    "start_time": "2022-07-05T19:16:00.252Z"
   },
   {
    "duration": 0,
    "start_time": "2022-07-05T19:16:00.253Z"
   },
   {
    "duration": 0,
    "start_time": "2022-07-05T19:16:00.255Z"
   },
   {
    "duration": 0,
    "start_time": "2022-07-05T19:16:00.256Z"
   },
   {
    "duration": 0,
    "start_time": "2022-07-05T19:16:00.257Z"
   },
   {
    "duration": 0,
    "start_time": "2022-07-05T19:16:00.260Z"
   },
   {
    "duration": 0,
    "start_time": "2022-07-05T19:16:00.261Z"
   },
   {
    "duration": 0,
    "start_time": "2022-07-05T19:16:00.262Z"
   },
   {
    "duration": 0,
    "start_time": "2022-07-05T19:16:00.264Z"
   },
   {
    "duration": 0,
    "start_time": "2022-07-05T19:16:00.265Z"
   },
   {
    "duration": 0,
    "start_time": "2022-07-05T19:16:00.267Z"
   },
   {
    "duration": 0,
    "start_time": "2022-07-05T19:16:00.268Z"
   },
   {
    "duration": 0,
    "start_time": "2022-07-05T19:16:00.269Z"
   },
   {
    "duration": 0,
    "start_time": "2022-07-05T19:16:00.270Z"
   },
   {
    "duration": 0,
    "start_time": "2022-07-05T19:16:00.273Z"
   },
   {
    "duration": 0,
    "start_time": "2022-07-05T19:16:00.274Z"
   },
   {
    "duration": 1398,
    "start_time": "2022-07-05T19:16:14.848Z"
   },
   {
    "duration": 39,
    "start_time": "2022-07-05T19:16:16.248Z"
   },
   {
    "duration": 25,
    "start_time": "2022-07-05T19:16:16.289Z"
   },
   {
    "duration": 35,
    "start_time": "2022-07-05T19:16:16.317Z"
   },
   {
    "duration": 7,
    "start_time": "2022-07-05T19:16:16.355Z"
   },
   {
    "duration": 22,
    "start_time": "2022-07-05T19:16:16.364Z"
   },
   {
    "duration": 27,
    "start_time": "2022-07-05T19:16:16.388Z"
   },
   {
    "duration": 9,
    "start_time": "2022-07-05T19:16:16.417Z"
   },
   {
    "duration": 34,
    "start_time": "2022-07-05T19:16:16.429Z"
   },
   {
    "duration": 21,
    "start_time": "2022-07-05T19:16:16.465Z"
   },
   {
    "duration": 38,
    "start_time": "2022-07-05T19:16:16.488Z"
   },
   {
    "duration": 14,
    "start_time": "2022-07-05T19:16:16.527Z"
   },
   {
    "duration": 10,
    "start_time": "2022-07-05T19:16:16.542Z"
   },
   {
    "duration": 65,
    "start_time": "2022-07-05T19:16:16.557Z"
   },
   {
    "duration": 13,
    "start_time": "2022-07-05T19:16:16.623Z"
   },
   {
    "duration": 29,
    "start_time": "2022-07-05T19:16:16.638Z"
   },
   {
    "duration": 7,
    "start_time": "2022-07-05T19:16:16.669Z"
   },
   {
    "duration": 30,
    "start_time": "2022-07-05T19:16:16.678Z"
   },
   {
    "duration": 16,
    "start_time": "2022-07-05T19:16:16.711Z"
   },
   {
    "duration": 21,
    "start_time": "2022-07-05T19:16:16.729Z"
   },
   {
    "duration": 18,
    "start_time": "2022-07-05T19:16:16.752Z"
   },
   {
    "duration": 79,
    "start_time": "2022-07-05T19:16:16.772Z"
   },
   {
    "duration": 3,
    "start_time": "2022-07-05T19:16:16.853Z"
   },
   {
    "duration": 49,
    "start_time": "2022-07-05T19:16:16.858Z"
   },
   {
    "duration": 164,
    "start_time": "2022-07-05T19:16:16.909Z"
   },
   {
    "duration": 0,
    "start_time": "2022-07-05T19:16:17.076Z"
   },
   {
    "duration": 0,
    "start_time": "2022-07-05T19:16:17.077Z"
   },
   {
    "duration": 0,
    "start_time": "2022-07-05T19:16:17.079Z"
   },
   {
    "duration": 0,
    "start_time": "2022-07-05T19:16:17.083Z"
   },
   {
    "duration": 0,
    "start_time": "2022-07-05T19:16:17.085Z"
   },
   {
    "duration": 0,
    "start_time": "2022-07-05T19:16:17.095Z"
   },
   {
    "duration": 0,
    "start_time": "2022-07-05T19:16:17.097Z"
   },
   {
    "duration": 0,
    "start_time": "2022-07-05T19:16:17.098Z"
   },
   {
    "duration": 0,
    "start_time": "2022-07-05T19:16:17.099Z"
   },
   {
    "duration": 0,
    "start_time": "2022-07-05T19:16:17.101Z"
   },
   {
    "duration": 0,
    "start_time": "2022-07-05T19:16:17.103Z"
   },
   {
    "duration": 0,
    "start_time": "2022-07-05T19:16:17.104Z"
   },
   {
    "duration": 0,
    "start_time": "2022-07-05T19:16:17.105Z"
   },
   {
    "duration": 0,
    "start_time": "2022-07-05T19:16:17.106Z"
   },
   {
    "duration": 0,
    "start_time": "2022-07-05T19:16:17.107Z"
   },
   {
    "duration": 0,
    "start_time": "2022-07-05T19:16:17.108Z"
   },
   {
    "duration": 0,
    "start_time": "2022-07-05T19:16:17.110Z"
   },
   {
    "duration": 0,
    "start_time": "2022-07-05T19:16:17.111Z"
   },
   {
    "duration": 0,
    "start_time": "2022-07-05T19:16:17.112Z"
   },
   {
    "duration": 0,
    "start_time": "2022-07-05T19:16:17.114Z"
   },
   {
    "duration": 0,
    "start_time": "2022-07-05T19:16:17.115Z"
   },
   {
    "duration": 0,
    "start_time": "2022-07-05T19:16:17.148Z"
   },
   {
    "duration": 0,
    "start_time": "2022-07-05T19:16:17.149Z"
   },
   {
    "duration": 0,
    "start_time": "2022-07-05T19:16:17.151Z"
   },
   {
    "duration": 0,
    "start_time": "2022-07-05T19:16:17.153Z"
   },
   {
    "duration": 0,
    "start_time": "2022-07-05T19:16:17.154Z"
   },
   {
    "duration": 1238,
    "start_time": "2022-07-05T19:16:40.065Z"
   },
   {
    "duration": 38,
    "start_time": "2022-07-05T19:16:41.305Z"
   },
   {
    "duration": 22,
    "start_time": "2022-07-05T19:16:41.346Z"
   },
   {
    "duration": 33,
    "start_time": "2022-07-05T19:16:41.371Z"
   },
   {
    "duration": 6,
    "start_time": "2022-07-05T19:16:41.406Z"
   },
   {
    "duration": 17,
    "start_time": "2022-07-05T19:16:41.414Z"
   },
   {
    "duration": 13,
    "start_time": "2022-07-05T19:16:41.447Z"
   },
   {
    "duration": 8,
    "start_time": "2022-07-05T19:16:41.462Z"
   },
   {
    "duration": 37,
    "start_time": "2022-07-05T19:16:41.473Z"
   },
   {
    "duration": 16,
    "start_time": "2022-07-05T19:16:41.514Z"
   },
   {
    "duration": 34,
    "start_time": "2022-07-05T19:16:41.531Z"
   },
   {
    "duration": 15,
    "start_time": "2022-07-05T19:16:41.568Z"
   },
   {
    "duration": 11,
    "start_time": "2022-07-05T19:16:41.585Z"
   },
   {
    "duration": 51,
    "start_time": "2022-07-05T19:16:41.598Z"
   },
   {
    "duration": 17,
    "start_time": "2022-07-05T19:16:41.651Z"
   },
   {
    "duration": 17,
    "start_time": "2022-07-05T19:16:41.671Z"
   },
   {
    "duration": 21,
    "start_time": "2022-07-05T19:16:41.690Z"
   },
   {
    "duration": 8,
    "start_time": "2022-07-05T19:16:41.712Z"
   },
   {
    "duration": 31,
    "start_time": "2022-07-05T19:16:41.721Z"
   },
   {
    "duration": 16,
    "start_time": "2022-07-05T19:16:41.754Z"
   },
   {
    "duration": 28,
    "start_time": "2022-07-05T19:16:41.772Z"
   },
   {
    "duration": 92,
    "start_time": "2022-07-05T19:16:41.802Z"
   },
   {
    "duration": 3,
    "start_time": "2022-07-05T19:16:41.896Z"
   },
   {
    "duration": 45,
    "start_time": "2022-07-05T19:16:41.901Z"
   },
   {
    "duration": 23,
    "start_time": "2022-07-05T19:16:41.948Z"
   },
   {
    "duration": 5,
    "start_time": "2022-07-05T19:16:41.973Z"
   },
   {
    "duration": 50,
    "start_time": "2022-07-05T19:16:41.979Z"
   },
   {
    "duration": 9,
    "start_time": "2022-07-05T19:16:42.034Z"
   },
   {
    "duration": 38,
    "start_time": "2022-07-05T19:16:42.045Z"
   },
   {
    "duration": 70,
    "start_time": "2022-07-05T19:16:42.084Z"
   },
   {
    "duration": 207,
    "start_time": "2022-07-05T19:16:42.156Z"
   },
   {
    "duration": 9,
    "start_time": "2022-07-05T19:16:42.366Z"
   },
   {
    "duration": 34421,
    "start_time": "2022-07-05T19:16:42.377Z"
   },
   {
    "duration": 5,
    "start_time": "2022-07-05T19:17:16.800Z"
   },
   {
    "duration": 48,
    "start_time": "2022-07-05T19:17:16.807Z"
   },
   {
    "duration": 88,
    "start_time": "2022-07-05T19:17:16.858Z"
   },
   {
    "duration": 10,
    "start_time": "2022-07-05T19:17:16.949Z"
   },
   {
    "duration": 90,
    "start_time": "2022-07-05T19:17:16.961Z"
   },
   {
    "duration": 7,
    "start_time": "2022-07-05T19:17:17.054Z"
   },
   {
    "duration": 11,
    "start_time": "2022-07-05T19:17:17.062Z"
   },
   {
    "duration": 223,
    "start_time": "2022-07-05T19:17:17.075Z"
   },
   {
    "duration": 47330,
    "start_time": "2022-07-05T19:17:17.300Z"
   },
   {
    "duration": 51,
    "start_time": "2022-07-05T19:18:04.631Z"
   },
   {
    "duration": 347,
    "start_time": "2022-07-05T19:18:04.684Z"
   },
   {
    "duration": 34464,
    "start_time": "2022-07-05T19:18:05.033Z"
   },
   {
    "duration": 247,
    "start_time": "2022-07-05T19:18:39.499Z"
   },
   {
    "duration": 5,
    "start_time": "2022-07-05T19:18:39.749Z"
   },
   {
    "duration": 8,
    "start_time": "2022-07-05T19:18:39.757Z"
   },
   {
    "duration": 612,
    "start_time": "2022-07-05T19:18:39.767Z"
   },
   {
    "duration": 81,
    "start_time": "2022-07-05T19:18:40.381Z"
   },
   {
    "duration": 18,
    "start_time": "2022-07-05T19:18:40.463Z"
   },
   {
    "duration": 1319,
    "start_time": "2022-07-05T19:20:02.517Z"
   },
   {
    "duration": 32,
    "start_time": "2022-07-05T19:20:03.838Z"
   },
   {
    "duration": 24,
    "start_time": "2022-07-05T19:20:03.872Z"
   },
   {
    "duration": 49,
    "start_time": "2022-07-05T19:20:03.898Z"
   },
   {
    "duration": 6,
    "start_time": "2022-07-05T19:20:03.952Z"
   },
   {
    "duration": 23,
    "start_time": "2022-07-05T19:20:03.960Z"
   },
   {
    "duration": 15,
    "start_time": "2022-07-05T19:20:03.985Z"
   },
   {
    "duration": 7,
    "start_time": "2022-07-05T19:20:04.003Z"
   },
   {
    "duration": 18,
    "start_time": "2022-07-05T19:20:04.013Z"
   },
   {
    "duration": 13,
    "start_time": "2022-07-05T19:20:04.034Z"
   },
   {
    "duration": 17,
    "start_time": "2022-07-05T19:20:04.048Z"
   },
   {
    "duration": 22,
    "start_time": "2022-07-05T19:20:04.067Z"
   },
   {
    "duration": 5,
    "start_time": "2022-07-05T19:20:04.091Z"
   },
   {
    "duration": 87,
    "start_time": "2022-07-05T19:20:04.097Z"
   },
   {
    "duration": 17,
    "start_time": "2022-07-05T19:20:04.187Z"
   },
   {
    "duration": 41,
    "start_time": "2022-07-05T19:20:04.206Z"
   },
   {
    "duration": 7,
    "start_time": "2022-07-05T19:20:04.249Z"
   },
   {
    "duration": 14,
    "start_time": "2022-07-05T19:20:04.259Z"
   },
   {
    "duration": 20,
    "start_time": "2022-07-05T19:20:04.274Z"
   },
   {
    "duration": 17,
    "start_time": "2022-07-05T19:20:04.297Z"
   },
   {
    "duration": 36,
    "start_time": "2022-07-05T19:20:04.316Z"
   },
   {
    "duration": 9,
    "start_time": "2022-07-05T19:20:04.354Z"
   },
   {
    "duration": 42,
    "start_time": "2022-07-05T19:20:04.367Z"
   },
   {
    "duration": 5,
    "start_time": "2022-07-05T19:20:04.411Z"
   },
   {
    "duration": 28,
    "start_time": "2022-07-05T19:20:04.418Z"
   },
   {
    "duration": 6,
    "start_time": "2022-07-05T19:20:04.448Z"
   },
   {
    "duration": 13,
    "start_time": "2022-07-05T19:20:04.456Z"
   },
   {
    "duration": 6,
    "start_time": "2022-07-05T19:20:04.473Z"
   },
   {
    "duration": 242,
    "start_time": "2022-07-05T19:20:04.481Z"
   },
   {
    "duration": 7,
    "start_time": "2022-07-05T19:20:04.725Z"
   },
   {
    "duration": 33215,
    "start_time": "2022-07-05T19:20:04.734Z"
   },
   {
    "duration": 6,
    "start_time": "2022-07-05T19:20:37.951Z"
   },
   {
    "duration": 101,
    "start_time": "2022-07-05T19:20:37.959Z"
   },
   {
    "duration": 3,
    "start_time": "2022-07-05T19:20:38.148Z"
   },
   {
    "duration": 100,
    "start_time": "2022-07-05T19:20:38.153Z"
   },
   {
    "duration": 20,
    "start_time": "2022-07-05T19:20:38.255Z"
   },
   {
    "duration": 11,
    "start_time": "2022-07-05T19:20:38.277Z"
   },
   {
    "duration": 9,
    "start_time": "2022-07-05T19:20:38.290Z"
   },
   {
    "duration": 230,
    "start_time": "2022-07-05T19:20:38.301Z"
   },
   {
    "duration": 43948,
    "start_time": "2022-07-05T19:20:38.534Z"
   },
   {
    "duration": 69,
    "start_time": "2022-07-05T19:21:22.484Z"
   },
   {
    "duration": 304,
    "start_time": "2022-07-05T19:21:22.555Z"
   },
   {
    "duration": 32444,
    "start_time": "2022-07-05T19:21:22.861Z"
   },
   {
    "duration": 50,
    "start_time": "2022-07-05T19:21:55.307Z"
   },
   {
    "duration": 9,
    "start_time": "2022-07-05T19:21:55.445Z"
   },
   {
    "duration": 93,
    "start_time": "2022-07-05T19:21:55.459Z"
   },
   {
    "duration": 535,
    "start_time": "2022-07-05T19:21:55.553Z"
   },
   {
    "duration": 80,
    "start_time": "2022-07-05T19:21:56.089Z"
   },
   {
    "duration": 24,
    "start_time": "2022-07-05T19:21:56.171Z"
   },
   {
    "duration": 51,
    "start_time": "2022-07-05T19:23:49.634Z"
   },
   {
    "duration": 50,
    "start_time": "2022-07-05T19:23:54.029Z"
   },
   {
    "duration": 1188,
    "start_time": "2022-07-20T17:13:09.980Z"
   },
   {
    "duration": 156,
    "start_time": "2022-07-20T17:13:11.351Z"
   },
   {
    "duration": 17,
    "start_time": "2022-07-20T17:13:17.583Z"
   },
   {
    "duration": 20,
    "start_time": "2022-07-20T17:13:19.655Z"
   },
   {
    "duration": 4,
    "start_time": "2022-07-20T17:13:43.792Z"
   },
   {
    "duration": 3,
    "start_time": "2022-07-20T17:13:45.265Z"
   },
   {
    "duration": 5,
    "start_time": "2022-07-20T17:13:46.053Z"
   },
   {
    "duration": 3,
    "start_time": "2022-07-20T17:13:59.338Z"
   },
   {
    "duration": 17,
    "start_time": "2022-07-20T17:14:00.095Z"
   },
   {
    "duration": 7,
    "start_time": "2022-07-20T17:14:07.546Z"
   },
   {
    "duration": 15,
    "start_time": "2022-07-20T17:14:10.091Z"
   },
   {
    "duration": 15,
    "start_time": "2022-07-20T17:14:12.619Z"
   },
   {
    "duration": 10,
    "start_time": "2022-07-20T17:14:14.579Z"
   },
   {
    "duration": 44,
    "start_time": "2022-07-20T17:14:15.668Z"
   },
   {
    "duration": 13,
    "start_time": "2022-07-20T17:14:16.279Z"
   },
   {
    "duration": 17,
    "start_time": "2022-07-20T17:14:18.149Z"
   },
   {
    "duration": 5,
    "start_time": "2022-07-20T17:14:22.422Z"
   },
   {
    "duration": 5,
    "start_time": "2022-07-20T17:14:23.348Z"
   },
   {
    "duration": 13,
    "start_time": "2022-07-20T17:14:41.686Z"
   },
   {
    "duration": 17,
    "start_time": "2022-07-20T17:14:42.621Z"
   },
   {
    "duration": 17,
    "start_time": "2022-07-20T17:14:43.079Z"
   },
   {
    "duration": 3,
    "start_time": "2022-07-20T17:14:45.798Z"
   },
   {
    "duration": 37,
    "start_time": "2022-07-20T17:14:46.345Z"
   },
   {
    "duration": 6,
    "start_time": "2022-07-20T17:14:49.938Z"
   },
   {
    "duration": 9,
    "start_time": "2022-07-20T17:14:50.799Z"
   },
   {
    "duration": 5,
    "start_time": "2022-07-20T17:14:51.791Z"
   },
   {
    "duration": 9,
    "start_time": "2022-07-20T17:14:54.300Z"
   },
   {
    "duration": 5,
    "start_time": "2022-07-20T17:15:06.261Z"
   },
   {
    "duration": 172,
    "start_time": "2022-07-20T17:15:17.373Z"
   },
   {
    "duration": 6,
    "start_time": "2022-07-20T17:15:22.047Z"
   },
   {
    "duration": 32988,
    "start_time": "2022-07-20T17:15:23.163Z"
   },
   {
    "duration": 4,
    "start_time": "2022-07-20T17:16:02.599Z"
   },
   {
    "duration": 26,
    "start_time": "2022-07-20T17:16:03.480Z"
   },
   {
    "duration": 4,
    "start_time": "2022-07-20T17:16:37.103Z"
   },
   {
    "duration": 10,
    "start_time": "2022-07-20T17:16:38.054Z"
   },
   {
    "duration": 6,
    "start_time": "2022-07-20T17:16:38.455Z"
   },
   {
    "duration": 6,
    "start_time": "2022-07-20T17:16:39.959Z"
   },
   {
    "duration": 229,
    "start_time": "2022-07-20T17:16:43.557Z"
   },
   {
    "duration": 45488,
    "start_time": "2022-07-20T17:16:47.498Z"
   },
   {
    "duration": 116,
    "start_time": "2022-07-20T17:17:32.989Z"
   },
   {
    "duration": 192,
    "start_time": "2022-07-20T17:18:22.598Z"
   },
   {
    "duration": 33095,
    "start_time": "2022-07-20T17:23:30.634Z"
   },
   {
    "duration": 82,
    "start_time": "2022-07-20T17:24:03.731Z"
   },
   {
    "duration": 6,
    "start_time": "2022-07-20T17:32:47.607Z"
   },
   {
    "duration": 3,
    "start_time": "2022-07-20T17:32:48.332Z"
   },
   {
    "duration": 23,
    "start_time": "2022-07-20T17:33:57.693Z"
   },
   {
    "duration": 6,
    "start_time": "2022-07-20T17:34:00.760Z"
   },
   {
    "duration": 5,
    "start_time": "2022-07-20T17:34:16.183Z"
   },
   {
    "duration": 15,
    "start_time": "2022-07-20T17:34:26.558Z"
   },
   {
    "duration": 7,
    "start_time": "2022-07-20T17:34:35.390Z"
   },
   {
    "duration": 1137,
    "start_time": "2022-07-20T17:34:54.002Z"
   },
   {
    "duration": 115,
    "start_time": "2022-07-20T17:35:20.170Z"
   },
   {
    "duration": 15,
    "start_time": "2022-07-20T17:35:36.472Z"
   },
   {
    "duration": 64,
    "start_time": "2022-07-21T13:30:31.598Z"
   },
   {
    "duration": 1301,
    "start_time": "2022-07-21T13:37:16.916Z"
   },
   {
    "duration": 114,
    "start_time": "2022-07-21T13:37:18.220Z"
   },
   {
    "duration": 21,
    "start_time": "2022-07-21T13:37:18.335Z"
   },
   {
    "duration": 30,
    "start_time": "2022-07-21T13:37:18.913Z"
   },
   {
    "duration": 9,
    "start_time": "2022-07-21T13:37:20.264Z"
   },
   {
    "duration": 7,
    "start_time": "2022-07-21T13:37:20.875Z"
   },
   {
    "duration": 11,
    "start_time": "2022-07-21T13:37:21.141Z"
   },
   {
    "duration": 5,
    "start_time": "2022-07-21T13:37:21.488Z"
   },
   {
    "duration": 18,
    "start_time": "2022-07-21T13:37:21.800Z"
   },
   {
    "duration": 6,
    "start_time": "2022-07-21T13:37:22.691Z"
   },
   {
    "duration": 28,
    "start_time": "2022-07-21T13:37:23.247Z"
   },
   {
    "duration": 17,
    "start_time": "2022-07-21T13:37:24.385Z"
   },
   {
    "duration": 3,
    "start_time": "2022-07-21T13:37:27.733Z"
   },
   {
    "duration": 44,
    "start_time": "2022-07-21T13:37:28.078Z"
   },
   {
    "duration": 16,
    "start_time": "2022-07-21T13:37:28.500Z"
   },
   {
    "duration": 15,
    "start_time": "2022-07-21T13:37:31.006Z"
   },
   {
    "duration": 5,
    "start_time": "2022-07-21T13:37:34.636Z"
   },
   {
    "duration": 6,
    "start_time": "2022-07-21T13:37:35.188Z"
   },
   {
    "duration": 18,
    "start_time": "2022-07-21T13:37:36.675Z"
   },
   {
    "duration": 13,
    "start_time": "2022-07-21T13:37:37.119Z"
   },
   {
    "duration": 10,
    "start_time": "2022-07-21T13:37:37.536Z"
   },
   {
    "duration": 6,
    "start_time": "2022-07-21T13:38:38.934Z"
   },
   {
    "duration": 15,
    "start_time": "2022-07-21T13:42:04.115Z"
   },
   {
    "duration": 4,
    "start_time": "2022-07-21T13:42:05.818Z"
   },
   {
    "duration": 4,
    "start_time": "2022-07-21T13:45:11.996Z"
   },
   {
    "duration": 86,
    "start_time": "2022-07-21T13:46:54.743Z"
   },
   {
    "duration": 1692,
    "start_time": "2022-07-21T13:47:39.980Z"
   },
   {
    "duration": 77,
    "start_time": "2022-07-21T13:47:41.680Z"
   },
   {
    "duration": 18,
    "start_time": "2022-07-21T13:47:41.759Z"
   },
   {
    "duration": 80,
    "start_time": "2022-07-21T13:47:41.779Z"
   },
   {
    "duration": 6,
    "start_time": "2022-07-21T13:47:42.318Z"
   },
   {
    "duration": 6,
    "start_time": "2022-07-21T13:47:42.744Z"
   },
   {
    "duration": 6,
    "start_time": "2022-07-21T13:47:42.903Z"
   },
   {
    "duration": 7,
    "start_time": "2022-07-21T13:47:43.074Z"
   },
   {
    "duration": 21,
    "start_time": "2022-07-21T13:47:43.297Z"
   },
   {
    "duration": 10,
    "start_time": "2022-07-21T13:47:44.420Z"
   },
   {
    "duration": 39,
    "start_time": "2022-07-21T13:47:45.604Z"
   },
   {
    "duration": 26,
    "start_time": "2022-07-21T13:47:46.913Z"
   },
   {
    "duration": 5,
    "start_time": "2022-07-21T13:47:47.447Z"
   },
   {
    "duration": 76,
    "start_time": "2022-07-21T13:47:47.822Z"
   },
   {
    "duration": 26,
    "start_time": "2022-07-21T13:47:48.218Z"
   },
   {
    "duration": 35,
    "start_time": "2022-07-21T13:47:50.333Z"
   },
   {
    "duration": 7,
    "start_time": "2022-07-21T13:47:52.879Z"
   },
   {
    "duration": 7,
    "start_time": "2022-07-21T13:47:53.212Z"
   },
   {
    "duration": 30,
    "start_time": "2022-07-21T13:47:53.831Z"
   },
   {
    "duration": 42,
    "start_time": "2022-07-21T13:47:54.173Z"
   },
   {
    "duration": 18,
    "start_time": "2022-07-21T13:47:55.810Z"
   },
   {
    "duration": 12,
    "start_time": "2022-07-21T13:48:07.875Z"
   },
   {
    "duration": 7,
    "start_time": "2022-07-21T13:48:09.384Z"
   },
   {
    "duration": 15,
    "start_time": "2022-07-21T13:49:59.408Z"
   },
   {
    "duration": 24,
    "start_time": "2022-07-21T13:50:00.219Z"
   },
   {
    "duration": 11,
    "start_time": "2022-07-21T13:50:01.412Z"
   },
   {
    "duration": 68,
    "start_time": "2022-07-21T13:51:16.955Z"
   },
   {
    "duration": 42,
    "start_time": "2022-07-21T13:51:57.684Z"
   },
   {
    "duration": 1294,
    "start_time": "2022-07-21T13:53:12.970Z"
   },
   {
    "duration": 51,
    "start_time": "2022-07-21T13:53:14.271Z"
   },
   {
    "duration": 15,
    "start_time": "2022-07-21T13:53:14.324Z"
   },
   {
    "duration": 51,
    "start_time": "2022-07-21T13:53:14.340Z"
   },
   {
    "duration": 8,
    "start_time": "2022-07-21T13:53:14.394Z"
   },
   {
    "duration": 10,
    "start_time": "2022-07-21T13:53:14.403Z"
   },
   {
    "duration": 11,
    "start_time": "2022-07-21T13:53:14.416Z"
   },
   {
    "duration": 7,
    "start_time": "2022-07-21T13:53:14.428Z"
   },
   {
    "duration": 37,
    "start_time": "2022-07-21T13:53:14.437Z"
   },
   {
    "duration": 13,
    "start_time": "2022-07-21T13:53:14.479Z"
   },
   {
    "duration": 19,
    "start_time": "2022-07-21T13:53:14.495Z"
   },
   {
    "duration": 20,
    "start_time": "2022-07-21T13:53:14.517Z"
   },
   {
    "duration": 4,
    "start_time": "2022-07-21T13:53:14.539Z"
   },
   {
    "duration": 77,
    "start_time": "2022-07-21T13:53:14.547Z"
   },
   {
    "duration": 12,
    "start_time": "2022-07-21T13:53:14.627Z"
   },
   {
    "duration": 25,
    "start_time": "2022-07-21T13:53:14.640Z"
   },
   {
    "duration": 38,
    "start_time": "2022-07-21T13:53:14.667Z"
   },
   {
    "duration": 9,
    "start_time": "2022-07-21T13:53:14.707Z"
   },
   {
    "duration": 16,
    "start_time": "2022-07-21T13:53:14.718Z"
   },
   {
    "duration": 20,
    "start_time": "2022-07-21T13:53:14.736Z"
   },
   {
    "duration": 45,
    "start_time": "2022-07-21T13:53:14.758Z"
   },
   {
    "duration": 11,
    "start_time": "2022-07-21T13:53:14.805Z"
   },
   {
    "duration": 14,
    "start_time": "2022-07-21T13:53:14.818Z"
   },
   {
    "duration": 4,
    "start_time": "2022-07-21T13:53:14.833Z"
   },
   {
    "duration": 6,
    "start_time": "2022-07-21T13:53:14.839Z"
   },
   {
    "duration": 68,
    "start_time": "2022-07-21T13:53:14.852Z"
   },
   {
    "duration": 3,
    "start_time": "2022-07-21T13:53:14.922Z"
   },
   {
    "duration": 16,
    "start_time": "2022-07-21T13:53:14.927Z"
   },
   {
    "duration": 24,
    "start_time": "2022-07-21T13:53:14.944Z"
   },
   {
    "duration": 31,
    "start_time": "2022-07-21T13:53:14.972Z"
   },
   {
    "duration": 20,
    "start_time": "2022-07-21T13:53:15.005Z"
   },
   {
    "duration": 186,
    "start_time": "2022-07-21T13:53:15.027Z"
   },
   {
    "duration": 7,
    "start_time": "2022-07-21T13:53:15.215Z"
   },
   {
    "duration": 39865,
    "start_time": "2022-07-21T13:53:15.225Z"
   },
   {
    "duration": 7,
    "start_time": "2022-07-21T13:53:55.092Z"
   },
   {
    "duration": 170,
    "start_time": "2022-07-21T13:53:55.101Z"
   },
   {
    "duration": 9,
    "start_time": "2022-07-21T13:53:55.279Z"
   },
   {
    "duration": 31,
    "start_time": "2022-07-21T13:53:55.290Z"
   },
   {
    "duration": 25,
    "start_time": "2022-07-21T13:53:55.323Z"
   },
   {
    "duration": 7,
    "start_time": "2022-07-21T13:53:55.350Z"
   },
   {
    "duration": 243,
    "start_time": "2022-07-21T13:53:55.370Z"
   },
   {
    "duration": 53940,
    "start_time": "2022-07-21T13:53:55.615Z"
   },
   {
    "duration": 166,
    "start_time": "2022-07-21T13:54:49.557Z"
   },
   {
    "duration": 250,
    "start_time": "2022-07-21T13:54:49.747Z"
   },
   {
    "duration": 41580,
    "start_time": "2022-07-21T13:54:49.999Z"
   },
   {
    "duration": 125,
    "start_time": "2022-07-21T13:55:31.584Z"
   },
   {
    "duration": 118,
    "start_time": "2022-07-21T13:55:31.720Z"
   },
   {
    "duration": 144,
    "start_time": "2022-07-21T13:55:31.846Z"
   },
   {
    "duration": 53,
    "start_time": "2022-07-21T13:55:32.003Z"
   },
   {
    "duration": 114,
    "start_time": "2022-07-21T13:55:32.062Z"
   },
   {
    "duration": 22,
    "start_time": "2022-07-21T13:55:32.182Z"
   },
   {
    "duration": 1604,
    "start_time": "2022-07-21T13:55:32.207Z"
   },
   {
    "duration": 144,
    "start_time": "2022-07-21T13:55:33.819Z"
   }
  ],
  "kernelspec": {
   "display_name": "Python 3 (ipykernel)",
   "language": "python",
   "name": "python3"
  },
  "language_info": {
   "codemirror_mode": {
    "name": "ipython",
    "version": 3
   },
   "file_extension": ".py",
   "mimetype": "text/x-python",
   "name": "python",
   "nbconvert_exporter": "python",
   "pygments_lexer": "ipython3",
   "version": "3.9.6"
  },
  "toc": {
   "base_numbering": 1,
   "nav_menu": {},
   "number_sections": true,
   "sideBar": true,
   "skip_h1_title": true,
   "title_cell": "Table of Contents",
   "title_sidebar": "Contents",
   "toc_cell": false,
   "toc_position": {},
   "toc_section_display": true,
   "toc_window_display": false
  }
 },
 "nbformat": 4,
 "nbformat_minor": 2
}
