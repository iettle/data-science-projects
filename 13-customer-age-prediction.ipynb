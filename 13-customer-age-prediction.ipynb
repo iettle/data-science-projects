{
 "cells": [
  {
   "cell_type": "markdown",
   "metadata": {
    "deletable": false,
    "editable": false,
    "tags": [
     "df89053c-55da-4946-b602-c3baf619b53f"
    ]
   },
   "source": [
    "## Initialization"
   ]
  },
  {
   "cell_type": "code",
   "execution_count": 1,
   "metadata": {},
   "outputs": [],
   "source": [
    "import pandas as pd\n",
    "import numpy as np\n",
    "from PIL import Image\n",
    "import os\n",
    "import matplotlib.pyplot as plt\n",
    "\n",
    "from tensorflow.keras.preprocessing.image import ImageDataGenerator\n",
    "from tensorflow.keras import Sequential\n",
    "from tensorflow.keras.optimizers import Adam\n",
    "from tensorflow.keras.layers import GlobalAveragePooling2D, Dense, Flatten\n",
    "from tensorflow.keras.models import Sequential\n",
    "from tensorflow.keras.applications.resnet import ResNet50"
   ]
  },
  {
   "cell_type": "markdown",
   "metadata": {},
   "source": [
    "## Load Data"
   ]
  },
  {
   "cell_type": "markdown",
   "metadata": {},
   "source": [
    "The dataset is stored in the `/datasets/faces/` folder, there you can find\n",
    "- The `final_files` folder with 7.6k photos\n",
    "- The `labels.csv` file with labels, with two columns: `file_name` and `real_age`\n",
    "\n",
    "Given the fact that the number of image files is rather high, it is advisable to avoid reading them all at once, which would greatly consume computational resources. We recommend you build a generator with the ImageDataGenerator generator. This method was explained in Chapter 3, Lesson 7 of this course.\n",
    "\n",
    "The label file can be loaded as an usual CSV file."
   ]
  },
  {
   "cell_type": "code",
   "execution_count": 2,
   "metadata": {},
   "outputs": [],
   "source": [
    "# create variables for paths\n",
    "label_csv = '/datasets/faces/labels.csv'\n",
    "photo_dir = '/datasets/faces/final_files/'\n",
    "\n",
    "# read csv\n",
    "labels = pd.read_csv(label_csv)"
   ]
  },
  {
   "cell_type": "code",
   "execution_count": 3,
   "metadata": {},
   "outputs": [
    {
     "data": {
      "text/html": [
       "<div>\n",
       "<style scoped>\n",
       "    .dataframe tbody tr th:only-of-type {\n",
       "        vertical-align: middle;\n",
       "    }\n",
       "\n",
       "    .dataframe tbody tr th {\n",
       "        vertical-align: top;\n",
       "    }\n",
       "\n",
       "    .dataframe thead th {\n",
       "        text-align: right;\n",
       "    }\n",
       "</style>\n",
       "<table border=\"1\" class=\"dataframe\">\n",
       "  <thead>\n",
       "    <tr style=\"text-align: right;\">\n",
       "      <th></th>\n",
       "      <th>file_name</th>\n",
       "      <th>real_age</th>\n",
       "    </tr>\n",
       "  </thead>\n",
       "  <tbody>\n",
       "    <tr>\n",
       "      <th>0</th>\n",
       "      <td>000000.jpg</td>\n",
       "      <td>4</td>\n",
       "    </tr>\n",
       "    <tr>\n",
       "      <th>1</th>\n",
       "      <td>000001.jpg</td>\n",
       "      <td>18</td>\n",
       "    </tr>\n",
       "    <tr>\n",
       "      <th>2</th>\n",
       "      <td>000002.jpg</td>\n",
       "      <td>80</td>\n",
       "    </tr>\n",
       "    <tr>\n",
       "      <th>3</th>\n",
       "      <td>000003.jpg</td>\n",
       "      <td>50</td>\n",
       "    </tr>\n",
       "    <tr>\n",
       "      <th>4</th>\n",
       "      <td>000004.jpg</td>\n",
       "      <td>17</td>\n",
       "    </tr>\n",
       "  </tbody>\n",
       "</table>\n",
       "</div>"
      ],
      "text/plain": [
       "    file_name  real_age\n",
       "0  000000.jpg         4\n",
       "1  000001.jpg        18\n",
       "2  000002.jpg        80\n",
       "3  000003.jpg        50\n",
       "4  000004.jpg        17"
      ]
     },
     "execution_count": 3,
     "metadata": {},
     "output_type": "execute_result"
    }
   ],
   "source": [
    "# view data\n",
    "labels.head()"
   ]
  },
  {
   "cell_type": "code",
   "execution_count": 4,
   "metadata": {},
   "outputs": [
    {
     "name": "stdout",
     "output_type": "stream",
     "text": [
      "<class 'pandas.core.frame.DataFrame'>\n",
      "RangeIndex: 7591 entries, 0 to 7590\n",
      "Data columns (total 2 columns):\n",
      " #   Column     Non-Null Count  Dtype \n",
      "---  ------     --------------  ----- \n",
      " 0   file_name  7591 non-null   object\n",
      " 1   real_age   7591 non-null   int64 \n",
      "dtypes: int64(1), object(1)\n",
      "memory usage: 118.7+ KB\n"
     ]
    }
   ],
   "source": [
    "# see basic info\n",
    "labels.info()"
   ]
  },
  {
   "cell_type": "markdown",
   "metadata": {},
   "source": [
    "The labels csv contains 7591 rows and two columns: `file_name`, which corresponds to an image in the photo directory, and `real_age` which is the actual age of the person depicted in the file. There are no null values, so next I will go into EDA."
   ]
  },
  {
   "cell_type": "markdown",
   "metadata": {},
   "source": [
    "## EDA\n",
    "\n",
    "I will first conduct preliminary EDA on the dataset. I'm interested in seeing the distributions of ages and will look at a few photos from the dataset as well."
   ]
  },
  {
   "cell_type": "code",
   "execution_count": 5,
   "metadata": {},
   "outputs": [
    {
     "data": {
      "text/html": [
       "<div>\n",
       "<style scoped>\n",
       "    .dataframe tbody tr th:only-of-type {\n",
       "        vertical-align: middle;\n",
       "    }\n",
       "\n",
       "    .dataframe tbody tr th {\n",
       "        vertical-align: top;\n",
       "    }\n",
       "\n",
       "    .dataframe thead th {\n",
       "        text-align: right;\n",
       "    }\n",
       "</style>\n",
       "<table border=\"1\" class=\"dataframe\">\n",
       "  <thead>\n",
       "    <tr style=\"text-align: right;\">\n",
       "      <th></th>\n",
       "      <th>real_age</th>\n",
       "    </tr>\n",
       "  </thead>\n",
       "  <tbody>\n",
       "    <tr>\n",
       "      <th>count</th>\n",
       "      <td>7591.000000</td>\n",
       "    </tr>\n",
       "    <tr>\n",
       "      <th>mean</th>\n",
       "      <td>31.201159</td>\n",
       "    </tr>\n",
       "    <tr>\n",
       "      <th>std</th>\n",
       "      <td>17.145060</td>\n",
       "    </tr>\n",
       "    <tr>\n",
       "      <th>min</th>\n",
       "      <td>1.000000</td>\n",
       "    </tr>\n",
       "    <tr>\n",
       "      <th>25%</th>\n",
       "      <td>20.000000</td>\n",
       "    </tr>\n",
       "    <tr>\n",
       "      <th>50%</th>\n",
       "      <td>29.000000</td>\n",
       "    </tr>\n",
       "    <tr>\n",
       "      <th>75%</th>\n",
       "      <td>41.000000</td>\n",
       "    </tr>\n",
       "    <tr>\n",
       "      <th>max</th>\n",
       "      <td>100.000000</td>\n",
       "    </tr>\n",
       "  </tbody>\n",
       "</table>\n",
       "</div>"
      ],
      "text/plain": [
       "          real_age\n",
       "count  7591.000000\n",
       "mean     31.201159\n",
       "std      17.145060\n",
       "min       1.000000\n",
       "25%      20.000000\n",
       "50%      29.000000\n",
       "75%      41.000000\n",
       "max     100.000000"
      ]
     },
     "execution_count": 5,
     "metadata": {},
     "output_type": "execute_result"
    }
   ],
   "source": [
    "# view summary statistics\n",
    "labels.describe()"
   ]
  },
  {
   "cell_type": "code",
   "execution_count": 6,
   "metadata": {},
   "outputs": [
    {
     "data": {
      "image/png": "[encoded data removed]",
      "text/plain": [
       "<Figure size 432x288 with 1 Axes>"
      ]
     },
     "metadata": {
      "needs_background": "light"
     },
     "output_type": "display_data"
    }
   ],
   "source": [
    "# view the ages\n",
    "labels['real_age'].plot(kind='hist', bins=range(0, 105, 5));"
   ]
  },
  {
   "cell_type": "markdown",
   "metadata": {},
   "source": [
    "From the sumamry statistics and the histogram, we can see that ages range between 1-100, but 31 is the mean age represented in the photos. Most ages are clustered around 20-40 years, and there's a significant right tail. Our model may struggle to tell the ages of senior individuals. \n",
    "\n",
    "Next, I will observe a few photos from the dataset."
   ]
  },
  {
   "cell_type": "code",
   "execution_count": 21,
   "metadata": {},
   "outputs": [
    {
     "data": {
      "image/png": "[encoded data removed]",
      "text/plain": [
       "<Figure size 432x288 with 5 Axes>"
      ]
     },
     "metadata": {
      "needs_background": "light"
     },
     "output_type": "display_data"
    }
   ],
   "source": [
    "# collect random photo names\n",
    "samples = labels.sample(n = 5, random_state=12345)['file_name'].to_list()\n",
    "\n",
    "# show photos\n",
    "for i, sample in enumerate(samples):\n",
    "    path = os.path.join(photo_dir, sample)\n",
    "    image = Image.open(path)\n",
    "    array = np.array(image)\n",
    "    \n",
    "    plt.figure\n",
    "    plt.subplot(1, 5, i+1)\n",
    "    plt.imshow(image)"
   ]
  },
  {
   "cell_type": "markdown",
   "metadata": {},
   "source": [
    "Of the five images shown above, there are some colored selfies and some other photos. The photos are concentrated around the face and have varying expressions. The second photo is rotated a little."
   ]
  },
  {
   "cell_type": "markdown",
   "metadata": {},
   "source": [
    "### Findings"
   ]
  },
  {
   "cell_type": "markdown",
   "metadata": {},
   "source": [
    "Overall, EDA has revealed the average age of people pictures (20-40) and that the colored photos are a focus on the face."
   ]
  },
  {
   "cell_type": "markdown",
   "metadata": {},
   "source": [
    "## Modelling"
   ]
  },
  {
   "cell_type": "markdown",
   "metadata": {},
   "source": [
    "Define the necessary functions to train your model on the GPU platform and build a single script containing all of them along with the initialization section.\n",
    "\n",
    "To make this task easier, you can define them in this notebook and run a ready code in the next section to automatically compose the script.\n",
    "\n",
    "The definitions below will be checked by project reviewers as well, so that they can understand how you built the model."
   ]
  },
  {
   "cell_type": "code",
   "execution_count": 23,
   "metadata": {},
   "outputs": [],
   "source": [
    "import pandas as pd\n",
    "\n",
    "import tensorflow as tf\n",
    "\n",
    "from tensorflow.keras.preprocessing.image import ImageDataGenerator\n",
    "from tensorflow.keras.applications.resnet import ResNet50\n",
    "from tensorflow.keras.models import Sequential\n",
    "from tensorflow.keras.layers import GlobalAveragePooling2D, Dense, Dropout, Flatten\n",
    "from tensorflow.keras.optimizers import Adam"
   ]
  },
  {
   "cell_type": "code",
   "execution_count": 52,
   "metadata": {},
   "outputs": [],
   "source": [
    "def load_train(path):\n",
    "    \n",
    "    \"\"\"\n",
    "    It loads the train part of dataset from path\n",
    "    \"\"\"\n",
    "    \n",
    "    label_csv = '/datasets/faces/labels.csv'\n",
    "    photo_dir = '/datasets/faces/final_files/'\n",
    "\n",
    "    labels = pd.read_csv(label_csv)\n",
    "    \n",
    "    train_datagen = ImageDataGenerator(validation_split=0.25, rescale=1/255, \n",
    "                                    horizontal_flip=True, vertical_flip=True)\n",
    "    \n",
    "    train_gen_flow = train_datagen.flow_from_dataframe(\n",
    "        dataframe=labels,\n",
    "        directory=photo_dir,\n",
    "        x_col='file_name',\n",
    "        y_col='real_age',\n",
    "        subset='training',\n",
    "        target_size=(150, 150),\n",
    "        batch_size=16,\n",
    "        class_mode='raw',\n",
    "        seed=12345\n",
    "    )\n",
    "\n",
    "    return train_gen_flow"
   ]
  },
  {
   "cell_type": "code",
   "execution_count": 55,
   "metadata": {},
   "outputs": [],
   "source": [
    "def load_test(path):\n",
    "    \n",
    "    \"\"\"\n",
    "    It loads the validation/test part of dataset from path\n",
    "    \"\"\"\n",
    "    \n",
    "    label_csv = '/datasets/faces/labels.csv'\n",
    "    photo_dir = '/datasets/faces/final_files/'\n",
    "    \n",
    "    labels = pd.read_csv(label_csv)\n",
    "\n",
    "    test_datagen = ImageDataGenerator(validation_split=0.25, rescale=1/255, \n",
    "                                    horizontal_flip=True, vertical_flip=True)\n",
    "    \n",
    "    test_gen_flow = test_datagen.flow_from_dataframe(\n",
    "        dataframe=labels,\n",
    "        directory=photo_dir,\n",
    "        x_col='file_name',\n",
    "        y_col='real_age',\n",
    "        subset='validation',\n",
    "        target_size=(150, 150),\n",
    "        batch_size=16,\n",
    "        class_mode='raw',\n",
    "        seed=12345\n",
    "    )\n",
    "\n",
    "    return test_gen_flow"
   ]
  },
  {
   "cell_type": "code",
   "execution_count": 46,
   "metadata": {},
   "outputs": [],
   "source": [
    "def create_model(input_shape):\n",
    "    \n",
    "    \"\"\"\n",
    "    It defines the model\n",
    "    \"\"\"\n",
    "    \n",
    "    backbone = ResNet50(input_shape=input_shape, weights='imagenet', include_top=False)\n",
    "    \n",
    "    model=Sequential()\n",
    "    model.add(backbone)\n",
    "    model.add(GlobalAveragePooling2D())\n",
    "    model.add(Dense(1,activation='relu'))\n",
    "    optimizer=Adam(learning_rate=0.0001)\n",
    "    model.compile(optimizer=optimizer, loss='mae', metrics=['mae'])\n",
    "\n",
    "    return model"
   ]
  },
  {
   "cell_type": "code",
   "execution_count": 47,
   "metadata": {},
   "outputs": [],
   "source": [
    "def train_model(model, train_data, test_data, batch_size=None, epochs=20,\n",
    "                steps_per_epoch=None, validation_steps=None):\n",
    "\n",
    "    \"\"\"\n",
    "    Trains the model given the parameters\n",
    "    \"\"\"\n",
    "    \n",
    "    if steps_per_epoch is None:\n",
    "        steps_per_epoch = len(train_data)\n",
    "    if validation_steps is None:\n",
    "        validation_steps = len(test_data)\n",
    "    \n",
    "    model.fit(train_data,\n",
    "          validation_data=test_data,\n",
    "          epochs=epochs,\n",
    "          batch_size=batch_size,\n",
    "          steps_per_epoch=steps_per_epoch,\n",
    "          validation_steps=validation_steps,\n",
    "          verbose=2) \n",
    "\n",
    "    return model"
   ]
  },
  {
   "cell_type": "markdown",
   "metadata": {},
   "source": [
    "### Prepare the Script to Run on the GPU Platform"
   ]
  },
  {
   "cell_type": "markdown",
   "metadata": {},
   "source": [
    "Given you've defined the necessary functions you can compose a script for the GPU platform, download it via the \"File|Open...\" menu, and to upload it later for running on the GPU platform.\n",
    "\n",
    "N.B.: The script should include the initialization section as well. An example of this is shown below."
   ]
  },
  {
   "cell_type": "code",
   "execution_count": 56,
   "metadata": {},
   "outputs": [],
   "source": [
    "# prepare a script to run on the GPU platform\n",
    "\n",
    "init_str = \"\"\"\n",
    "import pandas as pd\n",
    "\n",
    "import tensorflow as tf\n",
    "\n",
    "from tensorflow.keras.preprocessing.image import ImageDataGenerator\n",
    "from tensorflow.keras.applications.resnet import ResNet50\n",
    "from tensorflow.keras.models import Sequential\n",
    "from tensorflow.keras.layers import GlobalAveragePooling2D, Dense, Dropout, Flatten\n",
    "from tensorflow.keras.optimizers import Adam\n",
    "\"\"\"\n",
    "\n",
    "import inspect\n",
    "\n",
    "with open('run_model_on_gpu.py', 'w') as f:\n",
    "    \n",
    "    f.write(init_str)\n",
    "    f.write('\\n\\n')\n",
    "        \n",
    "    for fn_name in [load_train, load_test, create_model, train_model]:\n",
    "        \n",
    "        src = inspect.getsource(fn_name)\n",
    "        f.write(src)\n",
    "        f.write('\\n\\n')"
   ]
  },
  {
   "cell_type": "markdown",
   "metadata": {},
   "source": [
    "### Output"
   ]
  },
  {
   "cell_type": "markdown",
   "metadata": {},
   "source": [
    "Place the output from the GPU platform as an Markdown cell here."
   ]
  },
  {
   "cell_type": "markdown",
   "metadata": {},
   "source": [
    "Train for 356 steps, validate for 119 steps\n",
    "\n",
    "Epoch 1/20\n",
    "356/356 - 49s - loss: 11.7948 - mae: 11.7957 - val_loss: 20.4237 - val_mae: 20.4190\n",
    "\n",
    "Epoch 2/20\n",
    "356/356 - 38s - loss: 8.6644 - mae: 8.6643 - val_loss: 11.1326 - val_mae: 11.1242\n",
    "\n",
    "Epoch 3/20\n",
    "356/356 - 38s - loss: 7.8838 - mae: 7.8837 - val_loss: 7.6987 - val_mae: 7.6973\n",
    "\n",
    "Epoch 4/20\n",
    "356/356 - 38s - loss: 7.3057 - mae: 7.3057 - val_loss: 8.2587 - val_mae: 8.2668\n",
    "\n",
    "Epoch 5/20\n",
    "356/356 - 38s - loss: 6.8468 - mae: 6.8468 - val_loss: 7.3350 - val_mae: 7.3440\n",
    "\n",
    "Epoch 6/20\n",
    "356/356 - 38s - loss: 6.6294 - mae: 6.6294 - val_loss: 7.5884 - val_mae: 7.5953\n",
    "\n",
    "Epoch 7/20\n",
    "356/356 - 38s - loss: 6.0601 - mae: 6.0602 - val_loss: 6.8599 - val_mae: 6.8651\n",
    "\n",
    "Epoch 8/20\n",
    "356/356 - 38s - loss: 5.8302 - mae: 5.8303 - val_loss: 7.3414 - val_mae: 7.3503\n",
    "\n",
    "Epoch 9/20\n",
    "356/356 - 38s - loss: 5.4516 - mae: 5.4516 - val_loss: 6.8304 - val_mae: 6.8423\n",
    "\n",
    "Epoch 10/20\n",
    "356/356 - 38s - loss: 5.1406 - mae: 5.1411 - val_loss: 6.9808 - val_mae: 6.9863\n",
    "\n",
    "Epoch 11/20\n",
    "356/356 - 38s - loss: 5.0363 - mae: 5.0366 - val_loss: 7.0015 - val_mae: 7.0047\n",
    "\n",
    "Epoch 12/20\n",
    "356/356 - 38s - loss: 4.7937 - mae: 4.7941 - val_loss: 7.8938 - val_mae: 7.8991\n",
    "\n",
    "Epoch 13/20\n",
    "356/356 - 38s - loss: 4.6156 - mae: 4.6158 - val_loss: 6.8987 - val_mae: 6.8984\n",
    "\n",
    "Epoch 14/20\n",
    "356/356 - 38s - loss: 4.4957 - mae: 4.4956 - val_loss: 6.7492 - val_mae: 6.7561\n",
    "\n",
    "Epoch 15/20\n",
    "356/356 - 38s - loss: 4.3577 - mae: 4.3575 - val_loss: 6.6150 - val_mae: 6.6244\n",
    "\n",
    "Epoch 16/20\n",
    "356/356 - 38s - loss: 4.1288 - mae: 4.1290 - val_loss: 7.0991 - val_mae: 7.1091\n",
    "\n",
    "Epoch 17/20\n",
    "356/356 - 38s - loss: 4.1554 - mae: 4.1557 - val_loss: 6.8879 - val_mae: 6.9007\n",
    "\n",
    "Epoch 18/20\n",
    "356/356 - 38s - loss: 3.8717 - mae: 3.8718 - val_loss: 6.6654 - val_mae: 6.6602\n",
    "\n",
    "Epoch 19/20\n",
    "356/356 - 38s - loss: 3.7747 - mae: 3.7745 - val_loss: 6.6380 - val_mae: 6.6476\n",
    "\n",
    "Epoch 20/20\n",
    "356/356 - 38s - loss: 3.6540 - mae: 3.6538 - val_loss: 7.4318 - val_mae: 7.4339"
   ]
  },
  {
   "cell_type": "markdown",
   "metadata": {},
   "source": [
    "## Conclusions"
   ]
  },
  {
   "cell_type": "markdown",
   "metadata": {},
   "source": [
    "In this project, 7.6k photos of faces were used for the training and testing of a neural network model with the ResNet50 architecture that was pretrained on ImageNet. 20 epochs were used (resulting in a MAE of 3.6538), but this is likely excessive, as 4-5 epochs still resulted in a MAE that was under 8. Having a MAE of 3.6538 indicates the mean absolute error between the model's predicted age and the actual age that we were given in the dataset."
   ]
  },
  {
   "cell_type": "markdown",
   "metadata": {},
   "source": [
    "# Checklist"
   ]
  },
  {
   "cell_type": "markdown",
   "metadata": {},
   "source": [
    "- [x]  Notebook was opened\n",
    "- [x]  The code is error free\n",
    "- [x]  The cells with code have been arranged by order of execution\n",
    "- [x]  The exploratory data analysis has been performed\n",
    "- [x]  The results of the exploratory data analysis are presented in the final notebook\n",
    "- [x]  The model's MAE score is not higher than 8\n",
    "- [x]  The model training code has been copied to the final notebook\n",
    "- [x]  The model training output has been copied to the final notebook\n",
    "- [x]  The findings have been provided based on the results of the model training"
   ]
  },
  {
   "cell_type": "code",
   "execution_count": null,
   "metadata": {},
   "outputs": [],
   "source": []
  }
 ],
 "metadata": {
  "kernelspec": {
   "display_name": "Python 3 (ipykernel)",
   "language": "python",
   "name": "python3"
  },
  "language_info": {
   "codemirror_mode": {
    "name": "ipython",
    "version": 3
   },
   "file_extension": ".py",
   "mimetype": "text/x-python",
   "name": "python",
   "nbconvert_exporter": "python",
   "pygments_lexer": "ipython3",
   "version": "3.9.5"
  },
  "toc": {
   "base_numbering": 1,
   "nav_menu": {},
   "number_sections": true,
   "sideBar": true,
   "skip_h1_title": true,
   "title_cell": "Table of Contents",
   "title_sidebar": "Contents",
   "toc_cell": false,
   "toc_position": {},
   "toc_section_display": true,
   "toc_window_display": false
  }
 },
 "nbformat": 4,
 "nbformat_minor": 4
}
