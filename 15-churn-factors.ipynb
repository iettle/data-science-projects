{
 "cells": [
  {
   "cell_type": "markdown",
   "id": "79f17a58",
   "metadata": {},
   "source": [
    "# Telecom: Solution Code\n",
    "\n",
    "As part of this project, I follow the steps I illustrated in the work plan. I begin by preprocessing the data (converting data types, addressing null values, and merging the datasets together) then explore a few EDA questions to better understand the dataset. Next, I prepare the data for modeling by dropping unnecessary columns, deriving new ones, scaling numerical values, and encoding categorical values. I test four models (Logistic Regression, Random Forest, LightGBM, and CatBoost) and use GridSearch for hyperparameter tuning. LightGBM resulted in the highest AUC-ROC on the test set."
   ]
  },
  {
   "cell_type": "markdown",
   "id": "2efbdddc",
   "metadata": {},
   "source": [
    "## Data Initialization\n",
    "\n",
    "First, I will load the libraries needed for EDA and the corresponding datasets.\n",
    "\n",
    "There are four datasets:\n",
    "* `contract.csv` - contract information\n",
    "* `personal.csv` - the client's personal data\n",
    "* `internet.csv` - information about Internet services\n",
    "* `phone.csv` - information about telephone services\n",
    "\n",
    "Each dataset contains a `customerID` column that is unique for each client."
   ]
  },
  {
   "cell_type": "code",
   "execution_count": 1,
   "id": "1d9d810d",
   "metadata": {},
   "outputs": [],
   "source": [
    "# import libraries\n",
    "import numpy as np\n",
    "import pandas as pd\n",
    "import matplotlib.pyplot as plt\n",
    "import seaborn as sns\n",
    "\n",
    "from sklearn.model_selection import train_test_split, GridSearchCV\n",
    "from sklearn.preprocessing import StandardScaler, OrdinalEncoder, OneHotEncoder\n",
    "from sklearn.compose import ColumnTransformer\n",
    "from sklearn.utils import shuffle\n",
    "\n",
    "from sklearn.linear_model import LogisticRegression\n",
    "from sklearn.ensemble import RandomForestClassifier\n",
    "from catboost import CatBoostClassifier\n",
    "from lightgbm import LGBMClassifier\n",
    "\n",
    "from sklearn.metrics import roc_auc_score, accuracy_score, make_scorer, get_scorer_names\n",
    "\n",
    "# for analyzing results\n",
    "import eli5\n"
   ]
  },
  {
   "cell_type": "code",
   "execution_count": 2,
   "id": "754c11c6",
   "metadata": {},
   "outputs": [],
   "source": [
    "# load data\n",
    "contract = pd.read_csv('/datasets/final_provider/contract.csv')\n",
    "internet = pd.read_csv('/datasets/final_provider/internet.csv')\n",
    "personal = pd.read_csv('/datasets/final_provider/personal.csv')\n",
    "phone = pd.read_csv('/datasets/final_provider/phone.csv')\n",
    "\n",
    "# contract = pd.read_csv('contract.csv')\n",
    "# internet = pd.read_csv('internet.csv')\n",
    "# personal = pd.read_csv('personal.csv')\n",
    "# phone = pd.read_csv('phone.csv')"
   ]
  },
  {
   "cell_type": "markdown",
   "id": "0eedc6f0",
   "metadata": {},
   "source": [
    "## Data Preprocessing\n",
    "I start by observing each individual dataset. Many data types (ie dates and floats) need to be converted, and there are many columns with Yes/No values that I can turn into 1/0 values. After cleaning, I merge the datasets and address the null values. Null values indicate the customer did not subscribe to a particular service."
   ]
  },
  {
   "cell_type": "markdown",
   "id": "5a582d9c",
   "metadata": {},
   "source": [
    "### Individual Data Sets"
   ]
  },
  {
   "cell_type": "markdown",
   "id": "25386754",
   "metadata": {},
   "source": [
    "#### Contract\n",
    "For the contract data set, I convert the columns to snake case, update the data type of `total_charges`, binarize the `paperless_billing` column, and create the target variable (`has_ended`)."
   ]
  },
  {
   "cell_type": "code",
   "execution_count": 3,
   "id": "e036ddde",
   "metadata": {},
   "outputs": [
    {
     "data": {
      "text/html": [
       "<div>\n",
       "<style scoped>\n",
       "    .dataframe tbody tr th:only-of-type {\n",
       "        vertical-align: middle;\n",
       "    }\n",
       "\n",
       "    .dataframe tbody tr th {\n",
       "        vertical-align: top;\n",
       "    }\n",
       "\n",
       "    .dataframe thead th {\n",
       "        text-align: right;\n",
       "    }\n",
       "</style>\n",
       "<table border=\"1\" class=\"dataframe\">\n",
       "  <thead>\n",
       "    <tr style=\"text-align: right;\">\n",
       "      <th></th>\n",
       "      <th>customerID</th>\n",
       "      <th>BeginDate</th>\n",
       "      <th>EndDate</th>\n",
       "      <th>Type</th>\n",
       "      <th>PaperlessBilling</th>\n",
       "      <th>PaymentMethod</th>\n",
       "      <th>MonthlyCharges</th>\n",
       "      <th>TotalCharges</th>\n",
       "    </tr>\n",
       "  </thead>\n",
       "  <tbody>\n",
       "    <tr>\n",
       "      <th>0</th>\n",
       "      <td>7590-VHVEG</td>\n",
       "      <td>2020-01-01</td>\n",
       "      <td>No</td>\n",
       "      <td>Month-to-month</td>\n",
       "      <td>Yes</td>\n",
       "      <td>Electronic check</td>\n",
       "      <td>29.85</td>\n",
       "      <td>29.85</td>\n",
       "    </tr>\n",
       "    <tr>\n",
       "      <th>1</th>\n",
       "      <td>5575-GNVDE</td>\n",
       "      <td>2017-04-01</td>\n",
       "      <td>No</td>\n",
       "      <td>One year</td>\n",
       "      <td>No</td>\n",
       "      <td>Mailed check</td>\n",
       "      <td>56.95</td>\n",
       "      <td>1889.5</td>\n",
       "    </tr>\n",
       "    <tr>\n",
       "      <th>2</th>\n",
       "      <td>3668-QPYBK</td>\n",
       "      <td>2019-10-01</td>\n",
       "      <td>2019-12-01 00:00:00</td>\n",
       "      <td>Month-to-month</td>\n",
       "      <td>Yes</td>\n",
       "      <td>Mailed check</td>\n",
       "      <td>53.85</td>\n",
       "      <td>108.15</td>\n",
       "    </tr>\n",
       "    <tr>\n",
       "      <th>3</th>\n",
       "      <td>7795-CFOCW</td>\n",
       "      <td>2016-05-01</td>\n",
       "      <td>No</td>\n",
       "      <td>One year</td>\n",
       "      <td>No</td>\n",
       "      <td>Bank transfer (automatic)</td>\n",
       "      <td>42.30</td>\n",
       "      <td>1840.75</td>\n",
       "    </tr>\n",
       "    <tr>\n",
       "      <th>4</th>\n",
       "      <td>9237-HQITU</td>\n",
       "      <td>2019-09-01</td>\n",
       "      <td>2019-11-01 00:00:00</td>\n",
       "      <td>Month-to-month</td>\n",
       "      <td>Yes</td>\n",
       "      <td>Electronic check</td>\n",
       "      <td>70.70</td>\n",
       "      <td>151.65</td>\n",
       "    </tr>\n",
       "  </tbody>\n",
       "</table>\n",
       "</div>"
      ],
      "text/plain": [
       "   customerID   BeginDate              EndDate            Type  \\\n",
       "0  7590-VHVEG  2020-01-01                   No  Month-to-month   \n",
       "1  5575-GNVDE  2017-04-01                   No        One year   \n",
       "2  3668-QPYBK  2019-10-01  2019-12-01 00:00:00  Month-to-month   \n",
       "3  7795-CFOCW  2016-05-01                   No        One year   \n",
       "4  9237-HQITU  2019-09-01  2019-11-01 00:00:00  Month-to-month   \n",
       "\n",
       "  PaperlessBilling              PaymentMethod  MonthlyCharges TotalCharges  \n",
       "0              Yes           Electronic check           29.85        29.85  \n",
       "1               No               Mailed check           56.95       1889.5  \n",
       "2              Yes               Mailed check           53.85       108.15  \n",
       "3               No  Bank transfer (automatic)           42.30      1840.75  \n",
       "4              Yes           Electronic check           70.70       151.65  "
      ]
     },
     "execution_count": 3,
     "metadata": {},
     "output_type": "execute_result"
    }
   ],
   "source": [
    "# view data\n",
    "contract.head()"
   ]
  },
  {
   "cell_type": "code",
   "execution_count": 4,
   "id": "98089644",
   "metadata": {},
   "outputs": [
    {
     "name": "stdout",
     "output_type": "stream",
     "text": [
      "<class 'pandas.core.frame.DataFrame'>\n",
      "RangeIndex: 7043 entries, 0 to 7042\n",
      "Data columns (total 8 columns):\n",
      " #   Column            Non-Null Count  Dtype  \n",
      "---  ------            --------------  -----  \n",
      " 0   customerID        7043 non-null   object \n",
      " 1   BeginDate         7043 non-null   object \n",
      " 2   EndDate           7043 non-null   object \n",
      " 3   Type              7043 non-null   object \n",
      " 4   PaperlessBilling  7043 non-null   object \n",
      " 5   PaymentMethod     7043 non-null   object \n",
      " 6   MonthlyCharges    7043 non-null   float64\n",
      " 7   TotalCharges      7043 non-null   object \n",
      "dtypes: float64(1), object(7)\n",
      "memory usage: 440.3+ KB\n"
     ]
    }
   ],
   "source": [
    "# view info\n",
    "contract.info()"
   ]
  },
  {
   "cell_type": "code",
   "execution_count": 5,
   "id": "46e5609c",
   "metadata": {},
   "outputs": [],
   "source": [
    "# change column names to snake case\n",
    "contract.columns = ['customer_id', 'begin_date', 'end_date', 'type', 'paperless_billing',\n",
    "                    'payment_method', 'monthly_charges', 'total_charges']\n",
    "\n",
    "# update data types\n",
    "contract['total_charges'] = contract['total_charges'].replace(' ', 0).astype(float)"
   ]
  },
  {
   "cell_type": "code",
   "execution_count": 6,
   "id": "4591a44c",
   "metadata": {},
   "outputs": [],
   "source": [
    "# binarize paperless_billing column\n",
    "contract['paperless_billing'] = np.where(contract['paperless_billing'] == 'Yes', 1, 0)"
   ]
  },
  {
   "cell_type": "code",
   "execution_count": 7,
   "id": "30f9d1d7",
   "metadata": {},
   "outputs": [],
   "source": [
    "# create has_ended target\n",
    "contract['has_ended'] = np.where(contract['end_date'] != 'No', 1, 0)"
   ]
  },
  {
   "cell_type": "code",
   "execution_count": 8,
   "id": "8110ac03",
   "metadata": {},
   "outputs": [
    {
     "data": {
      "text/html": [
       "<div>\n",
       "<style scoped>\n",
       "    .dataframe tbody tr th:only-of-type {\n",
       "        vertical-align: middle;\n",
       "    }\n",
       "\n",
       "    .dataframe tbody tr th {\n",
       "        vertical-align: top;\n",
       "    }\n",
       "\n",
       "    .dataframe thead th {\n",
       "        text-align: right;\n",
       "    }\n",
       "</style>\n",
       "<table border=\"1\" class=\"dataframe\">\n",
       "  <thead>\n",
       "    <tr style=\"text-align: right;\">\n",
       "      <th></th>\n",
       "      <th>customer_id</th>\n",
       "      <th>begin_date</th>\n",
       "      <th>end_date</th>\n",
       "      <th>type</th>\n",
       "      <th>paperless_billing</th>\n",
       "      <th>payment_method</th>\n",
       "      <th>monthly_charges</th>\n",
       "      <th>total_charges</th>\n",
       "      <th>has_ended</th>\n",
       "    </tr>\n",
       "  </thead>\n",
       "  <tbody>\n",
       "    <tr>\n",
       "      <th>0</th>\n",
       "      <td>7590-VHVEG</td>\n",
       "      <td>2020-01-01</td>\n",
       "      <td>No</td>\n",
       "      <td>Month-to-month</td>\n",
       "      <td>1</td>\n",
       "      <td>Electronic check</td>\n",
       "      <td>29.85</td>\n",
       "      <td>29.85</td>\n",
       "      <td>0</td>\n",
       "    </tr>\n",
       "    <tr>\n",
       "      <th>1</th>\n",
       "      <td>5575-GNVDE</td>\n",
       "      <td>2017-04-01</td>\n",
       "      <td>No</td>\n",
       "      <td>One year</td>\n",
       "      <td>0</td>\n",
       "      <td>Mailed check</td>\n",
       "      <td>56.95</td>\n",
       "      <td>1889.50</td>\n",
       "      <td>0</td>\n",
       "    </tr>\n",
       "    <tr>\n",
       "      <th>2</th>\n",
       "      <td>3668-QPYBK</td>\n",
       "      <td>2019-10-01</td>\n",
       "      <td>2019-12-01 00:00:00</td>\n",
       "      <td>Month-to-month</td>\n",
       "      <td>1</td>\n",
       "      <td>Mailed check</td>\n",
       "      <td>53.85</td>\n",
       "      <td>108.15</td>\n",
       "      <td>1</td>\n",
       "    </tr>\n",
       "    <tr>\n",
       "      <th>3</th>\n",
       "      <td>7795-CFOCW</td>\n",
       "      <td>2016-05-01</td>\n",
       "      <td>No</td>\n",
       "      <td>One year</td>\n",
       "      <td>0</td>\n",
       "      <td>Bank transfer (automatic)</td>\n",
       "      <td>42.30</td>\n",
       "      <td>1840.75</td>\n",
       "      <td>0</td>\n",
       "    </tr>\n",
       "    <tr>\n",
       "      <th>4</th>\n",
       "      <td>9237-HQITU</td>\n",
       "      <td>2019-09-01</td>\n",
       "      <td>2019-11-01 00:00:00</td>\n",
       "      <td>Month-to-month</td>\n",
       "      <td>1</td>\n",
       "      <td>Electronic check</td>\n",
       "      <td>70.70</td>\n",
       "      <td>151.65</td>\n",
       "      <td>1</td>\n",
       "    </tr>\n",
       "  </tbody>\n",
       "</table>\n",
       "</div>"
      ],
      "text/plain": [
       "  customer_id  begin_date             end_date            type  \\\n",
       "0  7590-VHVEG  2020-01-01                   No  Month-to-month   \n",
       "1  5575-GNVDE  2017-04-01                   No        One year   \n",
       "2  3668-QPYBK  2019-10-01  2019-12-01 00:00:00  Month-to-month   \n",
       "3  7795-CFOCW  2016-05-01                   No        One year   \n",
       "4  9237-HQITU  2019-09-01  2019-11-01 00:00:00  Month-to-month   \n",
       "\n",
       "   paperless_billing             payment_method  monthly_charges  \\\n",
       "0                  1           Electronic check            29.85   \n",
       "1                  0               Mailed check            56.95   \n",
       "2                  1               Mailed check            53.85   \n",
       "3                  0  Bank transfer (automatic)            42.30   \n",
       "4                  1           Electronic check            70.70   \n",
       "\n",
       "   total_charges  has_ended  \n",
       "0          29.85          0  \n",
       "1        1889.50          0  \n",
       "2         108.15          1  \n",
       "3        1840.75          0  \n",
       "4         151.65          1  "
      ]
     },
     "execution_count": 8,
     "metadata": {},
     "output_type": "execute_result"
    }
   ],
   "source": [
    "# view new data\n",
    "contract.head()"
   ]
  },
  {
   "cell_type": "markdown",
   "id": "16d3da55",
   "metadata": {},
   "source": [
    "#### Internet"
   ]
  },
  {
   "cell_type": "code",
   "execution_count": 9,
   "id": "74995b16",
   "metadata": {},
   "outputs": [
    {
     "data": {
      "text/html": [
       "<div>\n",
       "<style scoped>\n",
       "    .dataframe tbody tr th:only-of-type {\n",
       "        vertical-align: middle;\n",
       "    }\n",
       "\n",
       "    .dataframe tbody tr th {\n",
       "        vertical-align: top;\n",
       "    }\n",
       "\n",
       "    .dataframe thead th {\n",
       "        text-align: right;\n",
       "    }\n",
       "</style>\n",
       "<table border=\"1\" class=\"dataframe\">\n",
       "  <thead>\n",
       "    <tr style=\"text-align: right;\">\n",
       "      <th></th>\n",
       "      <th>customerID</th>\n",
       "      <th>InternetService</th>\n",
       "      <th>OnlineSecurity</th>\n",
       "      <th>OnlineBackup</th>\n",
       "      <th>DeviceProtection</th>\n",
       "      <th>TechSupport</th>\n",
       "      <th>StreamingTV</th>\n",
       "      <th>StreamingMovies</th>\n",
       "    </tr>\n",
       "  </thead>\n",
       "  <tbody>\n",
       "    <tr>\n",
       "      <th>0</th>\n",
       "      <td>7590-VHVEG</td>\n",
       "      <td>DSL</td>\n",
       "      <td>No</td>\n",
       "      <td>Yes</td>\n",
       "      <td>No</td>\n",
       "      <td>No</td>\n",
       "      <td>No</td>\n",
       "      <td>No</td>\n",
       "    </tr>\n",
       "    <tr>\n",
       "      <th>1</th>\n",
       "      <td>5575-GNVDE</td>\n",
       "      <td>DSL</td>\n",
       "      <td>Yes</td>\n",
       "      <td>No</td>\n",
       "      <td>Yes</td>\n",
       "      <td>No</td>\n",
       "      <td>No</td>\n",
       "      <td>No</td>\n",
       "    </tr>\n",
       "    <tr>\n",
       "      <th>2</th>\n",
       "      <td>3668-QPYBK</td>\n",
       "      <td>DSL</td>\n",
       "      <td>Yes</td>\n",
       "      <td>Yes</td>\n",
       "      <td>No</td>\n",
       "      <td>No</td>\n",
       "      <td>No</td>\n",
       "      <td>No</td>\n",
       "    </tr>\n",
       "    <tr>\n",
       "      <th>3</th>\n",
       "      <td>7795-CFOCW</td>\n",
       "      <td>DSL</td>\n",
       "      <td>Yes</td>\n",
       "      <td>No</td>\n",
       "      <td>Yes</td>\n",
       "      <td>Yes</td>\n",
       "      <td>No</td>\n",
       "      <td>No</td>\n",
       "    </tr>\n",
       "    <tr>\n",
       "      <th>4</th>\n",
       "      <td>9237-HQITU</td>\n",
       "      <td>Fiber optic</td>\n",
       "      <td>No</td>\n",
       "      <td>No</td>\n",
       "      <td>No</td>\n",
       "      <td>No</td>\n",
       "      <td>No</td>\n",
       "      <td>No</td>\n",
       "    </tr>\n",
       "  </tbody>\n",
       "</table>\n",
       "</div>"
      ],
      "text/plain": [
       "   customerID InternetService OnlineSecurity OnlineBackup DeviceProtection  \\\n",
       "0  7590-VHVEG             DSL             No          Yes               No   \n",
       "1  5575-GNVDE             DSL            Yes           No              Yes   \n",
       "2  3668-QPYBK             DSL            Yes          Yes               No   \n",
       "3  7795-CFOCW             DSL            Yes           No              Yes   \n",
       "4  9237-HQITU     Fiber optic             No           No               No   \n",
       "\n",
       "  TechSupport StreamingTV StreamingMovies  \n",
       "0          No          No              No  \n",
       "1          No          No              No  \n",
       "2          No          No              No  \n",
       "3         Yes          No              No  \n",
       "4          No          No              No  "
      ]
     },
     "execution_count": 9,
     "metadata": {},
     "output_type": "execute_result"
    }
   ],
   "source": [
    "# view data\n",
    "internet.head()"
   ]
  },
  {
   "cell_type": "code",
   "execution_count": 10,
   "id": "1b6d6c1b",
   "metadata": {
    "scrolled": true
   },
   "outputs": [
    {
     "name": "stdout",
     "output_type": "stream",
     "text": [
      "<class 'pandas.core.frame.DataFrame'>\n",
      "RangeIndex: 5517 entries, 0 to 5516\n",
      "Data columns (total 8 columns):\n",
      " #   Column            Non-Null Count  Dtype \n",
      "---  ------            --------------  ----- \n",
      " 0   customerID        5517 non-null   object\n",
      " 1   InternetService   5517 non-null   object\n",
      " 2   OnlineSecurity    5517 non-null   object\n",
      " 3   OnlineBackup      5517 non-null   object\n",
      " 4   DeviceProtection  5517 non-null   object\n",
      " 5   TechSupport       5517 non-null   object\n",
      " 6   StreamingTV       5517 non-null   object\n",
      " 7   StreamingMovies   5517 non-null   object\n",
      "dtypes: object(8)\n",
      "memory usage: 344.9+ KB\n"
     ]
    }
   ],
   "source": [
    "# view info\n",
    "internet.info()"
   ]
  },
  {
   "cell_type": "code",
   "execution_count": 11,
   "id": "b8899346",
   "metadata": {},
   "outputs": [],
   "source": [
    "# update column names \n",
    "internet.columns = ['customer_id', 'internet_type', 'internet_security', 'internet_backup',\n",
    "                    'internet_device_protection', 'internet_tech_support', 'internet_tv',\n",
    "                    'internet_movies']"
   ]
  },
  {
   "cell_type": "code",
   "execution_count": 12,
   "id": "5553552e",
   "metadata": {},
   "outputs": [],
   "source": [
    "# binarize columns\n",
    "for col in internet.columns[2:]:\n",
    "    internet[col] = np.where(internet[col] == 'Yes', 1, 0)"
   ]
  },
  {
   "cell_type": "code",
   "execution_count": 13,
   "id": "ed3df262",
   "metadata": {},
   "outputs": [
    {
     "data": {
      "text/html": [
       "<div>\n",
       "<style scoped>\n",
       "    .dataframe tbody tr th:only-of-type {\n",
       "        vertical-align: middle;\n",
       "    }\n",
       "\n",
       "    .dataframe tbody tr th {\n",
       "        vertical-align: top;\n",
       "    }\n",
       "\n",
       "    .dataframe thead th {\n",
       "        text-align: right;\n",
       "    }\n",
       "</style>\n",
       "<table border=\"1\" class=\"dataframe\">\n",
       "  <thead>\n",
       "    <tr style=\"text-align: right;\">\n",
       "      <th></th>\n",
       "      <th>customer_id</th>\n",
       "      <th>internet_type</th>\n",
       "      <th>internet_security</th>\n",
       "      <th>internet_backup</th>\n",
       "      <th>internet_device_protection</th>\n",
       "      <th>internet_tech_support</th>\n",
       "      <th>internet_tv</th>\n",
       "      <th>internet_movies</th>\n",
       "    </tr>\n",
       "  </thead>\n",
       "  <tbody>\n",
       "    <tr>\n",
       "      <th>0</th>\n",
       "      <td>7590-VHVEG</td>\n",
       "      <td>DSL</td>\n",
       "      <td>0</td>\n",
       "      <td>1</td>\n",
       "      <td>0</td>\n",
       "      <td>0</td>\n",
       "      <td>0</td>\n",
       "      <td>0</td>\n",
       "    </tr>\n",
       "    <tr>\n",
       "      <th>1</th>\n",
       "      <td>5575-GNVDE</td>\n",
       "      <td>DSL</td>\n",
       "      <td>1</td>\n",
       "      <td>0</td>\n",
       "      <td>1</td>\n",
       "      <td>0</td>\n",
       "      <td>0</td>\n",
       "      <td>0</td>\n",
       "    </tr>\n",
       "    <tr>\n",
       "      <th>2</th>\n",
       "      <td>3668-QPYBK</td>\n",
       "      <td>DSL</td>\n",
       "      <td>1</td>\n",
       "      <td>1</td>\n",
       "      <td>0</td>\n",
       "      <td>0</td>\n",
       "      <td>0</td>\n",
       "      <td>0</td>\n",
       "    </tr>\n",
       "    <tr>\n",
       "      <th>3</th>\n",
       "      <td>7795-CFOCW</td>\n",
       "      <td>DSL</td>\n",
       "      <td>1</td>\n",
       "      <td>0</td>\n",
       "      <td>1</td>\n",
       "      <td>1</td>\n",
       "      <td>0</td>\n",
       "      <td>0</td>\n",
       "    </tr>\n",
       "    <tr>\n",
       "      <th>4</th>\n",
       "      <td>9237-HQITU</td>\n",
       "      <td>Fiber optic</td>\n",
       "      <td>0</td>\n",
       "      <td>0</td>\n",
       "      <td>0</td>\n",
       "      <td>0</td>\n",
       "      <td>0</td>\n",
       "      <td>0</td>\n",
       "    </tr>\n",
       "  </tbody>\n",
       "</table>\n",
       "</div>"
      ],
      "text/plain": [
       "  customer_id internet_type  internet_security  internet_backup  \\\n",
       "0  7590-VHVEG           DSL                  0                1   \n",
       "1  5575-GNVDE           DSL                  1                0   \n",
       "2  3668-QPYBK           DSL                  1                1   \n",
       "3  7795-CFOCW           DSL                  1                0   \n",
       "4  9237-HQITU   Fiber optic                  0                0   \n",
       "\n",
       "   internet_device_protection  internet_tech_support  internet_tv  \\\n",
       "0                           0                      0            0   \n",
       "1                           1                      0            0   \n",
       "2                           0                      0            0   \n",
       "3                           1                      1            0   \n",
       "4                           0                      0            0   \n",
       "\n",
       "   internet_movies  \n",
       "0                0  \n",
       "1                0  \n",
       "2                0  \n",
       "3                0  \n",
       "4                0  "
      ]
     },
     "execution_count": 13,
     "metadata": {},
     "output_type": "execute_result"
    }
   ],
   "source": [
    "internet.head()"
   ]
  },
  {
   "cell_type": "markdown",
   "id": "334e7fe5",
   "metadata": {},
   "source": [
    "#### Personal"
   ]
  },
  {
   "cell_type": "code",
   "execution_count": 14,
   "id": "725cfc50",
   "metadata": {},
   "outputs": [
    {
     "data": {
      "text/html": [
       "<div>\n",
       "<style scoped>\n",
       "    .dataframe tbody tr th:only-of-type {\n",
       "        vertical-align: middle;\n",
       "    }\n",
       "\n",
       "    .dataframe tbody tr th {\n",
       "        vertical-align: top;\n",
       "    }\n",
       "\n",
       "    .dataframe thead th {\n",
       "        text-align: right;\n",
       "    }\n",
       "</style>\n",
       "<table border=\"1\" class=\"dataframe\">\n",
       "  <thead>\n",
       "    <tr style=\"text-align: right;\">\n",
       "      <th></th>\n",
       "      <th>customerID</th>\n",
       "      <th>gender</th>\n",
       "      <th>SeniorCitizen</th>\n",
       "      <th>Partner</th>\n",
       "      <th>Dependents</th>\n",
       "    </tr>\n",
       "  </thead>\n",
       "  <tbody>\n",
       "    <tr>\n",
       "      <th>0</th>\n",
       "      <td>7590-VHVEG</td>\n",
       "      <td>Female</td>\n",
       "      <td>0</td>\n",
       "      <td>Yes</td>\n",
       "      <td>No</td>\n",
       "    </tr>\n",
       "    <tr>\n",
       "      <th>1</th>\n",
       "      <td>5575-GNVDE</td>\n",
       "      <td>Male</td>\n",
       "      <td>0</td>\n",
       "      <td>No</td>\n",
       "      <td>No</td>\n",
       "    </tr>\n",
       "    <tr>\n",
       "      <th>2</th>\n",
       "      <td>3668-QPYBK</td>\n",
       "      <td>Male</td>\n",
       "      <td>0</td>\n",
       "      <td>No</td>\n",
       "      <td>No</td>\n",
       "    </tr>\n",
       "    <tr>\n",
       "      <th>3</th>\n",
       "      <td>7795-CFOCW</td>\n",
       "      <td>Male</td>\n",
       "      <td>0</td>\n",
       "      <td>No</td>\n",
       "      <td>No</td>\n",
       "    </tr>\n",
       "    <tr>\n",
       "      <th>4</th>\n",
       "      <td>9237-HQITU</td>\n",
       "      <td>Female</td>\n",
       "      <td>0</td>\n",
       "      <td>No</td>\n",
       "      <td>No</td>\n",
       "    </tr>\n",
       "  </tbody>\n",
       "</table>\n",
       "</div>"
      ],
      "text/plain": [
       "   customerID  gender  SeniorCitizen Partner Dependents\n",
       "0  7590-VHVEG  Female              0     Yes         No\n",
       "1  5575-GNVDE    Male              0      No         No\n",
       "2  3668-QPYBK    Male              0      No         No\n",
       "3  7795-CFOCW    Male              0      No         No\n",
       "4  9237-HQITU  Female              0      No         No"
      ]
     },
     "execution_count": 14,
     "metadata": {},
     "output_type": "execute_result"
    }
   ],
   "source": [
    "# view data\n",
    "personal.head()"
   ]
  },
  {
   "cell_type": "code",
   "execution_count": 15,
   "id": "9ea2b975",
   "metadata": {},
   "outputs": [
    {
     "name": "stdout",
     "output_type": "stream",
     "text": [
      "<class 'pandas.core.frame.DataFrame'>\n",
      "RangeIndex: 7043 entries, 0 to 7042\n",
      "Data columns (total 5 columns):\n",
      " #   Column         Non-Null Count  Dtype \n",
      "---  ------         --------------  ----- \n",
      " 0   customerID     7043 non-null   object\n",
      " 1   gender         7043 non-null   object\n",
      " 2   SeniorCitizen  7043 non-null   int64 \n",
      " 3   Partner        7043 non-null   object\n",
      " 4   Dependents     7043 non-null   object\n",
      "dtypes: int64(1), object(4)\n",
      "memory usage: 275.2+ KB\n"
     ]
    }
   ],
   "source": [
    "# view data\n",
    "personal.info()"
   ]
  },
  {
   "cell_type": "code",
   "execution_count": 16,
   "id": "2780b9a0",
   "metadata": {},
   "outputs": [],
   "source": [
    "# update column names\n",
    "personal.columns = ['customer_id', 'gender', 'is_senior_citizen',\n",
    "                    'has_partner', 'has_dependents']\n",
    "\n",
    "# binarize columns\n",
    "for col in personal.columns[3:]:\n",
    "    personal[col] = np.where(personal[col] == 'Yes', 1, 0)"
   ]
  },
  {
   "cell_type": "code",
   "execution_count": 17,
   "id": "a8921b4d",
   "metadata": {},
   "outputs": [
    {
     "data": {
      "text/html": [
       "<div>\n",
       "<style scoped>\n",
       "    .dataframe tbody tr th:only-of-type {\n",
       "        vertical-align: middle;\n",
       "    }\n",
       "\n",
       "    .dataframe tbody tr th {\n",
       "        vertical-align: top;\n",
       "    }\n",
       "\n",
       "    .dataframe thead th {\n",
       "        text-align: right;\n",
       "    }\n",
       "</style>\n",
       "<table border=\"1\" class=\"dataframe\">\n",
       "  <thead>\n",
       "    <tr style=\"text-align: right;\">\n",
       "      <th></th>\n",
       "      <th>customer_id</th>\n",
       "      <th>gender</th>\n",
       "      <th>is_senior_citizen</th>\n",
       "      <th>has_partner</th>\n",
       "      <th>has_dependents</th>\n",
       "    </tr>\n",
       "  </thead>\n",
       "  <tbody>\n",
       "    <tr>\n",
       "      <th>0</th>\n",
       "      <td>7590-VHVEG</td>\n",
       "      <td>Female</td>\n",
       "      <td>0</td>\n",
       "      <td>1</td>\n",
       "      <td>0</td>\n",
       "    </tr>\n",
       "    <tr>\n",
       "      <th>1</th>\n",
       "      <td>5575-GNVDE</td>\n",
       "      <td>Male</td>\n",
       "      <td>0</td>\n",
       "      <td>0</td>\n",
       "      <td>0</td>\n",
       "    </tr>\n",
       "    <tr>\n",
       "      <th>2</th>\n",
       "      <td>3668-QPYBK</td>\n",
       "      <td>Male</td>\n",
       "      <td>0</td>\n",
       "      <td>0</td>\n",
       "      <td>0</td>\n",
       "    </tr>\n",
       "    <tr>\n",
       "      <th>3</th>\n",
       "      <td>7795-CFOCW</td>\n",
       "      <td>Male</td>\n",
       "      <td>0</td>\n",
       "      <td>0</td>\n",
       "      <td>0</td>\n",
       "    </tr>\n",
       "    <tr>\n",
       "      <th>4</th>\n",
       "      <td>9237-HQITU</td>\n",
       "      <td>Female</td>\n",
       "      <td>0</td>\n",
       "      <td>0</td>\n",
       "      <td>0</td>\n",
       "    </tr>\n",
       "  </tbody>\n",
       "</table>\n",
       "</div>"
      ],
      "text/plain": [
       "  customer_id  gender  is_senior_citizen  has_partner  has_dependents\n",
       "0  7590-VHVEG  Female                  0            1               0\n",
       "1  5575-GNVDE    Male                  0            0               0\n",
       "2  3668-QPYBK    Male                  0            0               0\n",
       "3  7795-CFOCW    Male                  0            0               0\n",
       "4  9237-HQITU  Female                  0            0               0"
      ]
     },
     "execution_count": 17,
     "metadata": {},
     "output_type": "execute_result"
    }
   ],
   "source": [
    "personal.head()"
   ]
  },
  {
   "cell_type": "markdown",
   "id": "5d3c9726",
   "metadata": {},
   "source": [
    "#### Phone"
   ]
  },
  {
   "cell_type": "code",
   "execution_count": 18,
   "id": "05d3d86f",
   "metadata": {},
   "outputs": [
    {
     "data": {
      "text/html": [
       "<div>\n",
       "<style scoped>\n",
       "    .dataframe tbody tr th:only-of-type {\n",
       "        vertical-align: middle;\n",
       "    }\n",
       "\n",
       "    .dataframe tbody tr th {\n",
       "        vertical-align: top;\n",
       "    }\n",
       "\n",
       "    .dataframe thead th {\n",
       "        text-align: right;\n",
       "    }\n",
       "</style>\n",
       "<table border=\"1\" class=\"dataframe\">\n",
       "  <thead>\n",
       "    <tr style=\"text-align: right;\">\n",
       "      <th></th>\n",
       "      <th>customerID</th>\n",
       "      <th>MultipleLines</th>\n",
       "    </tr>\n",
       "  </thead>\n",
       "  <tbody>\n",
       "    <tr>\n",
       "      <th>0</th>\n",
       "      <td>5575-GNVDE</td>\n",
       "      <td>No</td>\n",
       "    </tr>\n",
       "    <tr>\n",
       "      <th>1</th>\n",
       "      <td>3668-QPYBK</td>\n",
       "      <td>No</td>\n",
       "    </tr>\n",
       "    <tr>\n",
       "      <th>2</th>\n",
       "      <td>9237-HQITU</td>\n",
       "      <td>No</td>\n",
       "    </tr>\n",
       "    <tr>\n",
       "      <th>3</th>\n",
       "      <td>9305-CDSKC</td>\n",
       "      <td>Yes</td>\n",
       "    </tr>\n",
       "    <tr>\n",
       "      <th>4</th>\n",
       "      <td>1452-KIOVK</td>\n",
       "      <td>Yes</td>\n",
       "    </tr>\n",
       "  </tbody>\n",
       "</table>\n",
       "</div>"
      ],
      "text/plain": [
       "   customerID MultipleLines\n",
       "0  5575-GNVDE            No\n",
       "1  3668-QPYBK            No\n",
       "2  9237-HQITU            No\n",
       "3  9305-CDSKC           Yes\n",
       "4  1452-KIOVK           Yes"
      ]
     },
     "execution_count": 18,
     "metadata": {},
     "output_type": "execute_result"
    }
   ],
   "source": [
    "# view data\n",
    "phone.head()"
   ]
  },
  {
   "cell_type": "code",
   "execution_count": 19,
   "id": "2c5798d9",
   "metadata": {},
   "outputs": [
    {
     "name": "stdout",
     "output_type": "stream",
     "text": [
      "<class 'pandas.core.frame.DataFrame'>\n",
      "RangeIndex: 6361 entries, 0 to 6360\n",
      "Data columns (total 2 columns):\n",
      " #   Column         Non-Null Count  Dtype \n",
      "---  ------         --------------  ----- \n",
      " 0   customerID     6361 non-null   object\n",
      " 1   MultipleLines  6361 non-null   object\n",
      "dtypes: object(2)\n",
      "memory usage: 99.5+ KB\n"
     ]
    }
   ],
   "source": [
    "# view info\n",
    "phone.info()"
   ]
  },
  {
   "cell_type": "code",
   "execution_count": 20,
   "id": "54d83d78",
   "metadata": {},
   "outputs": [],
   "source": [
    "# update column names\n",
    "phone.columns = ['customer_id', 'has_multiple_lines']\n",
    "\n",
    "# binarize columns\n",
    "phone['has_multiple_lines'] = np.where(phone['has_multiple_lines'] == 'Yes', 1, 0)"
   ]
  },
  {
   "cell_type": "code",
   "execution_count": 21,
   "id": "a1162649",
   "metadata": {},
   "outputs": [
    {
     "data": {
      "text/html": [
       "<div>\n",
       "<style scoped>\n",
       "    .dataframe tbody tr th:only-of-type {\n",
       "        vertical-align: middle;\n",
       "    }\n",
       "\n",
       "    .dataframe tbody tr th {\n",
       "        vertical-align: top;\n",
       "    }\n",
       "\n",
       "    .dataframe thead th {\n",
       "        text-align: right;\n",
       "    }\n",
       "</style>\n",
       "<table border=\"1\" class=\"dataframe\">\n",
       "  <thead>\n",
       "    <tr style=\"text-align: right;\">\n",
       "      <th></th>\n",
       "      <th>customer_id</th>\n",
       "      <th>has_multiple_lines</th>\n",
       "    </tr>\n",
       "  </thead>\n",
       "  <tbody>\n",
       "    <tr>\n",
       "      <th>0</th>\n",
       "      <td>5575-GNVDE</td>\n",
       "      <td>0</td>\n",
       "    </tr>\n",
       "    <tr>\n",
       "      <th>1</th>\n",
       "      <td>3668-QPYBK</td>\n",
       "      <td>0</td>\n",
       "    </tr>\n",
       "    <tr>\n",
       "      <th>2</th>\n",
       "      <td>9237-HQITU</td>\n",
       "      <td>0</td>\n",
       "    </tr>\n",
       "    <tr>\n",
       "      <th>3</th>\n",
       "      <td>9305-CDSKC</td>\n",
       "      <td>1</td>\n",
       "    </tr>\n",
       "    <tr>\n",
       "      <th>4</th>\n",
       "      <td>1452-KIOVK</td>\n",
       "      <td>1</td>\n",
       "    </tr>\n",
       "  </tbody>\n",
       "</table>\n",
       "</div>"
      ],
      "text/plain": [
       "  customer_id  has_multiple_lines\n",
       "0  5575-GNVDE                   0\n",
       "1  3668-QPYBK                   0\n",
       "2  9237-HQITU                   0\n",
       "3  9305-CDSKC                   1\n",
       "4  1452-KIOVK                   1"
      ]
     },
     "execution_count": 21,
     "metadata": {},
     "output_type": "execute_result"
    }
   ],
   "source": [
    "phone.head()"
   ]
  },
  {
   "cell_type": "markdown",
   "id": "e5eb4f04",
   "metadata": {},
   "source": [
    "### Merge Datasets"
   ]
  },
  {
   "cell_type": "code",
   "execution_count": 22,
   "id": "3ad56c81",
   "metadata": {},
   "outputs": [],
   "source": [
    "# merge contract + internet data\n",
    "df = contract.merge(internet, on='customer_id', how='left')\n",
    "\n",
    "# merge in personal data\n",
    "df = df.merge(personal, on='customer_id', how='left')\n",
    "\n",
    "# merge in phone data\n",
    "df = df.merge(phone, on='customer_id', how='left')"
   ]
  },
  {
   "cell_type": "code",
   "execution_count": 23,
   "id": "88c89a1a",
   "metadata": {},
   "outputs": [
    {
     "data": {
      "text/html": [
       "<div>\n",
       "<style scoped>\n",
       "    .dataframe tbody tr th:only-of-type {\n",
       "        vertical-align: middle;\n",
       "    }\n",
       "\n",
       "    .dataframe tbody tr th {\n",
       "        vertical-align: top;\n",
       "    }\n",
       "\n",
       "    .dataframe thead th {\n",
       "        text-align: right;\n",
       "    }\n",
       "</style>\n",
       "<table border=\"1\" class=\"dataframe\">\n",
       "  <thead>\n",
       "    <tr style=\"text-align: right;\">\n",
       "      <th></th>\n",
       "      <th>customer_id</th>\n",
       "      <th>begin_date</th>\n",
       "      <th>end_date</th>\n",
       "      <th>type</th>\n",
       "      <th>paperless_billing</th>\n",
       "      <th>payment_method</th>\n",
       "      <th>monthly_charges</th>\n",
       "      <th>total_charges</th>\n",
       "      <th>has_ended</th>\n",
       "      <th>internet_type</th>\n",
       "      <th>...</th>\n",
       "      <th>internet_backup</th>\n",
       "      <th>internet_device_protection</th>\n",
       "      <th>internet_tech_support</th>\n",
       "      <th>internet_tv</th>\n",
       "      <th>internet_movies</th>\n",
       "      <th>gender</th>\n",
       "      <th>is_senior_citizen</th>\n",
       "      <th>has_partner</th>\n",
       "      <th>has_dependents</th>\n",
       "      <th>has_multiple_lines</th>\n",
       "    </tr>\n",
       "  </thead>\n",
       "  <tbody>\n",
       "    <tr>\n",
       "      <th>0</th>\n",
       "      <td>7590-VHVEG</td>\n",
       "      <td>2020-01-01</td>\n",
       "      <td>No</td>\n",
       "      <td>Month-to-month</td>\n",
       "      <td>1</td>\n",
       "      <td>Electronic check</td>\n",
       "      <td>29.85</td>\n",
       "      <td>29.85</td>\n",
       "      <td>0</td>\n",
       "      <td>DSL</td>\n",
       "      <td>...</td>\n",
       "      <td>1.0</td>\n",
       "      <td>0.0</td>\n",
       "      <td>0.0</td>\n",
       "      <td>0.0</td>\n",
       "      <td>0.0</td>\n",
       "      <td>Female</td>\n",
       "      <td>0</td>\n",
       "      <td>1</td>\n",
       "      <td>0</td>\n",
       "      <td>NaN</td>\n",
       "    </tr>\n",
       "    <tr>\n",
       "      <th>1</th>\n",
       "      <td>5575-GNVDE</td>\n",
       "      <td>2017-04-01</td>\n",
       "      <td>No</td>\n",
       "      <td>One year</td>\n",
       "      <td>0</td>\n",
       "      <td>Mailed check</td>\n",
       "      <td>56.95</td>\n",
       "      <td>1889.50</td>\n",
       "      <td>0</td>\n",
       "      <td>DSL</td>\n",
       "      <td>...</td>\n",
       "      <td>0.0</td>\n",
       "      <td>1.0</td>\n",
       "      <td>0.0</td>\n",
       "      <td>0.0</td>\n",
       "      <td>0.0</td>\n",
       "      <td>Male</td>\n",
       "      <td>0</td>\n",
       "      <td>0</td>\n",
       "      <td>0</td>\n",
       "      <td>0.0</td>\n",
       "    </tr>\n",
       "    <tr>\n",
       "      <th>2</th>\n",
       "      <td>3668-QPYBK</td>\n",
       "      <td>2019-10-01</td>\n",
       "      <td>2019-12-01 00:00:00</td>\n",
       "      <td>Month-to-month</td>\n",
       "      <td>1</td>\n",
       "      <td>Mailed check</td>\n",
       "      <td>53.85</td>\n",
       "      <td>108.15</td>\n",
       "      <td>1</td>\n",
       "      <td>DSL</td>\n",
       "      <td>...</td>\n",
       "      <td>1.0</td>\n",
       "      <td>0.0</td>\n",
       "      <td>0.0</td>\n",
       "      <td>0.0</td>\n",
       "      <td>0.0</td>\n",
       "      <td>Male</td>\n",
       "      <td>0</td>\n",
       "      <td>0</td>\n",
       "      <td>0</td>\n",
       "      <td>0.0</td>\n",
       "    </tr>\n",
       "    <tr>\n",
       "      <th>3</th>\n",
       "      <td>7795-CFOCW</td>\n",
       "      <td>2016-05-01</td>\n",
       "      <td>No</td>\n",
       "      <td>One year</td>\n",
       "      <td>0</td>\n",
       "      <td>Bank transfer (automatic)</td>\n",
       "      <td>42.30</td>\n",
       "      <td>1840.75</td>\n",
       "      <td>0</td>\n",
       "      <td>DSL</td>\n",
       "      <td>...</td>\n",
       "      <td>0.0</td>\n",
       "      <td>1.0</td>\n",
       "      <td>1.0</td>\n",
       "      <td>0.0</td>\n",
       "      <td>0.0</td>\n",
       "      <td>Male</td>\n",
       "      <td>0</td>\n",
       "      <td>0</td>\n",
       "      <td>0</td>\n",
       "      <td>NaN</td>\n",
       "    </tr>\n",
       "    <tr>\n",
       "      <th>4</th>\n",
       "      <td>9237-HQITU</td>\n",
       "      <td>2019-09-01</td>\n",
       "      <td>2019-11-01 00:00:00</td>\n",
       "      <td>Month-to-month</td>\n",
       "      <td>1</td>\n",
       "      <td>Electronic check</td>\n",
       "      <td>70.70</td>\n",
       "      <td>151.65</td>\n",
       "      <td>1</td>\n",
       "      <td>Fiber optic</td>\n",
       "      <td>...</td>\n",
       "      <td>0.0</td>\n",
       "      <td>0.0</td>\n",
       "      <td>0.0</td>\n",
       "      <td>0.0</td>\n",
       "      <td>0.0</td>\n",
       "      <td>Female</td>\n",
       "      <td>0</td>\n",
       "      <td>0</td>\n",
       "      <td>0</td>\n",
       "      <td>0.0</td>\n",
       "    </tr>\n",
       "  </tbody>\n",
       "</table>\n",
       "<p>5 rows × 21 columns</p>\n",
       "</div>"
      ],
      "text/plain": [
       "  customer_id  begin_date             end_date            type  \\\n",
       "0  7590-VHVEG  2020-01-01                   No  Month-to-month   \n",
       "1  5575-GNVDE  2017-04-01                   No        One year   \n",
       "2  3668-QPYBK  2019-10-01  2019-12-01 00:00:00  Month-to-month   \n",
       "3  7795-CFOCW  2016-05-01                   No        One year   \n",
       "4  9237-HQITU  2019-09-01  2019-11-01 00:00:00  Month-to-month   \n",
       "\n",
       "   paperless_billing             payment_method  monthly_charges  \\\n",
       "0                  1           Electronic check            29.85   \n",
       "1                  0               Mailed check            56.95   \n",
       "2                  1               Mailed check            53.85   \n",
       "3                  0  Bank transfer (automatic)            42.30   \n",
       "4                  1           Electronic check            70.70   \n",
       "\n",
       "   total_charges  has_ended internet_type  ...  internet_backup  \\\n",
       "0          29.85          0           DSL  ...              1.0   \n",
       "1        1889.50          0           DSL  ...              0.0   \n",
       "2         108.15          1           DSL  ...              1.0   \n",
       "3        1840.75          0           DSL  ...              0.0   \n",
       "4         151.65          1   Fiber optic  ...              0.0   \n",
       "\n",
       "   internet_device_protection  internet_tech_support  internet_tv  \\\n",
       "0                         0.0                    0.0          0.0   \n",
       "1                         1.0                    0.0          0.0   \n",
       "2                         0.0                    0.0          0.0   \n",
       "3                         1.0                    1.0          0.0   \n",
       "4                         0.0                    0.0          0.0   \n",
       "\n",
       "   internet_movies  gender is_senior_citizen  has_partner  has_dependents  \\\n",
       "0              0.0  Female                 0            1               0   \n",
       "1              0.0    Male                 0            0               0   \n",
       "2              0.0    Male                 0            0               0   \n",
       "3              0.0    Male                 0            0               0   \n",
       "4              0.0  Female                 0            0               0   \n",
       "\n",
       "   has_multiple_lines  \n",
       "0                 NaN  \n",
       "1                 0.0  \n",
       "2                 0.0  \n",
       "3                 NaN  \n",
       "4                 0.0  \n",
       "\n",
       "[5 rows x 21 columns]"
      ]
     },
     "execution_count": 23,
     "metadata": {},
     "output_type": "execute_result"
    }
   ],
   "source": [
    "# view combined dataset\n",
    "df.head()"
   ]
  },
  {
   "cell_type": "code",
   "execution_count": 24,
   "id": "8b7fd967",
   "metadata": {
    "scrolled": true
   },
   "outputs": [
    {
     "name": "stdout",
     "output_type": "stream",
     "text": [
      "<class 'pandas.core.frame.DataFrame'>\n",
      "Int64Index: 7043 entries, 0 to 7042\n",
      "Data columns (total 21 columns):\n",
      " #   Column                      Non-Null Count  Dtype  \n",
      "---  ------                      --------------  -----  \n",
      " 0   customer_id                 7043 non-null   object \n",
      " 1   begin_date                  7043 non-null   object \n",
      " 2   end_date                    7043 non-null   object \n",
      " 3   type                        7043 non-null   object \n",
      " 4   paperless_billing           7043 non-null   int64  \n",
      " 5   payment_method              7043 non-null   object \n",
      " 6   monthly_charges             7043 non-null   float64\n",
      " 7   total_charges               7043 non-null   float64\n",
      " 8   has_ended                   7043 non-null   int64  \n",
      " 9   internet_type               5517 non-null   object \n",
      " 10  internet_security           5517 non-null   float64\n",
      " 11  internet_backup             5517 non-null   float64\n",
      " 12  internet_device_protection  5517 non-null   float64\n",
      " 13  internet_tech_support       5517 non-null   float64\n",
      " 14  internet_tv                 5517 non-null   float64\n",
      " 15  internet_movies             5517 non-null   float64\n",
      " 16  gender                      7043 non-null   object \n",
      " 17  is_senior_citizen           7043 non-null   int64  \n",
      " 18  has_partner                 7043 non-null   int64  \n",
      " 19  has_dependents              7043 non-null   int64  \n",
      " 20  has_multiple_lines          6361 non-null   float64\n",
      "dtypes: float64(9), int64(5), object(7)\n",
      "memory usage: 1.2+ MB\n"
     ]
    }
   ],
   "source": [
    "# check nulls\n",
    "df.info()"
   ]
  },
  {
   "cell_type": "markdown",
   "id": "164ca151",
   "metadata": {},
   "source": [
    "Nulls exist in the columns associated with the `internet` and `phone` datasets. These columns can be treated as if the customer did not sign up for these services, so missing values will be filled in with 0s."
   ]
  },
  {
   "cell_type": "code",
   "execution_count": 25,
   "id": "ea1acf61",
   "metadata": {},
   "outputs": [],
   "source": [
    "# fill null values with 0s\n",
    "df['internet_type'] = df['internet_type'].fillna('None')\n",
    "df = df.fillna(0)"
   ]
  },
  {
   "cell_type": "markdown",
   "id": "4d68ec7f",
   "metadata": {},
   "source": [
    "The datasets have been merged."
   ]
  },
  {
   "cell_type": "markdown",
   "id": "d7964ec8",
   "metadata": {},
   "source": [
    "## EDA\n",
    "\n",
    "* What is the distribution of current customers and customers that have ended their service?\n",
    "* What are the earliest and latest dates in the dataset? \n",
    "* For customers that end their service, how many months do they tend to stay before leaving?\n",
    "* How does Monthly Charges relate to personal information - ie does monthly charge increase if the person has a partner? Has dependents?"
   ]
  },
  {
   "cell_type": "markdown",
   "id": "17fc9a95",
   "metadata": {},
   "source": [
    "#### What are the earliest and latest dates in the dataset? "
   ]
  },
  {
   "cell_type": "code",
   "execution_count": 26,
   "id": "57638e39",
   "metadata": {},
   "outputs": [],
   "source": [
    "# convert columns to datetime\n",
    "df['begin_date'] = pd.to_datetime(df['begin_date'])"
   ]
  },
  {
   "cell_type": "code",
   "execution_count": 27,
   "id": "fc757d5d",
   "metadata": {},
   "outputs": [
    {
     "data": {
      "text/plain": [
       "Timestamp('2013-10-01 00:00:00')"
      ]
     },
     "execution_count": 27,
     "metadata": {},
     "output_type": "execute_result"
    }
   ],
   "source": [
    "# get earliest date\n",
    "df['begin_date'].min()"
   ]
  },
  {
   "cell_type": "code",
   "execution_count": 28,
   "id": "4ae85b42",
   "metadata": {},
   "outputs": [
    {
     "data": {
      "text/plain": [
       "Timestamp('2020-02-01 00:00:00')"
      ]
     },
     "execution_count": 28,
     "metadata": {},
     "output_type": "execute_result"
    }
   ],
   "source": [
    "# get latest date\n",
    "df['begin_date'].max()"
   ]
  },
  {
   "cell_type": "markdown",
   "id": "aaf2ad5c",
   "metadata": {},
   "source": [
    "Services start between October 1st, 2013 and February 1st, 2020."
   ]
  },
  {
   "cell_type": "markdown",
   "id": "6e1a0788",
   "metadata": {},
   "source": [
    "#### What is the distribution of current customers and customers that have ended their service?"
   ]
  },
  {
   "cell_type": "code",
   "execution_count": 29,
   "id": "819bc026",
   "metadata": {},
   "outputs": [],
   "source": [
    "# create dataset of current + churned customers\n",
    "df_current = df[df['has_ended'] == 0].reset_index(drop=True)\n",
    "df_churn = df[df['has_ended'] == 1].reset_index(drop=True)"
   ]
  },
  {
   "cell_type": "code",
   "execution_count": 30,
   "id": "4bac9905",
   "metadata": {},
   "outputs": [
    {
     "data": {
      "text/plain": [
       "5174"
      ]
     },
     "execution_count": 30,
     "metadata": {},
     "output_type": "execute_result"
    }
   ],
   "source": [
    "len(df_current)"
   ]
  },
  {
   "cell_type": "code",
   "execution_count": 31,
   "id": "d24f4e6c",
   "metadata": {},
   "outputs": [
    {
     "data": {
      "text/plain": [
       "1869"
      ]
     },
     "execution_count": 31,
     "metadata": {},
     "output_type": "execute_result"
    }
   ],
   "source": [
    "len(df_churn)"
   ]
  },
  {
   "cell_type": "markdown",
   "id": "85d91bd7",
   "metadata": {},
   "source": [
    "There are 5174 current customers in the dataset and 1869 customers who have left. Whether or not a client has churned is the target of this ML problem, so this is a class imbalance that will need to be considered during model training."
   ]
  },
  {
   "cell_type": "markdown",
   "id": "2ead2c94",
   "metadata": {},
   "source": [
    "#### For customers that end their service, how many months do they tend to stay before leaving?"
   ]
  },
  {
   "cell_type": "code",
   "execution_count": 32,
   "id": "1c665a8c",
   "metadata": {},
   "outputs": [
    {
     "data": {
      "text/html": [
       "<div>\n",
       "<style scoped>\n",
       "    .dataframe tbody tr th:only-of-type {\n",
       "        vertical-align: middle;\n",
       "    }\n",
       "\n",
       "    .dataframe tbody tr th {\n",
       "        vertical-align: top;\n",
       "    }\n",
       "\n",
       "    .dataframe thead th {\n",
       "        text-align: right;\n",
       "    }\n",
       "</style>\n",
       "<table border=\"1\" class=\"dataframe\">\n",
       "  <thead>\n",
       "    <tr style=\"text-align: right;\">\n",
       "      <th></th>\n",
       "      <th>customer_id</th>\n",
       "      <th>begin_date</th>\n",
       "      <th>end_date</th>\n",
       "      <th>type</th>\n",
       "      <th>paperless_billing</th>\n",
       "      <th>payment_method</th>\n",
       "      <th>monthly_charges</th>\n",
       "      <th>total_charges</th>\n",
       "      <th>has_ended</th>\n",
       "      <th>internet_type</th>\n",
       "      <th>...</th>\n",
       "      <th>internet_backup</th>\n",
       "      <th>internet_device_protection</th>\n",
       "      <th>internet_tech_support</th>\n",
       "      <th>internet_tv</th>\n",
       "      <th>internet_movies</th>\n",
       "      <th>gender</th>\n",
       "      <th>is_senior_citizen</th>\n",
       "      <th>has_partner</th>\n",
       "      <th>has_dependents</th>\n",
       "      <th>has_multiple_lines</th>\n",
       "    </tr>\n",
       "  </thead>\n",
       "  <tbody>\n",
       "    <tr>\n",
       "      <th>0</th>\n",
       "      <td>3668-QPYBK</td>\n",
       "      <td>2019-10-01</td>\n",
       "      <td>2019-12-01 00:00:00</td>\n",
       "      <td>Month-to-month</td>\n",
       "      <td>1</td>\n",
       "      <td>Mailed check</td>\n",
       "      <td>53.85</td>\n",
       "      <td>108.15</td>\n",
       "      <td>1</td>\n",
       "      <td>DSL</td>\n",
       "      <td>...</td>\n",
       "      <td>1.0</td>\n",
       "      <td>0.0</td>\n",
       "      <td>0.0</td>\n",
       "      <td>0.0</td>\n",
       "      <td>0.0</td>\n",
       "      <td>Male</td>\n",
       "      <td>0</td>\n",
       "      <td>0</td>\n",
       "      <td>0</td>\n",
       "      <td>0.0</td>\n",
       "    </tr>\n",
       "    <tr>\n",
       "      <th>1</th>\n",
       "      <td>9237-HQITU</td>\n",
       "      <td>2019-09-01</td>\n",
       "      <td>2019-11-01 00:00:00</td>\n",
       "      <td>Month-to-month</td>\n",
       "      <td>1</td>\n",
       "      <td>Electronic check</td>\n",
       "      <td>70.70</td>\n",
       "      <td>151.65</td>\n",
       "      <td>1</td>\n",
       "      <td>Fiber optic</td>\n",
       "      <td>...</td>\n",
       "      <td>0.0</td>\n",
       "      <td>0.0</td>\n",
       "      <td>0.0</td>\n",
       "      <td>0.0</td>\n",
       "      <td>0.0</td>\n",
       "      <td>Female</td>\n",
       "      <td>0</td>\n",
       "      <td>0</td>\n",
       "      <td>0</td>\n",
       "      <td>0.0</td>\n",
       "    </tr>\n",
       "    <tr>\n",
       "      <th>2</th>\n",
       "      <td>9305-CDSKC</td>\n",
       "      <td>2019-03-01</td>\n",
       "      <td>2019-11-01 00:00:00</td>\n",
       "      <td>Month-to-month</td>\n",
       "      <td>1</td>\n",
       "      <td>Electronic check</td>\n",
       "      <td>99.65</td>\n",
       "      <td>820.50</td>\n",
       "      <td>1</td>\n",
       "      <td>Fiber optic</td>\n",
       "      <td>...</td>\n",
       "      <td>0.0</td>\n",
       "      <td>1.0</td>\n",
       "      <td>0.0</td>\n",
       "      <td>1.0</td>\n",
       "      <td>1.0</td>\n",
       "      <td>Female</td>\n",
       "      <td>0</td>\n",
       "      <td>0</td>\n",
       "      <td>0</td>\n",
       "      <td>1.0</td>\n",
       "    </tr>\n",
       "    <tr>\n",
       "      <th>3</th>\n",
       "      <td>7892-POOKP</td>\n",
       "      <td>2017-07-01</td>\n",
       "      <td>2019-11-01 00:00:00</td>\n",
       "      <td>Month-to-month</td>\n",
       "      <td>1</td>\n",
       "      <td>Electronic check</td>\n",
       "      <td>104.80</td>\n",
       "      <td>3046.05</td>\n",
       "      <td>1</td>\n",
       "      <td>Fiber optic</td>\n",
       "      <td>...</td>\n",
       "      <td>0.0</td>\n",
       "      <td>1.0</td>\n",
       "      <td>1.0</td>\n",
       "      <td>1.0</td>\n",
       "      <td>1.0</td>\n",
       "      <td>Female</td>\n",
       "      <td>0</td>\n",
       "      <td>1</td>\n",
       "      <td>0</td>\n",
       "      <td>1.0</td>\n",
       "    </tr>\n",
       "    <tr>\n",
       "      <th>4</th>\n",
       "      <td>0280-XJGEX</td>\n",
       "      <td>2015-09-01</td>\n",
       "      <td>2019-10-01 00:00:00</td>\n",
       "      <td>Month-to-month</td>\n",
       "      <td>1</td>\n",
       "      <td>Bank transfer (automatic)</td>\n",
       "      <td>103.70</td>\n",
       "      <td>5036.30</td>\n",
       "      <td>1</td>\n",
       "      <td>Fiber optic</td>\n",
       "      <td>...</td>\n",
       "      <td>1.0</td>\n",
       "      <td>1.0</td>\n",
       "      <td>0.0</td>\n",
       "      <td>1.0</td>\n",
       "      <td>1.0</td>\n",
       "      <td>Male</td>\n",
       "      <td>0</td>\n",
       "      <td>0</td>\n",
       "      <td>0</td>\n",
       "      <td>1.0</td>\n",
       "    </tr>\n",
       "  </tbody>\n",
       "</table>\n",
       "<p>5 rows × 21 columns</p>\n",
       "</div>"
      ],
      "text/plain": [
       "  customer_id begin_date             end_date            type  \\\n",
       "0  3668-QPYBK 2019-10-01  2019-12-01 00:00:00  Month-to-month   \n",
       "1  9237-HQITU 2019-09-01  2019-11-01 00:00:00  Month-to-month   \n",
       "2  9305-CDSKC 2019-03-01  2019-11-01 00:00:00  Month-to-month   \n",
       "3  7892-POOKP 2017-07-01  2019-11-01 00:00:00  Month-to-month   \n",
       "4  0280-XJGEX 2015-09-01  2019-10-01 00:00:00  Month-to-month   \n",
       "\n",
       "   paperless_billing             payment_method  monthly_charges  \\\n",
       "0                  1               Mailed check            53.85   \n",
       "1                  1           Electronic check            70.70   \n",
       "2                  1           Electronic check            99.65   \n",
       "3                  1           Electronic check           104.80   \n",
       "4                  1  Bank transfer (automatic)           103.70   \n",
       "\n",
       "   total_charges  has_ended internet_type  ...  internet_backup  \\\n",
       "0         108.15          1           DSL  ...              1.0   \n",
       "1         151.65          1   Fiber optic  ...              0.0   \n",
       "2         820.50          1   Fiber optic  ...              0.0   \n",
       "3        3046.05          1   Fiber optic  ...              0.0   \n",
       "4        5036.30          1   Fiber optic  ...              1.0   \n",
       "\n",
       "   internet_device_protection  internet_tech_support  internet_tv  \\\n",
       "0                         0.0                    0.0          0.0   \n",
       "1                         0.0                    0.0          0.0   \n",
       "2                         1.0                    0.0          1.0   \n",
       "3                         1.0                    1.0          1.0   \n",
       "4                         1.0                    0.0          1.0   \n",
       "\n",
       "   internet_movies  gender is_senior_citizen  has_partner  has_dependents  \\\n",
       "0              0.0    Male                 0            0               0   \n",
       "1              0.0  Female                 0            0               0   \n",
       "2              1.0  Female                 0            0               0   \n",
       "3              1.0  Female                 0            1               0   \n",
       "4              1.0    Male                 0            0               0   \n",
       "\n",
       "   has_multiple_lines  \n",
       "0                 0.0  \n",
       "1                 0.0  \n",
       "2                 1.0  \n",
       "3                 1.0  \n",
       "4                 1.0  \n",
       "\n",
       "[5 rows x 21 columns]"
      ]
     },
     "execution_count": 32,
     "metadata": {},
     "output_type": "execute_result"
    }
   ],
   "source": [
    "# view data\n",
    "df_churn.head()"
   ]
  },
  {
   "cell_type": "code",
   "execution_count": 33,
   "id": "0c442a9b",
   "metadata": {},
   "outputs": [],
   "source": [
    "# convert dates to datetime\n",
    "df_churn['end_date'] = pd.to_datetime(df_churn['end_date'])\n",
    "df_churn['begin_date'] = pd.to_datetime(df_churn['begin_date'])"
   ]
  },
  {
   "cell_type": "code",
   "execution_count": 34,
   "id": "aa693754",
   "metadata": {},
   "outputs": [],
   "source": [
    "# calculate the months that have elapsed since the customer ended their service\n",
    "def elapsed_months(end, start):\n",
    "    return 12 * (end.year - start.year) + (end.month - start.month)\n",
    "\n",
    "df_churn['elapsed_months'] = df_churn.apply(\n",
    "    lambda x: elapsed_months(x['end_date'], x['begin_date']), axis=1)"
   ]
  },
  {
   "cell_type": "code",
   "execution_count": 35,
   "id": "4ba28501",
   "metadata": {},
   "outputs": [
    {
     "data": {
      "text/plain": [
       "count    1655.000000\n",
       "mean       14.016918\n",
       "std        15.828615\n",
       "min         1.000000\n",
       "25%         2.000000\n",
       "50%         7.000000\n",
       "75%        21.000000\n",
       "max        71.000000\n",
       "Name: elapsed_months, dtype: float64"
      ]
     },
     "execution_count": 35,
     "metadata": {},
     "output_type": "execute_result"
    }
   ],
   "source": [
    "# view average churn for month to month\n",
    "df_churn[df_churn['type'] == 'Month-to-month']['elapsed_months'].describe()"
   ]
  },
  {
   "cell_type": "code",
   "execution_count": 36,
   "id": "681b4433",
   "metadata": {},
   "outputs": [
    {
     "data": {
      "text/plain": [
       "count    166.000000\n",
       "mean      44.963855\n",
       "std       18.367261\n",
       "min        2.000000\n",
       "25%       33.000000\n",
       "50%       48.000000\n",
       "75%       59.000000\n",
       "max       72.000000\n",
       "Name: elapsed_months, dtype: float64"
      ]
     },
     "execution_count": 36,
     "metadata": {},
     "output_type": "execute_result"
    }
   ],
   "source": [
    "# view average churn for yearly\n",
    "df_churn[df_churn['type'] == 'One year']['elapsed_months'].describe()"
   ]
  },
  {
   "cell_type": "markdown",
   "id": "5e3526c8",
   "metadata": {},
   "source": [
    "In the dataset, 1869 customers have ended their service. The median time for customers to end their service on the monthly plan is 7 months, whereas it is 48 months for the yearly plan. For gthe yearly plan, this indicates customers renew their subscription at least once before closing their account."
   ]
  },
  {
   "cell_type": "markdown",
   "id": "134b0df3",
   "metadata": {},
   "source": [
    "#### How does Monthly Charges relate to personal information and services obtained?"
   ]
  },
  {
   "cell_type": "code",
   "execution_count": 37,
   "id": "0b7ce21f",
   "metadata": {},
   "outputs": [
    {
     "data": {
      "text/plain": [
       "Index(['customer_id', 'begin_date', 'end_date', 'type', 'paperless_billing',\n",
       "       'payment_method', 'monthly_charges', 'total_charges', 'has_ended',\n",
       "       'internet_type', 'internet_security', 'internet_backup',\n",
       "       'internet_device_protection', 'internet_tech_support', 'internet_tv',\n",
       "       'internet_movies', 'gender', 'is_senior_citizen', 'has_partner',\n",
       "       'has_dependents', 'has_multiple_lines'],\n",
       "      dtype='object')"
      ]
     },
     "execution_count": 37,
     "metadata": {},
     "output_type": "execute_result"
    }
   ],
   "source": [
    "df.columns"
   ]
  },
  {
   "cell_type": "code",
   "execution_count": 38,
   "id": "678b0257",
   "metadata": {},
   "outputs": [],
   "source": [
    "services = ['internet_security', 'internet_backup',\n",
    "       'internet_device_protection', 'internet_tech_support', 'internet_tv',\n",
    "       'internet_movies', 'has_multiple_lines']\n",
    "\n",
    "df['num_services'] = df[services].sum(axis=1)"
   ]
  },
  {
   "cell_type": "code",
   "execution_count": 39,
   "id": "44d5e196",
   "metadata": {},
   "outputs": [
    {
     "data": {
      "image/png": "[encoded data removed]",
      "text/plain": [
       "<Figure size 640x480 with 1 Axes>"
      ]
     },
     "metadata": {},
     "output_type": "display_data"
    }
   ],
   "source": [
    "sns.boxplot(data=df, x='num_services', y='monthly_charges');"
   ]
  },
  {
   "cell_type": "markdown",
   "id": "bc717102",
   "metadata": {},
   "source": [
    "As the number of services increases, so does a customer's monthly charge."
   ]
  },
  {
   "cell_type": "code",
   "execution_count": 40,
   "id": "0ddc099b",
   "metadata": {},
   "outputs": [
    {
     "data": {
      "image/png": "[encoded data removed]",
      "text/plain": [
       "<Figure size 900x300 with 3 Axes>"
      ]
     },
     "metadata": {},
     "output_type": "display_data"
    }
   ],
   "source": [
    "fig, ax = plt.subplots(1, 3, figsize=(9, 3))\n",
    "fig.subplots_adjust(wspace=1)\n",
    "sns.boxplot(data=df, x='has_partner', y='monthly_charges', ax=ax[0]);\n",
    "sns.boxplot(data=df, x='has_dependents', y='monthly_charges', ax=ax[1]);\n",
    "sns.boxplot(data=df, x='is_senior_citizen', y='monthly_charges', ax=ax[2]);"
   ]
  },
  {
   "cell_type": "markdown",
   "id": "25ac963c",
   "metadata": {},
   "source": [
    "The monthly charge does not have a significant change depending on if the customer has a partner or has dependents, but monthly charges appaears to have more variability for senior citizens, running higher on average than non-senior citizens."
   ]
  },
  {
   "cell_type": "markdown",
   "id": "f8e81149",
   "metadata": {},
   "source": [
    "## Model Preparation\n",
    "\n",
    "Next, I prepare the models. I start by extracting the year and month information from the `begin_date` column. I drop `customer_id`, `end_date`, `num_services`, and `begin_date`."
   ]
  },
  {
   "cell_type": "code",
   "execution_count": 41,
   "id": "46785823",
   "metadata": {},
   "outputs": [],
   "source": [
    "# remove unnecessary columns\n",
    "df['begin_year'] = df['begin_date'].dt.year\n",
    "df['begin_month'] = df['begin_date'].dt.month\n",
    "\n",
    "df = df.drop(columns=['customer_id', 'end_date', 'num_services', 'begin_date'], axis=1)"
   ]
  },
  {
   "cell_type": "code",
   "execution_count": 42,
   "id": "2b5b6b9a",
   "metadata": {
    "scrolled": false
   },
   "outputs": [
    {
     "data": {
      "text/html": [
       "<div>\n",
       "<style scoped>\n",
       "    .dataframe tbody tr th:only-of-type {\n",
       "        vertical-align: middle;\n",
       "    }\n",
       "\n",
       "    .dataframe tbody tr th {\n",
       "        vertical-align: top;\n",
       "    }\n",
       "\n",
       "    .dataframe thead th {\n",
       "        text-align: right;\n",
       "    }\n",
       "</style>\n",
       "<table border=\"1\" class=\"dataframe\">\n",
       "  <thead>\n",
       "    <tr style=\"text-align: right;\">\n",
       "      <th></th>\n",
       "      <th>paperless_billing</th>\n",
       "      <th>monthly_charges</th>\n",
       "      <th>total_charges</th>\n",
       "      <th>has_ended</th>\n",
       "      <th>internet_security</th>\n",
       "      <th>internet_backup</th>\n",
       "      <th>internet_device_protection</th>\n",
       "      <th>internet_tech_support</th>\n",
       "      <th>internet_tv</th>\n",
       "      <th>internet_movies</th>\n",
       "      <th>is_senior_citizen</th>\n",
       "      <th>has_partner</th>\n",
       "      <th>has_dependents</th>\n",
       "      <th>has_multiple_lines</th>\n",
       "      <th>begin_year</th>\n",
       "      <th>begin_month</th>\n",
       "    </tr>\n",
       "  </thead>\n",
       "  <tbody>\n",
       "    <tr>\n",
       "      <th>paperless_billing</th>\n",
       "      <td>1.000000</td>\n",
       "      <td>0.352150</td>\n",
       "      <td>0.158574</td>\n",
       "      <td>0.191825</td>\n",
       "      <td>-0.003636</td>\n",
       "      <td>0.126735</td>\n",
       "      <td>0.103797</td>\n",
       "      <td>0.037880</td>\n",
       "      <td>0.223841</td>\n",
       "      <td>0.211716</td>\n",
       "      <td>0.156530</td>\n",
       "      <td>-0.014877</td>\n",
       "      <td>-0.111377</td>\n",
       "      <td>0.163530</td>\n",
       "      <td>-0.019011</td>\n",
       "      <td>0.024053</td>\n",
       "    </tr>\n",
       "    <tr>\n",
       "      <th>monthly_charges</th>\n",
       "      <td>0.352150</td>\n",
       "      <td>1.000000</td>\n",
       "      <td>0.651174</td>\n",
       "      <td>0.193356</td>\n",
       "      <td>0.296594</td>\n",
       "      <td>0.441780</td>\n",
       "      <td>0.482692</td>\n",
       "      <td>0.338304</td>\n",
       "      <td>0.629603</td>\n",
       "      <td>0.627429</td>\n",
       "      <td>0.220173</td>\n",
       "      <td>0.096848</td>\n",
       "      <td>-0.113890</td>\n",
       "      <td>0.490434</td>\n",
       "      <td>-0.264251</td>\n",
       "      <td>-0.018072</td>\n",
       "    </tr>\n",
       "    <tr>\n",
       "      <th>total_charges</th>\n",
       "      <td>0.158574</td>\n",
       "      <td>0.651174</td>\n",
       "      <td>1.000000</td>\n",
       "      <td>-0.198324</td>\n",
       "      <td>0.411651</td>\n",
       "      <td>0.509226</td>\n",
       "      <td>0.521983</td>\n",
       "      <td>0.431883</td>\n",
       "      <td>0.514973</td>\n",
       "      <td>0.520122</td>\n",
       "      <td>0.103006</td>\n",
       "      <td>0.317504</td>\n",
       "      <td>0.062078</td>\n",
       "      <td>0.468504</td>\n",
       "      <td>-0.819539</td>\n",
       "      <td>-0.194289</td>\n",
       "    </tr>\n",
       "    <tr>\n",
       "      <th>has_ended</th>\n",
       "      <td>0.191825</td>\n",
       "      <td>0.193356</td>\n",
       "      <td>-0.198324</td>\n",
       "      <td>1.000000</td>\n",
       "      <td>-0.171226</td>\n",
       "      <td>-0.082255</td>\n",
       "      <td>-0.066160</td>\n",
       "      <td>-0.164674</td>\n",
       "      <td>0.063228</td>\n",
       "      <td>0.061382</td>\n",
       "      <td>0.150889</td>\n",
       "      <td>-0.150448</td>\n",
       "      <td>-0.164221</td>\n",
       "      <td>0.040102</td>\n",
       "      <td>0.291621</td>\n",
       "      <td>0.181417</td>\n",
       "    </tr>\n",
       "    <tr>\n",
       "      <th>internet_security</th>\n",
       "      <td>-0.003636</td>\n",
       "      <td>0.296594</td>\n",
       "      <td>0.411651</td>\n",
       "      <td>-0.171226</td>\n",
       "      <td>1.000000</td>\n",
       "      <td>0.283832</td>\n",
       "      <td>0.275438</td>\n",
       "      <td>0.354931</td>\n",
       "      <td>0.176207</td>\n",
       "      <td>0.187398</td>\n",
       "      <td>-0.038653</td>\n",
       "      <td>0.143106</td>\n",
       "      <td>0.080972</td>\n",
       "      <td>0.098108</td>\n",
       "      <td>-0.316448</td>\n",
       "      <td>-0.103943</td>\n",
       "    </tr>\n",
       "    <tr>\n",
       "      <th>internet_backup</th>\n",
       "      <td>0.126735</td>\n",
       "      <td>0.441780</td>\n",
       "      <td>0.509226</td>\n",
       "      <td>-0.082255</td>\n",
       "      <td>0.283832</td>\n",
       "      <td>1.000000</td>\n",
       "      <td>0.303546</td>\n",
       "      <td>0.294233</td>\n",
       "      <td>0.282106</td>\n",
       "      <td>0.274501</td>\n",
       "      <td>0.066572</td>\n",
       "      <td>0.141498</td>\n",
       "      <td>0.023671</td>\n",
       "      <td>0.202237</td>\n",
       "      <td>-0.359148</td>\n",
       "      <td>-0.073651</td>\n",
       "    </tr>\n",
       "    <tr>\n",
       "      <th>internet_device_protection</th>\n",
       "      <td>0.103797</td>\n",
       "      <td>0.482692</td>\n",
       "      <td>0.521983</td>\n",
       "      <td>-0.066160</td>\n",
       "      <td>0.275438</td>\n",
       "      <td>0.303546</td>\n",
       "      <td>1.000000</td>\n",
       "      <td>0.333313</td>\n",
       "      <td>0.390874</td>\n",
       "      <td>0.402111</td>\n",
       "      <td>0.059428</td>\n",
       "      <td>0.153786</td>\n",
       "      <td>0.013963</td>\n",
       "      <td>0.201137</td>\n",
       "      <td>-0.357400</td>\n",
       "      <td>-0.092586</td>\n",
       "    </tr>\n",
       "    <tr>\n",
       "      <th>internet_tech_support</th>\n",
       "      <td>0.037880</td>\n",
       "      <td>0.338304</td>\n",
       "      <td>0.431883</td>\n",
       "      <td>-0.164674</td>\n",
       "      <td>0.354931</td>\n",
       "      <td>0.294233</td>\n",
       "      <td>0.333313</td>\n",
       "      <td>1.000000</td>\n",
       "      <td>0.278070</td>\n",
       "      <td>0.279358</td>\n",
       "      <td>-0.060625</td>\n",
       "      <td>0.119999</td>\n",
       "      <td>0.063268</td>\n",
       "      <td>0.100571</td>\n",
       "      <td>-0.314811</td>\n",
       "      <td>-0.095653</td>\n",
       "    </tr>\n",
       "    <tr>\n",
       "      <th>internet_tv</th>\n",
       "      <td>0.223841</td>\n",
       "      <td>0.629603</td>\n",
       "      <td>0.514973</td>\n",
       "      <td>0.063228</td>\n",
       "      <td>0.176207</td>\n",
       "      <td>0.282106</td>\n",
       "      <td>0.390874</td>\n",
       "      <td>0.278070</td>\n",
       "      <td>1.000000</td>\n",
       "      <td>0.533094</td>\n",
       "      <td>0.105378</td>\n",
       "      <td>0.124666</td>\n",
       "      <td>-0.016558</td>\n",
       "      <td>0.257152</td>\n",
       "      <td>-0.284914</td>\n",
       "      <td>-0.059497</td>\n",
       "    </tr>\n",
       "    <tr>\n",
       "      <th>internet_movies</th>\n",
       "      <td>0.211716</td>\n",
       "      <td>0.627429</td>\n",
       "      <td>0.520122</td>\n",
       "      <td>0.061382</td>\n",
       "      <td>0.187398</td>\n",
       "      <td>0.274501</td>\n",
       "      <td>0.402111</td>\n",
       "      <td>0.279358</td>\n",
       "      <td>0.533094</td>\n",
       "      <td>1.000000</td>\n",
       "      <td>0.120176</td>\n",
       "      <td>0.117412</td>\n",
       "      <td>-0.039741</td>\n",
       "      <td>0.258751</td>\n",
       "      <td>-0.289747</td>\n",
       "      <td>-0.068723</td>\n",
       "    </tr>\n",
       "    <tr>\n",
       "      <th>is_senior_citizen</th>\n",
       "      <td>0.156530</td>\n",
       "      <td>0.220173</td>\n",
       "      <td>0.103006</td>\n",
       "      <td>0.150889</td>\n",
       "      <td>-0.038653</td>\n",
       "      <td>0.066572</td>\n",
       "      <td>0.059428</td>\n",
       "      <td>-0.060625</td>\n",
       "      <td>0.105378</td>\n",
       "      <td>0.120176</td>\n",
       "      <td>1.000000</td>\n",
       "      <td>0.016479</td>\n",
       "      <td>-0.211185</td>\n",
       "      <td>0.142948</td>\n",
       "      <td>-0.028418</td>\n",
       "      <td>0.029381</td>\n",
       "    </tr>\n",
       "    <tr>\n",
       "      <th>has_partner</th>\n",
       "      <td>-0.014877</td>\n",
       "      <td>0.096848</td>\n",
       "      <td>0.317504</td>\n",
       "      <td>-0.150448</td>\n",
       "      <td>0.143106</td>\n",
       "      <td>0.141498</td>\n",
       "      <td>0.153786</td>\n",
       "      <td>0.119999</td>\n",
       "      <td>0.124666</td>\n",
       "      <td>0.117412</td>\n",
       "      <td>0.016479</td>\n",
       "      <td>1.000000</td>\n",
       "      <td>0.452676</td>\n",
       "      <td>0.142057</td>\n",
       "      <td>-0.367419</td>\n",
       "      <td>-0.131669</td>\n",
       "    </tr>\n",
       "    <tr>\n",
       "      <th>has_dependents</th>\n",
       "      <td>-0.111377</td>\n",
       "      <td>-0.113890</td>\n",
       "      <td>0.062078</td>\n",
       "      <td>-0.164221</td>\n",
       "      <td>0.080972</td>\n",
       "      <td>0.023671</td>\n",
       "      <td>0.013963</td>\n",
       "      <td>0.063268</td>\n",
       "      <td>-0.016558</td>\n",
       "      <td>-0.039741</td>\n",
       "      <td>-0.211185</td>\n",
       "      <td>0.452676</td>\n",
       "      <td>1.000000</td>\n",
       "      <td>-0.024526</td>\n",
       "      <td>-0.148000</td>\n",
       "      <td>-0.067989</td>\n",
       "    </tr>\n",
       "    <tr>\n",
       "      <th>has_multiple_lines</th>\n",
       "      <td>0.163530</td>\n",
       "      <td>0.490434</td>\n",
       "      <td>0.468504</td>\n",
       "      <td>0.040102</td>\n",
       "      <td>0.098108</td>\n",
       "      <td>0.202237</td>\n",
       "      <td>0.201137</td>\n",
       "      <td>0.100571</td>\n",
       "      <td>0.257152</td>\n",
       "      <td>0.258751</td>\n",
       "      <td>0.142948</td>\n",
       "      <td>0.142057</td>\n",
       "      <td>-0.024526</td>\n",
       "      <td>1.000000</td>\n",
       "      <td>-0.335494</td>\n",
       "      <td>-0.077022</td>\n",
       "    </tr>\n",
       "    <tr>\n",
       "      <th>begin_year</th>\n",
       "      <td>-0.019011</td>\n",
       "      <td>-0.264251</td>\n",
       "      <td>-0.819539</td>\n",
       "      <td>0.291621</td>\n",
       "      <td>-0.316448</td>\n",
       "      <td>-0.359148</td>\n",
       "      <td>-0.357400</td>\n",
       "      <td>-0.314811</td>\n",
       "      <td>-0.284914</td>\n",
       "      <td>-0.289747</td>\n",
       "      <td>-0.028418</td>\n",
       "      <td>-0.367419</td>\n",
       "      <td>-0.148000</td>\n",
       "      <td>-0.335494</td>\n",
       "      <td>1.000000</td>\n",
       "      <td>0.081542</td>\n",
       "    </tr>\n",
       "    <tr>\n",
       "      <th>begin_month</th>\n",
       "      <td>0.024053</td>\n",
       "      <td>-0.018072</td>\n",
       "      <td>-0.194289</td>\n",
       "      <td>0.181417</td>\n",
       "      <td>-0.103943</td>\n",
       "      <td>-0.073651</td>\n",
       "      <td>-0.092586</td>\n",
       "      <td>-0.095653</td>\n",
       "      <td>-0.059497</td>\n",
       "      <td>-0.068723</td>\n",
       "      <td>0.029381</td>\n",
       "      <td>-0.131669</td>\n",
       "      <td>-0.067989</td>\n",
       "      <td>-0.077022</td>\n",
       "      <td>0.081542</td>\n",
       "      <td>1.000000</td>\n",
       "    </tr>\n",
       "  </tbody>\n",
       "</table>\n",
       "</div>"
      ],
      "text/plain": [
       "                            paperless_billing  monthly_charges  total_charges  \\\n",
       "paperless_billing                    1.000000         0.352150       0.158574   \n",
       "monthly_charges                      0.352150         1.000000       0.651174   \n",
       "total_charges                        0.158574         0.651174       1.000000   \n",
       "has_ended                            0.191825         0.193356      -0.198324   \n",
       "internet_security                   -0.003636         0.296594       0.411651   \n",
       "internet_backup                      0.126735         0.441780       0.509226   \n",
       "internet_device_protection           0.103797         0.482692       0.521983   \n",
       "internet_tech_support                0.037880         0.338304       0.431883   \n",
       "internet_tv                          0.223841         0.629603       0.514973   \n",
       "internet_movies                      0.211716         0.627429       0.520122   \n",
       "is_senior_citizen                    0.156530         0.220173       0.103006   \n",
       "has_partner                         -0.014877         0.096848       0.317504   \n",
       "has_dependents                      -0.111377        -0.113890       0.062078   \n",
       "has_multiple_lines                   0.163530         0.490434       0.468504   \n",
       "begin_year                          -0.019011        -0.264251      -0.819539   \n",
       "begin_month                          0.024053        -0.018072      -0.194289   \n",
       "\n",
       "                            has_ended  internet_security  internet_backup  \\\n",
       "paperless_billing            0.191825          -0.003636         0.126735   \n",
       "monthly_charges              0.193356           0.296594         0.441780   \n",
       "total_charges               -0.198324           0.411651         0.509226   \n",
       "has_ended                    1.000000          -0.171226        -0.082255   \n",
       "internet_security           -0.171226           1.000000         0.283832   \n",
       "internet_backup             -0.082255           0.283832         1.000000   \n",
       "internet_device_protection  -0.066160           0.275438         0.303546   \n",
       "internet_tech_support       -0.164674           0.354931         0.294233   \n",
       "internet_tv                  0.063228           0.176207         0.282106   \n",
       "internet_movies              0.061382           0.187398         0.274501   \n",
       "is_senior_citizen            0.150889          -0.038653         0.066572   \n",
       "has_partner                 -0.150448           0.143106         0.141498   \n",
       "has_dependents              -0.164221           0.080972         0.023671   \n",
       "has_multiple_lines           0.040102           0.098108         0.202237   \n",
       "begin_year                   0.291621          -0.316448        -0.359148   \n",
       "begin_month                  0.181417          -0.103943        -0.073651   \n",
       "\n",
       "                            internet_device_protection  internet_tech_support  \\\n",
       "paperless_billing                             0.103797               0.037880   \n",
       "monthly_charges                               0.482692               0.338304   \n",
       "total_charges                                 0.521983               0.431883   \n",
       "has_ended                                    -0.066160              -0.164674   \n",
       "internet_security                             0.275438               0.354931   \n",
       "internet_backup                               0.303546               0.294233   \n",
       "internet_device_protection                    1.000000               0.333313   \n",
       "internet_tech_support                         0.333313               1.000000   \n",
       "internet_tv                                   0.390874               0.278070   \n",
       "internet_movies                               0.402111               0.279358   \n",
       "is_senior_citizen                             0.059428              -0.060625   \n",
       "has_partner                                   0.153786               0.119999   \n",
       "has_dependents                                0.013963               0.063268   \n",
       "has_multiple_lines                            0.201137               0.100571   \n",
       "begin_year                                   -0.357400              -0.314811   \n",
       "begin_month                                  -0.092586              -0.095653   \n",
       "\n",
       "                            internet_tv  internet_movies  is_senior_citizen  \\\n",
       "paperless_billing              0.223841         0.211716           0.156530   \n",
       "monthly_charges                0.629603         0.627429           0.220173   \n",
       "total_charges                  0.514973         0.520122           0.103006   \n",
       "has_ended                      0.063228         0.061382           0.150889   \n",
       "internet_security              0.176207         0.187398          -0.038653   \n",
       "internet_backup                0.282106         0.274501           0.066572   \n",
       "internet_device_protection     0.390874         0.402111           0.059428   \n",
       "internet_tech_support          0.278070         0.279358          -0.060625   \n",
       "internet_tv                    1.000000         0.533094           0.105378   \n",
       "internet_movies                0.533094         1.000000           0.120176   \n",
       "is_senior_citizen              0.105378         0.120176           1.000000   \n",
       "has_partner                    0.124666         0.117412           0.016479   \n",
       "has_dependents                -0.016558        -0.039741          -0.211185   \n",
       "has_multiple_lines             0.257152         0.258751           0.142948   \n",
       "begin_year                    -0.284914        -0.289747          -0.028418   \n",
       "begin_month                   -0.059497        -0.068723           0.029381   \n",
       "\n",
       "                            has_partner  has_dependents  has_multiple_lines  \\\n",
       "paperless_billing             -0.014877       -0.111377            0.163530   \n",
       "monthly_charges                0.096848       -0.113890            0.490434   \n",
       "total_charges                  0.317504        0.062078            0.468504   \n",
       "has_ended                     -0.150448       -0.164221            0.040102   \n",
       "internet_security              0.143106        0.080972            0.098108   \n",
       "internet_backup                0.141498        0.023671            0.202237   \n",
       "internet_device_protection     0.153786        0.013963            0.201137   \n",
       "internet_tech_support          0.119999        0.063268            0.100571   \n",
       "internet_tv                    0.124666       -0.016558            0.257152   \n",
       "internet_movies                0.117412       -0.039741            0.258751   \n",
       "is_senior_citizen              0.016479       -0.211185            0.142948   \n",
       "has_partner                    1.000000        0.452676            0.142057   \n",
       "has_dependents                 0.452676        1.000000           -0.024526   \n",
       "has_multiple_lines             0.142057       -0.024526            1.000000   \n",
       "begin_year                    -0.367419       -0.148000           -0.335494   \n",
       "begin_month                   -0.131669       -0.067989           -0.077022   \n",
       "\n",
       "                            begin_year  begin_month  \n",
       "paperless_billing            -0.019011     0.024053  \n",
       "monthly_charges              -0.264251    -0.018072  \n",
       "total_charges                -0.819539    -0.194289  \n",
       "has_ended                     0.291621     0.181417  \n",
       "internet_security            -0.316448    -0.103943  \n",
       "internet_backup              -0.359148    -0.073651  \n",
       "internet_device_protection   -0.357400    -0.092586  \n",
       "internet_tech_support        -0.314811    -0.095653  \n",
       "internet_tv                  -0.284914    -0.059497  \n",
       "internet_movies              -0.289747    -0.068723  \n",
       "is_senior_citizen            -0.028418     0.029381  \n",
       "has_partner                  -0.367419    -0.131669  \n",
       "has_dependents               -0.148000    -0.067989  \n",
       "has_multiple_lines           -0.335494    -0.077022  \n",
       "begin_year                    1.000000     0.081542  \n",
       "begin_month                   0.081542     1.000000  "
      ]
     },
     "execution_count": 42,
     "metadata": {},
     "output_type": "execute_result"
    }
   ],
   "source": [
    "# view correlations\n",
    "df.corr(numeric_only=True)"
   ]
  },
  {
   "cell_type": "markdown",
   "id": "65e6b6bc",
   "metadata": {},
   "source": [
    "There are no remaining columns that have high correlation with each other, so there's no need to remove any additional columns."
   ]
  },
  {
   "cell_type": "markdown",
   "id": "e1315be0",
   "metadata": {},
   "source": [
    "### Splitting Data\n",
    "\n",
    "The data will be split: 60% for training, 20% for validation, and 20% for testing. The validation set will be used during hyperparameter tuning. After the final model is selected, the training set and validation sets will be combined for model fitting."
   ]
  },
  {
   "cell_type": "code",
   "execution_count": 43,
   "id": "2b3c3705",
   "metadata": {},
   "outputs": [],
   "source": [
    "# separate features from the target\n",
    "features = df.drop(columns=['has_ended'], axis=1)\n",
    "target = df[['has_ended']]"
   ]
  },
  {
   "cell_type": "code",
   "execution_count": 44,
   "id": "758ccf72",
   "metadata": {},
   "outputs": [],
   "source": [
    "STATE = 12345\n",
    "\n",
    "# reserving 20% of the data for the test dataset\n",
    "features_train, features_test, target_train, target_test = train_test_split(\n",
    "    features, target, test_size=0.20, random_state=STATE\n",
    ")\n",
    "\n",
    "# splitting the 80% of the source dataset into the training dataset (60%) and validation dataset (20%)  \n",
    "features_train, features_valid, target_train, target_valid = train_test_split(\n",
    "    features_train, target_train, test_size=0.25, random_state=STATE\n",
    ")"
   ]
  },
  {
   "cell_type": "code",
   "execution_count": 45,
   "id": "d938a6c6",
   "metadata": {},
   "outputs": [
    {
     "name": "stdout",
     "output_type": "stream",
     "text": [
      "Size of training set: 0.6%\n",
      "Size of validation set: 0.2%\n",
      "Size of testing set: 0.2%\n"
     ]
    }
   ],
   "source": [
    "# checking sizes of datasets\n",
    "full_len = len(df)\n",
    "\n",
    "print(f'Size of training set: {len(features_train) / full_len:.3}%')\n",
    "print(f'Size of validation set: {len(features_valid) / full_len:.3}%')\n",
    "print(f'Size of testing set: {len(target_valid) / full_len:.3}%')"
   ]
  },
  {
   "cell_type": "markdown",
   "id": "9283a9fc",
   "metadata": {},
   "source": [
    "### Scaling Data\n",
    "\n",
    "The values in `monthly_charges` and `total_charges` must be scaled so that a heavier weight isn't put on those features during model training."
   ]
  },
  {
   "cell_type": "code",
   "execution_count": 46,
   "id": "1a96f5d8",
   "metadata": {},
   "outputs": [],
   "source": [
    "# scale numeric values\n",
    "numeric = ['monthly_charges', 'total_charges']\n",
    "\n",
    "# use standard scaler and fit on training data\n",
    "scaler = StandardScaler()\n",
    "scaler.fit(features_train[numeric])\n",
    "\n",
    "# scale all sets\n",
    "features_train[numeric] = scaler.transform(features_train[numeric])\n",
    "features_valid[numeric] = scaler.transform(features_valid[numeric])\n",
    "features_test[numeric] = scaler.transform(features_test[numeric])"
   ]
  },
  {
   "cell_type": "markdown",
   "id": "8e73fae7",
   "metadata": {},
   "source": [
    "## Model Tests\n",
    "Four models will be tested: RandomForest, LogisticRegression, CatBoost, and LightGBM. AUC-ROC will be the primary metric to compare, and accuracy will be the secondary metric.\n",
    "\n",
    "The class imbalance will be addressed within the model's parameters."
   ]
  },
  {
   "cell_type": "markdown",
   "id": "c34f3d08",
   "metadata": {},
   "source": [
    "### Model 1: Logistic Regression\n",
    "\n",
    "The first model used will be Logistic Regression. Categorical variables will need to be encoded. "
   ]
  },
  {
   "cell_type": "code",
   "execution_count": 47,
   "id": "4595b57f",
   "metadata": {},
   "outputs": [
    {
     "data": {
      "text/html": [
       "<style>#sk-container-id-1 {color: black;background-color: white;}#sk-container-id-1 pre{padding: 0;}#sk-container-id-1 div.sk-toggleable {background-color: white;}#sk-container-id-1 label.sk-toggleable__label {cursor: pointer;display: block;width: 100%;margin-bottom: 0;padding: 0.3em;box-sizing: border-box;text-align: center;}#sk-container-id-1 label.sk-toggleable__label-arrow:before {content: \"▸\";float: left;margin-right: 0.25em;color: #696969;}#sk-container-id-1 label.sk-toggleable__label-arrow:hover:before {color: black;}#sk-container-id-1 div.sk-estimator:hover label.sk-toggleable__label-arrow:before {color: black;}#sk-container-id-1 div.sk-toggleable__content {max-height: 0;max-width: 0;overflow: hidden;text-align: left;background-color: #f0f8ff;}#sk-container-id-1 div.sk-toggleable__content pre {margin: 0.2em;color: black;border-radius: 0.25em;background-color: #f0f8ff;}#sk-container-id-1 input.sk-toggleable__control:checked~div.sk-toggleable__content {max-height: 200px;max-width: 100%;overflow: auto;}#sk-container-id-1 input.sk-toggleable__control:checked~label.sk-toggleable__label-arrow:before {content: \"▾\";}#sk-container-id-1 div.sk-estimator input.sk-toggleable__control:checked~label.sk-toggleable__label {background-color: #d4ebff;}#sk-container-id-1 div.sk-label input.sk-toggleable__control:checked~label.sk-toggleable__label {background-color: #d4ebff;}#sk-container-id-1 input.sk-hidden--visually {border: 0;clip: rect(1px 1px 1px 1px);clip: rect(1px, 1px, 1px, 1px);height: 1px;margin: -1px;overflow: hidden;padding: 0;position: absolute;width: 1px;}#sk-container-id-1 div.sk-estimator {font-family: monospace;background-color: #f0f8ff;border: 1px dotted black;border-radius: 0.25em;box-sizing: border-box;margin-bottom: 0.5em;}#sk-container-id-1 div.sk-estimator:hover {background-color: #d4ebff;}#sk-container-id-1 div.sk-parallel-item::after {content: \"\";width: 100%;border-bottom: 1px solid gray;flex-grow: 1;}#sk-container-id-1 div.sk-label:hover label.sk-toggleable__label {background-color: #d4ebff;}#sk-container-id-1 div.sk-serial::before {content: \"\";position: absolute;border-left: 1px solid gray;box-sizing: border-box;top: 0;bottom: 0;left: 50%;z-index: 0;}#sk-container-id-1 div.sk-serial {display: flex;flex-direction: column;align-items: center;background-color: white;padding-right: 0.2em;padding-left: 0.2em;position: relative;}#sk-container-id-1 div.sk-item {position: relative;z-index: 1;}#sk-container-id-1 div.sk-parallel {display: flex;align-items: stretch;justify-content: center;background-color: white;position: relative;}#sk-container-id-1 div.sk-item::before, #sk-container-id-1 div.sk-parallel-item::before {content: \"\";position: absolute;border-left: 1px solid gray;box-sizing: border-box;top: 0;bottom: 0;left: 50%;z-index: -1;}#sk-container-id-1 div.sk-parallel-item {display: flex;flex-direction: column;z-index: 1;position: relative;background-color: white;}#sk-container-id-1 div.sk-parallel-item:first-child::after {align-self: flex-end;width: 50%;}#sk-container-id-1 div.sk-parallel-item:last-child::after {align-self: flex-start;width: 50%;}#sk-container-id-1 div.sk-parallel-item:only-child::after {width: 0;}#sk-container-id-1 div.sk-dashed-wrapped {border: 1px dashed gray;margin: 0 0.4em 0.5em 0.4em;box-sizing: border-box;padding-bottom: 0.4em;background-color: white;}#sk-container-id-1 div.sk-label label {font-family: monospace;font-weight: bold;display: inline-block;line-height: 1.2em;}#sk-container-id-1 div.sk-label-container {text-align: center;}#sk-container-id-1 div.sk-container {/* jupyter's `normalize.less` sets `[hidden] { display: none; }` but bootstrap.min.css set `[hidden] { display: none !important; }` so we also need the `!important` here to be able to override the default hidden behavior on the sphinx rendered scikit-learn.org. See: https://github.com/scikit-learn/scikit-learn/issues/21755 */display: inline-block !important;position: relative;}#sk-container-id-1 div.sk-text-repr-fallback {display: none;}</style><div id=\"sk-container-id-1\" class=\"sk-top-container\"><div class=\"sk-text-repr-fallback\"><pre>ColumnTransformer(remainder=&#x27;passthrough&#x27;,\n",
       "                  transformers=[(&#x27;one-hot-encoder&#x27;, OneHotEncoder(drop=&#x27;first&#x27;),\n",
       "                                 [&#x27;type&#x27;, &#x27;internet_type&#x27;, &#x27;gender&#x27;,\n",
       "                                  &#x27;payment_method&#x27;])])</pre><b>In a Jupyter environment, please rerun this cell to show the HTML representation or trust the notebook. <br />On GitHub, the HTML representation is unable to render, please try loading this page with nbviewer.org.</b></div><div class=\"sk-container\" hidden><div class=\"sk-item sk-dashed-wrapped\"><div class=\"sk-label-container\"><div class=\"sk-label sk-toggleable\"><input class=\"sk-toggleable__control sk-hidden--visually\" id=\"sk-estimator-id-1\" type=\"checkbox\" ><label for=\"sk-estimator-id-1\" class=\"sk-toggleable__label sk-toggleable__label-arrow\">ColumnTransformer</label><div class=\"sk-toggleable__content\"><pre>ColumnTransformer(remainder=&#x27;passthrough&#x27;,\n",
       "                  transformers=[(&#x27;one-hot-encoder&#x27;, OneHotEncoder(drop=&#x27;first&#x27;),\n",
       "                                 [&#x27;type&#x27;, &#x27;internet_type&#x27;, &#x27;gender&#x27;,\n",
       "                                  &#x27;payment_method&#x27;])])</pre></div></div></div><div class=\"sk-parallel\"><div class=\"sk-parallel-item\"><div class=\"sk-item\"><div class=\"sk-label-container\"><div class=\"sk-label sk-toggleable\"><input class=\"sk-toggleable__control sk-hidden--visually\" id=\"sk-estimator-id-2\" type=\"checkbox\" ><label for=\"sk-estimator-id-2\" class=\"sk-toggleable__label sk-toggleable__label-arrow\">one-hot-encoder</label><div class=\"sk-toggleable__content\"><pre>[&#x27;type&#x27;, &#x27;internet_type&#x27;, &#x27;gender&#x27;, &#x27;payment_method&#x27;]</pre></div></div></div><div class=\"sk-serial\"><div class=\"sk-item\"><div class=\"sk-estimator sk-toggleable\"><input class=\"sk-toggleable__control sk-hidden--visually\" id=\"sk-estimator-id-3\" type=\"checkbox\" ><label for=\"sk-estimator-id-3\" class=\"sk-toggleable__label sk-toggleable__label-arrow\">OneHotEncoder</label><div class=\"sk-toggleable__content\"><pre>OneHotEncoder(drop=&#x27;first&#x27;)</pre></div></div></div></div></div></div><div class=\"sk-parallel-item\"><div class=\"sk-item\"><div class=\"sk-label-container\"><div class=\"sk-label sk-toggleable\"><input class=\"sk-toggleable__control sk-hidden--visually\" id=\"sk-estimator-id-4\" type=\"checkbox\" ><label for=\"sk-estimator-id-4\" class=\"sk-toggleable__label sk-toggleable__label-arrow\">remainder</label><div class=\"sk-toggleable__content\"><pre>[&#x27;paperless_billing&#x27;, &#x27;monthly_charges&#x27;, &#x27;total_charges&#x27;, &#x27;internet_security&#x27;, &#x27;internet_backup&#x27;, &#x27;internet_device_protection&#x27;, &#x27;internet_tech_support&#x27;, &#x27;internet_tv&#x27;, &#x27;internet_movies&#x27;, &#x27;is_senior_citizen&#x27;, &#x27;has_partner&#x27;, &#x27;has_dependents&#x27;, &#x27;has_multiple_lines&#x27;, &#x27;begin_year&#x27;, &#x27;begin_month&#x27;]</pre></div></div></div><div class=\"sk-serial\"><div class=\"sk-item\"><div class=\"sk-estimator sk-toggleable\"><input class=\"sk-toggleable__control sk-hidden--visually\" id=\"sk-estimator-id-5\" type=\"checkbox\" ><label for=\"sk-estimator-id-5\" class=\"sk-toggleable__label sk-toggleable__label-arrow\">passthrough</label><div class=\"sk-toggleable__content\"><pre>passthrough</pre></div></div></div></div></div></div></div></div></div></div>"
      ],
      "text/plain": [
       "ColumnTransformer(remainder='passthrough',\n",
       "                  transformers=[('one-hot-encoder', OneHotEncoder(drop='first'),\n",
       "                                 ['type', 'internet_type', 'gender',\n",
       "                                  'payment_method'])])"
      ]
     },
     "execution_count": 47,
     "metadata": {},
     "output_type": "execute_result"
    }
   ],
   "source": [
    "# define categorical columns\n",
    "categorical = ['type', 'internet_type', 'gender', 'payment_method'] \n",
    "\n",
    "# create ColumnTransformer to encode columns\n",
    "ct = ColumnTransformer(\n",
    "    [('one-hot-encoder', OneHotEncoder(drop='first'), categorical)], remainder='passthrough')\n",
    "\n",
    "# fit on training set\n",
    "ct.fit(features_train)"
   ]
  },
  {
   "cell_type": "code",
   "execution_count": 48,
   "id": "532952db",
   "metadata": {},
   "outputs": [],
   "source": [
    "# apply column transformer to training and validation sets\n",
    "features_train_ohe = ct.transform(features_train)\n",
    "features_valid_ohe = ct.transform(features_valid)"
   ]
  },
  {
   "cell_type": "code",
   "execution_count": 49,
   "id": "1391b082",
   "metadata": {},
   "outputs": [],
   "source": [
    "# empty dataframe to store model results\n",
    "model_scores = pd.DataFrame(columns=['model', 'auc_roc', 'accuracy'])"
   ]
  },
  {
   "cell_type": "code",
   "execution_count": 50,
   "id": "8aa9954d",
   "metadata": {},
   "outputs": [
    {
     "name": "stdout",
     "output_type": "stream",
     "text": [
      "AUC_ROC: 0.8232493132457722\n",
      "ACCURACY: 0.7430801987224982\n"
     ]
    }
   ],
   "source": [
    "# create and fit model\n",
    "lr_model = LogisticRegression(random_state=STATE, solver='liblinear', class_weight='balanced')\n",
    "lr_model.fit(features_train_ohe, target_train.values.ravel())\n",
    "\n",
    "# predict probs\n",
    "res_valid = lr_model.predict(features_valid_ohe)\n",
    "proba_valid = lr_model.predict_proba(features_valid_ohe)\n",
    "proba_one_valid = proba_valid[:, 1]\n",
    "\n",
    "# calculate AUC-ROC and accuracy\n",
    "roc_auc = roc_auc_score(target_valid, proba_one_valid)\n",
    "acc = accuracy_score(target_valid, res_valid)\n",
    "\n",
    "print(f'AUC_ROC: {roc_auc}')\n",
    "print(f'ACCURACY: {acc}')"
   ]
  },
  {
   "cell_type": "code",
   "execution_count": 51,
   "id": "b206c260",
   "metadata": {},
   "outputs": [],
   "source": [
    "# add model to dataframe\n",
    "model_scores.loc[len(model_scores.index)] = ['Logistic Regression', roc_auc, acc]"
   ]
  },
  {
   "cell_type": "markdown",
   "id": "74ed28f9",
   "metadata": {},
   "source": [
    "### Model 2: Random Forest\n",
    "\n",
    "The second model to test will be Random Forest. I will use the OrdinalEncoder to encode its columns."
   ]
  },
  {
   "cell_type": "code",
   "execution_count": 52,
   "id": "24d8ddbc",
   "metadata": {},
   "outputs": [],
   "source": [
    "# encode data\n",
    "encoder = OrdinalEncoder()\n",
    "\n",
    "# create copies\n",
    "features_train_encoded = features_train.copy()\n",
    "features_valid_encoded = features_valid.copy()\n",
    "features_test_encoded = features_test.copy()\n",
    "\n",
    "# only fit encoder on the training set\n",
    "encoder.fit(features_train_encoded[categorical])\n",
    "\n",
    "# transform training and validation sets\n",
    "features_train_encoded[categorical] = encoder.transform(features_train[categorical].astype('str'))\n",
    "features_valid_encoded[categorical] = encoder.transform(features_valid_encoded[categorical].astype('str'))\n",
    "features_test_encoded[categorical] = encoder.transform(features_test_encoded[categorical].astype('str'))"
   ]
  },
  {
   "cell_type": "code",
   "execution_count": 53,
   "id": "0dac28ed",
   "metadata": {
    "scrolled": true
   },
   "outputs": [
    {
     "name": "stdout",
     "output_type": "stream",
     "text": [
      "CPU times: user 49.2 s, sys: 133 ms, total: 49.3 s\n",
      "Wall time: 49.5 s\n"
     ]
    },
    {
     "data": {
      "text/html": [
       "<style>#sk-container-id-2 {color: black;background-color: white;}#sk-container-id-2 pre{padding: 0;}#sk-container-id-2 div.sk-toggleable {background-color: white;}#sk-container-id-2 label.sk-toggleable__label {cursor: pointer;display: block;width: 100%;margin-bottom: 0;padding: 0.3em;box-sizing: border-box;text-align: center;}#sk-container-id-2 label.sk-toggleable__label-arrow:before {content: \"▸\";float: left;margin-right: 0.25em;color: #696969;}#sk-container-id-2 label.sk-toggleable__label-arrow:hover:before {color: black;}#sk-container-id-2 div.sk-estimator:hover label.sk-toggleable__label-arrow:before {color: black;}#sk-container-id-2 div.sk-toggleable__content {max-height: 0;max-width: 0;overflow: hidden;text-align: left;background-color: #f0f8ff;}#sk-container-id-2 div.sk-toggleable__content pre {margin: 0.2em;color: black;border-radius: 0.25em;background-color: #f0f8ff;}#sk-container-id-2 input.sk-toggleable__control:checked~div.sk-toggleable__content {max-height: 200px;max-width: 100%;overflow: auto;}#sk-container-id-2 input.sk-toggleable__control:checked~label.sk-toggleable__label-arrow:before {content: \"▾\";}#sk-container-id-2 div.sk-estimator input.sk-toggleable__control:checked~label.sk-toggleable__label {background-color: #d4ebff;}#sk-container-id-2 div.sk-label input.sk-toggleable__control:checked~label.sk-toggleable__label {background-color: #d4ebff;}#sk-container-id-2 input.sk-hidden--visually {border: 0;clip: rect(1px 1px 1px 1px);clip: rect(1px, 1px, 1px, 1px);height: 1px;margin: -1px;overflow: hidden;padding: 0;position: absolute;width: 1px;}#sk-container-id-2 div.sk-estimator {font-family: monospace;background-color: #f0f8ff;border: 1px dotted black;border-radius: 0.25em;box-sizing: border-box;margin-bottom: 0.5em;}#sk-container-id-2 div.sk-estimator:hover {background-color: #d4ebff;}#sk-container-id-2 div.sk-parallel-item::after {content: \"\";width: 100%;border-bottom: 1px solid gray;flex-grow: 1;}#sk-container-id-2 div.sk-label:hover label.sk-toggleable__label {background-color: #d4ebff;}#sk-container-id-2 div.sk-serial::before {content: \"\";position: absolute;border-left: 1px solid gray;box-sizing: border-box;top: 0;bottom: 0;left: 50%;z-index: 0;}#sk-container-id-2 div.sk-serial {display: flex;flex-direction: column;align-items: center;background-color: white;padding-right: 0.2em;padding-left: 0.2em;position: relative;}#sk-container-id-2 div.sk-item {position: relative;z-index: 1;}#sk-container-id-2 div.sk-parallel {display: flex;align-items: stretch;justify-content: center;background-color: white;position: relative;}#sk-container-id-2 div.sk-item::before, #sk-container-id-2 div.sk-parallel-item::before {content: \"\";position: absolute;border-left: 1px solid gray;box-sizing: border-box;top: 0;bottom: 0;left: 50%;z-index: -1;}#sk-container-id-2 div.sk-parallel-item {display: flex;flex-direction: column;z-index: 1;position: relative;background-color: white;}#sk-container-id-2 div.sk-parallel-item:first-child::after {align-self: flex-end;width: 50%;}#sk-container-id-2 div.sk-parallel-item:last-child::after {align-self: flex-start;width: 50%;}#sk-container-id-2 div.sk-parallel-item:only-child::after {width: 0;}#sk-container-id-2 div.sk-dashed-wrapped {border: 1px dashed gray;margin: 0 0.4em 0.5em 0.4em;box-sizing: border-box;padding-bottom: 0.4em;background-color: white;}#sk-container-id-2 div.sk-label label {font-family: monospace;font-weight: bold;display: inline-block;line-height: 1.2em;}#sk-container-id-2 div.sk-label-container {text-align: center;}#sk-container-id-2 div.sk-container {/* jupyter's `normalize.less` sets `[hidden] { display: none; }` but bootstrap.min.css set `[hidden] { display: none !important; }` so we also need the `!important` here to be able to override the default hidden behavior on the sphinx rendered scikit-learn.org. See: https://github.com/scikit-learn/scikit-learn/issues/21755 */display: inline-block !important;position: relative;}#sk-container-id-2 div.sk-text-repr-fallback {display: none;}</style><div id=\"sk-container-id-2\" class=\"sk-top-container\"><div class=\"sk-text-repr-fallback\"><pre>GridSearchCV(cv=5,\n",
       "             estimator=RandomForestClassifier(class_weight=&#x27;balanced&#x27;,\n",
       "                                              random_state=12345),\n",
       "             param_grid={&#x27;criterion&#x27;: [&#x27;gini&#x27;, &#x27;entropy&#x27;],\n",
       "                         &#x27;max_depth&#x27;: [4, 5, 6, 7, 8],\n",
       "                         &#x27;max_features&#x27;: [&#x27;sqrt&#x27;, &#x27;log2&#x27;],\n",
       "                         &#x27;n_estimators&#x27;: [40, 80, 120]},\n",
       "             refit=&#x27;AUC&#x27;, return_train_score=True,\n",
       "             scoring={&#x27;AUC&#x27;: &#x27;roc_auc&#x27;,\n",
       "                      &#x27;Accuracy&#x27;: make_scorer(accuracy_score)})</pre><b>In a Jupyter environment, please rerun this cell to show the HTML representation or trust the notebook. <br />On GitHub, the HTML representation is unable to render, please try loading this page with nbviewer.org.</b></div><div class=\"sk-container\" hidden><div class=\"sk-item sk-dashed-wrapped\"><div class=\"sk-label-container\"><div class=\"sk-label sk-toggleable\"><input class=\"sk-toggleable__control sk-hidden--visually\" id=\"sk-estimator-id-6\" type=\"checkbox\" ><label for=\"sk-estimator-id-6\" class=\"sk-toggleable__label sk-toggleable__label-arrow\">GridSearchCV</label><div class=\"sk-toggleable__content\"><pre>GridSearchCV(cv=5,\n",
       "             estimator=RandomForestClassifier(class_weight=&#x27;balanced&#x27;,\n",
       "                                              random_state=12345),\n",
       "             param_grid={&#x27;criterion&#x27;: [&#x27;gini&#x27;, &#x27;entropy&#x27;],\n",
       "                         &#x27;max_depth&#x27;: [4, 5, 6, 7, 8],\n",
       "                         &#x27;max_features&#x27;: [&#x27;sqrt&#x27;, &#x27;log2&#x27;],\n",
       "                         &#x27;n_estimators&#x27;: [40, 80, 120]},\n",
       "             refit=&#x27;AUC&#x27;, return_train_score=True,\n",
       "             scoring={&#x27;AUC&#x27;: &#x27;roc_auc&#x27;,\n",
       "                      &#x27;Accuracy&#x27;: make_scorer(accuracy_score)})</pre></div></div></div><div class=\"sk-parallel\"><div class=\"sk-parallel-item\"><div class=\"sk-item\"><div class=\"sk-label-container\"><div class=\"sk-label sk-toggleable\"><input class=\"sk-toggleable__control sk-hidden--visually\" id=\"sk-estimator-id-7\" type=\"checkbox\" ><label for=\"sk-estimator-id-7\" class=\"sk-toggleable__label sk-toggleable__label-arrow\">estimator: RandomForestClassifier</label><div class=\"sk-toggleable__content\"><pre>RandomForestClassifier(class_weight=&#x27;balanced&#x27;, random_state=12345)</pre></div></div></div><div class=\"sk-serial\"><div class=\"sk-item\"><div class=\"sk-estimator sk-toggleable\"><input class=\"sk-toggleable__control sk-hidden--visually\" id=\"sk-estimator-id-8\" type=\"checkbox\" ><label for=\"sk-estimator-id-8\" class=\"sk-toggleable__label sk-toggleable__label-arrow\">RandomForestClassifier</label><div class=\"sk-toggleable__content\"><pre>RandomForestClassifier(class_weight=&#x27;balanced&#x27;, random_state=12345)</pre></div></div></div></div></div></div></div></div></div></div>"
      ],
      "text/plain": [
       "GridSearchCV(cv=5,\n",
       "             estimator=RandomForestClassifier(class_weight='balanced',\n",
       "                                              random_state=12345),\n",
       "             param_grid={'criterion': ['gini', 'entropy'],\n",
       "                         'max_depth': [4, 5, 6, 7, 8],\n",
       "                         'max_features': ['sqrt', 'log2'],\n",
       "                         'n_estimators': [40, 80, 120]},\n",
       "             refit='AUC', return_train_score=True,\n",
       "             scoring={'AUC': 'roc_auc',\n",
       "                      'Accuracy': make_scorer(accuracy_score)})"
      ]
     },
     "execution_count": 53,
     "metadata": {},
     "output_type": "execute_result"
    }
   ],
   "source": [
    "%%time\n",
    "\n",
    "# create random forest model\n",
    "rf_model = RandomForestClassifier(random_state=STATE, class_weight='balanced')\n",
    "\n",
    "# use grid search for hyperparameter tuning\n",
    "param_grid = { \n",
    "    'n_estimators': [40, 80, 120],\n",
    "    'max_features': ['sqrt', 'log2'],\n",
    "    'max_depth' : [4, 5, 6, 7, 8],\n",
    "    'criterion' :['gini', 'entropy']\n",
    "}\n",
    "\n",
    "scoring = {\"AUC\": \"roc_auc\", \"Accuracy\": make_scorer(accuracy_score)}\n",
    "CV_rf = GridSearchCV(estimator=rf_model, param_grid=param_grid, cv=5,\n",
    "                     scoring=scoring, refit=\"AUC\", return_train_score=True)\n",
    "CV_rf.fit(features_train_encoded, target_train.values.ravel())"
   ]
  },
  {
   "cell_type": "code",
   "execution_count": 54,
   "id": "235b7794",
   "metadata": {},
   "outputs": [
    {
     "data": {
      "text/plain": [
       "{'criterion': 'gini',\n",
       " 'max_depth': 8,\n",
       " 'max_features': 'sqrt',\n",
       " 'n_estimators': 120}"
      ]
     },
     "execution_count": 54,
     "metadata": {},
     "output_type": "execute_result"
    }
   ],
   "source": [
    "# view best hyperparameters\n",
    "CV_rf.best_params_"
   ]
  },
  {
   "cell_type": "code",
   "execution_count": 55,
   "id": "75071d2e",
   "metadata": {},
   "outputs": [
    {
     "name": "stdout",
     "output_type": "stream",
     "text": [
      "AUC_ROC: 0.8600389518413598\n",
      "ACCURACY: 0.7778566359119943\n"
     ]
    }
   ],
   "source": [
    "# predict probs\n",
    "res_valid = CV_rf.predict(features_valid_encoded)\n",
    "proba_valid = CV_rf.predict_proba(features_valid_encoded)\n",
    "proba_one_valid = proba_valid[:, 1]\n",
    "\n",
    "# calculate AUC-ROC and accuracy\n",
    "roc_auc = roc_auc_score(target_valid, proba_one_valid)\n",
    "acc = accuracy_score(target_valid, res_valid)\n",
    "\n",
    "print(f'AUC_ROC: {roc_auc}')\n",
    "print(f'ACCURACY: {acc}')"
   ]
  },
  {
   "cell_type": "code",
   "execution_count": 56,
   "id": "24fcfcef",
   "metadata": {},
   "outputs": [],
   "source": [
    "# add model to dataframe\n",
    "model_scores.loc[len(model_scores.index)] = ['Random Forest', roc_auc, acc]"
   ]
  },
  {
   "cell_type": "markdown",
   "id": "57f66a76",
   "metadata": {},
   "source": [
    "### Model 3: CatBoost"
   ]
  },
  {
   "cell_type": "code",
   "execution_count": 57,
   "id": "62fec2b3",
   "metadata": {
    "scrolled": true
   },
   "outputs": [
    {
     "name": "stdout",
     "output_type": "stream",
     "text": [
      "CPU times: user 4min 54s, sys: 2min 19s, total: 7min 13s\n",
      "Wall time: 2min 47s\n"
     ]
    },
    {
     "data": {
      "text/html": [
       "<style>#sk-container-id-3 {color: black;background-color: white;}#sk-container-id-3 pre{padding: 0;}#sk-container-id-3 div.sk-toggleable {background-color: white;}#sk-container-id-3 label.sk-toggleable__label {cursor: pointer;display: block;width: 100%;margin-bottom: 0;padding: 0.3em;box-sizing: border-box;text-align: center;}#sk-container-id-3 label.sk-toggleable__label-arrow:before {content: \"▸\";float: left;margin-right: 0.25em;color: #696969;}#sk-container-id-3 label.sk-toggleable__label-arrow:hover:before {color: black;}#sk-container-id-3 div.sk-estimator:hover label.sk-toggleable__label-arrow:before {color: black;}#sk-container-id-3 div.sk-toggleable__content {max-height: 0;max-width: 0;overflow: hidden;text-align: left;background-color: #f0f8ff;}#sk-container-id-3 div.sk-toggleable__content pre {margin: 0.2em;color: black;border-radius: 0.25em;background-color: #f0f8ff;}#sk-container-id-3 input.sk-toggleable__control:checked~div.sk-toggleable__content {max-height: 200px;max-width: 100%;overflow: auto;}#sk-container-id-3 input.sk-toggleable__control:checked~label.sk-toggleable__label-arrow:before {content: \"▾\";}#sk-container-id-3 div.sk-estimator input.sk-toggleable__control:checked~label.sk-toggleable__label {background-color: #d4ebff;}#sk-container-id-3 div.sk-label input.sk-toggleable__control:checked~label.sk-toggleable__label {background-color: #d4ebff;}#sk-container-id-3 input.sk-hidden--visually {border: 0;clip: rect(1px 1px 1px 1px);clip: rect(1px, 1px, 1px, 1px);height: 1px;margin: -1px;overflow: hidden;padding: 0;position: absolute;width: 1px;}#sk-container-id-3 div.sk-estimator {font-family: monospace;background-color: #f0f8ff;border: 1px dotted black;border-radius: 0.25em;box-sizing: border-box;margin-bottom: 0.5em;}#sk-container-id-3 div.sk-estimator:hover {background-color: #d4ebff;}#sk-container-id-3 div.sk-parallel-item::after {content: \"\";width: 100%;border-bottom: 1px solid gray;flex-grow: 1;}#sk-container-id-3 div.sk-label:hover label.sk-toggleable__label {background-color: #d4ebff;}#sk-container-id-3 div.sk-serial::before {content: \"\";position: absolute;border-left: 1px solid gray;box-sizing: border-box;top: 0;bottom: 0;left: 50%;z-index: 0;}#sk-container-id-3 div.sk-serial {display: flex;flex-direction: column;align-items: center;background-color: white;padding-right: 0.2em;padding-left: 0.2em;position: relative;}#sk-container-id-3 div.sk-item {position: relative;z-index: 1;}#sk-container-id-3 div.sk-parallel {display: flex;align-items: stretch;justify-content: center;background-color: white;position: relative;}#sk-container-id-3 div.sk-item::before, #sk-container-id-3 div.sk-parallel-item::before {content: \"\";position: absolute;border-left: 1px solid gray;box-sizing: border-box;top: 0;bottom: 0;left: 50%;z-index: -1;}#sk-container-id-3 div.sk-parallel-item {display: flex;flex-direction: column;z-index: 1;position: relative;background-color: white;}#sk-container-id-3 div.sk-parallel-item:first-child::after {align-self: flex-end;width: 50%;}#sk-container-id-3 div.sk-parallel-item:last-child::after {align-self: flex-start;width: 50%;}#sk-container-id-3 div.sk-parallel-item:only-child::after {width: 0;}#sk-container-id-3 div.sk-dashed-wrapped {border: 1px dashed gray;margin: 0 0.4em 0.5em 0.4em;box-sizing: border-box;padding-bottom: 0.4em;background-color: white;}#sk-container-id-3 div.sk-label label {font-family: monospace;font-weight: bold;display: inline-block;line-height: 1.2em;}#sk-container-id-3 div.sk-label-container {text-align: center;}#sk-container-id-3 div.sk-container {/* jupyter's `normalize.less` sets `[hidden] { display: none; }` but bootstrap.min.css set `[hidden] { display: none !important; }` so we also need the `!important` here to be able to override the default hidden behavior on the sphinx rendered scikit-learn.org. See: https://github.com/scikit-learn/scikit-learn/issues/21755 */display: inline-block !important;position: relative;}#sk-container-id-3 div.sk-text-repr-fallback {display: none;}</style><div id=\"sk-container-id-3\" class=\"sk-top-container\"><div class=\"sk-text-repr-fallback\"><pre>GridSearchCV(cv=5,\n",
       "             estimator=&lt;catboost.core.CatBoostClassifier object at 0x147d747c0&gt;,\n",
       "             param_grid={&#x27;depth&#x27;: [5, 6, 7],\n",
       "                         &#x27;iterations&#x27;: [140, 150, 160, 170, 180, 190, 200],\n",
       "                         &#x27;learning_rate&#x27;: [0.04, 0.05, 0.06, 0.08, 0.1]},\n",
       "             scoring=&#x27;roc_auc&#x27;)</pre><b>In a Jupyter environment, please rerun this cell to show the HTML representation or trust the notebook. <br />On GitHub, the HTML representation is unable to render, please try loading this page with nbviewer.org.</b></div><div class=\"sk-container\" hidden><div class=\"sk-item sk-dashed-wrapped\"><div class=\"sk-label-container\"><div class=\"sk-label sk-toggleable\"><input class=\"sk-toggleable__control sk-hidden--visually\" id=\"sk-estimator-id-9\" type=\"checkbox\" ><label for=\"sk-estimator-id-9\" class=\"sk-toggleable__label sk-toggleable__label-arrow\">GridSearchCV</label><div class=\"sk-toggleable__content\"><pre>GridSearchCV(cv=5,\n",
       "             estimator=&lt;catboost.core.CatBoostClassifier object at 0x147d747c0&gt;,\n",
       "             param_grid={&#x27;depth&#x27;: [5, 6, 7],\n",
       "                         &#x27;iterations&#x27;: [140, 150, 160, 170, 180, 190, 200],\n",
       "                         &#x27;learning_rate&#x27;: [0.04, 0.05, 0.06, 0.08, 0.1]},\n",
       "             scoring=&#x27;roc_auc&#x27;)</pre></div></div></div><div class=\"sk-parallel\"><div class=\"sk-parallel-item\"><div class=\"sk-item\"><div class=\"sk-label-container\"><div class=\"sk-label sk-toggleable\"><input class=\"sk-toggleable__control sk-hidden--visually\" id=\"sk-estimator-id-10\" type=\"checkbox\" ><label for=\"sk-estimator-id-10\" class=\"sk-toggleable__label sk-toggleable__label-arrow\">estimator: CatBoostClassifier</label><div class=\"sk-toggleable__content\"><pre>&lt;catboost.core.CatBoostClassifier object at 0x147d747c0&gt;</pre></div></div></div><div class=\"sk-serial\"><div class=\"sk-item\"><div class=\"sk-estimator sk-toggleable\"><input class=\"sk-toggleable__control sk-hidden--visually\" id=\"sk-estimator-id-11\" type=\"checkbox\" ><label for=\"sk-estimator-id-11\" class=\"sk-toggleable__label sk-toggleable__label-arrow\">CatBoostClassifier</label><div class=\"sk-toggleable__content\"><pre>&lt;catboost.core.CatBoostClassifier object at 0x147d747c0&gt;</pre></div></div></div></div></div></div></div></div></div></div>"
      ],
      "text/plain": [
       "GridSearchCV(cv=5,\n",
       "             estimator=<catboost.core.CatBoostClassifier object at 0x147d747c0>,\n",
       "             param_grid={'depth': [5, 6, 7],\n",
       "                         'iterations': [140, 150, 160, 170, 180, 190, 200],\n",
       "                         'learning_rate': [0.04, 0.05, 0.06, 0.08, 0.1]},\n",
       "             scoring='roc_auc')"
      ]
     },
     "execution_count": 57,
     "metadata": {},
     "output_type": "execute_result"
    }
   ],
   "source": [
    "%%time \n",
    "\n",
    "cb_model = CatBoostClassifier(random_seed=STATE, auto_class_weights='Balanced')\n",
    "\n",
    "param_grid = {'depth': [5, 6, 7],\n",
    "              'learning_rate' : [0.04, 0.05, 0.06, 0.08, 0.1],\n",
    "              'iterations'    : [140, 150, 160, 170, 180, 190, 200]\n",
    "             }\n",
    "\n",
    "CV_cb = GridSearchCV(estimator=cb_model, param_grid=param_grid, cv=5, scoring='roc_auc')\n",
    "CV_cb.fit(features_train, target_train, cat_features=categorical, verbose=0)"
   ]
  },
  {
   "cell_type": "code",
   "execution_count": 58,
   "id": "041bca18",
   "metadata": {},
   "outputs": [],
   "source": [
    "cb_best_params = CV_cb.best_params_\n",
    "\n",
    "cb_depth = cb_best_params['depth']\n",
    "cb_iterations = cb_best_params['iterations']\n",
    "cb_rate = cb_best_params['learning_rate']"
   ]
  },
  {
   "cell_type": "code",
   "execution_count": 59,
   "id": "1b788a7b",
   "metadata": {},
   "outputs": [
    {
     "data": {
      "text/plain": [
       "{'depth': 6, 'iterations': 200, 'learning_rate': 0.1}"
      ]
     },
     "execution_count": 59,
     "metadata": {},
     "output_type": "execute_result"
    }
   ],
   "source": [
    "cb_best_params"
   ]
  },
  {
   "cell_type": "code",
   "execution_count": 60,
   "id": "bad65b71",
   "metadata": {},
   "outputs": [
    {
     "name": "stdout",
     "output_type": "stream",
     "text": [
      "AUC_ROC: 0.8943256931925487\n",
      "ACCURACY: 0.8232789212207239\n"
     ]
    }
   ],
   "source": [
    "# predict probs\n",
    "res_valid = CV_cb.predict(features_valid)\n",
    "proba_valid = CV_cb.predict_proba(features_valid)\n",
    "proba_one_valid = proba_valid[:, 1]\n",
    "\n",
    "# calculate AUC-ROC and accuracy\n",
    "roc_auc = roc_auc_score(target_valid, proba_one_valid)\n",
    "acc = accuracy_score(target_valid, res_valid)\n",
    "\n",
    "print(f'AUC_ROC: {roc_auc}')\n",
    "print(f'ACCURACY: {acc}')"
   ]
  },
  {
   "cell_type": "code",
   "execution_count": 61,
   "id": "8c9e4be4",
   "metadata": {},
   "outputs": [],
   "source": [
    "# add model to dataframe\n",
    "model_scores.loc[len(model_scores.index)] = ['CatBoost', roc_auc, acc]"
   ]
  },
  {
   "cell_type": "markdown",
   "id": "8dd1a2a0",
   "metadata": {},
   "source": [
    "### Model 4: LightGBM"
   ]
  },
  {
   "cell_type": "code",
   "execution_count": 62,
   "id": "56929a46",
   "metadata": {},
   "outputs": [],
   "source": [
    "# address categorical features\n",
    "features_train_cat = features_train.copy()\n",
    "features_valid_cat = features_valid.copy()\n",
    "features_test_cat = features_test.copy()\n",
    "\n",
    "for col in categorical:\n",
    "    features_train_cat[col] = features_train_cat[col].astype('category')\n",
    "    features_valid_cat[col] = features_valid_cat[col].astype('category')\n",
    "    features_test_cat[col] = features_test_cat[col].astype('category')"
   ]
  },
  {
   "cell_type": "code",
   "execution_count": 63,
   "id": "1703d284",
   "metadata": {},
   "outputs": [
    {
     "data": {
      "text/plain": [
       "has_ended\n",
       "0            3088\n",
       "1            1137\n",
       "dtype: int64"
      ]
     },
     "execution_count": 63,
     "metadata": {},
     "output_type": "execute_result"
    }
   ],
   "source": [
    "# view class imbalance to set weight for LGBM\n",
    "target_train.value_counts()"
   ]
  },
  {
   "cell_type": "code",
   "execution_count": 64,
   "id": "e49a7f28",
   "metadata": {},
   "outputs": [
    {
     "name": "stdout",
     "output_type": "stream",
     "text": [
      "CPU times: user 1min 2s, sys: 1min 31s, total: 2min 34s\n",
      "Wall time: 1min 50s\n"
     ]
    },
    {
     "data": {
      "text/html": [
       "<style>#sk-container-id-4 {color: black;background-color: white;}#sk-container-id-4 pre{padding: 0;}#sk-container-id-4 div.sk-toggleable {background-color: white;}#sk-container-id-4 label.sk-toggleable__label {cursor: pointer;display: block;width: 100%;margin-bottom: 0;padding: 0.3em;box-sizing: border-box;text-align: center;}#sk-container-id-4 label.sk-toggleable__label-arrow:before {content: \"▸\";float: left;margin-right: 0.25em;color: #696969;}#sk-container-id-4 label.sk-toggleable__label-arrow:hover:before {color: black;}#sk-container-id-4 div.sk-estimator:hover label.sk-toggleable__label-arrow:before {color: black;}#sk-container-id-4 div.sk-toggleable__content {max-height: 0;max-width: 0;overflow: hidden;text-align: left;background-color: #f0f8ff;}#sk-container-id-4 div.sk-toggleable__content pre {margin: 0.2em;color: black;border-radius: 0.25em;background-color: #f0f8ff;}#sk-container-id-4 input.sk-toggleable__control:checked~div.sk-toggleable__content {max-height: 200px;max-width: 100%;overflow: auto;}#sk-container-id-4 input.sk-toggleable__control:checked~label.sk-toggleable__label-arrow:before {content: \"▾\";}#sk-container-id-4 div.sk-estimator input.sk-toggleable__control:checked~label.sk-toggleable__label {background-color: #d4ebff;}#sk-container-id-4 div.sk-label input.sk-toggleable__control:checked~label.sk-toggleable__label {background-color: #d4ebff;}#sk-container-id-4 input.sk-hidden--visually {border: 0;clip: rect(1px 1px 1px 1px);clip: rect(1px, 1px, 1px, 1px);height: 1px;margin: -1px;overflow: hidden;padding: 0;position: absolute;width: 1px;}#sk-container-id-4 div.sk-estimator {font-family: monospace;background-color: #f0f8ff;border: 1px dotted black;border-radius: 0.25em;box-sizing: border-box;margin-bottom: 0.5em;}#sk-container-id-4 div.sk-estimator:hover {background-color: #d4ebff;}#sk-container-id-4 div.sk-parallel-item::after {content: \"\";width: 100%;border-bottom: 1px solid gray;flex-grow: 1;}#sk-container-id-4 div.sk-label:hover label.sk-toggleable__label {background-color: #d4ebff;}#sk-container-id-4 div.sk-serial::before {content: \"\";position: absolute;border-left: 1px solid gray;box-sizing: border-box;top: 0;bottom: 0;left: 50%;z-index: 0;}#sk-container-id-4 div.sk-serial {display: flex;flex-direction: column;align-items: center;background-color: white;padding-right: 0.2em;padding-left: 0.2em;position: relative;}#sk-container-id-4 div.sk-item {position: relative;z-index: 1;}#sk-container-id-4 div.sk-parallel {display: flex;align-items: stretch;justify-content: center;background-color: white;position: relative;}#sk-container-id-4 div.sk-item::before, #sk-container-id-4 div.sk-parallel-item::before {content: \"\";position: absolute;border-left: 1px solid gray;box-sizing: border-box;top: 0;bottom: 0;left: 50%;z-index: -1;}#sk-container-id-4 div.sk-parallel-item {display: flex;flex-direction: column;z-index: 1;position: relative;background-color: white;}#sk-container-id-4 div.sk-parallel-item:first-child::after {align-self: flex-end;width: 50%;}#sk-container-id-4 div.sk-parallel-item:last-child::after {align-self: flex-start;width: 50%;}#sk-container-id-4 div.sk-parallel-item:only-child::after {width: 0;}#sk-container-id-4 div.sk-dashed-wrapped {border: 1px dashed gray;margin: 0 0.4em 0.5em 0.4em;box-sizing: border-box;padding-bottom: 0.4em;background-color: white;}#sk-container-id-4 div.sk-label label {font-family: monospace;font-weight: bold;display: inline-block;line-height: 1.2em;}#sk-container-id-4 div.sk-label-container {text-align: center;}#sk-container-id-4 div.sk-container {/* jupyter's `normalize.less` sets `[hidden] { display: none; }` but bootstrap.min.css set `[hidden] { display: none !important; }` so we also need the `!important` here to be able to override the default hidden behavior on the sphinx rendered scikit-learn.org. See: https://github.com/scikit-learn/scikit-learn/issues/21755 */display: inline-block !important;position: relative;}#sk-container-id-4 div.sk-text-repr-fallback {display: none;}</style><div id=\"sk-container-id-4\" class=\"sk-top-container\"><div class=\"sk-text-repr-fallback\"><pre>GridSearchCV(cv=5,\n",
       "             estimator=LGBMClassifier(random_state=12345, scale_pos_weight=3),\n",
       "             param_grid={&#x27;max_depth&#x27;: [5, 6, 7, 8],\n",
       "                         &#x27;n_estimators&#x27;: [110, 120, 130, 140],\n",
       "                         &#x27;num_leaves&#x27;: [20, 25, 30, 40, 50]},\n",
       "             scoring=&#x27;roc_auc&#x27;)</pre><b>In a Jupyter environment, please rerun this cell to show the HTML representation or trust the notebook. <br />On GitHub, the HTML representation is unable to render, please try loading this page with nbviewer.org.</b></div><div class=\"sk-container\" hidden><div class=\"sk-item sk-dashed-wrapped\"><div class=\"sk-label-container\"><div class=\"sk-label sk-toggleable\"><input class=\"sk-toggleable__control sk-hidden--visually\" id=\"sk-estimator-id-12\" type=\"checkbox\" ><label for=\"sk-estimator-id-12\" class=\"sk-toggleable__label sk-toggleable__label-arrow\">GridSearchCV</label><div class=\"sk-toggleable__content\"><pre>GridSearchCV(cv=5,\n",
       "             estimator=LGBMClassifier(random_state=12345, scale_pos_weight=3),\n",
       "             param_grid={&#x27;max_depth&#x27;: [5, 6, 7, 8],\n",
       "                         &#x27;n_estimators&#x27;: [110, 120, 130, 140],\n",
       "                         &#x27;num_leaves&#x27;: [20, 25, 30, 40, 50]},\n",
       "             scoring=&#x27;roc_auc&#x27;)</pre></div></div></div><div class=\"sk-parallel\"><div class=\"sk-parallel-item\"><div class=\"sk-item\"><div class=\"sk-label-container\"><div class=\"sk-label sk-toggleable\"><input class=\"sk-toggleable__control sk-hidden--visually\" id=\"sk-estimator-id-13\" type=\"checkbox\" ><label for=\"sk-estimator-id-13\" class=\"sk-toggleable__label sk-toggleable__label-arrow\">estimator: LGBMClassifier</label><div class=\"sk-toggleable__content\"><pre>LGBMClassifier(random_state=12345, scale_pos_weight=3)</pre></div></div></div><div class=\"sk-serial\"><div class=\"sk-item\"><div class=\"sk-estimator sk-toggleable\"><input class=\"sk-toggleable__control sk-hidden--visually\" id=\"sk-estimator-id-14\" type=\"checkbox\" ><label for=\"sk-estimator-id-14\" class=\"sk-toggleable__label sk-toggleable__label-arrow\">LGBMClassifier</label><div class=\"sk-toggleable__content\"><pre>LGBMClassifier(random_state=12345, scale_pos_weight=3)</pre></div></div></div></div></div></div></div></div></div></div>"
      ],
      "text/plain": [
       "GridSearchCV(cv=5,\n",
       "             estimator=LGBMClassifier(random_state=12345, scale_pos_weight=3),\n",
       "             param_grid={'max_depth': [5, 6, 7, 8],\n",
       "                         'n_estimators': [110, 120, 130, 140],\n",
       "                         'num_leaves': [20, 25, 30, 40, 50]},\n",
       "             scoring='roc_auc')"
      ]
     },
     "execution_count": 64,
     "metadata": {},
     "output_type": "execute_result"
    }
   ],
   "source": [
    "%%time\n",
    "\n",
    "# weight = number of negative samples / number of positive samples\n",
    "weight = 3088 / 1137\n",
    "\n",
    "# create LGBM model\n",
    "lgbm_model = LGBMClassifier(random_state=STATE, scale_pos_weight=3)\n",
    "\n",
    "# use grid search for hyperparameter tuning\n",
    "param_grid = { \n",
    "    'num_leaves': [20, 25, 30, 40, 50],\n",
    "    'max_depth': [5, 6, 7, 8],\n",
    "    'n_estimators' : [110, 120, 130, 140]\n",
    "}\n",
    "\n",
    "CV_lgbm = GridSearchCV(estimator=lgbm_model, param_grid=param_grid, cv=5, scoring='roc_auc')\n",
    "CV_lgbm.fit(features_train_cat, target_train.values.ravel())"
   ]
  },
  {
   "cell_type": "code",
   "execution_count": 65,
   "id": "b6f15403",
   "metadata": {},
   "outputs": [],
   "source": [
    "lgbm_best_params = CV_lgbm.best_params_\n",
    "\n",
    "lgbm_max_depth = lgbm_best_params['max_depth']\n",
    "lgbm_n_estimators = lgbm_best_params['n_estimators']\n",
    "lgbm_num_leaves = lgbm_best_params['num_leaves']"
   ]
  },
  {
   "cell_type": "code",
   "execution_count": 66,
   "id": "5bffc70e",
   "metadata": {},
   "outputs": [
    {
     "data": {
      "text/plain": [
       "{'max_depth': 7, 'n_estimators': 140, 'num_leaves': 30}"
      ]
     },
     "execution_count": 66,
     "metadata": {},
     "output_type": "execute_result"
    }
   ],
   "source": [
    "lgbm_best_params"
   ]
  },
  {
   "cell_type": "code",
   "execution_count": 67,
   "id": "b3ce205a",
   "metadata": {},
   "outputs": [
    {
     "name": "stdout",
     "output_type": "stream",
     "text": [
      "AUC_ROC: 0.9027572109193922\n",
      "ACCURACY: 0.8537970191625266\n"
     ]
    }
   ],
   "source": [
    "# predict probs\n",
    "res_valid = CV_lgbm.predict(features_valid_cat)\n",
    "proba_valid = CV_lgbm.predict_proba(features_valid_cat)\n",
    "proba_one_valid = proba_valid[:, 1]\n",
    "\n",
    "# calculate AUC-ROC and accuracy\n",
    "roc_auc = roc_auc_score(target_valid, proba_one_valid)\n",
    "acc = accuracy_score(target_valid, res_valid)\n",
    "\n",
    "print(f'AUC_ROC: {roc_auc}')\n",
    "print(f'ACCURACY: {acc}')"
   ]
  },
  {
   "cell_type": "code",
   "execution_count": 68,
   "id": "cd00ee09",
   "metadata": {},
   "outputs": [],
   "source": [
    "# add model to dataframe\n",
    "model_scores.loc[len(model_scores.index)] = ['LightGBM', roc_auc, acc]"
   ]
  },
  {
   "cell_type": "markdown",
   "id": "9118d70f",
   "metadata": {},
   "source": [
    "## Model Selection"
   ]
  },
  {
   "cell_type": "code",
   "execution_count": 72,
   "id": "540dbc4b",
   "metadata": {},
   "outputs": [
    {
     "data": {
      "text/html": [
       "<div>\n",
       "<style scoped>\n",
       "    .dataframe tbody tr th:only-of-type {\n",
       "        vertical-align: middle;\n",
       "    }\n",
       "\n",
       "    .dataframe tbody tr th {\n",
       "        vertical-align: top;\n",
       "    }\n",
       "\n",
       "    .dataframe thead th {\n",
       "        text-align: right;\n",
       "    }\n",
       "</style>\n",
       "<table border=\"1\" class=\"dataframe\">\n",
       "  <thead>\n",
       "    <tr style=\"text-align: right;\">\n",
       "      <th></th>\n",
       "      <th>model</th>\n",
       "      <th>auc_roc</th>\n",
       "      <th>accuracy</th>\n",
       "    </tr>\n",
       "  </thead>\n",
       "  <tbody>\n",
       "    <tr>\n",
       "      <th>0</th>\n",
       "      <td>Logistic Regression</td>\n",
       "      <td>0.823249</td>\n",
       "      <td>0.743080</td>\n",
       "    </tr>\n",
       "    <tr>\n",
       "      <th>1</th>\n",
       "      <td>Random Forest</td>\n",
       "      <td>0.860039</td>\n",
       "      <td>0.777857</td>\n",
       "    </tr>\n",
       "    <tr>\n",
       "      <th>2</th>\n",
       "      <td>CatBoost</td>\n",
       "      <td>0.894326</td>\n",
       "      <td>0.823279</td>\n",
       "    </tr>\n",
       "    <tr>\n",
       "      <th>3</th>\n",
       "      <td>LightGBM</td>\n",
       "      <td>0.902757</td>\n",
       "      <td>0.853797</td>\n",
       "    </tr>\n",
       "  </tbody>\n",
       "</table>\n",
       "</div>"
      ],
      "text/plain": [
       "                 model   auc_roc  accuracy\n",
       "0  Logistic Regression  0.823249  0.743080\n",
       "1        Random Forest  0.860039  0.777857\n",
       "2             CatBoost  0.894326  0.823279\n",
       "3             LightGBM  0.902757  0.853797"
      ]
     },
     "execution_count": 72,
     "metadata": {},
     "output_type": "execute_result"
    }
   ],
   "source": [
    "model_scores"
   ]
  },
  {
   "cell_type": "markdown",
   "id": "d1b48017",
   "metadata": {},
   "source": [
    "All models have an AUC_ROC above 0.82 and an accuracy above 0.74. LightGBM performs the best with an AUC-ROC of 0.90 and an accuracy of 0.85, so it will be used for the final evaluation of the model."
   ]
  },
  {
   "cell_type": "markdown",
   "id": "b5bec0d6",
   "metadata": {},
   "source": [
    "## Final Evaluation"
   ]
  },
  {
   "cell_type": "code",
   "execution_count": 70,
   "id": "1a3c74f1",
   "metadata": {},
   "outputs": [
    {
     "data": {
      "text/html": [
       "<style>#sk-container-id-5 {color: black;background-color: white;}#sk-container-id-5 pre{padding: 0;}#sk-container-id-5 div.sk-toggleable {background-color: white;}#sk-container-id-5 label.sk-toggleable__label {cursor: pointer;display: block;width: 100%;margin-bottom: 0;padding: 0.3em;box-sizing: border-box;text-align: center;}#sk-container-id-5 label.sk-toggleable__label-arrow:before {content: \"▸\";float: left;margin-right: 0.25em;color: #696969;}#sk-container-id-5 label.sk-toggleable__label-arrow:hover:before {color: black;}#sk-container-id-5 div.sk-estimator:hover label.sk-toggleable__label-arrow:before {color: black;}#sk-container-id-5 div.sk-toggleable__content {max-height: 0;max-width: 0;overflow: hidden;text-align: left;background-color: #f0f8ff;}#sk-container-id-5 div.sk-toggleable__content pre {margin: 0.2em;color: black;border-radius: 0.25em;background-color: #f0f8ff;}#sk-container-id-5 input.sk-toggleable__control:checked~div.sk-toggleable__content {max-height: 200px;max-width: 100%;overflow: auto;}#sk-container-id-5 input.sk-toggleable__control:checked~label.sk-toggleable__label-arrow:before {content: \"▾\";}#sk-container-id-5 div.sk-estimator input.sk-toggleable__control:checked~label.sk-toggleable__label {background-color: #d4ebff;}#sk-container-id-5 div.sk-label input.sk-toggleable__control:checked~label.sk-toggleable__label {background-color: #d4ebff;}#sk-container-id-5 input.sk-hidden--visually {border: 0;clip: rect(1px 1px 1px 1px);clip: rect(1px, 1px, 1px, 1px);height: 1px;margin: -1px;overflow: hidden;padding: 0;position: absolute;width: 1px;}#sk-container-id-5 div.sk-estimator {font-family: monospace;background-color: #f0f8ff;border: 1px dotted black;border-radius: 0.25em;box-sizing: border-box;margin-bottom: 0.5em;}#sk-container-id-5 div.sk-estimator:hover {background-color: #d4ebff;}#sk-container-id-5 div.sk-parallel-item::after {content: \"\";width: 100%;border-bottom: 1px solid gray;flex-grow: 1;}#sk-container-id-5 div.sk-label:hover label.sk-toggleable__label {background-color: #d4ebff;}#sk-container-id-5 div.sk-serial::before {content: \"\";position: absolute;border-left: 1px solid gray;box-sizing: border-box;top: 0;bottom: 0;left: 50%;z-index: 0;}#sk-container-id-5 div.sk-serial {display: flex;flex-direction: column;align-items: center;background-color: white;padding-right: 0.2em;padding-left: 0.2em;position: relative;}#sk-container-id-5 div.sk-item {position: relative;z-index: 1;}#sk-container-id-5 div.sk-parallel {display: flex;align-items: stretch;justify-content: center;background-color: white;position: relative;}#sk-container-id-5 div.sk-item::before, #sk-container-id-5 div.sk-parallel-item::before {content: \"\";position: absolute;border-left: 1px solid gray;box-sizing: border-box;top: 0;bottom: 0;left: 50%;z-index: -1;}#sk-container-id-5 div.sk-parallel-item {display: flex;flex-direction: column;z-index: 1;position: relative;background-color: white;}#sk-container-id-5 div.sk-parallel-item:first-child::after {align-self: flex-end;width: 50%;}#sk-container-id-5 div.sk-parallel-item:last-child::after {align-self: flex-start;width: 50%;}#sk-container-id-5 div.sk-parallel-item:only-child::after {width: 0;}#sk-container-id-5 div.sk-dashed-wrapped {border: 1px dashed gray;margin: 0 0.4em 0.5em 0.4em;box-sizing: border-box;padding-bottom: 0.4em;background-color: white;}#sk-container-id-5 div.sk-label label {font-family: monospace;font-weight: bold;display: inline-block;line-height: 1.2em;}#sk-container-id-5 div.sk-label-container {text-align: center;}#sk-container-id-5 div.sk-container {/* jupyter's `normalize.less` sets `[hidden] { display: none; }` but bootstrap.min.css set `[hidden] { display: none !important; }` so we also need the `!important` here to be able to override the default hidden behavior on the sphinx rendered scikit-learn.org. See: https://github.com/scikit-learn/scikit-learn/issues/21755 */display: inline-block !important;position: relative;}#sk-container-id-5 div.sk-text-repr-fallback {display: none;}</style><div id=\"sk-container-id-5\" class=\"sk-top-container\"><div class=\"sk-text-repr-fallback\"><pre>LGBMClassifier(max_depth=7, n_estimators=140, num_leaves=30, random_state=12345,\n",
       "               scale_pos_weight=2.7159190853122253)</pre><b>In a Jupyter environment, please rerun this cell to show the HTML representation or trust the notebook. <br />On GitHub, the HTML representation is unable to render, please try loading this page with nbviewer.org.</b></div><div class=\"sk-container\" hidden><div class=\"sk-item\"><div class=\"sk-estimator sk-toggleable\"><input class=\"sk-toggleable__control sk-hidden--visually\" id=\"sk-estimator-id-15\" type=\"checkbox\" checked><label for=\"sk-estimator-id-15\" class=\"sk-toggleable__label sk-toggleable__label-arrow\">LGBMClassifier</label><div class=\"sk-toggleable__content\"><pre>LGBMClassifier(max_depth=7, n_estimators=140, num_leaves=30, random_state=12345,\n",
       "               scale_pos_weight=2.7159190853122253)</pre></div></div></div></div></div>"
      ],
      "text/plain": [
       "LGBMClassifier(max_depth=7, n_estimators=140, num_leaves=30, random_state=12345,\n",
       "               scale_pos_weight=2.7159190853122253)"
      ]
     },
     "execution_count": 70,
     "metadata": {},
     "output_type": "execute_result"
    }
   ],
   "source": [
    "# combine training and validation sets for final training\n",
    "combined_train = pd.concat([features_train_cat, features_valid_cat])\n",
    "combined_target = pd.concat([target_train, target_valid])\n",
    "\n",
    "lgbm = LGBMClassifier(random_state=STATE, scale_pos_weight=weight,\n",
    "                      max_depth=lgbm_max_depth, n_estimators=lgbm_n_estimators,\n",
    "                      num_leaves=lgbm_num_leaves)\n",
    "\n",
    "lgbm.fit(combined_train, combined_target.values.ravel())"
   ]
  },
  {
   "cell_type": "code",
   "execution_count": 71,
   "id": "d5edc8fd",
   "metadata": {},
   "outputs": [
    {
     "name": "stdout",
     "output_type": "stream",
     "text": [
      "AUC_ROC: 0.9224453723390629\n",
      "ACCURACY: 0.8658623136976579\n"
     ]
    }
   ],
   "source": [
    "# predict probs\n",
    "res_valid = lgbm.predict(features_test_cat)\n",
    "proba_valid = lgbm.predict_proba(features_test_cat)\n",
    "proba_one_valid = proba_valid[:, 1]\n",
    "\n",
    "# calculate AUC-ROC and accuracy\n",
    "roc_auc = roc_auc_score(target_test, proba_one_valid)\n",
    "acc = accuracy_score(target_test, res_valid)\n",
    "\n",
    "print(f'AUC_ROC: {roc_auc}')\n",
    "print(f'ACCURACY: {acc}')"
   ]
  },
  {
   "cell_type": "markdown",
   "id": "ee36107b",
   "metadata": {},
   "source": [
    "## Conclusion"
   ]
  },
  {
   "cell_type": "code",
   "execution_count": 76,
   "id": "46b5999e",
   "metadata": {},
   "outputs": [
    {
     "data": {
      "text/html": [
       "\n",
       "    <style>\n",
       "    table.eli5-weights tr:hover {\n",
       "        filter: brightness(85%);\n",
       "    }\n",
       "</style>\n",
       "\n",
       "\n",
       "\n",
       "    \n",
       "\n",
       "    \n",
       "\n",
       "    \n",
       "\n",
       "    \n",
       "\n",
       "    \n",
       "\n",
       "    \n",
       "\n",
       "\n",
       "    \n",
       "\n",
       "    \n",
       "\n",
       "    \n",
       "\n",
       "    \n",
       "\n",
       "    \n",
       "\n",
       "    \n",
       "\n",
       "\n",
       "    \n",
       "\n",
       "    \n",
       "\n",
       "    \n",
       "\n",
       "    \n",
       "\n",
       "    \n",
       "        <table class=\"eli5-weights eli5-feature-importances\" style=\"border-collapse: collapse; border: none; margin-top: 0em; table-layout: auto;\">\n",
       "    <thead>\n",
       "    <tr style=\"border: none;\">\n",
       "        <th style=\"padding: 0 1em 0 0.5em; text-align: right; border: none;\">Weight</th>\n",
       "        <th style=\"padding: 0 0.5em 0 0.5em; text-align: left; border: none;\">Feature</th>\n",
       "    </tr>\n",
       "    </thead>\n",
       "    <tbody>\n",
       "    \n",
       "        <tr style=\"background-color: hsl(120, 100.00%, 80.00%); border: none;\">\n",
       "            <td style=\"padding: 0 1em 0 0.5em; text-align: right; border: none;\">\n",
       "                0.2585\n",
       "                \n",
       "            </td>\n",
       "            <td style=\"padding: 0 0.5em 0 0.5em; text-align: left; border: none;\">\n",
       "                type\n",
       "            </td>\n",
       "        </tr>\n",
       "    \n",
       "        <tr style=\"background-color: hsl(120, 100.00%, 80.63%); border: none;\">\n",
       "            <td style=\"padding: 0 1em 0 0.5em; text-align: right; border: none;\">\n",
       "                0.2469\n",
       "                \n",
       "            </td>\n",
       "            <td style=\"padding: 0 0.5em 0 0.5em; text-align: left; border: none;\">\n",
       "                total_charges\n",
       "            </td>\n",
       "        </tr>\n",
       "    \n",
       "        <tr style=\"background-color: hsl(120, 100.00%, 86.72%); border: none;\">\n",
       "            <td style=\"padding: 0 1em 0 0.5em; text-align: right; border: none;\">\n",
       "                0.1441\n",
       "                \n",
       "            </td>\n",
       "            <td style=\"padding: 0 0.5em 0 0.5em; text-align: left; border: none;\">\n",
       "                monthly_charges\n",
       "            </td>\n",
       "        </tr>\n",
       "    \n",
       "        <tr style=\"background-color: hsl(120, 100.00%, 89.35%); border: none;\">\n",
       "            <td style=\"padding: 0 1em 0 0.5em; text-align: right; border: none;\">\n",
       "                0.1051\n",
       "                \n",
       "            </td>\n",
       "            <td style=\"padding: 0 0.5em 0 0.5em; text-align: left; border: none;\">\n",
       "                begin_month\n",
       "            </td>\n",
       "        </tr>\n",
       "    \n",
       "        <tr style=\"background-color: hsl(120, 100.00%, 91.23%); border: none;\">\n",
       "            <td style=\"padding: 0 1em 0 0.5em; text-align: right; border: none;\">\n",
       "                0.0796\n",
       "                \n",
       "            </td>\n",
       "            <td style=\"padding: 0 0.5em 0 0.5em; text-align: left; border: none;\">\n",
       "                begin_year\n",
       "            </td>\n",
       "        </tr>\n",
       "    \n",
       "        <tr style=\"background-color: hsl(120, 100.00%, 92.21%); border: none;\">\n",
       "            <td style=\"padding: 0 1em 0 0.5em; text-align: right; border: none;\">\n",
       "                0.0672\n",
       "                \n",
       "            </td>\n",
       "            <td style=\"padding: 0 0.5em 0 0.5em; text-align: left; border: none;\">\n",
       "                internet_type\n",
       "            </td>\n",
       "        </tr>\n",
       "    \n",
       "        <tr style=\"background-color: hsl(120, 100.00%, 97.23%); border: none;\">\n",
       "            <td style=\"padding: 0 1em 0 0.5em; text-align: right; border: none;\">\n",
       "                0.0153\n",
       "                \n",
       "            </td>\n",
       "            <td style=\"padding: 0 0.5em 0 0.5em; text-align: left; border: none;\">\n",
       "                payment_method\n",
       "            </td>\n",
       "        </tr>\n",
       "    \n",
       "        <tr style=\"background-color: hsl(120, 100.00%, 97.85%); border: none;\">\n",
       "            <td style=\"padding: 0 1em 0 0.5em; text-align: right; border: none;\">\n",
       "                0.0107\n",
       "                \n",
       "            </td>\n",
       "            <td style=\"padding: 0 0.5em 0 0.5em; text-align: left; border: none;\">\n",
       "                paperless_billing\n",
       "            </td>\n",
       "        </tr>\n",
       "    \n",
       "        <tr style=\"background-color: hsl(120, 100.00%, 97.91%); border: none;\">\n",
       "            <td style=\"padding: 0 1em 0 0.5em; text-align: right; border: none;\">\n",
       "                0.0103\n",
       "                \n",
       "            </td>\n",
       "            <td style=\"padding: 0 0.5em 0 0.5em; text-align: left; border: none;\">\n",
       "                internet_movies\n",
       "            </td>\n",
       "        </tr>\n",
       "    \n",
       "        <tr style=\"background-color: hsl(120, 100.00%, 98.06%); border: none;\">\n",
       "            <td style=\"padding: 0 1em 0 0.5em; text-align: right; border: none;\">\n",
       "                0.0092\n",
       "                \n",
       "            </td>\n",
       "            <td style=\"padding: 0 0.5em 0 0.5em; text-align: left; border: none;\">\n",
       "                internet_tv\n",
       "            </td>\n",
       "        </tr>\n",
       "    \n",
       "        <tr style=\"background-color: hsl(120, 100.00%, 98.27%); border: none;\">\n",
       "            <td style=\"padding: 0 1em 0 0.5em; text-align: right; border: none;\">\n",
       "                0.0078\n",
       "                \n",
       "            </td>\n",
       "            <td style=\"padding: 0 0.5em 0 0.5em; text-align: left; border: none;\">\n",
       "                gender\n",
       "            </td>\n",
       "        </tr>\n",
       "    \n",
       "        <tr style=\"background-color: hsl(120, 100.00%, 98.35%); border: none;\">\n",
       "            <td style=\"padding: 0 1em 0 0.5em; text-align: right; border: none;\">\n",
       "                0.0073\n",
       "                \n",
       "            </td>\n",
       "            <td style=\"padding: 0 0.5em 0 0.5em; text-align: left; border: none;\">\n",
       "                internet_security\n",
       "            </td>\n",
       "        </tr>\n",
       "    \n",
       "        <tr style=\"background-color: hsl(120, 100.00%, 98.45%); border: none;\">\n",
       "            <td style=\"padding: 0 1em 0 0.5em; text-align: right; border: none;\">\n",
       "                0.0067\n",
       "                \n",
       "            </td>\n",
       "            <td style=\"padding: 0 0.5em 0 0.5em; text-align: left; border: none;\">\n",
       "                internet_tech_support\n",
       "            </td>\n",
       "        </tr>\n",
       "    \n",
       "        <tr style=\"background-color: hsl(120, 100.00%, 98.53%); border: none;\">\n",
       "            <td style=\"padding: 0 1em 0 0.5em; text-align: right; border: none;\">\n",
       "                0.0062\n",
       "                \n",
       "            </td>\n",
       "            <td style=\"padding: 0 0.5em 0 0.5em; text-align: left; border: none;\">\n",
       "                is_senior_citizen\n",
       "            </td>\n",
       "        </tr>\n",
       "    \n",
       "        <tr style=\"background-color: hsl(120, 100.00%, 98.55%); border: none;\">\n",
       "            <td style=\"padding: 0 1em 0 0.5em; text-align: right; border: none;\">\n",
       "                0.0061\n",
       "                \n",
       "            </td>\n",
       "            <td style=\"padding: 0 0.5em 0 0.5em; text-align: left; border: none;\">\n",
       "                has_multiple_lines\n",
       "            </td>\n",
       "        </tr>\n",
       "    \n",
       "        <tr style=\"background-color: hsl(120, 100.00%, 98.60%); border: none;\">\n",
       "            <td style=\"padding: 0 1em 0 0.5em; text-align: right; border: none;\">\n",
       "                0.0058\n",
       "                \n",
       "            </td>\n",
       "            <td style=\"padding: 0 0.5em 0 0.5em; text-align: left; border: none;\">\n",
       "                has_partner\n",
       "            </td>\n",
       "        </tr>\n",
       "    \n",
       "        <tr style=\"background-color: hsl(120, 100.00%, 98.77%); border: none;\">\n",
       "            <td style=\"padding: 0 1em 0 0.5em; text-align: right; border: none;\">\n",
       "                0.0048\n",
       "                \n",
       "            </td>\n",
       "            <td style=\"padding: 0 0.5em 0 0.5em; text-align: left; border: none;\">\n",
       "                has_dependents\n",
       "            </td>\n",
       "        </tr>\n",
       "    \n",
       "        <tr style=\"background-color: hsl(120, 100.00%, 98.86%); border: none;\">\n",
       "            <td style=\"padding: 0 1em 0 0.5em; text-align: right; border: none;\">\n",
       "                0.0043\n",
       "                \n",
       "            </td>\n",
       "            <td style=\"padding: 0 0.5em 0 0.5em; text-align: left; border: none;\">\n",
       "                internet_backup\n",
       "            </td>\n",
       "        </tr>\n",
       "    \n",
       "        <tr style=\"background-color: hsl(120, 100.00%, 98.90%); border: none;\">\n",
       "            <td style=\"padding: 0 1em 0 0.5em; text-align: right; border: none;\">\n",
       "                0.0041\n",
       "                \n",
       "            </td>\n",
       "            <td style=\"padding: 0 0.5em 0 0.5em; text-align: left; border: none;\">\n",
       "                internet_device_protection\n",
       "            </td>\n",
       "        </tr>\n",
       "    \n",
       "    \n",
       "    </tbody>\n",
       "</table>\n",
       "    \n",
       "\n",
       "    \n",
       "\n",
       "\n",
       "    \n",
       "\n",
       "    \n",
       "\n",
       "    \n",
       "\n",
       "    \n",
       "\n",
       "    \n",
       "\n",
       "    \n",
       "\n",
       "\n",
       "\n"
      ],
      "text/plain": [
       "<IPython.core.display.HTML object>"
      ]
     },
     "execution_count": 76,
     "metadata": {},
     "output_type": "execute_result"
    }
   ],
   "source": [
    "# display model weights\n",
    "eli5.show_weights(lgbm)"
   ]
  },
  {
   "cell_type": "markdown",
   "id": "6e68cd09",
   "metadata": {},
   "source": [
    "Some features are weighted much higher than others in terms of determining if a customer is going to churn. In particular, the type of subscription, total charges, monthly charges, when a customer starts their service, and the type of internet they have are the largest factors affecting the churn rate of the company."
   ]
  },
  {
   "cell_type": "markdown",
   "id": "909a50d2",
   "metadata": {},
   "source": [
    "# Initial Work Plan"
   ]
  },
  {
   "cell_type": "markdown",
   "id": "ccabfaf7",
   "metadata": {},
   "source": [
    "## Clarifying Questions\n",
    "To be completed during additional EDA:\n",
    "* For customers that end their service, how many months do they tend to stay before leaving?\n",
    "* Is there a trend for when customers tend to start their service?\n",
    "* What is the distribution of current customers and customers that have ended their service?\n",
    "* What are the earliest and latest dates in the dataset? \n",
    "* How is \"Total Charges\" calculated? Could this be used to figure out the number of months a client has stayed with the company?\n",
    "* How does Monthly Charges relate to personal information - ie does monthly charge increase if the person has a partner? Has dependents?"
   ]
  },
  {
   "cell_type": "markdown",
   "id": "e73d81b9",
   "metadata": {},
   "source": [
    "## Steps\n",
    "\n",
    "1. Load and preprocess the data: The column names in each dataset will be standardized (snake_case), columns with 2 values (ie Yes/No) will have their values changed to 1/0, datatypes will be updated, and the data will be merged on the customerID column - I will need to address null values that result from the merging.\n",
    "\n",
    "2. EDA: Based on the above clarifying questions.\n",
    "\n",
    "2. Feature engineering and column removal: I want to see if some of the columns are highly correlated with each other, which would indicate they contain redundant information and should be removed. I also want to create new columns, ie a `begin_year` column and a `has_ended_service` column (which will be the target column and is based on data in the `end_date` column). A `months_spent` column, indicating the number of months the client has had service, could also be helpful.\n",
    "\n",
    "3. Scale and encode the data: The columns with float information will be scaled, and values with multiple values (ie `type` and `payment_method` will be one hot encoded.\n",
    "\n",
    "4. Build the models: I want to try a few models, including RandomForest and LogisticRegression, CatBoost, LGBM. I will do a 60/20/20 split to get training/validation/testing datasets and use the validation dataset to choose the best model, then use the validation/testing dataset to evaluate the final model."
   ]
  },
  {
   "cell_type": "markdown",
   "id": "903730f4",
   "metadata": {},
   "source": [
    "# Solution Report"
   ]
  },
  {
   "cell_type": "markdown",
   "id": "7d484533",
   "metadata": {},
   "source": [
    "#### What steps of the plan were performed and what steps were skipped (explain why)?\n",
    "* Step 1: I completed data preprocessing and cleaning.\n",
    "* Step 2: For EDA, I ended up not looking at when customers started their service because initially I removed the `begin_date` column from the training data. The final model revealed that the starting month/year are actually really important in determining if a customer churns, so it would be beneficial to do further analysis on this. I also did not look more in depth at the `total_charges` column, as my plan was initially to use it to figure out how long a client had stayed with the company. I was instead able to derive that information by looking at the starting date and ending date columns.\n",
    "* Step 3: I completed feature engineering by creating `begin_year`, `begin_month`, and `has_ended` columns. I did not include the `months_spent` column in the final dataset, but I looked at it when analyzing customers who have churned.\n",
    "* Step 4: I scaled the numeric data and encoded the data for the models that required it.\n",
    "* Step 5: I completed model testing and evaluation."
   ]
  },
  {
   "cell_type": "markdown",
   "id": "e066795c",
   "metadata": {},
   "source": [
    "#### What difficulties did you encounter and how did you manage to solve them?\n",
    "At first, I wasn't getting the AUC-ROC score that I wanted despite doing extensive hyperparameter testing across my models (the highest AUC-ROC I was getting was 84.8%). This ended up being because I had dropped the `begin_date` column, as my models were having difficulty understanding the datetime format. To solve this problem, I created two new columns: `begin_month` and `begin_year`. My AUC-ROC scores skyrocketed with this improvement.\n",
    "\n",
    "I had also never used Grid Search before this assignment - I was instead manually testing different hyperparameter combinations. I had to look at examples and in the documentation to understand it, but once I did, it made it very easy to tune hyperparameters."
   ]
  },
  {
   "cell_type": "markdown",
   "id": "620f7b3a",
   "metadata": {},
   "source": [
    "#### What were some of the key steps to solving the task?"
   ]
  },
  {
   "cell_type": "markdown",
   "id": "83564859",
   "metadata": {},
   "source": [
    "The data cleaning was the most important part - having clean, usable data was extremely important for this task. I created a few data visualizations when looking at monthly charges and how it was affected by personal factors/number of services, and that helped me understand the data. I think data visualizations help communicate results well, so I would have liked to do more.\n",
    "\n",
    "Feature engineering was also key. Though my AUC-ROC score was okay without it, adding in `begin_year` and `begin_month` improved my model quality substancially. \n",
    "\n",
    "Last, I used the eli5 library (which I had never used before) to display the final model weights. This made it easy to see which factors were weighted the most in the model and brought the problem back to the business context of what the business could do to improve customer retention."
   ]
  },
  {
   "cell_type": "markdown",
   "id": "29e066b4",
   "metadata": {},
   "source": [
    "#### What is your final model and what quality score does it have?"
   ]
  },
  {
   "cell_type": "markdown",
   "id": "ec28163e",
   "metadata": {},
   "source": [
    "The final model I chose was LightGBM. On the final test set, it resulted in an AUC-ROC of 0.922 and an accuracy of 0.865."
   ]
  }
 ],
 "metadata": {
  "kernelspec": {
   "display_name": "Python 3 (ipykernel)",
   "language": "python",
   "name": "python3"
  },
  "language_info": {
   "codemirror_mode": {
    "name": "ipython",
    "version": 3
   },
   "file_extension": ".py",
   "mimetype": "text/x-python",
   "name": "python",
   "nbconvert_exporter": "python",
   "pygments_lexer": "ipython3",
   "version": "3.9.5"
  },
  "toc": {
   "base_numbering": 1,
   "nav_menu": {},
   "number_sections": true,
   "sideBar": true,
   "skip_h1_title": true,
   "title_cell": "Table of Contents",
   "title_sidebar": "Contents",
   "toc_cell": false,
   "toc_position": {},
   "toc_section_display": true,
   "toc_window_display": false
  }
 },
 "nbformat": 4,
 "nbformat_minor": 5
}
