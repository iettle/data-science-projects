{
 "cells": [
  {
   "cell_type": "markdown",
   "metadata": {},
   "source": [
    "Rusty Bargain used car sales service is developing an app to attract new customers. In that app, you can quickly find out the market value of your car. You have access to historical data: technical specifications, trim versions, and prices. You need to build the model to determine the value. \n",
    "\n",
    "Rusty Bargain is interested in:\n",
    "\n",
    "- the quality of the prediction;\n",
    "- the speed of the prediction;\n",
    "- the time required for training"
   ]
  },
  {
   "cell_type": "markdown",
   "metadata": {},
   "source": [
    "## Data preparation"
   ]
  },
  {
   "cell_type": "code",
   "execution_count": 1,
   "metadata": {},
   "outputs": [],
   "source": [
    "# import libraries\n",
    "import numpy as np\n",
    "import pandas as pd\n",
    "\n",
    "from sklearn.model_selection import train_test_split\n",
    "from sklearn.preprocessing import StandardScaler, OrdinalEncoder, OneHotEncoder\n",
    "from sklearn.compose import ColumnTransformer\n",
    "\n",
    "from sklearn.linear_model import LinearRegression\n",
    "from sklearn.ensemble import RandomForestRegressor\n",
    "from catboost import CatBoostRegressor\n",
    "from lightgbm import LGBMRegressor\n",
    "from xgboost import XGBRegressor\n",
    "\n",
    "from sklearn.metrics import mean_squared_error\n",
    "\n",
    "from IPython.display import display"
   ]
  },
  {
   "cell_type": "code",
   "execution_count": 2,
   "metadata": {},
   "outputs": [
    {
     "data": {
      "text/html": [
       "<div>\n",
       "<style scoped>\n",
       "    .dataframe tbody tr th:only-of-type {\n",
       "        vertical-align: middle;\n",
       "    }\n",
       "\n",
       "    .dataframe tbody tr th {\n",
       "        vertical-align: top;\n",
       "    }\n",
       "\n",
       "    .dataframe thead th {\n",
       "        text-align: right;\n",
       "    }\n",
       "</style>\n",
       "<table border=\"1\" class=\"dataframe\">\n",
       "  <thead>\n",
       "    <tr style=\"text-align: right;\">\n",
       "      <th></th>\n",
       "      <th>DateCrawled</th>\n",
       "      <th>Price</th>\n",
       "      <th>VehicleType</th>\n",
       "      <th>RegistrationYear</th>\n",
       "      <th>Gearbox</th>\n",
       "      <th>Power</th>\n",
       "      <th>Model</th>\n",
       "      <th>Mileage</th>\n",
       "      <th>RegistrationMonth</th>\n",
       "      <th>FuelType</th>\n",
       "      <th>Brand</th>\n",
       "      <th>NotRepaired</th>\n",
       "      <th>DateCreated</th>\n",
       "      <th>NumberOfPictures</th>\n",
       "      <th>PostalCode</th>\n",
       "      <th>LastSeen</th>\n",
       "    </tr>\n",
       "  </thead>\n",
       "  <tbody>\n",
       "    <tr>\n",
       "      <th>0</th>\n",
       "      <td>24/03/2016 11:52</td>\n",
       "      <td>480</td>\n",
       "      <td>NaN</td>\n",
       "      <td>1993</td>\n",
       "      <td>manual</td>\n",
       "      <td>0</td>\n",
       "      <td>golf</td>\n",
       "      <td>150000</td>\n",
       "      <td>0</td>\n",
       "      <td>petrol</td>\n",
       "      <td>volkswagen</td>\n",
       "      <td>NaN</td>\n",
       "      <td>24/03/2016 00:00</td>\n",
       "      <td>0</td>\n",
       "      <td>70435</td>\n",
       "      <td>07/04/2016 03:16</td>\n",
       "    </tr>\n",
       "    <tr>\n",
       "      <th>1</th>\n",
       "      <td>24/03/2016 10:58</td>\n",
       "      <td>18300</td>\n",
       "      <td>coupe</td>\n",
       "      <td>2011</td>\n",
       "      <td>manual</td>\n",
       "      <td>190</td>\n",
       "      <td>NaN</td>\n",
       "      <td>125000</td>\n",
       "      <td>5</td>\n",
       "      <td>gasoline</td>\n",
       "      <td>audi</td>\n",
       "      <td>yes</td>\n",
       "      <td>24/03/2016 00:00</td>\n",
       "      <td>0</td>\n",
       "      <td>66954</td>\n",
       "      <td>07/04/2016 01:46</td>\n",
       "    </tr>\n",
       "    <tr>\n",
       "      <th>2</th>\n",
       "      <td>14/03/2016 12:52</td>\n",
       "      <td>9800</td>\n",
       "      <td>suv</td>\n",
       "      <td>2004</td>\n",
       "      <td>auto</td>\n",
       "      <td>163</td>\n",
       "      <td>grand</td>\n",
       "      <td>125000</td>\n",
       "      <td>8</td>\n",
       "      <td>gasoline</td>\n",
       "      <td>jeep</td>\n",
       "      <td>NaN</td>\n",
       "      <td>14/03/2016 00:00</td>\n",
       "      <td>0</td>\n",
       "      <td>90480</td>\n",
       "      <td>05/04/2016 12:47</td>\n",
       "    </tr>\n",
       "    <tr>\n",
       "      <th>3</th>\n",
       "      <td>17/03/2016 16:54</td>\n",
       "      <td>1500</td>\n",
       "      <td>small</td>\n",
       "      <td>2001</td>\n",
       "      <td>manual</td>\n",
       "      <td>75</td>\n",
       "      <td>golf</td>\n",
       "      <td>150000</td>\n",
       "      <td>6</td>\n",
       "      <td>petrol</td>\n",
       "      <td>volkswagen</td>\n",
       "      <td>no</td>\n",
       "      <td>17/03/2016 00:00</td>\n",
       "      <td>0</td>\n",
       "      <td>91074</td>\n",
       "      <td>17/03/2016 17:40</td>\n",
       "    </tr>\n",
       "    <tr>\n",
       "      <th>4</th>\n",
       "      <td>31/03/2016 17:25</td>\n",
       "      <td>3600</td>\n",
       "      <td>small</td>\n",
       "      <td>2008</td>\n",
       "      <td>manual</td>\n",
       "      <td>69</td>\n",
       "      <td>fabia</td>\n",
       "      <td>90000</td>\n",
       "      <td>7</td>\n",
       "      <td>gasoline</td>\n",
       "      <td>skoda</td>\n",
       "      <td>no</td>\n",
       "      <td>31/03/2016 00:00</td>\n",
       "      <td>0</td>\n",
       "      <td>60437</td>\n",
       "      <td>06/04/2016 10:17</td>\n",
       "    </tr>\n",
       "  </tbody>\n",
       "</table>\n",
       "</div>"
      ],
      "text/plain": [
       "        DateCrawled  Price VehicleType  RegistrationYear Gearbox  Power  \\\n",
       "0  24/03/2016 11:52    480         NaN              1993  manual      0   \n",
       "1  24/03/2016 10:58  18300       coupe              2011  manual    190   \n",
       "2  14/03/2016 12:52   9800         suv              2004    auto    163   \n",
       "3  17/03/2016 16:54   1500       small              2001  manual     75   \n",
       "4  31/03/2016 17:25   3600       small              2008  manual     69   \n",
       "\n",
       "   Model  Mileage  RegistrationMonth  FuelType       Brand NotRepaired  \\\n",
       "0   golf   150000                  0    petrol  volkswagen         NaN   \n",
       "1    NaN   125000                  5  gasoline        audi         yes   \n",
       "2  grand   125000                  8  gasoline        jeep         NaN   \n",
       "3   golf   150000                  6    petrol  volkswagen          no   \n",
       "4  fabia    90000                  7  gasoline       skoda          no   \n",
       "\n",
       "        DateCreated  NumberOfPictures  PostalCode          LastSeen  \n",
       "0  24/03/2016 00:00                 0       70435  07/04/2016 03:16  \n",
       "1  24/03/2016 00:00                 0       66954  07/04/2016 01:46  \n",
       "2  14/03/2016 00:00                 0       90480  05/04/2016 12:47  \n",
       "3  17/03/2016 00:00                 0       91074  17/03/2016 17:40  \n",
       "4  31/03/2016 00:00                 0       60437  06/04/2016 10:17  "
      ]
     },
     "execution_count": 2,
     "metadata": {},
     "output_type": "execute_result"
    }
   ],
   "source": [
    "# load data\n",
    "df = pd.read_csv('/datasets/car_data.csv')\n",
    "\n",
    "# view\n",
    "df.head()"
   ]
  },
  {
   "cell_type": "code",
   "execution_count": 3,
   "metadata": {},
   "outputs": [
    {
     "data": {
      "text/html": [
       "<div>\n",
       "<style scoped>\n",
       "    .dataframe tbody tr th:only-of-type {\n",
       "        vertical-align: middle;\n",
       "    }\n",
       "\n",
       "    .dataframe tbody tr th {\n",
       "        vertical-align: top;\n",
       "    }\n",
       "\n",
       "    .dataframe thead th {\n",
       "        text-align: right;\n",
       "    }\n",
       "</style>\n",
       "<table border=\"1\" class=\"dataframe\">\n",
       "  <thead>\n",
       "    <tr style=\"text-align: right;\">\n",
       "      <th></th>\n",
       "      <th>Price</th>\n",
       "      <th>RegistrationYear</th>\n",
       "      <th>Power</th>\n",
       "      <th>Mileage</th>\n",
       "      <th>RegistrationMonth</th>\n",
       "      <th>NumberOfPictures</th>\n",
       "      <th>PostalCode</th>\n",
       "    </tr>\n",
       "  </thead>\n",
       "  <tbody>\n",
       "    <tr>\n",
       "      <th>count</th>\n",
       "      <td>354369.000000</td>\n",
       "      <td>354369.000000</td>\n",
       "      <td>354369.000000</td>\n",
       "      <td>354369.000000</td>\n",
       "      <td>354369.000000</td>\n",
       "      <td>354369.0</td>\n",
       "      <td>354369.000000</td>\n",
       "    </tr>\n",
       "    <tr>\n",
       "      <th>mean</th>\n",
       "      <td>4416.656776</td>\n",
       "      <td>2004.234448</td>\n",
       "      <td>110.094337</td>\n",
       "      <td>128211.172535</td>\n",
       "      <td>5.714645</td>\n",
       "      <td>0.0</td>\n",
       "      <td>50508.689087</td>\n",
       "    </tr>\n",
       "    <tr>\n",
       "      <th>std</th>\n",
       "      <td>4514.158514</td>\n",
       "      <td>90.227958</td>\n",
       "      <td>189.850405</td>\n",
       "      <td>37905.341530</td>\n",
       "      <td>3.726421</td>\n",
       "      <td>0.0</td>\n",
       "      <td>25783.096248</td>\n",
       "    </tr>\n",
       "    <tr>\n",
       "      <th>min</th>\n",
       "      <td>0.000000</td>\n",
       "      <td>1000.000000</td>\n",
       "      <td>0.000000</td>\n",
       "      <td>5000.000000</td>\n",
       "      <td>0.000000</td>\n",
       "      <td>0.0</td>\n",
       "      <td>1067.000000</td>\n",
       "    </tr>\n",
       "    <tr>\n",
       "      <th>25%</th>\n",
       "      <td>1050.000000</td>\n",
       "      <td>1999.000000</td>\n",
       "      <td>69.000000</td>\n",
       "      <td>125000.000000</td>\n",
       "      <td>3.000000</td>\n",
       "      <td>0.0</td>\n",
       "      <td>30165.000000</td>\n",
       "    </tr>\n",
       "    <tr>\n",
       "      <th>50%</th>\n",
       "      <td>2700.000000</td>\n",
       "      <td>2003.000000</td>\n",
       "      <td>105.000000</td>\n",
       "      <td>150000.000000</td>\n",
       "      <td>6.000000</td>\n",
       "      <td>0.0</td>\n",
       "      <td>49413.000000</td>\n",
       "    </tr>\n",
       "    <tr>\n",
       "      <th>75%</th>\n",
       "      <td>6400.000000</td>\n",
       "      <td>2008.000000</td>\n",
       "      <td>143.000000</td>\n",
       "      <td>150000.000000</td>\n",
       "      <td>9.000000</td>\n",
       "      <td>0.0</td>\n",
       "      <td>71083.000000</td>\n",
       "    </tr>\n",
       "    <tr>\n",
       "      <th>max</th>\n",
       "      <td>20000.000000</td>\n",
       "      <td>9999.000000</td>\n",
       "      <td>20000.000000</td>\n",
       "      <td>150000.000000</td>\n",
       "      <td>12.000000</td>\n",
       "      <td>0.0</td>\n",
       "      <td>99998.000000</td>\n",
       "    </tr>\n",
       "  </tbody>\n",
       "</table>\n",
       "</div>"
      ],
      "text/plain": [
       "               Price  RegistrationYear          Power        Mileage  \\\n",
       "count  354369.000000     354369.000000  354369.000000  354369.000000   \n",
       "mean     4416.656776       2004.234448     110.094337  128211.172535   \n",
       "std      4514.158514         90.227958     189.850405   37905.341530   \n",
       "min         0.000000       1000.000000       0.000000    5000.000000   \n",
       "25%      1050.000000       1999.000000      69.000000  125000.000000   \n",
       "50%      2700.000000       2003.000000     105.000000  150000.000000   \n",
       "75%      6400.000000       2008.000000     143.000000  150000.000000   \n",
       "max     20000.000000       9999.000000   20000.000000  150000.000000   \n",
       "\n",
       "       RegistrationMonth  NumberOfPictures     PostalCode  \n",
       "count      354369.000000          354369.0  354369.000000  \n",
       "mean            5.714645               0.0   50508.689087  \n",
       "std             3.726421               0.0   25783.096248  \n",
       "min             0.000000               0.0    1067.000000  \n",
       "25%             3.000000               0.0   30165.000000  \n",
       "50%             6.000000               0.0   49413.000000  \n",
       "75%             9.000000               0.0   71083.000000  \n",
       "max            12.000000               0.0   99998.000000  "
      ]
     },
     "execution_count": 3,
     "metadata": {},
     "output_type": "execute_result"
    }
   ],
   "source": [
    "# describe numerical data\n",
    "df.describe()"
   ]
  },
  {
   "cell_type": "markdown",
   "metadata": {},
   "source": [
    "From looking at the numerical data, it seems that `RegistrationYear` has some strange values - I will remove values that are outside the 1900-2022 range. It also looks like `NumberOfPictures` has 0 for every value, so that column can be removed.\n",
    "\n",
    "I am also suspicious about the 0 minimum values for `Price` and `Power`, so I will look into those more."
   ]
  },
  {
   "cell_type": "code",
   "execution_count": 4,
   "metadata": {},
   "outputs": [
    {
     "name": "stdout",
     "output_type": "stream",
     "text": [
      "<class 'pandas.core.frame.DataFrame'>\n",
      "RangeIndex: 354369 entries, 0 to 354368\n",
      "Data columns (total 16 columns):\n",
      " #   Column             Non-Null Count   Dtype \n",
      "---  ------             --------------   ----- \n",
      " 0   DateCrawled        354369 non-null  object\n",
      " 1   Price              354369 non-null  int64 \n",
      " 2   VehicleType        316879 non-null  object\n",
      " 3   RegistrationYear   354369 non-null  int64 \n",
      " 4   Gearbox            334536 non-null  object\n",
      " 5   Power              354369 non-null  int64 \n",
      " 6   Model              334664 non-null  object\n",
      " 7   Mileage            354369 non-null  int64 \n",
      " 8   RegistrationMonth  354369 non-null  int64 \n",
      " 9   FuelType           321474 non-null  object\n",
      " 10  Brand              354369 non-null  object\n",
      " 11  NotRepaired        283215 non-null  object\n",
      " 12  DateCreated        354369 non-null  object\n",
      " 13  NumberOfPictures   354369 non-null  int64 \n",
      " 14  PostalCode         354369 non-null  int64 \n",
      " 15  LastSeen           354369 non-null  object\n",
      "dtypes: int64(7), object(9)\n",
      "memory usage: 43.3+ MB\n"
     ]
    }
   ],
   "source": [
    "# view info\n",
    "df.info()"
   ]
  },
  {
   "cell_type": "code",
   "execution_count": 5,
   "metadata": {},
   "outputs": [],
   "source": [
    "# store original length before we clean\n",
    "original_len = len(df)"
   ]
  },
  {
   "cell_type": "markdown",
   "metadata": {},
   "source": [
    "There are a total of 16 columns in this dataset, and there are 354,369 total rows. I will rename the columns from title case to snake case. Then, I will remove unnecessary columns. The three date columns (`date_crawled`, `date_created`, and `last_seen`), `number_of_pictures`, and `postal_code` will not provide useful information for our models, so they can be dropped. `registration_month` will also be removed given that we already have the year and do not need to get any more specific.\n",
    "\n",
    "I will also need to address missing values, as `vehicle_type`, `gearbox`, `model`, `fuel_type`, and `not_repaired` have null values.\n",
    "\n"
   ]
  },
  {
   "cell_type": "markdown",
   "metadata": {},
   "source": [
    "### Rename + Drop Columns"
   ]
  },
  {
   "cell_type": "code",
   "execution_count": 6,
   "metadata": {},
   "outputs": [],
   "source": [
    "# rename columns\n",
    "df.columns = df.columns.str.lower()\n",
    "df = df.rename(columns={'datecrawled': 'date_crawled', 'vehicletype': 'vehicle_type', 'registrationyear': 'registration_year', 'registrationmonth': 'registration_month', 'fueltype': 'fuel_type', 'notrepaired': 'not_repaired', 'datecreated': 'date_created', 'numberofpictures': 'number_of_pictures', 'postalcode': 'postal_code', 'lastseen': 'last_seen'})"
   ]
  },
  {
   "cell_type": "code",
   "execution_count": 7,
   "metadata": {},
   "outputs": [
    {
     "data": {
      "text/plain": [
       "Index(['price', 'vehicle_type', 'registration_year', 'gearbox', 'power',\n",
       "       'model', 'mileage', 'fuel_type', 'brand', 'not_repaired'],\n",
       "      dtype='object')"
      ]
     },
     "execution_count": 7,
     "metadata": {},
     "output_type": "execute_result"
    }
   ],
   "source": [
    "# drop unnecessary columns\n",
    "df = df.drop(['date_crawled', 'last_seen', 'date_created', 'number_of_pictures', 'postal_code', 'registration_month'], axis=1)\n",
    "df.columns"
   ]
  },
  {
   "cell_type": "markdown",
   "metadata": {},
   "source": [
    "Columns have been updated to snake_case, and five columns have been removed."
   ]
  },
  {
   "cell_type": "markdown",
   "metadata": {},
   "source": [
    "### Update Values"
   ]
  },
  {
   "cell_type": "markdown",
   "metadata": {},
   "source": [
    "`registration_year`: The rows with registration years that don't make sense will be dropped. "
   ]
  },
  {
   "cell_type": "code",
   "execution_count": 8,
   "metadata": {},
   "outputs": [],
   "source": [
    "# drop rows with nonsensical years\n",
    "df = df.query('registration_year >= 1900 and registration_year <= 2022')"
   ]
  },
  {
   "cell_type": "markdown",
   "metadata": {},
   "source": [
    "`not_repaired`: This column has three values: `NaN`, `yes`, and `no`. We can update this column to a boolean where `yes` values are 1 and `no` values are 0."
   ]
  },
  {
   "cell_type": "code",
   "execution_count": 9,
   "metadata": {},
   "outputs": [
    {
     "data": {
      "text/plain": [
       "0    247146\n",
       "1     36045\n",
       "Name: not_repaired, dtype: int64"
      ]
     },
     "execution_count": 9,
     "metadata": {},
     "output_type": "execute_result"
    }
   ],
   "source": [
    "# update values to numeric\n",
    "df.loc[df['not_repaired'] == 'yes', 'not_repaired'] = 1\n",
    "df.loc[df['not_repaired'] == 'no', 'not_repaired'] = 0\n",
    "\n",
    "# check values have been updated\n",
    "df['not_repaired'].value_counts()"
   ]
  },
  {
   "cell_type": "markdown",
   "metadata": {},
   "source": [
    "### Address Missing Values"
   ]
  },
  {
   "cell_type": "code",
   "execution_count": 10,
   "metadata": {},
   "outputs": [
    {
     "data": {
      "text/html": [
       "<div>\n",
       "<style scoped>\n",
       "    .dataframe tbody tr th:only-of-type {\n",
       "        vertical-align: middle;\n",
       "    }\n",
       "\n",
       "    .dataframe tbody tr th {\n",
       "        vertical-align: top;\n",
       "    }\n",
       "\n",
       "    .dataframe thead th {\n",
       "        text-align: right;\n",
       "    }\n",
       "</style>\n",
       "<table border=\"1\" class=\"dataframe\">\n",
       "  <thead>\n",
       "    <tr style=\"text-align: right;\">\n",
       "      <th></th>\n",
       "      <th>price</th>\n",
       "      <th>vehicle_type</th>\n",
       "      <th>registration_year</th>\n",
       "      <th>gearbox</th>\n",
       "      <th>power</th>\n",
       "      <th>model</th>\n",
       "      <th>mileage</th>\n",
       "      <th>fuel_type</th>\n",
       "      <th>brand</th>\n",
       "      <th>not_repaired</th>\n",
       "    </tr>\n",
       "  </thead>\n",
       "  <tbody>\n",
       "    <tr>\n",
       "      <th>0</th>\n",
       "      <td>480</td>\n",
       "      <td>NaN</td>\n",
       "      <td>1993</td>\n",
       "      <td>manual</td>\n",
       "      <td>0</td>\n",
       "      <td>golf</td>\n",
       "      <td>150000</td>\n",
       "      <td>petrol</td>\n",
       "      <td>volkswagen</td>\n",
       "      <td>NaN</td>\n",
       "    </tr>\n",
       "    <tr>\n",
       "      <th>1</th>\n",
       "      <td>18300</td>\n",
       "      <td>coupe</td>\n",
       "      <td>2011</td>\n",
       "      <td>manual</td>\n",
       "      <td>190</td>\n",
       "      <td>NaN</td>\n",
       "      <td>125000</td>\n",
       "      <td>gasoline</td>\n",
       "      <td>audi</td>\n",
       "      <td>1</td>\n",
       "    </tr>\n",
       "    <tr>\n",
       "      <th>2</th>\n",
       "      <td>9800</td>\n",
       "      <td>suv</td>\n",
       "      <td>2004</td>\n",
       "      <td>auto</td>\n",
       "      <td>163</td>\n",
       "      <td>grand</td>\n",
       "      <td>125000</td>\n",
       "      <td>gasoline</td>\n",
       "      <td>jeep</td>\n",
       "      <td>NaN</td>\n",
       "    </tr>\n",
       "    <tr>\n",
       "      <th>3</th>\n",
       "      <td>1500</td>\n",
       "      <td>small</td>\n",
       "      <td>2001</td>\n",
       "      <td>manual</td>\n",
       "      <td>75</td>\n",
       "      <td>golf</td>\n",
       "      <td>150000</td>\n",
       "      <td>petrol</td>\n",
       "      <td>volkswagen</td>\n",
       "      <td>0</td>\n",
       "    </tr>\n",
       "    <tr>\n",
       "      <th>4</th>\n",
       "      <td>3600</td>\n",
       "      <td>small</td>\n",
       "      <td>2008</td>\n",
       "      <td>manual</td>\n",
       "      <td>69</td>\n",
       "      <td>fabia</td>\n",
       "      <td>90000</td>\n",
       "      <td>gasoline</td>\n",
       "      <td>skoda</td>\n",
       "      <td>0</td>\n",
       "    </tr>\n",
       "    <tr>\n",
       "      <th>5</th>\n",
       "      <td>650</td>\n",
       "      <td>sedan</td>\n",
       "      <td>1995</td>\n",
       "      <td>manual</td>\n",
       "      <td>102</td>\n",
       "      <td>3er</td>\n",
       "      <td>150000</td>\n",
       "      <td>petrol</td>\n",
       "      <td>bmw</td>\n",
       "      <td>1</td>\n",
       "    </tr>\n",
       "    <tr>\n",
       "      <th>6</th>\n",
       "      <td>2200</td>\n",
       "      <td>convertible</td>\n",
       "      <td>2004</td>\n",
       "      <td>manual</td>\n",
       "      <td>109</td>\n",
       "      <td>2_reihe</td>\n",
       "      <td>150000</td>\n",
       "      <td>petrol</td>\n",
       "      <td>peugeot</td>\n",
       "      <td>0</td>\n",
       "    </tr>\n",
       "    <tr>\n",
       "      <th>7</th>\n",
       "      <td>0</td>\n",
       "      <td>sedan</td>\n",
       "      <td>1980</td>\n",
       "      <td>manual</td>\n",
       "      <td>50</td>\n",
       "      <td>other</td>\n",
       "      <td>40000</td>\n",
       "      <td>petrol</td>\n",
       "      <td>volkswagen</td>\n",
       "      <td>0</td>\n",
       "    </tr>\n",
       "    <tr>\n",
       "      <th>8</th>\n",
       "      <td>14500</td>\n",
       "      <td>bus</td>\n",
       "      <td>2014</td>\n",
       "      <td>manual</td>\n",
       "      <td>125</td>\n",
       "      <td>c_max</td>\n",
       "      <td>30000</td>\n",
       "      <td>petrol</td>\n",
       "      <td>ford</td>\n",
       "      <td>NaN</td>\n",
       "    </tr>\n",
       "    <tr>\n",
       "      <th>9</th>\n",
       "      <td>999</td>\n",
       "      <td>small</td>\n",
       "      <td>1998</td>\n",
       "      <td>manual</td>\n",
       "      <td>101</td>\n",
       "      <td>golf</td>\n",
       "      <td>150000</td>\n",
       "      <td>NaN</td>\n",
       "      <td>volkswagen</td>\n",
       "      <td>NaN</td>\n",
       "    </tr>\n",
       "  </tbody>\n",
       "</table>\n",
       "</div>"
      ],
      "text/plain": [
       "   price vehicle_type  registration_year gearbox  power    model  mileage  \\\n",
       "0    480          NaN               1993  manual      0     golf   150000   \n",
       "1  18300        coupe               2011  manual    190      NaN   125000   \n",
       "2   9800          suv               2004    auto    163    grand   125000   \n",
       "3   1500        small               2001  manual     75     golf   150000   \n",
       "4   3600        small               2008  manual     69    fabia    90000   \n",
       "5    650        sedan               1995  manual    102      3er   150000   \n",
       "6   2200  convertible               2004  manual    109  2_reihe   150000   \n",
       "7      0        sedan               1980  manual     50    other    40000   \n",
       "8  14500          bus               2014  manual    125    c_max    30000   \n",
       "9    999        small               1998  manual    101     golf   150000   \n",
       "\n",
       "  fuel_type       brand not_repaired  \n",
       "0    petrol  volkswagen          NaN  \n",
       "1  gasoline        audi            1  \n",
       "2  gasoline        jeep          NaN  \n",
       "3    petrol  volkswagen            0  \n",
       "4  gasoline       skoda            0  \n",
       "5    petrol         bmw            1  \n",
       "6    petrol     peugeot            0  \n",
       "7    petrol  volkswagen            0  \n",
       "8    petrol        ford          NaN  \n",
       "9       NaN  volkswagen          NaN  "
      ]
     },
     "execution_count": 10,
     "metadata": {},
     "output_type": "execute_result"
    }
   ],
   "source": [
    "# view data\n",
    "df.head(10)"
   ]
  },
  {
   "cell_type": "code",
   "execution_count": 11,
   "metadata": {},
   "outputs": [
    {
     "name": "stdout",
     "output_type": "stream",
     "text": [
      "vehicle_type: 10.5% of data is missing\n",
      "gearbox: 5.56% of data is missing\n",
      "model: 5.54% of data is missing\n",
      "fuel_type: 9.25% of data is missing\n",
      "not_repaired: 20.0% of data is missing\n"
     ]
    }
   ],
   "source": [
    "# get percentage of missing values\n",
    "columns = ['vehicle_type', 'gearbox', 'model', 'fuel_type', 'not_repaired']\n",
    "num_rows = len(df)\n",
    "\n",
    "for column in columns:\n",
    "    num_missing = df[column].isnull().sum()\n",
    "    percent_missing = num_missing / num_rows * 100\n",
    "    print(f'{column}: {percent_missing:.3}% of data is missing')"
   ]
  },
  {
   "cell_type": "markdown",
   "metadata": {},
   "source": [
    "#### Model + Gearbox\n",
    "Both these columns have under 6% of data missing, so I will simply remove the missing data."
   ]
  },
  {
   "cell_type": "code",
   "execution_count": 12,
   "metadata": {
    "scrolled": false
   },
   "outputs": [],
   "source": [
    "# drop missing model rows\n",
    "df = df.dropna(subset=['model', 'gearbox']).reset_index(drop=True)"
   ]
  },
  {
   "cell_type": "code",
   "execution_count": 13,
   "metadata": {},
   "outputs": [
    {
     "data": {
      "text/plain": [
       "model      0\n",
       "gearbox    0\n",
       "dtype: int64"
      ]
     },
     "execution_count": 13,
     "metadata": {},
     "output_type": "execute_result"
    }
   ],
   "source": [
    "# check to make sure data has been filled\n",
    "df[['model', 'gearbox']].isnull().sum()"
   ]
  },
  {
   "cell_type": "markdown",
   "metadata": {},
   "source": [
    "#### Fuel Type\n",
    "\n",
    "9.25% of fuel type data is missing. Rather than dropping these rows, the fuel type is likely related to a car's brand and model, so I will fill the null values with the most common fuel type for each."
   ]
  },
  {
   "cell_type": "code",
   "execution_count": 14,
   "metadata": {
    "scrolled": true
   },
   "outputs": [],
   "source": [
    "# fill fuel type\n",
    "df['fuel_type'] = df.groupby(['brand', 'model'])['fuel_type'].apply(lambda x:x.fillna(x.value_counts().index.tolist()[0]))"
   ]
  },
  {
   "cell_type": "code",
   "execution_count": 15,
   "metadata": {},
   "outputs": [
    {
     "data": {
      "text/plain": [
       "0"
      ]
     },
     "execution_count": 15,
     "metadata": {},
     "output_type": "execute_result"
    }
   ],
   "source": [
    "# check data was filled\n",
    "df['fuel_type'].isnull().sum()"
   ]
  },
  {
   "cell_type": "markdown",
   "metadata": {},
   "source": [
    "#### Vehicle Type\n",
    "For missing values, `vehicle_type` has 10.5% rows with null values. This is a significant amount of values, but the type of vehicle is likely related to `model` and `fuel_type` again, so I will fill missing values using those. "
   ]
  },
  {
   "cell_type": "code",
   "execution_count": 16,
   "metadata": {},
   "outputs": [],
   "source": [
    "# fill vehicle type\n",
    "df['vehicle_type'] = df.groupby(['brand', 'model'])['vehicle_type'].apply(lambda x: x.fillna(x.value_counts().index.tolist()[0]))"
   ]
  },
  {
   "cell_type": "code",
   "execution_count": 17,
   "metadata": {
    "scrolled": true
   },
   "outputs": [
    {
     "data": {
      "text/plain": [
       "0"
      ]
     },
     "execution_count": 17,
     "metadata": {},
     "output_type": "execute_result"
    }
   ],
   "source": [
    "# check data was filled\n",
    "df['vehicle_type'].isnull().sum()"
   ]
  },
  {
   "cell_type": "markdown",
   "metadata": {},
   "source": [
    "#### Not Repaired\n",
    "\n",
    "20% of this data is missing. Previously, the values in this column were updated from strings to numeric values of 0 or 1. I'm thinking that the missing data was likely a user error, and that the null values result from people not selecting that their vehicle has not been repaired. So, we will assume that \"0\" (yes) is the norm and will fill the null values with 0s."
   ]
  },
  {
   "cell_type": "code",
   "execution_count": 18,
   "metadata": {},
   "outputs": [],
   "source": [
    "# fill missing values\n",
    "df['not_repaired'] = df['not_repaired'].fillna(0)"
   ]
  },
  {
   "cell_type": "code",
   "execution_count": 19,
   "metadata": {},
   "outputs": [
    {
     "data": {
      "text/plain": [
       "0"
      ]
     },
     "execution_count": 19,
     "metadata": {},
     "output_type": "execute_result"
    }
   ],
   "source": [
    "# check data was filled\n",
    "df['not_repaired'].isnull().sum()"
   ]
  },
  {
   "cell_type": "markdown",
   "metadata": {},
   "source": [
    "### Address 0s in Power and Price"
   ]
  },
  {
   "cell_type": "code",
   "execution_count": 20,
   "metadata": {},
   "outputs": [
    {
     "name": "stdout",
     "output_type": "stream",
     "text": [
      "power: 6.72% of data is 0\n",
      "price: 2.02% of data is 0\n"
     ]
    }
   ],
   "source": [
    "# get percentage of 0s in power and price\n",
    "columns = ['power', 'price']\n",
    "\n",
    "for column in columns:\n",
    "    num_zeros = len(df.loc[df[column] == 0])\n",
    "    percent_zeros = num_zeros / num_rows * 100\n",
    "    print(f'{column}: {percent_zeros:.3}% of data is 0')"
   ]
  },
  {
   "cell_type": "markdown",
   "metadata": {},
   "source": [
    "#### Power\n",
    "\n",
    "6.72% of data has a power of 0. This does not make sense. I will fill power with the average power of a brand/model."
   ]
  },
  {
   "cell_type": "code",
   "execution_count": 21,
   "metadata": {},
   "outputs": [],
   "source": [
    "# replace 0 with nulls\n",
    "df['power'] = df['power'].replace(0, np.NaN)\n",
    "\n",
    "# fill vehicle type\n",
    "df['power'] = df['power'].fillna(df.groupby(['brand', 'model'])['power'].transform('median'))"
   ]
  },
  {
   "cell_type": "code",
   "execution_count": 22,
   "metadata": {},
   "outputs": [
    {
     "data": {
      "text/plain": [
       "1"
      ]
     },
     "execution_count": 22,
     "metadata": {},
     "output_type": "execute_result"
    }
   ],
   "source": [
    "# check data was filled\n",
    "df['power'].isnull().sum()"
   ]
  },
  {
   "cell_type": "code",
   "execution_count": 23,
   "metadata": {},
   "outputs": [],
   "source": [
    "# drop remaining\n",
    "df = df.dropna(subset=['power']).reset_index(drop=True)"
   ]
  },
  {
   "cell_type": "markdown",
   "metadata": {},
   "source": [
    "#### Price\n",
    "\n",
    "Price is our target value. It doesn't make sense that these cars would be selling for 0 euros, so these rows will be dropped."
   ]
  },
  {
   "cell_type": "code",
   "execution_count": 24,
   "metadata": {},
   "outputs": [],
   "source": [
    "# drop remaining\n",
    "df = df.dropna(subset=['price']).reset_index(drop=True)"
   ]
  },
  {
   "cell_type": "markdown",
   "metadata": {},
   "source": [
    "### Conclusion"
   ]
  },
  {
   "cell_type": "code",
   "execution_count": 25,
   "metadata": {},
   "outputs": [
    {
     "name": "stdout",
     "output_type": "stream",
     "text": [
      "Original length: 354369\n",
      "New length: 318936\n",
      "90.0% of data was retained.\n"
     ]
    }
   ],
   "source": [
    "new_len = len(df)\n",
    "print(f'Original length: {original_len}')\n",
    "print(f'New length: {new_len}')\n",
    "\n",
    "print(f'{new_len / original_len * 100:.3}% of data was retained.')"
   ]
  },
  {
   "cell_type": "code",
   "execution_count": 26,
   "metadata": {},
   "outputs": [
    {
     "name": "stdout",
     "output_type": "stream",
     "text": [
      "<class 'pandas.core.frame.DataFrame'>\n",
      "RangeIndex: 318936 entries, 0 to 318935\n",
      "Data columns (total 10 columns):\n",
      " #   Column             Non-Null Count   Dtype  \n",
      "---  ------             --------------   -----  \n",
      " 0   price              318936 non-null  int64  \n",
      " 1   vehicle_type       318936 non-null  object \n",
      " 2   registration_year  318936 non-null  int64  \n",
      " 3   gearbox            318936 non-null  object \n",
      " 4   power              318936 non-null  float64\n",
      " 5   model              318936 non-null  object \n",
      " 6   mileage            318936 non-null  int64  \n",
      " 7   fuel_type          318936 non-null  object \n",
      " 8   brand              318936 non-null  object \n",
      " 9   not_repaired       318936 non-null  int64  \n",
      "dtypes: float64(1), int64(4), object(5)\n",
      "memory usage: 24.3+ MB\n"
     ]
    }
   ],
   "source": [
    "df.info()"
   ]
  },
  {
   "cell_type": "code",
   "execution_count": 27,
   "metadata": {},
   "outputs": [
    {
     "data": {
      "text/plain": [
       "price                0\n",
       "vehicle_type         0\n",
       "registration_year    0\n",
       "gearbox              0\n",
       "power                0\n",
       "model                0\n",
       "mileage              0\n",
       "fuel_type            0\n",
       "brand                0\n",
       "not_repaired         0\n",
       "dtype: int64"
      ]
     },
     "execution_count": 27,
     "metadata": {},
     "output_type": "execute_result"
    }
   ],
   "source": [
    "df.isnull().sum()"
   ]
  },
  {
   "cell_type": "markdown",
   "metadata": {},
   "source": [
    "We have now finished cleaning the data. 10% of data was removed, which leaves us with 318,936 rows and 10 columns. Missing values have been filled, and the 0 values in power and price have been addressed. We are now ready to move into the model training."
   ]
  },
  {
   "cell_type": "markdown",
   "metadata": {},
   "source": [
    "## Model training\n",
    "Five different models will be tested: Linear Regression, Random Forest, LightGBM, CatBoost, and XGBoost. Linear Regression will be our sanity test."
   ]
  },
  {
   "cell_type": "markdown",
   "metadata": {},
   "source": [
    "### Model Preparation"
   ]
  },
  {
   "cell_type": "markdown",
   "metadata": {},
   "source": [
    "The data will be split into training, testing, and validation sets with a 60%/20%/20% split. The training set will be used to train the model and the validation set will be used to calculate the RMSE for each model. The testing set will be set aside to provide an unbiased final estimate for the best model.\n",
    "\n",
    "The numerical data will be scaled using a standard scaler."
   ]
  },
  {
   "cell_type": "markdown",
   "metadata": {},
   "source": [
    "#### Split Data"
   ]
  },
  {
   "cell_type": "code",
   "execution_count": 28,
   "metadata": {},
   "outputs": [],
   "source": [
    "# get features and target\n",
    "features = df.drop(['price'], axis=1)\n",
    "target = df['price']"
   ]
  },
  {
   "cell_type": "code",
   "execution_count": 29,
   "metadata": {},
   "outputs": [],
   "source": [
    "# reserving 20% of the data for the test dataset\n",
    "features_train, features_test, target_train, target_test = train_test_split(\n",
    "    features, target, test_size=0.20, random_state=12345\n",
    ")\n",
    "\n",
    "# splitting the 80% of the source dataset into the training dataset (60%) and validation dataset (20%)  \n",
    "features_train, features_valid, target_train, target_valid = train_test_split(\n",
    "    features_train, target_train, test_size=0.25, random_state=12345\n",
    ")"
   ]
  },
  {
   "cell_type": "code",
   "execution_count": 30,
   "metadata": {},
   "outputs": [
    {
     "name": "stdout",
     "output_type": "stream",
     "text": [
      "Size of training set: 0.6%\n",
      "Size of validation set: 0.2%\n",
      "Size of testing set: 0.2%\n"
     ]
    }
   ],
   "source": [
    "print(f'Size of training set: {len(features_train) / new_len:.3}%')\n",
    "print(f'Size of validation set: {len(features_valid) / new_len:.3}%')\n",
    "print(f'Size of testing set: {len(target_valid) / new_len:.3}%')"
   ]
  },
  {
   "cell_type": "markdown",
   "metadata": {},
   "source": [
    "#### Scale Numeric Data"
   ]
  },
  {
   "cell_type": "code",
   "execution_count": 31,
   "metadata": {},
   "outputs": [
    {
     "name": "stderr",
     "output_type": "stream",
     "text": [
      "/tmp/ipykernel_119/3159867280.py:9: SettingWithCopyWarning: \n",
      "A value is trying to be set on a copy of a slice from a DataFrame.\n",
      "Try using .loc[row_indexer,col_indexer] = value instead\n",
      "\n",
      "See the caveats in the documentation: https://pandas.pydata.org/pandas-docs/stable/user_guide/indexing.html#returning-a-view-versus-a-copy\n",
      "  features_test[numeric] = scaler.transform(features_test[numeric])\n",
      "/opt/conda/lib/python3.9/site-packages/pandas/core/indexing.py:1738: SettingWithCopyWarning: \n",
      "A value is trying to be set on a copy of a slice from a DataFrame.\n",
      "Try using .loc[row_indexer,col_indexer] = value instead\n",
      "\n",
      "See the caveats in the documentation: https://pandas.pydata.org/pandas-docs/stable/user_guide/indexing.html#returning-a-view-versus-a-copy\n",
      "  self._setitem_single_column(loc, value[:, i].tolist(), pi)\n"
     ]
    }
   ],
   "source": [
    "# scale numeric values\n",
    "numeric = ['registration_year', 'power', 'mileage']\n",
    "\n",
    "scaler = StandardScaler()\n",
    "scaler.fit(features_train[numeric])\n",
    "\n",
    "features_train[numeric] = scaler.transform(features_train[numeric])\n",
    "features_valid[numeric] = scaler.transform(features_valid[numeric])\n",
    "features_test[numeric] = scaler.transform(features_test[numeric])"
   ]
  },
  {
   "cell_type": "markdown",
   "metadata": {},
   "source": [
    "### Linear Regression\n",
    "\n",
    "First, we'll do linear regression for a sanity check. Linear regression requires categorical variables to be encoded."
   ]
  },
  {
   "cell_type": "code",
   "execution_count": 32,
   "metadata": {},
   "outputs": [],
   "source": [
    "# define categorical columns\n",
    "categorical = ['vehicle_type', 'gearbox', 'model', 'fuel_type', 'brand']"
   ]
  },
  {
   "cell_type": "code",
   "execution_count": 33,
   "metadata": {},
   "outputs": [
    {
     "data": {
      "text/plain": [
       "ColumnTransformer(remainder='passthrough',\n",
       "                  transformers=[('one-hot-encoder', OneHotEncoder(drop='first'),\n",
       "                                 ['vehicle_type', 'gearbox', 'model',\n",
       "                                  'fuel_type', 'brand'])])"
      ]
     },
     "execution_count": 33,
     "metadata": {},
     "output_type": "execute_result"
    }
   ],
   "source": [
    "# create ColumnTransformer to encode columns\n",
    "ct = ColumnTransformer(\n",
    "    [('one-hot-encoder', OneHotEncoder(drop='first'), categorical)], remainder='passthrough')\n",
    "\n",
    "# fit on training set\n",
    "ct.fit(features_train)"
   ]
  },
  {
   "cell_type": "code",
   "execution_count": 34,
   "metadata": {},
   "outputs": [],
   "source": [
    "features_train_ohe = ct.transform(features_train)\n",
    "features_valid_ohe = ct.transform(features_valid)"
   ]
  },
  {
   "cell_type": "code",
   "execution_count": 35,
   "metadata": {},
   "outputs": [],
   "source": [
    "# empty dataframe to store model results\n",
    "rmse_scores = pd.DataFrame(columns=['model', 'rmse'])"
   ]
  },
  {
   "cell_type": "code",
   "execution_count": 36,
   "metadata": {},
   "outputs": [
    {
     "name": "stdout",
     "output_type": "stream",
     "text": [
      "Linear Regression RMSE: 2952.2088798096925\n",
      "CPU times: user 5.05 s, sys: 10.4 s, total: 15.5 s\n",
      "Wall time: 15.4 s\n"
     ]
    }
   ],
   "source": [
    "%%time\n",
    "\n",
    "lr = LinearRegression()\n",
    "lr.fit(features_train_ohe, target_train)\n",
    "predicted_value = lr.predict(features_valid_ohe)\n",
    "rmse = mean_squared_error(predicted_value, target_valid) ** 0.5\n",
    "\n",
    "# add score to dataframe\n",
    "rmse_scores = rmse_scores.append({'model': 'linear regression', 'rmse': rmse}, ignore_index=True)\n",
    "\n",
    "print(f'Linear Regression RMSE: {rmse}')"
   ]
  },
  {
   "cell_type": "markdown",
   "metadata": {},
   "source": [
    "For our sanity check, Linear Regression has a RMSE of 2952. It also ran in 16 seconds."
   ]
  },
  {
   "cell_type": "markdown",
   "metadata": {},
   "source": [
    "### Random Forest\n",
    "\n",
    "The next model to test will be random forest. OHE does not work well with trees, so I will use the OrdinalEncoder for it."
   ]
  },
  {
   "cell_type": "code",
   "execution_count": 37,
   "metadata": {},
   "outputs": [],
   "source": [
    "# encode data\n",
    "encoder = OrdinalEncoder()\n",
    "\n",
    "# create copies\n",
    "features_train_encoded = features_train.copy()\n",
    "features_valid_encoded = features_valid.copy()\n",
    "features_test_encoded = features_test.copy()\n",
    "\n",
    "# only fit encoder on the training set\n",
    "encoder.fit(features_train_encoded[categorical])\n",
    "\n",
    "# transform training and validation sets\n",
    "features_train_encoded[categorical] = encoder.transform(features_train[categorical].astype('str'))\n",
    "features_valid_encoded[categorical] = encoder.transform(features_valid_encoded[categorical].astype('str'))\n",
    "features_test_encoded[categorical] = encoder.transform(features_test_encoded[categorical].astype('str'))"
   ]
  },
  {
   "cell_type": "code",
   "execution_count": 38,
   "metadata": {},
   "outputs": [
    {
     "name": "stdout",
     "output_type": "stream",
     "text": [
      "6, 10, 2338.9663978328035\n",
      "6, 20, 2337.531975145627\n",
      "6, 30, 2331.980581208885\n",
      "6, 40, 2329.5166085573364\n",
      "7, 10, 2215.2286475917035\n",
      "7, 30, 2211.0047001033377\n",
      "7, 40, 2210.369380414424\n",
      "8, 10, 2126.720344928382\n",
      "8, 20, 2124.394011751589\n",
      "8, 30, 2119.8316463829615\n",
      "8, 40, 2118.9934002453456\n",
      "9, 10, 2053.7878153748384\n",
      "9, 20, 2051.6692514209963\n",
      "9, 30, 2046.8685544263187\n",
      "9, 40, 2045.9575988713998\n",
      "9, 50, 2045.7694470186568\n",
      "9, 60, 2045.5401693955887\n",
      "10, 10, 1986.1242965267031\n",
      "10, 20, 1982.4764001809826\n",
      "10, 30, 1977.462050826856\n",
      "10, 40, 1976.2163271027432\n",
      "10, 50, 1975.1937001762462\n",
      "10, 60, 1974.649182034377\n",
      "10, 70, 1974.4572544347466\n",
      "10, 110, 1974.4268961721114\n",
      "10, 120, 1973.9870829441536\n",
      "11, 10, 1927.087630136927\n",
      "11, 20, 1919.937232878869\n",
      "11, 30, 1914.8156559765614\n",
      "11, 40, 1912.7531102821858\n",
      "11, 50, 1911.3674485462802\n",
      "11, 60, 1911.0513135765198\n",
      "11, 70, 1910.7161781126167\n",
      "11, 120, 1910.6903192571663\n",
      "Random Forest - Depth: 11; Est: 120; RMSE: 1910.6903192571663\n",
      "CPU times: user 22min 3s, sys: 1.4 s, total: 22min 5s\n",
      "Wall time: 22min 6s\n"
     ]
    }
   ],
   "source": [
    "%%time\n",
    "\n",
    "best_rmse = float('inf')\n",
    "best_depth = 0\n",
    "best_est = 0\n",
    "\n",
    "# looping through max depths\n",
    "for depth in range(6, 12):\n",
    "\n",
    "    # looping through number of estimators\n",
    "    for est in range(10, 121, 10): \n",
    "        rf = RandomForestRegressor(random_state=12345, n_estimators=est, max_depth=depth)\n",
    "        \n",
    "        rf.fit(features_train_encoded, target_train) \n",
    "        predictions_valid = rf.predict(features_valid_encoded)\n",
    "        \n",
    "        rmse = mean_squared_error(predictions_valid, target_valid) ** 0.5\n",
    "\n",
    "        if rmse < best_rmse:\n",
    "            print(f'{depth}, {est}, {rmse}')\n",
    "            best_rmse = rmse\n",
    "            best_depth = depth\n",
    "            best_est = est\n",
    "\n",
    "# add score to dataframe\n",
    "rmse_scores = rmse_scores.append({'model': 'random forest', 'rmse': best_rmse}, ignore_index=True)\n",
    "\n",
    "print(f'Random Forest - Depth: {best_depth}; Est: {best_est}; RMSE: {best_rmse}')"
   ]
  },
  {
   "cell_type": "markdown",
   "metadata": {},
   "source": [
    "The best Random Forest model has a depth of 11 and 120 estimators. Its RMSE is 1910. It took 23 minutes to do all the hyperparameter tuning. "
   ]
  },
  {
   "cell_type": "markdown",
   "metadata": {},
   "source": [
    "### LightGBM"
   ]
  },
  {
   "cell_type": "code",
   "execution_count": 39,
   "metadata": {},
   "outputs": [],
   "source": [
    "features_train_cat = features_train.copy()\n",
    "features_valid_cat = features_valid.copy()\n",
    "features_test_cat = features_test.copy()\n",
    "\n",
    "for col in categorical:\n",
    "    features_train_cat[col] = features_train_cat[col].astype('category')\n",
    "    features_valid_cat[col] = features_valid_cat[col].astype('category')\n",
    "    features_test_cat[col] = features_test_cat[col].astype('category')"
   ]
  },
  {
   "cell_type": "code",
   "execution_count": 40,
   "metadata": {},
   "outputs": [
    {
     "name": "stdout",
     "output_type": "stream",
     "text": [
      "80, 1695.4317703182624\n",
      "90, 1686.9185008196268\n",
      "100, 1683.8286701788215\n",
      "110, 1681.7235149959824\n",
      "120, 1681.0034149749874\n",
      "130, 1678.3765722923017\n",
      "140, 1675.136354361288\n",
      "LightGBM - Leaves: 140; RMSE: 1675.136354361288\n",
      "CPU times: user 45.3 s, sys: 323 ms, total: 45.7 s\n",
      "Wall time: 46.1 s\n"
     ]
    }
   ],
   "source": [
    "%%time\n",
    "\n",
    "best_rmse = float('inf')\n",
    "best_leaves = 0\n",
    "\n",
    "for leaves in range(80, 150, 10):\n",
    "    lgbm = LGBMRegressor(num_leaves=leaves)\n",
    "    lgbm.fit(features_train_cat, target_train)\n",
    "    predictions_valid = lgbm.predict(features_valid_cat)\n",
    "    \n",
    "    rmse = mean_squared_error(predictions_valid, target_valid) ** 0.5\n",
    "    \n",
    "    if rmse < best_rmse:\n",
    "        print(f'{leaves}, {rmse}')\n",
    "        best_rmse = rmse\n",
    "        best_leaves = leaves\n",
    "\n",
    "# add score to dataframe\n",
    "rmse_scores = rmse_scores.append({'model': 'lgbm', 'rmse': best_rmse}, ignore_index=True)\n",
    "\n",
    "print(f'LightGBM - Leaves: {leaves}; RMSE: {best_rmse}')"
   ]
  },
  {
   "cell_type": "markdown",
   "metadata": {},
   "source": [
    "One hyperparameter (number of leaves) was tested for LightGBM. 140 leaves gives the best RSME of 1675, and it took 45 seconds to run."
   ]
  },
  {
   "cell_type": "markdown",
   "metadata": {},
   "source": [
    "### CatBoost"
   ]
  },
  {
   "cell_type": "code",
   "execution_count": 41,
   "metadata": {},
   "outputs": [
    {
     "name": "stdout",
     "output_type": "stream",
     "text": [
      "Learning rate set to 0.439087\n",
      "0:\tlearn: 3411.4679383\ttotal: 198ms\tremaining: 29.5s\n",
      "10:\tlearn: 2014.2576874\ttotal: 1.55s\tremaining: 19.6s\n",
      "20:\tlearn: 1922.3951436\ttotal: 2.81s\tremaining: 17.3s\n",
      "30:\tlearn: 1871.5760373\ttotal: 4.05s\tremaining: 15.6s\n",
      "40:\tlearn: 1839.6077846\ttotal: 5.29s\tremaining: 14.1s\n",
      "50:\tlearn: 1813.4444476\ttotal: 6.55s\tremaining: 12.7s\n",
      "60:\tlearn: 1797.4121125\ttotal: 7.77s\tremaining: 11.3s\n",
      "70:\tlearn: 1781.6463410\ttotal: 9.03s\tremaining: 10s\n",
      "80:\tlearn: 1771.0059688\ttotal: 10.3s\tremaining: 8.74s\n",
      "90:\tlearn: 1763.1138702\ttotal: 11.5s\tremaining: 7.46s\n",
      "100:\tlearn: 1754.0685931\ttotal: 12.8s\tremaining: 6.19s\n",
      "110:\tlearn: 1743.9297492\ttotal: 14s\tremaining: 4.92s\n",
      "120:\tlearn: 1734.8075529\ttotal: 15.3s\tremaining: 3.65s\n",
      "130:\tlearn: 1726.7915499\ttotal: 16.5s\tremaining: 2.39s\n",
      "140:\tlearn: 1720.2409035\ttotal: 17.7s\tremaining: 1.13s\n",
      "149:\tlearn: 1713.8256325\ttotal: 18.9s\tremaining: 0us\n",
      "CatBoost - RMSE: 1776.2748385926488\n",
      "CPU times: user 19.2 s, sys: 88 ms, total: 19.3 s\n",
      "Wall time: 19.5 s\n"
     ]
    }
   ],
   "source": [
    "%%time \n",
    "\n",
    "cat = CatBoostRegressor(loss_function=\"RMSE\", iterations=150, random_seed=12345)\n",
    "cat.fit(features_train, target_train, cat_features=categorical, verbose=10)\n",
    "predictions_valid = cat.predict(features_valid)\n",
    "rmse = mean_squared_error(predictions_valid, target_valid) ** 0.5\n",
    "\n",
    "rmse_scores = rmse_scores.append({'model': 'catboost', 'rmse': rmse}, ignore_index=True)\n",
    "\n",
    "print(f'CatBoost - RMSE: {rmse}')"
   ]
  },
  {
   "cell_type": "markdown",
   "metadata": {},
   "source": [
    "CatBoost's best RMSE is 1776, and it took 19 seconds to run."
   ]
  },
  {
   "cell_type": "markdown",
   "metadata": {},
   "source": [
    "### XGBoost\n",
    "XGBoost can't handle categorical values, so I will use the encoded version of the data."
   ]
  },
  {
   "cell_type": "code",
   "execution_count": 42,
   "metadata": {},
   "outputs": [
    {
     "name": "stdout",
     "output_type": "stream",
     "text": [
      "XGBoost - RMSE: 1750.6822436860396\n",
      "CPU times: user 28.1 s, sys: 137 ms, total: 28.2 s\n",
      "Wall time: 28.4 s\n"
     ]
    }
   ],
   "source": [
    "%%time\n",
    "\n",
    "xgb = XGBRegressor()\n",
    "xgb.fit(features_train_encoded, target_train)\n",
    "predictions_valid = xgb.predict(features_valid_encoded)\n",
    "rmse = mean_squared_error(predictions_valid, target_valid) ** 0.5\n",
    "\n",
    "rmse_scores = rmse_scores.append({'model': 'xgboost', 'rmse': rmse}, ignore_index=True)\n",
    "\n",
    "print(f'XGBoost - RMSE: {rmse}')"
   ]
  },
  {
   "cell_type": "code",
   "execution_count": null,
   "metadata": {},
   "outputs": [],
   "source": []
  },
  {
   "cell_type": "markdown",
   "metadata": {},
   "source": [
    "XGBoost took 28 seconds to run and has an RMSE of 1745."
   ]
  },
  {
   "cell_type": "markdown",
   "metadata": {},
   "source": [
    "## Model analysis"
   ]
  },
  {
   "cell_type": "markdown",
   "metadata": {},
   "source": [
    "### Time Analysis\n",
    "\n",
    "* **Linear Regression:** 16 seconds\n",
    "* **Random Forest:** 23 minutes\n",
    "* **LightGBM:** 45 seconds\n",
    "* **CatBoost:** 19 seconds\n",
    "* **XGBoost:** 28 seconds\n",
    "\n",
    "RandomForest took the longest time to run because there were so many hyperparameters that were tested. The runtime of it could be reduced by narrowing the scope of the hyperparameters. The other models were very quick, each running in under a minute. If additional hyperparameters were tuned in LightGBM, CatBoost, and XGBoost, then their runtimes would have increased."
   ]
  },
  {
   "cell_type": "markdown",
   "metadata": {},
   "source": [
    "### RMSE Analysis"
   ]
  },
  {
   "cell_type": "code",
   "execution_count": 43,
   "metadata": {},
   "outputs": [
    {
     "data": {
      "text/html": [
       "<div>\n",
       "<style scoped>\n",
       "    .dataframe tbody tr th:only-of-type {\n",
       "        vertical-align: middle;\n",
       "    }\n",
       "\n",
       "    .dataframe tbody tr th {\n",
       "        vertical-align: top;\n",
       "    }\n",
       "\n",
       "    .dataframe thead th {\n",
       "        text-align: right;\n",
       "    }\n",
       "</style>\n",
       "<table border=\"1\" class=\"dataframe\">\n",
       "  <thead>\n",
       "    <tr style=\"text-align: right;\">\n",
       "      <th></th>\n",
       "      <th>model</th>\n",
       "      <th>rmse</th>\n",
       "    </tr>\n",
       "  </thead>\n",
       "  <tbody>\n",
       "    <tr>\n",
       "      <th>0</th>\n",
       "      <td>linear regression</td>\n",
       "      <td>2952.208880</td>\n",
       "    </tr>\n",
       "    <tr>\n",
       "      <th>1</th>\n",
       "      <td>random forest</td>\n",
       "      <td>1910.690319</td>\n",
       "    </tr>\n",
       "    <tr>\n",
       "      <th>2</th>\n",
       "      <td>lgbm</td>\n",
       "      <td>1675.136354</td>\n",
       "    </tr>\n",
       "    <tr>\n",
       "      <th>3</th>\n",
       "      <td>catboost</td>\n",
       "      <td>1776.274839</td>\n",
       "    </tr>\n",
       "    <tr>\n",
       "      <th>4</th>\n",
       "      <td>xgboost</td>\n",
       "      <td>1750.682244</td>\n",
       "    </tr>\n",
       "  </tbody>\n",
       "</table>\n",
       "</div>"
      ],
      "text/plain": [
       "               model         rmse\n",
       "0  linear regression  2952.208880\n",
       "1      random forest  1910.690319\n",
       "2               lgbm  1675.136354\n",
       "3           catboost  1776.274839\n",
       "4            xgboost  1750.682244"
      ]
     },
     "execution_count": 43,
     "metadata": {},
     "output_type": "execute_result"
    }
   ],
   "source": [
    "rmse_scores"
   ]
  },
  {
   "cell_type": "markdown",
   "metadata": {},
   "source": [
    "Linear Regression had the worst RMSE of 2952, and LightGBM had the best RMSE of 1675. The other Gradient Boosting algorithms were close, and Random Forest still had a significant improvement over Linear Regression."
   ]
  },
  {
   "cell_type": "markdown",
   "metadata": {},
   "source": [
    "### Testing LightGBM\n",
    "I will now test the LightGBM model with 140 leaves on the testing dataset to confirm the RMSE."
   ]
  },
  {
   "cell_type": "code",
   "execution_count": 44,
   "metadata": {},
   "outputs": [
    {
     "name": "stdout",
     "output_type": "stream",
     "text": [
      "LightGBM - Leaves: 140; RMSE: 1662.361851812816\n",
      "CPU times: user 7.29 s, sys: 92.8 ms, total: 7.38 s\n",
      "Wall time: 7.48 s\n"
     ]
    }
   ],
   "source": [
    "%%time\n",
    "\n",
    "lgbm = LGBMRegressor(num_leaves=140)\n",
    "lgbm.fit(features_train_cat, target_train)\n",
    "predictions_test = lgbm.predict(features_test_cat)\n",
    "\n",
    "rmse = mean_squared_error(predictions_test, target_test) ** 0.5\n",
    "\n",
    "print(f'LightGBM - Leaves: 140; RMSE: {rmse}')"
   ]
  },
  {
   "cell_type": "markdown",
   "metadata": {},
   "source": [
    "With LightGBM, the test set has a RMSE of 1662."
   ]
  },
  {
   "cell_type": "markdown",
   "metadata": {},
   "source": [
    "# Conclusion\n",
    "\n",
    "Rusty Bargain is interested in the quality, speed, and training time for the models. I would recommend that Rusty Bargain not consider Linear Regression nor Random Forest for their model, as they had the worst RMSE scores. \n",
    "\n",
    "The Gradient Boosting algorithms (CatBoost, LightGBM, and XGBoost) are the models to consider, and of these I would suggest Rusty Bargain consider both CatBoost and LightGBM. LightGBM had the best RMSE of all the models tested, but it took the most time of the Gradient Boosting algorithms due to testing different hyperparameters. If Rusty Bargain scales and has even more data, the runtime will increase. CatBoost had a slightly lower RMSE but was the quickest Gradient Boosting model, so if Rusty Bargain expects that they will scale in the future then it is also worth considering."
   ]
  }
 ],
 "metadata": {
  "kernelspec": {
   "display_name": "Python 3 (ipykernel)",
   "language": "python",
   "name": "python3"
  },
  "language_info": {
   "codemirror_mode": {
    "name": "ipython",
    "version": 3
   },
   "file_extension": ".py",
   "mimetype": "text/x-python",
   "name": "python",
   "nbconvert_exporter": "python",
   "pygments_lexer": "ipython3",
   "version": "3.9.6"
  },
  "toc": {
   "base_numbering": 1,
   "nav_menu": {},
   "number_sections": true,
   "sideBar": true,
   "skip_h1_title": true,
   "title_cell": "Table of Contents",
   "title_sidebar": "Contents",
   "toc_cell": false,
   "toc_position": {},
   "toc_section_display": true,
   "toc_window_display": false
  }
 },
 "nbformat": 4,
 "nbformat_minor": 2
}
