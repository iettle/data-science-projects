{
 "cells": [
  {
   "cell_type": "markdown",
   "metadata": {},
   "source": [
    "Hi Juliette!\n",
    "\n",
    "My name is Natalia Bernshtein and I am happy to review your work.\n",
    "\n",
    "If there are any mistakes or imprecisions, I'll give you a hint about it, allowing you to find it and fix it by yourself. The same would be done by your teamlead in your real workplace, so it's good practice! However, should there be any further issues, I'll add some details to help you.\n",
    "\n",
    "Below you will find my comments - **please do not move, modify or delete them**.\n",
    "\n",
    "You can find my comments in green, yellow or red boxes like this:\n",
    "\n",
    "<div class=\"alert alert-block alert-success\">\n",
    "<b>Reviewer's comment</b> <a class=\"tocSkip\"></a>\n",
    "\n",
    "Success. Everything is done succesfully.\n",
    "</div>\n",
    "\n",
    "<div class=\"alert alert-block alert-warning\">\n",
    "<b>Reviewer's comment</b> <a class=\"tocSkip\"></a>\n",
    "\n",
    "Remarks. Some recommendations.\n",
    "</div>\n",
    "\n",
    "<div class=\"alert alert-block alert-danger\">\n",
    "\n",
    "<b>Reviewer's comment</b> <a class=\"tocSkip\"></a>\n",
    "\n",
    "Needs fixing. The block requires some corrections. Work can't be accepted with the red comments.\n",
    "</div>\n",
    "\n",
    "You can answer me by using this:\n",
    "\n",
    "<div class=\"alert alert-block alert-info\">\n",
    "<b>Student answer.</b> <a class=\"tocSkip\"></a>\n",
    "\n",
    "Text here.\n",
    "</div>"
   ]
  },
  {
   "cell_type": "markdown",
   "metadata": {},
   "source": [
    "# What sells a car?\n",
    "\n",
    "You're an analyst at Crankshaft List. Hundreds of free advertisements for vehicles are published on your site every day. You need to study data collected over the last few years and determine which factors influence the price of a vehicle."
   ]
  },
  {
   "cell_type": "markdown",
   "metadata": {},
   "source": [
    "The purpose of this project is to determine which factors, such as model, color, or year, most impact the price of a car that is being sold. Multiple factors will be analyzed to determine which are correlated with higher or lower prices.\n",
    "\n",
    "To accomplish this, I will first preprocess the data by cleaning it, addressing missing/odd values, and converting the data types. I will create derived columns to make the data easier to work with for the analysis, then I will carry out exploratory data analysis. During EDA, I will look at multiple parameters, observe outliers within the data, and determine which factors impact price the most."
   ]
  },
  {
   "cell_type": "markdown",
   "metadata": {},
   "source": [
    "<div class=\"alert alert-block alert-success\">\n",
    "<b>Reviewer's comment</b> <a class=\"tocSkip\"></a>\n",
    "\n",
    "Thank you for including an intro to your project and also the plan of your analysis!\n",
    "</div>"
   ]
  },
  {
   "cell_type": "markdown",
   "metadata": {},
   "source": [
    "## Initialization"
   ]
  },
  {
   "cell_type": "code",
   "execution_count": 1,
   "metadata": {},
   "outputs": [],
   "source": [
    "# Loading all the libraries\n",
    "import pandas as pd\n",
    "import matplotlib.pyplot as plt"
   ]
  },
  {
   "cell_type": "markdown",
   "metadata": {},
   "source": [
    "<div class=\"alert alert-block alert-success\">\n",
    "<b>Reviewer's comment</b> <a class=\"tocSkip\"></a>\n",
    "\n",
    "Keeping all imports in a separate cell is a good practice, well done. This way we don't need to reload data if we decide to add a new import, for example.\n",
    "</div>"
   ]
  },
  {
   "cell_type": "markdown",
   "metadata": {},
   "source": [
    "### Load data"
   ]
  },
  {
   "cell_type": "code",
   "execution_count": 2,
   "metadata": {},
   "outputs": [],
   "source": [
    "# Load the data file into a DataFrame\n",
    "try:\n",
    "    df = pd.read_csv('/datasets/vehicles_us.csv')\n",
    "except:\n",
    "    print(\"Invalid path.\")"
   ]
  },
  {
   "cell_type": "markdown",
   "metadata": {},
   "source": [
    "<div class=\"alert alert-block alert-warning\">\n",
    "<s><b>Reviewer's comment</b> <a class=\"tocSkip\"></a>\n",
    "\n",
    "In order to make this cell work both on the platform and on your computer, you can use try-except construction (see section **8.3. Handling Exceptions** here: https://docs.python.org/3/tutorial/errors.html. We can `try` to read our file using its local path, and use the platform path should we get an exception :)\n",
    "</div>"
   ]
  },
  {
   "cell_type": "markdown",
   "metadata": {},
   "source": [
    "<div class=\"alert alert-block alert-info\">\n",
    "<b>Student answer.</b> <a class=\"tocSkip\"></a>\n",
    "\n",
    "Thank you, I've added the try-except block!\n",
    "</div>"
   ]
  },
  {
   "cell_type": "markdown",
   "metadata": {},
   "source": [
    "### Explore initial data"
   ]
  },
  {
   "cell_type": "markdown",
   "metadata": {},
   "source": [
    "The dataset contains the following fields:\n",
    "- `price`\n",
    "- `model_year`\n",
    "- `model`\n",
    "- `condition`\n",
    "- `cylinders`\n",
    "- `fuel` — gas, diesel, etc.\n",
    "- `odometer` — the vehicle's mileage when the ad was published\n",
    "- `transmission`\n",
    "- `paint_color`\n",
    "- `is_4wd` — whether the vehicle has 4-wheel drive (Boolean type)\n",
    "- `date_posted` — the date the ad was published\n",
    "- `days_listed` — from publication to removal"
   ]
  },
  {
   "cell_type": "code",
   "execution_count": 3,
   "metadata": {},
   "outputs": [
    {
     "name": "stdout",
     "output_type": "stream",
     "text": [
      "<class 'pandas.core.frame.DataFrame'>\n",
      "RangeIndex: 51525 entries, 0 to 51524\n",
      "Data columns (total 13 columns):\n",
      " #   Column        Non-Null Count  Dtype  \n",
      "---  ------        --------------  -----  \n",
      " 0   price         51525 non-null  int64  \n",
      " 1   model_year    47906 non-null  float64\n",
      " 2   model         51525 non-null  object \n",
      " 3   condition     51525 non-null  object \n",
      " 4   cylinders     46265 non-null  float64\n",
      " 5   fuel          51525 non-null  object \n",
      " 6   odometer      43633 non-null  float64\n",
      " 7   transmission  51525 non-null  object \n",
      " 8   type          51525 non-null  object \n",
      " 9   paint_color   42258 non-null  object \n",
      " 10  is_4wd        25572 non-null  float64\n",
      " 11  date_posted   51525 non-null  object \n",
      " 12  days_listed   51525 non-null  int64  \n",
      "dtypes: float64(4), int64(2), object(7)\n",
      "memory usage: 5.1+ MB\n"
     ]
    }
   ],
   "source": [
    "# Print the general/summary information about the DataFrame\n",
    "df.info()"
   ]
  },
  {
   "cell_type": "code",
   "execution_count": 4,
   "metadata": {},
   "outputs": [
    {
     "data": {
      "text/html": [
       "<div>\n",
       "<style scoped>\n",
       "    .dataframe tbody tr th:only-of-type {\n",
       "        vertical-align: middle;\n",
       "    }\n",
       "\n",
       "    .dataframe tbody tr th {\n",
       "        vertical-align: top;\n",
       "    }\n",
       "\n",
       "    .dataframe thead th {\n",
       "        text-align: right;\n",
       "    }\n",
       "</style>\n",
       "<table border=\"1\" class=\"dataframe\">\n",
       "  <thead>\n",
       "    <tr style=\"text-align: right;\">\n",
       "      <th></th>\n",
       "      <th>price</th>\n",
       "      <th>model_year</th>\n",
       "      <th>model</th>\n",
       "      <th>condition</th>\n",
       "      <th>cylinders</th>\n",
       "      <th>fuel</th>\n",
       "      <th>odometer</th>\n",
       "      <th>transmission</th>\n",
       "      <th>type</th>\n",
       "      <th>paint_color</th>\n",
       "      <th>is_4wd</th>\n",
       "      <th>date_posted</th>\n",
       "      <th>days_listed</th>\n",
       "    </tr>\n",
       "  </thead>\n",
       "  <tbody>\n",
       "    <tr>\n",
       "      <th>0</th>\n",
       "      <td>9400</td>\n",
       "      <td>2011.0</td>\n",
       "      <td>bmw x5</td>\n",
       "      <td>good</td>\n",
       "      <td>6.0</td>\n",
       "      <td>gas</td>\n",
       "      <td>145000.0</td>\n",
       "      <td>automatic</td>\n",
       "      <td>SUV</td>\n",
       "      <td>NaN</td>\n",
       "      <td>1.0</td>\n",
       "      <td>2018-06-23</td>\n",
       "      <td>19</td>\n",
       "    </tr>\n",
       "    <tr>\n",
       "      <th>1</th>\n",
       "      <td>25500</td>\n",
       "      <td>NaN</td>\n",
       "      <td>ford f-150</td>\n",
       "      <td>good</td>\n",
       "      <td>6.0</td>\n",
       "      <td>gas</td>\n",
       "      <td>88705.0</td>\n",
       "      <td>automatic</td>\n",
       "      <td>pickup</td>\n",
       "      <td>white</td>\n",
       "      <td>1.0</td>\n",
       "      <td>2018-10-19</td>\n",
       "      <td>50</td>\n",
       "    </tr>\n",
       "    <tr>\n",
       "      <th>2</th>\n",
       "      <td>5500</td>\n",
       "      <td>2013.0</td>\n",
       "      <td>hyundai sonata</td>\n",
       "      <td>like new</td>\n",
       "      <td>4.0</td>\n",
       "      <td>gas</td>\n",
       "      <td>110000.0</td>\n",
       "      <td>automatic</td>\n",
       "      <td>sedan</td>\n",
       "      <td>red</td>\n",
       "      <td>NaN</td>\n",
       "      <td>2019-02-07</td>\n",
       "      <td>79</td>\n",
       "    </tr>\n",
       "    <tr>\n",
       "      <th>3</th>\n",
       "      <td>1500</td>\n",
       "      <td>2003.0</td>\n",
       "      <td>ford f-150</td>\n",
       "      <td>fair</td>\n",
       "      <td>8.0</td>\n",
       "      <td>gas</td>\n",
       "      <td>NaN</td>\n",
       "      <td>automatic</td>\n",
       "      <td>pickup</td>\n",
       "      <td>NaN</td>\n",
       "      <td>NaN</td>\n",
       "      <td>2019-03-22</td>\n",
       "      <td>9</td>\n",
       "    </tr>\n",
       "    <tr>\n",
       "      <th>4</th>\n",
       "      <td>14900</td>\n",
       "      <td>2017.0</td>\n",
       "      <td>chrysler 200</td>\n",
       "      <td>excellent</td>\n",
       "      <td>4.0</td>\n",
       "      <td>gas</td>\n",
       "      <td>80903.0</td>\n",
       "      <td>automatic</td>\n",
       "      <td>sedan</td>\n",
       "      <td>black</td>\n",
       "      <td>NaN</td>\n",
       "      <td>2019-04-02</td>\n",
       "      <td>28</td>\n",
       "    </tr>\n",
       "    <tr>\n",
       "      <th>5</th>\n",
       "      <td>14990</td>\n",
       "      <td>2014.0</td>\n",
       "      <td>chrysler 300</td>\n",
       "      <td>excellent</td>\n",
       "      <td>6.0</td>\n",
       "      <td>gas</td>\n",
       "      <td>57954.0</td>\n",
       "      <td>automatic</td>\n",
       "      <td>sedan</td>\n",
       "      <td>black</td>\n",
       "      <td>1.0</td>\n",
       "      <td>2018-06-20</td>\n",
       "      <td>15</td>\n",
       "    </tr>\n",
       "    <tr>\n",
       "      <th>6</th>\n",
       "      <td>12990</td>\n",
       "      <td>2015.0</td>\n",
       "      <td>toyota camry</td>\n",
       "      <td>excellent</td>\n",
       "      <td>4.0</td>\n",
       "      <td>gas</td>\n",
       "      <td>79212.0</td>\n",
       "      <td>automatic</td>\n",
       "      <td>sedan</td>\n",
       "      <td>white</td>\n",
       "      <td>NaN</td>\n",
       "      <td>2018-12-27</td>\n",
       "      <td>73</td>\n",
       "    </tr>\n",
       "    <tr>\n",
       "      <th>7</th>\n",
       "      <td>15990</td>\n",
       "      <td>2013.0</td>\n",
       "      <td>honda pilot</td>\n",
       "      <td>excellent</td>\n",
       "      <td>6.0</td>\n",
       "      <td>gas</td>\n",
       "      <td>109473.0</td>\n",
       "      <td>automatic</td>\n",
       "      <td>SUV</td>\n",
       "      <td>black</td>\n",
       "      <td>1.0</td>\n",
       "      <td>2019-01-07</td>\n",
       "      <td>68</td>\n",
       "    </tr>\n",
       "    <tr>\n",
       "      <th>8</th>\n",
       "      <td>11500</td>\n",
       "      <td>2012.0</td>\n",
       "      <td>kia sorento</td>\n",
       "      <td>excellent</td>\n",
       "      <td>4.0</td>\n",
       "      <td>gas</td>\n",
       "      <td>104174.0</td>\n",
       "      <td>automatic</td>\n",
       "      <td>SUV</td>\n",
       "      <td>NaN</td>\n",
       "      <td>1.0</td>\n",
       "      <td>2018-07-16</td>\n",
       "      <td>19</td>\n",
       "    </tr>\n",
       "    <tr>\n",
       "      <th>9</th>\n",
       "      <td>9200</td>\n",
       "      <td>2008.0</td>\n",
       "      <td>honda pilot</td>\n",
       "      <td>excellent</td>\n",
       "      <td>NaN</td>\n",
       "      <td>gas</td>\n",
       "      <td>147191.0</td>\n",
       "      <td>automatic</td>\n",
       "      <td>SUV</td>\n",
       "      <td>blue</td>\n",
       "      <td>1.0</td>\n",
       "      <td>2019-02-15</td>\n",
       "      <td>17</td>\n",
       "    </tr>\n",
       "  </tbody>\n",
       "</table>\n",
       "</div>"
      ],
      "text/plain": [
       "   price  model_year           model  condition  cylinders fuel  odometer  \\\n",
       "0   9400      2011.0          bmw x5       good        6.0  gas  145000.0   \n",
       "1  25500         NaN      ford f-150       good        6.0  gas   88705.0   \n",
       "2   5500      2013.0  hyundai sonata   like new        4.0  gas  110000.0   \n",
       "3   1500      2003.0      ford f-150       fair        8.0  gas       NaN   \n",
       "4  14900      2017.0    chrysler 200  excellent        4.0  gas   80903.0   \n",
       "5  14990      2014.0    chrysler 300  excellent        6.0  gas   57954.0   \n",
       "6  12990      2015.0    toyota camry  excellent        4.0  gas   79212.0   \n",
       "7  15990      2013.0     honda pilot  excellent        6.0  gas  109473.0   \n",
       "8  11500      2012.0     kia sorento  excellent        4.0  gas  104174.0   \n",
       "9   9200      2008.0     honda pilot  excellent        NaN  gas  147191.0   \n",
       "\n",
       "  transmission    type paint_color  is_4wd date_posted  days_listed  \n",
       "0    automatic     SUV         NaN     1.0  2018-06-23           19  \n",
       "1    automatic  pickup       white     1.0  2018-10-19           50  \n",
       "2    automatic   sedan         red     NaN  2019-02-07           79  \n",
       "3    automatic  pickup         NaN     NaN  2019-03-22            9  \n",
       "4    automatic   sedan       black     NaN  2019-04-02           28  \n",
       "5    automatic   sedan       black     1.0  2018-06-20           15  \n",
       "6    automatic   sedan       white     NaN  2018-12-27           73  \n",
       "7    automatic     SUV       black     1.0  2019-01-07           68  \n",
       "8    automatic     SUV         NaN     1.0  2018-07-16           19  \n",
       "9    automatic     SUV        blue     1.0  2019-02-15           17  "
      ]
     },
     "execution_count": 4,
     "metadata": {},
     "output_type": "execute_result"
    }
   ],
   "source": [
    "# Print a sample of data\n",
    "df.head(10)"
   ]
  },
  {
   "cell_type": "markdown",
   "metadata": {},
   "source": [
    "Between the data information and the first few rows I've observed, there are a few elements to note. The columns `model_year`, `cylinders`, and `is_4wd` are all float types, but it appears they should all be converted to integers. `date_posted` is a string (object) data type but should be converted to a datetime object.\n",
    "\n",
    "There are also null values in `model_year`, `cylinders`, `odometer`, `paint_color`, and `is_4wd` that will need to be addressed. The missing values in `is_4wd` will need to be investigated further, as approximately half of its values are null."
   ]
  },
  {
   "cell_type": "markdown",
   "metadata": {},
   "source": [
    "<div class=\"alert alert-block alert-success\">\n",
    "<b>Reviewer's comment</b> <a class=\"tocSkip\"></a>\n",
    "\n",
    "Excellent! `info` and `head` are really the fastest and easiest way to get some sense of our data. And it's very good that you listed your observations in such a structured manner.\n",
    "</div>"
   ]
  },
  {
   "cell_type": "markdown",
   "metadata": {},
   "source": [
    "### Conclusions and further steps\n",
    "\n",
    "Going forward, the missing values will need to be addressed in each column. It will be possible for some values to be extrapolated based on other values in the data, but it will be difficult to fill arbitrary values, such as `paint_color`. There are numerous float types that will need to be converted to integer types as well. "
   ]
  },
  {
   "cell_type": "markdown",
   "metadata": {},
   "source": [
    "## Treat missing values"
   ]
  },
  {
   "cell_type": "markdown",
   "metadata": {},
   "source": [
    "First, I will check missing values for the following columns: `model_year`, `cylinders`, `odometer`, `paint_color`, and `is_4wd`."
   ]
  },
  {
   "cell_type": "markdown",
   "metadata": {},
   "source": [
    "### Model Year"
   ]
  },
  {
   "cell_type": "code",
   "execution_count": 5,
   "metadata": {},
   "outputs": [
    {
     "name": "stdout",
     "output_type": "stream",
     "text": [
      "Percent of values missing: 7.02%\n"
     ]
    }
   ],
   "source": [
    "# Check percentage of missing values\n",
    "print(f'Percent of values missing: {df.model_year.isnull().sum() / len(df):.2%}')"
   ]
  },
  {
   "cell_type": "code",
   "execution_count": 6,
   "metadata": {
    "scrolled": true
   },
   "outputs": [
    {
     "data": {
      "text/plain": [
       "<AxesSubplot:title={'center':'Advertisements For Each Model Year'}, xlabel='Years', ylabel='Number of ads'>"
      ]
     },
     "execution_count": 6,
     "metadata": {},
     "output_type": "execute_result"
    },
    {
     "data": {
      "image/png": "[encoded data removed]",
      "text/plain": [
       "<Figure size 1152x288 with 1 Axes>"
      ]
     },
     "metadata": {
      "needs_background": "light"
     },
     "output_type": "display_data"
    }
   ],
   "source": [
    "# Check distribution of model_years\n",
    "df['model_year'].value_counts().plot(kind='bar', figsize=(16,4),\n",
    "                                     title='Advertisements For Each Model Year',\n",
    "                                     xlabel='Years',\n",
    "                                     ylabel='Number of ads'\n",
    "                                    )"
   ]
  },
  {
   "cell_type": "markdown",
   "metadata": {},
   "source": [
    "<div class=\"alert alert-block alert-danger\">\n",
    "<s><b>Reviewer's comment</b> <a class=\"tocSkip\"></a>\n",
    "\n",
    "Here and below: please add chart titles and axes names to each chart :) It's really important as it helps the potential reader to understand better what's going on in the chart.\n",
    "</div>"
   ]
  },
  {
   "cell_type": "markdown",
   "metadata": {},
   "source": [
    "<div class=\"alert alert-block alert-info\">\n",
    "<b>Student answer.</b> <a class=\"tocSkip\"></a>\n",
    "\n",
    "I have added axes names and a chart title.\n",
    "</div>"
   ]
  },
  {
   "cell_type": "markdown",
   "metadata": {},
   "source": [
    "<div class=\"alert alert-block alert-success\">\n",
    "<b>Reviewer's comment v2</b> <a class=\"tocSkip\"></a>\n",
    "\n",
    "Well done, thank you!\n",
    "</div>"
   ]
  },
  {
   "cell_type": "markdown",
   "metadata": {},
   "source": [
    "Since 7% of the data has a missing `model_year`, I do not want to drop these rows. From this bar chart, we can see that model years between 2000-2018 are the most popular, with 2011-2016 being the top five. There are a few cars with model years in 1990 and before, but these are outliers. As such, a median will need to be used to fill the missing values. The median of each model will be used to fill in this information."
   ]
  },
  {
   "cell_type": "code",
   "execution_count": 7,
   "metadata": {},
   "outputs": [],
   "source": [
    "# Fill in missing value based on median year of a car's model\n",
    "df['model_year'] = df['model_year'].fillna(df.groupby(['model'])['model_year'].transform('median'))"
   ]
  },
  {
   "cell_type": "code",
   "execution_count": 8,
   "metadata": {
    "scrolled": true
   },
   "outputs": [
    {
     "data": {
      "text/plain": [
       "False"
      ]
     },
     "execution_count": 8,
     "metadata": {},
     "output_type": "execute_result"
    }
   ],
   "source": [
    "# Checking if values were filled\n",
    "df['model_year'].isnull().any()"
   ]
  },
  {
   "cell_type": "markdown",
   "metadata": {},
   "source": [
    "<div class=\"alert alert-block alert-success\">\n",
    "<b>Reviewer's comment</b> <a class=\"tocSkip\"></a>\n",
    "\n",
    "Well done! It actually is reasonable to assume that model year correlates with vehicle's model.\n",
    "</div>"
   ]
  },
  {
   "cell_type": "markdown",
   "metadata": {},
   "source": [
    "### 4wd"
   ]
  },
  {
   "cell_type": "code",
   "execution_count": 9,
   "metadata": {},
   "outputs": [
    {
     "name": "stdout",
     "output_type": "stream",
     "text": [
      "Percent of values missing: 50.37%\n"
     ]
    }
   ],
   "source": [
    "# Check percentage of missing values\n",
    "print(f'Percent of values missing: {df.is_4wd.isnull().sum() / len(df):.2%}')"
   ]
  },
  {
   "cell_type": "code",
   "execution_count": 10,
   "metadata": {
    "scrolled": true
   },
   "outputs": [
    {
     "data": {
      "text/plain": [
       "array([ 1., nan])"
      ]
     },
     "execution_count": 10,
     "metadata": {},
     "output_type": "execute_result"
    }
   ],
   "source": [
    "# Checking unique values\n",
    "df['is_4wd'].unique()"
   ]
  },
  {
   "cell_type": "markdown",
   "metadata": {},
   "source": [
    "`is_4wd` seems like a binary variable, with 1 if the vehicle has a four-wheel drive and 0 otherwise. There are no 0 values however, so this could just be user error. I will fill all missing values with 0."
   ]
  },
  {
   "cell_type": "code",
   "execution_count": 11,
   "metadata": {},
   "outputs": [],
   "source": [
    "# Filling missing values\n",
    "df['is_4wd'] = df['is_4wd'].fillna(0)"
   ]
  },
  {
   "cell_type": "code",
   "execution_count": 12,
   "metadata": {},
   "outputs": [
    {
     "data": {
      "text/plain": [
       "0.0    25953\n",
       "1.0    25572\n",
       "Name: is_4wd, dtype: int64"
      ]
     },
     "execution_count": 12,
     "metadata": {},
     "output_type": "execute_result"
    }
   ],
   "source": [
    "# Checking counts to make sure it's been addressed\n",
    "df['is_4wd'].value_counts()"
   ]
  },
  {
   "cell_type": "markdown",
   "metadata": {},
   "source": [
    "<div class=\"alert alert-block alert-success\">\n",
    "<b>Reviewer's comment</b> <a class=\"tocSkip\"></a>\n",
    "\n",
    "100% correct!\n",
    "</div>"
   ]
  },
  {
   "cell_type": "markdown",
   "metadata": {},
   "source": [
    "### Cylinders"
   ]
  },
  {
   "cell_type": "code",
   "execution_count": 13,
   "metadata": {
    "scrolled": true
   },
   "outputs": [
    {
     "name": "stdout",
     "output_type": "stream",
     "text": [
      "Percent of values missing: 10.21%\n"
     ]
    }
   ],
   "source": [
    "# Check percentage of missing values\n",
    "print(f'Percent of values missing: {df.cylinders.isnull().sum() / len(df):.2%}')"
   ]
  },
  {
   "cell_type": "code",
   "execution_count": 14,
   "metadata": {
    "scrolled": true
   },
   "outputs": [
    {
     "data": {
      "text/plain": [
       "8.0     15844\n",
       "6.0     15700\n",
       "4.0     13864\n",
       "10.0      549\n",
       "5.0       272\n",
       "3.0        34\n",
       "12.0        2\n",
       "Name: cylinders, dtype: int64"
      ]
     },
     "execution_count": 14,
     "metadata": {},
     "output_type": "execute_result"
    }
   ],
   "source": [
    "# Checking number of cylinders\n",
    "df.cylinders.value_counts()"
   ]
  },
  {
   "cell_type": "markdown",
   "metadata": {},
   "source": [
    "Most cars have 8, 6, or 4 cylinders, with very few having significantly more or less than that. Similar to `model_year`, the number of cylinders likely is related to the model. The median will be used given that there are significantly less cars that fall outside the 4, 6, 8 cylinder range."
   ]
  },
  {
   "cell_type": "code",
   "execution_count": 15,
   "metadata": {},
   "outputs": [],
   "source": [
    "# Filling cylinders based on model of a car\n",
    "df['cylinders'] = df['cylinders'].fillna(df.groupby(['model'])['cylinders'].transform('median'))"
   ]
  },
  {
   "cell_type": "code",
   "execution_count": 16,
   "metadata": {},
   "outputs": [
    {
     "data": {
      "text/plain": [
       "False"
      ]
     },
     "execution_count": 16,
     "metadata": {},
     "output_type": "execute_result"
    }
   ],
   "source": [
    "# Checking if values were filled\n",
    "df['cylinders'].isnull().any()"
   ]
  },
  {
   "cell_type": "markdown",
   "metadata": {},
   "source": [
    "<div class=\"alert alert-block alert-success\">\n",
    "<b>Reviewer's comment</b> <a class=\"tocSkip\"></a>\n",
    "\n",
    "Everything looks good here :)\n",
    "</div>"
   ]
  },
  {
   "cell_type": "markdown",
   "metadata": {},
   "source": [
    "### Paint Color"
   ]
  },
  {
   "cell_type": "code",
   "execution_count": 17,
   "metadata": {
    "scrolled": true
   },
   "outputs": [
    {
     "name": "stdout",
     "output_type": "stream",
     "text": [
      "Percent of values missing: 17.99%\n"
     ]
    }
   ],
   "source": [
    "# Check percentage of missing values\n",
    "print(f'Percent of values missing: {df.paint_color.isnull().sum() / len(df):.2%}')"
   ]
  },
  {
   "cell_type": "code",
   "execution_count": 18,
   "metadata": {},
   "outputs": [
    {
     "data": {
      "text/plain": [
       "<AxesSubplot:title={'center':'Non-Null Vehicle Paint Colors Across Advertisements'}, xlabel='Color', ylabel='Number of Ads'>"
      ]
     },
     "execution_count": 18,
     "metadata": {},
     "output_type": "execute_result"
    },
    {
     "data": {
      "image/png": "[encoded data removed]",
      "text/plain": [
       "<Figure size 432x288 with 1 Axes>"
      ]
     },
     "metadata": {
      "needs_background": "light"
     },
     "output_type": "display_data"
    }
   ],
   "source": [
    "# Checking distribution of colors\n",
    "df[df['paint_color'].notnull()]['paint_color'].value_counts().plot(kind='bar',\n",
    "                                                                   title='Non-Null Vehicle Paint Colors Across Advertisements',\n",
    "                                                                   xlabel='Color',\n",
    "                                                                   ylabel='Number of Ads')"
   ]
  },
  {
   "cell_type": "markdown",
   "metadata": {},
   "source": [
    "<div class=\"alert alert-block alert-info\">\n",
    "<b>Student answer.</b> <a class=\"tocSkip\"></a>\n",
    "\n",
    "I've added a title and axes names.\n",
    "</div>"
   ]
  },
  {
   "cell_type": "code",
   "execution_count": 19,
   "metadata": {
    "scrolled": true
   },
   "outputs": [
    {
     "data": {
      "text/html": [
       "<div>\n",
       "<style scoped>\n",
       "    .dataframe tbody tr th:only-of-type {\n",
       "        vertical-align: middle;\n",
       "    }\n",
       "\n",
       "    .dataframe tbody tr th {\n",
       "        vertical-align: top;\n",
       "    }\n",
       "\n",
       "    .dataframe thead th {\n",
       "        text-align: right;\n",
       "    }\n",
       "</style>\n",
       "<table border=\"1\" class=\"dataframe\">\n",
       "  <thead>\n",
       "    <tr style=\"text-align: right;\">\n",
       "      <th></th>\n",
       "      <th>price</th>\n",
       "      <th>model_year</th>\n",
       "      <th>model</th>\n",
       "      <th>condition</th>\n",
       "      <th>cylinders</th>\n",
       "      <th>fuel</th>\n",
       "      <th>odometer</th>\n",
       "      <th>transmission</th>\n",
       "      <th>type</th>\n",
       "      <th>paint_color</th>\n",
       "      <th>is_4wd</th>\n",
       "      <th>date_posted</th>\n",
       "      <th>days_listed</th>\n",
       "    </tr>\n",
       "  </thead>\n",
       "  <tbody>\n",
       "    <tr>\n",
       "      <th>0</th>\n",
       "      <td>9400</td>\n",
       "      <td>2011.0</td>\n",
       "      <td>bmw x5</td>\n",
       "      <td>good</td>\n",
       "      <td>6.0</td>\n",
       "      <td>gas</td>\n",
       "      <td>145000.0</td>\n",
       "      <td>automatic</td>\n",
       "      <td>SUV</td>\n",
       "      <td>NaN</td>\n",
       "      <td>1.0</td>\n",
       "      <td>2018-06-23</td>\n",
       "      <td>19</td>\n",
       "    </tr>\n",
       "    <tr>\n",
       "      <th>1</th>\n",
       "      <td>1500</td>\n",
       "      <td>2003.0</td>\n",
       "      <td>ford f-150</td>\n",
       "      <td>fair</td>\n",
       "      <td>8.0</td>\n",
       "      <td>gas</td>\n",
       "      <td>NaN</td>\n",
       "      <td>automatic</td>\n",
       "      <td>pickup</td>\n",
       "      <td>NaN</td>\n",
       "      <td>0.0</td>\n",
       "      <td>2019-03-22</td>\n",
       "      <td>9</td>\n",
       "    </tr>\n",
       "    <tr>\n",
       "      <th>2</th>\n",
       "      <td>11500</td>\n",
       "      <td>2012.0</td>\n",
       "      <td>kia sorento</td>\n",
       "      <td>excellent</td>\n",
       "      <td>4.0</td>\n",
       "      <td>gas</td>\n",
       "      <td>104174.0</td>\n",
       "      <td>automatic</td>\n",
       "      <td>SUV</td>\n",
       "      <td>NaN</td>\n",
       "      <td>1.0</td>\n",
       "      <td>2018-07-16</td>\n",
       "      <td>19</td>\n",
       "    </tr>\n",
       "    <tr>\n",
       "      <th>3</th>\n",
       "      <td>18990</td>\n",
       "      <td>2012.0</td>\n",
       "      <td>ram 1500</td>\n",
       "      <td>excellent</td>\n",
       "      <td>8.0</td>\n",
       "      <td>gas</td>\n",
       "      <td>140742.0</td>\n",
       "      <td>automatic</td>\n",
       "      <td>pickup</td>\n",
       "      <td>NaN</td>\n",
       "      <td>1.0</td>\n",
       "      <td>2019-04-02</td>\n",
       "      <td>37</td>\n",
       "    </tr>\n",
       "    <tr>\n",
       "      <th>4</th>\n",
       "      <td>5250</td>\n",
       "      <td>2007.0</td>\n",
       "      <td>toyota rav4</td>\n",
       "      <td>good</td>\n",
       "      <td>6.0</td>\n",
       "      <td>gas</td>\n",
       "      <td>154000.0</td>\n",
       "      <td>automatic</td>\n",
       "      <td>SUV</td>\n",
       "      <td>NaN</td>\n",
       "      <td>0.0</td>\n",
       "      <td>2018-08-22</td>\n",
       "      <td>8</td>\n",
       "    </tr>\n",
       "    <tr>\n",
       "      <th>...</th>\n",
       "      <td>...</td>\n",
       "      <td>...</td>\n",
       "      <td>...</td>\n",
       "      <td>...</td>\n",
       "      <td>...</td>\n",
       "      <td>...</td>\n",
       "      <td>...</td>\n",
       "      <td>...</td>\n",
       "      <td>...</td>\n",
       "      <td>...</td>\n",
       "      <td>...</td>\n",
       "      <td>...</td>\n",
       "      <td>...</td>\n",
       "    </tr>\n",
       "    <tr>\n",
       "      <th>9262</th>\n",
       "      <td>7995</td>\n",
       "      <td>2011.0</td>\n",
       "      <td>chevrolet equinox</td>\n",
       "      <td>like new</td>\n",
       "      <td>4.0</td>\n",
       "      <td>gas</td>\n",
       "      <td>111088.0</td>\n",
       "      <td>automatic</td>\n",
       "      <td>SUV</td>\n",
       "      <td>NaN</td>\n",
       "      <td>0.0</td>\n",
       "      <td>2019-04-01</td>\n",
       "      <td>175</td>\n",
       "    </tr>\n",
       "    <tr>\n",
       "      <th>9263</th>\n",
       "      <td>6595</td>\n",
       "      <td>2011.0</td>\n",
       "      <td>chevrolet malibu</td>\n",
       "      <td>excellent</td>\n",
       "      <td>4.0</td>\n",
       "      <td>gas</td>\n",
       "      <td>100780.0</td>\n",
       "      <td>automatic</td>\n",
       "      <td>sedan</td>\n",
       "      <td>NaN</td>\n",
       "      <td>0.0</td>\n",
       "      <td>2019-02-27</td>\n",
       "      <td>73</td>\n",
       "    </tr>\n",
       "    <tr>\n",
       "      <th>9264</th>\n",
       "      <td>28900</td>\n",
       "      <td>2017.0</td>\n",
       "      <td>ford f150 supercrew cab xlt</td>\n",
       "      <td>good</td>\n",
       "      <td>6.0</td>\n",
       "      <td>gas</td>\n",
       "      <td>49225.0</td>\n",
       "      <td>automatic</td>\n",
       "      <td>pickup</td>\n",
       "      <td>NaN</td>\n",
       "      <td>1.0</td>\n",
       "      <td>2019-04-11</td>\n",
       "      <td>25</td>\n",
       "    </tr>\n",
       "    <tr>\n",
       "      <th>9265</th>\n",
       "      <td>11750</td>\n",
       "      <td>2015.0</td>\n",
       "      <td>honda accord</td>\n",
       "      <td>excellent</td>\n",
       "      <td>4.0</td>\n",
       "      <td>gas</td>\n",
       "      <td>NaN</td>\n",
       "      <td>automatic</td>\n",
       "      <td>coupe</td>\n",
       "      <td>NaN</td>\n",
       "      <td>0.0</td>\n",
       "      <td>2018-11-24</td>\n",
       "      <td>89</td>\n",
       "    </tr>\n",
       "    <tr>\n",
       "      <th>9266</th>\n",
       "      <td>6300</td>\n",
       "      <td>2014.0</td>\n",
       "      <td>nissan altima</td>\n",
       "      <td>good</td>\n",
       "      <td>4.0</td>\n",
       "      <td>gas</td>\n",
       "      <td>NaN</td>\n",
       "      <td>automatic</td>\n",
       "      <td>sedan</td>\n",
       "      <td>NaN</td>\n",
       "      <td>0.0</td>\n",
       "      <td>2018-06-05</td>\n",
       "      <td>10</td>\n",
       "    </tr>\n",
       "  </tbody>\n",
       "</table>\n",
       "<p>9267 rows × 13 columns</p>\n",
       "</div>"
      ],
      "text/plain": [
       "      price  model_year                        model  condition  cylinders  \\\n",
       "0      9400      2011.0                       bmw x5       good        6.0   \n",
       "1      1500      2003.0                   ford f-150       fair        8.0   \n",
       "2     11500      2012.0                  kia sorento  excellent        4.0   \n",
       "3     18990      2012.0                     ram 1500  excellent        8.0   \n",
       "4      5250      2007.0                  toyota rav4       good        6.0   \n",
       "...     ...         ...                          ...        ...        ...   \n",
       "9262   7995      2011.0            chevrolet equinox   like new        4.0   \n",
       "9263   6595      2011.0             chevrolet malibu  excellent        4.0   \n",
       "9264  28900      2017.0  ford f150 supercrew cab xlt       good        6.0   \n",
       "9265  11750      2015.0                 honda accord  excellent        4.0   \n",
       "9266   6300      2014.0                nissan altima       good        4.0   \n",
       "\n",
       "     fuel  odometer transmission    type paint_color  is_4wd date_posted  \\\n",
       "0     gas  145000.0    automatic     SUV         NaN     1.0  2018-06-23   \n",
       "1     gas       NaN    automatic  pickup         NaN     0.0  2019-03-22   \n",
       "2     gas  104174.0    automatic     SUV         NaN     1.0  2018-07-16   \n",
       "3     gas  140742.0    automatic  pickup         NaN     1.0  2019-04-02   \n",
       "4     gas  154000.0    automatic     SUV         NaN     0.0  2018-08-22   \n",
       "...   ...       ...          ...     ...         ...     ...         ...   \n",
       "9262  gas  111088.0    automatic     SUV         NaN     0.0  2019-04-01   \n",
       "9263  gas  100780.0    automatic   sedan         NaN     0.0  2019-02-27   \n",
       "9264  gas   49225.0    automatic  pickup         NaN     1.0  2019-04-11   \n",
       "9265  gas       NaN    automatic   coupe         NaN     0.0  2018-11-24   \n",
       "9266  gas       NaN    automatic   sedan         NaN     0.0  2018-06-05   \n",
       "\n",
       "      days_listed  \n",
       "0              19  \n",
       "1               9  \n",
       "2              19  \n",
       "3              37  \n",
       "4               8  \n",
       "...           ...  \n",
       "9262          175  \n",
       "9263           73  \n",
       "9264           25  \n",
       "9265           89  \n",
       "9266           10  \n",
       "\n",
       "[9267 rows x 13 columns]"
      ]
     },
     "execution_count": 19,
     "metadata": {},
     "output_type": "execute_result"
    }
   ],
   "source": [
    "# Checking rows with missing paint_color\n",
    "df[df['paint_color'].isnull()].reset_index(drop=True)"
   ]
  },
  {
   "cell_type": "markdown",
   "metadata": {},
   "source": [
    "There does not seem to be a reason as to why the values in `paint_color` are missing. Though certain models or years may have more popular colors, this is ultimately arbitrary and is not something we can fill in. However, 18% of the data has missing values. This is a significant amount of data and it would be troubling to drop given that the other columns are filled in. \n",
    "\n",
    "NaN values can be problematic, however, when performing calculations. As such, the NaN values in `paint_color` will be filled in with the value \"Unknown\" and omitted from our analysis of car color."
   ]
  },
  {
   "cell_type": "code",
   "execution_count": 20,
   "metadata": {},
   "outputs": [],
   "source": [
    "# Filling paint_color with 'Unknown'\n",
    "df['paint_color'] = df['paint_color'].fillna('unknown')"
   ]
  },
  {
   "cell_type": "code",
   "execution_count": 21,
   "metadata": {
    "scrolled": true
   },
   "outputs": [
    {
     "data": {
      "text/plain": [
       "False"
      ]
     },
     "execution_count": 21,
     "metadata": {},
     "output_type": "execute_result"
    }
   ],
   "source": [
    "# Check if filled\n",
    "df['paint_color'].isnull().any()"
   ]
  },
  {
   "cell_type": "markdown",
   "metadata": {},
   "source": [
    "<div class=\"alert alert-block alert-success\">\n",
    "<b>Reviewer's comment</b> <a class=\"tocSkip\"></a>\n",
    "\n",
    "Great that you decided to check whether there was a reason to why values are missing. As to the way you handled them - couldn't have done it better myself :)\n",
    "</div>"
   ]
  },
  {
   "cell_type": "markdown",
   "metadata": {},
   "source": [
    "### Odometer"
   ]
  },
  {
   "cell_type": "code",
   "execution_count": 22,
   "metadata": {},
   "outputs": [
    {
     "name": "stdout",
     "output_type": "stream",
     "text": [
      "Percent of values missing: 15.32%\n"
     ]
    }
   ],
   "source": [
    "# Check percentage of missing values\n",
    "print(f'Percent of values missing: {df.odometer.isnull().sum() / len(df):.2%}')"
   ]
  },
  {
   "cell_type": "code",
   "execution_count": 23,
   "metadata": {},
   "outputs": [],
   "source": [
    "# Filling missing values based on the model_year and condition of the car\n",
    "df['odometer'] = df['odometer'].fillna(df.groupby(['model_year', 'condition'])['odometer'].transform('median'))"
   ]
  },
  {
   "cell_type": "markdown",
   "metadata": {},
   "source": [
    "An odometer measures the distance a car has traveled. Instinctively, older cars will have traveled more, as well as cars that may be in worse conditions. This is not a universal measure (as there are cars that may have been in crashes that are in poor condition, for example) but it will work for our analysis. As such, the missing values will be filled based on the model_year and car condition."
   ]
  },
  {
   "cell_type": "code",
   "execution_count": 24,
   "metadata": {},
   "outputs": [
    {
     "data": {
      "text/plain": [
       "True"
      ]
     },
     "execution_count": 24,
     "metadata": {},
     "output_type": "execute_result"
    }
   ],
   "source": [
    "# Checking if values have been filled\n",
    "df['odometer'].isnull().any()"
   ]
  },
  {
   "cell_type": "code",
   "execution_count": 25,
   "metadata": {
    "scrolled": true
   },
   "outputs": [
    {
     "data": {
      "text/html": [
       "<div>\n",
       "<style scoped>\n",
       "    .dataframe tbody tr th:only-of-type {\n",
       "        vertical-align: middle;\n",
       "    }\n",
       "\n",
       "    .dataframe tbody tr th {\n",
       "        vertical-align: top;\n",
       "    }\n",
       "\n",
       "    .dataframe thead th {\n",
       "        text-align: right;\n",
       "    }\n",
       "</style>\n",
       "<table border=\"1\" class=\"dataframe\">\n",
       "  <thead>\n",
       "    <tr style=\"text-align: right;\">\n",
       "      <th></th>\n",
       "      <th>price</th>\n",
       "      <th>model_year</th>\n",
       "      <th>model</th>\n",
       "      <th>condition</th>\n",
       "      <th>cylinders</th>\n",
       "      <th>fuel</th>\n",
       "      <th>odometer</th>\n",
       "      <th>transmission</th>\n",
       "      <th>type</th>\n",
       "      <th>paint_color</th>\n",
       "      <th>is_4wd</th>\n",
       "      <th>date_posted</th>\n",
       "      <th>days_listed</th>\n",
       "    </tr>\n",
       "  </thead>\n",
       "  <tbody>\n",
       "    <tr>\n",
       "      <th>21421</th>\n",
       "      <td>4500</td>\n",
       "      <td>1974.0</td>\n",
       "      <td>chevrolet corvette</td>\n",
       "      <td>fair</td>\n",
       "      <td>8.0</td>\n",
       "      <td>gas</td>\n",
       "      <td>NaN</td>\n",
       "      <td>automatic</td>\n",
       "      <td>sedan</td>\n",
       "      <td>red</td>\n",
       "      <td>0.0</td>\n",
       "      <td>2018-12-15</td>\n",
       "      <td>18</td>\n",
       "    </tr>\n",
       "    <tr>\n",
       "      <th>28009</th>\n",
       "      <td>65000</td>\n",
       "      <td>1960.0</td>\n",
       "      <td>chevrolet corvette</td>\n",
       "      <td>like new</td>\n",
       "      <td>8.0</td>\n",
       "      <td>gas</td>\n",
       "      <td>NaN</td>\n",
       "      <td>manual</td>\n",
       "      <td>coupe</td>\n",
       "      <td>unknown</td>\n",
       "      <td>0.0</td>\n",
       "      <td>2018-11-03</td>\n",
       "      <td>41</td>\n",
       "    </tr>\n",
       "    <tr>\n",
       "      <th>31806</th>\n",
       "      <td>1700</td>\n",
       "      <td>1996.0</td>\n",
       "      <td>ford mustang</td>\n",
       "      <td>salvage</td>\n",
       "      <td>6.0</td>\n",
       "      <td>gas</td>\n",
       "      <td>NaN</td>\n",
       "      <td>manual</td>\n",
       "      <td>convertible</td>\n",
       "      <td>white</td>\n",
       "      <td>0.0</td>\n",
       "      <td>2019-03-31</td>\n",
       "      <td>46</td>\n",
       "    </tr>\n",
       "    <tr>\n",
       "      <th>33257</th>\n",
       "      <td>4500</td>\n",
       "      <td>1963.0</td>\n",
       "      <td>chevrolet impala</td>\n",
       "      <td>fair</td>\n",
       "      <td>6.0</td>\n",
       "      <td>gas</td>\n",
       "      <td>NaN</td>\n",
       "      <td>automatic</td>\n",
       "      <td>sedan</td>\n",
       "      <td>unknown</td>\n",
       "      <td>0.0</td>\n",
       "      <td>2019-03-17</td>\n",
       "      <td>38</td>\n",
       "    </tr>\n",
       "    <tr>\n",
       "      <th>33907</th>\n",
       "      <td>12995</td>\n",
       "      <td>1908.0</td>\n",
       "      <td>cadillac escalade</td>\n",
       "      <td>excellent</td>\n",
       "      <td>8.0</td>\n",
       "      <td>gas</td>\n",
       "      <td>NaN</td>\n",
       "      <td>automatic</td>\n",
       "      <td>SUV</td>\n",
       "      <td>white</td>\n",
       "      <td>0.0</td>\n",
       "      <td>2018-06-24</td>\n",
       "      <td>25</td>\n",
       "    </tr>\n",
       "    <tr>\n",
       "      <th>45694</th>\n",
       "      <td>18000</td>\n",
       "      <td>1929.0</td>\n",
       "      <td>ford f-150</td>\n",
       "      <td>good</td>\n",
       "      <td>8.0</td>\n",
       "      <td>gas</td>\n",
       "      <td>NaN</td>\n",
       "      <td>manual</td>\n",
       "      <td>other</td>\n",
       "      <td>silver</td>\n",
       "      <td>0.0</td>\n",
       "      <td>2018-11-18</td>\n",
       "      <td>59</td>\n",
       "    </tr>\n",
       "    <tr>\n",
       "      <th>46911</th>\n",
       "      <td>22300</td>\n",
       "      <td>2003.0</td>\n",
       "      <td>chevrolet corvette</td>\n",
       "      <td>new</td>\n",
       "      <td>8.0</td>\n",
       "      <td>gas</td>\n",
       "      <td>NaN</td>\n",
       "      <td>manual</td>\n",
       "      <td>convertible</td>\n",
       "      <td>black</td>\n",
       "      <td>0.0</td>\n",
       "      <td>2018-11-08</td>\n",
       "      <td>23</td>\n",
       "    </tr>\n",
       "  </tbody>\n",
       "</table>\n",
       "</div>"
      ],
      "text/plain": [
       "       price  model_year               model  condition  cylinders fuel  \\\n",
       "21421   4500      1974.0  chevrolet corvette       fair        8.0  gas   \n",
       "28009  65000      1960.0  chevrolet corvette   like new        8.0  gas   \n",
       "31806   1700      1996.0        ford mustang    salvage        6.0  gas   \n",
       "33257   4500      1963.0    chevrolet impala       fair        6.0  gas   \n",
       "33907  12995      1908.0   cadillac escalade  excellent        8.0  gas   \n",
       "45694  18000      1929.0          ford f-150       good        8.0  gas   \n",
       "46911  22300      2003.0  chevrolet corvette        new        8.0  gas   \n",
       "\n",
       "       odometer transmission         type paint_color  is_4wd date_posted  \\\n",
       "21421       NaN    automatic        sedan         red     0.0  2018-12-15   \n",
       "28009       NaN       manual        coupe     unknown     0.0  2018-11-03   \n",
       "31806       NaN       manual  convertible       white     0.0  2019-03-31   \n",
       "33257       NaN    automatic        sedan     unknown     0.0  2019-03-17   \n",
       "33907       NaN    automatic          SUV       white     0.0  2018-06-24   \n",
       "45694       NaN       manual        other      silver     0.0  2018-11-18   \n",
       "46911       NaN       manual  convertible       black     0.0  2018-11-08   \n",
       "\n",
       "       days_listed  \n",
       "21421           18  \n",
       "28009           41  \n",
       "31806           46  \n",
       "33257           38  \n",
       "33907           25  \n",
       "45694           59  \n",
       "46911           23  "
      ]
     },
     "execution_count": 25,
     "metadata": {},
     "output_type": "execute_result"
    }
   ],
   "source": [
    "# Seeing which rows are not filled\n",
    "df[df['odometer'].isnull()]"
   ]
  },
  {
   "cell_type": "markdown",
   "metadata": {},
   "source": [
    "Filling by `model_year` and `condition` did not fill in every row. For the above rows that are still null, there is no other tow in the data with the same combination of `model_year` and `condition`. For example, row 21421 is the only row in the dataset that has a chevrolet corvette that was made in 1974.\n",
    "\n",
    "The unique rows will be filled in solely based on condition."
   ]
  },
  {
   "cell_type": "markdown",
   "metadata": {},
   "source": [
    "<div class=\"alert alert-block alert-warning\">\n",
    "<s><b>Reviewer's comment</b> <a class=\"tocSkip\"></a>\n",
    "\n",
    "Can you think of a reason for why not all values could be filled?\n",
    "</div>"
   ]
  },
  {
   "cell_type": "markdown",
   "metadata": {},
   "source": [
    "<div class=\"alert alert-block alert-info\">\n",
    "<b>Student answer.</b> <a class=\"tocSkip\"></a>\n",
    "\n",
    "I have added a reason to my explanation above.\n",
    "</div>"
   ]
  },
  {
   "cell_type": "markdown",
   "metadata": {},
   "source": [
    "<div class=\"alert alert-block alert-success\">\n",
    "<b>Reviewer's comment v2</b> <a class=\"tocSkip\"></a>\n",
    "\n",
    "You're absolutely right :)\n",
    "</div>"
   ]
  },
  {
   "cell_type": "code",
   "execution_count": 26,
   "metadata": {},
   "outputs": [],
   "source": [
    "# Fill remaining rows\n",
    "df['odometer'] = df['odometer'].fillna(df.groupby(['condition'])['odometer'].transform('median'))"
   ]
  },
  {
   "cell_type": "code",
   "execution_count": 27,
   "metadata": {},
   "outputs": [
    {
     "name": "stdout",
     "output_type": "stream",
     "text": [
      "<class 'pandas.core.frame.DataFrame'>\n",
      "RangeIndex: 51525 entries, 0 to 51524\n",
      "Data columns (total 13 columns):\n",
      " #   Column        Non-Null Count  Dtype  \n",
      "---  ------        --------------  -----  \n",
      " 0   price         51525 non-null  int64  \n",
      " 1   model_year    51525 non-null  float64\n",
      " 2   model         51525 non-null  object \n",
      " 3   condition     51525 non-null  object \n",
      " 4   cylinders     51525 non-null  float64\n",
      " 5   fuel          51525 non-null  object \n",
      " 6   odometer      51525 non-null  float64\n",
      " 7   transmission  51525 non-null  object \n",
      " 8   type          51525 non-null  object \n",
      " 9   paint_color   51525 non-null  object \n",
      " 10  is_4wd        51525 non-null  float64\n",
      " 11  date_posted   51525 non-null  object \n",
      " 12  days_listed   51525 non-null  int64  \n",
      "dtypes: float64(4), int64(2), object(7)\n",
      "memory usage: 5.1+ MB\n"
     ]
    }
   ],
   "source": [
    "df.info()"
   ]
  },
  {
   "cell_type": "markdown",
   "metadata": {},
   "source": [
    "We no longer have null values in the dataset."
   ]
  },
  {
   "cell_type": "markdown",
   "metadata": {},
   "source": [
    "<div class=\"alert alert-block alert-success\">\n",
    "<b>Reviewer's comment</b> <a class=\"tocSkip\"></a>\n",
    "\n",
    "Well done!\n",
    "</div>"
   ]
  },
  {
   "cell_type": "markdown",
   "metadata": {},
   "source": [
    "## Fix data types"
   ]
  },
  {
   "cell_type": "markdown",
   "metadata": {},
   "source": [
    "Next, the data types will be adjusted to make it easier for analysis. `cylinder`, `odometer`, and `is_4wd` will be converted to integers given that there are no floats located within them. \n",
    "\n",
    "`date_posted` will be converted to a datetime type so that the year, month, and day values within it can be extracted easily. This will be useful when we enrich the data and calculate the age of the vehicle, for example."
   ]
  },
  {
   "cell_type": "code",
   "execution_count": 28,
   "metadata": {},
   "outputs": [],
   "source": [
    "# Convert float columns to ints\n",
    "df['cylinders'] = df['cylinders'].astype('int')\n",
    "df['odometer'] = df['odometer'].astype('int')\n",
    "df['is_4wd'] = df['is_4wd'].astype('int')"
   ]
  },
  {
   "cell_type": "code",
   "execution_count": 29,
   "metadata": {},
   "outputs": [],
   "source": [
    "# Convert date columns to datetime\n",
    "df['date_posted'] = pd.to_datetime(df['date_posted'], format='%Y-%m-%d')"
   ]
  },
  {
   "cell_type": "code",
   "execution_count": 30,
   "metadata": {},
   "outputs": [],
   "source": [
    "# Make values in vehicle type lowercase\n",
    "df['type'] = df['type'].str.lower()"
   ]
  },
  {
   "cell_type": "code",
   "execution_count": 31,
   "metadata": {},
   "outputs": [
    {
     "data": {
      "text/html": [
       "<div>\n",
       "<style scoped>\n",
       "    .dataframe tbody tr th:only-of-type {\n",
       "        vertical-align: middle;\n",
       "    }\n",
       "\n",
       "    .dataframe tbody tr th {\n",
       "        vertical-align: top;\n",
       "    }\n",
       "\n",
       "    .dataframe thead th {\n",
       "        text-align: right;\n",
       "    }\n",
       "</style>\n",
       "<table border=\"1\" class=\"dataframe\">\n",
       "  <thead>\n",
       "    <tr style=\"text-align: right;\">\n",
       "      <th></th>\n",
       "      <th>price</th>\n",
       "      <th>model_year</th>\n",
       "      <th>model</th>\n",
       "      <th>condition</th>\n",
       "      <th>cylinders</th>\n",
       "      <th>fuel</th>\n",
       "      <th>odometer</th>\n",
       "      <th>transmission</th>\n",
       "      <th>type</th>\n",
       "      <th>paint_color</th>\n",
       "      <th>is_4wd</th>\n",
       "      <th>date_posted</th>\n",
       "      <th>days_listed</th>\n",
       "    </tr>\n",
       "  </thead>\n",
       "  <tbody>\n",
       "    <tr>\n",
       "      <th>0</th>\n",
       "      <td>9400</td>\n",
       "      <td>2011.0</td>\n",
       "      <td>bmw x5</td>\n",
       "      <td>good</td>\n",
       "      <td>6</td>\n",
       "      <td>gas</td>\n",
       "      <td>145000</td>\n",
       "      <td>automatic</td>\n",
       "      <td>suv</td>\n",
       "      <td>unknown</td>\n",
       "      <td>1</td>\n",
       "      <td>2018-06-23</td>\n",
       "      <td>19</td>\n",
       "    </tr>\n",
       "    <tr>\n",
       "      <th>1</th>\n",
       "      <td>25500</td>\n",
       "      <td>2011.0</td>\n",
       "      <td>ford f-150</td>\n",
       "      <td>good</td>\n",
       "      <td>6</td>\n",
       "      <td>gas</td>\n",
       "      <td>88705</td>\n",
       "      <td>automatic</td>\n",
       "      <td>pickup</td>\n",
       "      <td>white</td>\n",
       "      <td>1</td>\n",
       "      <td>2018-10-19</td>\n",
       "      <td>50</td>\n",
       "    </tr>\n",
       "    <tr>\n",
       "      <th>2</th>\n",
       "      <td>5500</td>\n",
       "      <td>2013.0</td>\n",
       "      <td>hyundai sonata</td>\n",
       "      <td>like new</td>\n",
       "      <td>4</td>\n",
       "      <td>gas</td>\n",
       "      <td>110000</td>\n",
       "      <td>automatic</td>\n",
       "      <td>sedan</td>\n",
       "      <td>red</td>\n",
       "      <td>0</td>\n",
       "      <td>2019-02-07</td>\n",
       "      <td>79</td>\n",
       "    </tr>\n",
       "    <tr>\n",
       "      <th>3</th>\n",
       "      <td>1500</td>\n",
       "      <td>2003.0</td>\n",
       "      <td>ford f-150</td>\n",
       "      <td>fair</td>\n",
       "      <td>8</td>\n",
       "      <td>gas</td>\n",
       "      <td>193850</td>\n",
       "      <td>automatic</td>\n",
       "      <td>pickup</td>\n",
       "      <td>unknown</td>\n",
       "      <td>0</td>\n",
       "      <td>2019-03-22</td>\n",
       "      <td>9</td>\n",
       "    </tr>\n",
       "    <tr>\n",
       "      <th>4</th>\n",
       "      <td>14900</td>\n",
       "      <td>2017.0</td>\n",
       "      <td>chrysler 200</td>\n",
       "      <td>excellent</td>\n",
       "      <td>4</td>\n",
       "      <td>gas</td>\n",
       "      <td>80903</td>\n",
       "      <td>automatic</td>\n",
       "      <td>sedan</td>\n",
       "      <td>black</td>\n",
       "      <td>0</td>\n",
       "      <td>2019-04-02</td>\n",
       "      <td>28</td>\n",
       "    </tr>\n",
       "  </tbody>\n",
       "</table>\n",
       "</div>"
      ],
      "text/plain": [
       "   price  model_year           model  condition  cylinders fuel  odometer  \\\n",
       "0   9400      2011.0          bmw x5       good          6  gas    145000   \n",
       "1  25500      2011.0      ford f-150       good          6  gas     88705   \n",
       "2   5500      2013.0  hyundai sonata   like new          4  gas    110000   \n",
       "3   1500      2003.0      ford f-150       fair          8  gas    193850   \n",
       "4  14900      2017.0    chrysler 200  excellent          4  gas     80903   \n",
       "\n",
       "  transmission    type paint_color  is_4wd date_posted  days_listed  \n",
       "0    automatic     suv     unknown       1  2018-06-23           19  \n",
       "1    automatic  pickup       white       1  2018-10-19           50  \n",
       "2    automatic   sedan         red       0  2019-02-07           79  \n",
       "3    automatic  pickup     unknown       0  2019-03-22            9  \n",
       "4    automatic   sedan       black       0  2019-04-02           28  "
      ]
     },
     "execution_count": 31,
     "metadata": {},
     "output_type": "execute_result"
    }
   ],
   "source": [
    "# Checking data\n",
    "df.head()"
   ]
  },
  {
   "cell_type": "code",
   "execution_count": 32,
   "metadata": {},
   "outputs": [
    {
     "name": "stdout",
     "output_type": "stream",
     "text": [
      "<class 'pandas.core.frame.DataFrame'>\n",
      "RangeIndex: 51525 entries, 0 to 51524\n",
      "Data columns (total 13 columns):\n",
      " #   Column        Non-Null Count  Dtype         \n",
      "---  ------        --------------  -----         \n",
      " 0   price         51525 non-null  int64         \n",
      " 1   model_year    51525 non-null  float64       \n",
      " 2   model         51525 non-null  object        \n",
      " 3   condition     51525 non-null  object        \n",
      " 4   cylinders     51525 non-null  int64         \n",
      " 5   fuel          51525 non-null  object        \n",
      " 6   odometer      51525 non-null  int64         \n",
      " 7   transmission  51525 non-null  object        \n",
      " 8   type          51525 non-null  object        \n",
      " 9   paint_color   51525 non-null  object        \n",
      " 10  is_4wd        51525 non-null  int64         \n",
      " 11  date_posted   51525 non-null  datetime64[ns]\n",
      " 12  days_listed   51525 non-null  int64         \n",
      "dtypes: datetime64[ns](1), float64(1), int64(5), object(6)\n",
      "memory usage: 5.1+ MB\n"
     ]
    }
   ],
   "source": [
    "# Making sure data types have been updated\n",
    "df.info()"
   ]
  },
  {
   "cell_type": "markdown",
   "metadata": {},
   "source": [
    "<div class=\"alert alert-block alert-success\">\n",
    "<b>Reviewer's comment</b> <a class=\"tocSkip\"></a>\n",
    "\n",
    "Great, now our dataframe is perfect!\n",
    "</div>"
   ]
  },
  {
   "cell_type": "markdown",
   "metadata": {},
   "source": [
    "## Enrich data"
   ]
  },
  {
   "cell_type": "markdown",
   "metadata": {},
   "source": [
    "### Advertisement date information"
   ]
  },
  {
   "cell_type": "code",
   "execution_count": 33,
   "metadata": {},
   "outputs": [],
   "source": [
    "# Add datetime values for when the ad was placed\n",
    "df['post_weekday'] = df['date_posted'].dt.day_name()\n",
    "df['post_month'] = df['date_posted'].dt.month_name()\n",
    "df['post_year'] = df['date_posted'].dt.year"
   ]
  },
  {
   "cell_type": "markdown",
   "metadata": {},
   "source": [
    "### Vehicle age and mileage"
   ]
  },
  {
   "cell_type": "code",
   "execution_count": 34,
   "metadata": {},
   "outputs": [],
   "source": [
    "# Add the vehicle's age when the ad was placed\n",
    "df['vehicle_age'] = df['post_year'] - df['model_year']\n",
    "\n",
    "# Add one to the vehicle age\n",
    "df['vehicle_age'] = df['vehicle_age'] + 1"
   ]
  },
  {
   "cell_type": "code",
   "execution_count": 35,
   "metadata": {},
   "outputs": [],
   "source": [
    "# Add the vehicle's average mileage per year\n",
    "df['mileage_per_year'] = df['odometer'] / df['vehicle_age']"
   ]
  },
  {
   "cell_type": "markdown",
   "metadata": {},
   "source": [
    "The `vehicle_age` column was created based on when the advertisement was posted and when the car was made. Every value in the age column was incremented by 1 (so a car with a `model_year` of 2019 and a `post_year` of 2020 will have a `vehicle_age` of 2. This will prevent divide-by-zero errors in the code."
   ]
  },
  {
   "cell_type": "markdown",
   "metadata": {},
   "source": [
    "<div class=\"alert alert-block alert-danger\">\n",
    "<s><b>Reviewer's comment</b> <a class=\"tocSkip\"></a>\n",
    "\n",
    "To avoid such situations, we could work with vehicle_age column and get rid of zero values there. This could be done by adding 1 to each value. Then a car with model_year = 2017 with an ad posted in 2018 will have vehicle_age = 2, and a car with model_year = 2018 with an ad posted in 2018 will have vehicle_age = 1 e.t.c. <br>\n",
    "<br>\n",
    "Let me explain why it might be a better solution: please have a look at the table below. You can see that odometer value of cars with age 1 is (on average) twice as high as that of cars with age 0. So they clearly should be divided by different age values in order to get the correct answer.\n",
    "</div>"
   ]
  },
  {
   "cell_type": "markdown",
   "metadata": {},
   "source": [
    "<div class=\"alert alert-block alert-info\">\n",
    "<b>Student answer.</b> <a class=\"tocSkip\"></a>\n",
    "\n",
    "That makes sense, thank you for the alternative solution! I've updated the code and my description for that section.\n",
    "</div>"
   ]
  },
  {
   "cell_type": "markdown",
   "metadata": {},
   "source": [
    "<div class=\"alert alert-block alert-success\">\n",
    "<b>Reviewer's comment v2</b> <a class=\"tocSkip\"></a>\n",
    "\n",
    "Good job!\n",
    "</div>"
   ]
  },
  {
   "cell_type": "code",
   "execution_count": 36,
   "metadata": {},
   "outputs": [
    {
     "data": {
      "text/html": [
       "<div>\n",
       "<style scoped>\n",
       "    .dataframe tbody tr th:only-of-type {\n",
       "        vertical-align: middle;\n",
       "    }\n",
       "\n",
       "    .dataframe tbody tr th {\n",
       "        vertical-align: top;\n",
       "    }\n",
       "\n",
       "    .dataframe thead th {\n",
       "        text-align: right;\n",
       "    }\n",
       "</style>\n",
       "<table border=\"1\" class=\"dataframe\">\n",
       "  <thead>\n",
       "    <tr style=\"text-align: right;\">\n",
       "      <th></th>\n",
       "      <th>odometer</th>\n",
       "    </tr>\n",
       "    <tr>\n",
       "      <th>vehicle_age</th>\n",
       "      <th></th>\n",
       "    </tr>\n",
       "  </thead>\n",
       "  <tbody>\n",
       "    <tr>\n",
       "      <th>1.0</th>\n",
       "      <td>22341.637546</td>\n",
       "    </tr>\n",
       "    <tr>\n",
       "      <th>2.0</th>\n",
       "      <td>42345.342830</td>\n",
       "    </tr>\n",
       "    <tr>\n",
       "      <th>3.0</th>\n",
       "      <td>56965.804750</td>\n",
       "    </tr>\n",
       "    <tr>\n",
       "      <th>4.0</th>\n",
       "      <td>75451.304039</td>\n",
       "    </tr>\n",
       "    <tr>\n",
       "      <th>5.0</th>\n",
       "      <td>88947.122310</td>\n",
       "    </tr>\n",
       "    <tr>\n",
       "      <th>...</th>\n",
       "      <td>...</td>\n",
       "    </tr>\n",
       "    <tr>\n",
       "      <th>70.0</th>\n",
       "      <td>1800.000000</td>\n",
       "    </tr>\n",
       "    <tr>\n",
       "      <th>72.0</th>\n",
       "      <td>4000.000000</td>\n",
       "    </tr>\n",
       "    <tr>\n",
       "      <th>83.0</th>\n",
       "      <td>30000.000000</td>\n",
       "    </tr>\n",
       "    <tr>\n",
       "      <th>90.0</th>\n",
       "      <td>131543.000000</td>\n",
       "    </tr>\n",
       "    <tr>\n",
       "      <th>111.0</th>\n",
       "      <td>137664.000000</td>\n",
       "    </tr>\n",
       "  </tbody>\n",
       "</table>\n",
       "<p>72 rows × 1 columns</p>\n",
       "</div>"
      ],
      "text/plain": [
       "                  odometer\n",
       "vehicle_age               \n",
       "1.0           22341.637546\n",
       "2.0           42345.342830\n",
       "3.0           56965.804750\n",
       "4.0           75451.304039\n",
       "5.0           88947.122310\n",
       "...                    ...\n",
       "70.0           1800.000000\n",
       "72.0           4000.000000\n",
       "83.0          30000.000000\n",
       "90.0         131543.000000\n",
       "111.0        137664.000000\n",
       "\n",
       "[72 rows x 1 columns]"
      ]
     },
     "execution_count": 36,
     "metadata": {},
     "output_type": "execute_result"
    }
   ],
   "source": [
    "#REVIEWER'S CODE\n",
    "df.groupby('vehicle_age')[['odometer']].mean()"
   ]
  },
  {
   "cell_type": "code",
   "execution_count": 37,
   "metadata": {},
   "outputs": [],
   "source": [
    "# Replacing textual conditions to numeric to make them easier to work with\n",
    "def string_condition_to_numeric(condition):\n",
    "    if condition == \"new\":\n",
    "        return 5\n",
    "    elif condition == \"like new\":\n",
    "        return 4\n",
    "    elif condition == \"excellent\":\n",
    "        return 3\n",
    "    elif condition == \"good\":\n",
    "        return 2\n",
    "    elif condition == \"fair\":\n",
    "        return 1\n",
    "    else:\n",
    "        return 0\n",
    "\n",
    "# Apply function\n",
    "df['condition'] = df['condition'].apply(string_condition_to_numeric)"
   ]
  },
  {
   "cell_type": "code",
   "execution_count": 38,
   "metadata": {},
   "outputs": [
    {
     "data": {
      "text/plain": [
       "3    24773\n",
       "2    20145\n",
       "4     4742\n",
       "1     1607\n",
       "5      143\n",
       "0      115\n",
       "Name: condition, dtype: int64"
      ]
     },
     "execution_count": 38,
     "metadata": {},
     "output_type": "execute_result"
    }
   ],
   "source": [
    "# Checking new values in condition\n",
    "df.condition.value_counts()"
   ]
  },
  {
   "cell_type": "markdown",
   "metadata": {},
   "source": [
    "Text values in `condition` were replaced with numeric values to allow us to find statistics based on them more easily. This scale is easier to work with, too - higher values represent better conditions."
   ]
  },
  {
   "cell_type": "markdown",
   "metadata": {},
   "source": [
    "## Check clean data"
   ]
  },
  {
   "cell_type": "markdown",
   "metadata": {},
   "source": [
    "The data is now ready for analysis, so I will print general information about the data to work with it."
   ]
  },
  {
   "cell_type": "code",
   "execution_count": 39,
   "metadata": {},
   "outputs": [
    {
     "name": "stdout",
     "output_type": "stream",
     "text": [
      "<class 'pandas.core.frame.DataFrame'>\n",
      "RangeIndex: 51525 entries, 0 to 51524\n",
      "Data columns (total 18 columns):\n",
      " #   Column            Non-Null Count  Dtype         \n",
      "---  ------            --------------  -----         \n",
      " 0   price             51525 non-null  int64         \n",
      " 1   model_year        51525 non-null  float64       \n",
      " 2   model             51525 non-null  object        \n",
      " 3   condition         51525 non-null  int64         \n",
      " 4   cylinders         51525 non-null  int64         \n",
      " 5   fuel              51525 non-null  object        \n",
      " 6   odometer          51525 non-null  int64         \n",
      " 7   transmission      51525 non-null  object        \n",
      " 8   type              51525 non-null  object        \n",
      " 9   paint_color       51525 non-null  object        \n",
      " 10  is_4wd            51525 non-null  int64         \n",
      " 11  date_posted       51525 non-null  datetime64[ns]\n",
      " 12  days_listed       51525 non-null  int64         \n",
      " 13  post_weekday      51525 non-null  object        \n",
      " 14  post_month        51525 non-null  object        \n",
      " 15  post_year         51525 non-null  int64         \n",
      " 16  vehicle_age       51525 non-null  float64       \n",
      " 17  mileage_per_year  51525 non-null  float64       \n",
      "dtypes: datetime64[ns](1), float64(3), int64(7), object(7)\n",
      "memory usage: 7.1+ MB\n"
     ]
    }
   ],
   "source": [
    "# print the general/summary information about the DataFrame\n",
    "df.info()"
   ]
  },
  {
   "cell_type": "code",
   "execution_count": 40,
   "metadata": {},
   "outputs": [
    {
     "data": {
      "text/html": [
       "<div>\n",
       "<style scoped>\n",
       "    .dataframe tbody tr th:only-of-type {\n",
       "        vertical-align: middle;\n",
       "    }\n",
       "\n",
       "    .dataframe tbody tr th {\n",
       "        vertical-align: top;\n",
       "    }\n",
       "\n",
       "    .dataframe thead th {\n",
       "        text-align: right;\n",
       "    }\n",
       "</style>\n",
       "<table border=\"1\" class=\"dataframe\">\n",
       "  <thead>\n",
       "    <tr style=\"text-align: right;\">\n",
       "      <th></th>\n",
       "      <th>price</th>\n",
       "      <th>model_year</th>\n",
       "      <th>model</th>\n",
       "      <th>condition</th>\n",
       "      <th>cylinders</th>\n",
       "      <th>fuel</th>\n",
       "      <th>odometer</th>\n",
       "      <th>transmission</th>\n",
       "      <th>type</th>\n",
       "      <th>paint_color</th>\n",
       "      <th>is_4wd</th>\n",
       "      <th>date_posted</th>\n",
       "      <th>days_listed</th>\n",
       "      <th>post_weekday</th>\n",
       "      <th>post_month</th>\n",
       "      <th>post_year</th>\n",
       "      <th>vehicle_age</th>\n",
       "      <th>mileage_per_year</th>\n",
       "    </tr>\n",
       "  </thead>\n",
       "  <tbody>\n",
       "    <tr>\n",
       "      <th>51515</th>\n",
       "      <td>12000</td>\n",
       "      <td>2005.0</td>\n",
       "      <td>chevrolet silverado 2500hd</td>\n",
       "      <td>2</td>\n",
       "      <td>8</td>\n",
       "      <td>diesel</td>\n",
       "      <td>228000</td>\n",
       "      <td>automatic</td>\n",
       "      <td>pickup</td>\n",
       "      <td>silver</td>\n",
       "      <td>1</td>\n",
       "      <td>2018-08-18</td>\n",
       "      <td>52</td>\n",
       "      <td>Saturday</td>\n",
       "      <td>August</td>\n",
       "      <td>2018</td>\n",
       "      <td>14.0</td>\n",
       "      <td>16285.714286</td>\n",
       "    </tr>\n",
       "    <tr>\n",
       "      <th>51516</th>\n",
       "      <td>8999</td>\n",
       "      <td>2011.0</td>\n",
       "      <td>jeep grand cherokee</td>\n",
       "      <td>2</td>\n",
       "      <td>6</td>\n",
       "      <td>gas</td>\n",
       "      <td>131751</td>\n",
       "      <td>automatic</td>\n",
       "      <td>suv</td>\n",
       "      <td>white</td>\n",
       "      <td>1</td>\n",
       "      <td>2018-11-01</td>\n",
       "      <td>51</td>\n",
       "      <td>Thursday</td>\n",
       "      <td>November</td>\n",
       "      <td>2018</td>\n",
       "      <td>8.0</td>\n",
       "      <td>16468.875000</td>\n",
       "    </tr>\n",
       "    <tr>\n",
       "      <th>51517</th>\n",
       "      <td>11000</td>\n",
       "      <td>2012.0</td>\n",
       "      <td>dodge charger</td>\n",
       "      <td>3</td>\n",
       "      <td>8</td>\n",
       "      <td>gas</td>\n",
       "      <td>81000</td>\n",
       "      <td>automatic</td>\n",
       "      <td>sedan</td>\n",
       "      <td>black</td>\n",
       "      <td>0</td>\n",
       "      <td>2019-04-19</td>\n",
       "      <td>44</td>\n",
       "      <td>Friday</td>\n",
       "      <td>April</td>\n",
       "      <td>2019</td>\n",
       "      <td>8.0</td>\n",
       "      <td>10125.000000</td>\n",
       "    </tr>\n",
       "    <tr>\n",
       "      <th>51518</th>\n",
       "      <td>3750</td>\n",
       "      <td>2005.0</td>\n",
       "      <td>ford taurus</td>\n",
       "      <td>3</td>\n",
       "      <td>6</td>\n",
       "      <td>gas</td>\n",
       "      <td>110200</td>\n",
       "      <td>automatic</td>\n",
       "      <td>sedan</td>\n",
       "      <td>silver</td>\n",
       "      <td>0</td>\n",
       "      <td>2018-08-10</td>\n",
       "      <td>63</td>\n",
       "      <td>Friday</td>\n",
       "      <td>August</td>\n",
       "      <td>2018</td>\n",
       "      <td>14.0</td>\n",
       "      <td>7871.428571</td>\n",
       "    </tr>\n",
       "    <tr>\n",
       "      <th>51519</th>\n",
       "      <td>11750</td>\n",
       "      <td>2015.0</td>\n",
       "      <td>honda accord</td>\n",
       "      <td>3</td>\n",
       "      <td>4</td>\n",
       "      <td>gas</td>\n",
       "      <td>78155</td>\n",
       "      <td>automatic</td>\n",
       "      <td>coupe</td>\n",
       "      <td>unknown</td>\n",
       "      <td>0</td>\n",
       "      <td>2018-11-24</td>\n",
       "      <td>89</td>\n",
       "      <td>Saturday</td>\n",
       "      <td>November</td>\n",
       "      <td>2018</td>\n",
       "      <td>4.0</td>\n",
       "      <td>19538.750000</td>\n",
       "    </tr>\n",
       "    <tr>\n",
       "      <th>51520</th>\n",
       "      <td>9249</td>\n",
       "      <td>2013.0</td>\n",
       "      <td>nissan maxima</td>\n",
       "      <td>4</td>\n",
       "      <td>6</td>\n",
       "      <td>gas</td>\n",
       "      <td>88136</td>\n",
       "      <td>automatic</td>\n",
       "      <td>sedan</td>\n",
       "      <td>black</td>\n",
       "      <td>0</td>\n",
       "      <td>2018-10-03</td>\n",
       "      <td>37</td>\n",
       "      <td>Wednesday</td>\n",
       "      <td>October</td>\n",
       "      <td>2018</td>\n",
       "      <td>6.0</td>\n",
       "      <td>14689.333333</td>\n",
       "    </tr>\n",
       "    <tr>\n",
       "      <th>51521</th>\n",
       "      <td>2700</td>\n",
       "      <td>2002.0</td>\n",
       "      <td>honda civic</td>\n",
       "      <td>0</td>\n",
       "      <td>4</td>\n",
       "      <td>gas</td>\n",
       "      <td>181500</td>\n",
       "      <td>automatic</td>\n",
       "      <td>sedan</td>\n",
       "      <td>white</td>\n",
       "      <td>0</td>\n",
       "      <td>2018-11-14</td>\n",
       "      <td>22</td>\n",
       "      <td>Wednesday</td>\n",
       "      <td>November</td>\n",
       "      <td>2018</td>\n",
       "      <td>17.0</td>\n",
       "      <td>10676.470588</td>\n",
       "    </tr>\n",
       "    <tr>\n",
       "      <th>51522</th>\n",
       "      <td>3950</td>\n",
       "      <td>2009.0</td>\n",
       "      <td>hyundai sonata</td>\n",
       "      <td>3</td>\n",
       "      <td>4</td>\n",
       "      <td>gas</td>\n",
       "      <td>128000</td>\n",
       "      <td>automatic</td>\n",
       "      <td>sedan</td>\n",
       "      <td>blue</td>\n",
       "      <td>0</td>\n",
       "      <td>2018-11-15</td>\n",
       "      <td>32</td>\n",
       "      <td>Thursday</td>\n",
       "      <td>November</td>\n",
       "      <td>2018</td>\n",
       "      <td>10.0</td>\n",
       "      <td>12800.000000</td>\n",
       "    </tr>\n",
       "    <tr>\n",
       "      <th>51523</th>\n",
       "      <td>7455</td>\n",
       "      <td>2013.0</td>\n",
       "      <td>toyota corolla</td>\n",
       "      <td>2</td>\n",
       "      <td>4</td>\n",
       "      <td>gas</td>\n",
       "      <td>139573</td>\n",
       "      <td>automatic</td>\n",
       "      <td>sedan</td>\n",
       "      <td>black</td>\n",
       "      <td>0</td>\n",
       "      <td>2018-07-02</td>\n",
       "      <td>71</td>\n",
       "      <td>Monday</td>\n",
       "      <td>July</td>\n",
       "      <td>2018</td>\n",
       "      <td>6.0</td>\n",
       "      <td>23262.166667</td>\n",
       "    </tr>\n",
       "    <tr>\n",
       "      <th>51524</th>\n",
       "      <td>6300</td>\n",
       "      <td>2014.0</td>\n",
       "      <td>nissan altima</td>\n",
       "      <td>2</td>\n",
       "      <td>4</td>\n",
       "      <td>gas</td>\n",
       "      <td>94009</td>\n",
       "      <td>automatic</td>\n",
       "      <td>sedan</td>\n",
       "      <td>unknown</td>\n",
       "      <td>0</td>\n",
       "      <td>2018-06-05</td>\n",
       "      <td>10</td>\n",
       "      <td>Tuesday</td>\n",
       "      <td>June</td>\n",
       "      <td>2018</td>\n",
       "      <td>5.0</td>\n",
       "      <td>18801.800000</td>\n",
       "    </tr>\n",
       "  </tbody>\n",
       "</table>\n",
       "</div>"
      ],
      "text/plain": [
       "       price  model_year                       model  condition  cylinders  \\\n",
       "51515  12000      2005.0  chevrolet silverado 2500hd          2          8   \n",
       "51516   8999      2011.0         jeep grand cherokee          2          6   \n",
       "51517  11000      2012.0               dodge charger          3          8   \n",
       "51518   3750      2005.0                 ford taurus          3          6   \n",
       "51519  11750      2015.0                honda accord          3          4   \n",
       "51520   9249      2013.0               nissan maxima          4          6   \n",
       "51521   2700      2002.0                 honda civic          0          4   \n",
       "51522   3950      2009.0              hyundai sonata          3          4   \n",
       "51523   7455      2013.0              toyota corolla          2          4   \n",
       "51524   6300      2014.0               nissan altima          2          4   \n",
       "\n",
       "         fuel  odometer transmission    type paint_color  is_4wd date_posted  \\\n",
       "51515  diesel    228000    automatic  pickup      silver       1  2018-08-18   \n",
       "51516     gas    131751    automatic     suv       white       1  2018-11-01   \n",
       "51517     gas     81000    automatic   sedan       black       0  2019-04-19   \n",
       "51518     gas    110200    automatic   sedan      silver       0  2018-08-10   \n",
       "51519     gas     78155    automatic   coupe     unknown       0  2018-11-24   \n",
       "51520     gas     88136    automatic   sedan       black       0  2018-10-03   \n",
       "51521     gas    181500    automatic   sedan       white       0  2018-11-14   \n",
       "51522     gas    128000    automatic   sedan        blue       0  2018-11-15   \n",
       "51523     gas    139573    automatic   sedan       black       0  2018-07-02   \n",
       "51524     gas     94009    automatic   sedan     unknown       0  2018-06-05   \n",
       "\n",
       "       days_listed post_weekday post_month  post_year  vehicle_age  \\\n",
       "51515           52     Saturday     August       2018         14.0   \n",
       "51516           51     Thursday   November       2018          8.0   \n",
       "51517           44       Friday      April       2019          8.0   \n",
       "51518           63       Friday     August       2018         14.0   \n",
       "51519           89     Saturday   November       2018          4.0   \n",
       "51520           37    Wednesday    October       2018          6.0   \n",
       "51521           22    Wednesday   November       2018         17.0   \n",
       "51522           32     Thursday   November       2018         10.0   \n",
       "51523           71       Monday       July       2018          6.0   \n",
       "51524           10      Tuesday       June       2018          5.0   \n",
       "\n",
       "       mileage_per_year  \n",
       "51515      16285.714286  \n",
       "51516      16468.875000  \n",
       "51517      10125.000000  \n",
       "51518       7871.428571  \n",
       "51519      19538.750000  \n",
       "51520      14689.333333  \n",
       "51521      10676.470588  \n",
       "51522      12800.000000  \n",
       "51523      23262.166667  \n",
       "51524      18801.800000  "
      ]
     },
     "execution_count": 40,
     "metadata": {},
     "output_type": "execute_result"
    }
   ],
   "source": [
    "# print a sample of data\n",
    "df.tail(10)"
   ]
  },
  {
   "cell_type": "markdown",
   "metadata": {},
   "source": [
    "## Study core parameters\n",
    "\n",
    "The parameters are:\n",
    "- Price\n",
    "- The vehicle's age when the ad was placed\n",
    "- Mileage\n",
    "- Number of cylinders\n",
    "- Condition"
   ]
  },
  {
   "cell_type": "code",
   "execution_count": 41,
   "metadata": {
    "scrolled": false
   },
   "outputs": [
    {
     "data": {
      "image/png": "[encoded data removed]",
      "text/plain": [
       "<Figure size 864x216 with 1 Axes>"
      ]
     },
     "metadata": {
      "needs_background": "light"
     },
     "output_type": "display_data"
    },
    {
     "data": {
      "image/png": "[encoded data removed]",
      "text/plain": [
       "<Figure size 864x216 with 1 Axes>"
      ]
     },
     "metadata": {
      "needs_background": "light"
     },
     "output_type": "display_data"
    },
    {
     "data": {
      "image/png": "[encoded data removed]",
      "text/plain": [
       "<Figure size 864x216 with 1 Axes>"
      ]
     },
     "metadata": {
      "needs_background": "light"
     },
     "output_type": "display_data"
    },
    {
     "data": {
      "image/png": "[encoded data removed]",
      "text/plain": [
       "<Figure size 864x216 with 1 Axes>"
      ]
     },
     "metadata": {
      "needs_background": "light"
     },
     "output_type": "display_data"
    },
    {
     "data": {
      "image/png": "[encoded data removed]",
      "text/plain": [
       "<Figure size 864x216 with 1 Axes>"
      ]
     },
     "metadata": {
      "needs_background": "light"
     },
     "output_type": "display_data"
    }
   ],
   "source": [
    "# list of three parameters to observe\n",
    "core_parameters = ['price', 'vehicle_age', 'mileage_per_year', 'condition', 'cylinders']\n",
    "\n",
    "# plot histograms for each core parameter\n",
    "for column in core_parameters:\n",
    "    df[column].hist(bins=30, figsize=(12, 3))\n",
    "    plt.title(f'Distribution of {column.title()}')\n",
    "    plt.xlabel(column)\n",
    "    plt.ylabel(\"Number of Advertisements\")\n",
    "    plt.show()"
   ]
  },
  {
   "cell_type": "markdown",
   "metadata": {},
   "source": [
    "While `cylinders` and `condition` look fine due, the graphs of `price`, `vehicle_age`, and `mileage_per_year` are extremely difficult to read due to the space on the right. This indicates that there are outliers in our data - cars that have an unusually high selling price, age, or mileage. "
   ]
  },
  {
   "cell_type": "markdown",
   "metadata": {},
   "source": [
    "<div class=\"alert alert-block alert-success\">\n",
    "<b>Reviewer's comment</b> <a class=\"tocSkip\"></a>\n",
    "\n",
    "Good thinking about outliers affecting the readability of the charts.\n",
    "</div>"
   ]
  },
  {
   "cell_type": "markdown",
   "metadata": {},
   "source": [
    "## Study and treat outliers\n",
    "\n",
    "These outliers may significantly skew our results, so I will create a dataframe where outliers are filtered out. I will do this by checking the upper limit of `price`, `vehicle_age`, and `mileage_per_year` (based on each IQR) and filtering out data that falls beyond that."
   ]
  },
  {
   "cell_type": "code",
   "execution_count": 42,
   "metadata": {},
   "outputs": [],
   "source": [
    "# columns to find outliers for\n",
    "columns = ['price', 'vehicle_age', 'mileage_per_year']\n",
    "\n",
    "# dictionaries to store limits for each parameter\n",
    "upper_limits = {}\n",
    "\n",
    "# for each column, add limits to the dictionaries\n",
    "for column in columns:\n",
    "    Q1 = df[column].quantile(0.25)\n",
    "    Q3 = df[column].quantile(0.75)\n",
    "    IQR = Q3 - Q1\n",
    "    \n",
    "    upper_limit = Q3 + 1.5 * IQR\n",
    "    upper_limits[column] = upper_limit"
   ]
  },
  {
   "cell_type": "code",
   "execution_count": 43,
   "metadata": {},
   "outputs": [
    {
     "data": {
      "text/plain": [
       "{'price': 34597.5, 'vehicle_age': 25.0, 'mileage_per_year': 29646.923076923078}"
      ]
     },
     "execution_count": 43,
     "metadata": {},
     "output_type": "execute_result"
    }
   ],
   "source": [
    "# checking our upper limits\n",
    "upper_limits"
   ]
  },
  {
   "cell_type": "code",
   "execution_count": 44,
   "metadata": {},
   "outputs": [],
   "source": [
    "# query out outliers in price, vehicle_age, and mileage_per_year\n",
    "df_filtered = df.query(\"price < @upper_limits['price'] & vehicle_age < @upper_limits['vehicle_age'] & mileage_per_year < @upper_limits['mileage_per_year']\")"
   ]
  },
  {
   "cell_type": "code",
   "execution_count": 45,
   "metadata": {},
   "outputs": [
    {
     "name": "stdout",
     "output_type": "stream",
     "text": [
      "count    46968.000000\n",
      "mean     10979.565044\n",
      "std       7754.972548\n",
      "min          1.000000\n",
      "25%       4995.000000\n",
      "50%       8900.000000\n",
      "75%      15500.000000\n",
      "max      34595.000000\n",
      "Name: price, dtype: float64\n",
      "\n",
      " count    46968.000000\n",
      "mean         9.534885\n",
      "std          4.980611\n",
      "min          1.000000\n",
      "25%          6.000000\n",
      "50%          9.000000\n",
      "75%         13.000000\n",
      "max         24.000000\n",
      "Name: vehicle_age, dtype: float64\n",
      "\n",
      " count    46968.000000\n",
      "mean     13495.102652\n",
      "std       5598.978666\n",
      "min          0.000000\n",
      "25%       9833.333333\n",
      "50%      13083.333333\n",
      "75%      16819.781250\n",
      "max      29643.250000\n",
      "Name: mileage_per_year, dtype: float64\n"
     ]
    }
   ],
   "source": [
    "# check new df\n",
    "print(df_filtered['price'].describe())\n",
    "print('\\n', df_filtered['vehicle_age'].describe())\n",
    "print('\\n', df_filtered['mileage_per_year'].describe())"
   ]
  },
  {
   "cell_type": "markdown",
   "metadata": {},
   "source": [
    "Our filtered dataframe has 46313 rows, meaning that we've lost about 10% of our data during the filtering of these outliers."
   ]
  },
  {
   "cell_type": "markdown",
   "metadata": {},
   "source": [
    "<div class=\"alert alert-block alert-success\">\n",
    "<b>Reviewer's comment</b> <a class=\"tocSkip\"></a>\n",
    "\n",
    "Very good idea to use IQR analysis!\n",
    "</div>"
   ]
  },
  {
   "cell_type": "markdown",
   "metadata": {},
   "source": [
    "## Study core parameters without outliers"
   ]
  },
  {
   "cell_type": "markdown",
   "metadata": {},
   "source": [
    "The histograms for `price`, `vehicle_age`, and `mileage_per_year` will be viewed again now that the outliers have been filtered out."
   ]
  },
  {
   "cell_type": "code",
   "execution_count": 46,
   "metadata": {
    "scrolled": true
   },
   "outputs": [
    {
     "data": {
      "text/plain": [
       "<AxesSubplot:title={'center':'Price Distribution (without outliers)'}, ylabel='Frequency'>"
      ]
     },
     "execution_count": 46,
     "metadata": {},
     "output_type": "execute_result"
    },
    {
     "data": {
      "image/png": "[encoded data removed]",
      "text/plain": [
       "<Figure size 432x288 with 1 Axes>"
      ]
     },
     "metadata": {
      "needs_background": "light"
     },
     "output_type": "display_data"
    }
   ],
   "source": [
    "# create histogram for the price column\n",
    "df_filtered['price'].plot(kind='hist', bins=20,\n",
    "                         title='Price Distribution (without outliers)',\n",
    "                         xlabel='Price',\n",
    "                         ylabel='Number of Advertisements')"
   ]
  },
  {
   "cell_type": "code",
   "execution_count": 47,
   "metadata": {},
   "outputs": [
    {
     "data": {
      "text/plain": [
       "count    46968.000000\n",
       "mean     10979.565044\n",
       "std       7754.972548\n",
       "min          1.000000\n",
       "25%       4995.000000\n",
       "50%       8900.000000\n",
       "75%      15500.000000\n",
       "max      34595.000000\n",
       "Name: price, dtype: float64"
      ]
     },
     "execution_count": 47,
     "metadata": {},
     "output_type": "execute_result"
    }
   ],
   "source": [
    "# view info on column \n",
    "df_filtered['price'].describe()"
   ]
  },
  {
   "cell_type": "markdown",
   "metadata": {},
   "source": [
    "The histogram is significantly easier to read now, though there is still a right skew. The histogram peaks around \\$2500 to \\\\$7500\n",
    "This seems to be the most common selling price of each vehicle. "
   ]
  },
  {
   "cell_type": "code",
   "execution_count": 48,
   "metadata": {
    "scrolled": true
   },
   "outputs": [
    {
     "data": {
      "text/plain": [
       "<AxesSubplot:title={'center':'Vehicle Age Distribution (without outliers)'}, ylabel='Frequency'>"
      ]
     },
     "execution_count": 48,
     "metadata": {},
     "output_type": "execute_result"
    },
    {
     "data": {
      "image/png": "[encoded data removed]",
      "text/plain": [
       "<Figure size 432x288 with 1 Axes>"
      ]
     },
     "metadata": {
      "needs_background": "light"
     },
     "output_type": "display_data"
    }
   ],
   "source": [
    "df_filtered['vehicle_age'].plot(kind='hist', bins=20,\n",
    "                         title='Vehicle Age Distribution (without outliers)',\n",
    "                         xlabel='Vehicle Age',\n",
    "                         ylabel='Number of Advertisements')"
   ]
  },
  {
   "cell_type": "code",
   "execution_count": 49,
   "metadata": {},
   "outputs": [
    {
     "data": {
      "text/plain": [
       "count    46968.000000\n",
       "mean         9.534885\n",
       "std          4.980611\n",
       "min          1.000000\n",
       "25%          6.000000\n",
       "50%          9.000000\n",
       "75%         13.000000\n",
       "max         24.000000\n",
       "Name: vehicle_age, dtype: float64"
      ]
     },
     "execution_count": 49,
     "metadata": {},
     "output_type": "execute_result"
    }
   ],
   "source": [
    "# view info on column \n",
    "df_filtered['vehicle_age'].describe()"
   ]
  },
  {
   "cell_type": "markdown",
   "metadata": {},
   "source": [
    "`vehicle_age` is also easier to read. There is still a slight right skew in this graph as well as two peaks around vehicle ages of 7 and 16. The other ages follow a curve, but there seems to be a high proportion of cars sold with these ages."
   ]
  },
  {
   "cell_type": "code",
   "execution_count": 50,
   "metadata": {},
   "outputs": [
    {
     "data": {
      "text/plain": [
       "<AxesSubplot:title={'center':'Mileage Per Year Distribution (without outliers)'}, ylabel='Frequency'>"
      ]
     },
     "execution_count": 50,
     "metadata": {},
     "output_type": "execute_result"
    },
    {
     "data": {
      "image/png": "[encoded data removed]",
      "text/plain": [
       "<Figure size 432x288 with 1 Axes>"
      ]
     },
     "metadata": {
      "needs_background": "light"
     },
     "output_type": "display_data"
    }
   ],
   "source": [
    "df_filtered['mileage_per_year'].plot(kind='hist', bins=20,\n",
    "                         title='Mileage Per Year Distribution (without outliers)',\n",
    "                         xlabel='Mileage Per Year',\n",
    "                         ylabel='Number of Advertisements')"
   ]
  },
  {
   "cell_type": "code",
   "execution_count": 51,
   "metadata": {},
   "outputs": [
    {
     "data": {
      "text/plain": [
       "count    46968.000000\n",
       "mean     13495.102652\n",
       "std       5598.978666\n",
       "min          0.000000\n",
       "25%       9833.333333\n",
       "50%      13083.333333\n",
       "75%      16819.781250\n",
       "max      29643.250000\n",
       "Name: mileage_per_year, dtype: float64"
      ]
     },
     "execution_count": 51,
     "metadata": {},
     "output_type": "execute_result"
    }
   ],
   "source": [
    "# view info on column \n",
    "df_filtered['mileage_per_year'].describe()"
   ]
  },
  {
   "cell_type": "markdown",
   "metadata": {},
   "source": [
    "`mileage_per_year` is relatively normal looking, and the mean and medians are very close together (varying by only 1000 miles). "
   ]
  },
  {
   "cell_type": "markdown",
   "metadata": {},
   "source": [
    "<div class=\"alert alert-block alert-success\">\n",
    "<b>Reviewer's comment</b> <a class=\"tocSkip\"></a>\n",
    "\n",
    "Thank you for not forgetting to include intermediate conclusions to your project! They are as important as your code :)\n",
    "</div>"
   ]
  },
  {
   "cell_type": "markdown",
   "metadata": {},
   "source": [
    "## Ads lifetime\n",
    "\n",
    "Next, I will look at `days_listed` and see how quickly advertisements were taken down."
   ]
  },
  {
   "cell_type": "code",
   "execution_count": 52,
   "metadata": {},
   "outputs": [
    {
     "data": {
      "text/plain": [
       "count    46968.000000\n",
       "mean        39.555101\n",
       "std         28.229844\n",
       "min          0.000000\n",
       "25%         19.000000\n",
       "50%         33.000000\n",
       "75%         53.000000\n",
       "max        271.000000\n",
       "Name: days_listed, dtype: float64"
      ]
     },
     "execution_count": 52,
     "metadata": {},
     "output_type": "execute_result"
    }
   ],
   "source": [
    "# view information about the days_listed column\n",
    "df_filtered['days_listed'].describe()"
   ]
  },
  {
   "cell_type": "markdown",
   "metadata": {},
   "source": [
    "The mean of this column is about 39 days and the median is 33 days. This indicates we likely have outliers pulling the mean up - our max value is 271 days, which is an abnormally long time. Next, I will look at a boxplot of the `days_listed` to see what unusually high and low values are."
   ]
  },
  {
   "cell_type": "code",
   "execution_count": 53,
   "metadata": {},
   "outputs": [
    {
     "data": {
      "text/plain": [
       "Text(0.5, 0, 'Number of Advertisements')"
      ]
     },
     "execution_count": 53,
     "metadata": {},
     "output_type": "execute_result"
    },
    {
     "data": {
      "image/png": "[encoded data removed]",
      "text/plain": [
       "<Figure size 864x288 with 1 Axes>"
      ]
     },
     "metadata": {
      "needs_background": "light"
     },
     "output_type": "display_data"
    }
   ],
   "source": [
    "# view boxplot of days_listed to see outliers\n",
    "df_filtered.boxplot(column='days_listed', vert=False, figsize=(12, 4))\n",
    "plt.title(\"Amount of Time Advertisements are Listed\")\n",
    "plt.xlabel(\"Number of Advertisements\")"
   ]
  },
  {
   "cell_type": "code",
   "execution_count": 54,
   "metadata": {},
   "outputs": [
    {
     "data": {
      "text/plain": [
       "Text(0, 0.5, 'Number of Advertisements')"
      ]
     },
     "execution_count": 54,
     "metadata": {},
     "output_type": "execute_result"
    },
    {
     "data": {
      "image/png": "[encoded data removed]",
      "text/plain": [
       "<Figure size 432x288 with 1 Axes>"
      ]
     },
     "metadata": {
      "needs_background": "light"
     },
     "output_type": "display_data"
    }
   ],
   "source": [
    "df_filtered['days_listed'].plot(kind='hist', bins=20, title='Distribution of Days Listed')\n",
    "plt.xlabel(\"Days Listed\")\n",
    "plt.ylabel(\"Number of Advertisements\")"
   ]
  },
  {
   "cell_type": "markdown",
   "metadata": {},
   "source": [
    "Most advertisements were taken down within approximately 105 days, though there are many cases where advertisements stayed up for upwards of 200. In general, a majority of the advertisements were taken down between 20 and 55 days, with the greatest amount of advertisements being taken down around 25 days."
   ]
  },
  {
   "cell_type": "markdown",
   "metadata": {},
   "source": [
    "<div class=\"alert alert-block alert-danger\">\n",
    "<s><b>Reviewer's comment</b> <a class=\"tocSkip\"></a>\n",
    "\n",
    "Could you please also add a histogram to this section?\n",
    "</div>"
   ]
  },
  {
   "cell_type": "markdown",
   "metadata": {},
   "source": [
    "<div class=\"alert alert-block alert-info\">\n",
    "<b>Student answer.</b> <a class=\"tocSkip\"></a>\n",
    "\n",
    "I have added a histogram.</div>"
   ]
  },
  {
   "cell_type": "markdown",
   "metadata": {},
   "source": [
    "<div class=\"alert alert-block alert-success\">\n",
    "<b>Reviewer's comment v2</b> <a class=\"tocSkip\"></a>\n",
    "\n",
    "Thank you!\n",
    "</div>"
   ]
  },
  {
   "cell_type": "markdown",
   "metadata": {},
   "source": [
    "## Average price per each type of vehicle"
   ]
  },
  {
   "cell_type": "code",
   "execution_count": 55,
   "metadata": {
    "scrolled": false
   },
   "outputs": [
    {
     "data": {
      "text/html": [
       "<div>\n",
       "<style scoped>\n",
       "    .dataframe tbody tr th:only-of-type {\n",
       "        vertical-align: middle;\n",
       "    }\n",
       "\n",
       "    .dataframe tbody tr th {\n",
       "        vertical-align: top;\n",
       "    }\n",
       "\n",
       "    .dataframe thead th {\n",
       "        text-align: right;\n",
       "    }\n",
       "</style>\n",
       "<table border=\"1\" class=\"dataframe\">\n",
       "  <thead>\n",
       "    <tr style=\"text-align: right;\">\n",
       "      <th></th>\n",
       "      <th>ads</th>\n",
       "      <th>price</th>\n",
       "    </tr>\n",
       "    <tr>\n",
       "      <th>type</th>\n",
       "      <th></th>\n",
       "      <th></th>\n",
       "    </tr>\n",
       "  </thead>\n",
       "  <tbody>\n",
       "    <tr>\n",
       "      <th>suv</th>\n",
       "      <td>11625</td>\n",
       "      <td>10272.087484</td>\n",
       "    </tr>\n",
       "    <tr>\n",
       "      <th>sedan</th>\n",
       "      <td>11600</td>\n",
       "      <td>6820.204741</td>\n",
       "    </tr>\n",
       "    <tr>\n",
       "      <th>truck</th>\n",
       "      <td>10710</td>\n",
       "      <td>14707.275537</td>\n",
       "    </tr>\n",
       "    <tr>\n",
       "      <th>pickup</th>\n",
       "      <td>6145</td>\n",
       "      <td>14667.057771</td>\n",
       "    </tr>\n",
       "    <tr>\n",
       "      <th>coupe</th>\n",
       "      <td>2012</td>\n",
       "      <td>13464.317097</td>\n",
       "    </tr>\n",
       "    <tr>\n",
       "      <th>wagon</th>\n",
       "      <td>1493</td>\n",
       "      <td>8818.630275</td>\n",
       "    </tr>\n",
       "    <tr>\n",
       "      <th>mini-van</th>\n",
       "      <td>1091</td>\n",
       "      <td>7745.766269</td>\n",
       "    </tr>\n",
       "    <tr>\n",
       "      <th>hatchback</th>\n",
       "      <td>984</td>\n",
       "      <td>6736.648374</td>\n",
       "    </tr>\n",
       "    <tr>\n",
       "      <th>van</th>\n",
       "      <td>550</td>\n",
       "      <td>8454.321818</td>\n",
       "    </tr>\n",
       "    <tr>\n",
       "      <th>convertible</th>\n",
       "      <td>338</td>\n",
       "      <td>12991.704142</td>\n",
       "    </tr>\n",
       "    <tr>\n",
       "      <th>other</th>\n",
       "      <td>221</td>\n",
       "      <td>10025.167421</td>\n",
       "    </tr>\n",
       "    <tr>\n",
       "      <th>offroad</th>\n",
       "      <td>180</td>\n",
       "      <td>14211.205556</td>\n",
       "    </tr>\n",
       "    <tr>\n",
       "      <th>bus</th>\n",
       "      <td>19</td>\n",
       "      <td>19276.947368</td>\n",
       "    </tr>\n",
       "  </tbody>\n",
       "</table>\n",
       "</div>"
      ],
      "text/plain": [
       "               ads         price\n",
       "type                            \n",
       "suv          11625  10272.087484\n",
       "sedan        11600   6820.204741\n",
       "truck        10710  14707.275537\n",
       "pickup        6145  14667.057771\n",
       "coupe         2012  13464.317097\n",
       "wagon         1493   8818.630275\n",
       "mini-van      1091   7745.766269\n",
       "hatchback      984   6736.648374\n",
       "van            550   8454.321818\n",
       "convertible    338  12991.704142\n",
       "other          221  10025.167421\n",
       "offroad        180  14211.205556\n",
       "bus             19  19276.947368"
      ]
     },
     "execution_count": 55,
     "metadata": {},
     "output_type": "execute_result"
    }
   ],
   "source": [
    "# create and print pivot table that has number of advertisements and average price for each type of vehicle\n",
    "avg_price_per_type = df_filtered.reset_index().pivot_table(index='type', values=['price', 'index'], aggfunc={'price': 'mean', 'index': 'count'}).rename(columns = {\"index\": \"ads\"}).sort_values(by='ads', ascending=False)\n",
    "avg_price_per_type"
   ]
  },
  {
   "cell_type": "code",
   "execution_count": 56,
   "metadata": {},
   "outputs": [
    {
     "data": {
      "text/plain": [
       "<AxesSubplot:title={'center':'Type of Vehicle and Number of Advertisements Posted'}, xlabel='Type of Vehicle', ylabel='Number of Advertisements'>"
      ]
     },
     "execution_count": 56,
     "metadata": {},
     "output_type": "execute_result"
    },
    {
     "data": {
      "image/png": "[encoded data removed]",
      "text/plain": [
       "<Figure size 432x288 with 1 Axes>"
      ]
     },
     "metadata": {
      "needs_background": "light"
     },
     "output_type": "display_data"
    }
   ],
   "source": [
    "avg_price_per_type.reset_index().plot(kind = 'bar', \n",
    "                                      x = 'type', y = 'ads', \n",
    "                                      title = 'Type of Vehicle and Number of Advertisements Posted',\n",
    "                                      xlabel= 'Type of Vehicle',\n",
    "                                      ylabel = 'Number of Advertisements'\n",
    "                                     )"
   ]
  },
  {
   "cell_type": "markdown",
   "metadata": {},
   "source": [
    "SUVs and Sedans have the most advertisements up for them."
   ]
  },
  {
   "cell_type": "markdown",
   "metadata": {},
   "source": [
    "<div class=\"alert alert-block alert-success\">\n",
    "<b>Reviewer's comment</b> <a class=\"tocSkip\"></a>\n",
    "\n",
    "You're totally right here!\n",
    "</div>"
   ]
  },
  {
   "cell_type": "markdown",
   "metadata": {},
   "source": [
    "## Price factors"
   ]
  },
  {
   "cell_type": "markdown",
   "metadata": {},
   "source": [
    "`vehicle_age`, `mileage_per_year`, `condition`, `transmission`, and `paint_color` will be compared against `price` to determine which factors most affect the cost of a vehicle being sold. For `transmission` and `paint_color`, box plots were plotted, as these columns are categorical. The other columns are all quantitative, and so I will make scatterplots for them.\n",
    "\n",
    "I will also create a correlation matrix to determine which quantitative factors are affecting price the most."
   ]
  },
  {
   "cell_type": "code",
   "execution_count": 57,
   "metadata": {},
   "outputs": [],
   "source": [
    "# the columns we want to analyze\n",
    "factors = ['price', 'vehicle_age', 'mileage_per_year', 'condition', 'transmission', 'paint_color']\n",
    "\n",
    "# create dataframes for suvs and sedans\n",
    "suv_df = df_filtered.query(\"type == 'suv'\")[factors].reset_index(drop=True)\n",
    "sedan_df = df_filtered.query(\"type == 'sedan'\")[factors].reset_index(drop=True)"
   ]
  },
  {
   "cell_type": "code",
   "execution_count": 58,
   "metadata": {},
   "outputs": [
    {
     "data": {
      "text/html": [
       "<div>\n",
       "<style scoped>\n",
       "    .dataframe tbody tr th:only-of-type {\n",
       "        vertical-align: middle;\n",
       "    }\n",
       "\n",
       "    .dataframe tbody tr th {\n",
       "        vertical-align: top;\n",
       "    }\n",
       "\n",
       "    .dataframe thead th {\n",
       "        text-align: right;\n",
       "    }\n",
       "</style>\n",
       "<table border=\"1\" class=\"dataframe\">\n",
       "  <thead>\n",
       "    <tr style=\"text-align: right;\">\n",
       "      <th></th>\n",
       "      <th>price</th>\n",
       "      <th>vehicle_age</th>\n",
       "      <th>mileage_per_year</th>\n",
       "      <th>condition</th>\n",
       "      <th>transmission</th>\n",
       "      <th>paint_color</th>\n",
       "    </tr>\n",
       "  </thead>\n",
       "  <tbody>\n",
       "    <tr>\n",
       "      <th>0</th>\n",
       "      <td>9400</td>\n",
       "      <td>8.0</td>\n",
       "      <td>18125.000000</td>\n",
       "      <td>2</td>\n",
       "      <td>automatic</td>\n",
       "      <td>unknown</td>\n",
       "    </tr>\n",
       "    <tr>\n",
       "      <th>1</th>\n",
       "      <td>15990</td>\n",
       "      <td>7.0</td>\n",
       "      <td>15639.000000</td>\n",
       "      <td>3</td>\n",
       "      <td>automatic</td>\n",
       "      <td>black</td>\n",
       "    </tr>\n",
       "    <tr>\n",
       "      <th>2</th>\n",
       "      <td>11500</td>\n",
       "      <td>7.0</td>\n",
       "      <td>14882.000000</td>\n",
       "      <td>3</td>\n",
       "      <td>automatic</td>\n",
       "      <td>unknown</td>\n",
       "    </tr>\n",
       "    <tr>\n",
       "      <th>3</th>\n",
       "      <td>9200</td>\n",
       "      <td>12.0</td>\n",
       "      <td>12265.916667</td>\n",
       "      <td>3</td>\n",
       "      <td>automatic</td>\n",
       "      <td>blue</td>\n",
       "    </tr>\n",
       "    <tr>\n",
       "      <th>4</th>\n",
       "      <td>12990</td>\n",
       "      <td>11.0</td>\n",
       "      <td>12025.909091</td>\n",
       "      <td>3</td>\n",
       "      <td>automatic</td>\n",
       "      <td>black</td>\n",
       "    </tr>\n",
       "  </tbody>\n",
       "</table>\n",
       "</div>"
      ],
      "text/plain": [
       "   price  vehicle_age  mileage_per_year  condition transmission paint_color\n",
       "0   9400          8.0      18125.000000          2    automatic     unknown\n",
       "1  15990          7.0      15639.000000          3    automatic       black\n",
       "2  11500          7.0      14882.000000          3    automatic     unknown\n",
       "3   9200         12.0      12265.916667          3    automatic        blue\n",
       "4  12990         11.0      12025.909091          3    automatic       black"
      ]
     },
     "execution_count": 58,
     "metadata": {},
     "output_type": "execute_result"
    }
   ],
   "source": [
    "# view suv data\n",
    "suv_df.head()"
   ]
  },
  {
   "cell_type": "code",
   "execution_count": 59,
   "metadata": {},
   "outputs": [
    {
     "data": {
      "text/html": [
       "<div>\n",
       "<style scoped>\n",
       "    .dataframe tbody tr th:only-of-type {\n",
       "        vertical-align: middle;\n",
       "    }\n",
       "\n",
       "    .dataframe tbody tr th {\n",
       "        vertical-align: top;\n",
       "    }\n",
       "\n",
       "    .dataframe thead th {\n",
       "        text-align: right;\n",
       "    }\n",
       "</style>\n",
       "<table border=\"1\" class=\"dataframe\">\n",
       "  <thead>\n",
       "    <tr style=\"text-align: right;\">\n",
       "      <th></th>\n",
       "      <th>price</th>\n",
       "      <th>vehicle_age</th>\n",
       "      <th>mileage_per_year</th>\n",
       "      <th>condition</th>\n",
       "      <th>transmission</th>\n",
       "      <th>paint_color</th>\n",
       "    </tr>\n",
       "  </thead>\n",
       "  <tbody>\n",
       "    <tr>\n",
       "      <th>0</th>\n",
       "      <td>5500</td>\n",
       "      <td>7.0</td>\n",
       "      <td>15714.285714</td>\n",
       "      <td>4</td>\n",
       "      <td>automatic</td>\n",
       "      <td>red</td>\n",
       "    </tr>\n",
       "    <tr>\n",
       "      <th>1</th>\n",
       "      <td>14900</td>\n",
       "      <td>3.0</td>\n",
       "      <td>26967.666667</td>\n",
       "      <td>3</td>\n",
       "      <td>automatic</td>\n",
       "      <td>black</td>\n",
       "    </tr>\n",
       "    <tr>\n",
       "      <th>2</th>\n",
       "      <td>14990</td>\n",
       "      <td>5.0</td>\n",
       "      <td>11590.800000</td>\n",
       "      <td>3</td>\n",
       "      <td>automatic</td>\n",
       "      <td>black</td>\n",
       "    </tr>\n",
       "    <tr>\n",
       "      <th>3</th>\n",
       "      <td>12990</td>\n",
       "      <td>4.0</td>\n",
       "      <td>19803.000000</td>\n",
       "      <td>3</td>\n",
       "      <td>automatic</td>\n",
       "      <td>white</td>\n",
       "    </tr>\n",
       "    <tr>\n",
       "      <th>4</th>\n",
       "      <td>8990</td>\n",
       "      <td>8.0</td>\n",
       "      <td>13892.750000</td>\n",
       "      <td>3</td>\n",
       "      <td>automatic</td>\n",
       "      <td>grey</td>\n",
       "    </tr>\n",
       "  </tbody>\n",
       "</table>\n",
       "</div>"
      ],
      "text/plain": [
       "   price  vehicle_age  mileage_per_year  condition transmission paint_color\n",
       "0   5500          7.0      15714.285714          4    automatic         red\n",
       "1  14900          3.0      26967.666667          3    automatic       black\n",
       "2  14990          5.0      11590.800000          3    automatic       black\n",
       "3  12990          4.0      19803.000000          3    automatic       white\n",
       "4   8990          8.0      13892.750000          3    automatic        grey"
      ]
     },
     "execution_count": 59,
     "metadata": {},
     "output_type": "execute_result"
    }
   ],
   "source": [
    "# view sedan data\n",
    "sedan_df.head()"
   ]
  },
  {
   "cell_type": "markdown",
   "metadata": {},
   "source": [
    "### Plots"
   ]
  },
  {
   "cell_type": "markdown",
   "metadata": {},
   "source": [
    "For categorical data, we should only make analyses on categories that have an adequate (50+) amount of data. Before plotting the data, I will observe the number of ads in each color."
   ]
  },
  {
   "cell_type": "code",
   "execution_count": 60,
   "metadata": {},
   "outputs": [
    {
     "name": "stdout",
     "output_type": "stream",
     "text": [
      "unknown    2097\n",
      "black      2056\n",
      "white      1809\n",
      "silver     1480\n",
      "grey       1103\n",
      "blue        979\n",
      "red         865\n",
      "green       424\n",
      "brown       354\n",
      "custom      297\n",
      "orange       78\n",
      "yellow       44\n",
      "purple       39\n",
      "Name: paint_color, dtype: int64\n",
      "unknown    2099\n",
      "silver     1951\n",
      "black      1679\n",
      "grey       1550\n",
      "white      1418\n",
      "blue       1188\n",
      "red         919\n",
      "custom      283\n",
      "brown       252\n",
      "green       204\n",
      "purple       26\n",
      "yellow       22\n",
      "orange        9\n",
      "Name: paint_color, dtype: int64\n"
     ]
    }
   ],
   "source": [
    "# checking number of ads for each color\n",
    "print(suv_df.paint_color.value_counts())\n",
    "print(sedan_df.paint_color.value_counts())"
   ]
  },
  {
   "cell_type": "markdown",
   "metadata": {},
   "source": [
    "There is limited information on purple, yellow, and orange vehicles, namely in Sedans. As such, I will filter out these colors from both dataframes, as well as for colors that are unknown.  "
   ]
  },
  {
   "cell_type": "code",
   "execution_count": 61,
   "metadata": {
    "scrolled": true
   },
   "outputs": [],
   "source": [
    "# list of colors to filter out\n",
    "colors_to_remove = ['unknown', 'orange', 'yellow', 'purple']\n",
    "\n",
    "# applying filtering to dfs\n",
    "suv_df = suv_df.query('paint_color not in @colors_to_remove')\n",
    "sedan_df = sedan_df.query('paint_color not in @colors_to_remove')"
   ]
  },
  {
   "cell_type": "markdown",
   "metadata": {},
   "source": [
    "Now that we've finished filtering our dataframes, I will create boxplots for categorical data and scatteplots for quantitative data."
   ]
  },
  {
   "cell_type": "code",
   "execution_count": 62,
   "metadata": {
    "scrolled": false
   },
   "outputs": [
    {
     "data": {
      "image/png": "[encoded data removed]",
      "text/plain": [
       "<Figure size 1008x288 with 2 Axes>"
      ]
     },
     "metadata": {
      "needs_background": "light"
     },
     "output_type": "display_data"
    },
    {
     "data": {
      "image/png": "[encoded data removed]",
      "text/plain": [
       "<Figure size 1008x288 with 2 Axes>"
      ]
     },
     "metadata": {
      "needs_background": "light"
     },
     "output_type": "display_data"
    },
    {
     "data": {
      "image/png": "[encoded data removed]",
      "text/plain": [
       "<Figure size 1008x288 with 2 Axes>"
      ]
     },
     "metadata": {
      "needs_background": "light"
     },
     "output_type": "display_data"
    },
    {
     "data": {
      "image/png": "[encoded data removed]",
      "text/plain": [
       "<Figure size 1008x288 with 2 Axes>"
      ]
     },
     "metadata": {
      "needs_background": "light"
     },
     "output_type": "display_data"
    },
    {
     "data": {
      "image/png": "[encoded data removed]",
      "text/plain": [
       "<Figure size 1008x288 with 2 Axes>"
      ]
     },
     "metadata": {
      "needs_background": "light"
     },
     "output_type": "display_data"
    }
   ],
   "source": [
    "# plotting each factor\n",
    "for factor in factors[1:]:\n",
    "    \n",
    "    # if categorical, print boxplot\n",
    "    if factor == 'transmission' or factor == 'paint_color':\n",
    "        fig, ax = plt.subplots(ncols=2, figsize=(14,4))\n",
    "        suv_df.boxplot(column = 'price', by = factor, ax = ax[0])\n",
    "        sedan_df.boxplot(column = 'price', by = factor, ax = ax[1], color = 'orange')\n",
    "        \n",
    "    # otherwise, print scatterplot\n",
    "    else:\n",
    "        fig, ax = plt.subplots(ncols=2, figsize=(14,4))\n",
    "        suv_df.plot.scatter(x = factor, y = 'price', ax = ax[0], title = f'SUV - price vs {factor}')\n",
    "        sedan_df.plot.scatter(x = factor, y = 'price', ax = ax[1], title = f'Sedan - price vs {factor}', color = 'orange')"
   ]
  },
  {
   "cell_type": "markdown",
   "metadata": {},
   "source": [
    "For both SUVs and Sedans, younger vehicles appear to be sold for higher prices than older vehicles. For mileage, the data is clustered towards lower prices. It also appears that cars that are in poor condition (0 or 1) are sold for cheaper.\n",
    "\n",
    "Transmission type has a variable spread between SUVs and Sedans. Automatic vehicles seem to have more outliers that are sold for more, and both SUVs and Sedans with \"other\" transmission types are sold for somewhat less.\n",
    "\n",
    "Finally, paint color is variable between both vehicle types. Some colors, such as black, grey, red, and white are sold for more than other colors, such as blue or brown. "
   ]
  },
  {
   "cell_type": "markdown",
   "metadata": {},
   "source": [
    "<div class=\"alert alert-block alert-success\">\n",
    "<b>Reviewer's comment</b> <a class=\"tocSkip\"></a>\n",
    "\n",
    "I like it very much that you plotted charts for SUVs and sedans in such a manner that they can be compared so easily! Excellent job!\n",
    "</div>"
   ]
  },
  {
   "cell_type": "markdown",
   "metadata": {},
   "source": [
    "### Correlation Matrices"
   ]
  },
  {
   "cell_type": "code",
   "execution_count": 63,
   "metadata": {},
   "outputs": [
    {
     "data": {
      "text/html": [
       "<div>\n",
       "<style scoped>\n",
       "    .dataframe tbody tr th:only-of-type {\n",
       "        vertical-align: middle;\n",
       "    }\n",
       "\n",
       "    .dataframe tbody tr th {\n",
       "        vertical-align: top;\n",
       "    }\n",
       "\n",
       "    .dataframe thead th {\n",
       "        text-align: right;\n",
       "    }\n",
       "</style>\n",
       "<table border=\"1\" class=\"dataframe\">\n",
       "  <thead>\n",
       "    <tr style=\"text-align: right;\">\n",
       "      <th></th>\n",
       "      <th>price</th>\n",
       "      <th>vehicle_age</th>\n",
       "      <th>mileage_per_year</th>\n",
       "      <th>condition</th>\n",
       "    </tr>\n",
       "  </thead>\n",
       "  <tbody>\n",
       "    <tr>\n",
       "      <th>price</th>\n",
       "      <td>1.000000</td>\n",
       "      <td>-0.586174</td>\n",
       "      <td>0.178986</td>\n",
       "      <td>0.264414</td>\n",
       "    </tr>\n",
       "    <tr>\n",
       "      <th>vehicle_age</th>\n",
       "      <td>-0.586174</td>\n",
       "      <td>1.000000</td>\n",
       "      <td>-0.480835</td>\n",
       "      <td>-0.320392</td>\n",
       "    </tr>\n",
       "    <tr>\n",
       "      <th>mileage_per_year</th>\n",
       "      <td>0.178986</td>\n",
       "      <td>-0.480835</td>\n",
       "      <td>1.000000</td>\n",
       "      <td>-0.003366</td>\n",
       "    </tr>\n",
       "    <tr>\n",
       "      <th>condition</th>\n",
       "      <td>0.264414</td>\n",
       "      <td>-0.320392</td>\n",
       "      <td>-0.003366</td>\n",
       "      <td>1.000000</td>\n",
       "    </tr>\n",
       "  </tbody>\n",
       "</table>\n",
       "</div>"
      ],
      "text/plain": [
       "                     price  vehicle_age  mileage_per_year  condition\n",
       "price             1.000000    -0.586174          0.178986   0.264414\n",
       "vehicle_age      -0.586174     1.000000         -0.480835  -0.320392\n",
       "mileage_per_year  0.178986    -0.480835          1.000000  -0.003366\n",
       "condition         0.264414    -0.320392         -0.003366   1.000000"
      ]
     },
     "execution_count": 63,
     "metadata": {},
     "output_type": "execute_result"
    }
   ],
   "source": [
    "# print correlation matrix for suv\n",
    "suv_df.corr()"
   ]
  },
  {
   "cell_type": "code",
   "execution_count": 64,
   "metadata": {},
   "outputs": [
    {
     "data": {
      "text/html": [
       "<div>\n",
       "<style scoped>\n",
       "    .dataframe tbody tr th:only-of-type {\n",
       "        vertical-align: middle;\n",
       "    }\n",
       "\n",
       "    .dataframe tbody tr th {\n",
       "        vertical-align: top;\n",
       "    }\n",
       "\n",
       "    .dataframe thead th {\n",
       "        text-align: right;\n",
       "    }\n",
       "</style>\n",
       "<table border=\"1\" class=\"dataframe\">\n",
       "  <thead>\n",
       "    <tr style=\"text-align: right;\">\n",
       "      <th></th>\n",
       "      <th>price</th>\n",
       "      <th>vehicle_age</th>\n",
       "      <th>mileage_per_year</th>\n",
       "      <th>condition</th>\n",
       "    </tr>\n",
       "  </thead>\n",
       "  <tbody>\n",
       "    <tr>\n",
       "      <th>price</th>\n",
       "      <td>1.000000</td>\n",
       "      <td>-0.618856</td>\n",
       "      <td>0.076977</td>\n",
       "      <td>0.303810</td>\n",
       "    </tr>\n",
       "    <tr>\n",
       "      <th>vehicle_age</th>\n",
       "      <td>-0.618856</td>\n",
       "      <td>1.000000</td>\n",
       "      <td>-0.397547</td>\n",
       "      <td>-0.296658</td>\n",
       "    </tr>\n",
       "    <tr>\n",
       "      <th>mileage_per_year</th>\n",
       "      <td>0.076977</td>\n",
       "      <td>-0.397547</td>\n",
       "      <td>1.000000</td>\n",
       "      <td>-0.048154</td>\n",
       "    </tr>\n",
       "    <tr>\n",
       "      <th>condition</th>\n",
       "      <td>0.303810</td>\n",
       "      <td>-0.296658</td>\n",
       "      <td>-0.048154</td>\n",
       "      <td>1.000000</td>\n",
       "    </tr>\n",
       "  </tbody>\n",
       "</table>\n",
       "</div>"
      ],
      "text/plain": [
       "                     price  vehicle_age  mileage_per_year  condition\n",
       "price             1.000000    -0.618856          0.076977   0.303810\n",
       "vehicle_age      -0.618856     1.000000         -0.397547  -0.296658\n",
       "mileage_per_year  0.076977    -0.397547          1.000000  -0.048154\n",
       "condition         0.303810    -0.296658         -0.048154   1.000000"
      ]
     },
     "execution_count": 64,
     "metadata": {},
     "output_type": "execute_result"
    }
   ],
   "source": [
    "# print correlation matrix for sedan\n",
    "sedan_df.corr()"
   ]
  },
  {
   "cell_type": "markdown",
   "metadata": {},
   "source": [
    "For quantitative factors, vehicle age is strongly correlated with price for both SUVs and Sedans. This is a negative correlation and indicates that as vehicle age increases, price decreases. The condition of the car has a slightly positive correlation, in which cars with better conditions can be sold more. A higher mileage is more correlated to increases in price for SUVs and less so for Sedans."
   ]
  },
  {
   "cell_type": "markdown",
   "metadata": {},
   "source": [
    "## General conclusion\n",
    "\n",
    "In this project, I spent time preprocessing and cleaning the data before beginning the analysis. A number of columns had null values that had to be filled. Instead of dropping any of these rows, I relied on other information in the dataset, such as car model, to fill the missing information. The exception to this was with a car's color, where I simply filled the missing values with an \"unknown\" indicator. After filling missing data, I converted the data to data types that would be easier to work with, such as integers and datetimes, as well as changing the condition column to numeric values so that statistical analysis could be completed easier.\n",
    "\n",
    "There were many outliers in the dataset that were filtered out before conducting analysis. These outliers were notably in price, vehicle age, and vehicle mileage; some cars were being sold for an abnormally high amount, some were extremely old, and some had a large amount of miles on them.\n",
    "\n",
    "To check what factors most affected price, the two vehicle types with the largest amount of advertisements (SUVS and Sedans) were looked at more closely. After filtering for these vehicle types, I plotted scatterplots and boxplots for each column and looked at the correlation of the factors to the price.\n",
    "\n",
    "From the correlation chart and plots of SUVs and Sedans, it appears that a vebicle's age, condition, and color most affects price. As we can see from the charts, namely for color, these factors may vary from vehicle to vehicle. "
   ]
  },
  {
   "cell_type": "markdown",
   "metadata": {},
   "source": [
    "<div class=\"alert alert-block alert-success\">\n",
    "<b>Reviewer's comment</b> <a class=\"tocSkip\"></a>\n",
    "\n",
    "Thank you for such a detailed conclusion!\n",
    "</div>"
   ]
  },
  {
   "cell_type": "markdown",
   "metadata": {},
   "source": [
    "<div class=\"alert alert-block alert-success\">\n",
    "<b>Reviewer's comment</b> <a class=\"tocSkip\"></a>\n",
    "\n",
    "Thank you for submitting your project! I can see that you've put a lot of work into it and I'm really impressed. I just loved how clean it is, how accurately you followed project description and how detailed your notes and conclusions are. Also you used various instruments to analyze your data which is great.\n",
    "<br>\n",
    "There are a couple of things that need to be done before your project is complete, but they're pretty straightforward. All these issues are minor, you've got this. <br>\n",
    "<div class=\"alert alert-block alert-warning\">\n",
    "Please note that yellow \"improve\" comments don't mean that you've done something wrong, they're simply suggestions that can help you to improve and upgrade your project.\n",
    "    \n",
    "</div>\n",
    "<div class=\"alert alert-block alert-danger\">   \n",
    "Speaking about red ones, they are very important but at the same moment I'm sure you'll be able to fix them in no time. <br> - Please add chart titles and axes names to each chart <br> - Could you please take a look at my comment regarding average mileage calculation? <br> - Could you please add a histogram to the section where ads lifetime is analyzed?\n",
    "</div>\n",
    "    \n",
    "Practice makes perfect! Every issue is a chance for us to learn something new.\n",
    "<br>\n",
    "Thank you, <br>\n",
    "Natalia</div>"
   ]
  },
  {
   "cell_type": "markdown",
   "metadata": {},
   "source": [
    "<div class=\"alert alert-block alert-info\">\n",
    "<b>Student answer.</b> <a class=\"tocSkip\"></a>\n",
    "\n",
    "Hi Natalia,\n",
    "    \n",
    "Thank you so very much for all of your detailed comments! I have gone through my notebook and have made changes where appropriate. I have added chart titles/axes names to all of the graphs, incremented vehicle_age by 1 to avoid divide-by-zero errors, and added a histogram to the section where the ad lifetimes are analyzed.\n",
    "    \n",
    "Your comments were very helpful - please let me know if there are any additional changes I need to make.\n",
    "    \n",
    "Thank you,\n",
    "Juliette\n",
    "\n",
    "</div>"
   ]
  },
  {
   "cell_type": "markdown",
   "metadata": {},
   "source": [
    "<div class=\"alert alert-block alert-success\">\n",
    "<b>Reviewer's comment v2</b> <a class=\"tocSkip\"></a>\n",
    "\n",
    "You're very welcome! <br>\n",
    "Thank you for correcting everything so quickly. Now your project is perfect and I'm glad to say that it has passed code review :) Good luck on your next sprint! <br>\n",
    "<br>\n",
    "Thank you, <br>\n",
    "Natalia</div>"
   ]
  },
  {
   "cell_type": "code",
   "execution_count": null,
   "metadata": {},
   "outputs": [],
   "source": []
  }
 ],
 "metadata": {
  "ExecuteTimeLog": [
   {
    "duration": 828,
    "start_time": "2021-11-16T09:21:11.304Z"
   },
   {
    "duration": 893,
    "start_time": "2021-11-16T09:21:17.728Z"
   },
   {
    "duration": 1150,
    "start_time": "2021-11-16T09:21:29.568Z"
   },
   {
    "duration": 3,
    "start_time": "2021-11-16T09:24:14.495Z"
   },
   {
    "duration": 120,
    "start_time": "2021-11-16T09:24:46.630Z"
   },
   {
    "duration": 3,
    "start_time": "2021-11-16T09:28:27.882Z"
   },
   {
    "duration": 4,
    "start_time": "2021-11-16T09:29:54.281Z"
   },
   {
    "duration": 3,
    "start_time": "2021-11-16T09:30:45.936Z"
   },
   {
    "duration": 4,
    "start_time": "2021-11-16T09:31:06.300Z"
   },
   {
    "duration": 113,
    "start_time": "2021-11-16T09:31:37.208Z"
   },
   {
    "duration": 143,
    "start_time": "2021-11-16T09:31:48.656Z"
   },
   {
    "duration": 98,
    "start_time": "2021-11-16T09:31:55.678Z"
   },
   {
    "duration": 3,
    "start_time": "2021-11-16T09:32:08.535Z"
   },
   {
    "duration": 111,
    "start_time": "2021-11-16T09:32:10.120Z"
   },
   {
    "duration": 3,
    "start_time": "2021-11-16T09:32:15.732Z"
   },
   {
    "duration": 4,
    "start_time": "2021-11-16T09:32:29.423Z"
   },
   {
    "duration": 3,
    "start_time": "2021-11-16T10:03:03.074Z"
   },
   {
    "duration": 3,
    "start_time": "2021-11-16T10:10:01.288Z"
   },
   {
    "duration": 3,
    "start_time": "2021-11-16T10:10:46.923Z"
   },
   {
    "duration": 121,
    "start_time": "2021-11-16T10:37:46.494Z"
   },
   {
    "duration": 125,
    "start_time": "2021-11-16T10:38:20.632Z"
   },
   {
    "duration": 112,
    "start_time": "2021-11-16T10:46:53.001Z"
   },
   {
    "duration": 110,
    "start_time": "2021-11-16T10:48:25.775Z"
   },
   {
    "duration": 3,
    "start_time": "2021-11-16T10:50:18.720Z"
   },
   {
    "duration": 4,
    "start_time": "2021-11-16T10:50:37.649Z"
   },
   {
    "duration": 2,
    "start_time": "2021-11-16T10:50:51.884Z"
   },
   {
    "duration": 3,
    "start_time": "2021-11-16T10:51:56.237Z"
   },
   {
    "duration": 101,
    "start_time": "2021-11-16T10:53:13.791Z"
   },
   {
    "duration": 3,
    "start_time": "2021-11-16T10:55:59.186Z"
   },
   {
    "duration": 3,
    "start_time": "2021-11-16T10:56:10.751Z"
   },
   {
    "duration": 3,
    "start_time": "2021-11-16T10:56:49.038Z"
   },
   {
    "duration": 3,
    "start_time": "2021-11-16T10:56:49.174Z"
   },
   {
    "duration": 4,
    "start_time": "2021-11-16T10:56:49.414Z"
   },
   {
    "duration": 3,
    "start_time": "2021-11-16T10:56:49.680Z"
   },
   {
    "duration": 3,
    "start_time": "2021-11-16T10:56:50.370Z"
   },
   {
    "duration": 114,
    "start_time": "2021-11-16T10:59:34.518Z"
   },
   {
    "duration": 3,
    "start_time": "2021-11-16T11:01:41.201Z"
   },
   {
    "duration": 116,
    "start_time": "2021-11-16T11:01:48.754Z"
   },
   {
    "duration": 3,
    "start_time": "2021-11-16T11:02:16.685Z"
   },
   {
    "duration": 3,
    "start_time": "2021-11-16T11:02:19.479Z"
   },
   {
    "duration": 3,
    "start_time": "2021-11-16T11:02:47.067Z"
   },
   {
    "duration": 3,
    "start_time": "2021-11-16T11:02:49.353Z"
   },
   {
    "duration": 3,
    "start_time": "2021-11-16T11:03:07.835Z"
   },
   {
    "duration": 3,
    "start_time": "2021-11-16T11:03:07.953Z"
   },
   {
    "duration": 112,
    "start_time": "2021-11-16T11:07:52.072Z"
   },
   {
    "duration": 187,
    "start_time": "2021-11-16T11:09:23.468Z"
   },
   {
    "duration": 4,
    "start_time": "2021-11-16T11:10:01.455Z"
   },
   {
    "duration": 3,
    "start_time": "2021-11-16T11:10:05.069Z"
   },
   {
    "duration": 4,
    "start_time": "2021-11-16T11:10:13.376Z"
   },
   {
    "duration": 3,
    "start_time": "2021-11-16T11:10:14.434Z"
   },
   {
    "duration": 3,
    "start_time": "2021-11-16T11:10:22.853Z"
   },
   {
    "duration": 4,
    "start_time": "2021-11-16T11:27:29.279Z"
   },
   {
    "duration": 4,
    "start_time": "2021-11-16T11:29:08.919Z"
   },
   {
    "duration": 118,
    "start_time": "2021-11-16T11:29:46.703Z"
   },
   {
    "duration": 437,
    "start_time": "2021-11-16T11:36:02.181Z"
   },
   {
    "duration": 157,
    "start_time": "2021-11-16T11:36:14.388Z"
   },
   {
    "duration": 207,
    "start_time": "2021-11-16T11:47:15.898Z"
   },
   {
    "duration": 3,
    "start_time": "2021-11-16T11:53:52.092Z"
   },
   {
    "duration": 3,
    "start_time": "2021-11-16T11:53:52.236Z"
   },
   {
    "duration": 3,
    "start_time": "2021-11-16T11:59:12.005Z"
   },
   {
    "duration": 112,
    "start_time": "2021-11-16T12:00:33.446Z"
   },
   {
    "duration": 3,
    "start_time": "2021-11-16T12:02:14.453Z"
   },
   {
    "duration": 3,
    "start_time": "2021-11-16T12:02:39.512Z"
   },
   {
    "duration": 106,
    "start_time": "2021-11-16T12:03:03.460Z"
   },
   {
    "duration": 512,
    "start_time": "2022-04-10T17:50:58.910Z"
   },
   {
    "duration": 105,
    "start_time": "2022-04-10T17:51:31.239Z"
   },
   {
    "duration": 136,
    "start_time": "2022-04-10T17:51:34.007Z"
   },
   {
    "duration": 39,
    "start_time": "2022-04-10T17:51:38.076Z"
   },
   {
    "duration": 21,
    "start_time": "2022-04-10T17:52:06.895Z"
   },
   {
    "duration": 39,
    "start_time": "2022-04-10T17:52:19.572Z"
   },
   {
    "duration": 24,
    "start_time": "2022-04-10T17:56:14.745Z"
   },
   {
    "duration": 7,
    "start_time": "2022-04-10T17:57:57.060Z"
   },
   {
    "duration": 8,
    "start_time": "2022-04-10T17:58:29.090Z"
   },
   {
    "duration": 9,
    "start_time": "2022-04-10T17:58:35.956Z"
   },
   {
    "duration": 36,
    "start_time": "2022-04-10T17:58:43.613Z"
   },
   {
    "duration": 55,
    "start_time": "2022-04-10T17:58:49.777Z"
   },
   {
    "duration": 24,
    "start_time": "2022-04-10T17:58:58.737Z"
   },
   {
    "duration": 8,
    "start_time": "2022-04-10T18:02:28.794Z"
   },
   {
    "duration": 5,
    "start_time": "2022-04-10T18:05:07.672Z"
   },
   {
    "duration": 6,
    "start_time": "2022-04-10T18:05:19.537Z"
   },
   {
    "duration": 10,
    "start_time": "2022-04-10T18:06:05.982Z"
   },
   {
    "duration": 8,
    "start_time": "2022-04-10T18:06:26.898Z"
   },
   {
    "duration": 7,
    "start_time": "2022-04-10T18:06:29.748Z"
   },
   {
    "duration": 6,
    "start_time": "2022-04-10T18:06:32.298Z"
   },
   {
    "duration": 6,
    "start_time": "2022-04-10T18:06:34.600Z"
   },
   {
    "duration": 13,
    "start_time": "2022-04-10T18:07:45.620Z"
   },
   {
    "duration": 6,
    "start_time": "2022-04-10T18:07:51.305Z"
   },
   {
    "duration": 11,
    "start_time": "2022-04-10T18:08:19.722Z"
   },
   {
    "duration": 8,
    "start_time": "2022-04-10T18:08:23.245Z"
   },
   {
    "duration": 11,
    "start_time": "2022-04-10T18:08:36.761Z"
   },
   {
    "duration": 12,
    "start_time": "2022-04-10T18:08:41.748Z"
   },
   {
    "duration": 7,
    "start_time": "2022-04-10T18:08:51.211Z"
   },
   {
    "duration": 17,
    "start_time": "2022-04-10T18:09:40.728Z"
   },
   {
    "duration": 13,
    "start_time": "2022-04-10T18:10:28.598Z"
   },
   {
    "duration": 112,
    "start_time": "2022-04-10T18:10:39.854Z"
   },
   {
    "duration": 51,
    "start_time": "2022-04-10T18:10:41.952Z"
   },
   {
    "duration": 36,
    "start_time": "2022-04-10T18:10:55.804Z"
   },
   {
    "duration": 119,
    "start_time": "2022-04-10T18:12:30.067Z"
   },
   {
    "duration": 133,
    "start_time": "2022-04-10T18:12:46.035Z"
   },
   {
    "duration": 5,
    "start_time": "2022-04-10T18:12:54.424Z"
   },
   {
    "duration": 5,
    "start_time": "2022-04-10T18:13:18.112Z"
   },
   {
    "duration": 5,
    "start_time": "2022-04-10T18:13:22.242Z"
   },
   {
    "duration": 9,
    "start_time": "2022-04-10T18:15:33.498Z"
   },
   {
    "duration": 7,
    "start_time": "2022-04-10T18:16:41.849Z"
   },
   {
    "duration": 13,
    "start_time": "2022-04-10T18:17:41.606Z"
   },
   {
    "duration": 8,
    "start_time": "2022-04-10T18:17:44.903Z"
   },
   {
    "duration": 7,
    "start_time": "2022-04-10T18:17:50.009Z"
   },
   {
    "duration": 12,
    "start_time": "2022-04-10T18:17:54.790Z"
   },
   {
    "duration": 11,
    "start_time": "2022-04-10T18:17:57.567Z"
   },
   {
    "duration": 12,
    "start_time": "2022-04-10T18:18:06.644Z"
   },
   {
    "duration": 2097,
    "start_time": "2022-04-10T18:18:13.535Z"
   },
   {
    "duration": 1774,
    "start_time": "2022-04-10T18:18:25.777Z"
   },
   {
    "duration": 12,
    "start_time": "2022-04-10T18:18:37.982Z"
   },
   {
    "duration": 1580,
    "start_time": "2022-04-10T18:18:50.348Z"
   },
   {
    "duration": 28,
    "start_time": "2022-04-10T18:19:05.810Z"
   },
   {
    "duration": 18,
    "start_time": "2022-04-10T18:19:09.479Z"
   },
   {
    "duration": 262,
    "start_time": "2022-04-10T18:19:11.305Z"
   },
   {
    "duration": 1491,
    "start_time": "2022-04-10T18:19:16.609Z"
   },
   {
    "duration": 7,
    "start_time": "2022-04-10T18:20:28.501Z"
   },
   {
    "duration": 1483,
    "start_time": "2022-04-10T18:20:36.464Z"
   },
   {
    "duration": 1531,
    "start_time": "2022-04-10T18:20:50.053Z"
   },
   {
    "duration": 1661,
    "start_time": "2022-04-10T18:21:01.109Z"
   },
   {
    "duration": 7,
    "start_time": "2022-04-10T18:21:19.504Z"
   },
   {
    "duration": 8,
    "start_time": "2022-04-10T18:21:23.598Z"
   },
   {
    "duration": 1536,
    "start_time": "2022-04-10T18:21:38.977Z"
   },
   {
    "duration": 7,
    "start_time": "2022-04-10T18:21:45.636Z"
   },
   {
    "duration": 2338,
    "start_time": "2022-04-10T18:21:45.852Z"
   },
   {
    "duration": 1667,
    "start_time": "2022-04-10T18:21:51.811Z"
   },
   {
    "duration": 1520,
    "start_time": "2022-04-10T18:22:00.179Z"
   },
   {
    "duration": 1860,
    "start_time": "2022-04-10T18:22:14.987Z"
   },
   {
    "duration": 1508,
    "start_time": "2022-04-10T18:22:22.026Z"
   },
   {
    "duration": 1475,
    "start_time": "2022-04-10T18:22:30.506Z"
   },
   {
    "duration": 204,
    "start_time": "2022-04-10T18:22:46.459Z"
   },
   {
    "duration": 1580,
    "start_time": "2022-04-10T18:22:52.664Z"
   },
   {
    "duration": 20,
    "start_time": "2022-04-10T18:24:26.557Z"
   },
   {
    "duration": 28,
    "start_time": "2022-04-10T18:24:33.577Z"
   },
   {
    "duration": 26,
    "start_time": "2022-04-10T18:24:47.378Z"
   },
   {
    "duration": 27,
    "start_time": "2022-04-10T18:24:57.372Z"
   },
   {
    "duration": 17,
    "start_time": "2022-04-10T18:25:07.319Z"
   },
   {
    "duration": 78,
    "start_time": "2022-04-10T18:25:13.432Z"
   },
   {
    "duration": 14,
    "start_time": "2022-04-10T18:27:59.239Z"
   },
   {
    "duration": 67,
    "start_time": "2022-04-10T18:28:04.993Z"
   },
   {
    "duration": 2018,
    "start_time": "2022-04-10T18:28:24.507Z"
   },
   {
    "duration": 37,
    "start_time": "2022-04-10T18:28:31.979Z"
   },
   {
    "duration": 30,
    "start_time": "2022-04-10T18:28:36.598Z"
   },
   {
    "duration": 32,
    "start_time": "2022-04-10T18:28:52.700Z"
   },
   {
    "duration": 24,
    "start_time": "2022-04-10T18:29:17.261Z"
   },
   {
    "duration": 21,
    "start_time": "2022-04-10T18:29:34.052Z"
   },
   {
    "duration": 20,
    "start_time": "2022-04-10T18:29:38.169Z"
   },
   {
    "duration": 26,
    "start_time": "2022-04-10T18:29:41.111Z"
   },
   {
    "duration": 47,
    "start_time": "2022-04-10T18:30:04.477Z"
   },
   {
    "duration": 38,
    "start_time": "2022-04-10T18:30:50.829Z"
   },
   {
    "duration": 37,
    "start_time": "2022-04-10T18:33:51.788Z"
   },
   {
    "duration": 7,
    "start_time": "2022-04-10T18:35:56.754Z"
   },
   {
    "duration": 8,
    "start_time": "2022-04-10T18:36:04.868Z"
   },
   {
    "duration": 8,
    "start_time": "2022-04-10T18:38:33.298Z"
   },
   {
    "duration": 5,
    "start_time": "2022-04-10T18:38:42.606Z"
   },
   {
    "duration": 19,
    "start_time": "2022-04-10T18:41:44.157Z"
   },
   {
    "duration": 14,
    "start_time": "2022-04-10T18:42:01.616Z"
   },
   {
    "duration": 6,
    "start_time": "2022-04-10T18:42:05.827Z"
   },
   {
    "duration": 1761,
    "start_time": "2022-04-10T18:42:13.388Z"
   },
   {
    "duration": 8,
    "start_time": "2022-04-10T18:43:03.561Z"
   },
   {
    "duration": 91,
    "start_time": "2022-04-10T18:43:06.545Z"
   },
   {
    "duration": 14,
    "start_time": "2022-04-10T18:44:01.940Z"
   },
   {
    "duration": 9,
    "start_time": "2022-04-10T18:44:12.375Z"
   },
   {
    "duration": 13,
    "start_time": "2022-04-10T18:44:18.128Z"
   },
   {
    "duration": 19,
    "start_time": "2022-04-10T18:44:40.354Z"
   },
   {
    "duration": 12,
    "start_time": "2022-04-10T18:45:13.800Z"
   },
   {
    "duration": 271,
    "start_time": "2022-04-10T18:46:42.311Z"
   },
   {
    "duration": 22,
    "start_time": "2022-04-10T18:46:47.406Z"
   },
   {
    "duration": 4535,
    "start_time": "2022-04-10T18:47:09.092Z"
   },
   {
    "duration": 1900,
    "start_time": "2022-04-10T18:47:17.982Z"
   },
   {
    "duration": 7,
    "start_time": "2022-04-10T18:47:42.711Z"
   },
   {
    "duration": 35,
    "start_time": "2022-04-10T18:50:01.925Z"
   },
   {
    "duration": 9,
    "start_time": "2022-04-10T18:50:28.449Z"
   },
   {
    "duration": 38,
    "start_time": "2022-04-10T18:50:42.972Z"
   },
   {
    "duration": 7,
    "start_time": "2022-04-10T18:50:50.535Z"
   },
   {
    "duration": 7,
    "start_time": "2022-04-10T18:50:59.579Z"
   },
   {
    "duration": 5,
    "start_time": "2022-04-10T18:51:14.867Z"
   },
   {
    "duration": 7,
    "start_time": "2022-04-10T18:51:42.875Z"
   },
   {
    "duration": 56,
    "start_time": "2022-04-10T18:52:38.917Z"
   },
   {
    "duration": 6,
    "start_time": "2022-04-10T18:53:15.184Z"
   },
   {
    "duration": 8,
    "start_time": "2022-04-10T18:53:26.005Z"
   },
   {
    "duration": 7,
    "start_time": "2022-04-10T18:53:30.756Z"
   },
   {
    "duration": 6,
    "start_time": "2022-04-10T18:54:52.293Z"
   },
   {
    "duration": 10,
    "start_time": "2022-04-10T18:55:00.706Z"
   },
   {
    "duration": 9,
    "start_time": "2022-04-10T18:55:11.167Z"
   },
   {
    "duration": 58,
    "start_time": "2022-04-10T18:55:48.955Z"
   },
   {
    "duration": 36,
    "start_time": "2022-04-10T18:58:46.839Z"
   },
   {
    "duration": 13,
    "start_time": "2022-04-10T18:59:11.055Z"
   },
   {
    "duration": 48,
    "start_time": "2022-04-10T18:59:12.753Z"
   },
   {
    "duration": 22,
    "start_time": "2022-04-10T18:59:49.962Z"
   },
   {
    "duration": 44,
    "start_time": "2022-04-10T18:59:53.772Z"
   },
   {
    "duration": 22,
    "start_time": "2022-04-10T19:00:01.237Z"
   },
   {
    "duration": 43,
    "start_time": "2022-04-10T19:00:04.232Z"
   },
   {
    "duration": 45,
    "start_time": "2022-04-10T19:00:11.973Z"
   },
   {
    "duration": 18,
    "start_time": "2022-04-10T19:00:45.883Z"
   },
   {
    "duration": 29,
    "start_time": "2022-04-10T19:01:03.463Z"
   },
   {
    "duration": 26,
    "start_time": "2022-04-10T19:01:24.181Z"
   },
   {
    "duration": 52,
    "start_time": "2022-04-10T19:01:37.241Z"
   },
   {
    "duration": 17,
    "start_time": "2022-04-10T19:01:48.198Z"
   },
   {
    "duration": 14,
    "start_time": "2022-04-10T19:02:17.435Z"
   },
   {
    "duration": 44,
    "start_time": "2022-04-10T19:02:22.815Z"
   },
   {
    "duration": 16,
    "start_time": "2022-04-10T19:02:35.199Z"
   },
   {
    "duration": 9,
    "start_time": "2022-04-10T19:02:47.470Z"
   },
   {
    "duration": 10,
    "start_time": "2022-04-10T19:03:13.171Z"
   },
   {
    "duration": 29,
    "start_time": "2022-04-10T19:04:40.053Z"
   },
   {
    "duration": 9,
    "start_time": "2022-04-10T19:04:45.926Z"
   },
   {
    "duration": 265,
    "start_time": "2022-04-10T19:05:38.055Z"
   },
   {
    "duration": 7,
    "start_time": "2022-04-10T19:05:54.584Z"
   },
   {
    "duration": 52,
    "start_time": "2022-04-10T19:06:00.254Z"
   },
   {
    "duration": 7,
    "start_time": "2022-04-10T19:06:57.531Z"
   },
   {
    "duration": 42,
    "start_time": "2022-04-10T19:07:15.005Z"
   },
   {
    "duration": 8,
    "start_time": "2022-04-10T19:07:50.145Z"
   },
   {
    "duration": 118,
    "start_time": "2022-04-10T19:09:31.005Z"
   },
   {
    "duration": 21,
    "start_time": "2022-04-10T19:09:45.733Z"
   },
   {
    "duration": 261,
    "start_time": "2022-04-10T19:09:59.424Z"
   },
   {
    "duration": 583,
    "start_time": "2022-04-11T19:24:15.045Z"
   },
   {
    "duration": 192,
    "start_time": "2022-04-11T19:24:17.925Z"
   },
   {
    "duration": 60,
    "start_time": "2022-04-11T19:24:20.506Z"
   },
   {
    "duration": 63,
    "start_time": "2022-04-11T19:24:21.917Z"
   },
   {
    "duration": 4,
    "start_time": "2022-04-11T19:27:06.605Z"
   },
   {
    "duration": 196,
    "start_time": "2022-04-11T19:27:07.524Z"
   },
   {
    "duration": 53,
    "start_time": "2022-04-11T19:27:09.423Z"
   },
   {
    "duration": 671,
    "start_time": "2022-04-11T19:27:17.672Z"
   },
   {
    "duration": 146,
    "start_time": "2022-04-11T19:27:18.989Z"
   },
   {
    "duration": 35,
    "start_time": "2022-04-11T19:27:20.758Z"
   },
   {
    "duration": 35,
    "start_time": "2022-04-11T19:27:24.769Z"
   },
   {
    "duration": 10,
    "start_time": "2022-04-11T19:27:27.565Z"
   },
   {
    "duration": 7,
    "start_time": "2022-04-11T19:27:38.363Z"
   },
   {
    "duration": 6,
    "start_time": "2022-04-11T19:27:58.010Z"
   },
   {
    "duration": 2858,
    "start_time": "2022-04-11T19:27:58.557Z"
   },
   {
    "duration": 1162,
    "start_time": "2022-04-11T19:29:41.406Z"
   },
   {
    "duration": 38,
    "start_time": "2022-04-11T19:30:07.178Z"
   },
   {
    "duration": 347,
    "start_time": "2022-04-11T19:30:08.147Z"
   },
   {
    "duration": 107,
    "start_time": "2022-04-11T19:30:15.358Z"
   },
   {
    "duration": 6,
    "start_time": "2022-04-11T19:30:59.529Z"
   },
   {
    "duration": 228,
    "start_time": "2022-04-11T19:31:00.938Z"
   },
   {
    "duration": 48,
    "start_time": "2022-04-11T19:31:03.584Z"
   },
   {
    "duration": 29,
    "start_time": "2022-04-11T19:31:07.219Z"
   },
   {
    "duration": 73,
    "start_time": "2022-04-11T19:31:57.198Z"
   },
   {
    "duration": 34,
    "start_time": "2022-04-11T19:33:11.181Z"
   },
   {
    "duration": 7,
    "start_time": "2022-04-11T19:33:14.069Z"
   },
   {
    "duration": 1897,
    "start_time": "2022-04-11T19:33:14.919Z"
   },
   {
    "duration": 19,
    "start_time": "2022-04-11T19:33:19.284Z"
   },
   {
    "duration": 9,
    "start_time": "2022-04-11T19:33:20.733Z"
   },
   {
    "duration": 7,
    "start_time": "2022-04-11T19:33:23.730Z"
   },
   {
    "duration": 10,
    "start_time": "2022-04-11T19:33:24.502Z"
   },
   {
    "duration": 10,
    "start_time": "2022-04-11T19:33:35.824Z"
   },
   {
    "duration": 10,
    "start_time": "2022-04-11T19:33:39.297Z"
   },
   {
    "duration": 14,
    "start_time": "2022-04-11T19:33:41.133Z"
   },
   {
    "duration": 7,
    "start_time": "2022-04-11T19:33:56.569Z"
   },
   {
    "duration": 10,
    "start_time": "2022-04-11T19:33:58.346Z"
   },
   {
    "duration": 17,
    "start_time": "2022-04-11T19:37:21.246Z"
   },
   {
    "duration": 6,
    "start_time": "2022-04-11T19:37:23.383Z"
   },
   {
    "duration": 10,
    "start_time": "2022-04-11T19:37:46.793Z"
   },
   {
    "duration": 36,
    "start_time": "2022-04-11T19:37:56.293Z"
   },
   {
    "duration": 116,
    "start_time": "2022-04-11T19:38:39.767Z"
   },
   {
    "duration": 32,
    "start_time": "2022-04-11T19:38:40.915Z"
   },
   {
    "duration": 33,
    "start_time": "2022-04-11T19:38:44.177Z"
   },
   {
    "duration": 7,
    "start_time": "2022-04-11T19:38:44.696Z"
   },
   {
    "duration": 2222,
    "start_time": "2022-04-11T19:38:45.658Z"
   },
   {
    "duration": 19,
    "start_time": "2022-04-11T19:38:47.883Z"
   },
   {
    "duration": 7,
    "start_time": "2022-04-11T19:38:48.701Z"
   },
   {
    "duration": 7,
    "start_time": "2022-04-11T19:38:49.891Z"
   },
   {
    "duration": 9,
    "start_time": "2022-04-11T19:38:50.494Z"
   },
   {
    "duration": 6,
    "start_time": "2022-04-11T19:38:51.758Z"
   },
   {
    "duration": 11,
    "start_time": "2022-04-11T19:38:52.399Z"
   },
   {
    "duration": 7,
    "start_time": "2022-04-11T19:38:53.711Z"
   },
   {
    "duration": 11,
    "start_time": "2022-04-11T19:38:54.545Z"
   },
   {
    "duration": 19,
    "start_time": "2022-04-11T19:39:26.469Z"
   },
   {
    "duration": 9,
    "start_time": "2022-04-11T19:39:30.779Z"
   },
   {
    "duration": 10,
    "start_time": "2022-04-11T19:39:35.241Z"
   },
   {
    "duration": 246,
    "start_time": "2022-04-11T19:39:38.178Z"
   },
   {
    "duration": 28,
    "start_time": "2022-04-11T19:40:22.450Z"
   },
   {
    "duration": 12,
    "start_time": "2022-04-11T19:42:07.274Z"
   },
   {
    "duration": 20,
    "start_time": "2022-04-11T19:42:19.380Z"
   },
   {
    "duration": 8,
    "start_time": "2022-04-11T19:42:19.857Z"
   },
   {
    "duration": 15,
    "start_time": "2022-04-11T19:44:14.319Z"
   },
   {
    "duration": 7,
    "start_time": "2022-04-11T19:44:56.651Z"
   },
   {
    "duration": 7,
    "start_time": "2022-04-11T19:45:02.413Z"
   },
   {
    "duration": 34,
    "start_time": "2022-04-11T19:45:13.620Z"
   },
   {
    "duration": 270,
    "start_time": "2022-04-11T19:45:20.172Z"
   },
   {
    "duration": 12,
    "start_time": "2022-04-11T19:45:23.999Z"
   },
   {
    "duration": 16,
    "start_time": "2022-04-11T19:45:28.699Z"
   },
   {
    "duration": 79,
    "start_time": "2022-04-11T19:45:39.844Z"
   },
   {
    "duration": 30,
    "start_time": "2022-04-11T19:49:54.605Z"
   },
   {
    "duration": 61,
    "start_time": "2022-04-11T19:52:20.080Z"
   },
   {
    "duration": 66,
    "start_time": "2022-04-11T19:52:29.694Z"
   },
   {
    "duration": 47,
    "start_time": "2022-04-11T19:52:40.300Z"
   },
   {
    "duration": 12,
    "start_time": "2022-04-11T19:54:42.904Z"
   },
   {
    "duration": 8,
    "start_time": "2022-04-11T19:54:55.825Z"
   },
   {
    "duration": 12,
    "start_time": "2022-04-11T19:55:00.774Z"
   },
   {
    "duration": 34,
    "start_time": "2022-04-11T19:55:46.213Z"
   },
   {
    "duration": 5,
    "start_time": "2022-04-11T19:56:15.348Z"
   },
   {
    "duration": 17,
    "start_time": "2022-04-11T19:57:24.991Z"
   },
   {
    "duration": 8,
    "start_time": "2022-04-11T19:57:39.423Z"
   },
   {
    "duration": 32,
    "start_time": "2022-04-11T19:57:44.385Z"
   },
   {
    "duration": 23,
    "start_time": "2022-04-11T19:58:01.672Z"
   },
   {
    "duration": 13,
    "start_time": "2022-04-11T19:59:38.874Z"
   },
   {
    "duration": 29,
    "start_time": "2022-04-11T19:59:55.618Z"
   },
   {
    "duration": 12,
    "start_time": "2022-04-11T20:00:02.679Z"
   },
   {
    "duration": 6,
    "start_time": "2022-04-11T20:00:04.487Z"
   },
   {
    "duration": 8,
    "start_time": "2022-04-11T20:01:57.678Z"
   },
   {
    "duration": 28,
    "start_time": "2022-04-11T20:02:01.156Z"
   },
   {
    "duration": 48,
    "start_time": "2022-04-11T20:02:09.084Z"
   },
   {
    "duration": 25,
    "start_time": "2022-04-11T20:02:19.161Z"
   },
   {
    "duration": 49,
    "start_time": "2022-04-11T20:02:39.985Z"
   },
   {
    "duration": 8,
    "start_time": "2022-04-11T20:04:03.242Z"
   },
   {
    "duration": 32,
    "start_time": "2022-04-11T20:04:08.723Z"
   },
   {
    "duration": 6,
    "start_time": "2022-04-11T20:04:23.128Z"
   },
   {
    "duration": 21,
    "start_time": "2022-04-11T20:05:32.463Z"
   },
   {
    "duration": 6,
    "start_time": "2022-04-11T20:05:39.378Z"
   },
   {
    "duration": 21,
    "start_time": "2022-04-11T20:05:41.276Z"
   },
   {
    "duration": 36,
    "start_time": "2022-04-11T20:06:02.491Z"
   },
   {
    "duration": 5,
    "start_time": "2022-04-11T20:06:14.595Z"
   },
   {
    "duration": 5,
    "start_time": "2022-04-11T20:06:31.114Z"
   },
   {
    "duration": 38,
    "start_time": "2022-04-11T20:06:32.507Z"
   },
   {
    "duration": 30,
    "start_time": "2022-04-11T20:06:39.313Z"
   },
   {
    "duration": 27,
    "start_time": "2022-04-11T20:07:35.367Z"
   },
   {
    "duration": 15,
    "start_time": "2022-04-11T20:08:04.893Z"
   },
   {
    "duration": 28,
    "start_time": "2022-04-11T20:08:10.806Z"
   },
   {
    "duration": 45,
    "start_time": "2022-04-11T20:08:12.012Z"
   },
   {
    "duration": 25,
    "start_time": "2022-04-11T20:08:38.688Z"
   },
   {
    "duration": 45,
    "start_time": "2022-04-11T20:08:40.162Z"
   },
   {
    "duration": 8,
    "start_time": "2022-04-11T20:09:21.359Z"
   },
   {
    "duration": 14,
    "start_time": "2022-04-11T20:13:41.648Z"
   },
   {
    "duration": 10,
    "start_time": "2022-04-11T20:14:36.001Z"
   },
   {
    "duration": 25,
    "start_time": "2022-04-11T20:14:36.757Z"
   },
   {
    "duration": 38,
    "start_time": "2022-04-11T20:14:42.950Z"
   },
   {
    "duration": 401,
    "start_time": "2022-04-12T00:21:33.310Z"
   },
   {
    "duration": 89,
    "start_time": "2022-04-12T00:21:34.204Z"
   },
   {
    "duration": 24,
    "start_time": "2022-04-12T00:21:37.632Z"
   },
   {
    "duration": 22,
    "start_time": "2022-04-12T00:21:39.293Z"
   },
   {
    "duration": 4,
    "start_time": "2022-04-12T00:29:45.831Z"
   },
   {
    "duration": 1292,
    "start_time": "2022-04-12T00:29:47.560Z"
   },
   {
    "duration": 11,
    "start_time": "2022-04-12T00:29:50.645Z"
   },
   {
    "duration": 4,
    "start_time": "2022-04-12T00:29:51.277Z"
   },
   {
    "duration": 4,
    "start_time": "2022-04-12T00:29:52.667Z"
   },
   {
    "duration": 4,
    "start_time": "2022-04-12T00:29:53.339Z"
   },
   {
    "duration": 3,
    "start_time": "2022-04-12T00:29:55.532Z"
   },
   {
    "duration": 6,
    "start_time": "2022-04-12T00:29:56.215Z"
   },
   {
    "duration": 4,
    "start_time": "2022-04-12T00:29:57.661Z"
   },
   {
    "duration": 6,
    "start_time": "2022-04-12T00:29:58.104Z"
   },
   {
    "duration": 9,
    "start_time": "2022-04-12T00:29:59.600Z"
   },
   {
    "duration": 4,
    "start_time": "2022-04-12T00:29:59.968Z"
   },
   {
    "duration": 5,
    "start_time": "2022-04-12T00:30:01.708Z"
   },
   {
    "duration": 27,
    "start_time": "2022-04-12T00:30:02.527Z"
   },
   {
    "duration": 149,
    "start_time": "2022-04-12T00:30:04.134Z"
   },
   {
    "duration": 7,
    "start_time": "2022-04-12T00:30:05.989Z"
   },
   {
    "duration": 7,
    "start_time": "2022-04-12T00:30:06.644Z"
   },
   {
    "duration": 4,
    "start_time": "2022-04-12T00:30:09.142Z"
   },
   {
    "duration": 13,
    "start_time": "2022-04-12T00:30:13.618Z"
   },
   {
    "duration": 5,
    "start_time": "2022-04-12T00:30:14.178Z"
   },
   {
    "duration": 16,
    "start_time": "2022-04-12T00:30:14.857Z"
   },
   {
    "duration": 16,
    "start_time": "2022-04-12T00:30:16.435Z"
   },
   {
    "duration": 27,
    "start_time": "2022-04-12T00:30:17.068Z"
   },
   {
    "duration": 7,
    "start_time": "2022-04-12T00:30:58.932Z"
   },
   {
    "duration": 21,
    "start_time": "2022-04-12T00:31:34.257Z"
   },
   {
    "duration": 11,
    "start_time": "2022-04-12T00:31:35.295Z"
   },
   {
    "duration": 23,
    "start_time": "2022-04-12T00:31:38.088Z"
   },
   {
    "duration": 3,
    "start_time": "2022-04-12T00:32:14.313Z"
   },
   {
    "duration": 156,
    "start_time": "2022-04-12T00:32:14.934Z"
   },
   {
    "duration": 23,
    "start_time": "2022-04-12T00:32:16.240Z"
   },
   {
    "duration": 16,
    "start_time": "2022-04-12T00:32:17.566Z"
   },
   {
    "duration": 4,
    "start_time": "2022-04-12T00:32:19.648Z"
   },
   {
    "duration": 963,
    "start_time": "2022-04-12T00:32:19.841Z"
   },
   {
    "duration": 10,
    "start_time": "2022-04-12T00:32:20.806Z"
   },
   {
    "duration": 4,
    "start_time": "2022-04-12T00:32:20.818Z"
   },
   {
    "duration": 3,
    "start_time": "2022-04-12T00:32:22.139Z"
   },
   {
    "duration": 4,
    "start_time": "2022-04-12T00:32:23.315Z"
   },
   {
    "duration": 4,
    "start_time": "2022-04-12T00:32:23.761Z"
   },
   {
    "duration": 7,
    "start_time": "2022-04-12T00:32:23.878Z"
   },
   {
    "duration": 4,
    "start_time": "2022-04-12T00:32:24.177Z"
   },
   {
    "duration": 6,
    "start_time": "2022-04-12T00:32:24.360Z"
   },
   {
    "duration": 9,
    "start_time": "2022-04-12T00:32:24.953Z"
   },
   {
    "duration": 5,
    "start_time": "2022-04-12T00:32:25.164Z"
   },
   {
    "duration": 6,
    "start_time": "2022-04-12T00:32:26.724Z"
   },
   {
    "duration": 26,
    "start_time": "2022-04-12T00:32:26.953Z"
   },
   {
    "duration": 150,
    "start_time": "2022-04-12T00:32:28.578Z"
   },
   {
    "duration": 6,
    "start_time": "2022-04-12T00:32:28.926Z"
   },
   {
    "duration": 6,
    "start_time": "2022-04-12T00:32:29.243Z"
   },
   {
    "duration": 4,
    "start_time": "2022-04-12T00:32:30.517Z"
   },
   {
    "duration": 10,
    "start_time": "2022-04-12T00:32:30.978Z"
   },
   {
    "duration": 5,
    "start_time": "2022-04-12T00:32:31.508Z"
   },
   {
    "duration": 15,
    "start_time": "2022-04-12T00:32:31.832Z"
   },
   {
    "duration": 14,
    "start_time": "2022-04-12T00:32:32.185Z"
   },
   {
    "duration": 23,
    "start_time": "2022-04-12T00:32:33.281Z"
   },
   {
    "duration": 6,
    "start_time": "2022-04-12T00:32:35.619Z"
   },
   {
    "duration": 20,
    "start_time": "2022-04-12T00:32:36.620Z"
   },
   {
    "duration": 12,
    "start_time": "2022-04-12T00:32:37.998Z"
   },
   {
    "duration": 21,
    "start_time": "2022-04-12T00:32:40.698Z"
   },
   {
    "duration": 8,
    "start_time": "2022-04-12T00:34:04.129Z"
   },
   {
    "duration": 21,
    "start_time": "2022-04-12T00:34:24.078Z"
   },
   {
    "duration": 21,
    "start_time": "2022-04-12T00:34:27.371Z"
   },
   {
    "duration": 16,
    "start_time": "2022-04-12T00:36:10.825Z"
   },
   {
    "duration": 13,
    "start_time": "2022-04-12T00:36:16.457Z"
   },
   {
    "duration": 32,
    "start_time": "2022-04-12T00:36:25.288Z"
   },
   {
    "duration": 13,
    "start_time": "2022-04-12T00:36:25.965Z"
   },
   {
    "duration": 6,
    "start_time": "2022-04-12T00:37:07.459Z"
   },
   {
    "duration": 14,
    "start_time": "2022-04-12T00:37:12.431Z"
   },
   {
    "duration": 3,
    "start_time": "2022-04-12T00:39:35.511Z"
   },
   {
    "duration": 13,
    "start_time": "2022-04-12T00:39:38.483Z"
   },
   {
    "duration": 4,
    "start_time": "2022-04-12T00:39:56.509Z"
   },
   {
    "duration": 14,
    "start_time": "2022-04-12T00:39:56.977Z"
   },
   {
    "duration": 6,
    "start_time": "2022-04-12T00:41:55.249Z"
   },
   {
    "duration": 22,
    "start_time": "2022-04-12T00:42:16.673Z"
   },
   {
    "duration": 5,
    "start_time": "2022-04-12T00:42:19.408Z"
   },
   {
    "duration": 5,
    "start_time": "2022-04-12T00:42:29.013Z"
   },
   {
    "duration": 25,
    "start_time": "2022-04-12T00:42:44.323Z"
   },
   {
    "duration": 16,
    "start_time": "2022-04-12T00:42:56.128Z"
   },
   {
    "duration": 17,
    "start_time": "2022-04-12T00:43:01.499Z"
   },
   {
    "duration": 9,
    "start_time": "2022-04-12T00:44:30.564Z"
   },
   {
    "duration": 132,
    "start_time": "2022-04-12T00:44:41.784Z"
   },
   {
    "duration": 188,
    "start_time": "2022-04-12T00:44:45.720Z"
   },
   {
    "duration": 154,
    "start_time": "2022-04-12T00:44:49.069Z"
   },
   {
    "duration": 247,
    "start_time": "2022-04-12T00:44:53.580Z"
   },
   {
    "duration": 190,
    "start_time": "2022-04-12T00:44:57.855Z"
   },
   {
    "duration": 1261,
    "start_time": "2022-04-12T00:46:08.797Z"
   },
   {
    "duration": 277,
    "start_time": "2022-04-12T00:46:27.494Z"
   },
   {
    "duration": 276,
    "start_time": "2022-04-12T00:47:48.561Z"
   },
   {
    "duration": 1330,
    "start_time": "2022-04-12T00:48:11.745Z"
   },
   {
    "duration": 348,
    "start_time": "2022-04-12T00:48:47.688Z"
   },
   {
    "duration": 256,
    "start_time": "2022-04-12T00:49:10.076Z"
   },
   {
    "duration": 138,
    "start_time": "2022-04-12T00:49:28.522Z"
   },
   {
    "duration": 123,
    "start_time": "2022-04-12T00:49:36.295Z"
   },
   {
    "duration": 173,
    "start_time": "2022-04-12T00:49:40.841Z"
   },
   {
    "duration": 7,
    "start_time": "2022-04-12T00:49:55.712Z"
   },
   {
    "duration": 1074,
    "start_time": "2022-04-12T00:50:36.404Z"
   },
   {
    "duration": 5,
    "start_time": "2022-04-12T00:50:41.028Z"
   },
   {
    "duration": 11,
    "start_time": "2022-04-12T00:51:22.453Z"
   },
   {
    "duration": 4,
    "start_time": "2022-04-12T00:51:22.931Z"
   },
   {
    "duration": 8,
    "start_time": "2022-04-12T00:57:36.590Z"
   },
   {
    "duration": 4,
    "start_time": "2022-04-12T00:57:38.417Z"
   },
   {
    "duration": 5,
    "start_time": "2022-04-12T00:57:46.619Z"
   },
   {
    "duration": 5,
    "start_time": "2022-04-12T00:57:48.550Z"
   },
   {
    "duration": 9,
    "start_time": "2022-04-12T00:58:02.420Z"
   },
   {
    "duration": 200,
    "start_time": "2022-04-12T00:58:11.748Z"
   },
   {
    "duration": 525,
    "start_time": "2022-04-12T00:58:19.912Z"
   },
   {
    "duration": 186,
    "start_time": "2022-04-12T00:58:50.566Z"
   },
   {
    "duration": 182,
    "start_time": "2022-04-12T00:58:59.800Z"
   },
   {
    "duration": 189,
    "start_time": "2022-04-12T00:59:09.779Z"
   },
   {
    "duration": 188,
    "start_time": "2022-04-12T00:59:22.154Z"
   },
   {
    "duration": 195,
    "start_time": "2022-04-12T00:59:32.902Z"
   },
   {
    "duration": 207,
    "start_time": "2022-04-12T00:59:43.883Z"
   },
   {
    "duration": 173,
    "start_time": "2022-04-12T00:59:56.101Z"
   },
   {
    "duration": 621614,
    "start_time": "2022-04-12T01:00:06.395Z"
   },
   {
    "duration": 374,
    "start_time": "2022-04-14T03:17:08.371Z"
   },
   {
    "duration": 128,
    "start_time": "2022-04-14T03:17:09.580Z"
   },
   {
    "duration": 23,
    "start_time": "2022-04-14T03:17:11.688Z"
   },
   {
    "duration": 20,
    "start_time": "2022-04-14T03:17:12.140Z"
   },
   {
    "duration": 63,
    "start_time": "2022-04-14T03:17:51.786Z"
   },
   {
    "duration": 7,
    "start_time": "2022-04-14T03:17:54.486Z"
   },
   {
    "duration": 9,
    "start_time": "2022-04-14T03:17:57.932Z"
   },
   {
    "duration": 517,
    "start_time": "2022-04-14T03:18:11.679Z"
   },
   {
    "duration": 10,
    "start_time": "2022-04-14T03:18:41.178Z"
   },
   {
    "duration": 5,
    "start_time": "2022-04-14T03:18:53.584Z"
   },
   {
    "duration": 18,
    "start_time": "2022-04-14T03:21:25.250Z"
   },
   {
    "duration": 4,
    "start_time": "2022-04-14T03:32:27.836Z"
   },
   {
    "duration": 800,
    "start_time": "2022-04-14T03:32:28.672Z"
   },
   {
    "duration": 16,
    "start_time": "2022-04-14T03:35:16.032Z"
   },
   {
    "duration": 4,
    "start_time": "2022-04-14T03:35:16.805Z"
   },
   {
    "duration": 2,
    "start_time": "2022-04-14T03:35:49.698Z"
   },
   {
    "duration": 81,
    "start_time": "2022-04-14T03:35:50.762Z"
   },
   {
    "duration": 22,
    "start_time": "2022-04-14T03:35:51.458Z"
   },
   {
    "duration": 17,
    "start_time": "2022-04-14T03:35:52.353Z"
   },
   {
    "duration": 4,
    "start_time": "2022-04-14T03:35:55.726Z"
   },
   {
    "duration": 866,
    "start_time": "2022-04-14T03:35:56.844Z"
   },
   {
    "duration": 9,
    "start_time": "2022-04-14T03:36:29.491Z"
   },
   {
    "duration": 5,
    "start_time": "2022-04-14T03:36:29.950Z"
   },
   {
    "duration": 4,
    "start_time": "2022-04-14T03:36:35.130Z"
   },
   {
    "duration": 4,
    "start_time": "2022-04-14T03:36:35.736Z"
   },
   {
    "duration": 4,
    "start_time": "2022-04-14T03:36:37.220Z"
   },
   {
    "duration": 5,
    "start_time": "2022-04-14T03:36:37.765Z"
   },
   {
    "duration": 4,
    "start_time": "2022-04-14T03:39:33.877Z"
   },
   {
    "duration": 6,
    "start_time": "2022-04-14T03:39:34.341Z"
   },
   {
    "duration": 10,
    "start_time": "2022-04-14T03:39:36.163Z"
   },
   {
    "duration": 4,
    "start_time": "2022-04-14T03:39:37.093Z"
   },
   {
    "duration": 5,
    "start_time": "2022-04-14T03:39:40.264Z"
   },
   {
    "duration": 23,
    "start_time": "2022-04-14T03:39:42.766Z"
   },
   {
    "duration": 127,
    "start_time": "2022-04-14T03:39:45.372Z"
   },
   {
    "duration": 6,
    "start_time": "2022-04-14T03:39:47.589Z"
   },
   {
    "duration": 6,
    "start_time": "2022-04-14T03:39:48.697Z"
   },
   {
    "duration": 3,
    "start_time": "2022-04-14T03:40:12.845Z"
   },
   {
    "duration": 11,
    "start_time": "2022-04-14T03:40:13.536Z"
   },
   {
    "duration": 4,
    "start_time": "2022-04-14T03:40:15.486Z"
   },
   {
    "duration": 15,
    "start_time": "2022-04-14T03:40:15.889Z"
   },
   {
    "duration": 15,
    "start_time": "2022-04-14T03:40:54.978Z"
   },
   {
    "duration": 17,
    "start_time": "2022-04-14T03:40:56.051Z"
   },
   {
    "duration": 23,
    "start_time": "2022-04-14T03:40:56.806Z"
   },
   {
    "duration": 6,
    "start_time": "2022-04-14T03:41:14.779Z"
   },
   {
    "duration": 20,
    "start_time": "2022-04-14T03:41:19.172Z"
   },
   {
    "duration": 11,
    "start_time": "2022-04-14T03:41:20.221Z"
   },
   {
    "duration": 21,
    "start_time": "2022-04-14T03:41:22.695Z"
   },
   {
    "duration": 39,
    "start_time": "2022-04-14T03:41:59.015Z"
   },
   {
    "duration": 5,
    "start_time": "2022-04-14T03:42:07.110Z"
   },
   {
    "duration": 8,
    "start_time": "2022-04-14T03:42:44.119Z"
   },
   {
    "duration": 23,
    "start_time": "2022-04-14T03:42:58.971Z"
   },
   {
    "duration": 5,
    "start_time": "2022-04-14T03:42:59.905Z"
   },
   {
    "duration": 24,
    "start_time": "2022-04-14T03:43:06.996Z"
   },
   {
    "duration": 15,
    "start_time": "2022-04-14T03:43:07.513Z"
   },
   {
    "duration": 3,
    "start_time": "2022-04-14T03:44:16.455Z"
   },
   {
    "duration": 767,
    "start_time": "2022-04-14T03:44:24.095Z"
   },
   {
    "duration": 727,
    "start_time": "2022-04-14T03:44:32.066Z"
   },
   {
    "duration": 539,
    "start_time": "2022-04-14T03:45:13.951Z"
   },
   {
    "duration": 643,
    "start_time": "2022-04-14T03:48:13.617Z"
   },
   {
    "duration": 560,
    "start_time": "2022-04-14T03:48:19.954Z"
   },
   {
    "duration": 603,
    "start_time": "2022-04-14T03:48:23.728Z"
   },
   {
    "duration": 592,
    "start_time": "2022-04-14T03:48:53.976Z"
   },
   {
    "duration": 8,
    "start_time": "2022-04-14T03:49:23.400Z"
   },
   {
    "duration": 19,
    "start_time": "2022-04-14T03:57:45.261Z"
   },
   {
    "duration": 1711,
    "start_time": "2022-04-14T03:57:49.787Z"
   },
   {
    "duration": 15,
    "start_time": "2022-04-14T03:58:02.291Z"
   },
   {
    "duration": 4,
    "start_time": "2022-04-14T03:58:08.150Z"
   },
   {
    "duration": 11,
    "start_time": "2022-04-14T03:58:40.849Z"
   },
   {
    "duration": 4,
    "start_time": "2022-04-14T03:58:41.799Z"
   },
   {
    "duration": 4,
    "start_time": "2022-04-14T03:58:49.433Z"
   },
   {
    "duration": 30,
    "start_time": "2022-04-14T04:00:54.109Z"
   },
   {
    "duration": 30,
    "start_time": "2022-04-14T04:01:50.655Z"
   },
   {
    "duration": 29,
    "start_time": "2022-04-14T04:02:17.886Z"
   },
   {
    "duration": 30,
    "start_time": "2022-04-14T04:03:14.477Z"
   },
   {
    "duration": 30,
    "start_time": "2022-04-14T04:03:37.423Z"
   },
   {
    "duration": 26,
    "start_time": "2022-04-14T04:03:44.874Z"
   },
   {
    "duration": 20,
    "start_time": "2022-04-14T04:04:12.858Z"
   },
   {
    "duration": 27,
    "start_time": "2022-04-14T04:05:45.683Z"
   },
   {
    "duration": 60,
    "start_time": "2022-04-14T04:07:11.974Z"
   },
   {
    "duration": 122,
    "start_time": "2022-04-14T04:08:14.270Z"
   },
   {
    "duration": 112,
    "start_time": "2022-04-14T04:08:20.628Z"
   },
   {
    "duration": 24,
    "start_time": "2022-04-14T04:08:36.376Z"
   },
   {
    "duration": 10,
    "start_time": "2022-04-14T04:08:51.402Z"
   },
   {
    "duration": 10,
    "start_time": "2022-04-14T04:09:09.745Z"
   },
   {
    "duration": 4,
    "start_time": "2022-04-14T04:09:39.573Z"
   },
   {
    "duration": 59,
    "start_time": "2022-04-14T04:10:59.025Z"
   },
   {
    "duration": 4,
    "start_time": "2022-04-14T04:11:00.814Z"
   },
   {
    "duration": 9,
    "start_time": "2022-04-14T04:11:04.469Z"
   },
   {
    "duration": 9,
    "start_time": "2022-04-14T04:11:05.746Z"
   },
   {
    "duration": 14,
    "start_time": "2022-04-14T04:14:05.650Z"
   },
   {
    "duration": 60,
    "start_time": "2022-04-14T04:14:07.471Z"
   },
   {
    "duration": 4,
    "start_time": "2022-04-14T04:14:08.431Z"
   },
   {
    "duration": 6,
    "start_time": "2022-04-14T04:14:24.933Z"
   },
   {
    "duration": 5,
    "start_time": "2022-04-14T04:14:35.315Z"
   },
   {
    "duration": 4,
    "start_time": "2022-04-14T04:15:50.451Z"
   },
   {
    "duration": 3,
    "start_time": "2022-04-14T04:15:58.084Z"
   },
   {
    "duration": 3,
    "start_time": "2022-04-14T04:16:05.291Z"
   },
   {
    "duration": 114,
    "start_time": "2022-04-14T04:16:34.998Z"
   },
   {
    "duration": 330,
    "start_time": "2022-04-14T04:17:08.009Z"
   },
   {
    "duration": 335,
    "start_time": "2022-04-14T04:17:14.697Z"
   },
   {
    "duration": 116,
    "start_time": "2022-04-14T04:17:32.507Z"
   },
   {
    "duration": 187,
    "start_time": "2022-04-14T04:17:45.860Z"
   },
   {
    "duration": 143,
    "start_time": "2022-04-14T04:17:51.444Z"
   },
   {
    "duration": 127,
    "start_time": "2022-04-14T04:17:56.179Z"
   },
   {
    "duration": 122,
    "start_time": "2022-04-14T04:18:10.099Z"
   },
   {
    "duration": 41,
    "start_time": "2022-04-14T04:18:28.975Z"
   },
   {
    "duration": 8,
    "start_time": "2022-04-14T04:18:35.828Z"
   },
   {
    "duration": 115,
    "start_time": "2022-04-14T04:20:33.285Z"
   },
   {
    "duration": 141,
    "start_time": "2022-04-14T04:20:39.218Z"
   },
   {
    "duration": 134,
    "start_time": "2022-04-14T04:20:58.050Z"
   },
   {
    "duration": 121,
    "start_time": "2022-04-14T04:21:04.361Z"
   },
   {
    "duration": 24,
    "start_time": "2022-04-14T04:24:11.634Z"
   },
   {
    "duration": 15,
    "start_time": "2022-04-14T04:24:28.518Z"
   },
   {
    "duration": 23,
    "start_time": "2022-04-14T04:24:34.657Z"
   },
   {
    "duration": 18,
    "start_time": "2022-04-14T04:25:00.210Z"
   },
   {
    "duration": 23,
    "start_time": "2022-04-14T04:25:00.972Z"
   },
   {
    "duration": 35,
    "start_time": "2022-04-14T04:25:27.681Z"
   },
   {
    "duration": 33,
    "start_time": "2022-04-14T04:25:44.851Z"
   },
   {
    "duration": 155,
    "start_time": "2022-04-14T04:26:06.570Z"
   },
   {
    "duration": 14,
    "start_time": "2022-04-14T04:26:13.177Z"
   },
   {
    "duration": 32,
    "start_time": "2022-04-14T04:26:18.889Z"
   },
   {
    "duration": 27,
    "start_time": "2022-04-14T04:27:40.464Z"
   },
   {
    "duration": 25,
    "start_time": "2022-04-14T04:27:48.153Z"
   },
   {
    "duration": 26,
    "start_time": "2022-04-14T04:27:55.589Z"
   },
   {
    "duration": 26,
    "start_time": "2022-04-14T04:28:08.006Z"
   },
   {
    "duration": 1727,
    "start_time": "2022-04-14T04:28:26.131Z"
   },
   {
    "duration": 1693,
    "start_time": "2022-04-14T04:28:30.995Z"
   },
   {
    "duration": 26,
    "start_time": "2022-04-14T04:28:49.575Z"
   },
   {
    "duration": 30,
    "start_time": "2022-04-14T04:29:03.316Z"
   },
   {
    "duration": 31,
    "start_time": "2022-04-14T04:29:10.804Z"
   },
   {
    "duration": 37,
    "start_time": "2022-04-14T04:29:25.261Z"
   },
   {
    "duration": 33,
    "start_time": "2022-04-14T04:29:44.764Z"
   },
   {
    "duration": 42,
    "start_time": "2022-04-14T04:29:53.690Z"
   },
   {
    "duration": 41,
    "start_time": "2022-04-14T04:29:59.712Z"
   },
   {
    "duration": 31,
    "start_time": "2022-04-14T04:30:10.088Z"
   },
   {
    "duration": 32,
    "start_time": "2022-04-14T04:30:11.572Z"
   },
   {
    "duration": 31,
    "start_time": "2022-04-14T04:31:18.179Z"
   },
   {
    "duration": 30,
    "start_time": "2022-04-14T04:31:29.033Z"
   },
   {
    "duration": 730,
    "start_time": "2022-04-16T21:59:46.506Z"
   },
   {
    "duration": 85,
    "start_time": "2022-04-16T21:59:48.605Z"
   },
   {
    "duration": 23,
    "start_time": "2022-04-16T22:00:06.117Z"
   },
   {
    "duration": 18,
    "start_time": "2022-04-16T22:00:08.838Z"
   },
   {
    "duration": 83,
    "start_time": "2022-04-16T22:01:40.344Z"
   },
   {
    "duration": 7,
    "start_time": "2022-04-16T22:02:12.116Z"
   },
   {
    "duration": 9,
    "start_time": "2022-04-16T22:02:16.849Z"
   },
   {
    "duration": 6,
    "start_time": "2022-04-16T22:02:20.372Z"
   },
   {
    "duration": 6,
    "start_time": "2022-04-16T22:02:28.347Z"
   },
   {
    "duration": 14,
    "start_time": "2022-04-16T22:02:48.016Z"
   },
   {
    "duration": 4,
    "start_time": "2022-04-16T22:22:10.560Z"
   },
   {
    "duration": 818,
    "start_time": "2022-04-16T22:22:13.388Z"
   },
   {
    "duration": 10,
    "start_time": "2022-04-16T22:23:33.101Z"
   },
   {
    "duration": 4,
    "start_time": "2022-04-16T22:23:33.813Z"
   },
   {
    "duration": 8,
    "start_time": "2022-04-16T22:23:56.209Z"
   },
   {
    "duration": 4,
    "start_time": "2022-04-16T22:24:02.580Z"
   },
   {
    "duration": 5,
    "start_time": "2022-04-16T22:24:25.025Z"
   },
   {
    "duration": 5,
    "start_time": "2022-04-16T22:24:31.907Z"
   },
   {
    "duration": 4,
    "start_time": "2022-04-16T22:24:44.755Z"
   },
   {
    "duration": 5,
    "start_time": "2022-04-16T22:24:46.464Z"
   },
   {
    "duration": 3,
    "start_time": "2022-04-16T22:24:50.618Z"
   },
   {
    "duration": 5,
    "start_time": "2022-04-16T22:24:51.260Z"
   },
   {
    "duration": 5,
    "start_time": "2022-04-16T22:24:55.169Z"
   },
   {
    "duration": 7,
    "start_time": "2022-04-16T22:24:55.588Z"
   },
   {
    "duration": 9,
    "start_time": "2022-04-16T22:25:08.545Z"
   },
   {
    "duration": 5,
    "start_time": "2022-04-16T22:25:09.986Z"
   },
   {
    "duration": 7,
    "start_time": "2022-04-16T22:25:12.829Z"
   },
   {
    "duration": 24,
    "start_time": "2022-04-16T22:25:13.923Z"
   },
   {
    "duration": 136,
    "start_time": "2022-04-16T22:28:07.436Z"
   },
   {
    "duration": 6,
    "start_time": "2022-04-16T22:28:24.142Z"
   },
   {
    "duration": 6,
    "start_time": "2022-04-16T22:28:24.736Z"
   },
   {
    "duration": 4,
    "start_time": "2022-04-16T22:28:29.378Z"
   },
   {
    "duration": 13,
    "start_time": "2022-04-16T22:30:49.993Z"
   },
   {
    "duration": 5,
    "start_time": "2022-04-16T22:30:51.476Z"
   },
   {
    "duration": 15,
    "start_time": "2022-04-16T22:30:54.150Z"
   },
   {
    "duration": 15,
    "start_time": "2022-04-16T22:32:16.350Z"
   },
   {
    "duration": 13,
    "start_time": "2022-04-16T22:32:22.037Z"
   },
   {
    "duration": 22,
    "start_time": "2022-04-16T22:32:32.236Z"
   },
   {
    "duration": 12,
    "start_time": "2022-04-16T22:32:35.681Z"
   },
   {
    "duration": 12,
    "start_time": "2022-04-16T22:32:38.139Z"
   },
   {
    "duration": 11,
    "start_time": "2022-04-16T22:32:43.324Z"
   },
   {
    "duration": 71,
    "start_time": "2022-04-16T22:32:53.542Z"
   },
   {
    "duration": 9,
    "start_time": "2022-04-16T22:33:35.625Z"
   },
   {
    "duration": 22,
    "start_time": "2022-04-16T22:33:36.523Z"
   },
   {
    "duration": 6,
    "start_time": "2022-04-16T22:34:07.431Z"
   },
   {
    "duration": 21,
    "start_time": "2022-04-16T22:34:08.928Z"
   },
   {
    "duration": 12,
    "start_time": "2022-04-16T22:34:09.473Z"
   },
   {
    "duration": 21,
    "start_time": "2022-04-16T22:34:10.602Z"
   },
   {
    "duration": 12,
    "start_time": "2022-04-16T22:35:50.463Z"
   },
   {
    "duration": 12,
    "start_time": "2022-04-16T22:35:51.542Z"
   },
   {
    "duration": 21,
    "start_time": "2022-04-16T22:35:52.111Z"
   },
   {
    "duration": 38,
    "start_time": "2022-04-16T22:36:39.201Z"
   },
   {
    "duration": 4,
    "start_time": "2022-04-16T22:36:47.701Z"
   },
   {
    "duration": 3,
    "start_time": "2022-04-16T22:37:49.951Z"
   },
   {
    "duration": 9,
    "start_time": "2022-04-16T22:38:41.694Z"
   },
   {
    "duration": 4,
    "start_time": "2022-04-16T22:38:54.610Z"
   },
   {
    "duration": 10,
    "start_time": "2022-04-16T22:38:57.325Z"
   },
   {
    "duration": 7,
    "start_time": "2022-04-16T22:39:11.205Z"
   },
   {
    "duration": 9,
    "start_time": "2022-04-16T22:39:11.738Z"
   },
   {
    "duration": 636,
    "start_time": "2022-04-16T22:43:32.529Z"
   },
   {
    "duration": 82,
    "start_time": "2022-04-16T22:43:33.166Z"
   },
   {
    "duration": 23,
    "start_time": "2022-04-16T22:43:34.465Z"
   },
   {
    "duration": 18,
    "start_time": "2022-04-16T22:43:34.710Z"
   },
   {
    "duration": 4,
    "start_time": "2022-04-16T22:43:36.444Z"
   },
   {
    "duration": 827,
    "start_time": "2022-04-16T22:43:36.535Z"
   },
   {
    "duration": 9,
    "start_time": "2022-04-16T22:43:37.364Z"
   },
   {
    "duration": 5,
    "start_time": "2022-04-16T22:43:37.374Z"
   },
   {
    "duration": 4,
    "start_time": "2022-04-16T22:43:37.411Z"
   },
   {
    "duration": 4,
    "start_time": "2022-04-16T22:43:37.462Z"
   },
   {
    "duration": 3,
    "start_time": "2022-04-16T22:43:37.764Z"
   },
   {
    "duration": 6,
    "start_time": "2022-04-16T22:43:37.960Z"
   },
   {
    "duration": 4,
    "start_time": "2022-04-16T22:43:38.253Z"
   },
   {
    "duration": 6,
    "start_time": "2022-04-16T22:43:38.428Z"
   },
   {
    "duration": 10,
    "start_time": "2022-04-16T22:43:38.779Z"
   },
   {
    "duration": 4,
    "start_time": "2022-04-16T22:43:38.901Z"
   },
   {
    "duration": 5,
    "start_time": "2022-04-16T22:43:39.237Z"
   },
   {
    "duration": 131,
    "start_time": "2022-04-16T22:43:39.398Z"
   },
   {
    "duration": 24,
    "start_time": "2022-04-16T22:43:39.928Z"
   },
   {
    "duration": 6,
    "start_time": "2022-04-16T22:43:40.976Z"
   },
   {
    "duration": 6,
    "start_time": "2022-04-16T22:43:41.381Z"
   },
   {
    "duration": 4,
    "start_time": "2022-04-16T22:43:42.979Z"
   },
   {
    "duration": 12,
    "start_time": "2022-04-16T22:43:43.094Z"
   },
   {
    "duration": 4,
    "start_time": "2022-04-16T22:43:43.385Z"
   },
   {
    "duration": 14,
    "start_time": "2022-04-16T22:43:43.531Z"
   },
   {
    "duration": 8,
    "start_time": "2022-04-16T22:43:43.815Z"
   },
   {
    "duration": 21,
    "start_time": "2022-04-16T22:43:44.667Z"
   },
   {
    "duration": 6,
    "start_time": "2022-04-16T22:43:46.799Z"
   },
   {
    "duration": 14,
    "start_time": "2022-04-16T22:43:46.998Z"
   },
   {
    "duration": 12,
    "start_time": "2022-04-16T22:43:47.191Z"
   },
   {
    "duration": 21,
    "start_time": "2022-04-16T22:43:47.413Z"
   },
   {
    "duration": 40,
    "start_time": "2022-04-16T22:43:50.183Z"
   },
   {
    "duration": 6,
    "start_time": "2022-04-16T22:43:59.160Z"
   },
   {
    "duration": 4,
    "start_time": "2022-04-16T22:44:18.316Z"
   },
   {
    "duration": 14,
    "start_time": "2022-04-16T22:44:38.348Z"
   },
   {
    "duration": 18,
    "start_time": "2022-04-16T22:44:54.886Z"
   },
   {
    "duration": 43,
    "start_time": "2022-04-16T22:45:34.861Z"
   },
   {
    "duration": 5,
    "start_time": "2022-04-16T22:45:44.755Z"
   },
   {
    "duration": 25,
    "start_time": "2022-04-16T22:45:54.074Z"
   },
   {
    "duration": 25,
    "start_time": "2022-04-16T22:46:00.929Z"
   },
   {
    "duration": 5,
    "start_time": "2022-04-16T22:46:15.717Z"
   },
   {
    "duration": 28,
    "start_time": "2022-04-16T22:46:50.628Z"
   },
   {
    "duration": 6,
    "start_time": "2022-04-16T22:46:53.855Z"
   },
   {
    "duration": 24,
    "start_time": "2022-04-16T22:47:33.422Z"
   },
   {
    "duration": 16,
    "start_time": "2022-04-16T22:47:33.883Z"
   },
   {
    "duration": 9,
    "start_time": "2022-04-16T22:49:19.651Z"
   },
   {
    "duration": 665,
    "start_time": "2022-04-16T22:49:54.144Z"
   },
   {
    "duration": 571,
    "start_time": "2022-04-16T22:50:03.650Z"
   },
   {
    "duration": 410,
    "start_time": "2022-04-16T22:50:46.803Z"
   },
   {
    "duration": 400,
    "start_time": "2022-04-16T22:51:38.184Z"
   },
   {
    "duration": 0,
    "start_time": "2022-04-16T22:54:12.177Z"
   },
   {
    "duration": 6,
    "start_time": "2022-04-16T22:54:21.395Z"
   },
   {
    "duration": 34366,
    "start_time": "2022-04-16T22:56:11.267Z"
   },
   {
    "duration": 0,
    "start_time": "2022-04-16T22:56:45.636Z"
   },
   {
    "duration": 10,
    "start_time": "2022-04-16T22:56:58.391Z"
   },
   {
    "duration": 669,
    "start_time": "2022-04-16T22:57:36.726Z"
   },
   {
    "duration": 11,
    "start_time": "2022-04-16T23:00:42.181Z"
   },
   {
    "duration": 7,
    "start_time": "2022-04-16T23:01:05.128Z"
   },
   {
    "duration": 3,
    "start_time": "2022-04-16T23:01:07.536Z"
   },
   {
    "duration": 9,
    "start_time": "2022-04-16T23:01:28.399Z"
   },
   {
    "duration": 39,
    "start_time": "2022-04-16T23:02:14.666Z"
   },
   {
    "duration": 14,
    "start_time": "2022-04-16T23:02:25.335Z"
   },
   {
    "duration": 23,
    "start_time": "2022-04-16T23:02:29.237Z"
   },
   {
    "duration": 8,
    "start_time": "2022-04-16T23:02:36.348Z"
   },
   {
    "duration": 9,
    "start_time": "2022-04-16T23:02:43.496Z"
   },
   {
    "duration": 16,
    "start_time": "2022-04-16T23:03:03.689Z"
   },
   {
    "duration": 17,
    "start_time": "2022-04-16T23:03:20.628Z"
   },
   {
    "duration": 3,
    "start_time": "2022-04-16T23:03:48.292Z"
   },
   {
    "duration": 137,
    "start_time": "2022-04-16T23:05:13.419Z"
   },
   {
    "duration": 131,
    "start_time": "2022-04-16T23:05:16.042Z"
   },
   {
    "duration": 136,
    "start_time": "2022-04-16T23:05:17.628Z"
   },
   {
    "duration": 130,
    "start_time": "2022-04-16T23:06:08.873Z"
   },
   {
    "duration": 9,
    "start_time": "2022-04-16T23:08:56.030Z"
   },
   {
    "duration": 9,
    "start_time": "2022-04-16T23:11:26.304Z"
   },
   {
    "duration": 8,
    "start_time": "2022-04-16T23:13:25.715Z"
   },
   {
    "duration": 9,
    "start_time": "2022-04-16T23:14:41.278Z"
   },
   {
    "duration": 9,
    "start_time": "2022-04-16T23:14:58.403Z"
   },
   {
    "duration": 133,
    "start_time": "2022-04-16T23:15:31.600Z"
   },
   {
    "duration": 109,
    "start_time": "2022-04-16T23:17:47.975Z"
   },
   {
    "duration": 102,
    "start_time": "2022-04-16T23:18:14.773Z"
   },
   {
    "duration": 110,
    "start_time": "2022-04-16T23:18:22.143Z"
   },
   {
    "duration": 116,
    "start_time": "2022-04-16T23:18:31.063Z"
   },
   {
    "duration": 20,
    "start_time": "2022-04-16T23:18:59.719Z"
   },
   {
    "duration": 44,
    "start_time": "2022-04-16T23:19:00.279Z"
   },
   {
    "duration": 32,
    "start_time": "2022-04-16T23:19:01.199Z"
   },
   {
    "duration": 31,
    "start_time": "2022-04-16T23:19:02.406Z"
   },
   {
    "duration": 6,
    "start_time": "2022-04-16T23:24:17.767Z"
   },
   {
    "duration": 5,
    "start_time": "2022-04-16T23:26:24.093Z"
   },
   {
    "duration": 16,
    "start_time": "2022-04-16T23:28:06.175Z"
   },
   {
    "duration": 24,
    "start_time": "2022-04-16T23:28:50.168Z"
   },
   {
    "duration": 9,
    "start_time": "2022-04-16T23:31:03.522Z"
   },
   {
    "duration": 16,
    "start_time": "2022-04-16T23:32:07.400Z"
   },
   {
    "duration": 9,
    "start_time": "2022-04-16T23:32:33.763Z"
   },
   {
    "duration": 32,
    "start_time": "2022-04-16T23:32:47.553Z"
   },
   {
    "duration": 30,
    "start_time": "2022-04-16T23:33:16.269Z"
   },
   {
    "duration": 8,
    "start_time": "2022-04-16T23:33:32.999Z"
   },
   {
    "duration": 32,
    "start_time": "2022-04-16T23:33:49.666Z"
   },
   {
    "duration": 28,
    "start_time": "2022-04-16T23:34:11.482Z"
   },
   {
    "duration": 22,
    "start_time": "2022-04-16T23:34:37.310Z"
   },
   {
    "duration": 33,
    "start_time": "2022-04-16T23:35:01.726Z"
   },
   {
    "duration": 28,
    "start_time": "2022-04-16T23:35:21.128Z"
   },
   {
    "duration": 31,
    "start_time": "2022-04-16T23:35:25.368Z"
   },
   {
    "duration": 30,
    "start_time": "2022-04-16T23:35:37.528Z"
   },
   {
    "duration": 29,
    "start_time": "2022-04-16T23:36:03.083Z"
   },
   {
    "duration": 32,
    "start_time": "2022-04-16T23:36:06.190Z"
   },
   {
    "duration": 32,
    "start_time": "2022-04-16T23:36:16.664Z"
   },
   {
    "duration": 32,
    "start_time": "2022-04-16T23:36:22.029Z"
   },
   {
    "duration": 31,
    "start_time": "2022-04-16T23:36:54.867Z"
   },
   {
    "duration": 7,
    "start_time": "2022-04-16T23:37:05.154Z"
   },
   {
    "duration": 7,
    "start_time": "2022-04-16T23:37:16.677Z"
   },
   {
    "duration": 174,
    "start_time": "2022-04-16T23:37:28.628Z"
   },
   {
    "duration": 12,
    "start_time": "2022-04-16T23:38:43.142Z"
   },
   {
    "duration": 30,
    "start_time": "2022-04-16T23:39:04.640Z"
   },
   {
    "duration": 32,
    "start_time": "2022-04-16T23:39:08.027Z"
   },
   {
    "duration": 33,
    "start_time": "2022-04-16T23:39:19.054Z"
   },
   {
    "duration": 32,
    "start_time": "2022-04-16T23:39:27.354Z"
   },
   {
    "duration": 12,
    "start_time": "2022-04-16T23:39:33.357Z"
   },
   {
    "duration": 8,
    "start_time": "2022-04-16T23:39:41.681Z"
   },
   {
    "duration": 31,
    "start_time": "2022-04-16T23:41:32.855Z"
   },
   {
    "duration": 116,
    "start_time": "2022-04-16T23:41:49.845Z"
   },
   {
    "duration": 146,
    "start_time": "2022-04-16T23:43:16.759Z"
   },
   {
    "duration": 1879,
    "start_time": "2022-04-16T23:43:24.140Z"
   },
   {
    "duration": 1701,
    "start_time": "2022-04-16T23:43:26.966Z"
   },
   {
    "duration": 160,
    "start_time": "2022-04-16T23:43:42.323Z"
   },
   {
    "duration": 170,
    "start_time": "2022-04-16T23:44:39.049Z"
   },
   {
    "duration": 9,
    "start_time": "2022-04-16T23:45:37.769Z"
   },
   {
    "duration": 175,
    "start_time": "2022-04-16T23:46:51.736Z"
   },
   {
    "duration": 163,
    "start_time": "2022-04-16T23:47:50.300Z"
   },
   {
    "duration": 172,
    "start_time": "2022-04-16T23:48:08.417Z"
   },
   {
    "duration": 173,
    "start_time": "2022-04-16T23:48:37.404Z"
   },
   {
    "duration": 30,
    "start_time": "2022-04-16T23:49:41.288Z"
   },
   {
    "duration": 11,
    "start_time": "2022-04-16T23:49:46.244Z"
   },
   {
    "duration": 29,
    "start_time": "2022-04-16T23:49:50.404Z"
   },
   {
    "duration": 16,
    "start_time": "2022-04-16T23:50:01.602Z"
   },
   {
    "duration": 32,
    "start_time": "2022-04-16T23:50:07.072Z"
   },
   {
    "duration": 10,
    "start_time": "2022-04-16T23:50:12.992Z"
   },
   {
    "duration": 32,
    "start_time": "2022-04-16T23:50:16.831Z"
   },
   {
    "duration": 28,
    "start_time": "2022-04-16T23:50:20.140Z"
   },
   {
    "duration": 31,
    "start_time": "2022-04-16T23:50:22.563Z"
   },
   {
    "duration": 32,
    "start_time": "2022-04-16T23:50:31.402Z"
   },
   {
    "duration": 35,
    "start_time": "2022-04-16T23:50:39.987Z"
   },
   {
    "duration": 30,
    "start_time": "2022-04-16T23:50:48.453Z"
   },
   {
    "duration": 30,
    "start_time": "2022-04-16T23:51:09.536Z"
   },
   {
    "duration": 170,
    "start_time": "2022-04-16T23:51:11.966Z"
   },
   {
    "duration": 165,
    "start_time": "2022-04-16T23:51:45.687Z"
   },
   {
    "duration": 8,
    "start_time": "2022-04-16T23:53:46.560Z"
   },
   {
    "duration": 28,
    "start_time": "2022-04-16T23:53:59.184Z"
   },
   {
    "duration": 13,
    "start_time": "2022-04-16T23:54:12.097Z"
   },
   {
    "duration": 14,
    "start_time": "2022-04-16T23:54:29.737Z"
   },
   {
    "duration": 4,
    "start_time": "2022-04-16T23:55:33.731Z"
   },
   {
    "duration": 18,
    "start_time": "2022-04-16T23:57:17.366Z"
   },
   {
    "duration": 11,
    "start_time": "2022-04-16T23:57:20.547Z"
   },
   {
    "duration": 15,
    "start_time": "2022-04-16T23:57:40.100Z"
   },
   {
    "duration": 12,
    "start_time": "2022-04-16T23:58:07.006Z"
   },
   {
    "duration": 17,
    "start_time": "2022-04-16T23:58:11.365Z"
   },
   {
    "duration": 12,
    "start_time": "2022-04-16T23:58:11.962Z"
   },
   {
    "duration": 17,
    "start_time": "2022-04-16T23:58:19.421Z"
   },
   {
    "duration": 11,
    "start_time": "2022-04-16T23:58:19.965Z"
   },
   {
    "duration": 9,
    "start_time": "2022-04-16T23:58:44.526Z"
   },
   {
    "duration": 9,
    "start_time": "2022-04-16T23:58:59.313Z"
   },
   {
    "duration": 9,
    "start_time": "2022-04-16T23:58:59.953Z"
   },
   {
    "duration": 17,
    "start_time": "2022-04-16T23:59:42.038Z"
   },
   {
    "duration": 9,
    "start_time": "2022-04-16T23:59:42.543Z"
   },
   {
    "duration": 19,
    "start_time": "2022-04-16T23:59:50.091Z"
   },
   {
    "duration": 9,
    "start_time": "2022-04-16T23:59:51.974Z"
   },
   {
    "duration": 9,
    "start_time": "2022-04-16T23:59:53.961Z"
   },
   {
    "duration": 3,
    "start_time": "2022-04-17T00:00:58.329Z"
   },
   {
    "duration": 7,
    "start_time": "2022-04-17T00:01:31.443Z"
   },
   {
    "duration": 7,
    "start_time": "2022-04-17T00:01:37.593Z"
   },
   {
    "duration": 6,
    "start_time": "2022-04-17T00:01:43.214Z"
   },
   {
    "duration": 6,
    "start_time": "2022-04-17T00:01:49.673Z"
   },
   {
    "duration": 3,
    "start_time": "2022-04-17T00:04:26.258Z"
   },
   {
    "duration": 114,
    "start_time": "2022-04-17T00:08:03.823Z"
   },
   {
    "duration": 86,
    "start_time": "2022-04-17T00:08:11.621Z"
   },
   {
    "duration": 320,
    "start_time": "2022-04-17T00:08:22.704Z"
   },
   {
    "duration": 400,
    "start_time": "2022-04-17T00:09:07.632Z"
   },
   {
    "duration": 234,
    "start_time": "2022-04-17T00:10:00.677Z"
   },
   {
    "duration": 242,
    "start_time": "2022-04-17T00:10:46.744Z"
   },
   {
    "duration": 249,
    "start_time": "2022-04-17T00:11:15.539Z"
   },
   {
    "duration": 481,
    "start_time": "2022-04-17T00:11:32.100Z"
   },
   {
    "duration": 237,
    "start_time": "2022-04-17T00:11:41.096Z"
   },
   {
    "duration": 867,
    "start_time": "2022-04-17T00:12:26.171Z"
   },
   {
    "duration": 934,
    "start_time": "2022-04-17T00:12:54.595Z"
   },
   {
    "duration": 693,
    "start_time": "2022-04-17T00:13:05.605Z"
   },
   {
    "duration": 732,
    "start_time": "2022-04-17T00:13:14.264Z"
   },
   {
    "duration": 837,
    "start_time": "2022-04-17T00:15:51.836Z"
   },
   {
    "duration": 1714,
    "start_time": "2022-04-17T00:16:02.206Z"
   },
   {
    "duration": 919,
    "start_time": "2022-04-17T00:16:22.666Z"
   },
   {
    "duration": 930,
    "start_time": "2022-04-17T00:17:36.976Z"
   },
   {
    "duration": 976,
    "start_time": "2022-04-17T00:18:20.372Z"
   },
   {
    "duration": 1200,
    "start_time": "2022-04-17T00:18:35.225Z"
   },
   {
    "duration": 870,
    "start_time": "2022-04-17T00:18:49.701Z"
   },
   {
    "duration": 858,
    "start_time": "2022-04-17T00:18:53.575Z"
   },
   {
    "duration": 121,
    "start_time": "2022-04-17T00:19:21.345Z"
   },
   {
    "duration": 122,
    "start_time": "2022-04-17T00:22:20.736Z"
   },
   {
    "duration": 1322,
    "start_time": "2022-04-17T00:24:03.797Z"
   },
   {
    "duration": 1176,
    "start_time": "2022-04-17T00:24:16.441Z"
   },
   {
    "duration": 1304,
    "start_time": "2022-04-17T00:24:38.066Z"
   },
   {
    "duration": 7,
    "start_time": "2022-04-17T00:25:07.163Z"
   },
   {
    "duration": 8,
    "start_time": "2022-04-17T00:26:32.227Z"
   },
   {
    "duration": 6,
    "start_time": "2022-04-17T00:26:40.554Z"
   },
   {
    "duration": 7,
    "start_time": "2022-04-17T00:26:54.563Z"
   },
   {
    "duration": 604,
    "start_time": "2022-04-17T00:30:27.777Z"
   },
   {
    "duration": 80,
    "start_time": "2022-04-17T00:30:29.894Z"
   },
   {
    "duration": 23,
    "start_time": "2022-04-17T00:30:31.727Z"
   },
   {
    "duration": 18,
    "start_time": "2022-04-17T00:30:32.141Z"
   },
   {
    "duration": 3,
    "start_time": "2022-04-17T00:30:52.591Z"
   },
   {
    "duration": 882,
    "start_time": "2022-04-17T00:30:53.221Z"
   },
   {
    "duration": 9,
    "start_time": "2022-04-17T00:30:54.734Z"
   },
   {
    "duration": 4,
    "start_time": "2022-04-17T00:30:55.425Z"
   },
   {
    "duration": 3,
    "start_time": "2022-04-17T00:30:57.416Z"
   },
   {
    "duration": 5,
    "start_time": "2022-04-17T00:30:57.951Z"
   },
   {
    "duration": 3,
    "start_time": "2022-04-17T00:30:59.322Z"
   },
   {
    "duration": 6,
    "start_time": "2022-04-17T00:30:59.867Z"
   },
   {
    "duration": 4,
    "start_time": "2022-04-17T00:31:01.168Z"
   },
   {
    "duration": 5,
    "start_time": "2022-04-17T00:31:01.641Z"
   },
   {
    "duration": 9,
    "start_time": "2022-04-17T00:31:03.105Z"
   },
   {
    "duration": 4,
    "start_time": "2022-04-17T00:31:05.944Z"
   },
   {
    "duration": 5,
    "start_time": "2022-04-17T00:31:07.969Z"
   },
   {
    "duration": 128,
    "start_time": "2022-04-17T00:31:09.306Z"
   },
   {
    "duration": 23,
    "start_time": "2022-04-17T00:31:09.762Z"
   },
   {
    "duration": 7,
    "start_time": "2022-04-17T00:31:14.384Z"
   },
   {
    "duration": 6,
    "start_time": "2022-04-17T00:31:14.925Z"
   },
   {
    "duration": 3,
    "start_time": "2022-04-17T00:31:17.661Z"
   },
   {
    "duration": 11,
    "start_time": "2022-04-17T00:31:18.156Z"
   },
   {
    "duration": 4,
    "start_time": "2022-04-17T00:31:19.627Z"
   },
   {
    "duration": 14,
    "start_time": "2022-04-17T00:31:19.957Z"
   },
   {
    "duration": 9,
    "start_time": "2022-04-17T00:31:21.400Z"
   },
   {
    "duration": 22,
    "start_time": "2022-04-17T00:31:21.949Z"
   },
   {
    "duration": 66,
    "start_time": "2022-04-17T00:31:49.429Z"
   },
   {
    "duration": 15,
    "start_time": "2022-04-17T00:32:16.625Z"
   },
   {
    "duration": 12,
    "start_time": "2022-04-17T00:32:17.904Z"
   },
   {
    "duration": 22,
    "start_time": "2022-04-17T00:32:21.300Z"
   },
   {
    "duration": 6,
    "start_time": "2022-04-17T00:32:23.320Z"
   },
   {
    "duration": 14,
    "start_time": "2022-04-17T00:32:23.702Z"
   },
   {
    "duration": 16,
    "start_time": "2022-04-17T00:32:24.128Z"
   },
   {
    "duration": 12,
    "start_time": "2022-04-17T00:32:25.119Z"
   },
   {
    "duration": 21,
    "start_time": "2022-04-17T00:32:26.591Z"
   },
   {
    "duration": 41,
    "start_time": "2022-04-17T00:32:30.998Z"
   },
   {
    "duration": 5,
    "start_time": "2022-04-17T00:32:31.681Z"
   },
   {
    "duration": 4,
    "start_time": "2022-04-17T00:32:32.026Z"
   },
   {
    "duration": 6,
    "start_time": "2022-04-17T00:32:32.440Z"
   },
   {
    "duration": 24,
    "start_time": "2022-04-17T00:32:33.491Z"
   },
   {
    "duration": 5,
    "start_time": "2022-04-17T00:32:33.875Z"
   },
   {
    "duration": 23,
    "start_time": "2022-04-17T00:32:35.259Z"
   },
   {
    "duration": 16,
    "start_time": "2022-04-17T00:32:35.444Z"
   },
   {
    "duration": 713,
    "start_time": "2022-04-17T00:32:39.470Z"
   },
   {
    "duration": 12,
    "start_time": "2022-04-17T00:32:45.499Z"
   },
   {
    "duration": 4,
    "start_time": "2022-04-17T00:32:46.999Z"
   },
   {
    "duration": 49,
    "start_time": "2022-04-17T00:32:47.807Z"
   },
   {
    "duration": 16,
    "start_time": "2022-04-17T00:32:48.767Z"
   },
   {
    "duration": 130,
    "start_time": "2022-04-17T00:32:51.376Z"
   },
   {
    "duration": 8,
    "start_time": "2022-04-17T00:32:52.506Z"
   },
   {
    "duration": 115,
    "start_time": "2022-04-17T00:32:53.508Z"
   },
   {
    "duration": 8,
    "start_time": "2022-04-17T00:32:54.191Z"
   },
   {
    "duration": 121,
    "start_time": "2022-04-17T00:32:55.365Z"
   },
   {
    "duration": 9,
    "start_time": "2022-04-17T00:32:55.866Z"
   },
   {
    "duration": 9,
    "start_time": "2022-04-17T00:32:57.492Z"
   },
   {
    "duration": 115,
    "start_time": "2022-04-17T00:32:58.698Z"
   },
   {
    "duration": 35,
    "start_time": "2022-04-17T00:33:16.650Z"
   },
   {
    "duration": 157,
    "start_time": "2022-04-17T00:33:19.320Z"
   },
   {
    "duration": 19,
    "start_time": "2022-04-17T00:33:26.046Z"
   },
   {
    "duration": 9,
    "start_time": "2022-04-17T00:33:27.243Z"
   },
   {
    "duration": 9,
    "start_time": "2022-04-17T00:33:28.562Z"
   },
   {
    "duration": 7,
    "start_time": "2022-04-17T00:33:32.327Z"
   },
   {
    "duration": 18,
    "start_time": "2022-04-17T00:34:13.965Z"
   },
   {
    "duration": 8,
    "start_time": "2022-04-17T00:34:25.861Z"
   },
   {
    "duration": 6,
    "start_time": "2022-04-17T00:34:35.192Z"
   },
   {
    "duration": 1290,
    "start_time": "2022-04-17T00:35:27.844Z"
   },
   {
    "duration": 1245,
    "start_time": "2022-04-17T00:35:47.544Z"
   },
   {
    "duration": 1363,
    "start_time": "2022-04-17T00:35:56.977Z"
   },
   {
    "duration": 1791,
    "start_time": "2022-04-17T00:36:12.400Z"
   },
   {
    "duration": 1251,
    "start_time": "2022-04-17T00:36:24.832Z"
   },
   {
    "duration": 1380,
    "start_time": "2022-04-17T00:36:29.585Z"
   },
   {
    "duration": 8,
    "start_time": "2022-04-17T00:37:31.664Z"
   },
   {
    "duration": 9,
    "start_time": "2022-04-17T00:37:35.574Z"
   },
   {
    "duration": 9,
    "start_time": "2022-04-17T00:37:40.148Z"
   },
   {
    "duration": 2,
    "start_time": "2022-04-17T00:38:16.181Z"
   },
   {
    "duration": 19,
    "start_time": "2022-04-17T00:44:15.507Z"
   },
   {
    "duration": 8,
    "start_time": "2022-04-17T00:44:17.030Z"
   },
   {
    "duration": 9,
    "start_time": "2022-04-17T00:44:18.547Z"
   },
   {
    "duration": 16,
    "start_time": "2022-04-17T00:44:30.641Z"
   },
   {
    "duration": 8,
    "start_time": "2022-04-17T00:44:33.100Z"
   },
   {
    "duration": 7,
    "start_time": "2022-04-17T00:44:38.402Z"
   },
   {
    "duration": 8,
    "start_time": "2022-04-17T00:45:05.538Z"
   },
   {
    "duration": 1245,
    "start_time": "2022-04-17T00:45:07.376Z"
   },
   {
    "duration": 887,
    "start_time": "2022-04-17T13:07:24.831Z"
   },
   {
    "duration": 232,
    "start_time": "2022-04-17T13:07:25.721Z"
   },
   {
    "duration": 46,
    "start_time": "2022-04-17T13:07:25.955Z"
   },
   {
    "duration": 36,
    "start_time": "2022-04-17T13:07:26.004Z"
   },
   {
    "duration": 5,
    "start_time": "2022-04-17T13:07:26.045Z"
   },
   {
    "duration": 1163,
    "start_time": "2022-04-17T13:07:26.055Z"
   },
   {
    "duration": 11,
    "start_time": "2022-04-17T13:07:27.220Z"
   },
   {
    "duration": 5,
    "start_time": "2022-04-17T13:07:27.234Z"
   },
   {
    "duration": 5,
    "start_time": "2022-04-17T13:07:27.241Z"
   },
   {
    "duration": 9,
    "start_time": "2022-04-17T13:07:27.248Z"
   },
   {
    "duration": 41,
    "start_time": "2022-04-17T13:07:27.259Z"
   },
   {
    "duration": 19,
    "start_time": "2022-04-17T13:07:27.302Z"
   },
   {
    "duration": 7,
    "start_time": "2022-04-17T13:07:27.323Z"
   },
   {
    "duration": 9,
    "start_time": "2022-04-17T13:07:27.333Z"
   },
   {
    "duration": 10,
    "start_time": "2022-04-17T13:07:27.344Z"
   },
   {
    "duration": 9,
    "start_time": "2022-04-17T13:07:27.357Z"
   },
   {
    "duration": 16,
    "start_time": "2022-04-17T13:07:27.394Z"
   },
   {
    "duration": 264,
    "start_time": "2022-04-17T13:07:27.413Z"
   },
   {
    "duration": 46,
    "start_time": "2022-04-17T13:07:27.679Z"
   },
   {
    "duration": 8,
    "start_time": "2022-04-17T13:07:27.727Z"
   },
   {
    "duration": 9,
    "start_time": "2022-04-17T13:07:27.737Z"
   },
   {
    "duration": 9,
    "start_time": "2022-04-17T13:07:27.748Z"
   },
   {
    "duration": 54,
    "start_time": "2022-04-17T13:07:27.759Z"
   },
   {
    "duration": 6,
    "start_time": "2022-04-17T13:07:27.816Z"
   },
   {
    "duration": 23,
    "start_time": "2022-04-17T13:07:27.823Z"
   },
   {
    "duration": 16,
    "start_time": "2022-04-17T13:07:27.848Z"
   },
   {
    "duration": 54,
    "start_time": "2022-04-17T13:07:27.867Z"
   },
   {
    "duration": 6,
    "start_time": "2022-04-17T13:07:27.923Z"
   },
   {
    "duration": 17,
    "start_time": "2022-04-17T13:07:27.931Z"
   },
   {
    "duration": 44,
    "start_time": "2022-04-17T13:07:27.950Z"
   },
   {
    "duration": 21,
    "start_time": "2022-04-17T13:07:27.997Z"
   },
   {
    "duration": 26,
    "start_time": "2022-04-17T13:07:28.021Z"
   },
   {
    "duration": 73,
    "start_time": "2022-04-17T13:07:28.049Z"
   },
   {
    "duration": 8,
    "start_time": "2022-04-17T13:07:28.125Z"
   },
   {
    "duration": 8,
    "start_time": "2022-04-17T13:07:28.136Z"
   },
   {
    "duration": 9,
    "start_time": "2022-04-17T13:07:28.146Z"
   },
   {
    "duration": 64,
    "start_time": "2022-04-17T13:07:28.158Z"
   },
   {
    "duration": 10,
    "start_time": "2022-04-17T13:07:28.225Z"
   },
   {
    "duration": 69,
    "start_time": "2022-04-17T13:07:28.237Z"
   },
   {
    "duration": 34,
    "start_time": "2022-04-17T13:07:28.309Z"
   },
   {
    "duration": 1343,
    "start_time": "2022-04-17T13:07:28.349Z"
   },
   {
    "duration": 15,
    "start_time": "2022-04-17T13:07:29.694Z"
   },
   {
    "duration": 13,
    "start_time": "2022-04-17T13:07:29.712Z"
   },
   {
    "duration": 143,
    "start_time": "2022-04-17T13:07:29.727Z"
   },
   {
    "duration": 35,
    "start_time": "2022-04-17T13:07:29.872Z"
   },
   {
    "duration": 244,
    "start_time": "2022-04-17T13:07:29.909Z"
   },
   {
    "duration": 12,
    "start_time": "2022-04-17T13:07:30.156Z"
   },
   {
    "duration": 177,
    "start_time": "2022-04-17T13:07:30.170Z"
   },
   {
    "duration": 11,
    "start_time": "2022-04-17T13:07:30.349Z"
   },
   {
    "duration": 193,
    "start_time": "2022-04-17T13:07:30.362Z"
   },
   {
    "duration": 10,
    "start_time": "2022-04-17T13:07:30.557Z"
   },
   {
    "duration": 41,
    "start_time": "2022-04-17T13:07:30.570Z"
   },
   {
    "duration": 228,
    "start_time": "2022-04-17T13:07:30.614Z"
   },
   {
    "duration": 61,
    "start_time": "2022-04-17T13:07:30.844Z"
   },
   {
    "duration": 296,
    "start_time": "2022-04-17T13:07:30.907Z"
   },
   {
    "duration": 44,
    "start_time": "2022-04-17T13:07:31.206Z"
   },
   {
    "duration": 16,
    "start_time": "2022-04-17T13:07:31.253Z"
   },
   {
    "duration": 38,
    "start_time": "2022-04-17T13:07:31.271Z"
   },
   {
    "duration": 28,
    "start_time": "2022-04-17T13:07:31.311Z"
   },
   {
    "duration": 27,
    "start_time": "2022-04-17T13:07:31.341Z"
   },
   {
    "duration": 2127,
    "start_time": "2022-04-17T13:07:31.370Z"
   },
   {
    "duration": 16,
    "start_time": "2022-04-17T13:07:33.500Z"
   },
   {
    "duration": 16,
    "start_time": "2022-04-17T13:07:33.519Z"
   },
   {
    "duration": 137,
    "start_time": "2022-04-17T13:19:03.421Z"
   },
   {
    "duration": 739,
    "start_time": "2022-04-17T13:19:08.353Z"
   },
   {
    "duration": 101,
    "start_time": "2022-04-17T13:19:13.422Z"
   },
   {
    "duration": 29,
    "start_time": "2022-04-17T13:19:25.820Z"
   },
   {
    "duration": 22,
    "start_time": "2022-04-17T13:19:26.054Z"
   },
   {
    "duration": 5,
    "start_time": "2022-04-17T13:20:18.790Z"
   },
   {
    "duration": 1561,
    "start_time": "2022-04-17T13:20:19.162Z"
   },
   {
    "duration": 12,
    "start_time": "2022-04-17T13:23:01.017Z"
   },
   {
    "duration": 7,
    "start_time": "2022-04-17T13:23:01.372Z"
   },
   {
    "duration": 1041,
    "start_time": "2022-04-17T13:24:38.451Z"
   },
   {
    "duration": 737,
    "start_time": "2022-04-17T13:24:53.978Z"
   },
   {
    "duration": 146,
    "start_time": "2022-04-17T13:24:54.742Z"
   },
   {
    "duration": 29,
    "start_time": "2022-04-17T13:24:57.551Z"
   },
   {
    "duration": 21,
    "start_time": "2022-04-17T13:24:57.715Z"
   },
   {
    "duration": 5,
    "start_time": "2022-04-17T13:25:01.286Z"
   },
   {
    "duration": 1106,
    "start_time": "2022-04-17T13:25:01.625Z"
   },
   {
    "duration": 15,
    "start_time": "2022-04-17T13:25:03.974Z"
   },
   {
    "duration": 7,
    "start_time": "2022-04-17T13:25:04.548Z"
   },
   {
    "duration": 4,
    "start_time": "2022-04-17T13:26:13.765Z"
   },
   {
    "duration": 5,
    "start_time": "2022-04-17T13:26:14.180Z"
   },
   {
    "duration": 4,
    "start_time": "2022-04-17T13:26:16.230Z"
   },
   {
    "duration": 7,
    "start_time": "2022-04-17T13:26:16.599Z"
   },
   {
    "duration": 6,
    "start_time": "2022-04-17T13:28:02.235Z"
   },
   {
    "duration": 7,
    "start_time": "2022-04-17T13:28:02.944Z"
   },
   {
    "duration": 14,
    "start_time": "2022-04-17T13:28:05.482Z"
   },
   {
    "duration": 6,
    "start_time": "2022-04-17T13:28:06.134Z"
   },
   {
    "duration": 6,
    "start_time": "2022-04-17T13:28:29.280Z"
   },
   {
    "duration": 172,
    "start_time": "2022-04-17T13:28:29.863Z"
   },
   {
    "duration": 31,
    "start_time": "2022-04-17T13:28:31.771Z"
   },
   {
    "duration": 7,
    "start_time": "2022-04-17T13:28:47.932Z"
   },
   {
    "duration": 7,
    "start_time": "2022-04-17T13:28:48.271Z"
   },
   {
    "duration": 4,
    "start_time": "2022-04-17T13:29:58.189Z"
   },
   {
    "duration": 20,
    "start_time": "2022-04-17T13:30:03.063Z"
   },
   {
    "duration": 5,
    "start_time": "2022-04-17T13:30:06.769Z"
   },
   {
    "duration": 16,
    "start_time": "2022-04-17T13:30:07.424Z"
   },
   {
    "duration": 10,
    "start_time": "2022-04-17T13:30:36.214Z"
   },
   {
    "duration": 42,
    "start_time": "2022-04-17T13:30:36.582Z"
   },
   {
    "duration": 18,
    "start_time": "2022-04-17T13:31:59.800Z"
   },
   {
    "duration": 35,
    "start_time": "2022-04-17T13:32:06.110Z"
   },
   {
    "duration": 771,
    "start_time": "2022-04-17T13:32:20.311Z"
   },
   {
    "duration": 112,
    "start_time": "2022-04-17T13:32:21.084Z"
   },
   {
    "duration": 31,
    "start_time": "2022-04-17T13:32:21.432Z"
   },
   {
    "duration": 26,
    "start_time": "2022-04-17T13:32:21.628Z"
   },
   {
    "duration": 14,
    "start_time": "2022-04-17T13:32:22.997Z"
   },
   {
    "duration": 1765,
    "start_time": "2022-04-17T13:32:23.159Z"
   },
   {
    "duration": 16,
    "start_time": "2022-04-17T13:32:24.926Z"
   },
   {
    "duration": 6,
    "start_time": "2022-04-17T13:32:24.945Z"
   },
   {
    "duration": 13,
    "start_time": "2022-04-17T13:32:24.954Z"
   },
   {
    "duration": 31,
    "start_time": "2022-04-17T13:32:24.969Z"
   },
   {
    "duration": 25,
    "start_time": "2022-04-17T13:32:25.002Z"
   },
   {
    "duration": 10,
    "start_time": "2022-04-17T13:32:25.030Z"
   },
   {
    "duration": 4,
    "start_time": "2022-04-17T13:32:25.366Z"
   },
   {
    "duration": 7,
    "start_time": "2022-04-17T13:32:25.520Z"
   },
   {
    "duration": 11,
    "start_time": "2022-04-17T13:32:25.838Z"
   },
   {
    "duration": 5,
    "start_time": "2022-04-17T13:32:25.960Z"
   },
   {
    "duration": 9,
    "start_time": "2022-04-17T13:32:26.447Z"
   },
   {
    "duration": 170,
    "start_time": "2022-04-17T13:32:26.616Z"
   },
   {
    "duration": 34,
    "start_time": "2022-04-17T13:32:26.913Z"
   },
   {
    "duration": 7,
    "start_time": "2022-04-17T13:32:27.742Z"
   },
   {
    "duration": 10,
    "start_time": "2022-04-17T13:32:27.922Z"
   },
   {
    "duration": 6,
    "start_time": "2022-04-17T13:32:30.073Z"
   },
   {
    "duration": 19,
    "start_time": "2022-04-17T13:32:31.343Z"
   },
   {
    "duration": 7,
    "start_time": "2022-04-17T13:32:33.013Z"
   },
   {
    "duration": 34,
    "start_time": "2022-04-17T13:32:33.674Z"
   },
   {
    "duration": 21,
    "start_time": "2022-04-17T13:32:35.434Z"
   },
   {
    "duration": 10,
    "start_time": "2022-04-17T13:35:39.032Z"
   },
   {
    "duration": 45,
    "start_time": "2022-04-17T13:35:39.467Z"
   },
   {
    "duration": 11,
    "start_time": "2022-04-17T13:36:07.337Z"
   },
   {
    "duration": 22,
    "start_time": "2022-04-17T13:36:07.739Z"
   },
   {
    "duration": 24,
    "start_time": "2022-04-17T13:36:08.174Z"
   },
   {
    "duration": 23,
    "start_time": "2022-04-17T13:36:08.552Z"
   },
   {
    "duration": 44,
    "start_time": "2022-04-17T13:36:09.003Z"
   },
   {
    "duration": 59,
    "start_time": "2022-04-17T13:37:25.878Z"
   },
   {
    "duration": 10,
    "start_time": "2022-04-17T13:37:37.310Z"
   },
   {
    "duration": 4,
    "start_time": "2022-04-17T13:37:40.454Z"
   },
   {
    "duration": 7,
    "start_time": "2022-04-17T13:37:49.083Z"
   },
   {
    "duration": 9,
    "start_time": "2022-04-17T13:39:35.347Z"
   },
   {
    "duration": 8,
    "start_time": "2022-04-17T13:39:47.651Z"
   },
   {
    "duration": 37,
    "start_time": "2022-04-17T13:39:55.169Z"
   },
   {
    "duration": 18,
    "start_time": "2022-04-17T13:39:59.561Z"
   },
   {
    "duration": 16,
    "start_time": "2022-04-17T13:55:43.189Z"
   },
   {
    "duration": 28,
    "start_time": "2022-04-17T13:57:13.267Z"
   },
   {
    "duration": 5,
    "start_time": "2022-04-17T13:57:13.623Z"
   },
   {
    "duration": 32,
    "start_time": "2022-04-17T13:57:16.992Z"
   },
   {
    "duration": 18,
    "start_time": "2022-04-17T13:57:17.328Z"
   },
   {
    "duration": 824,
    "start_time": "2022-04-17T13:57:39.864Z"
   },
   {
    "duration": 14,
    "start_time": "2022-04-17T13:59:21.816Z"
   },
   {
    "duration": 4,
    "start_time": "2022-04-17T13:59:22.770Z"
   },
   {
    "duration": 116,
    "start_time": "2022-04-17T13:59:24.114Z"
   },
   {
    "duration": 25,
    "start_time": "2022-04-17T13:59:25.497Z"
   },
   {
    "duration": 161,
    "start_time": "2022-04-17T13:59:58.190Z"
   },
   {
    "duration": 10,
    "start_time": "2022-04-17T13:59:59.417Z"
   },
   {
    "duration": 146,
    "start_time": "2022-04-17T14:00:01.270Z"
   },
   {
    "duration": 12,
    "start_time": "2022-04-17T14:00:02.126Z"
   },
   {
    "duration": 147,
    "start_time": "2022-04-17T14:00:03.839Z"
   },
   {
    "duration": 11,
    "start_time": "2022-04-17T14:00:04.731Z"
   },
   {
    "duration": 10,
    "start_time": "2022-04-17T14:02:09.549Z"
   },
   {
    "duration": 139,
    "start_time": "2022-04-17T14:02:11.107Z"
   },
   {
    "duration": 35,
    "start_time": "2022-04-17T14:03:11.712Z"
   },
   {
    "duration": 275,
    "start_time": "2022-04-17T14:03:12.074Z"
   },
   {
    "duration": 34,
    "start_time": "2022-04-17T14:05:40.076Z"
   },
   {
    "duration": 12,
    "start_time": "2022-04-17T14:05:40.373Z"
   },
   {
    "duration": 11,
    "start_time": "2022-04-17T14:05:40.906Z"
   },
   {
    "duration": 9,
    "start_time": "2022-04-17T14:05:45.863Z"
   },
   {
    "duration": 11,
    "start_time": "2022-04-17T14:05:52.527Z"
   },
   {
    "duration": 1900,
    "start_time": "2022-04-17T14:06:03.539Z"
   },
   {
    "duration": 11,
    "start_time": "2022-04-17T14:07:36.522Z"
   },
   {
    "duration": 15,
    "start_time": "2022-04-17T14:07:36.803Z"
   },
   {
    "duration": 818,
    "start_time": "2022-04-17T16:15:59.581Z"
   },
   {
    "duration": 86,
    "start_time": "2022-04-17T16:16:23.005Z"
   },
   {
    "duration": 26,
    "start_time": "2022-04-17T16:17:14.147Z"
   },
   {
    "duration": 21,
    "start_time": "2022-04-17T16:17:15.824Z"
   },
   {
    "duration": 4,
    "start_time": "2022-04-17T16:17:20.867Z"
   },
   {
    "duration": 997,
    "start_time": "2022-04-17T16:17:22.106Z"
   },
   {
    "duration": 961,
    "start_time": "2022-04-17T16:18:23.758Z"
   },
   {
    "duration": 15,
    "start_time": "2022-04-17T16:18:46.332Z"
   },
   {
    "duration": 4,
    "start_time": "2022-04-17T16:18:46.882Z"
   },
   {
    "duration": 4,
    "start_time": "2022-04-17T16:18:59.033Z"
   },
   {
    "duration": 6,
    "start_time": "2022-04-17T16:18:59.466Z"
   },
   {
    "duration": 4,
    "start_time": "2022-04-17T16:19:00.705Z"
   },
   {
    "duration": 5,
    "start_time": "2022-04-17T16:19:01.246Z"
   },
   {
    "duration": 3,
    "start_time": "2022-04-17T16:19:02.991Z"
   },
   {
    "duration": 6,
    "start_time": "2022-04-17T16:19:03.888Z"
   },
   {
    "duration": 10,
    "start_time": "2022-04-17T16:19:05.406Z"
   },
   {
    "duration": 5,
    "start_time": "2022-04-17T16:19:05.730Z"
   },
   {
    "duration": 6,
    "start_time": "2022-04-17T16:19:11.898Z"
   },
   {
    "duration": 210,
    "start_time": "2022-04-17T16:19:56.621Z"
   },
   {
    "duration": 29,
    "start_time": "2022-04-17T16:20:13.255Z"
   },
   {
    "duration": 6,
    "start_time": "2022-04-17T16:20:15.834Z"
   },
   {
    "duration": 6,
    "start_time": "2022-04-17T16:20:16.811Z"
   },
   {
    "duration": 4,
    "start_time": "2022-04-17T16:20:20.679Z"
   },
   {
    "duration": 13,
    "start_time": "2022-04-17T16:20:23.314Z"
   },
   {
    "duration": 4,
    "start_time": "2022-04-17T16:20:24.786Z"
   },
   {
    "duration": 15,
    "start_time": "2022-04-17T16:20:26.240Z"
   },
   {
    "duration": 9,
    "start_time": "2022-04-17T16:22:01.588Z"
   },
   {
    "duration": 37,
    "start_time": "2022-04-17T16:22:02.104Z"
   },
   {
    "duration": 6,
    "start_time": "2022-04-17T16:22:06.617Z"
   },
   {
    "duration": 15,
    "start_time": "2022-04-17T16:22:07.227Z"
   },
   {
    "duration": 18,
    "start_time": "2022-04-17T16:22:07.683Z"
   },
   {
    "duration": 12,
    "start_time": "2022-04-17T16:22:08.279Z"
   },
   {
    "duration": 23,
    "start_time": "2022-04-17T16:22:09.768Z"
   },
   {
    "duration": 39,
    "start_time": "2022-04-17T16:22:29.826Z"
   },
   {
    "duration": 7,
    "start_time": "2022-04-17T16:23:25.915Z"
   },
   {
    "duration": 4,
    "start_time": "2022-04-17T16:23:27.323Z"
   },
   {
    "duration": 31,
    "start_time": "2022-04-17T16:23:32.472Z"
   },
   {
    "duration": 9,
    "start_time": "2022-04-17T16:23:55.641Z"
   },
   {
    "duration": 5,
    "start_time": "2022-04-17T16:24:05.424Z"
   },
   {
    "duration": 10,
    "start_time": "2022-04-17T16:24:14.323Z"
   },
   {
    "duration": 9,
    "start_time": "2022-04-17T16:24:22.040Z"
   },
   {
    "duration": 13,
    "start_time": "2022-04-17T16:27:25.712Z"
   },
   {
    "duration": 27,
    "start_time": "2022-04-17T16:27:30.420Z"
   },
   {
    "duration": 6,
    "start_time": "2022-04-17T16:27:32.238Z"
   },
   {
    "duration": 24,
    "start_time": "2022-04-17T16:27:36.617Z"
   },
   {
    "duration": 17,
    "start_time": "2022-04-17T16:27:37.995Z"
   },
   {
    "duration": 748,
    "start_time": "2022-04-17T16:27:56.737Z"
   },
   {
    "duration": 859,
    "start_time": "2022-04-17T16:28:29.664Z"
   },
   {
    "duration": 13,
    "start_time": "2022-04-17T16:28:41.396Z"
   },
   {
    "duration": 4,
    "start_time": "2022-04-17T16:28:41.835Z"
   },
   {
    "duration": 173,
    "start_time": "2022-04-17T16:28:42.672Z"
   },
   {
    "duration": 18,
    "start_time": "2022-04-17T16:28:43.117Z"
   },
   {
    "duration": 142,
    "start_time": "2022-04-17T16:28:48.447Z"
   },
   {
    "duration": 150,
    "start_time": "2022-04-17T16:29:51.113Z"
   },
   {
    "duration": 161,
    "start_time": "2022-04-17T16:30:32.354Z"
   },
   {
    "duration": 9,
    "start_time": "2022-04-17T16:30:41.148Z"
   },
   {
    "duration": 94,
    "start_time": "2022-04-17T16:30:52.736Z"
   },
   {
    "duration": 148,
    "start_time": "2022-04-17T16:30:58.485Z"
   },
   {
    "duration": 9,
    "start_time": "2022-04-17T16:31:02.454Z"
   },
   {
    "duration": 150,
    "start_time": "2022-04-17T16:31:23.644Z"
   },
   {
    "duration": 9,
    "start_time": "2022-04-17T16:31:25.997Z"
   },
   {
    "duration": 8,
    "start_time": "2022-04-17T16:31:35.605Z"
   },
   {
    "duration": 112,
    "start_time": "2022-04-17T16:31:57.287Z"
   },
   {
    "duration": 121,
    "start_time": "2022-04-17T16:32:02.719Z"
   },
   {
    "duration": 149,
    "start_time": "2022-04-17T16:32:27.423Z"
   },
   {
    "duration": 141,
    "start_time": "2022-04-17T16:32:48.582Z"
   },
   {
    "duration": 142,
    "start_time": "2022-04-17T16:33:00.931Z"
   },
   {
    "duration": 67,
    "start_time": "2022-04-17T16:33:09.856Z"
   },
   {
    "duration": 64,
    "start_time": "2022-04-17T16:33:12.782Z"
   },
   {
    "duration": 150,
    "start_time": "2022-04-17T16:33:17.083Z"
   },
   {
    "duration": 227,
    "start_time": "2022-04-17T16:34:15.939Z"
   },
   {
    "duration": 158,
    "start_time": "2022-04-17T16:34:20.973Z"
   },
   {
    "duration": 135,
    "start_time": "2022-04-17T16:34:44.819Z"
   },
   {
    "duration": 137,
    "start_time": "2022-04-17T16:34:56.868Z"
   },
   {
    "duration": 146,
    "start_time": "2022-04-17T16:35:08.389Z"
   },
   {
    "duration": 141,
    "start_time": "2022-04-17T16:35:12.471Z"
   },
   {
    "duration": 35,
    "start_time": "2022-04-17T16:36:14.727Z"
   },
   {
    "duration": 194,
    "start_time": "2022-04-17T16:36:15.236Z"
   },
   {
    "duration": 25,
    "start_time": "2022-04-17T16:36:28.768Z"
   },
   {
    "duration": 13,
    "start_time": "2022-04-17T16:36:29.199Z"
   },
   {
    "duration": 13,
    "start_time": "2022-04-17T16:36:30.623Z"
   },
   {
    "duration": 10,
    "start_time": "2022-04-17T16:36:34.626Z"
   },
   {
    "duration": 9,
    "start_time": "2022-04-17T16:36:39.173Z"
   },
   {
    "duration": 1540,
    "start_time": "2022-04-17T16:36:40.233Z"
   },
   {
    "duration": 9,
    "start_time": "2022-04-17T16:36:46.721Z"
   },
   {
    "duration": 10,
    "start_time": "2022-04-17T16:36:47.188Z"
   },
   {
    "duration": 688,
    "start_time": "2022-04-17T16:38:34.385Z"
   },
   {
    "duration": 86,
    "start_time": "2022-04-17T16:38:35.075Z"
   },
   {
    "duration": 25,
    "start_time": "2022-04-17T16:38:35.163Z"
   },
   {
    "duration": 32,
    "start_time": "2022-04-17T16:38:35.190Z"
   },
   {
    "duration": 4,
    "start_time": "2022-04-17T16:38:35.224Z"
   },
   {
    "duration": 1011,
    "start_time": "2022-04-17T16:38:35.230Z"
   },
   {
    "duration": 9,
    "start_time": "2022-04-17T16:38:36.243Z"
   },
   {
    "duration": 5,
    "start_time": "2022-04-17T16:38:36.254Z"
   },
   {
    "duration": 6,
    "start_time": "2022-04-17T16:38:36.260Z"
   },
   {
    "duration": 6,
    "start_time": "2022-04-17T16:38:36.268Z"
   },
   {
    "duration": 4,
    "start_time": "2022-04-17T16:38:36.276Z"
   },
   {
    "duration": 33,
    "start_time": "2022-04-17T16:38:36.281Z"
   },
   {
    "duration": 4,
    "start_time": "2022-04-17T16:38:36.316Z"
   },
   {
    "duration": 6,
    "start_time": "2022-04-17T16:38:36.323Z"
   },
   {
    "duration": 10,
    "start_time": "2022-04-17T16:38:36.331Z"
   },
   {
    "duration": 4,
    "start_time": "2022-04-17T16:38:36.343Z"
   },
   {
    "duration": 6,
    "start_time": "2022-04-17T16:38:36.349Z"
   },
   {
    "duration": 209,
    "start_time": "2022-04-17T16:38:36.357Z"
   },
   {
    "duration": 28,
    "start_time": "2022-04-17T16:38:36.568Z"
   },
   {
    "duration": 6,
    "start_time": "2022-04-17T16:38:36.607Z"
   },
   {
    "duration": 12,
    "start_time": "2022-04-17T16:38:36.615Z"
   },
   {
    "duration": 8,
    "start_time": "2022-04-17T16:38:36.629Z"
   },
   {
    "duration": 18,
    "start_time": "2022-04-17T16:38:36.638Z"
   },
   {
    "duration": 4,
    "start_time": "2022-04-17T16:38:36.658Z"
   },
   {
    "duration": 17,
    "start_time": "2022-04-17T16:38:36.664Z"
   },
   {
    "duration": 35,
    "start_time": "2022-04-17T16:38:36.682Z"
   },
   {
    "duration": 74,
    "start_time": "2022-04-17T16:38:36.719Z"
   },
   {
    "duration": 6,
    "start_time": "2022-04-17T16:38:36.807Z"
   },
   {
    "duration": 16,
    "start_time": "2022-04-17T16:38:36.815Z"
   },
   {
    "duration": 17,
    "start_time": "2022-04-17T16:38:36.833Z"
   },
   {
    "duration": 13,
    "start_time": "2022-04-17T16:38:36.852Z"
   },
   {
    "duration": 51,
    "start_time": "2022-04-17T16:38:36.867Z"
   },
   {
    "duration": 43,
    "start_time": "2022-04-17T16:38:36.920Z"
   },
   {
    "duration": 7,
    "start_time": "2022-04-17T16:38:36.965Z"
   },
   {
    "duration": 8,
    "start_time": "2022-04-17T16:38:36.973Z"
   },
   {
    "duration": 50,
    "start_time": "2022-04-17T16:38:36.983Z"
   },
   {
    "duration": 29,
    "start_time": "2022-04-17T16:38:37.035Z"
   },
   {
    "duration": 6,
    "start_time": "2022-04-17T16:38:37.066Z"
   },
   {
    "duration": 51,
    "start_time": "2022-04-17T16:38:37.074Z"
   },
   {
    "duration": 17,
    "start_time": "2022-04-17T16:38:37.127Z"
   },
   {
    "duration": 824,
    "start_time": "2022-04-17T16:38:37.148Z"
   },
   {
    "duration": 12,
    "start_time": "2022-04-17T16:38:37.974Z"
   },
   {
    "duration": 3,
    "start_time": "2022-04-17T16:38:37.988Z"
   },
   {
    "duration": 111,
    "start_time": "2022-04-17T16:38:38.008Z"
   },
   {
    "duration": 19,
    "start_time": "2022-04-17T16:38:38.120Z"
   },
   {
    "duration": 168,
    "start_time": "2022-04-17T16:38:38.141Z"
   },
   {
    "duration": 9,
    "start_time": "2022-04-17T16:38:38.311Z"
   },
   {
    "duration": 160,
    "start_time": "2022-04-17T16:38:38.321Z"
   },
   {
    "duration": 9,
    "start_time": "2022-04-17T16:38:38.482Z"
   },
   {
    "duration": 159,
    "start_time": "2022-04-17T16:38:38.493Z"
   },
   {
    "duration": 8,
    "start_time": "2022-04-17T16:38:38.654Z"
   },
   {
    "duration": 16,
    "start_time": "2022-04-17T16:38:38.664Z"
   },
   {
    "duration": 161,
    "start_time": "2022-04-17T16:38:38.682Z"
   },
   {
    "duration": 152,
    "start_time": "2022-04-17T16:38:38.844Z"
   },
   {
    "duration": 41,
    "start_time": "2022-04-17T16:38:38.997Z"
   },
   {
    "duration": 204,
    "start_time": "2022-04-17T16:38:39.040Z"
   },
   {
    "duration": 18,
    "start_time": "2022-04-17T16:38:39.246Z"
   },
   {
    "duration": 9,
    "start_time": "2022-04-17T16:38:39.265Z"
   },
   {
    "duration": 10,
    "start_time": "2022-04-17T16:38:39.275Z"
   },
   {
    "duration": 9,
    "start_time": "2022-04-17T16:38:39.306Z"
   },
   {
    "duration": 91,
    "start_time": "2022-04-17T16:38:39.316Z"
   },
   {
    "duration": 1478,
    "start_time": "2022-04-17T16:38:39.409Z"
   },
   {
    "duration": 19,
    "start_time": "2022-04-17T16:38:40.889Z"
   },
   {
    "duration": 9,
    "start_time": "2022-04-17T16:38:40.909Z"
   },
   {
    "duration": 1622,
    "start_time": "2022-04-17T16:39:10.393Z"
   },
   {
    "duration": 984,
    "start_time": "2022-04-17T16:39:55.176Z"
   },
   {
    "duration": 1669,
    "start_time": "2022-04-17T16:40:13.103Z"
   },
   {
    "duration": 1525,
    "start_time": "2022-04-17T16:40:15.467Z"
   },
   {
    "duration": 697,
    "start_time": "2022-04-17T16:40:21.565Z"
   },
   {
    "duration": 91,
    "start_time": "2022-04-17T16:40:22.264Z"
   },
   {
    "duration": 26,
    "start_time": "2022-04-17T16:40:22.357Z"
   },
   {
    "duration": 33,
    "start_time": "2022-04-17T16:40:22.385Z"
   },
   {
    "duration": 4,
    "start_time": "2022-04-17T16:40:22.420Z"
   },
   {
    "duration": 1088,
    "start_time": "2022-04-17T16:40:22.425Z"
   },
   {
    "duration": 10,
    "start_time": "2022-04-17T16:40:23.515Z"
   },
   {
    "duration": 4,
    "start_time": "2022-04-17T16:40:23.527Z"
   },
   {
    "duration": 6,
    "start_time": "2022-04-17T16:40:23.532Z"
   },
   {
    "duration": 4,
    "start_time": "2022-04-17T16:40:23.541Z"
   },
   {
    "duration": 4,
    "start_time": "2022-04-17T16:40:23.547Z"
   },
   {
    "duration": 7,
    "start_time": "2022-04-17T16:40:23.552Z"
   },
   {
    "duration": 4,
    "start_time": "2022-04-17T16:40:23.561Z"
   },
   {
    "duration": 7,
    "start_time": "2022-04-17T16:40:23.607Z"
   },
   {
    "duration": 11,
    "start_time": "2022-04-17T16:40:23.616Z"
   },
   {
    "duration": 5,
    "start_time": "2022-04-17T16:40:23.629Z"
   },
   {
    "duration": 8,
    "start_time": "2022-04-17T16:40:23.636Z"
   },
   {
    "duration": 213,
    "start_time": "2022-04-17T16:40:23.645Z"
   },
   {
    "duration": 57,
    "start_time": "2022-04-17T16:40:23.860Z"
   },
   {
    "duration": 9,
    "start_time": "2022-04-17T16:40:23.919Z"
   },
   {
    "duration": 16,
    "start_time": "2022-04-17T16:40:23.930Z"
   },
   {
    "duration": 5,
    "start_time": "2022-04-17T16:40:23.948Z"
   },
   {
    "duration": 18,
    "start_time": "2022-04-17T16:40:23.955Z"
   },
   {
    "duration": 5,
    "start_time": "2022-04-17T16:40:23.976Z"
   },
   {
    "duration": 24,
    "start_time": "2022-04-17T16:40:24.009Z"
   },
   {
    "duration": 15,
    "start_time": "2022-04-17T16:40:24.035Z"
   },
   {
    "duration": 59,
    "start_time": "2022-04-17T16:40:24.052Z"
   },
   {
    "duration": 7,
    "start_time": "2022-04-17T16:40:24.115Z"
   },
   {
    "duration": 20,
    "start_time": "2022-04-17T16:40:24.124Z"
   },
   {
    "duration": 18,
    "start_time": "2022-04-17T16:40:24.145Z"
   },
   {
    "duration": 18,
    "start_time": "2022-04-17T16:40:24.165Z"
   },
   {
    "duration": 45,
    "start_time": "2022-04-17T16:40:24.185Z"
   },
   {
    "duration": 43,
    "start_time": "2022-04-17T16:40:24.232Z"
   },
   {
    "duration": 7,
    "start_time": "2022-04-17T16:40:24.277Z"
   },
   {
    "duration": 22,
    "start_time": "2022-04-17T16:40:24.285Z"
   },
   {
    "duration": 34,
    "start_time": "2022-04-17T16:40:24.309Z"
   },
   {
    "duration": 29,
    "start_time": "2022-04-17T16:40:24.345Z"
   },
   {
    "duration": 6,
    "start_time": "2022-04-17T16:40:24.376Z"
   },
   {
    "duration": 27,
    "start_time": "2022-04-17T16:40:24.408Z"
   },
   {
    "duration": 18,
    "start_time": "2022-04-17T16:40:24.437Z"
   },
   {
    "duration": 920,
    "start_time": "2022-04-17T16:40:24.457Z"
   },
   {
    "duration": 13,
    "start_time": "2022-04-17T16:40:25.378Z"
   },
   {
    "duration": 15,
    "start_time": "2022-04-17T16:40:25.393Z"
   },
   {
    "duration": 108,
    "start_time": "2022-04-17T16:40:25.410Z"
   },
   {
    "duration": 17,
    "start_time": "2022-04-17T16:40:25.520Z"
   },
   {
    "duration": 177,
    "start_time": "2022-04-17T16:40:25.539Z"
   },
   {
    "duration": 9,
    "start_time": "2022-04-17T16:40:25.717Z"
   },
   {
    "duration": 169,
    "start_time": "2022-04-17T16:40:25.728Z"
   },
   {
    "duration": 16,
    "start_time": "2022-04-17T16:40:25.898Z"
   },
   {
    "duration": 164,
    "start_time": "2022-04-17T16:40:25.916Z"
   },
   {
    "duration": 10,
    "start_time": "2022-04-17T16:40:26.081Z"
   },
   {
    "duration": 20,
    "start_time": "2022-04-17T16:40:26.093Z"
   },
   {
    "duration": 160,
    "start_time": "2022-04-17T16:40:26.114Z"
   },
   {
    "duration": 158,
    "start_time": "2022-04-17T16:40:26.276Z"
   },
   {
    "duration": 34,
    "start_time": "2022-04-17T16:40:26.435Z"
   },
   {
    "duration": 211,
    "start_time": "2022-04-17T16:40:26.470Z"
   },
   {
    "duration": 32,
    "start_time": "2022-04-17T16:40:26.682Z"
   },
   {
    "duration": 11,
    "start_time": "2022-04-17T16:40:26.715Z"
   },
   {
    "duration": 10,
    "start_time": "2022-04-17T16:40:26.728Z"
   },
   {
    "duration": 9,
    "start_time": "2022-04-17T16:40:26.740Z"
   },
   {
    "duration": 12,
    "start_time": "2022-04-17T16:40:26.750Z"
   },
   {
    "duration": 1646,
    "start_time": "2022-04-17T16:40:26.763Z"
   },
   {
    "duration": 10,
    "start_time": "2022-04-17T16:40:28.410Z"
   },
   {
    "duration": 9,
    "start_time": "2022-04-17T16:40:28.422Z"
   },
   {
    "duration": 90,
    "start_time": "2022-04-18T13:43:24.898Z"
   }
  ],
  "kernelspec": {
   "display_name": "Python 3 (ipykernel)",
   "language": "python",
   "name": "python3"
  },
  "language_info": {
   "codemirror_mode": {
    "name": "ipython",
    "version": 3
   },
   "file_extension": ".py",
   "mimetype": "text/x-python",
   "name": "python",
   "nbconvert_exporter": "python",
   "pygments_lexer": "ipython3",
   "version": "3.9.5"
  },
  "toc": {
   "base_numbering": 1,
   "nav_menu": {},
   "number_sections": true,
   "sideBar": true,
   "skip_h1_title": false,
   "title_cell": "Table of Contents",
   "title_sidebar": "Contents",
   "toc_cell": false,
   "toc_position": {
    "height": "calc(100% - 180px)",
    "left": "10px",
    "top": "150px",
    "width": "366.391px"
   },
   "toc_section_display": true,
   "toc_window_display": true
  }
 },
 "nbformat": 4,
 "nbformat_minor": 2
}
